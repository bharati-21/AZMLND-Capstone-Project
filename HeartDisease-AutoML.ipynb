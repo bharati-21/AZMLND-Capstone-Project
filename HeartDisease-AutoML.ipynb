{
 "cells": [
  {
   "cell_type": "markdown",
   "metadata": {},
   "source": [
    "# Automated ML\n",
    "\n",
    "TODO: Import Dependencies. In the cell below, import all the dependencies that you will need to complete the project."
   ]
  },
  {
   "cell_type": "code",
   "execution_count": 1,
   "metadata": {
    "gather": {
     "logged": 1598423888013
    },
    "jupyter": {
     "outputs_hidden": false,
     "source_hidden": false
    },
    "nteract": {
     "transient": {
      "deleting": false
     }
    }
   },
   "outputs": [],
   "source": [
    "from azureml.core import Workspace, Experiment"
   ]
  },
  {
   "cell_type": "markdown",
   "metadata": {},
   "source": [
    "## Dataset\n",
    "\n",
    "### Overview\n",
    "TODO: In this markdown cell, give an overview of the dataset you are using. Also mention the task you will be performing.\n",
    "\n",
    "\n",
    "TODO: Get data. In the cell below, write code to access the data you will be using in this project. Remember that the dataset needs to be external."
   ]
  },
  {
   "cell_type": "code",
   "execution_count": 2,
   "metadata": {
    "gather": {
     "logged": 1598423890461
    },
    "jupyter": {
     "outputs_hidden": false,
     "source_hidden": false
    },
    "nteract": {
     "transient": {
      "deleting": false
     }
    }
   },
   "outputs": [
    {
     "name": "stdout",
     "output_type": "stream",
     "text": [
      "WORKSPACE DETAILS:\n",
      "Workspace name: quick-starts-ws-136928\n",
      "Azure region: southcentralus\n",
      "Subscription id: b968fb36-f06a-4c76-a15f-afab68ae7667\n",
      "Resource group: aml-quickstarts-136928\n",
      "Experiment created\n"
     ]
    }
   ],
   "source": [
    "ws = Workspace.from_config()\n",
    "\n",
    "print('WORKSPACE DETAILS:\\nWorkspace name: ' + ws.name, \n",
    "      'Azure region: ' + ws.location, \n",
    "      'Subscription id: ' + ws.subscription_id, \n",
    "      'Resource group: ' + ws.resource_group, sep = '\\n')\n",
    "\n",
    "# choose a name for experiment\n",
    "experiment_name = 'Heart_Disease_AutoML'\n",
    "\n",
    "experiment=Experiment(ws, experiment_name)\n",
    "print(\"Experiment created\")\n",
    "\n",
    "run = experiment.start_logging()"
   ]
  },
  {
   "cell_type": "code",
   "execution_count": 3,
   "metadata": {},
   "outputs": [
    {
     "name": "stdout",
     "output_type": "stream",
     "text": [
      "Existing compute target found... Using it\n",
      "Succeeded\n",
      "AmlCompute wait for completion finished\n",
      "\n",
      "Minimum number of nodes requested have been provisioned\n"
     ]
    }
   ],
   "source": [
    "from azureml.core.compute import ComputeTarget, AmlCompute\n",
    "from azureml.core.compute_target import ComputeTargetException\n",
    "# Creating a compute cluster\n",
    "# vm_size = \"Standard_D2_V2\"\n",
    "# max_nodes = 4.\n",
    "\n",
    "cpu_cluster_name = \"cpu-cluster\"\n",
    "\n",
    "# to check whether the compute cluster exists already or not\n",
    "try:\n",
    "    cpu_cluster = ComputeTarget(workspace=ws, name=cpu_cluster_name)\n",
    "    print(\"Existing compute target found... Using it\")\n",
    "\n",
    "except ComputeTargetException:\n",
    "    print(\"Creating new Compute Target... \" + cpu_cluster_name)\n",
    "    provisioning_compute_config = AmlCompute.provisioning_configuration(vm_size=\"STANDARD_D2_V2\", max_nodes=4)\n",
    "    cpu_cluster = ComputeTarget.create(ws, cpu_cluster_name, provisioning_compute_config)\n",
    "\n",
    "cpu_cluster.wait_for_completion(show_output=True)"
   ]
  },
  {
   "cell_type": "markdown",
   "metadata": {},
   "source": [
    "## Exploring the Dataset"
   ]
  },
  {
   "cell_type": "code",
   "execution_count": 4,
   "metadata": {},
   "outputs": [],
   "source": [
    "from azureml.data.dataset_factory import TabularDatasetFactory\n",
    "import pandas as pd\n",
    "\n",
    "url_path = \"https://raw.githubusercontent.com/bharati-21/AZMLND-Capstone-Project/master/files/heart.csv\"\n",
    "ds = TabularDatasetFactory.from_delimited_files(path=url_path)\n",
    "\n",
    "df = pd.read_csv(url_path)"
   ]
  },
  {
   "cell_type": "code",
   "execution_count": 5,
   "metadata": {},
   "outputs": [
    {
     "data": {
      "text/html": [
       "<div>\n",
       "<style scoped>\n",
       "    .dataframe tbody tr th:only-of-type {\n",
       "        vertical-align: middle;\n",
       "    }\n",
       "\n",
       "    .dataframe tbody tr th {\n",
       "        vertical-align: top;\n",
       "    }\n",
       "\n",
       "    .dataframe thead th {\n",
       "        text-align: right;\n",
       "    }\n",
       "</style>\n",
       "<table border=\"1\" class=\"dataframe\">\n",
       "  <thead>\n",
       "    <tr style=\"text-align: right;\">\n",
       "      <th></th>\n",
       "      <th>age</th>\n",
       "      <th>sex</th>\n",
       "      <th>cp</th>\n",
       "      <th>trestbps</th>\n",
       "      <th>chol</th>\n",
       "      <th>fbs</th>\n",
       "      <th>restecg</th>\n",
       "      <th>thalach</th>\n",
       "      <th>exang</th>\n",
       "      <th>oldpeak</th>\n",
       "      <th>slope</th>\n",
       "      <th>ca</th>\n",
       "      <th>thal</th>\n",
       "      <th>target</th>\n",
       "    </tr>\n",
       "  </thead>\n",
       "  <tbody>\n",
       "    <tr>\n",
       "      <th>0</th>\n",
       "      <td>63</td>\n",
       "      <td>1</td>\n",
       "      <td>3</td>\n",
       "      <td>145</td>\n",
       "      <td>233</td>\n",
       "      <td>1</td>\n",
       "      <td>0</td>\n",
       "      <td>150</td>\n",
       "      <td>0</td>\n",
       "      <td>2.3</td>\n",
       "      <td>0</td>\n",
       "      <td>0</td>\n",
       "      <td>1</td>\n",
       "      <td>1</td>\n",
       "    </tr>\n",
       "    <tr>\n",
       "      <th>1</th>\n",
       "      <td>37</td>\n",
       "      <td>1</td>\n",
       "      <td>2</td>\n",
       "      <td>130</td>\n",
       "      <td>250</td>\n",
       "      <td>0</td>\n",
       "      <td>1</td>\n",
       "      <td>187</td>\n",
       "      <td>0</td>\n",
       "      <td>3.5</td>\n",
       "      <td>0</td>\n",
       "      <td>0</td>\n",
       "      <td>2</td>\n",
       "      <td>1</td>\n",
       "    </tr>\n",
       "    <tr>\n",
       "      <th>2</th>\n",
       "      <td>41</td>\n",
       "      <td>0</td>\n",
       "      <td>1</td>\n",
       "      <td>130</td>\n",
       "      <td>204</td>\n",
       "      <td>0</td>\n",
       "      <td>0</td>\n",
       "      <td>172</td>\n",
       "      <td>0</td>\n",
       "      <td>1.4</td>\n",
       "      <td>2</td>\n",
       "      <td>0</td>\n",
       "      <td>2</td>\n",
       "      <td>1</td>\n",
       "    </tr>\n",
       "    <tr>\n",
       "      <th>3</th>\n",
       "      <td>56</td>\n",
       "      <td>1</td>\n",
       "      <td>1</td>\n",
       "      <td>120</td>\n",
       "      <td>236</td>\n",
       "      <td>0</td>\n",
       "      <td>1</td>\n",
       "      <td>178</td>\n",
       "      <td>0</td>\n",
       "      <td>0.8</td>\n",
       "      <td>2</td>\n",
       "      <td>0</td>\n",
       "      <td>2</td>\n",
       "      <td>1</td>\n",
       "    </tr>\n",
       "    <tr>\n",
       "      <th>4</th>\n",
       "      <td>57</td>\n",
       "      <td>0</td>\n",
       "      <td>0</td>\n",
       "      <td>120</td>\n",
       "      <td>354</td>\n",
       "      <td>0</td>\n",
       "      <td>1</td>\n",
       "      <td>163</td>\n",
       "      <td>1</td>\n",
       "      <td>0.6</td>\n",
       "      <td>2</td>\n",
       "      <td>0</td>\n",
       "      <td>2</td>\n",
       "      <td>1</td>\n",
       "    </tr>\n",
       "  </tbody>\n",
       "</table>\n",
       "</div>"
      ],
      "text/plain": [
       "   age  sex  cp  trestbps  chol  fbs  restecg  thalach  exang  oldpeak  slope  \\\n",
       "0   63    1   3       145   233    1        0      150      0      2.3      0   \n",
       "1   37    1   2       130   250    0        1      187      0      3.5      0   \n",
       "2   41    0   1       130   204    0        0      172      0      1.4      2   \n",
       "3   56    1   1       120   236    0        1      178      0      0.8      2   \n",
       "4   57    0   0       120   354    0        1      163      1      0.6      2   \n",
       "\n",
       "   ca  thal  target  \n",
       "0   0     1       1  \n",
       "1   0     2       1  \n",
       "2   0     2       1  \n",
       "3   0     2       1  \n",
       "4   0     2       1  "
      ]
     },
     "execution_count": 5,
     "metadata": {},
     "output_type": "execute_result"
    }
   ],
   "source": [
    "ds_dataframe = ds.to_pandas_dataframe()\n",
    "df.head()"
   ]
  },
  {
   "cell_type": "code",
   "execution_count": 6,
   "metadata": {},
   "outputs": [
    {
     "name": "stdout",
     "output_type": "stream",
     "text": [
      "Shape of dataset before split: (302, 21)\n"
     ]
    },
    {
     "data": {
      "text/html": [
       "<div>\n",
       "<style scoped>\n",
       "    .dataframe tbody tr th:only-of-type {\n",
       "        vertical-align: middle;\n",
       "    }\n",
       "\n",
       "    .dataframe tbody tr th {\n",
       "        vertical-align: top;\n",
       "    }\n",
       "\n",
       "    .dataframe thead th {\n",
       "        text-align: right;\n",
       "    }\n",
       "</style>\n",
       "<table border=\"1\" class=\"dataframe\">\n",
       "  <thead>\n",
       "    <tr style=\"text-align: right;\">\n",
       "      <th></th>\n",
       "      <th>age</th>\n",
       "      <th>resting_BP</th>\n",
       "      <th>cholesterol</th>\n",
       "      <th>max_heart_rate</th>\n",
       "      <th>st_depression</th>\n",
       "      <th>sex_1</th>\n",
       "      <th>chest_pain_type_1</th>\n",
       "      <th>chest_pain_type_2</th>\n",
       "      <th>chest_pain_type_3</th>\n",
       "      <th>fasting_blood_sugar_1</th>\n",
       "      <th>rest_ECG_1</th>\n",
       "      <th>rest_ECG_2</th>\n",
       "      <th>exercise_induced_angina_1</th>\n",
       "      <th>st_slope_1</th>\n",
       "      <th>st_slope_2</th>\n",
       "      <th>num_major_vessels_1.0</th>\n",
       "      <th>num_major_vessels_2.0</th>\n",
       "      <th>num_major_vessels_3.0</th>\n",
       "      <th>thalassemia_2.0</th>\n",
       "      <th>thalassemia_3.0</th>\n",
       "    </tr>\n",
       "  </thead>\n",
       "  <tbody>\n",
       "    <tr>\n",
       "      <th>0</th>\n",
       "      <td>63</td>\n",
       "      <td>145</td>\n",
       "      <td>233</td>\n",
       "      <td>150</td>\n",
       "      <td>2.3</td>\n",
       "      <td>1</td>\n",
       "      <td>0</td>\n",
       "      <td>0</td>\n",
       "      <td>1</td>\n",
       "      <td>1</td>\n",
       "      <td>0</td>\n",
       "      <td>0</td>\n",
       "      <td>0</td>\n",
       "      <td>0</td>\n",
       "      <td>0</td>\n",
       "      <td>0</td>\n",
       "      <td>0</td>\n",
       "      <td>0</td>\n",
       "      <td>0</td>\n",
       "      <td>0</td>\n",
       "    </tr>\n",
       "    <tr>\n",
       "      <th>1</th>\n",
       "      <td>37</td>\n",
       "      <td>130</td>\n",
       "      <td>250</td>\n",
       "      <td>187</td>\n",
       "      <td>3.5</td>\n",
       "      <td>1</td>\n",
       "      <td>0</td>\n",
       "      <td>1</td>\n",
       "      <td>0</td>\n",
       "      <td>0</td>\n",
       "      <td>1</td>\n",
       "      <td>0</td>\n",
       "      <td>0</td>\n",
       "      <td>0</td>\n",
       "      <td>0</td>\n",
       "      <td>0</td>\n",
       "      <td>0</td>\n",
       "      <td>0</td>\n",
       "      <td>1</td>\n",
       "      <td>0</td>\n",
       "    </tr>\n",
       "    <tr>\n",
       "      <th>2</th>\n",
       "      <td>41</td>\n",
       "      <td>130</td>\n",
       "      <td>204</td>\n",
       "      <td>172</td>\n",
       "      <td>1.4</td>\n",
       "      <td>0</td>\n",
       "      <td>1</td>\n",
       "      <td>0</td>\n",
       "      <td>0</td>\n",
       "      <td>0</td>\n",
       "      <td>0</td>\n",
       "      <td>0</td>\n",
       "      <td>0</td>\n",
       "      <td>0</td>\n",
       "      <td>1</td>\n",
       "      <td>0</td>\n",
       "      <td>0</td>\n",
       "      <td>0</td>\n",
       "      <td>1</td>\n",
       "      <td>0</td>\n",
       "    </tr>\n",
       "    <tr>\n",
       "      <th>3</th>\n",
       "      <td>56</td>\n",
       "      <td>120</td>\n",
       "      <td>236</td>\n",
       "      <td>178</td>\n",
       "      <td>0.8</td>\n",
       "      <td>1</td>\n",
       "      <td>1</td>\n",
       "      <td>0</td>\n",
       "      <td>0</td>\n",
       "      <td>0</td>\n",
       "      <td>1</td>\n",
       "      <td>0</td>\n",
       "      <td>0</td>\n",
       "      <td>0</td>\n",
       "      <td>1</td>\n",
       "      <td>0</td>\n",
       "      <td>0</td>\n",
       "      <td>0</td>\n",
       "      <td>1</td>\n",
       "      <td>0</td>\n",
       "    </tr>\n",
       "    <tr>\n",
       "      <th>4</th>\n",
       "      <td>57</td>\n",
       "      <td>120</td>\n",
       "      <td>354</td>\n",
       "      <td>163</td>\n",
       "      <td>0.6</td>\n",
       "      <td>0</td>\n",
       "      <td>0</td>\n",
       "      <td>0</td>\n",
       "      <td>0</td>\n",
       "      <td>0</td>\n",
       "      <td>1</td>\n",
       "      <td>0</td>\n",
       "      <td>1</td>\n",
       "      <td>0</td>\n",
       "      <td>1</td>\n",
       "      <td>0</td>\n",
       "      <td>0</td>\n",
       "      <td>0</td>\n",
       "      <td>1</td>\n",
       "      <td>0</td>\n",
       "    </tr>\n",
       "  </tbody>\n",
       "</table>\n",
       "</div>"
      ],
      "text/plain": [
       "   age  resting_BP  cholesterol  max_heart_rate  st_depression  sex_1  \\\n",
       "0   63         145          233             150            2.3      1   \n",
       "1   37         130          250             187            3.5      1   \n",
       "2   41         130          204             172            1.4      0   \n",
       "3   56         120          236             178            0.8      1   \n",
       "4   57         120          354             163            0.6      0   \n",
       "\n",
       "   chest_pain_type_1  chest_pain_type_2  chest_pain_type_3  \\\n",
       "0                  0                  0                  1   \n",
       "1                  0                  1                  0   \n",
       "2                  1                  0                  0   \n",
       "3                  1                  0                  0   \n",
       "4                  0                  0                  0   \n",
       "\n",
       "   fasting_blood_sugar_1  rest_ECG_1  rest_ECG_2  exercise_induced_angina_1  \\\n",
       "0                      1           0           0                          0   \n",
       "1                      0           1           0                          0   \n",
       "2                      0           0           0                          0   \n",
       "3                      0           1           0                          0   \n",
       "4                      0           1           0                          1   \n",
       "\n",
       "   st_slope_1  st_slope_2  num_major_vessels_1.0  num_major_vessels_2.0  \\\n",
       "0           0           0                      0                      0   \n",
       "1           0           0                      0                      0   \n",
       "2           0           1                      0                      0   \n",
       "3           0           1                      0                      0   \n",
       "4           0           1                      0                      0   \n",
       "\n",
       "   num_major_vessels_3.0  thalassemia_2.0  thalassemia_3.0  \n",
       "0                      0                0                0  \n",
       "1                      0                1                0  \n",
       "2                      0                1                0  \n",
       "3                      0                1                0  \n",
       "4                      0                1                0  "
      ]
     },
     "execution_count": 6,
     "metadata": {},
     "output_type": "execute_result"
    }
   ],
   "source": [
    "from train import clean_data\n",
    "\n",
    "# Use the clean_data function to clean your data.\n",
    "x, y = clean_data(ds)\n",
    "x.head()"
   ]
  },
  {
   "cell_type": "code",
   "execution_count": 7,
   "metadata": {},
   "outputs": [
    {
     "name": "stdout",
     "output_type": "stream",
     "text": [
      "Dicrectory 'Data' created...\n"
     ]
    }
   ],
   "source": [
    "import os\n",
    "path = \"./Data\"\n",
    "try:\n",
    "    os.makedirs(path, exist_ok=True)\n",
    "    print(\"Dicrectory 'Data' created...\")\n",
    "except OSError:\n",
    "    print(\"Directory 'Data' cannot be created...\")"
   ]
  },
  {
   "cell_type": "code",
   "execution_count": 8,
   "metadata": {},
   "outputs": [
    {
     "name": "stdout",
     "output_type": "stream",
     "text": [
      "(241, 20) (241,) (61, 20) (61,)\n",
      "(241, 21)\n",
      "(61, 21)\n"
     ]
    }
   ],
   "source": [
    "from sklearn.model_selection import train_test_split\n",
    "import pandas as pd\n",
    "\n",
    "#spliting the data\n",
    "train_x, test_x, train_y, test_y = train_test_split(x, y, test_size = 0.2, random_state = 42)\n",
    "\n",
    "train_df = train_x.copy(deep=True)\n",
    "train_df['target'] = train_y\n",
    "\n",
    "# joining series y column to the test data\n",
    "test_df = test_x.copy(deep=True)\n",
    "test_df['target'] = test_y\n",
    "\n",
    "print(train_x.shape, train_y.shape, test_x.shape, test_y.shape)\n",
    "\n",
    "print(train_df.shape)\n",
    "print(test_df.shape)\n",
    "\n",
    "# saving test and train data locally\n",
    "train_df.to_csv(\"./Data/train_data.csv\", index=False)\n",
    "test_df.to_csv(\"./Data/test_data.csv\", index=False)"
   ]
  },
  {
   "cell_type": "code",
   "execution_count": 9,
   "metadata": {},
   "outputs": [
    {
     "name": "stdout",
     "output_type": "stream",
     "text": [
      "Uploading an estimated of 2 files\n",
      "Uploading ./Data/test_data.csv\n",
      "Uploaded ./Data/test_data.csv, 1 files out of an estimated total of 2\n",
      "Uploading ./Data/train_data.csv\n",
      "Uploaded ./Data/train_data.csv, 2 files out of an estimated total of 2\n",
      "Uploaded 2 files\n"
     ]
    },
    {
     "data": {
      "text/plain": [
       "$AZUREML_DATAREFERENCE_9976feba9e9a46acaf097d85b7ccdc64"
      ]
     },
     "execution_count": 9,
     "metadata": {},
     "output_type": "execute_result"
    }
   ],
   "source": [
    "# upload the Data directory to the datastore\n",
    "deafult_store = ws.get_default_datastore()\n",
    "deafult_store.upload(src_dir=\"./Data\", target_path=\"./Data\", overwrite=True)"
   ]
  },
  {
   "cell_type": "code",
   "execution_count": 10,
   "metadata": {},
   "outputs": [],
   "source": [
    "from azureml.core import Dataset\n",
    "\n",
    "train_data = TabularDatasetFactory.from_delimited_files(path=[(deafult_store, ('Data/train_data.csv'))])\n",
    "test_data = TabularDatasetFactory.from_delimited_files(path=[(deafult_store, ('Data/test_data.csv'))])"
   ]
  },
  {
   "cell_type": "code",
   "execution_count": 11,
   "metadata": {
    "scrolled": false
   },
   "outputs": [
    {
     "data": {
      "text/html": [
       "<div>\n",
       "<style scoped>\n",
       "    .dataframe tbody tr th:only-of-type {\n",
       "        vertical-align: middle;\n",
       "    }\n",
       "\n",
       "    .dataframe tbody tr th {\n",
       "        vertical-align: top;\n",
       "    }\n",
       "\n",
       "    .dataframe thead th {\n",
       "        text-align: right;\n",
       "    }\n",
       "</style>\n",
       "<table border=\"1\" class=\"dataframe\">\n",
       "  <thead>\n",
       "    <tr style=\"text-align: right;\">\n",
       "      <th></th>\n",
       "      <th>age</th>\n",
       "      <th>resting_BP</th>\n",
       "      <th>cholesterol</th>\n",
       "      <th>max_heart_rate</th>\n",
       "      <th>st_depression</th>\n",
       "      <th>sex_1</th>\n",
       "      <th>chest_pain_type_1</th>\n",
       "      <th>chest_pain_type_2</th>\n",
       "      <th>chest_pain_type_3</th>\n",
       "      <th>fasting_blood_sugar_1</th>\n",
       "      <th>...</th>\n",
       "      <th>rest_ECG_2</th>\n",
       "      <th>exercise_induced_angina_1</th>\n",
       "      <th>st_slope_1</th>\n",
       "      <th>st_slope_2</th>\n",
       "      <th>num_major_vessels_1.0</th>\n",
       "      <th>num_major_vessels_2.0</th>\n",
       "      <th>num_major_vessels_3.0</th>\n",
       "      <th>thalassemia_2.0</th>\n",
       "      <th>thalassemia_3.0</th>\n",
       "      <th>target</th>\n",
       "    </tr>\n",
       "  </thead>\n",
       "  <tbody>\n",
       "    <tr>\n",
       "      <th>0</th>\n",
       "      <td>42</td>\n",
       "      <td>120</td>\n",
       "      <td>295</td>\n",
       "      <td>162</td>\n",
       "      <td>0.0</td>\n",
       "      <td>1</td>\n",
       "      <td>1</td>\n",
       "      <td>0</td>\n",
       "      <td>0</td>\n",
       "      <td>0</td>\n",
       "      <td>...</td>\n",
       "      <td>0</td>\n",
       "      <td>0</td>\n",
       "      <td>0</td>\n",
       "      <td>1</td>\n",
       "      <td>0</td>\n",
       "      <td>0</td>\n",
       "      <td>0</td>\n",
       "      <td>1</td>\n",
       "      <td>0</td>\n",
       "      <td>1</td>\n",
       "    </tr>\n",
       "    <tr>\n",
       "      <th>1</th>\n",
       "      <td>68</td>\n",
       "      <td>180</td>\n",
       "      <td>274</td>\n",
       "      <td>150</td>\n",
       "      <td>1.6</td>\n",
       "      <td>1</td>\n",
       "      <td>0</td>\n",
       "      <td>1</td>\n",
       "      <td>0</td>\n",
       "      <td>1</td>\n",
       "      <td>...</td>\n",
       "      <td>0</td>\n",
       "      <td>1</td>\n",
       "      <td>1</td>\n",
       "      <td>0</td>\n",
       "      <td>0</td>\n",
       "      <td>0</td>\n",
       "      <td>0</td>\n",
       "      <td>0</td>\n",
       "      <td>1</td>\n",
       "      <td>0</td>\n",
       "    </tr>\n",
       "    <tr>\n",
       "      <th>2</th>\n",
       "      <td>67</td>\n",
       "      <td>125</td>\n",
       "      <td>254</td>\n",
       "      <td>163</td>\n",
       "      <td>0.2</td>\n",
       "      <td>1</td>\n",
       "      <td>0</td>\n",
       "      <td>0</td>\n",
       "      <td>0</td>\n",
       "      <td>1</td>\n",
       "      <td>...</td>\n",
       "      <td>0</td>\n",
       "      <td>0</td>\n",
       "      <td>1</td>\n",
       "      <td>0</td>\n",
       "      <td>0</td>\n",
       "      <td>1</td>\n",
       "      <td>0</td>\n",
       "      <td>0</td>\n",
       "      <td>1</td>\n",
       "      <td>0</td>\n",
       "    </tr>\n",
       "    <tr>\n",
       "      <th>3</th>\n",
       "      <td>55</td>\n",
       "      <td>135</td>\n",
       "      <td>250</td>\n",
       "      <td>161</td>\n",
       "      <td>1.4</td>\n",
       "      <td>0</td>\n",
       "      <td>1</td>\n",
       "      <td>0</td>\n",
       "      <td>0</td>\n",
       "      <td>0</td>\n",
       "      <td>...</td>\n",
       "      <td>0</td>\n",
       "      <td>0</td>\n",
       "      <td>1</td>\n",
       "      <td>0</td>\n",
       "      <td>0</td>\n",
       "      <td>0</td>\n",
       "      <td>0</td>\n",
       "      <td>1</td>\n",
       "      <td>0</td>\n",
       "      <td>1</td>\n",
       "    </tr>\n",
       "    <tr>\n",
       "      <th>4</th>\n",
       "      <td>64</td>\n",
       "      <td>140</td>\n",
       "      <td>335</td>\n",
       "      <td>158</td>\n",
       "      <td>0.0</td>\n",
       "      <td>1</td>\n",
       "      <td>0</td>\n",
       "      <td>1</td>\n",
       "      <td>0</td>\n",
       "      <td>0</td>\n",
       "      <td>...</td>\n",
       "      <td>0</td>\n",
       "      <td>0</td>\n",
       "      <td>0</td>\n",
       "      <td>1</td>\n",
       "      <td>0</td>\n",
       "      <td>0</td>\n",
       "      <td>0</td>\n",
       "      <td>1</td>\n",
       "      <td>0</td>\n",
       "      <td>0</td>\n",
       "    </tr>\n",
       "    <tr>\n",
       "      <th>...</th>\n",
       "      <td>...</td>\n",
       "      <td>...</td>\n",
       "      <td>...</td>\n",
       "      <td>...</td>\n",
       "      <td>...</td>\n",
       "      <td>...</td>\n",
       "      <td>...</td>\n",
       "      <td>...</td>\n",
       "      <td>...</td>\n",
       "      <td>...</td>\n",
       "      <td>...</td>\n",
       "      <td>...</td>\n",
       "      <td>...</td>\n",
       "      <td>...</td>\n",
       "      <td>...</td>\n",
       "      <td>...</td>\n",
       "      <td>...</td>\n",
       "      <td>...</td>\n",
       "      <td>...</td>\n",
       "      <td>...</td>\n",
       "      <td>...</td>\n",
       "    </tr>\n",
       "    <tr>\n",
       "      <th>236</th>\n",
       "      <td>41</td>\n",
       "      <td>110</td>\n",
       "      <td>172</td>\n",
       "      <td>158</td>\n",
       "      <td>0.0</td>\n",
       "      <td>1</td>\n",
       "      <td>0</td>\n",
       "      <td>0</td>\n",
       "      <td>0</td>\n",
       "      <td>0</td>\n",
       "      <td>...</td>\n",
       "      <td>0</td>\n",
       "      <td>0</td>\n",
       "      <td>0</td>\n",
       "      <td>1</td>\n",
       "      <td>0</td>\n",
       "      <td>0</td>\n",
       "      <td>0</td>\n",
       "      <td>0</td>\n",
       "      <td>1</td>\n",
       "      <td>0</td>\n",
       "    </tr>\n",
       "    <tr>\n",
       "      <th>237</th>\n",
       "      <td>51</td>\n",
       "      <td>94</td>\n",
       "      <td>227</td>\n",
       "      <td>154</td>\n",
       "      <td>0.0</td>\n",
       "      <td>1</td>\n",
       "      <td>0</td>\n",
       "      <td>1</td>\n",
       "      <td>0</td>\n",
       "      <td>0</td>\n",
       "      <td>...</td>\n",
       "      <td>0</td>\n",
       "      <td>1</td>\n",
       "      <td>0</td>\n",
       "      <td>1</td>\n",
       "      <td>1</td>\n",
       "      <td>0</td>\n",
       "      <td>0</td>\n",
       "      <td>0</td>\n",
       "      <td>1</td>\n",
       "      <td>1</td>\n",
       "    </tr>\n",
       "    <tr>\n",
       "      <th>238</th>\n",
       "      <td>69</td>\n",
       "      <td>160</td>\n",
       "      <td>234</td>\n",
       "      <td>131</td>\n",
       "      <td>0.1</td>\n",
       "      <td>1</td>\n",
       "      <td>0</td>\n",
       "      <td>0</td>\n",
       "      <td>1</td>\n",
       "      <td>1</td>\n",
       "      <td>...</td>\n",
       "      <td>0</td>\n",
       "      <td>0</td>\n",
       "      <td>1</td>\n",
       "      <td>0</td>\n",
       "      <td>1</td>\n",
       "      <td>0</td>\n",
       "      <td>0</td>\n",
       "      <td>1</td>\n",
       "      <td>0</td>\n",
       "      <td>1</td>\n",
       "    </tr>\n",
       "    <tr>\n",
       "      <th>239</th>\n",
       "      <td>61</td>\n",
       "      <td>134</td>\n",
       "      <td>234</td>\n",
       "      <td>145</td>\n",
       "      <td>2.6</td>\n",
       "      <td>1</td>\n",
       "      <td>0</td>\n",
       "      <td>0</td>\n",
       "      <td>1</td>\n",
       "      <td>0</td>\n",
       "      <td>...</td>\n",
       "      <td>0</td>\n",
       "      <td>0</td>\n",
       "      <td>1</td>\n",
       "      <td>0</td>\n",
       "      <td>0</td>\n",
       "      <td>1</td>\n",
       "      <td>0</td>\n",
       "      <td>1</td>\n",
       "      <td>0</td>\n",
       "      <td>0</td>\n",
       "    </tr>\n",
       "    <tr>\n",
       "      <th>240</th>\n",
       "      <td>63</td>\n",
       "      <td>140</td>\n",
       "      <td>195</td>\n",
       "      <td>179</td>\n",
       "      <td>0.0</td>\n",
       "      <td>0</td>\n",
       "      <td>1</td>\n",
       "      <td>0</td>\n",
       "      <td>0</td>\n",
       "      <td>0</td>\n",
       "      <td>...</td>\n",
       "      <td>0</td>\n",
       "      <td>0</td>\n",
       "      <td>0</td>\n",
       "      <td>1</td>\n",
       "      <td>0</td>\n",
       "      <td>1</td>\n",
       "      <td>0</td>\n",
       "      <td>1</td>\n",
       "      <td>0</td>\n",
       "      <td>1</td>\n",
       "    </tr>\n",
       "  </tbody>\n",
       "</table>\n",
       "<p>241 rows × 21 columns</p>\n",
       "</div>"
      ],
      "text/plain": [
       "     age  resting_BP  cholesterol  max_heart_rate  st_depression  sex_1  \\\n",
       "0     42         120          295             162            0.0      1   \n",
       "1     68         180          274             150            1.6      1   \n",
       "2     67         125          254             163            0.2      1   \n",
       "3     55         135          250             161            1.4      0   \n",
       "4     64         140          335             158            0.0      1   \n",
       "..   ...         ...          ...             ...            ...    ...   \n",
       "236   41         110          172             158            0.0      1   \n",
       "237   51          94          227             154            0.0      1   \n",
       "238   69         160          234             131            0.1      1   \n",
       "239   61         134          234             145            2.6      1   \n",
       "240   63         140          195             179            0.0      0   \n",
       "\n",
       "     chest_pain_type_1  chest_pain_type_2  chest_pain_type_3  \\\n",
       "0                    1                  0                  0   \n",
       "1                    0                  1                  0   \n",
       "2                    0                  0                  0   \n",
       "3                    1                  0                  0   \n",
       "4                    0                  1                  0   \n",
       "..                 ...                ...                ...   \n",
       "236                  0                  0                  0   \n",
       "237                  0                  1                  0   \n",
       "238                  0                  0                  1   \n",
       "239                  0                  0                  1   \n",
       "240                  1                  0                  0   \n",
       "\n",
       "     fasting_blood_sugar_1  ...  rest_ECG_2  exercise_induced_angina_1  \\\n",
       "0                        0  ...           0                          0   \n",
       "1                        1  ...           0                          1   \n",
       "2                        1  ...           0                          0   \n",
       "3                        0  ...           0                          0   \n",
       "4                        0  ...           0                          0   \n",
       "..                     ...  ...         ...                        ...   \n",
       "236                      0  ...           0                          0   \n",
       "237                      0  ...           0                          1   \n",
       "238                      1  ...           0                          0   \n",
       "239                      0  ...           0                          0   \n",
       "240                      0  ...           0                          0   \n",
       "\n",
       "     st_slope_1  st_slope_2  num_major_vessels_1.0  num_major_vessels_2.0  \\\n",
       "0             0           1                      0                      0   \n",
       "1             1           0                      0                      0   \n",
       "2             1           0                      0                      1   \n",
       "3             1           0                      0                      0   \n",
       "4             0           1                      0                      0   \n",
       "..          ...         ...                    ...                    ...   \n",
       "236           0           1                      0                      0   \n",
       "237           0           1                      1                      0   \n",
       "238           1           0                      1                      0   \n",
       "239           1           0                      0                      1   \n",
       "240           0           1                      0                      1   \n",
       "\n",
       "     num_major_vessels_3.0  thalassemia_2.0  thalassemia_3.0  target  \n",
       "0                        0                1                0       1  \n",
       "1                        0                0                1       0  \n",
       "2                        0                0                1       0  \n",
       "3                        0                1                0       1  \n",
       "4                        0                1                0       0  \n",
       "..                     ...              ...              ...     ...  \n",
       "236                      0                0                1       0  \n",
       "237                      0                0                1       1  \n",
       "238                      0                1                0       1  \n",
       "239                      0                1                0       0  \n",
       "240                      0                1                0       1  \n",
       "\n",
       "[241 rows x 21 columns]"
      ]
     },
     "execution_count": 11,
     "metadata": {},
     "output_type": "execute_result"
    }
   ],
   "source": [
    "train_data.to_pandas_dataframe()"
   ]
  },
  {
   "cell_type": "code",
   "execution_count": 12,
   "metadata": {},
   "outputs": [
    {
     "data": {
      "text/plain": [
       "{\n",
       "  \"source\": [\n",
       "    \"('workspaceblobstore', 'Data/train_data.csv')\"\n",
       "  ],\n",
       "  \"definition\": [\n",
       "    \"GetDatastoreFiles\",\n",
       "    \"ParseDelimited\",\n",
       "    \"DropColumns\",\n",
       "    \"SetColumnTypes\"\n",
       "  ]\n",
       "}"
      ]
     },
     "execution_count": 12,
     "metadata": {},
     "output_type": "execute_result"
    }
   ],
   "source": [
    "train_data"
   ]
  },
  {
   "cell_type": "markdown",
   "metadata": {},
   "source": [
    "## AutoML Configuration\n",
    "\n",
    "TODO: Explain why you chose the automl settings and cofiguration you used below."
   ]
  },
  {
   "cell_type": "code",
   "execution_count": 13,
   "metadata": {
    "gather": {
     "logged": 1598429217746
    },
    "jupyter": {
     "outputs_hidden": false,
     "source_hidden": false
    },
    "nteract": {
     "transient": {
      "deleting": false
     }
    }
   },
   "outputs": [
    {
     "name": "stdout",
     "output_type": "stream",
     "text": [
      "AutoML config created.\n"
     ]
    }
   ],
   "source": [
    "from azureml.train.automl import AutoMLConfig\n",
    "\n",
    "# TODO: Put your automl settings here\n",
    "\n",
    "automl_config = AutoMLConfig (\n",
    "    experiment_timeout_minutes = 40,\n",
    "    task = 'classification',\n",
    "    primary_metric = 'accuracy',\n",
    "    training_data = train_data,\n",
    "    label_column_name = \"target\",\n",
    "    n_cross_validations = 5,\n",
    "    enable_onnx_compatible_models = True,\n",
    "    compute_target = cpu_cluster)\n",
    "\n",
    "print(\"AutoML config created.\")"
   ]
  },
  {
   "cell_type": "code",
   "execution_count": 14,
   "metadata": {
    "gather": {
     "logged": 1598431107951
    },
    "jupyter": {
     "outputs_hidden": false,
     "source_hidden": false
    },
    "nteract": {
     "transient": {
      "deleting": false
     }
    }
   },
   "outputs": [
    {
     "name": "stdout",
     "output_type": "stream",
     "text": [
      "Running on remote.\n",
      "No run_configuration provided, running on cpu-cluster with default configuration\n",
      "Running on remote compute: cpu-cluster\n",
      "Parent Run ID: AutoML_b97067c0-8674-48bf-89fb-e38af95a0749\n",
      "\n",
      "Current status: FeaturesGeneration. Generating features for the dataset.\n",
      "Current status: DatasetCrossValidationSplit. Beginning model selection.\n",
      "Current status: ModelSelection. Beginning model selection.\n",
      "\n",
      "****************************************************************************************************\n",
      "DATA GUARDRAILS: \n",
      "\n",
      "TYPE:         Class balancing detection\n",
      "STATUS:       PASSED\n",
      "DESCRIPTION:  Your inputs were analyzed, and all classes are balanced in your training data.\n",
      "              Learn more about imbalanced data: https://aka.ms/AutomatedMLImbalancedData\n",
      "\n",
      "****************************************************************************************************\n",
      "\n",
      "TYPE:         Missing feature values imputation\n",
      "STATUS:       PASSED\n",
      "DESCRIPTION:  No feature missing values were detected in the training data.\n",
      "              Learn more about missing value imputation: https://aka.ms/AutomatedMLFeaturization\n",
      "\n",
      "****************************************************************************************************\n",
      "\n",
      "TYPE:         High cardinality feature detection\n",
      "STATUS:       PASSED\n",
      "DESCRIPTION:  Your inputs were analyzed, and no high cardinality features were detected.\n",
      "              Learn more about high cardinality feature handling: https://aka.ms/AutomatedMLFeaturization\n",
      "\n",
      "****************************************************************************************************\n",
      "\n",
      "****************************************************************************************************\n",
      "ITERATION: The iteration being evaluated.\n",
      "PIPELINE: A summary description of the pipeline being evaluated.\n",
      "DURATION: Time taken for the current iteration.\n",
      "METRIC: The result of computing score on the fitted pipeline.\n",
      "BEST: The best observed score thus far.\n",
      "****************************************************************************************************\n",
      "\n",
      " ITERATION   PIPELINE                                       DURATION      METRIC      BEST\n",
      "         0   MaxAbsScaler LightGBM                          0:00:57       0.8132    0.8132\n",
      "         1   MaxAbsScaler XGBoostClassifier                 0:00:55       0.8007    0.8132\n",
      "         2   MinMaxScaler RandomForest                      0:00:59       0.7838    0.8132\n",
      "         3   MinMaxScaler RandomForest                      0:00:56       0.7839    0.8132\n",
      "         4   MinMaxScaler RandomForest                      0:00:52       0.7842    0.8132\n",
      "         5   MinMaxScaler SVM                               0:00:58       0.7882    0.8132\n",
      "         6   MaxAbsScaler GradientBoosting                  0:00:51       0.8005    0.8132\n",
      "         7   StandardScalerWrapper RandomForest             0:00:57       0.7963    0.8132\n",
      "         8   SparseNormalizer XGBoostClassifier             0:01:00       0.7839    0.8132\n",
      "         9   SparseNormalizer LightGBM                      0:00:53       0.7717    0.8132\n",
      "        10   RobustScaler RandomForest                      0:00:49       0.7756    0.8132\n",
      "        11   MaxAbsScaler LightGBM                          0:01:00       0.7719    0.8132\n",
      "        12   RobustScaler ExtremeRandomTrees                0:00:58       0.7591    0.8132\n",
      "        13   SparseNormalizer XGBoostClassifier             0:00:55       0.7634    0.8132\n",
      "        14   StandardScalerWrapper GradientBoosting         0:00:52       0.7842    0.8132\n",
      "        15   StandardScalerWrapper XGBoostClassifier        0:00:53       0.7632    0.8132\n",
      "        16   StandardScalerWrapper ExtremeRandomTrees       0:00:49       0.7466    0.8132\n",
      "        17   StandardScalerWrapper ExtremeRandomTrees       0:00:49       0.7923    0.8132\n",
      "        18   RobustScaler ExtremeRandomTrees                0:00:54       0.7592    0.8132\n",
      "        19   StandardScalerWrapper XGBoostClassifier        0:00:55       0.7798    0.8132\n",
      "        20   StandardScalerWrapper XGBoostClassifier        0:00:57       0.7963    0.8132\n",
      "        21   SparseNormalizer XGBoostClassifier             0:00:58       0.7839    0.8132\n",
      "        22   SparseNormalizer XGBoostClassifier             0:00:45       0.7923    0.8132\n",
      "        23   StandardScalerWrapper ExtremeRandomTrees       0:00:46       0.7674    0.8132\n",
      "        24   MaxAbsScaler RandomForest                      0:00:51       0.8215    0.8215\n",
      "        25   MinMaxScaler RandomForest                      0:01:00       0.5983    0.8215\n",
      "        26   StandardScalerWrapper ExtremeRandomTrees       0:00:56       0.7921    0.8215\n",
      "        27   RobustScaler ExtremeRandomTrees                0:01:06       0.7923    0.8215\n",
      "        28   MaxAbsScaler ExtremeRandomTrees                0:01:11       0.7756    0.8215\n",
      "        29   StandardScalerWrapper XGBoostClassifier        0:00:49       0.8089    0.8215\n",
      "        30   SparseNormalizer RandomForest                  0:00:59       0.7924    0.8215\n",
      "        31   StandardScalerWrapper LightGBM                 0:00:50       0.8090    0.8215\n",
      "        32   StandardScalerWrapper KNN                      0:00:55       0.6763    0.8215\n",
      "        33   MaxAbsScaler LightGBM                          0:00:55       0.7674    0.8215\n",
      "        34   MinMaxScaler LogisticRegression                0:00:51       0.8463    0.8463\n",
      "        35    VotingEnsemble                                0:01:33       0.8587    0.8587\n"
     ]
    }
   ],
   "source": [
    "# TODO: Submit your experiment\n",
    "remote_run = experiment.submit(automl_config, show_output = True)"
   ]
  },
  {
   "cell_type": "markdown",
   "metadata": {},
   "source": [
    "## Run Details\n",
    "\n",
    "OPTIONAL: Write about the different models trained and their performance. Why do you think some models did better than others?\n",
    "\n",
    "TODO: In the cell below, use the `RunDetails` widget to show the different experiments."
   ]
  },
  {
   "cell_type": "code",
   "execution_count": 15,
   "metadata": {
    "gather": {
     "logged": 1598431121770
    },
    "jupyter": {
     "outputs_hidden": false,
     "source_hidden": false
    },
    "nteract": {
     "transient": {
      "deleting": false
     }
    },
    "scrolled": false
   },
   "outputs": [
    {
     "data": {
      "application/vnd.jupyter.widget-view+json": {
       "model_id": "58e21cfa97784e0abe74e726130c0169",
       "version_major": 2,
       "version_minor": 0
      },
      "text/plain": [
       "_AutoMLWidget(widget_settings={'childWidgetDisplay': 'popup', 'send_telemetry': False, 'log_level': 'INFO', 's…"
      ]
     },
     "metadata": {},
     "output_type": "display_data"
    },
    {
     "data": {
      "application/aml.mini.widget.v1": "{\"status\": \"Completed\", \"workbench_run_details_uri\": \"https://ml.azure.com/experiments/Heart_Disease_AutoML/runs/AutoML_b97067c0-8674-48bf-89fb-e38af95a0749?wsid=/subscriptions/b968fb36-f06a-4c76-a15f-afab68ae7667/resourcegroups/aml-quickstarts-136928/workspaces/quick-starts-ws-136928\", \"run_id\": \"AutoML_b97067c0-8674-48bf-89fb-e38af95a0749\", \"run_properties\": {\"run_id\": \"AutoML_b97067c0-8674-48bf-89fb-e38af95a0749\", \"created_utc\": \"2021-02-02T10:04:44.839591Z\", \"properties\": {\"num_iterations\": \"1000\", \"training_type\": \"TrainFull\", \"acquisition_function\": \"EI\", \"primary_metric\": \"accuracy\", \"train_split\": \"0\", \"acquisition_parameter\": \"0\", \"num_cross_validation\": \"5\", \"target\": \"cpu-cluster\", \"AMLSettingsJsonString\": \"{\\\"path\\\":null,\\\"name\\\":\\\"Heart_Disease_AutoML\\\",\\\"subscription_id\\\":\\\"b968fb36-f06a-4c76-a15f-afab68ae7667\\\",\\\"resource_group\\\":\\\"aml-quickstarts-136928\\\",\\\"workspace_name\\\":\\\"quick-starts-ws-136928\\\",\\\"region\\\":\\\"southcentralus\\\",\\\"compute_target\\\":\\\"cpu-cluster\\\",\\\"spark_service\\\":null,\\\"azure_service\\\":\\\"remote\\\",\\\"many_models\\\":false,\\\"pipeline_fetch_max_batch_size\\\":1,\\\"iterations\\\":1000,\\\"primary_metric\\\":\\\"accuracy\\\",\\\"task_type\\\":\\\"classification\\\",\\\"data_script\\\":null,\\\"validation_size\\\":0.0,\\\"n_cross_validations\\\":5,\\\"y_min\\\":null,\\\"y_max\\\":null,\\\"num_classes\\\":null,\\\"featurization\\\":\\\"auto\\\",\\\"_ignore_package_version_incompatibilities\\\":false,\\\"is_timeseries\\\":false,\\\"max_cores_per_iteration\\\":1,\\\"max_concurrent_iterations\\\":1,\\\"iteration_timeout_minutes\\\":null,\\\"mem_in_mb\\\":null,\\\"enforce_time_on_windows\\\":false,\\\"experiment_timeout_minutes\\\":40,\\\"experiment_exit_score\\\":null,\\\"whitelist_models\\\":null,\\\"blacklist_algos\\\":[\\\"TensorFlowLinearClassifier\\\",\\\"TensorFlowDNN\\\"],\\\"supported_models\\\":[\\\"KNN\\\",\\\"LogisticRegression\\\",\\\"MultinomialNaiveBayes\\\",\\\"XGBoostClassifier\\\",\\\"GradientBoosting\\\",\\\"ExtremeRandomTrees\\\",\\\"RandomForest\\\",\\\"LightGBM\\\",\\\"BernoulliNaiveBayes\\\",\\\"TensorFlowDNN\\\",\\\"TensorFlowLinearClassifier\\\",\\\"DecisionTree\\\",\\\"SGD\\\",\\\"LinearSVM\\\",\\\"SVM\\\",\\\"AveragedPerceptronClassifier\\\"],\\\"auto_blacklist\\\":true,\\\"blacklist_samples_reached\\\":false,\\\"exclude_nan_labels\\\":true,\\\"verbosity\\\":20,\\\"_debug_log\\\":\\\"azureml_automl.log\\\",\\\"show_warnings\\\":false,\\\"model_explainability\\\":true,\\\"service_url\\\":null,\\\"sdk_url\\\":null,\\\"sdk_packages\\\":null,\\\"enable_onnx_compatible_models\\\":true,\\\"enable_split_onnx_featurizer_estimator_models\\\":false,\\\"vm_type\\\":\\\"STANDARD_D2_V2\\\",\\\"telemetry_verbosity\\\":20,\\\"send_telemetry\\\":true,\\\"enable_dnn\\\":false,\\\"scenario\\\":\\\"SDK-1.13.0\\\",\\\"environment_label\\\":null,\\\"force_text_dnn\\\":false,\\\"enable_feature_sweeping\\\":false,\\\"enable_early_stopping\\\":false,\\\"early_stopping_n_iters\\\":10,\\\"metrics\\\":null,\\\"enable_ensembling\\\":true,\\\"enable_stack_ensembling\\\":false,\\\"ensemble_iterations\\\":15,\\\"enable_tf\\\":false,\\\"enable_subsampling\\\":null,\\\"subsample_seed\\\":null,\\\"enable_nimbusml\\\":false,\\\"enable_streaming\\\":false,\\\"force_streaming\\\":false,\\\"track_child_runs\\\":true,\\\"allowed_private_models\\\":[],\\\"label_column_name\\\":\\\"target\\\",\\\"weight_column_name\\\":null,\\\"cv_split_column_names\\\":null,\\\"enable_local_managed\\\":false,\\\"_local_managed_run_id\\\":null,\\\"cost_mode\\\":1,\\\"lag_length\\\":0,\\\"metric_operation\\\":\\\"maximize\\\",\\\"preprocess\\\":true}\", \"DataPrepJsonString\": \"{\\\\\\\"training_data\\\\\\\": \\\\\\\"{\\\\\\\\\\\\\\\"blocks\\\\\\\\\\\\\\\": [{\\\\\\\\\\\\\\\"id\\\\\\\\\\\\\\\": \\\\\\\\\\\\\\\"c7556bfb-2863-47d6-a6f2-ad60384dc013\\\\\\\\\\\\\\\", \\\\\\\\\\\\\\\"type\\\\\\\\\\\\\\\": \\\\\\\\\\\\\\\"Microsoft.DPrep.GetDatastoreFilesBlock\\\\\\\\\\\\\\\", \\\\\\\\\\\\\\\"arguments\\\\\\\\\\\\\\\": {\\\\\\\\\\\\\\\"datastores\\\\\\\\\\\\\\\": [{\\\\\\\\\\\\\\\"datastoreName\\\\\\\\\\\\\\\": \\\\\\\\\\\\\\\"workspaceblobstore\\\\\\\\\\\\\\\", \\\\\\\\\\\\\\\"path\\\\\\\\\\\\\\\": \\\\\\\\\\\\\\\"Data/train_data.csv\\\\\\\\\\\\\\\", \\\\\\\\\\\\\\\"resourceGroup\\\\\\\\\\\\\\\": \\\\\\\\\\\\\\\"aml-quickstarts-136928\\\\\\\\\\\\\\\", \\\\\\\\\\\\\\\"subscription\\\\\\\\\\\\\\\": \\\\\\\\\\\\\\\"b968fb36-f06a-4c76-a15f-afab68ae7667\\\\\\\\\\\\\\\", \\\\\\\\\\\\\\\"workspaceName\\\\\\\\\\\\\\\": \\\\\\\\\\\\\\\"quick-starts-ws-136928\\\\\\\\\\\\\\\"}]}, \\\\\\\\\\\\\\\"localData\\\\\\\\\\\\\\\": {}, \\\\\\\\\\\\\\\"isEnabled\\\\\\\\\\\\\\\": true, \\\\\\\\\\\\\\\"name\\\\\\\\\\\\\\\": null, \\\\\\\\\\\\\\\"annotation\\\\\\\\\\\\\\\": null}, {\\\\\\\\\\\\\\\"id\\\\\\\\\\\\\\\": \\\\\\\\\\\\\\\"5fa75ffa-4b5e-430a-b426-4e0d8bf1901b\\\\\\\\\\\\\\\", \\\\\\\\\\\\\\\"type\\\\\\\\\\\\\\\": \\\\\\\\\\\\\\\"Microsoft.DPrep.ParseDelimitedBlock\\\\\\\\\\\\\\\", \\\\\\\\\\\\\\\"arguments\\\\\\\\\\\\\\\": {\\\\\\\\\\\\\\\"columnHeadersMode\\\\\\\\\\\\\\\": 3, \\\\\\\\\\\\\\\"fileEncoding\\\\\\\\\\\\\\\": 0, \\\\\\\\\\\\\\\"handleQuotedLineBreaks\\\\\\\\\\\\\\\": false, \\\\\\\\\\\\\\\"preview\\\\\\\\\\\\\\\": false, \\\\\\\\\\\\\\\"separator\\\\\\\\\\\\\\\": \\\\\\\\\\\\\\\",\\\\\\\\\\\\\\\", \\\\\\\\\\\\\\\"skipRows\\\\\\\\\\\\\\\": 0, \\\\\\\\\\\\\\\"skipRowsMode\\\\\\\\\\\\\\\": 0}, \\\\\\\\\\\\\\\"localData\\\\\\\\\\\\\\\": {}, \\\\\\\\\\\\\\\"isEnabled\\\\\\\\\\\\\\\": true, \\\\\\\\\\\\\\\"name\\\\\\\\\\\\\\\": null, \\\\\\\\\\\\\\\"annotation\\\\\\\\\\\\\\\": null}, {\\\\\\\\\\\\\\\"id\\\\\\\\\\\\\\\": \\\\\\\\\\\\\\\"36d80ee2-f2fe-4651-87a7-18f0c0531fc9\\\\\\\\\\\\\\\", \\\\\\\\\\\\\\\"type\\\\\\\\\\\\\\\": \\\\\\\\\\\\\\\"Microsoft.DPrep.DropColumnsBlock\\\\\\\\\\\\\\\", \\\\\\\\\\\\\\\"arguments\\\\\\\\\\\\\\\": {\\\\\\\\\\\\\\\"columns\\\\\\\\\\\\\\\": {\\\\\\\\\\\\\\\"type\\\\\\\\\\\\\\\": 0, \\\\\\\\\\\\\\\"details\\\\\\\\\\\\\\\": {\\\\\\\\\\\\\\\"selectedColumns\\\\\\\\\\\\\\\": [\\\\\\\\\\\\\\\"Path\\\\\\\\\\\\\\\"]}}}, \\\\\\\\\\\\\\\"localData\\\\\\\\\\\\\\\": {}, \\\\\\\\\\\\\\\"isEnabled\\\\\\\\\\\\\\\": true, \\\\\\\\\\\\\\\"name\\\\\\\\\\\\\\\": null, \\\\\\\\\\\\\\\"annotation\\\\\\\\\\\\\\\": null}, {\\\\\\\\\\\\\\\"id\\\\\\\\\\\\\\\": \\\\\\\\\\\\\\\"003e028d-7972-4589-b212-fbc4011b0d97\\\\\\\\\\\\\\\", \\\\\\\\\\\\\\\"type\\\\\\\\\\\\\\\": \\\\\\\\\\\\\\\"Microsoft.DPrep.SetColumnTypesBlock\\\\\\\\\\\\\\\", \\\\\\\\\\\\\\\"arguments\\\\\\\\\\\\\\\": {\\\\\\\\\\\\\\\"columnConversion\\\\\\\\\\\\\\\": [{\\\\\\\\\\\\\\\"column\\\\\\\\\\\\\\\": {\\\\\\\\\\\\\\\"type\\\\\\\\\\\\\\\": 2, \\\\\\\\\\\\\\\"details\\\\\\\\\\\\\\\": {\\\\\\\\\\\\\\\"selectedColumn\\\\\\\\\\\\\\\": \\\\\\\\\\\\\\\"age\\\\\\\\\\\\\\\"}}, \\\\\\\\\\\\\\\"typeProperty\\\\\\\\\\\\\\\": 2}, {\\\\\\\\\\\\\\\"column\\\\\\\\\\\\\\\": {\\\\\\\\\\\\\\\"type\\\\\\\\\\\\\\\": 2, \\\\\\\\\\\\\\\"details\\\\\\\\\\\\\\\": {\\\\\\\\\\\\\\\"selectedColumn\\\\\\\\\\\\\\\": \\\\\\\\\\\\\\\"resting_BP\\\\\\\\\\\\\\\"}}, \\\\\\\\\\\\\\\"typeProperty\\\\\\\\\\\\\\\": 2}, {\\\\\\\\\\\\\\\"column\\\\\\\\\\\\\\\": {\\\\\\\\\\\\\\\"type\\\\\\\\\\\\\\\": 2, \\\\\\\\\\\\\\\"details\\\\\\\\\\\\\\\": {\\\\\\\\\\\\\\\"selectedColumn\\\\\\\\\\\\\\\": \\\\\\\\\\\\\\\"cholesterol\\\\\\\\\\\\\\\"}}, \\\\\\\\\\\\\\\"typeProperty\\\\\\\\\\\\\\\": 2}, {\\\\\\\\\\\\\\\"column\\\\\\\\\\\\\\\": {\\\\\\\\\\\\\\\"type\\\\\\\\\\\\\\\": 2, \\\\\\\\\\\\\\\"details\\\\\\\\\\\\\\\": {\\\\\\\\\\\\\\\"selectedColumn\\\\\\\\\\\\\\\": \\\\\\\\\\\\\\\"max_heart_rate\\\\\\\\\\\\\\\"}}, \\\\\\\\\\\\\\\"typeProperty\\\\\\\\\\\\\\\": 2}, {\\\\\\\\\\\\\\\"column\\\\\\\\\\\\\\\": {\\\\\\\\\\\\\\\"type\\\\\\\\\\\\\\\": 2, \\\\\\\\\\\\\\\"details\\\\\\\\\\\\\\\": {\\\\\\\\\\\\\\\"selectedColumn\\\\\\\\\\\\\\\": \\\\\\\\\\\\\\\"st_depression\\\\\\\\\\\\\\\"}}, \\\\\\\\\\\\\\\"typeProperty\\\\\\\\\\\\\\\": 3}, {\\\\\\\\\\\\\\\"column\\\\\\\\\\\\\\\": {\\\\\\\\\\\\\\\"type\\\\\\\\\\\\\\\": 2, \\\\\\\\\\\\\\\"details\\\\\\\\\\\\\\\": {\\\\\\\\\\\\\\\"selectedColumn\\\\\\\\\\\\\\\": \\\\\\\\\\\\\\\"sex_1\\\\\\\\\\\\\\\"}}, \\\\\\\\\\\\\\\"typeProperty\\\\\\\\\\\\\\\": 2}, {\\\\\\\\\\\\\\\"column\\\\\\\\\\\\\\\": {\\\\\\\\\\\\\\\"type\\\\\\\\\\\\\\\": 2, \\\\\\\\\\\\\\\"details\\\\\\\\\\\\\\\": {\\\\\\\\\\\\\\\"selectedColumn\\\\\\\\\\\\\\\": \\\\\\\\\\\\\\\"chest_pain_type_1\\\\\\\\\\\\\\\"}}, \\\\\\\\\\\\\\\"typeProperty\\\\\\\\\\\\\\\": 2}, {\\\\\\\\\\\\\\\"column\\\\\\\\\\\\\\\": {\\\\\\\\\\\\\\\"type\\\\\\\\\\\\\\\": 2, \\\\\\\\\\\\\\\"details\\\\\\\\\\\\\\\": {\\\\\\\\\\\\\\\"selectedColumn\\\\\\\\\\\\\\\": \\\\\\\\\\\\\\\"chest_pain_type_2\\\\\\\\\\\\\\\"}}, \\\\\\\\\\\\\\\"typeProperty\\\\\\\\\\\\\\\": 2}, {\\\\\\\\\\\\\\\"column\\\\\\\\\\\\\\\": {\\\\\\\\\\\\\\\"type\\\\\\\\\\\\\\\": 2, \\\\\\\\\\\\\\\"details\\\\\\\\\\\\\\\": {\\\\\\\\\\\\\\\"selectedColumn\\\\\\\\\\\\\\\": \\\\\\\\\\\\\\\"chest_pain_type_3\\\\\\\\\\\\\\\"}}, \\\\\\\\\\\\\\\"typeProperty\\\\\\\\\\\\\\\": 2}, {\\\\\\\\\\\\\\\"column\\\\\\\\\\\\\\\": {\\\\\\\\\\\\\\\"type\\\\\\\\\\\\\\\": 2, \\\\\\\\\\\\\\\"details\\\\\\\\\\\\\\\": {\\\\\\\\\\\\\\\"selectedColumn\\\\\\\\\\\\\\\": \\\\\\\\\\\\\\\"fasting_blood_sugar_1\\\\\\\\\\\\\\\"}}, \\\\\\\\\\\\\\\"typeProperty\\\\\\\\\\\\\\\": 2}, {\\\\\\\\\\\\\\\"column\\\\\\\\\\\\\\\": {\\\\\\\\\\\\\\\"type\\\\\\\\\\\\\\\": 2, \\\\\\\\\\\\\\\"details\\\\\\\\\\\\\\\": {\\\\\\\\\\\\\\\"selectedColumn\\\\\\\\\\\\\\\": \\\\\\\\\\\\\\\"rest_ECG_1\\\\\\\\\\\\\\\"}}, \\\\\\\\\\\\\\\"typeProperty\\\\\\\\\\\\\\\": 2}, {\\\\\\\\\\\\\\\"column\\\\\\\\\\\\\\\": {\\\\\\\\\\\\\\\"type\\\\\\\\\\\\\\\": 2, \\\\\\\\\\\\\\\"details\\\\\\\\\\\\\\\": {\\\\\\\\\\\\\\\"selectedColumn\\\\\\\\\\\\\\\": \\\\\\\\\\\\\\\"rest_ECG_2\\\\\\\\\\\\\\\"}}, \\\\\\\\\\\\\\\"typeProperty\\\\\\\\\\\\\\\": 2}, {\\\\\\\\\\\\\\\"column\\\\\\\\\\\\\\\": {\\\\\\\\\\\\\\\"type\\\\\\\\\\\\\\\": 2, \\\\\\\\\\\\\\\"details\\\\\\\\\\\\\\\": {\\\\\\\\\\\\\\\"selectedColumn\\\\\\\\\\\\\\\": \\\\\\\\\\\\\\\"exercise_induced_angina_1\\\\\\\\\\\\\\\"}}, \\\\\\\\\\\\\\\"typeProperty\\\\\\\\\\\\\\\": 2}, {\\\\\\\\\\\\\\\"column\\\\\\\\\\\\\\\": {\\\\\\\\\\\\\\\"type\\\\\\\\\\\\\\\": 2, \\\\\\\\\\\\\\\"details\\\\\\\\\\\\\\\": {\\\\\\\\\\\\\\\"selectedColumn\\\\\\\\\\\\\\\": \\\\\\\\\\\\\\\"st_slope_1\\\\\\\\\\\\\\\"}}, \\\\\\\\\\\\\\\"typeProperty\\\\\\\\\\\\\\\": 2}, {\\\\\\\\\\\\\\\"column\\\\\\\\\\\\\\\": {\\\\\\\\\\\\\\\"type\\\\\\\\\\\\\\\": 2, \\\\\\\\\\\\\\\"details\\\\\\\\\\\\\\\": {\\\\\\\\\\\\\\\"selectedColumn\\\\\\\\\\\\\\\": \\\\\\\\\\\\\\\"st_slope_2\\\\\\\\\\\\\\\"}}, \\\\\\\\\\\\\\\"typeProperty\\\\\\\\\\\\\\\": 2}, {\\\\\\\\\\\\\\\"column\\\\\\\\\\\\\\\": {\\\\\\\\\\\\\\\"type\\\\\\\\\\\\\\\": 2, \\\\\\\\\\\\\\\"details\\\\\\\\\\\\\\\": {\\\\\\\\\\\\\\\"selectedColumn\\\\\\\\\\\\\\\": \\\\\\\\\\\\\\\"num_major_vessels_1.0\\\\\\\\\\\\\\\"}}, \\\\\\\\\\\\\\\"typeProperty\\\\\\\\\\\\\\\": 2}, {\\\\\\\\\\\\\\\"column\\\\\\\\\\\\\\\": {\\\\\\\\\\\\\\\"type\\\\\\\\\\\\\\\": 2, \\\\\\\\\\\\\\\"details\\\\\\\\\\\\\\\": {\\\\\\\\\\\\\\\"selectedColumn\\\\\\\\\\\\\\\": \\\\\\\\\\\\\\\"num_major_vessels_2.0\\\\\\\\\\\\\\\"}}, \\\\\\\\\\\\\\\"typeProperty\\\\\\\\\\\\\\\": 2}, {\\\\\\\\\\\\\\\"column\\\\\\\\\\\\\\\": {\\\\\\\\\\\\\\\"type\\\\\\\\\\\\\\\": 2, \\\\\\\\\\\\\\\"details\\\\\\\\\\\\\\\": {\\\\\\\\\\\\\\\"selectedColumn\\\\\\\\\\\\\\\": \\\\\\\\\\\\\\\"num_major_vessels_3.0\\\\\\\\\\\\\\\"}}, \\\\\\\\\\\\\\\"typeProperty\\\\\\\\\\\\\\\": 2}, {\\\\\\\\\\\\\\\"column\\\\\\\\\\\\\\\": {\\\\\\\\\\\\\\\"type\\\\\\\\\\\\\\\": 2, \\\\\\\\\\\\\\\"details\\\\\\\\\\\\\\\": {\\\\\\\\\\\\\\\"selectedColumn\\\\\\\\\\\\\\\": \\\\\\\\\\\\\\\"thalassemia_2.0\\\\\\\\\\\\\\\"}}, \\\\\\\\\\\\\\\"typeProperty\\\\\\\\\\\\\\\": 2}, {\\\\\\\\\\\\\\\"column\\\\\\\\\\\\\\\": {\\\\\\\\\\\\\\\"type\\\\\\\\\\\\\\\": 2, \\\\\\\\\\\\\\\"details\\\\\\\\\\\\\\\": {\\\\\\\\\\\\\\\"selectedColumn\\\\\\\\\\\\\\\": \\\\\\\\\\\\\\\"thalassemia_3.0\\\\\\\\\\\\\\\"}}, \\\\\\\\\\\\\\\"typeProperty\\\\\\\\\\\\\\\": 2}, {\\\\\\\\\\\\\\\"column\\\\\\\\\\\\\\\": {\\\\\\\\\\\\\\\"type\\\\\\\\\\\\\\\": 2, \\\\\\\\\\\\\\\"details\\\\\\\\\\\\\\\": {\\\\\\\\\\\\\\\"selectedColumn\\\\\\\\\\\\\\\": \\\\\\\\\\\\\\\"target\\\\\\\\\\\\\\\"}}, \\\\\\\\\\\\\\\"typeProperty\\\\\\\\\\\\\\\": 2}]}, \\\\\\\\\\\\\\\"localData\\\\\\\\\\\\\\\": {}, \\\\\\\\\\\\\\\"isEnabled\\\\\\\\\\\\\\\": true, \\\\\\\\\\\\\\\"name\\\\\\\\\\\\\\\": null, \\\\\\\\\\\\\\\"annotation\\\\\\\\\\\\\\\": null}], \\\\\\\\\\\\\\\"inspectors\\\\\\\\\\\\\\\": [], \\\\\\\\\\\\\\\"meta\\\\\\\\\\\\\\\": {\\\\\\\\\\\\\\\"savedDatasetId\\\\\\\\\\\\\\\": \\\\\\\\\\\\\\\"cd63ca24-0cc8-468f-bd70-fd719f02dad6\\\\\\\\\\\\\\\", \\\\\\\\\\\\\\\"datasetType\\\\\\\\\\\\\\\": \\\\\\\\\\\\\\\"tabular\\\\\\\\\\\\\\\", \\\\\\\\\\\\\\\"subscriptionId\\\\\\\\\\\\\\\": \\\\\\\\\\\\\\\"b968fb36-f06a-4c76-a15f-afab68ae7667\\\\\\\\\\\\\\\", \\\\\\\\\\\\\\\"workspaceId\\\\\\\\\\\\\\\": \\\\\\\\\\\\\\\"a32820ff-2549-47e6-b255-8c60746b2402\\\\\\\\\\\\\\\", \\\\\\\\\\\\\\\"workspaceLocation\\\\\\\\\\\\\\\": \\\\\\\\\\\\\\\"southcentralus\\\\\\\\\\\\\\\"}}\\\\\\\", \\\\\\\"activities\\\\\\\": 0}\", \"EnableSubsampling\": null, \"runTemplate\": \"AutoML\", \"azureml.runsource\": \"automl\", \"display_task_type\": \"classification\", \"dependencies_versions\": \"{\\\"azureml-widgets\\\": \\\"1.20.0\\\", \\\"azureml-train\\\": \\\"1.20.0\\\", \\\"azureml-train-restclients-hyperdrive\\\": \\\"1.20.0\\\", \\\"azureml-train-core\\\": \\\"1.20.0\\\", \\\"azureml-train-automl\\\": \\\"1.20.0\\\", \\\"azureml-train-automl-runtime\\\": \\\"1.20.0\\\", \\\"azureml-train-automl-client\\\": \\\"1.20.0\\\", \\\"azureml-tensorboard\\\": \\\"1.20.0\\\", \\\"azureml-telemetry\\\": \\\"1.20.0\\\", \\\"azureml-sdk\\\": \\\"1.20.0\\\", \\\"azureml-samples\\\": \\\"0+unknown\\\", \\\"azureml-pipeline\\\": \\\"1.20.0\\\", \\\"azureml-pipeline-steps\\\": \\\"1.20.0\\\", \\\"azureml-pipeline-core\\\": \\\"1.20.0\\\", \\\"azureml-opendatasets\\\": \\\"1.20.0\\\", \\\"azureml-model-management-sdk\\\": \\\"1.0.1b6.post1\\\", \\\"azureml-mlflow\\\": \\\"1.20.0.post1\\\", \\\"azureml-interpret\\\": \\\"1.20.0\\\", \\\"azureml-explain-model\\\": \\\"1.20.0\\\", \\\"azureml-defaults\\\": \\\"1.20.0\\\", \\\"azureml-dataset-runtime\\\": \\\"1.20.0\\\", \\\"azureml-dataprep\\\": \\\"2.7.3\\\", \\\"azureml-dataprep-rslex\\\": \\\"1.5.0\\\", \\\"azureml-dataprep-native\\\": \\\"27.0.0\\\", \\\"azureml-datadrift\\\": \\\"1.20.0\\\", \\\"azureml-core\\\": \\\"1.20.0\\\", \\\"azureml-contrib-services\\\": \\\"1.20.0\\\", \\\"azureml-contrib-server\\\": \\\"1.20.0\\\", \\\"azureml-contrib-reinforcementlearning\\\": \\\"1.20.0\\\", \\\"azureml-contrib-pipeline-steps\\\": \\\"1.20.0\\\", \\\"azureml-contrib-notebook\\\": \\\"1.20.0\\\", \\\"azureml-contrib-interpret\\\": \\\"1.20.0\\\", \\\"azureml-contrib-gbdt\\\": \\\"1.20.0\\\", \\\"azureml-contrib-fairness\\\": \\\"1.20.0\\\", \\\"azureml-contrib-dataset\\\": \\\"1.20.0\\\", \\\"azureml-cli-common\\\": \\\"1.20.0\\\", \\\"azureml-automl-runtime\\\": \\\"1.20.0\\\", \\\"azureml-automl-core\\\": \\\"1.20.0\\\", \\\"azureml-accel-models\\\": \\\"1.20.0\\\"}\", \"_aml_system_scenario_identification\": \"Remote.Parent\", \"ClientType\": \"SDK\", \"environment_cpu_name\": \"AzureML-AutoML\", \"environment_cpu_label\": \"prod\", \"environment_gpu_name\": \"AzureML-AutoML-GPU\", \"environment_gpu_label\": \"prod\", \"root_attribution\": \"automl\", \"attribution\": \"AutoML\", \"Orchestrator\": \"AutoML\", \"CancelUri\": \"https://southcentralus.experiments.azureml.net/jasmine/v1.0/subscriptions/b968fb36-f06a-4c76-a15f-afab68ae7667/resourceGroups/aml-quickstarts-136928/providers/Microsoft.MachineLearningServices/workspaces/quick-starts-ws-136928/experimentids/46573982-faed-4e5c-85a3-72b5005ba5c4/cancel/AutoML_b97067c0-8674-48bf-89fb-e38af95a0749\", \"ClientSdkVersion\": \"1.21.0\", \"snapshotId\": \"00000000-0000-0000-0000-000000000000\", \"SetupRunId\": \"AutoML_b97067c0-8674-48bf-89fb-e38af95a0749_setup\", \"SetupRunContainerId\": \"dcid.AutoML_b97067c0-8674-48bf-89fb-e38af95a0749_setup\", \"FeaturizationRunJsonPath\": \"featurizer_container.json\", \"FeaturizationRunId\": \"AutoML_b97067c0-8674-48bf-89fb-e38af95a0749_featurize\", \"ProblemInfoJsonString\": \"{\\\"dataset_num_categorical\\\": 0, \\\"is_sparse\\\": false, \\\"subsampling\\\": false, \\\"dataset_classes\\\": 2, \\\"dataset_features\\\": 20, \\\"dataset_samples\\\": 241, \\\"single_frequency_class_detected\\\": false}\", \"ModelExplainRunId\": \"AutoML_b97067c0-8674-48bf-89fb-e38af95a0749_ModelExplain\", \"azureml.git.repository_uri\": \"https://github.com/bharati-21/AZMLND-Capstone-Project.git\", \"mlflow.source.git.repoURL\": \"https://github.com/bharati-21/AZMLND-Capstone-Project.git\", \"azureml.git.branch\": \"master\", \"mlflow.source.git.branch\": \"master\", \"azureml.git.commit\": \"48bb881975cb9f22e1f389c81c2a814689d8cf39\", \"mlflow.source.git.commit\": \"48bb881975cb9f22e1f389c81c2a814689d8cf39\", \"azureml.git.dirty\": \"True\"}, \"tags\": {\"model_explain_run\": \"best_run\", \"_aml_system_azureml.automlComponent\": \"AutoML\", \"pipeline_id\": \"\", \"score\": \"\", \"predicted_cost\": \"\", \"fit_time\": \"\", \"training_percent\": \"\", \"iteration\": \"\", \"run_preprocessor\": \"\", \"run_algorithm\": \"\", \"dynamic_whitelisting_iterations\": \"<25>;<30>;\", \"automl_best_child_run_id\": \"AutoML_b97067c0-8674-48bf-89fb-e38af95a0749_35\", \"model_explain_best_run_child_id\": \"AutoML_b97067c0-8674-48bf-89fb-e38af95a0749_35\"}, \"end_time_utc\": \"2021-02-02T10:58:56.065826Z\", \"status\": \"Completed\", \"log_files\": {}, \"log_groups\": [], \"run_duration\": \"0:54:11\"}, \"child_runs\": [{\"run_id\": \"AutoML_b97067c0-8674-48bf-89fb-e38af95a0749_0\", \"run_number\": 6, \"metric\": null, \"status\": \"Completed\", \"run_type\": \"azureml.scriptrun\", \"training_percent\": \"100\", \"start_time\": \"2021-02-02T10:16:32.871959Z\", \"end_time\": \"2021-02-02T10:17:29.745015Z\", \"created_time\": \"2021-02-02T10:16:22.255556Z\", \"created_time_dt\": \"2021-02-02T10:16:22.255556Z\", \"duration\": \"0:01:07\", \"iteration\": \"0\", \"goal\": \"accuracy_max\", \"run_name\": \"MaxAbsScaler, LightGBM\", \"run_properties\": \"copy=True\", \"primary_metric\": 0.81318027, \"best_metric\": 0.81318027}, {\"run_id\": \"AutoML_b97067c0-8674-48bf-89fb-e38af95a0749_1\", \"run_number\": 7, \"metric\": null, \"status\": \"Completed\", \"run_type\": \"azureml.scriptrun\", \"training_percent\": \"100\", \"start_time\": \"2021-02-02T10:17:43.664414Z\", \"end_time\": \"2021-02-02T10:18:38.265009Z\", \"created_time\": \"2021-02-02T10:17:30.73957Z\", \"created_time_dt\": \"2021-02-02T10:17:30.73957Z\", \"duration\": \"0:01:07\", \"iteration\": \"1\", \"goal\": \"accuracy_max\", \"run_name\": \"MaxAbsScaler, XGBoostClassifier\", \"run_properties\": \"copy=True\", \"primary_metric\": 0.80068027, \"best_metric\": 0.81318027}, {\"run_id\": \"AutoML_b97067c0-8674-48bf-89fb-e38af95a0749_2\", \"run_number\": 8, \"metric\": null, \"status\": \"Completed\", \"run_type\": \"azureml.scriptrun\", \"training_percent\": \"100\", \"start_time\": \"2021-02-02T10:18:50.958295Z\", \"end_time\": \"2021-02-02T10:19:50.396065Z\", \"created_time\": \"2021-02-02T10:18:39.515455Z\", \"created_time_dt\": \"2021-02-02T10:18:39.515455Z\", \"duration\": \"0:01:10\", \"iteration\": \"2\", \"goal\": \"accuracy_max\", \"run_name\": \"MinMaxScaler, RandomForest\", \"run_properties\": \"copy=True, feature_range=(0, 1\", \"primary_metric\": 0.78384354, \"best_metric\": 0.81318027}, {\"run_id\": \"AutoML_b97067c0-8674-48bf-89fb-e38af95a0749_3\", \"run_number\": 9, \"metric\": null, \"status\": \"Completed\", \"run_type\": \"azureml.scriptrun\", \"training_percent\": \"100\", \"start_time\": \"2021-02-02T10:20:06.547329Z\", \"end_time\": \"2021-02-02T10:21:02.375635Z\", \"created_time\": \"2021-02-02T10:19:53.149143Z\", \"created_time_dt\": \"2021-02-02T10:19:53.149143Z\", \"duration\": \"0:01:09\", \"iteration\": \"3\", \"goal\": \"accuracy_max\", \"run_name\": \"MinMaxScaler, RandomForest\", \"run_properties\": \"copy=True, feature_range=(0, 1\", \"primary_metric\": 0.78392857, \"best_metric\": 0.81318027}, {\"run_id\": \"AutoML_b97067c0-8674-48bf-89fb-e38af95a0749_4\", \"run_number\": 10, \"metric\": null, \"status\": \"Completed\", \"run_type\": \"azureml.scriptrun\", \"training_percent\": \"100\", \"start_time\": \"2021-02-02T10:21:16.228029Z\", \"end_time\": \"2021-02-02T10:22:08.038435Z\", \"created_time\": \"2021-02-02T10:21:04.388841Z\", \"created_time_dt\": \"2021-02-02T10:21:04.388841Z\", \"duration\": \"0:01:03\", \"iteration\": \"4\", \"goal\": \"accuracy_max\", \"run_name\": \"MinMaxScaler, RandomForest\", \"run_properties\": \"copy=True, feature_range=(0, 1\", \"primary_metric\": 0.78418367, \"best_metric\": 0.81318027}, {\"run_id\": \"AutoML_b97067c0-8674-48bf-89fb-e38af95a0749_5\", \"run_number\": 11, \"metric\": null, \"status\": \"Completed\", \"run_type\": \"azureml.scriptrun\", \"training_percent\": \"100\", \"start_time\": \"2021-02-02T10:22:26.107642Z\", \"end_time\": \"2021-02-02T10:23:24.456831Z\", \"created_time\": \"2021-02-02T10:22:10.830757Z\", \"created_time_dt\": \"2021-02-02T10:22:10.830757Z\", \"duration\": \"0:01:13\", \"iteration\": \"5\", \"goal\": \"accuracy_max\", \"run_name\": \"MinMaxScaler, SVM\", \"run_properties\": \"copy=True, feature_range=(0, 1\", \"primary_metric\": 0.78818027, \"best_metric\": 0.81318027}, {\"run_id\": \"AutoML_b97067c0-8674-48bf-89fb-e38af95a0749_6\", \"run_number\": 12, \"metric\": null, \"status\": \"Completed\", \"run_type\": \"azureml.scriptrun\", \"training_percent\": \"100\", \"start_time\": \"2021-02-02T10:23:39.569743Z\", \"end_time\": \"2021-02-02T10:24:31.008231Z\", \"created_time\": \"2021-02-02T10:23:27.051223Z\", \"created_time_dt\": \"2021-02-02T10:23:27.051223Z\", \"duration\": \"0:01:03\", \"iteration\": \"6\", \"goal\": \"accuracy_max\", \"run_name\": \"MaxAbsScaler, GradientBoosting\", \"run_properties\": \"copy=True\", \"primary_metric\": 0.8005102, \"best_metric\": 0.81318027}, {\"run_id\": \"AutoML_b97067c0-8674-48bf-89fb-e38af95a0749_7\", \"run_number\": 13, \"metric\": null, \"status\": \"Completed\", \"run_type\": \"azureml.scriptrun\", \"training_percent\": \"100\", \"start_time\": \"2021-02-02T10:24:44.229797Z\", \"end_time\": \"2021-02-02T10:25:41.465639Z\", \"created_time\": \"2021-02-02T10:24:32.821489Z\", \"created_time_dt\": \"2021-02-02T10:24:32.821489Z\", \"duration\": \"0:01:08\", \"iteration\": \"7\", \"goal\": \"accuracy_max\", \"run_name\": \"StandardScalerWrapper, RandomForest\", \"run_properties\": \"<azureml.automl.runtime.shared.model_wrappers.StandardScalerWrapper object at 0x7f2a7c9f2048\", \"primary_metric\": 0.79634354, \"best_metric\": 0.81318027}, {\"run_id\": \"AutoML_b97067c0-8674-48bf-89fb-e38af95a0749_8\", \"run_number\": 14, \"metric\": null, \"status\": \"Completed\", \"run_type\": \"azureml.scriptrun\", \"training_percent\": \"100\", \"start_time\": \"2021-02-02T10:25:58.406414Z\", \"end_time\": \"2021-02-02T10:26:58.390089Z\", \"created_time\": \"2021-02-02T10:25:46.145702Z\", \"created_time_dt\": \"2021-02-02T10:25:46.145702Z\", \"duration\": \"0:01:12\", \"iteration\": \"8\", \"goal\": \"accuracy_max\", \"run_name\": \"SparseNormalizer, XGBoostClassifier\", \"run_properties\": \"<azureml.automl.runtime.shared.model_wrappers.SparseNormalizer object at 0x7f12157ac630\", \"primary_metric\": 0.78392857, \"best_metric\": 0.81318027}, {\"run_id\": \"AutoML_b97067c0-8674-48bf-89fb-e38af95a0749_9\", \"run_number\": 15, \"metric\": null, \"status\": \"Completed\", \"run_type\": \"azureml.scriptrun\", \"training_percent\": \"100\", \"start_time\": \"2021-02-02T10:27:13.567421Z\", \"end_time\": \"2021-02-02T10:28:06.947755Z\", \"created_time\": \"2021-02-02T10:27:01.598902Z\", \"created_time_dt\": \"2021-02-02T10:27:01.598902Z\", \"duration\": \"0:01:05\", \"iteration\": \"9\", \"goal\": \"accuracy_max\", \"run_name\": \"SparseNormalizer, LightGBM\", \"run_properties\": \"<azureml.automl.runtime.shared.model_wrappers.SparseNormalizer object at 0x7f28d32582e8\", \"primary_metric\": 0.77168367, \"best_metric\": 0.81318027}, {\"run_id\": \"AutoML_b97067c0-8674-48bf-89fb-e38af95a0749_10\", \"run_number\": 16, \"metric\": null, \"status\": \"Completed\", \"run_type\": \"azureml.scriptrun\", \"training_percent\": \"100\", \"start_time\": \"2021-02-02T10:28:22.827941Z\", \"end_time\": \"2021-02-02T10:29:11.464231Z\", \"created_time\": \"2021-02-02T10:28:09.647541Z\", \"created_time_dt\": \"2021-02-02T10:28:09.647541Z\", \"duration\": \"0:01:01\", \"iteration\": \"10\", \"goal\": \"accuracy_max\", \"run_name\": \"RobustScaler, RandomForest\", \"run_properties\": \"copy=True, quantile_range=[10, 90], with_centering=True,\\n             with_scaling=True\", \"primary_metric\": 0.77559524, \"best_metric\": 0.81318027}, {\"run_id\": \"AutoML_b97067c0-8674-48bf-89fb-e38af95a0749_11\", \"run_number\": 17, \"metric\": null, \"status\": \"Completed\", \"run_type\": \"azureml.scriptrun\", \"training_percent\": \"100\", \"start_time\": \"2021-02-02T10:29:24.232829Z\", \"end_time\": \"2021-02-02T10:30:23.955115Z\", \"created_time\": \"2021-02-02T10:29:13.906494Z\", \"created_time_dt\": \"2021-02-02T10:29:13.906494Z\", \"duration\": \"0:01:10\", \"iteration\": \"11\", \"goal\": \"accuracy_max\", \"run_name\": \"MaxAbsScaler, LightGBM\", \"run_properties\": \"copy=True\", \"primary_metric\": 0.77185374, \"best_metric\": 0.81318027}, {\"run_id\": \"AutoML_b97067c0-8674-48bf-89fb-e38af95a0749_12\", \"run_number\": 18, \"metric\": null, \"status\": \"Completed\", \"run_type\": \"azureml.scriptrun\", \"training_percent\": \"100\", \"start_time\": \"2021-02-02T10:30:39.657739Z\", \"end_time\": \"2021-02-02T10:31:37.968961Z\", \"created_time\": \"2021-02-02T10:30:26.406666Z\", \"created_time_dt\": \"2021-02-02T10:30:26.406666Z\", \"duration\": \"0:01:11\", \"iteration\": \"12\", \"goal\": \"accuracy_max\", \"run_name\": \"RobustScaler, ExtremeRandomTrees\", \"run_properties\": \"copy=True, quantile_range=[25, 75], with_centering=True,\\n             with_scaling=False\", \"primary_metric\": 0.75909864, \"best_metric\": 0.81318027}, {\"run_id\": \"AutoML_b97067c0-8674-48bf-89fb-e38af95a0749_13\", \"run_number\": 19, \"metric\": null, \"status\": \"Completed\", \"run_type\": \"azureml.scriptrun\", \"training_percent\": \"100\", \"start_time\": \"2021-02-02T10:31:53.684973Z\", \"end_time\": \"2021-02-02T10:32:48.424762Z\", \"created_time\": \"2021-02-02T10:31:41.404697Z\", \"created_time_dt\": \"2021-02-02T10:31:41.404697Z\", \"duration\": \"0:01:07\", \"iteration\": \"13\", \"goal\": \"accuracy_max\", \"run_name\": \"SparseNormalizer, XGBoostClassifier\", \"run_properties\": \"<azureml.automl.runtime.shared.model_wrappers.SparseNormalizer object at 0x7fe27cf86630\", \"primary_metric\": 0.76335034, \"best_metric\": 0.81318027}, {\"run_id\": \"AutoML_b97067c0-8674-48bf-89fb-e38af95a0749_14\", \"run_number\": 20, \"metric\": null, \"status\": \"Completed\", \"run_type\": \"azureml.scriptrun\", \"training_percent\": \"100\", \"start_time\": \"2021-02-02T10:33:01.445711Z\", \"end_time\": \"2021-02-02T10:33:53.200101Z\", \"created_time\": \"2021-02-02T10:32:49.981265Z\", \"created_time_dt\": \"2021-02-02T10:32:49.981265Z\", \"duration\": \"0:01:03\", \"iteration\": \"14\", \"goal\": \"accuracy_max\", \"run_name\": \"StandardScalerWrapper, GradientBoosting\", \"run_properties\": \"<azureml.automl.runtime.shared.model_wrappers.StandardScalerWrapper object at 0x7efdf6edf278\", \"primary_metric\": 0.78418367, \"best_metric\": 0.81318027}, {\"run_id\": \"AutoML_b97067c0-8674-48bf-89fb-e38af95a0749_15\", \"run_number\": 21, \"metric\": null, \"status\": \"Completed\", \"run_type\": \"azureml.scriptrun\", \"training_percent\": \"100\", \"start_time\": \"2021-02-02T10:34:10.200458Z\", \"end_time\": \"2021-02-02T10:35:03.55777Z\", \"created_time\": \"2021-02-02T10:33:55.62809Z\", \"created_time_dt\": \"2021-02-02T10:33:55.62809Z\", \"duration\": \"0:01:07\", \"iteration\": \"15\", \"goal\": \"accuracy_max\", \"run_name\": \"StandardScalerWrapper, XGBoostClassifier\", \"run_properties\": \"<azureml.automl.runtime.shared.model_wrappers.StandardScalerWrapper object at 0x7f1aa38465f8\", \"primary_metric\": 0.76318027, \"best_metric\": 0.81318027}, {\"run_id\": \"AutoML_b97067c0-8674-48bf-89fb-e38af95a0749_16\", \"run_number\": 22, \"metric\": null, \"status\": \"Completed\", \"run_type\": \"azureml.scriptrun\", \"training_percent\": \"100\", \"start_time\": \"2021-02-02T10:35:17.442872Z\", \"end_time\": \"2021-02-02T10:36:06.350033Z\", \"created_time\": \"2021-02-02T10:35:05.99977Z\", \"created_time_dt\": \"2021-02-02T10:35:05.99977Z\", \"duration\": \"0:01:00\", \"iteration\": \"16\", \"goal\": \"accuracy_max\", \"run_name\": \"StandardScalerWrapper, ExtremeRandomTrees\", \"run_properties\": \"<azureml.automl.runtime.shared.model_wrappers.StandardScalerWrapper object at 0x7fed19acb630\", \"primary_metric\": 0.74659864, \"best_metric\": 0.81318027}, {\"run_id\": \"AutoML_b97067c0-8674-48bf-89fb-e38af95a0749_17\", \"run_number\": 23, \"metric\": null, \"status\": \"Completed\", \"run_type\": \"azureml.scriptrun\", \"training_percent\": \"100\", \"start_time\": \"2021-02-02T10:36:21.005006Z\", \"end_time\": \"2021-02-02T10:37:09.633465Z\", \"created_time\": \"2021-02-02T10:36:08.564925Z\", \"created_time_dt\": \"2021-02-02T10:36:08.564925Z\", \"duration\": \"0:01:01\", \"iteration\": \"17\", \"goal\": \"accuracy_max\", \"run_name\": \"StandardScalerWrapper, ExtremeRandomTrees\", \"run_properties\": \"<azureml.automl.runtime.shared.model_wrappers.StandardScalerWrapper object at 0x7ff61d186c50\", \"primary_metric\": 0.7922619, \"best_metric\": 0.81318027}, {\"run_id\": \"AutoML_b97067c0-8674-48bf-89fb-e38af95a0749_18\", \"run_number\": 24, \"metric\": null, \"status\": \"Completed\", \"run_type\": \"azureml.scriptrun\", \"training_percent\": \"100\", \"start_time\": \"2021-02-02T10:37:22.883174Z\", \"end_time\": \"2021-02-02T10:38:17.101707Z\", \"created_time\": \"2021-02-02T10:37:12.245659Z\", \"created_time_dt\": \"2021-02-02T10:37:12.245659Z\", \"duration\": \"0:01:04\", \"iteration\": \"18\", \"goal\": \"accuracy_max\", \"run_name\": \"RobustScaler, ExtremeRandomTrees\", \"run_properties\": \"copy=True, quantile_range=[25, 75], with_centering=True,\\n             with_scaling=True\", \"primary_metric\": 0.75918367, \"best_metric\": 0.81318027}, {\"run_id\": \"AutoML_b97067c0-8674-48bf-89fb-e38af95a0749_19\", \"run_number\": 25, \"metric\": null, \"status\": \"Completed\", \"run_type\": \"azureml.scriptrun\", \"training_percent\": \"100\", \"start_time\": \"2021-02-02T10:38:33.613793Z\", \"end_time\": \"2021-02-02T10:39:28.120652Z\", \"created_time\": \"2021-02-02T10:38:20.626858Z\", \"created_time_dt\": \"2021-02-02T10:38:20.626858Z\", \"duration\": \"0:01:07\", \"iteration\": \"19\", \"goal\": \"accuracy_max\", \"run_name\": \"StandardScalerWrapper, XGBoostClassifier\", \"run_properties\": \"<azureml.automl.runtime.shared.model_wrappers.StandardScalerWrapper object at 0x7fe5951de0f0\", \"primary_metric\": 0.7797619, \"best_metric\": 0.81318027}, {\"run_id\": \"AutoML_b97067c0-8674-48bf-89fb-e38af95a0749_20\", \"run_number\": 26, \"metric\": null, \"status\": \"Completed\", \"run_type\": \"azureml.scriptrun\", \"training_percent\": \"100\", \"start_time\": \"2021-02-02T10:39:43.379827Z\", \"end_time\": \"2021-02-02T10:40:40.290462Z\", \"created_time\": \"2021-02-02T10:39:32.326237Z\", \"created_time_dt\": \"2021-02-02T10:39:32.326237Z\", \"duration\": \"0:01:07\", \"iteration\": \"20\", \"goal\": \"accuracy_max\", \"run_name\": \"StandardScalerWrapper, XGBoostClassifier\", \"run_properties\": \"<azureml.automl.runtime.shared.model_wrappers.StandardScalerWrapper object at 0x7f0bcf08ecf8\", \"primary_metric\": 0.79634354, \"best_metric\": 0.81318027}, {\"run_id\": \"AutoML_b97067c0-8674-48bf-89fb-e38af95a0749_21\", \"run_number\": 27, \"metric\": null, \"status\": \"Completed\", \"run_type\": \"azureml.scriptrun\", \"training_percent\": \"100\", \"start_time\": \"2021-02-02T10:40:53.849083Z\", \"end_time\": \"2021-02-02T10:41:51.773228Z\", \"created_time\": \"2021-02-02T10:40:42.366278Z\", \"created_time_dt\": \"2021-02-02T10:40:42.366278Z\", \"duration\": \"0:01:09\", \"iteration\": \"21\", \"goal\": \"accuracy_max\", \"run_name\": \"SparseNormalizer, XGBoostClassifier\", \"run_properties\": \"<azureml.automl.runtime.shared.model_wrappers.SparseNormalizer object at 0x7f457df7aa58\", \"primary_metric\": 0.78392857, \"best_metric\": 0.81318027}, {\"run_id\": \"AutoML_b97067c0-8674-48bf-89fb-e38af95a0749_22\", \"run_number\": 28, \"metric\": null, \"status\": \"Completed\", \"run_type\": \"azureml.scriptrun\", \"training_percent\": \"100\", \"start_time\": \"2021-02-02T10:42:04.478659Z\", \"end_time\": \"2021-02-02T10:42:49.767533Z\", \"created_time\": \"2021-02-02T10:41:53.723247Z\", \"created_time_dt\": \"2021-02-02T10:41:53.723247Z\", \"duration\": \"0:00:56\", \"iteration\": \"22\", \"goal\": \"accuracy_max\", \"run_name\": \"SparseNormalizer, XGBoostClassifier\", \"run_properties\": \"<azureml.automl.runtime.shared.model_wrappers.SparseNormalizer object at 0x7f03aeaddb70\", \"primary_metric\": 0.79234694, \"best_metric\": 0.81318027}, {\"run_id\": \"AutoML_b97067c0-8674-48bf-89fb-e38af95a0749_23\", \"run_number\": 29, \"metric\": null, \"status\": \"Completed\", \"run_type\": \"azureml.scriptrun\", \"training_percent\": \"100\", \"start_time\": \"2021-02-02T10:43:05.034489Z\", \"end_time\": \"2021-02-02T10:43:50.875711Z\", \"created_time\": \"2021-02-02T10:42:51.54968Z\", \"created_time_dt\": \"2021-02-02T10:42:51.54968Z\", \"duration\": \"0:00:59\", \"iteration\": \"23\", \"goal\": \"accuracy_max\", \"run_name\": \"StandardScalerWrapper, ExtremeRandomTrees\", \"run_properties\": \"<azureml.automl.runtime.shared.model_wrappers.StandardScalerWrapper object at 0x7f7bbc4d9a20\", \"primary_metric\": 0.76743197, \"best_metric\": 0.81318027}, {\"run_id\": \"AutoML_b97067c0-8674-48bf-89fb-e38af95a0749_24\", \"run_number\": 30, \"metric\": null, \"status\": \"Completed\", \"run_type\": \"azureml.scriptrun\", \"training_percent\": \"100\", \"start_time\": \"2021-02-02T10:44:05.912891Z\", \"end_time\": \"2021-02-02T10:44:57.065356Z\", \"created_time\": \"2021-02-02T10:43:52.778489Z\", \"created_time_dt\": \"2021-02-02T10:43:52.778489Z\", \"duration\": \"0:01:04\", \"iteration\": \"24\", \"goal\": \"accuracy_max\", \"run_name\": \"MaxAbsScaler, RandomForest\", \"run_properties\": \"copy=True\", \"primary_metric\": 0.82151361, \"best_metric\": 0.82151361}, {\"run_id\": \"AutoML_b97067c0-8674-48bf-89fb-e38af95a0749_25\", \"run_number\": 31, \"metric\": null, \"status\": \"Completed\", \"run_type\": \"azureml.scriptrun\", \"training_percent\": \"100\", \"start_time\": \"2021-02-02T10:45:11.570201Z\", \"end_time\": \"2021-02-02T10:46:11.982058Z\", \"created_time\": \"2021-02-02T10:44:59.83034Z\", \"created_time_dt\": \"2021-02-02T10:44:59.83034Z\", \"duration\": \"0:01:12\", \"iteration\": \"25\", \"goal\": \"accuracy_max\", \"run_name\": \"MinMaxScaler, RandomForest\", \"run_properties\": \"copy=True, feature_range=(0, 1\", \"primary_metric\": 0.59829932, \"best_metric\": 0.82151361}, {\"run_id\": \"AutoML_b97067c0-8674-48bf-89fb-e38af95a0749_26\", \"run_number\": 32, \"metric\": null, \"status\": \"Completed\", \"run_type\": \"azureml.scriptrun\", \"training_percent\": \"100\", \"start_time\": \"2021-02-02T10:46:32.573033Z\", \"end_time\": \"2021-02-02T10:47:28.109743Z\", \"created_time\": \"2021-02-02T10:46:16.100895Z\", \"created_time_dt\": \"2021-02-02T10:46:16.100895Z\", \"duration\": \"0:01:12\", \"iteration\": \"26\", \"goal\": \"accuracy_max\", \"run_name\": \"StandardScalerWrapper, ExtremeRandomTrees\", \"run_properties\": \"<azureml.automl.runtime.shared.model_wrappers.StandardScalerWrapper object at 0x7f336e848be0\", \"primary_metric\": 0.79209184, \"best_metric\": 0.82151361}, {\"run_id\": \"AutoML_b97067c0-8674-48bf-89fb-e38af95a0749_27\", \"run_number\": 33, \"metric\": null, \"status\": \"Completed\", \"run_type\": \"azureml.scriptrun\", \"training_percent\": \"100\", \"start_time\": \"2021-02-02T10:47:40.828636Z\", \"end_time\": \"2021-02-02T10:48:47.010348Z\", \"created_time\": \"2021-02-02T10:47:30.403367Z\", \"created_time_dt\": \"2021-02-02T10:47:30.403367Z\", \"duration\": \"0:01:16\", \"iteration\": \"27\", \"goal\": \"accuracy_max\", \"run_name\": \"RobustScaler, ExtremeRandomTrees\", \"run_properties\": \"copy=True, quantile_range=[10, 90], with_centering=False,\\n             with_scaling=False\", \"primary_metric\": 0.7922619, \"best_metric\": 0.82151361}, {\"run_id\": \"AutoML_b97067c0-8674-48bf-89fb-e38af95a0749_28\", \"run_number\": 34, \"metric\": null, \"status\": \"Completed\", \"run_type\": \"azureml.scriptrun\", \"training_percent\": \"100\", \"start_time\": \"2021-02-02T10:49:02.091352Z\", \"end_time\": \"2021-02-02T10:50:12.889287Z\", \"created_time\": \"2021-02-02T10:48:49.814419Z\", \"created_time_dt\": \"2021-02-02T10:48:49.814419Z\", \"duration\": \"0:01:23\", \"iteration\": \"28\", \"goal\": \"accuracy_max\", \"run_name\": \"MaxAbsScaler, ExtremeRandomTrees\", \"run_properties\": \"copy=True\", \"primary_metric\": 0.77559524, \"best_metric\": 0.82151361}, {\"run_id\": \"AutoML_b97067c0-8674-48bf-89fb-e38af95a0749_29\", \"run_number\": 35, \"metric\": null, \"status\": \"Completed\", \"run_type\": \"azureml.scriptrun\", \"training_percent\": \"100\", \"start_time\": \"2021-02-02T10:50:27.243507Z\", \"end_time\": \"2021-02-02T10:51:15.795217Z\", \"created_time\": \"2021-02-02T10:50:15.018817Z\", \"created_time_dt\": \"2021-02-02T10:50:15.018817Z\", \"duration\": \"0:01:00\", \"iteration\": \"29\", \"goal\": \"accuracy_max\", \"run_name\": \"StandardScalerWrapper, XGBoostClassifier\", \"run_properties\": \"<azureml.automl.runtime.shared.model_wrappers.StandardScalerWrapper object at 0x7fbc09c726d8\", \"primary_metric\": 0.80892857, \"best_metric\": 0.82151361}, {\"run_id\": \"AutoML_b97067c0-8674-48bf-89fb-e38af95a0749_30\", \"run_number\": 36, \"metric\": null, \"status\": \"Completed\", \"run_type\": \"azureml.scriptrun\", \"training_percent\": \"100\", \"start_time\": \"2021-02-02T10:51:30.930938Z\", \"end_time\": \"2021-02-02T10:52:29.617791Z\", \"created_time\": \"2021-02-02T10:51:19.064778Z\", \"created_time_dt\": \"2021-02-02T10:51:19.064778Z\", \"duration\": \"0:01:10\", \"iteration\": \"30\", \"goal\": \"accuracy_max\", \"run_name\": \"SparseNormalizer, RandomForest\", \"run_properties\": \"<azureml.automl.runtime.shared.model_wrappers.SparseNormalizer object at 0x7fe9a7c6ddd8\", \"primary_metric\": 0.79243197, \"best_metric\": 0.82151361}, {\"run_id\": \"AutoML_b97067c0-8674-48bf-89fb-e38af95a0749_31\", \"run_number\": 37, \"metric\": null, \"status\": \"Completed\", \"run_type\": \"azureml.scriptrun\", \"training_percent\": \"100\", \"start_time\": \"2021-02-02T10:52:44.117933Z\", \"end_time\": \"2021-02-02T10:53:33.633439Z\", \"created_time\": \"2021-02-02T10:52:31.421012Z\", \"created_time_dt\": \"2021-02-02T10:52:31.421012Z\", \"duration\": \"0:01:02\", \"iteration\": \"31\", \"goal\": \"accuracy_max\", \"run_name\": \"StandardScalerWrapper, LightGBM\", \"run_properties\": \"<azureml.automl.runtime.shared.model_wrappers.StandardScalerWrapper object at 0x7f860399fcc0\", \"primary_metric\": 0.80901361, \"best_metric\": 0.82151361}, {\"run_id\": \"AutoML_b97067c0-8674-48bf-89fb-e38af95a0749_32\", \"run_number\": 38, \"metric\": null, \"status\": \"Completed\", \"run_type\": \"azureml.scriptrun\", \"training_percent\": \"100\", \"start_time\": \"2021-02-02T10:53:49.015854Z\", \"end_time\": \"2021-02-02T10:54:43.876102Z\", \"created_time\": \"2021-02-02T10:53:35.575807Z\", \"created_time_dt\": \"2021-02-02T10:53:35.575807Z\", \"duration\": \"0:01:08\", \"iteration\": \"32\", \"goal\": \"accuracy_max\", \"run_name\": \"StandardScalerWrapper, KNN\", \"run_properties\": \"<azureml.automl.runtime.shared.model_wrappers.StandardScalerWrapper object at 0x7f0e128adf28\", \"primary_metric\": 0.67627551, \"best_metric\": 0.82151361}, {\"run_id\": \"AutoML_b97067c0-8674-48bf-89fb-e38af95a0749_33\", \"run_number\": 39, \"metric\": null, \"status\": \"Completed\", \"run_type\": \"azureml.scriptrun\", \"training_percent\": \"100\", \"start_time\": \"2021-02-02T10:54:57.483445Z\", \"end_time\": \"2021-02-02T10:55:52.239336Z\", \"created_time\": \"2021-02-02T10:54:45.490732Z\", \"created_time_dt\": \"2021-02-02T10:54:45.490732Z\", \"duration\": \"0:01:06\", \"iteration\": \"33\", \"goal\": \"accuracy_max\", \"run_name\": \"MaxAbsScaler, LightGBM\", \"run_properties\": \"copy=True\", \"primary_metric\": 0.76743197, \"best_metric\": 0.82151361}, {\"run_id\": \"AutoML_b97067c0-8674-48bf-89fb-e38af95a0749_34\", \"run_number\": 40, \"metric\": null, \"status\": \"Completed\", \"run_type\": \"azureml.scriptrun\", \"training_percent\": \"100\", \"start_time\": \"2021-02-02T10:56:07.657955Z\", \"end_time\": \"2021-02-02T10:56:58.669288Z\", \"created_time\": \"2021-02-02T10:55:55.209968Z\", \"created_time_dt\": \"2021-02-02T10:55:55.209968Z\", \"duration\": \"0:01:03\", \"iteration\": \"34\", \"goal\": \"accuracy_max\", \"run_name\": \"MinMaxScaler, LogisticRegression\", \"run_properties\": \"copy=True, feature_range=(0, 1\", \"primary_metric\": 0.8462585, \"best_metric\": 0.8462585}, {\"run_id\": \"AutoML_b97067c0-8674-48bf-89fb-e38af95a0749_35\", \"run_number\": 41, \"metric\": null, \"status\": \"Completed\", \"run_type\": \"azureml.scriptrun\", \"training_percent\": \"100\", \"start_time\": \"2021-02-02T10:57:11.799502Z\", \"end_time\": \"2021-02-02T10:58:45.052008Z\", \"created_time\": \"2021-02-02T10:57:00.911271Z\", \"created_time_dt\": \"2021-02-02T10:57:00.911271Z\", \"duration\": \"0:01:44\", \"iteration\": \"35\", \"goal\": \"accuracy_max\", \"run_name\": \"VotingEnsemble\", \"run_properties\": \"classification_labels=None,\\n                              estimators=[('34',\\n                                           Pipeline(memory=None,\\n                                                    steps=[('minmaxscaler',\\n                                                            MinMaxScaler(copy=True,\\n                                                                         feature_range=(0,\\n                                                                                        1\", \"primary_metric\": 0.85867347, \"best_metric\": 0.85867347}], \"children_metrics\": {\"categories\": [0], \"series\": {\"precision_score_weighted\": [{\"categories\": [\"0\", \"1\", \"2\", \"3\", \"4\", \"5\", \"6\", \"7\", \"8\", \"9\", \"10\", \"11\", \"12\", \"13\", \"14\", \"15\", \"16\", \"17\", \"18\", \"19\", \"20\", \"21\", \"22\", \"23\", \"24\", \"25\", \"26\", \"27\", \"28\", \"29\", \"30\", \"31\", \"32\", \"33\", \"34\", \"35\"], \"mode\": \"markers\", \"name\": \"precision_score_weighted\", \"stepped\": false, \"type\": \"scatter\", \"data\": [0.8208993598454496, 0.8126867019373192, 0.7949915349919233, 0.7913775539074452, 0.7904315291333925, 0.8005390419526031, 0.8079269691850335, 0.8074860590375401, 0.7902864873652917, 0.7823674288961555, 0.7947406339969746, 0.7881659321003147, 0.7740477792709937, 0.7700341380400904, 0.7930392602033169, 0.7728198150521947, 0.7647060496849567, 0.8095357435676174, 0.7759962712767319, 0.7897176291325839, 0.8018745745187257, 0.7888668080776415, 0.8044969484449297, 0.7819446159157043, 0.836552850674745, 0.4700784271938409, 0.8036316665276292, 0.80468692519236, 0.791093366265213, 0.8214508549773019, 0.8071181634429344, 0.8209741166068806, 0.6861620709111403, 0.781058722951192, 0.8522340754483612, 0.8644854252889967]}, {\"categories\": [\"0\", \"1\", \"2\", \"3\", \"4\", \"5\", \"6\", \"7\", \"8\", \"9\", \"10\", \"11\", \"12\", \"13\", \"14\", \"15\", \"16\", \"17\", \"18\", \"19\", \"20\", \"21\", \"22\", \"23\", \"24\", \"25\", \"26\", \"27\", \"28\", \"29\", \"30\", \"31\", \"32\", \"33\", \"34\", \"35\"], \"mode\": \"lines\", \"name\": \"precision_score_weighted_max\", \"stepped\": true, \"type\": \"scatter\", \"data\": [0.8208993598454496, 0.8208993598454496, 0.8208993598454496, 0.8208993598454496, 0.8208993598454496, 0.8208993598454496, 0.8208993598454496, 0.8208993598454496, 0.8208993598454496, 0.8208993598454496, 0.8208993598454496, 0.8208993598454496, 0.8208993598454496, 0.8208993598454496, 0.8208993598454496, 0.8208993598454496, 0.8208993598454496, 0.8208993598454496, 0.8208993598454496, 0.8208993598454496, 0.8208993598454496, 0.8208993598454496, 0.8208993598454496, 0.8208993598454496, 0.836552850674745, 0.836552850674745, 0.836552850674745, 0.836552850674745, 0.836552850674745, 0.836552850674745, 0.836552850674745, 0.836552850674745, 0.836552850674745, 0.836552850674745, 0.8522340754483612, 0.8644854252889967]}], \"norm_macro_recall\": [{\"categories\": [\"0\", \"1\", \"2\", \"3\", \"4\", \"5\", \"6\", \"7\", \"8\", \"9\", \"10\", \"11\", \"12\", \"13\", \"14\", \"15\", \"16\", \"17\", \"18\", \"19\", \"20\", \"21\", \"22\", \"23\", \"24\", \"25\", \"26\", \"27\", \"28\", \"29\", \"30\", \"31\", \"32\", \"33\", \"34\", \"35\"], \"mode\": \"markers\", \"name\": \"norm_macro_recall\", \"stepped\": false, \"type\": \"scatter\", \"data\": [0.6268786258499823, 0.6066459560528841, 0.5783524444962147, 0.5747431530684115, 0.5709421421286015, 0.590018991339752, 0.6068727632841892, 0.6012805593861381, 0.5715425077770221, 0.5520484853646694, 0.5604377193191208, 0.5553588301922556, 0.5296414666518036, 0.5261403283320746, 0.5741433819431137, 0.5335852959067667, 0.5085755785432262, 0.6016119726268861, 0.5329482735658069, 0.5615720018019396, 0.5945312439853592, 0.563336254178675, 0.5928948633452696, 0.5472175190600188, 0.6553492468469191, 0.19697519661222018, 0.5950951199421175, 0.5941329343682377, 0.5610607962518324, 0.6249979229265901, 0.5944899622035265, 0.631031945180292, 0.34155126780803413, 0.5454433276260784, 0.7002316786468921, 0.7232291723812279]}, {\"categories\": [\"0\", \"1\", \"2\", \"3\", \"4\", \"5\", \"6\", \"7\", \"8\", \"9\", \"10\", \"11\", \"12\", \"13\", \"14\", \"15\", \"16\", \"17\", \"18\", \"19\", \"20\", \"21\", \"22\", \"23\", \"24\", \"25\", \"26\", \"27\", \"28\", \"29\", \"30\", \"31\", \"32\", \"33\", \"34\", \"35\"], \"mode\": \"lines\", \"name\": \"norm_macro_recall_max\", \"stepped\": true, \"type\": \"scatter\", \"data\": [0.6268786258499823, 0.6268786258499823, 0.6268786258499823, 0.6268786258499823, 0.6268786258499823, 0.6268786258499823, 0.6268786258499823, 0.6268786258499823, 0.6268786258499823, 0.6268786258499823, 0.6268786258499823, 0.6268786258499823, 0.6268786258499823, 0.6268786258499823, 0.6268786258499823, 0.6268786258499823, 0.6268786258499823, 0.6268786258499823, 0.6268786258499823, 0.6268786258499823, 0.6268786258499823, 0.6268786258499823, 0.6268786258499823, 0.6268786258499823, 0.6553492468469191, 0.6553492468469191, 0.6553492468469191, 0.6553492468469191, 0.6553492468469191, 0.6553492468469191, 0.6553492468469191, 0.6553492468469191, 0.6553492468469191, 0.6553492468469191, 0.7002316786468921, 0.7232291723812279]}], \"log_loss\": [{\"categories\": [\"0\", \"1\", \"2\", \"3\", \"4\", \"5\", \"6\", \"7\", \"8\", \"9\", \"10\", \"11\", \"12\", \"13\", \"14\", \"15\", \"16\", \"17\", \"18\", \"19\", \"20\", \"21\", \"22\", \"23\", \"24\", \"25\", \"26\", \"27\", \"28\", \"29\", \"30\", \"31\", \"32\", \"33\", \"34\", \"35\"], \"mode\": \"markers\", \"name\": \"log_loss\", \"stepped\": false, \"type\": \"scatter\", \"data\": [0.5109833641978934, 0.41898272667837766, 0.45189716714990524, 0.4633344094044672, 0.43083479879615966, 0.4384573056186608, 0.4040341630019749, 0.4358834328402678, 0.43236869812090883, 0.44487731763250365, 0.4597741597617828, 0.4949384629991779, 0.4699707756206612, 0.5161495797203534, 0.4574530559048471, 0.5262572079626007, 0.47517320672979996, 0.4183205432703111, 0.4857393192085652, 0.49529789125696844, 0.5020518637699791, 0.428375949304321, 0.4181693376419128, 0.4880577502745204, 0.42936424991688904, 0.6839784593020858, 0.4489253283326744, 0.4284629563152893, 0.4835353225796849, 0.4630699411062097, 0.5571883216634866, 0.47660996436723646, 0.7141332919634199, 0.4543510505827638, 0.41393671273566096, 0.3777849668379857]}, {\"categories\": [\"0\", \"1\", \"2\", \"3\", \"4\", \"5\", \"6\", \"7\", \"8\", \"9\", \"10\", \"11\", \"12\", \"13\", \"14\", \"15\", \"16\", \"17\", \"18\", \"19\", \"20\", \"21\", \"22\", \"23\", \"24\", \"25\", \"26\", \"27\", \"28\", \"29\", \"30\", \"31\", \"32\", \"33\", \"34\", \"35\"], \"mode\": \"lines\", \"name\": \"log_loss_min\", \"stepped\": true, \"type\": \"scatter\", \"data\": [0.5109833641978934, 0.41898272667837766, 0.41898272667837766, 0.41898272667837766, 0.41898272667837766, 0.41898272667837766, 0.4040341630019749, 0.4040341630019749, 0.4040341630019749, 0.4040341630019749, 0.4040341630019749, 0.4040341630019749, 0.4040341630019749, 0.4040341630019749, 0.4040341630019749, 0.4040341630019749, 0.4040341630019749, 0.4040341630019749, 0.4040341630019749, 0.4040341630019749, 0.4040341630019749, 0.4040341630019749, 0.4040341630019749, 0.4040341630019749, 0.4040341630019749, 0.4040341630019749, 0.4040341630019749, 0.4040341630019749, 0.4040341630019749, 0.4040341630019749, 0.4040341630019749, 0.4040341630019749, 0.4040341630019749, 0.4040341630019749, 0.4040341630019749, 0.3777849668379857]}], \"recall_score_macro\": [{\"categories\": [\"0\", \"1\", \"2\", \"3\", \"4\", \"5\", \"6\", \"7\", \"8\", \"9\", \"10\", \"11\", \"12\", \"13\", \"14\", \"15\", \"16\", \"17\", \"18\", \"19\", \"20\", \"21\", \"22\", \"23\", \"24\", \"25\", \"26\", \"27\", \"28\", \"29\", \"30\", \"31\", \"32\", \"33\", \"34\", \"35\"], \"mode\": \"markers\", \"name\": \"recall_score_macro\", \"stepped\": false, \"type\": \"scatter\", \"data\": [0.8134393129249912, 0.803322978026442, 0.7891762222481074, 0.7873715765342058, 0.7854710710643007, 0.7950094956698761, 0.8034363816420946, 0.8006402796930692, 0.7857712538885111, 0.7760242426823347, 0.7802188596595604, 0.7776794150961278, 0.7648207333259018, 0.7630701641660373, 0.7870716909715568, 0.7667926479533833, 0.7542877892716131, 0.8008059863134431, 0.7664741367829034, 0.7807860009009697, 0.7972656219926796, 0.7816681270893376, 0.7964474316726349, 0.7736087595300095, 0.8276746234234595, 0.5984875983061101, 0.7975475599710588, 0.7970664671841189, 0.7805303981259162, 0.812498961463295, 0.7972449811017632, 0.815515972590146, 0.6707756339040172, 0.7727216638130392, 0.850115839323446, 0.8616145861906139]}, {\"categories\": [\"0\", \"1\", \"2\", \"3\", \"4\", \"5\", \"6\", \"7\", \"8\", \"9\", \"10\", \"11\", \"12\", \"13\", \"14\", \"15\", \"16\", \"17\", \"18\", \"19\", \"20\", \"21\", \"22\", \"23\", \"24\", \"25\", \"26\", \"27\", \"28\", \"29\", \"30\", \"31\", \"32\", \"33\", \"34\", \"35\"], \"mode\": \"lines\", \"name\": \"recall_score_macro_max\", \"stepped\": true, \"type\": \"scatter\", \"data\": [0.8134393129249912, 0.8134393129249912, 0.8134393129249912, 0.8134393129249912, 0.8134393129249912, 0.8134393129249912, 0.8134393129249912, 0.8134393129249912, 0.8134393129249912, 0.8134393129249912, 0.8134393129249912, 0.8134393129249912, 0.8134393129249912, 0.8134393129249912, 0.8134393129249912, 0.8134393129249912, 0.8134393129249912, 0.8134393129249912, 0.8134393129249912, 0.8134393129249912, 0.8134393129249912, 0.8134393129249912, 0.8134393129249912, 0.8134393129249912, 0.8276746234234595, 0.8276746234234595, 0.8276746234234595, 0.8276746234234595, 0.8276746234234595, 0.8276746234234595, 0.8276746234234595, 0.8276746234234595, 0.8276746234234595, 0.8276746234234595, 0.850115839323446, 0.8616145861906139]}], \"precision_score_micro\": [{\"categories\": [\"0\", \"1\", \"2\", \"3\", \"4\", \"5\", \"6\", \"7\", \"8\", \"9\", \"10\", \"11\", \"12\", \"13\", \"14\", \"15\", \"16\", \"17\", \"18\", \"19\", \"20\", \"21\", \"22\", \"23\", \"24\", \"25\", \"26\", \"27\", \"28\", \"29\", \"30\", \"31\", \"32\", \"33\", \"34\", \"35\"], \"mode\": \"markers\", \"name\": \"precision_score_micro\", \"stepped\": false, \"type\": \"scatter\", \"data\": [0.8131802721088434, 0.8006802721088435, 0.783843537414966, 0.7839285714285714, 0.7841836734693877, 0.7881802721088436, 0.8005102040816328, 0.796343537414966, 0.7839285714285713, 0.7716836734693877, 0.775595238095238, 0.7718537414965986, 0.7590986394557824, 0.7633503401360544, 0.7841836734693877, 0.7631802721088435, 0.7465986394557824, 0.7922619047619047, 0.7591836734693878, 0.7797619047619048, 0.7963435374149659, 0.7839285714285714, 0.7923469387755102, 0.7674319727891157, 0.821513605442177, 0.5982993197278913, 0.7920918367346939, 0.7922619047619047, 0.7755952380952381, 0.8089285714285716, 0.7924319727891157, 0.8090136054421769, 0.6762755102040816, 0.7674319727891156, 0.8462585034013606, 0.8586734693877551]}, {\"categories\": [\"0\", \"1\", \"2\", \"3\", \"4\", \"5\", \"6\", \"7\", \"8\", \"9\", \"10\", \"11\", \"12\", \"13\", \"14\", \"15\", \"16\", \"17\", \"18\", \"19\", \"20\", \"21\", \"22\", \"23\", \"24\", \"25\", \"26\", \"27\", \"28\", \"29\", \"30\", \"31\", \"32\", \"33\", \"34\", \"35\"], \"mode\": \"lines\", \"name\": \"precision_score_micro_max\", \"stepped\": true, \"type\": \"scatter\", \"data\": [0.8131802721088434, 0.8131802721088434, 0.8131802721088434, 0.8131802721088434, 0.8131802721088434, 0.8131802721088434, 0.8131802721088434, 0.8131802721088434, 0.8131802721088434, 0.8131802721088434, 0.8131802721088434, 0.8131802721088434, 0.8131802721088434, 0.8131802721088434, 0.8131802721088434, 0.8131802721088434, 0.8131802721088434, 0.8131802721088434, 0.8131802721088434, 0.8131802721088434, 0.8131802721088434, 0.8131802721088434, 0.8131802721088434, 0.8131802721088434, 0.821513605442177, 0.821513605442177, 0.821513605442177, 0.821513605442177, 0.821513605442177, 0.821513605442177, 0.821513605442177, 0.821513605442177, 0.821513605442177, 0.821513605442177, 0.8462585034013606, 0.8586734693877551]}], \"AUC_macro\": [{\"categories\": [\"0\", \"1\", \"2\", \"3\", \"4\", \"5\", \"6\", \"7\", \"8\", \"9\", \"10\", \"11\", \"12\", \"13\", \"14\", \"15\", \"16\", \"17\", \"18\", \"19\", \"20\", \"21\", \"22\", \"23\", \"24\", \"25\", \"26\", \"27\", \"28\", \"29\", \"30\", \"31\", \"32\", \"33\", \"34\", \"35\"], \"mode\": \"markers\", \"name\": \"AUC_macro\", \"stepped\": false, \"type\": \"scatter\", \"data\": [0.8781780799936986, 0.9003460372292272, 0.8834946255638542, 0.869942597623494, 0.8825756486835946, 0.8807566233591644, 0.9055573502583154, 0.8892206113595945, 0.8910390878078088, 0.8792684448641733, 0.8726690851177029, 0.8751024273438329, 0.8697877850270075, 0.859051212628161, 0.8866746404018819, 0.8607228026198541, 0.8567526350998825, 0.9046663009347456, 0.8721799927104117, 0.872190556907567, 0.8798187074660943, 0.8854851212655994, 0.9010522371785423, 0.8503936294175386, 0.9227158868351955, 0.8650105402603627, 0.9011754960726265, 0.8927740682707936, 0.8663220369764992, 0.8876458390131028, 0.8616375643979737, 0.8804185442784037, 0.7662107963005409, 0.8745047682229619, 0.9243563317199657, 0.9273402521796745]}, {\"categories\": [\"0\", \"1\", \"2\", \"3\", \"4\", \"5\", \"6\", \"7\", \"8\", \"9\", \"10\", \"11\", \"12\", \"13\", \"14\", \"15\", \"16\", \"17\", \"18\", \"19\", \"20\", \"21\", \"22\", \"23\", \"24\", \"25\", \"26\", \"27\", \"28\", \"29\", \"30\", \"31\", \"32\", \"33\", \"34\", \"35\"], \"mode\": \"lines\", \"name\": \"AUC_macro_max\", \"stepped\": true, \"type\": \"scatter\", \"data\": [0.8781780799936986, 0.9003460372292272, 0.9003460372292272, 0.9003460372292272, 0.9003460372292272, 0.9003460372292272, 0.9055573502583154, 0.9055573502583154, 0.9055573502583154, 0.9055573502583154, 0.9055573502583154, 0.9055573502583154, 0.9055573502583154, 0.9055573502583154, 0.9055573502583154, 0.9055573502583154, 0.9055573502583154, 0.9055573502583154, 0.9055573502583154, 0.9055573502583154, 0.9055573502583154, 0.9055573502583154, 0.9055573502583154, 0.9055573502583154, 0.9227158868351955, 0.9227158868351955, 0.9227158868351955, 0.9227158868351955, 0.9227158868351955, 0.9227158868351955, 0.9227158868351955, 0.9227158868351955, 0.9227158868351955, 0.9227158868351955, 0.9243563317199657, 0.9273402521796745]}], \"weighted_accuracy\": [{\"categories\": [\"0\", \"1\", \"2\", \"3\", \"4\", \"5\", \"6\", \"7\", \"8\", \"9\", \"10\", \"11\", \"12\", \"13\", \"14\", \"15\", \"16\", \"17\", \"18\", \"19\", \"20\", \"21\", \"22\", \"23\", \"24\", \"25\", \"26\", \"27\", \"28\", \"29\", \"30\", \"31\", \"32\", \"33\", \"34\", \"35\"], \"mode\": \"markers\", \"name\": \"weighted_accuracy\", \"stepped\": false, \"type\": \"scatter\", \"data\": [0.8130676358076514, 0.7983683338769689, 0.7788961978165303, 0.7808094042766228, 0.7829507453578144, 0.7818735289321227, 0.7978379971239722, 0.7924014187510214, 0.7823361136382809, 0.76764514526892, 0.7713900363137736, 0.7664708204212414, 0.7537840644080592, 0.7636228238522871, 0.7815341281761377, 0.7598765471430451, 0.7394685244501036, 0.7843855629593982, 0.752335575023343, 0.7788868997897719, 0.7954977932109892, 0.786216413658107, 0.7886274104445377, 0.7617082070716823, 0.8158159834896701, 0.598898757786164, 0.7870743224658561, 0.7879336610165796, 0.770968366730959, 0.8057428006077287, 0.7880680764418747, 0.8030042016181753, 0.6815166209482983, 0.7625900314734946, 0.8427109602135439, 0.8559859321311517]}, {\"categories\": [\"0\", \"1\", \"2\", \"3\", \"4\", \"5\", \"6\", \"7\", \"8\", \"9\", \"10\", \"11\", \"12\", \"13\", \"14\", \"15\", \"16\", \"17\", \"18\", \"19\", \"20\", \"21\", \"22\", \"23\", \"24\", \"25\", \"26\", \"27\", \"28\", \"29\", \"30\", \"31\", \"32\", \"33\", \"34\", \"35\"], \"mode\": \"lines\", \"name\": \"weighted_accuracy_max\", \"stepped\": true, \"type\": \"scatter\", \"data\": [0.8130676358076514, 0.8130676358076514, 0.8130676358076514, 0.8130676358076514, 0.8130676358076514, 0.8130676358076514, 0.8130676358076514, 0.8130676358076514, 0.8130676358076514, 0.8130676358076514, 0.8130676358076514, 0.8130676358076514, 0.8130676358076514, 0.8130676358076514, 0.8130676358076514, 0.8130676358076514, 0.8130676358076514, 0.8130676358076514, 0.8130676358076514, 0.8130676358076514, 0.8130676358076514, 0.8130676358076514, 0.8130676358076514, 0.8130676358076514, 0.8158159834896701, 0.8158159834896701, 0.8158159834896701, 0.8158159834896701, 0.8158159834896701, 0.8158159834896701, 0.8158159834896701, 0.8158159834896701, 0.8158159834896701, 0.8158159834896701, 0.8427109602135439, 0.8559859321311517]}], \"f1_score_weighted\": [{\"categories\": [\"0\", \"1\", \"2\", \"3\", \"4\", \"5\", \"6\", \"7\", \"8\", \"9\", \"10\", \"11\", \"12\", \"13\", \"14\", \"15\", \"16\", \"17\", \"18\", \"19\", \"20\", \"21\", \"22\", \"23\", \"24\", \"25\", \"26\", \"27\", \"28\", \"29\", \"30\", \"31\", \"32\", \"33\", \"34\", \"35\"], \"mode\": \"markers\", \"name\": \"f1_score_weighted\", \"stepped\": false, \"type\": \"scatter\", \"data\": [0.8126818643200074, 0.8002827530588661, 0.7844898454879188, 0.784355820104149, 0.7845012168159476, 0.7887704998137068, 0.8005114755866277, 0.7962926893660918, 0.7841500149482898, 0.7722739371706533, 0.7748164053170198, 0.7720322844875495, 0.7592295855949922, 0.7628471670634124, 0.7841067946724045, 0.7631294945149084, 0.7461722314823607, 0.7923724982506792, 0.7595064190494555, 0.7795240582268884, 0.7965649092345009, 0.7833370402636556, 0.7921662110328822, 0.7676708107620733, 0.8212156258282176, 0.48977224302466665, 0.7920174148000745, 0.7918784416037971, 0.7753339968771045, 0.8084898173105719, 0.7920629451162682, 0.8095263706238456, 0.6719703301555437, 0.7678122104343075, 0.8466413468100521, 0.8589208840830871]}, {\"categories\": [\"0\", \"1\", \"2\", \"3\", \"4\", \"5\", \"6\", \"7\", \"8\", \"9\", \"10\", \"11\", \"12\", \"13\", \"14\", \"15\", \"16\", \"17\", \"18\", \"19\", \"20\", \"21\", \"22\", \"23\", \"24\", \"25\", \"26\", \"27\", \"28\", \"29\", \"30\", \"31\", \"32\", \"33\", \"34\", \"35\"], \"mode\": \"lines\", \"name\": \"f1_score_weighted_max\", \"stepped\": true, \"type\": \"scatter\", \"data\": [0.8126818643200074, 0.8126818643200074, 0.8126818643200074, 0.8126818643200074, 0.8126818643200074, 0.8126818643200074, 0.8126818643200074, 0.8126818643200074, 0.8126818643200074, 0.8126818643200074, 0.8126818643200074, 0.8126818643200074, 0.8126818643200074, 0.8126818643200074, 0.8126818643200074, 0.8126818643200074, 0.8126818643200074, 0.8126818643200074, 0.8126818643200074, 0.8126818643200074, 0.8126818643200074, 0.8126818643200074, 0.8126818643200074, 0.8126818643200074, 0.8212156258282176, 0.8212156258282176, 0.8212156258282176, 0.8212156258282176, 0.8212156258282176, 0.8212156258282176, 0.8212156258282176, 0.8212156258282176, 0.8212156258282176, 0.8212156258282176, 0.8466413468100521, 0.8589208840830871]}], \"AUC_weighted\": [{\"categories\": [\"0\", \"1\", \"2\", \"3\", \"4\", \"5\", \"6\", \"7\", \"8\", \"9\", \"10\", \"11\", \"12\", \"13\", \"14\", \"15\", \"16\", \"17\", \"18\", \"19\", \"20\", \"21\", \"22\", \"23\", \"24\", \"25\", \"26\", \"27\", \"28\", \"29\", \"30\", \"31\", \"32\", \"33\", \"34\", \"35\"], \"mode\": \"markers\", \"name\": \"AUC_weighted\", \"stepped\": false, \"type\": \"scatter\", \"data\": [0.8781780799936983, 0.9003460372292272, 0.8834946255638542, 0.869942597623494, 0.8825756486835947, 0.8807566233591642, 0.9055573502583156, 0.8892206113595945, 0.8910390878078086, 0.8792684448641733, 0.8726690851177029, 0.8751024273438329, 0.8697877850270075, 0.859051212628161, 0.8866746404018819, 0.8607228026198541, 0.8567526350998825, 0.9046663009347456, 0.8721799927104117, 0.8721905569075667, 0.8798187074660943, 0.8854851212655994, 0.9010522371785423, 0.8503936294175386, 0.9227158868351955, 0.8650105402603627, 0.9011754960726265, 0.8927850911984831, 0.8663220369764992, 0.8876458390131028, 0.8616375643979737, 0.8804185442784037, 0.7662107963005409, 0.8745047682229619, 0.9243563317199657, 0.9273402521796745]}, {\"categories\": [\"0\", \"1\", \"2\", \"3\", \"4\", \"5\", \"6\", \"7\", \"8\", \"9\", \"10\", \"11\", \"12\", \"13\", \"14\", \"15\", \"16\", \"17\", \"18\", \"19\", \"20\", \"21\", \"22\", \"23\", \"24\", \"25\", \"26\", \"27\", \"28\", \"29\", \"30\", \"31\", \"32\", \"33\", \"34\", \"35\"], \"mode\": \"lines\", \"name\": \"AUC_weighted_max\", \"stepped\": true, \"type\": \"scatter\", \"data\": [0.8781780799936983, 0.9003460372292272, 0.9003460372292272, 0.9003460372292272, 0.9003460372292272, 0.9003460372292272, 0.9055573502583156, 0.9055573502583156, 0.9055573502583156, 0.9055573502583156, 0.9055573502583156, 0.9055573502583156, 0.9055573502583156, 0.9055573502583156, 0.9055573502583156, 0.9055573502583156, 0.9055573502583156, 0.9055573502583156, 0.9055573502583156, 0.9055573502583156, 0.9055573502583156, 0.9055573502583156, 0.9055573502583156, 0.9055573502583156, 0.9227158868351955, 0.9227158868351955, 0.9227158868351955, 0.9227158868351955, 0.9227158868351955, 0.9227158868351955, 0.9227158868351955, 0.9227158868351955, 0.9227158868351955, 0.9227158868351955, 0.9243563317199657, 0.9273402521796745]}], \"f1_score_macro\": [{\"categories\": [\"0\", \"1\", \"2\", \"3\", \"4\", \"5\", \"6\", \"7\", \"8\", \"9\", \"10\", \"11\", \"12\", \"13\", \"14\", \"15\", \"16\", \"17\", \"18\", \"19\", \"20\", \"21\", \"22\", \"23\", \"24\", \"25\", \"26\", \"27\", \"28\", \"29\", \"30\", \"31\", \"32\", \"33\", \"34\", \"35\"], \"mode\": \"markers\", \"name\": \"f1_score_macro\", \"stepped\": false, \"type\": \"scatter\", \"data\": [0.8096640380714986, 0.797562567966161, 0.7822651902692863, 0.7819331152805588, 0.7813595401261094, 0.787005023326255, 0.7980989046555761, 0.7940420908442933, 0.7813282864215233, 0.7698234259190946, 0.7723013378879946, 0.7698799857229566, 0.7570823343767599, 0.7595834188000319, 0.7814935377105731, 0.7606091096372495, 0.744453214712889, 0.7908144439809021, 0.7578135678596574, 0.7762518822896182, 0.7938280249426061, 0.7797687787418212, 0.789772615358822, 0.7658096280367801, 0.8194398133457069, 0.48952334554127575, 0.7901533743082487, 0.7896876976434762, 0.7736084081510082, 0.8060742319452279, 0.7898834141246913, 0.8077495728943338, 0.6655247298152651, 0.7654212699703415, 0.8448532815256815, 0.8569325479997116]}, {\"categories\": [\"0\", \"1\", \"2\", \"3\", \"4\", \"5\", \"6\", \"7\", \"8\", \"9\", \"10\", \"11\", \"12\", \"13\", \"14\", \"15\", \"16\", \"17\", \"18\", \"19\", \"20\", \"21\", \"22\", \"23\", \"24\", \"25\", \"26\", \"27\", \"28\", \"29\", \"30\", \"31\", \"32\", \"33\", \"34\", \"35\"], \"mode\": \"lines\", \"name\": \"f1_score_macro_max\", \"stepped\": true, \"type\": \"scatter\", \"data\": [0.8096640380714986, 0.8096640380714986, 0.8096640380714986, 0.8096640380714986, 0.8096640380714986, 0.8096640380714986, 0.8096640380714986, 0.8096640380714986, 0.8096640380714986, 0.8096640380714986, 0.8096640380714986, 0.8096640380714986, 0.8096640380714986, 0.8096640380714986, 0.8096640380714986, 0.8096640380714986, 0.8096640380714986, 0.8096640380714986, 0.8096640380714986, 0.8096640380714986, 0.8096640380714986, 0.8096640380714986, 0.8096640380714986, 0.8096640380714986, 0.8194398133457069, 0.8194398133457069, 0.8194398133457069, 0.8194398133457069, 0.8194398133457069, 0.8194398133457069, 0.8194398133457069, 0.8194398133457069, 0.8194398133457069, 0.8194398133457069, 0.8448532815256815, 0.8569325479997116]}], \"balanced_accuracy\": [{\"categories\": [\"0\", \"1\", \"2\", \"3\", \"4\", \"5\", \"6\", \"7\", \"8\", \"9\", \"10\", \"11\", \"12\", \"13\", \"14\", \"15\", \"16\", \"17\", \"18\", \"19\", \"20\", \"21\", \"22\", \"23\", \"24\", \"25\", \"26\", \"27\", \"28\", \"29\", \"30\", \"31\", \"32\", \"33\", \"34\", \"35\"], \"mode\": \"markers\", \"name\": \"balanced_accuracy\", \"stepped\": false, \"type\": \"scatter\", \"data\": [0.8134393129249912, 0.803322978026442, 0.7891762222481074, 0.7873715765342058, 0.7854710710643007, 0.7950094956698761, 0.8034363816420946, 0.8006402796930692, 0.7857712538885111, 0.7760242426823347, 0.7802188596595604, 0.7776794150961278, 0.7648207333259018, 0.7630701641660373, 0.7870716909715568, 0.7667926479533833, 0.7542877892716131, 0.8008059863134431, 0.7664741367829034, 0.7807860009009697, 0.7972656219926796, 0.7816681270893376, 0.7964474316726349, 0.7736087595300095, 0.8276746234234595, 0.5984875983061101, 0.7975475599710588, 0.7970664671841189, 0.7805303981259162, 0.812498961463295, 0.7972449811017632, 0.815515972590146, 0.6707756339040172, 0.7727216638130392, 0.850115839323446, 0.8616145861906139]}, {\"categories\": [\"0\", \"1\", \"2\", \"3\", \"4\", \"5\", \"6\", \"7\", \"8\", \"9\", \"10\", \"11\", \"12\", \"13\", \"14\", \"15\", \"16\", \"17\", \"18\", \"19\", \"20\", \"21\", \"22\", \"23\", \"24\", \"25\", \"26\", \"27\", \"28\", \"29\", \"30\", \"31\", \"32\", \"33\", \"34\", \"35\"], \"mode\": \"lines\", \"name\": \"balanced_accuracy_max\", \"stepped\": true, \"type\": \"scatter\", \"data\": [0.8134393129249912, 0.8134393129249912, 0.8134393129249912, 0.8134393129249912, 0.8134393129249912, 0.8134393129249912, 0.8134393129249912, 0.8134393129249912, 0.8134393129249912, 0.8134393129249912, 0.8134393129249912, 0.8134393129249912, 0.8134393129249912, 0.8134393129249912, 0.8134393129249912, 0.8134393129249912, 0.8134393129249912, 0.8134393129249912, 0.8134393129249912, 0.8134393129249912, 0.8134393129249912, 0.8134393129249912, 0.8134393129249912, 0.8134393129249912, 0.8276746234234595, 0.8276746234234595, 0.8276746234234595, 0.8276746234234595, 0.8276746234234595, 0.8276746234234595, 0.8276746234234595, 0.8276746234234595, 0.8276746234234595, 0.8276746234234595, 0.850115839323446, 0.8616145861906139]}], \"average_precision_score_macro\": [{\"categories\": [\"0\", \"1\", \"2\", \"3\", \"4\", \"5\", \"6\", \"7\", \"8\", \"9\", \"10\", \"11\", \"12\", \"13\", \"14\", \"15\", \"16\", \"17\", \"18\", \"19\", \"20\", \"21\", \"22\", \"23\", \"24\", \"25\", \"26\", \"27\", \"28\", \"29\", \"30\", \"31\", \"32\", \"33\", \"34\", \"35\"], \"mode\": \"markers\", \"name\": \"average_precision_score_macro\", \"stepped\": false, \"type\": \"scatter\", \"data\": [0.8829957430416515, 0.9054613511452722, 0.8895558289557591, 0.8786283234223135, 0.8873046574063131, 0.8823237908995027, 0.9077821137610492, 0.8924744109340154, 0.8993742875932373, 0.8872620017497992, 0.8773558520843864, 0.8819915290822647, 0.874111743845333, 0.8672633372127138, 0.8923593100196582, 0.867726936599205, 0.8636014594931796, 0.9052949348909763, 0.8764487881510012, 0.8785977021495069, 0.8783475366645884, 0.8943507590867567, 0.908736290178948, 0.8562524446515919, 0.9245750753651262, 0.8624266802555981, 0.9028807587144687, 0.8969693115583517, 0.872055013949276, 0.8929068617401242, 0.8649607205458805, 0.8810763952335787, 0.7727433288275118, 0.880928335776435, 0.9263960056972629, 0.9284554580538407]}, {\"categories\": [\"0\", \"1\", \"2\", \"3\", \"4\", \"5\", \"6\", \"7\", \"8\", \"9\", \"10\", \"11\", \"12\", \"13\", \"14\", \"15\", \"16\", \"17\", \"18\", \"19\", \"20\", \"21\", \"22\", \"23\", \"24\", \"25\", \"26\", \"27\", \"28\", \"29\", \"30\", \"31\", \"32\", \"33\", \"34\", \"35\"], \"mode\": \"lines\", \"name\": \"average_precision_score_macro_max\", \"stepped\": true, \"type\": \"scatter\", \"data\": [0.8829957430416515, 0.9054613511452722, 0.9054613511452722, 0.9054613511452722, 0.9054613511452722, 0.9054613511452722, 0.9077821137610492, 0.9077821137610492, 0.9077821137610492, 0.9077821137610492, 0.9077821137610492, 0.9077821137610492, 0.9077821137610492, 0.9077821137610492, 0.9077821137610492, 0.9077821137610492, 0.9077821137610492, 0.9077821137610492, 0.9077821137610492, 0.9077821137610492, 0.9077821137610492, 0.9077821137610492, 0.908736290178948, 0.908736290178948, 0.9245750753651262, 0.9245750753651262, 0.9245750753651262, 0.9245750753651262, 0.9245750753651262, 0.9245750753651262, 0.9245750753651262, 0.9245750753651262, 0.9245750753651262, 0.9245750753651262, 0.9263960056972629, 0.9284554580538407]}], \"accuracy\": [{\"categories\": [\"0\", \"1\", \"2\", \"3\", \"4\", \"5\", \"6\", \"7\", \"8\", \"9\", \"10\", \"11\", \"12\", \"13\", \"14\", \"15\", \"16\", \"17\", \"18\", \"19\", \"20\", \"21\", \"22\", \"23\", \"24\", \"25\", \"26\", \"27\", \"28\", \"29\", \"30\", \"31\", \"32\", \"33\", \"34\", \"35\"], \"mode\": \"markers\", \"name\": \"accuracy\", \"stepped\": false, \"type\": \"scatter\", \"data\": [0.8131802721088434, 0.8006802721088435, 0.783843537414966, 0.7839285714285714, 0.7841836734693877, 0.7881802721088436, 0.8005102040816328, 0.796343537414966, 0.7839285714285713, 0.7716836734693877, 0.775595238095238, 0.7718537414965986, 0.7590986394557824, 0.7633503401360544, 0.7841836734693877, 0.7631802721088435, 0.7465986394557824, 0.7922619047619047, 0.7591836734693878, 0.7797619047619048, 0.7963435374149659, 0.7839285714285714, 0.7923469387755102, 0.7674319727891157, 0.821513605442177, 0.5982993197278913, 0.7920918367346939, 0.7922619047619047, 0.7755952380952381, 0.8089285714285716, 0.7924319727891157, 0.8090136054421769, 0.6762755102040816, 0.7674319727891156, 0.8462585034013606, 0.8586734693877551]}, {\"categories\": [\"0\", \"1\", \"2\", \"3\", \"4\", \"5\", \"6\", \"7\", \"8\", \"9\", \"10\", \"11\", \"12\", \"13\", \"14\", \"15\", \"16\", \"17\", \"18\", \"19\", \"20\", \"21\", \"22\", \"23\", \"24\", \"25\", \"26\", \"27\", \"28\", \"29\", \"30\", \"31\", \"32\", \"33\", \"34\", \"35\"], \"mode\": \"lines\", \"name\": \"accuracy_max\", \"stepped\": true, \"type\": \"scatter\", \"data\": [0.8131802721088434, 0.8131802721088434, 0.8131802721088434, 0.8131802721088434, 0.8131802721088434, 0.8131802721088434, 0.8131802721088434, 0.8131802721088434, 0.8131802721088434, 0.8131802721088434, 0.8131802721088434, 0.8131802721088434, 0.8131802721088434, 0.8131802721088434, 0.8131802721088434, 0.8131802721088434, 0.8131802721088434, 0.8131802721088434, 0.8131802721088434, 0.8131802721088434, 0.8131802721088434, 0.8131802721088434, 0.8131802721088434, 0.8131802721088434, 0.821513605442177, 0.821513605442177, 0.821513605442177, 0.821513605442177, 0.821513605442177, 0.821513605442177, 0.821513605442177, 0.821513605442177, 0.821513605442177, 0.821513605442177, 0.8462585034013606, 0.8586734693877551]}], \"recall_score_weighted\": [{\"categories\": [\"0\", \"1\", \"2\", \"3\", \"4\", \"5\", \"6\", \"7\", \"8\", \"9\", \"10\", \"11\", \"12\", \"13\", \"14\", \"15\", \"16\", \"17\", \"18\", \"19\", \"20\", \"21\", \"22\", \"23\", \"24\", \"25\", \"26\", \"27\", \"28\", \"29\", \"30\", \"31\", \"32\", \"33\", \"34\", \"35\"], \"mode\": \"markers\", \"name\": \"recall_score_weighted\", \"stepped\": false, \"type\": \"scatter\", \"data\": [0.8131802721088434, 0.8006802721088435, 0.783843537414966, 0.7839285714285714, 0.7841836734693877, 0.7881802721088436, 0.8005102040816328, 0.796343537414966, 0.7839285714285713, 0.7716836734693877, 0.775595238095238, 0.7718537414965986, 0.7590986394557824, 0.7633503401360544, 0.7841836734693877, 0.7631802721088435, 0.7465986394557824, 0.7922619047619047, 0.7591836734693878, 0.7797619047619048, 0.7963435374149659, 0.7839285714285714, 0.7923469387755102, 0.7674319727891157, 0.821513605442177, 0.5982993197278913, 0.7920918367346939, 0.7922619047619047, 0.7755952380952381, 0.8089285714285716, 0.7924319727891157, 0.8090136054421769, 0.6762755102040816, 0.7674319727891156, 0.8462585034013606, 0.8586734693877551]}, {\"categories\": [\"0\", \"1\", \"2\", \"3\", \"4\", \"5\", \"6\", \"7\", \"8\", \"9\", \"10\", \"11\", \"12\", \"13\", \"14\", \"15\", \"16\", \"17\", \"18\", \"19\", \"20\", \"21\", \"22\", \"23\", \"24\", \"25\", \"26\", \"27\", \"28\", \"29\", \"30\", \"31\", \"32\", \"33\", \"34\", \"35\"], \"mode\": \"lines\", \"name\": \"recall_score_weighted_max\", \"stepped\": true, \"type\": \"scatter\", \"data\": [0.8131802721088434, 0.8131802721088434, 0.8131802721088434, 0.8131802721088434, 0.8131802721088434, 0.8131802721088434, 0.8131802721088434, 0.8131802721088434, 0.8131802721088434, 0.8131802721088434, 0.8131802721088434, 0.8131802721088434, 0.8131802721088434, 0.8131802721088434, 0.8131802721088434, 0.8131802721088434, 0.8131802721088434, 0.8131802721088434, 0.8131802721088434, 0.8131802721088434, 0.8131802721088434, 0.8131802721088434, 0.8131802721088434, 0.8131802721088434, 0.821513605442177, 0.821513605442177, 0.821513605442177, 0.821513605442177, 0.821513605442177, 0.821513605442177, 0.821513605442177, 0.821513605442177, 0.821513605442177, 0.821513605442177, 0.8462585034013606, 0.8586734693877551]}], \"matthews_correlation\": [{\"categories\": [\"0\", \"1\", \"2\", \"3\", \"4\", \"5\", \"6\", \"7\", \"8\", \"9\", \"10\", \"11\", \"12\", \"13\", \"14\", \"15\", \"16\", \"17\", \"18\", \"19\", \"20\", \"21\", \"22\", \"23\", \"24\", \"25\", \"26\", \"27\", \"28\", \"29\", \"30\", \"31\", \"32\", \"33\", \"34\", \"35\"], \"mode\": \"markers\", \"name\": \"matthews_correlation\", \"stepped\": false, \"type\": \"scatter\", \"data\": [0.6281119283567371, 0.6080459214862955, 0.5745645699652306, 0.570614856466968, 0.5684094892747449, 0.5854089957532079, 0.6037346138986093, 0.5994794485507507, 0.5687132989476467, 0.5492939399663486, 0.5652859185613776, 0.5558458099791085, 0.5290023539578896, 0.5268806619356363, 0.5721147366807997, 0.5311066837320356, 0.5080349511302642, 0.5989156156843336, 0.5318764325962342, 0.5629944257828362, 0.5928011989926769, 0.5657520462538239, 0.5922119411569821, 0.5457771337073444, 0.6546871357195085, 0.22401278707871713, 0.5921674274909879, 0.5927651777649651, 0.5632845461742008, 0.6256917387972281, 0.5953368579370271, 0.6266480037226226, 0.349406295807882, 0.5438911760957268, 0.6950553865730782, 0.7192993823976593]}, {\"categories\": [\"0\", \"1\", \"2\", \"3\", \"4\", \"5\", \"6\", \"7\", \"8\", \"9\", \"10\", \"11\", \"12\", \"13\", \"14\", \"15\", \"16\", \"17\", \"18\", \"19\", \"20\", \"21\", \"22\", \"23\", \"24\", \"25\", \"26\", \"27\", \"28\", \"29\", \"30\", \"31\", \"32\", \"33\", \"34\", \"35\"], \"mode\": \"lines\", \"name\": \"matthews_correlation_max\", \"stepped\": true, \"type\": \"scatter\", \"data\": [0.6281119283567371, 0.6281119283567371, 0.6281119283567371, 0.6281119283567371, 0.6281119283567371, 0.6281119283567371, 0.6281119283567371, 0.6281119283567371, 0.6281119283567371, 0.6281119283567371, 0.6281119283567371, 0.6281119283567371, 0.6281119283567371, 0.6281119283567371, 0.6281119283567371, 0.6281119283567371, 0.6281119283567371, 0.6281119283567371, 0.6281119283567371, 0.6281119283567371, 0.6281119283567371, 0.6281119283567371, 0.6281119283567371, 0.6281119283567371, 0.6546871357195085, 0.6546871357195085, 0.6546871357195085, 0.6546871357195085, 0.6546871357195085, 0.6546871357195085, 0.6546871357195085, 0.6546871357195085, 0.6546871357195085, 0.6546871357195085, 0.6950553865730782, 0.7192993823976593]}], \"precision_score_macro\": [{\"categories\": [\"0\", \"1\", \"2\", \"3\", \"4\", \"5\", \"6\", \"7\", \"8\", \"9\", \"10\", \"11\", \"12\", \"13\", \"14\", \"15\", \"16\", \"17\", \"18\", \"19\", \"20\", \"21\", \"22\", \"23\", \"24\", \"25\", \"26\", \"27\", \"28\", \"29\", \"30\", \"31\", \"32\", \"33\", \"34\", \"35\"], \"mode\": \"markers\", \"name\": \"precision_score_macro\", \"stepped\": false, \"type\": \"scatter\", \"data\": [0.814811192602464, 0.8048819980448558, 0.7854437808568244, 0.7833019371932416, 0.7829699792960663, 0.7904469765339331, 0.8003676394856069, 0.7989197266738101, 0.7829960981047939, 0.7733166398818574, 0.7854499550369115, 0.7782320155711617, 0.7642778147778146, 0.7638718688718689, 0.785116225301304, 0.764392217425122, 0.7538632988699401, 0.7981631957811632, 0.7654596160566334, 0.7823578740207318, 0.7955750256185039, 0.7841687063736302, 0.7958740245261984, 0.7721852221852221, 0.827120217946305, 0.475990916706641, 0.7947142326272761, 0.7958035708253098, 0.7827968779556802, 0.8133516521429234, 0.7982198937745375, 0.8111894144502839, 0.6790413489734737, 0.7712234665495535, 0.8449880940315723, 0.8577439227439229]}, {\"categories\": [\"0\", \"1\", \"2\", \"3\", \"4\", \"5\", \"6\", \"7\", \"8\", \"9\", \"10\", \"11\", \"12\", \"13\", \"14\", \"15\", \"16\", \"17\", \"18\", \"19\", \"20\", \"21\", \"22\", \"23\", \"24\", \"25\", \"26\", \"27\", \"28\", \"29\", \"30\", \"31\", \"32\", \"33\", \"34\", \"35\"], \"mode\": \"lines\", \"name\": \"precision_score_macro_max\", \"stepped\": true, \"type\": \"scatter\", \"data\": [0.814811192602464, 0.814811192602464, 0.814811192602464, 0.814811192602464, 0.814811192602464, 0.814811192602464, 0.814811192602464, 0.814811192602464, 0.814811192602464, 0.814811192602464, 0.814811192602464, 0.814811192602464, 0.814811192602464, 0.814811192602464, 0.814811192602464, 0.814811192602464, 0.814811192602464, 0.814811192602464, 0.814811192602464, 0.814811192602464, 0.814811192602464, 0.814811192602464, 0.814811192602464, 0.814811192602464, 0.827120217946305, 0.827120217946305, 0.827120217946305, 0.827120217946305, 0.827120217946305, 0.827120217946305, 0.827120217946305, 0.827120217946305, 0.827120217946305, 0.827120217946305, 0.8449880940315723, 0.8577439227439229]}], \"AUC_micro\": [{\"categories\": [\"0\", \"1\", \"2\", \"3\", \"4\", \"5\", \"6\", \"7\", \"8\", \"9\", \"10\", \"11\", \"12\", \"13\", \"14\", \"15\", \"16\", \"17\", \"18\", \"19\", \"20\", \"21\", \"22\", \"23\", \"24\", \"25\", \"26\", \"27\", \"28\", \"29\", \"30\", \"31\", \"32\", \"33\", \"34\", \"35\"], \"mode\": \"markers\", \"name\": \"AUC_micro\", \"stepped\": false, \"type\": \"scatter\", \"data\": [0.8782380532995511, 0.8959840951686797, 0.8750613170438244, 0.8723519063237539, 0.8837506218473784, 0.8791372193009858, 0.9004015254060806, 0.8835305529524735, 0.8887239908718589, 0.8749692330163358, 0.8664684347378406, 0.8686034681729835, 0.8631891298185941, 0.8520946495094636, 0.8783827051228655, 0.8550022198505252, 0.8515589207621824, 0.8973975325674488, 0.858443747396918, 0.8662623935628673, 0.8747114555856357, 0.887982184795687, 0.8943742335369521, 0.843153641133324, 0.9136266645263549, 0.7276906106830487, 0.8935430188231755, 0.8857958308748669, 0.854949615900782, 0.8827457960224907, 0.8559263501318896, 0.8785299961821463, 0.7618474579457633, 0.8705719766648155, 0.9235189909297052, 0.9229552067425612]}, {\"categories\": [\"0\", \"1\", \"2\", \"3\", \"4\", \"5\", \"6\", \"7\", \"8\", \"9\", \"10\", \"11\", \"12\", \"13\", \"14\", \"15\", \"16\", \"17\", \"18\", \"19\", \"20\", \"21\", \"22\", \"23\", \"24\", \"25\", \"26\", \"27\", \"28\", \"29\", \"30\", \"31\", \"32\", \"33\", \"34\", \"35\"], \"mode\": \"lines\", \"name\": \"AUC_micro_max\", \"stepped\": true, \"type\": \"scatter\", \"data\": [0.8782380532995511, 0.8959840951686797, 0.8959840951686797, 0.8959840951686797, 0.8959840951686797, 0.8959840951686797, 0.9004015254060806, 0.9004015254060806, 0.9004015254060806, 0.9004015254060806, 0.9004015254060806, 0.9004015254060806, 0.9004015254060806, 0.9004015254060806, 0.9004015254060806, 0.9004015254060806, 0.9004015254060806, 0.9004015254060806, 0.9004015254060806, 0.9004015254060806, 0.9004015254060806, 0.9004015254060806, 0.9004015254060806, 0.9004015254060806, 0.9136266645263549, 0.9136266645263549, 0.9136266645263549, 0.9136266645263549, 0.9136266645263549, 0.9136266645263549, 0.9136266645263549, 0.9136266645263549, 0.9136266645263549, 0.9136266645263549, 0.9235189909297052, 0.9235189909297052]}], \"average_precision_score_weighted\": [{\"categories\": [\"0\", \"1\", \"2\", \"3\", \"4\", \"5\", \"6\", \"7\", \"8\", \"9\", \"10\", \"11\", \"12\", \"13\", \"14\", \"15\", \"16\", \"17\", \"18\", \"19\", \"20\", \"21\", \"22\", \"23\", \"24\", \"25\", \"26\", \"27\", \"28\", \"29\", \"30\", \"31\", \"32\", \"33\", \"34\", \"35\"], \"mode\": \"markers\", \"name\": \"average_precision_score_weighted\", \"stepped\": false, \"type\": \"scatter\", \"data\": [0.8860090018865885, 0.908367534279401, 0.8924397333509079, 0.8817444564654003, 0.8910895449334051, 0.8862411053237205, 0.9116889513207747, 0.8966742978769991, 0.9016857284071346, 0.8908159219280309, 0.8818583377917971, 0.8860161080732798, 0.8785959728249735, 0.8704701615926794, 0.8963083059457219, 0.8727769653070336, 0.8680356507883655, 0.9087523362848178, 0.8808253384287349, 0.882612221901157, 0.8833746498619405, 0.8965881403871011, 0.9109747434363313, 0.8611143917559657, 0.927495824558142, 0.867269869925672, 0.9062526960820438, 0.900641945653667, 0.8759638021122045, 0.8961002624935981, 0.8699515671237383, 0.8862893595032769, 0.7789919339639039, 0.8844592488273018, 0.9288615278092296, 0.9314622519781114]}, {\"categories\": [\"0\", \"1\", \"2\", \"3\", \"4\", \"5\", \"6\", \"7\", \"8\", \"9\", \"10\", \"11\", \"12\", \"13\", \"14\", \"15\", \"16\", \"17\", \"18\", \"19\", \"20\", \"21\", \"22\", \"23\", \"24\", \"25\", \"26\", \"27\", \"28\", \"29\", \"30\", \"31\", \"32\", \"33\", \"34\", \"35\"], \"mode\": \"lines\", \"name\": \"average_precision_score_weighted_max\", \"stepped\": true, \"type\": \"scatter\", \"data\": [0.8860090018865885, 0.908367534279401, 0.908367534279401, 0.908367534279401, 0.908367534279401, 0.908367534279401, 0.9116889513207747, 0.9116889513207747, 0.9116889513207747, 0.9116889513207747, 0.9116889513207747, 0.9116889513207747, 0.9116889513207747, 0.9116889513207747, 0.9116889513207747, 0.9116889513207747, 0.9116889513207747, 0.9116889513207747, 0.9116889513207747, 0.9116889513207747, 0.9116889513207747, 0.9116889513207747, 0.9116889513207747, 0.9116889513207747, 0.927495824558142, 0.927495824558142, 0.927495824558142, 0.927495824558142, 0.927495824558142, 0.927495824558142, 0.927495824558142, 0.927495824558142, 0.927495824558142, 0.927495824558142, 0.9288615278092296, 0.9314622519781114]}], \"f1_score_micro\": [{\"categories\": [\"0\", \"1\", \"2\", \"3\", \"4\", \"5\", \"6\", \"7\", \"8\", \"9\", \"10\", \"11\", \"12\", \"13\", \"14\", \"15\", \"16\", \"17\", \"18\", \"19\", \"20\", \"21\", \"22\", \"23\", \"24\", \"25\", \"26\", \"27\", \"28\", \"29\", \"30\", \"31\", \"32\", \"33\", \"34\", \"35\"], \"mode\": \"markers\", \"name\": \"f1_score_micro\", \"stepped\": false, \"type\": \"scatter\", \"data\": [0.8131802721088434, 0.8006802721088435, 0.783843537414966, 0.7839285714285714, 0.7841836734693877, 0.7881802721088436, 0.8005102040816328, 0.796343537414966, 0.7839285714285713, 0.7716836734693877, 0.775595238095238, 0.7718537414965986, 0.7590986394557822, 0.7633503401360543, 0.7841836734693877, 0.7631802721088435, 0.7465986394557823, 0.7922619047619047, 0.7591836734693878, 0.7797619047619048, 0.7963435374149659, 0.7839285714285714, 0.7923469387755102, 0.7674319727891156, 0.821513605442177, 0.5982993197278913, 0.7920918367346939, 0.7922619047619046, 0.7755952380952381, 0.8089285714285713, 0.7924319727891157, 0.8090136054421769, 0.6762755102040816, 0.7674319727891156, 0.8462585034013606, 0.8586734693877551]}, {\"categories\": [\"0\", \"1\", \"2\", \"3\", \"4\", \"5\", \"6\", \"7\", \"8\", \"9\", \"10\", \"11\", \"12\", \"13\", \"14\", \"15\", \"16\", \"17\", \"18\", \"19\", \"20\", \"21\", \"22\", \"23\", \"24\", \"25\", \"26\", \"27\", \"28\", \"29\", \"30\", \"31\", \"32\", \"33\", \"34\", \"35\"], \"mode\": \"lines\", \"name\": \"f1_score_micro_max\", \"stepped\": true, \"type\": \"scatter\", \"data\": [0.8131802721088434, 0.8131802721088434, 0.8131802721088434, 0.8131802721088434, 0.8131802721088434, 0.8131802721088434, 0.8131802721088434, 0.8131802721088434, 0.8131802721088434, 0.8131802721088434, 0.8131802721088434, 0.8131802721088434, 0.8131802721088434, 0.8131802721088434, 0.8131802721088434, 0.8131802721088434, 0.8131802721088434, 0.8131802721088434, 0.8131802721088434, 0.8131802721088434, 0.8131802721088434, 0.8131802721088434, 0.8131802721088434, 0.8131802721088434, 0.821513605442177, 0.821513605442177, 0.821513605442177, 0.821513605442177, 0.821513605442177, 0.821513605442177, 0.821513605442177, 0.821513605442177, 0.821513605442177, 0.821513605442177, 0.8462585034013606, 0.8586734693877551]}], \"recall_score_micro\": [{\"categories\": [\"0\", \"1\", \"2\", \"3\", \"4\", \"5\", \"6\", \"7\", \"8\", \"9\", \"10\", \"11\", \"12\", \"13\", \"14\", \"15\", \"16\", \"17\", \"18\", \"19\", \"20\", \"21\", \"22\", \"23\", \"24\", \"25\", \"26\", \"27\", \"28\", \"29\", \"30\", \"31\", \"32\", \"33\", \"34\", \"35\"], \"mode\": \"markers\", \"name\": \"recall_score_micro\", \"stepped\": false, \"type\": \"scatter\", \"data\": [0.8131802721088434, 0.8006802721088435, 0.783843537414966, 0.7839285714285714, 0.7841836734693877, 0.7881802721088436, 0.8005102040816328, 0.796343537414966, 0.7839285714285713, 0.7716836734693877, 0.775595238095238, 0.7718537414965986, 0.7590986394557824, 0.7633503401360544, 0.7841836734693877, 0.7631802721088435, 0.7465986394557824, 0.7922619047619047, 0.7591836734693878, 0.7797619047619048, 0.7963435374149659, 0.7839285714285714, 0.7923469387755102, 0.7674319727891157, 0.821513605442177, 0.5982993197278913, 0.7920918367346939, 0.7922619047619047, 0.7755952380952381, 0.8089285714285716, 0.7924319727891157, 0.8090136054421769, 0.6762755102040816, 0.7674319727891156, 0.8462585034013606, 0.8586734693877551]}, {\"categories\": [\"0\", \"1\", \"2\", \"3\", \"4\", \"5\", \"6\", \"7\", \"8\", \"9\", \"10\", \"11\", \"12\", \"13\", \"14\", \"15\", \"16\", \"17\", \"18\", \"19\", \"20\", \"21\", \"22\", \"23\", \"24\", \"25\", \"26\", \"27\", \"28\", \"29\", \"30\", \"31\", \"32\", \"33\", \"34\", \"35\"], \"mode\": \"lines\", \"name\": \"recall_score_micro_max\", \"stepped\": true, \"type\": \"scatter\", \"data\": [0.8131802721088434, 0.8131802721088434, 0.8131802721088434, 0.8131802721088434, 0.8131802721088434, 0.8131802721088434, 0.8131802721088434, 0.8131802721088434, 0.8131802721088434, 0.8131802721088434, 0.8131802721088434, 0.8131802721088434, 0.8131802721088434, 0.8131802721088434, 0.8131802721088434, 0.8131802721088434, 0.8131802721088434, 0.8131802721088434, 0.8131802721088434, 0.8131802721088434, 0.8131802721088434, 0.8131802721088434, 0.8131802721088434, 0.8131802721088434, 0.821513605442177, 0.821513605442177, 0.821513605442177, 0.821513605442177, 0.821513605442177, 0.821513605442177, 0.821513605442177, 0.821513605442177, 0.821513605442177, 0.821513605442177, 0.8462585034013606, 0.8586734693877551]}], \"average_precision_score_micro\": [{\"categories\": [\"0\", \"1\", \"2\", \"3\", \"4\", \"5\", \"6\", \"7\", \"8\", \"9\", \"10\", \"11\", \"12\", \"13\", \"14\", \"15\", \"16\", \"17\", \"18\", \"19\", \"20\", \"21\", \"22\", \"23\", \"24\", \"25\", \"26\", \"27\", \"28\", \"29\", \"30\", \"31\", \"32\", \"33\", \"34\", \"35\"], \"mode\": \"markers\", \"name\": \"average_precision_score_micro\", \"stepped\": false, \"type\": \"scatter\", \"data\": [0.8825208525084873, 0.9019639218700511, 0.8820219317380207, 0.8798224406710482, 0.8893415807394668, 0.8832322607576218, 0.9053570290528675, 0.8876210392123435, 0.8960740624616786, 0.8838720765567001, 0.8705875267790455, 0.8760126861910159, 0.8679934348207494, 0.8619431064081023, 0.8850843487762953, 0.8611212152643419, 0.857255610909769, 0.9024461437048004, 0.8606467059394362, 0.8718928513786274, 0.8736956884670087, 0.8953966967777672, 0.9025414448579412, 0.8491241994023886, 0.9182846147078187, 0.7491146827454982, 0.8981334149156837, 0.8930616119185496, 0.8593073909444134, 0.889142229833728, 0.8592623318810311, 0.8824430245315746, 0.7647511301284965, 0.8763989627680807, 0.9269145361565183, 0.9267155820406303]}, {\"categories\": [\"0\", \"1\", \"2\", \"3\", \"4\", \"5\", \"6\", \"7\", \"8\", \"9\", \"10\", \"11\", \"12\", \"13\", \"14\", \"15\", \"16\", \"17\", \"18\", \"19\", \"20\", \"21\", \"22\", \"23\", \"24\", \"25\", \"26\", \"27\", \"28\", \"29\", \"30\", \"31\", \"32\", \"33\", \"34\", \"35\"], \"mode\": \"lines\", \"name\": \"average_precision_score_micro_max\", \"stepped\": true, \"type\": \"scatter\", \"data\": [0.8825208525084873, 0.9019639218700511, 0.9019639218700511, 0.9019639218700511, 0.9019639218700511, 0.9019639218700511, 0.9053570290528675, 0.9053570290528675, 0.9053570290528675, 0.9053570290528675, 0.9053570290528675, 0.9053570290528675, 0.9053570290528675, 0.9053570290528675, 0.9053570290528675, 0.9053570290528675, 0.9053570290528675, 0.9053570290528675, 0.9053570290528675, 0.9053570290528675, 0.9053570290528675, 0.9053570290528675, 0.9053570290528675, 0.9053570290528675, 0.9182846147078187, 0.9182846147078187, 0.9182846147078187, 0.9182846147078187, 0.9182846147078187, 0.9182846147078187, 0.9182846147078187, 0.9182846147078187, 0.9182846147078187, 0.9182846147078187, 0.9269145361565183, 0.9269145361565183]}]}, \"metricName\": null, \"primaryMetricName\": \"accuracy\", \"showLegend\": false}, \"run_metrics\": [{\"name\": \"experiment_status\", \"run_id\": \"AutoML_b97067c0-8674-48bf-89fb-e38af95a0749\", \"categories\": [0, 1, 2, 3, 4, 5, 6, 7, 8, 9, 10, 11, 12, 13], \"series\": [{\"data\": [\"DatasetEvaluation\", \"FeaturesGeneration\", \"DatasetFeaturization\", \"DatasetFeaturizationCompleted\", \"DatasetCrossValidationSplit\", \"ModelSelection\", \"BestRunExplainModel\", \"ModelExplanationDataSetSetup\", \"PickSurrogateModel\", \"EngineeredFeatureExplanations\", \"EngineeredFeatureExplanations\", \"RawFeaturesExplanations\", \"RawFeaturesExplanations\", \"BestRunExplainModel\"]}]}, {\"name\": \"experiment_status_description\", \"run_id\": \"AutoML_b97067c0-8674-48bf-89fb-e38af95a0749\", \"categories\": [0, 1, 2, 3, 4, 5, 6, 7, 8, 9, 10, 11, 12, 13], \"series\": [{\"data\": [\"Gathering dataset statistics.\", \"Generating features for the dataset.\", \"Beginning to fit featurizers and featurize the dataset.\", \"Completed fit featurizers and featurizing the dataset.\", \"Generating individually featurized CV splits.\", \"Beginning model selection.\", \"Best run model explanations started\", \"Model explanations data setup completed\", \"Choosing LightGBM as the surrogate model for explanations\", \"Computation of engineered features started\", \"Computation of engineered features completed\", \"Computation of raw features started\", \"Computation of raw features completed\", \"Best run model explanations completed\"]}]}, {\"name\": \"average_precision_score_weighted\", \"run_id\": \"AutoML_b97067c0-8674-48bf-89fb-e38af95a0749\", \"categories\": [0], \"series\": [{\"data\": [0.9314622519781114]}]}, {\"name\": \"AUC_weighted\", \"run_id\": \"AutoML_b97067c0-8674-48bf-89fb-e38af95a0749\", \"categories\": [0], \"series\": [{\"data\": [0.9273402521796745]}]}, {\"name\": \"f1_score_macro\", \"run_id\": \"AutoML_b97067c0-8674-48bf-89fb-e38af95a0749\", \"categories\": [0], \"series\": [{\"data\": [0.8569325479997116]}]}, {\"name\": \"precision_score_micro\", \"run_id\": \"AutoML_b97067c0-8674-48bf-89fb-e38af95a0749\", \"categories\": [0], \"series\": [{\"data\": [0.8586734693877551]}]}, {\"name\": \"weighted_accuracy\", \"run_id\": \"AutoML_b97067c0-8674-48bf-89fb-e38af95a0749\", \"categories\": [0], \"series\": [{\"data\": [0.8559859321311517]}]}, {\"name\": \"balanced_accuracy\", \"run_id\": \"AutoML_b97067c0-8674-48bf-89fb-e38af95a0749\", \"categories\": [0], \"series\": [{\"data\": [0.8616145861906139]}]}, {\"name\": \"AUC_macro\", \"run_id\": \"AutoML_b97067c0-8674-48bf-89fb-e38af95a0749\", \"categories\": [0], \"series\": [{\"data\": [0.9273402521796745]}]}, {\"name\": \"average_precision_score_macro\", \"run_id\": \"AutoML_b97067c0-8674-48bf-89fb-e38af95a0749\", \"categories\": [0], \"series\": [{\"data\": [0.9284554580538407]}]}, {\"name\": \"f1_score_weighted\", \"run_id\": \"AutoML_b97067c0-8674-48bf-89fb-e38af95a0749\", \"categories\": [0], \"series\": [{\"data\": [0.8589208840830871]}]}, {\"name\": \"matthews_correlation\", \"run_id\": \"AutoML_b97067c0-8674-48bf-89fb-e38af95a0749\", \"categories\": [0], \"series\": [{\"data\": [0.7192993823976593]}]}, {\"name\": \"norm_macro_recall\", \"run_id\": \"AutoML_b97067c0-8674-48bf-89fb-e38af95a0749\", \"categories\": [0], \"series\": [{\"data\": [0.7232291723812279]}]}, {\"name\": \"recall_score_weighted\", \"run_id\": \"AutoML_b97067c0-8674-48bf-89fb-e38af95a0749\", \"categories\": [0], \"series\": [{\"data\": [0.8586734693877551]}]}, {\"name\": \"precision_score_weighted\", \"run_id\": \"AutoML_b97067c0-8674-48bf-89fb-e38af95a0749\", \"categories\": [0], \"series\": [{\"data\": [0.8644854252889967]}]}, {\"name\": \"f1_score_micro\", \"run_id\": \"AutoML_b97067c0-8674-48bf-89fb-e38af95a0749\", \"categories\": [0], \"series\": [{\"data\": [0.8586734693877551]}]}, {\"name\": \"accuracy\", \"run_id\": \"AutoML_b97067c0-8674-48bf-89fb-e38af95a0749\", \"categories\": [0], \"series\": [{\"data\": [0.8586734693877551]}]}, {\"name\": \"average_precision_score_micro\", \"run_id\": \"AutoML_b97067c0-8674-48bf-89fb-e38af95a0749\", \"categories\": [0], \"series\": [{\"data\": [0.9267155820406303]}]}, {\"name\": \"recall_score_macro\", \"run_id\": \"AutoML_b97067c0-8674-48bf-89fb-e38af95a0749\", \"categories\": [0], \"series\": [{\"data\": [0.8616145861906139]}]}, {\"name\": \"recall_score_micro\", \"run_id\": \"AutoML_b97067c0-8674-48bf-89fb-e38af95a0749\", \"categories\": [0], \"series\": [{\"data\": [0.8586734693877551]}]}, {\"name\": \"log_loss\", \"run_id\": \"AutoML_b97067c0-8674-48bf-89fb-e38af95a0749\", \"categories\": [0], \"series\": [{\"data\": [0.3777849668379857]}]}, {\"name\": \"precision_score_macro\", \"run_id\": \"AutoML_b97067c0-8674-48bf-89fb-e38af95a0749\", \"categories\": [0], \"series\": [{\"data\": [0.8577439227439229]}]}, {\"name\": \"AUC_micro\", \"run_id\": \"AutoML_b97067c0-8674-48bf-89fb-e38af95a0749\", \"categories\": [0], \"series\": [{\"data\": [0.9229552067425612]}]}], \"run_logs\": \"\\nRun is completed.\", \"graph\": {}, \"widget_settings\": {\"childWidgetDisplay\": \"popup\", \"send_telemetry\": false, \"log_level\": \"INFO\", \"sdk_version\": \"1.20.0\"}, \"loading\": false}"
     },
     "metadata": {},
     "output_type": "display_data"
    },
    {
     "name": "stdout",
     "output_type": "stream",
     "text": [
      "\n",
      "\n",
      "****************************************************************************************************\n",
      "DATA GUARDRAILS: \n",
      "\n",
      "TYPE:         Class balancing detection\n",
      "STATUS:       PASSED\n",
      "DESCRIPTION:  Your inputs were analyzed, and all classes are balanced in your training data.\n",
      "              Learn more about imbalanced data: https://aka.ms/AutomatedMLImbalancedData\n",
      "\n",
      "****************************************************************************************************\n",
      "\n",
      "TYPE:         Missing feature values imputation\n",
      "STATUS:       PASSED\n",
      "DESCRIPTION:  No feature missing values were detected in the training data.\n",
      "              Learn more about missing value imputation: https://aka.ms/AutomatedMLFeaturization\n",
      "\n",
      "****************************************************************************************************\n",
      "\n",
      "TYPE:         High cardinality feature detection\n",
      "STATUS:       PASSED\n",
      "DESCRIPTION:  Your inputs were analyzed, and no high cardinality features were detected.\n",
      "              Learn more about high cardinality feature handling: https://aka.ms/AutomatedMLFeaturization\n",
      "\n",
      "****************************************************************************************************\n",
      "\n",
      "****************************************************************************************************\n",
      "ITERATION: The iteration being evaluated.\n",
      "PIPELINE: A summary description of the pipeline being evaluated.\n",
      "DURATION: Time taken for the current iteration.\n",
      "METRIC: The result of computing score on the fitted pipeline.\n",
      "BEST: The best observed score thus far.\n",
      "****************************************************************************************************\n",
      "\n",
      " ITERATION   PIPELINE                                       DURATION      METRIC      BEST\n",
      "         0   MaxAbsScaler LightGBM                          0:00:57       0.8132    0.8132\n",
      "         1   MaxAbsScaler XGBoostClassifier                 0:00:55       0.8007    0.8132\n",
      "         2   MinMaxScaler RandomForest                      0:00:59       0.7838    0.8132\n",
      "         3   MinMaxScaler RandomForest                      0:00:56       0.7839    0.8132\n",
      "         4   MinMaxScaler RandomForest                      0:00:52       0.7842    0.8132\n",
      "         5   MinMaxScaler SVM                               0:00:58       0.7882    0.8132\n",
      "         6   MaxAbsScaler GradientBoosting                  0:00:51       0.8005    0.8132\n",
      "         7   StandardScalerWrapper RandomForest             0:00:57       0.7963    0.8132\n",
      "         8   SparseNormalizer XGBoostClassifier             0:01:00       0.7839    0.8132\n",
      "         9   SparseNormalizer LightGBM                      0:00:53       0.7717    0.8132\n",
      "        10   RobustScaler RandomForest                      0:00:49       0.7756    0.8132\n",
      "        11   MaxAbsScaler LightGBM                          0:01:00       0.7719    0.8132\n",
      "        12   RobustScaler ExtremeRandomTrees                0:00:58       0.7591    0.8132\n",
      "        13   SparseNormalizer XGBoostClassifier             0:00:55       0.7634    0.8132\n",
      "        14   StandardScalerWrapper GradientBoosting         0:00:52       0.7842    0.8132\n",
      "        15   StandardScalerWrapper XGBoostClassifier        0:00:53       0.7632    0.8132\n",
      "        16   StandardScalerWrapper ExtremeRandomTrees       0:00:49       0.7466    0.8132\n",
      "        17   StandardScalerWrapper ExtremeRandomTrees       0:00:49       0.7923    0.8132\n",
      "        18   RobustScaler ExtremeRandomTrees                0:00:54       0.7592    0.8132\n",
      "        19   StandardScalerWrapper XGBoostClassifier        0:00:55       0.7798    0.8132\n",
      "        20   StandardScalerWrapper XGBoostClassifier        0:00:57       0.7963    0.8132\n",
      "        21   SparseNormalizer XGBoostClassifier             0:00:58       0.7839    0.8132\n",
      "        22   SparseNormalizer XGBoostClassifier             0:00:45       0.7923    0.8132\n",
      "        23   StandardScalerWrapper ExtremeRandomTrees       0:00:46       0.7674    0.8132\n",
      "        24   MaxAbsScaler RandomForest                      0:00:51       0.8215    0.8215\n",
      "        25   MinMaxScaler RandomForest                      0:01:00       0.5983    0.8215\n",
      "        26   StandardScalerWrapper ExtremeRandomTrees       0:00:56       0.7921    0.8215\n",
      "        27   RobustScaler ExtremeRandomTrees                0:01:06       0.7923    0.8215\n",
      "        28   MaxAbsScaler ExtremeRandomTrees                0:01:11       0.7756    0.8215\n",
      "        29   StandardScalerWrapper XGBoostClassifier        0:00:49       0.8089    0.8215\n",
      "        30   SparseNormalizer RandomForest                  0:00:59       0.7924    0.8215\n",
      "        31   StandardScalerWrapper LightGBM                 0:00:50       0.8090    0.8215\n",
      "        32   StandardScalerWrapper KNN                      0:00:55       0.6763    0.8215\n",
      "        33   MaxAbsScaler LightGBM                          0:00:55       0.7674    0.8215\n",
      "        34   MinMaxScaler LogisticRegression                0:00:51       0.8463    0.8463\n",
      "        35    VotingEnsemble                                0:01:33       0.8587    0.8587\n"
     ]
    },
    {
     "data": {
      "text/plain": [
       "{'runId': 'AutoML_b97067c0-8674-48bf-89fb-e38af95a0749',\n",
       " 'target': 'cpu-cluster',\n",
       " 'status': 'Completed',\n",
       " 'startTimeUtc': '2021-02-02T10:05:01.054551Z',\n",
       " 'endTimeUtc': '2021-02-02T10:58:56.065826Z',\n",
       " 'properties': {'num_iterations': '1000',\n",
       "  'training_type': 'TrainFull',\n",
       "  'acquisition_function': 'EI',\n",
       "  'primary_metric': 'accuracy',\n",
       "  'train_split': '0',\n",
       "  'acquisition_parameter': '0',\n",
       "  'num_cross_validation': '5',\n",
       "  'target': 'cpu-cluster',\n",
       "  'AMLSettingsJsonString': '{\"path\":null,\"name\":\"Heart_Disease_AutoML\",\"subscription_id\":\"b968fb36-f06a-4c76-a15f-afab68ae7667\",\"resource_group\":\"aml-quickstarts-136928\",\"workspace_name\":\"quick-starts-ws-136928\",\"region\":\"southcentralus\",\"compute_target\":\"cpu-cluster\",\"spark_service\":null,\"azure_service\":\"remote\",\"many_models\":false,\"pipeline_fetch_max_batch_size\":1,\"iterations\":1000,\"primary_metric\":\"accuracy\",\"task_type\":\"classification\",\"data_script\":null,\"validation_size\":0.0,\"n_cross_validations\":5,\"y_min\":null,\"y_max\":null,\"num_classes\":null,\"featurization\":\"auto\",\"_ignore_package_version_incompatibilities\":false,\"is_timeseries\":false,\"max_cores_per_iteration\":1,\"max_concurrent_iterations\":1,\"iteration_timeout_minutes\":null,\"mem_in_mb\":null,\"enforce_time_on_windows\":false,\"experiment_timeout_minutes\":40,\"experiment_exit_score\":null,\"whitelist_models\":null,\"blacklist_algos\":[\"TensorFlowLinearClassifier\",\"TensorFlowDNN\"],\"supported_models\":[\"KNN\",\"LogisticRegression\",\"MultinomialNaiveBayes\",\"XGBoostClassifier\",\"GradientBoosting\",\"ExtremeRandomTrees\",\"RandomForest\",\"LightGBM\",\"BernoulliNaiveBayes\",\"TensorFlowDNN\",\"TensorFlowLinearClassifier\",\"DecisionTree\",\"SGD\",\"LinearSVM\",\"SVM\",\"AveragedPerceptronClassifier\"],\"auto_blacklist\":true,\"blacklist_samples_reached\":false,\"exclude_nan_labels\":true,\"verbosity\":20,\"_debug_log\":\"azureml_automl.log\",\"show_warnings\":false,\"model_explainability\":true,\"service_url\":null,\"sdk_url\":null,\"sdk_packages\":null,\"enable_onnx_compatible_models\":true,\"enable_split_onnx_featurizer_estimator_models\":false,\"vm_type\":\"STANDARD_D2_V2\",\"telemetry_verbosity\":20,\"send_telemetry\":true,\"enable_dnn\":false,\"scenario\":\"SDK-1.13.0\",\"environment_label\":null,\"force_text_dnn\":false,\"enable_feature_sweeping\":false,\"enable_early_stopping\":false,\"early_stopping_n_iters\":10,\"metrics\":null,\"enable_ensembling\":true,\"enable_stack_ensembling\":false,\"ensemble_iterations\":15,\"enable_tf\":false,\"enable_subsampling\":null,\"subsample_seed\":null,\"enable_nimbusml\":false,\"enable_streaming\":false,\"force_streaming\":false,\"track_child_runs\":true,\"allowed_private_models\":[],\"label_column_name\":\"target\",\"weight_column_name\":null,\"cv_split_column_names\":null,\"enable_local_managed\":false,\"_local_managed_run_id\":null,\"cost_mode\":1,\"lag_length\":0,\"metric_operation\":\"maximize\",\"preprocess\":true}',\n",
       "  'DataPrepJsonString': '{\\\\\"training_data\\\\\": \\\\\"{\\\\\\\\\\\\\"blocks\\\\\\\\\\\\\": [{\\\\\\\\\\\\\"id\\\\\\\\\\\\\": \\\\\\\\\\\\\"c7556bfb-2863-47d6-a6f2-ad60384dc013\\\\\\\\\\\\\", \\\\\\\\\\\\\"type\\\\\\\\\\\\\": \\\\\\\\\\\\\"Microsoft.DPrep.GetDatastoreFilesBlock\\\\\\\\\\\\\", \\\\\\\\\\\\\"arguments\\\\\\\\\\\\\": {\\\\\\\\\\\\\"datastores\\\\\\\\\\\\\": [{\\\\\\\\\\\\\"datastoreName\\\\\\\\\\\\\": \\\\\\\\\\\\\"workspaceblobstore\\\\\\\\\\\\\", \\\\\\\\\\\\\"path\\\\\\\\\\\\\": \\\\\\\\\\\\\"Data/train_data.csv\\\\\\\\\\\\\", \\\\\\\\\\\\\"resourceGroup\\\\\\\\\\\\\": \\\\\\\\\\\\\"aml-quickstarts-136928\\\\\\\\\\\\\", \\\\\\\\\\\\\"subscription\\\\\\\\\\\\\": \\\\\\\\\\\\\"b968fb36-f06a-4c76-a15f-afab68ae7667\\\\\\\\\\\\\", \\\\\\\\\\\\\"workspaceName\\\\\\\\\\\\\": \\\\\\\\\\\\\"quick-starts-ws-136928\\\\\\\\\\\\\"}]}, \\\\\\\\\\\\\"localData\\\\\\\\\\\\\": {}, \\\\\\\\\\\\\"isEnabled\\\\\\\\\\\\\": true, \\\\\\\\\\\\\"name\\\\\\\\\\\\\": null, \\\\\\\\\\\\\"annotation\\\\\\\\\\\\\": null}, {\\\\\\\\\\\\\"id\\\\\\\\\\\\\": \\\\\\\\\\\\\"5fa75ffa-4b5e-430a-b426-4e0d8bf1901b\\\\\\\\\\\\\", \\\\\\\\\\\\\"type\\\\\\\\\\\\\": \\\\\\\\\\\\\"Microsoft.DPrep.ParseDelimitedBlock\\\\\\\\\\\\\", \\\\\\\\\\\\\"arguments\\\\\\\\\\\\\": {\\\\\\\\\\\\\"columnHeadersMode\\\\\\\\\\\\\": 3, \\\\\\\\\\\\\"fileEncoding\\\\\\\\\\\\\": 0, \\\\\\\\\\\\\"handleQuotedLineBreaks\\\\\\\\\\\\\": false, \\\\\\\\\\\\\"preview\\\\\\\\\\\\\": false, \\\\\\\\\\\\\"separator\\\\\\\\\\\\\": \\\\\\\\\\\\\",\\\\\\\\\\\\\", \\\\\\\\\\\\\"skipRows\\\\\\\\\\\\\": 0, \\\\\\\\\\\\\"skipRowsMode\\\\\\\\\\\\\": 0}, \\\\\\\\\\\\\"localData\\\\\\\\\\\\\": {}, \\\\\\\\\\\\\"isEnabled\\\\\\\\\\\\\": true, \\\\\\\\\\\\\"name\\\\\\\\\\\\\": null, \\\\\\\\\\\\\"annotation\\\\\\\\\\\\\": null}, {\\\\\\\\\\\\\"id\\\\\\\\\\\\\": \\\\\\\\\\\\\"36d80ee2-f2fe-4651-87a7-18f0c0531fc9\\\\\\\\\\\\\", \\\\\\\\\\\\\"type\\\\\\\\\\\\\": \\\\\\\\\\\\\"Microsoft.DPrep.DropColumnsBlock\\\\\\\\\\\\\", \\\\\\\\\\\\\"arguments\\\\\\\\\\\\\": {\\\\\\\\\\\\\"columns\\\\\\\\\\\\\": {\\\\\\\\\\\\\"type\\\\\\\\\\\\\": 0, \\\\\\\\\\\\\"details\\\\\\\\\\\\\": {\\\\\\\\\\\\\"selectedColumns\\\\\\\\\\\\\": [\\\\\\\\\\\\\"Path\\\\\\\\\\\\\"]}}}, \\\\\\\\\\\\\"localData\\\\\\\\\\\\\": {}, \\\\\\\\\\\\\"isEnabled\\\\\\\\\\\\\": true, \\\\\\\\\\\\\"name\\\\\\\\\\\\\": null, \\\\\\\\\\\\\"annotation\\\\\\\\\\\\\": null}, {\\\\\\\\\\\\\"id\\\\\\\\\\\\\": \\\\\\\\\\\\\"003e028d-7972-4589-b212-fbc4011b0d97\\\\\\\\\\\\\", \\\\\\\\\\\\\"type\\\\\\\\\\\\\": \\\\\\\\\\\\\"Microsoft.DPrep.SetColumnTypesBlock\\\\\\\\\\\\\", \\\\\\\\\\\\\"arguments\\\\\\\\\\\\\": {\\\\\\\\\\\\\"columnConversion\\\\\\\\\\\\\": [{\\\\\\\\\\\\\"column\\\\\\\\\\\\\": {\\\\\\\\\\\\\"type\\\\\\\\\\\\\": 2, \\\\\\\\\\\\\"details\\\\\\\\\\\\\": {\\\\\\\\\\\\\"selectedColumn\\\\\\\\\\\\\": \\\\\\\\\\\\\"age\\\\\\\\\\\\\"}}, \\\\\\\\\\\\\"typeProperty\\\\\\\\\\\\\": 2}, {\\\\\\\\\\\\\"column\\\\\\\\\\\\\": {\\\\\\\\\\\\\"type\\\\\\\\\\\\\": 2, \\\\\\\\\\\\\"details\\\\\\\\\\\\\": {\\\\\\\\\\\\\"selectedColumn\\\\\\\\\\\\\": \\\\\\\\\\\\\"resting_BP\\\\\\\\\\\\\"}}, \\\\\\\\\\\\\"typeProperty\\\\\\\\\\\\\": 2}, {\\\\\\\\\\\\\"column\\\\\\\\\\\\\": {\\\\\\\\\\\\\"type\\\\\\\\\\\\\": 2, \\\\\\\\\\\\\"details\\\\\\\\\\\\\": {\\\\\\\\\\\\\"selectedColumn\\\\\\\\\\\\\": \\\\\\\\\\\\\"cholesterol\\\\\\\\\\\\\"}}, \\\\\\\\\\\\\"typeProperty\\\\\\\\\\\\\": 2}, {\\\\\\\\\\\\\"column\\\\\\\\\\\\\": {\\\\\\\\\\\\\"type\\\\\\\\\\\\\": 2, \\\\\\\\\\\\\"details\\\\\\\\\\\\\": {\\\\\\\\\\\\\"selectedColumn\\\\\\\\\\\\\": \\\\\\\\\\\\\"max_heart_rate\\\\\\\\\\\\\"}}, \\\\\\\\\\\\\"typeProperty\\\\\\\\\\\\\": 2}, {\\\\\\\\\\\\\"column\\\\\\\\\\\\\": {\\\\\\\\\\\\\"type\\\\\\\\\\\\\": 2, \\\\\\\\\\\\\"details\\\\\\\\\\\\\": {\\\\\\\\\\\\\"selectedColumn\\\\\\\\\\\\\": \\\\\\\\\\\\\"st_depression\\\\\\\\\\\\\"}}, \\\\\\\\\\\\\"typeProperty\\\\\\\\\\\\\": 3}, {\\\\\\\\\\\\\"column\\\\\\\\\\\\\": {\\\\\\\\\\\\\"type\\\\\\\\\\\\\": 2, \\\\\\\\\\\\\"details\\\\\\\\\\\\\": {\\\\\\\\\\\\\"selectedColumn\\\\\\\\\\\\\": \\\\\\\\\\\\\"sex_1\\\\\\\\\\\\\"}}, \\\\\\\\\\\\\"typeProperty\\\\\\\\\\\\\": 2}, {\\\\\\\\\\\\\"column\\\\\\\\\\\\\": {\\\\\\\\\\\\\"type\\\\\\\\\\\\\": 2, \\\\\\\\\\\\\"details\\\\\\\\\\\\\": {\\\\\\\\\\\\\"selectedColumn\\\\\\\\\\\\\": \\\\\\\\\\\\\"chest_pain_type_1\\\\\\\\\\\\\"}}, \\\\\\\\\\\\\"typeProperty\\\\\\\\\\\\\": 2}, {\\\\\\\\\\\\\"column\\\\\\\\\\\\\": {\\\\\\\\\\\\\"type\\\\\\\\\\\\\": 2, \\\\\\\\\\\\\"details\\\\\\\\\\\\\": {\\\\\\\\\\\\\"selectedColumn\\\\\\\\\\\\\": \\\\\\\\\\\\\"chest_pain_type_2\\\\\\\\\\\\\"}}, \\\\\\\\\\\\\"typeProperty\\\\\\\\\\\\\": 2}, {\\\\\\\\\\\\\"column\\\\\\\\\\\\\": {\\\\\\\\\\\\\"type\\\\\\\\\\\\\": 2, \\\\\\\\\\\\\"details\\\\\\\\\\\\\": {\\\\\\\\\\\\\"selectedColumn\\\\\\\\\\\\\": \\\\\\\\\\\\\"chest_pain_type_3\\\\\\\\\\\\\"}}, \\\\\\\\\\\\\"typeProperty\\\\\\\\\\\\\": 2}, {\\\\\\\\\\\\\"column\\\\\\\\\\\\\": {\\\\\\\\\\\\\"type\\\\\\\\\\\\\": 2, \\\\\\\\\\\\\"details\\\\\\\\\\\\\": {\\\\\\\\\\\\\"selectedColumn\\\\\\\\\\\\\": \\\\\\\\\\\\\"fasting_blood_sugar_1\\\\\\\\\\\\\"}}, \\\\\\\\\\\\\"typeProperty\\\\\\\\\\\\\": 2}, {\\\\\\\\\\\\\"column\\\\\\\\\\\\\": {\\\\\\\\\\\\\"type\\\\\\\\\\\\\": 2, \\\\\\\\\\\\\"details\\\\\\\\\\\\\": {\\\\\\\\\\\\\"selectedColumn\\\\\\\\\\\\\": \\\\\\\\\\\\\"rest_ECG_1\\\\\\\\\\\\\"}}, \\\\\\\\\\\\\"typeProperty\\\\\\\\\\\\\": 2}, {\\\\\\\\\\\\\"column\\\\\\\\\\\\\": {\\\\\\\\\\\\\"type\\\\\\\\\\\\\": 2, \\\\\\\\\\\\\"details\\\\\\\\\\\\\": {\\\\\\\\\\\\\"selectedColumn\\\\\\\\\\\\\": \\\\\\\\\\\\\"rest_ECG_2\\\\\\\\\\\\\"}}, \\\\\\\\\\\\\"typeProperty\\\\\\\\\\\\\": 2}, {\\\\\\\\\\\\\"column\\\\\\\\\\\\\": {\\\\\\\\\\\\\"type\\\\\\\\\\\\\": 2, \\\\\\\\\\\\\"details\\\\\\\\\\\\\": {\\\\\\\\\\\\\"selectedColumn\\\\\\\\\\\\\": \\\\\\\\\\\\\"exercise_induced_angina_1\\\\\\\\\\\\\"}}, \\\\\\\\\\\\\"typeProperty\\\\\\\\\\\\\": 2}, {\\\\\\\\\\\\\"column\\\\\\\\\\\\\": {\\\\\\\\\\\\\"type\\\\\\\\\\\\\": 2, \\\\\\\\\\\\\"details\\\\\\\\\\\\\": {\\\\\\\\\\\\\"selectedColumn\\\\\\\\\\\\\": \\\\\\\\\\\\\"st_slope_1\\\\\\\\\\\\\"}}, \\\\\\\\\\\\\"typeProperty\\\\\\\\\\\\\": 2}, {\\\\\\\\\\\\\"column\\\\\\\\\\\\\": {\\\\\\\\\\\\\"type\\\\\\\\\\\\\": 2, \\\\\\\\\\\\\"details\\\\\\\\\\\\\": {\\\\\\\\\\\\\"selectedColumn\\\\\\\\\\\\\": \\\\\\\\\\\\\"st_slope_2\\\\\\\\\\\\\"}}, \\\\\\\\\\\\\"typeProperty\\\\\\\\\\\\\": 2}, {\\\\\\\\\\\\\"column\\\\\\\\\\\\\": {\\\\\\\\\\\\\"type\\\\\\\\\\\\\": 2, \\\\\\\\\\\\\"details\\\\\\\\\\\\\": {\\\\\\\\\\\\\"selectedColumn\\\\\\\\\\\\\": \\\\\\\\\\\\\"num_major_vessels_1.0\\\\\\\\\\\\\"}}, \\\\\\\\\\\\\"typeProperty\\\\\\\\\\\\\": 2}, {\\\\\\\\\\\\\"column\\\\\\\\\\\\\": {\\\\\\\\\\\\\"type\\\\\\\\\\\\\": 2, \\\\\\\\\\\\\"details\\\\\\\\\\\\\": {\\\\\\\\\\\\\"selectedColumn\\\\\\\\\\\\\": \\\\\\\\\\\\\"num_major_vessels_2.0\\\\\\\\\\\\\"}}, \\\\\\\\\\\\\"typeProperty\\\\\\\\\\\\\": 2}, {\\\\\\\\\\\\\"column\\\\\\\\\\\\\": {\\\\\\\\\\\\\"type\\\\\\\\\\\\\": 2, \\\\\\\\\\\\\"details\\\\\\\\\\\\\": {\\\\\\\\\\\\\"selectedColumn\\\\\\\\\\\\\": \\\\\\\\\\\\\"num_major_vessels_3.0\\\\\\\\\\\\\"}}, \\\\\\\\\\\\\"typeProperty\\\\\\\\\\\\\": 2}, {\\\\\\\\\\\\\"column\\\\\\\\\\\\\": {\\\\\\\\\\\\\"type\\\\\\\\\\\\\": 2, \\\\\\\\\\\\\"details\\\\\\\\\\\\\": {\\\\\\\\\\\\\"selectedColumn\\\\\\\\\\\\\": \\\\\\\\\\\\\"thalassemia_2.0\\\\\\\\\\\\\"}}, \\\\\\\\\\\\\"typeProperty\\\\\\\\\\\\\": 2}, {\\\\\\\\\\\\\"column\\\\\\\\\\\\\": {\\\\\\\\\\\\\"type\\\\\\\\\\\\\": 2, \\\\\\\\\\\\\"details\\\\\\\\\\\\\": {\\\\\\\\\\\\\"selectedColumn\\\\\\\\\\\\\": \\\\\\\\\\\\\"thalassemia_3.0\\\\\\\\\\\\\"}}, \\\\\\\\\\\\\"typeProperty\\\\\\\\\\\\\": 2}, {\\\\\\\\\\\\\"column\\\\\\\\\\\\\": {\\\\\\\\\\\\\"type\\\\\\\\\\\\\": 2, \\\\\\\\\\\\\"details\\\\\\\\\\\\\": {\\\\\\\\\\\\\"selectedColumn\\\\\\\\\\\\\": \\\\\\\\\\\\\"target\\\\\\\\\\\\\"}}, \\\\\\\\\\\\\"typeProperty\\\\\\\\\\\\\": 2}]}, \\\\\\\\\\\\\"localData\\\\\\\\\\\\\": {}, \\\\\\\\\\\\\"isEnabled\\\\\\\\\\\\\": true, \\\\\\\\\\\\\"name\\\\\\\\\\\\\": null, \\\\\\\\\\\\\"annotation\\\\\\\\\\\\\": null}], \\\\\\\\\\\\\"inspectors\\\\\\\\\\\\\": [], \\\\\\\\\\\\\"meta\\\\\\\\\\\\\": {\\\\\\\\\\\\\"savedDatasetId\\\\\\\\\\\\\": \\\\\\\\\\\\\"cd63ca24-0cc8-468f-bd70-fd719f02dad6\\\\\\\\\\\\\", \\\\\\\\\\\\\"datasetType\\\\\\\\\\\\\": \\\\\\\\\\\\\"tabular\\\\\\\\\\\\\", \\\\\\\\\\\\\"subscriptionId\\\\\\\\\\\\\": \\\\\\\\\\\\\"b968fb36-f06a-4c76-a15f-afab68ae7667\\\\\\\\\\\\\", \\\\\\\\\\\\\"workspaceId\\\\\\\\\\\\\": \\\\\\\\\\\\\"a32820ff-2549-47e6-b255-8c60746b2402\\\\\\\\\\\\\", \\\\\\\\\\\\\"workspaceLocation\\\\\\\\\\\\\": \\\\\\\\\\\\\"southcentralus\\\\\\\\\\\\\"}}\\\\\", \\\\\"activities\\\\\": 0}',\n",
       "  'EnableSubsampling': None,\n",
       "  'runTemplate': 'AutoML',\n",
       "  'azureml.runsource': 'automl',\n",
       "  'display_task_type': 'classification',\n",
       "  'dependencies_versions': '{\"azureml-widgets\": \"1.20.0\", \"azureml-train\": \"1.20.0\", \"azureml-train-restclients-hyperdrive\": \"1.20.0\", \"azureml-train-core\": \"1.20.0\", \"azureml-train-automl\": \"1.20.0\", \"azureml-train-automl-runtime\": \"1.20.0\", \"azureml-train-automl-client\": \"1.20.0\", \"azureml-tensorboard\": \"1.20.0\", \"azureml-telemetry\": \"1.20.0\", \"azureml-sdk\": \"1.20.0\", \"azureml-samples\": \"0+unknown\", \"azureml-pipeline\": \"1.20.0\", \"azureml-pipeline-steps\": \"1.20.0\", \"azureml-pipeline-core\": \"1.20.0\", \"azureml-opendatasets\": \"1.20.0\", \"azureml-model-management-sdk\": \"1.0.1b6.post1\", \"azureml-mlflow\": \"1.20.0.post1\", \"azureml-interpret\": \"1.20.0\", \"azureml-explain-model\": \"1.20.0\", \"azureml-defaults\": \"1.20.0\", \"azureml-dataset-runtime\": \"1.20.0\", \"azureml-dataprep\": \"2.7.3\", \"azureml-dataprep-rslex\": \"1.5.0\", \"azureml-dataprep-native\": \"27.0.0\", \"azureml-datadrift\": \"1.20.0\", \"azureml-core\": \"1.20.0\", \"azureml-contrib-services\": \"1.20.0\", \"azureml-contrib-server\": \"1.20.0\", \"azureml-contrib-reinforcementlearning\": \"1.20.0\", \"azureml-contrib-pipeline-steps\": \"1.20.0\", \"azureml-contrib-notebook\": \"1.20.0\", \"azureml-contrib-interpret\": \"1.20.0\", \"azureml-contrib-gbdt\": \"1.20.0\", \"azureml-contrib-fairness\": \"1.20.0\", \"azureml-contrib-dataset\": \"1.20.0\", \"azureml-cli-common\": \"1.20.0\", \"azureml-automl-runtime\": \"1.20.0\", \"azureml-automl-core\": \"1.20.0\", \"azureml-accel-models\": \"1.20.0\"}',\n",
       "  '_aml_system_scenario_identification': 'Remote.Parent',\n",
       "  'ClientType': 'SDK',\n",
       "  'environment_cpu_name': 'AzureML-AutoML',\n",
       "  'environment_cpu_label': 'prod',\n",
       "  'environment_gpu_name': 'AzureML-AutoML-GPU',\n",
       "  'environment_gpu_label': 'prod',\n",
       "  'root_attribution': 'automl',\n",
       "  'attribution': 'AutoML',\n",
       "  'Orchestrator': 'AutoML',\n",
       "  'CancelUri': 'https://southcentralus.experiments.azureml.net/jasmine/v1.0/subscriptions/b968fb36-f06a-4c76-a15f-afab68ae7667/resourceGroups/aml-quickstarts-136928/providers/Microsoft.MachineLearningServices/workspaces/quick-starts-ws-136928/experimentids/46573982-faed-4e5c-85a3-72b5005ba5c4/cancel/AutoML_b97067c0-8674-48bf-89fb-e38af95a0749',\n",
       "  'ClientSdkVersion': '1.21.0',\n",
       "  'snapshotId': '00000000-0000-0000-0000-000000000000',\n",
       "  'SetupRunId': 'AutoML_b97067c0-8674-48bf-89fb-e38af95a0749_setup',\n",
       "  'SetupRunContainerId': 'dcid.AutoML_b97067c0-8674-48bf-89fb-e38af95a0749_setup',\n",
       "  'FeaturizationRunJsonPath': 'featurizer_container.json',\n",
       "  'FeaturizationRunId': 'AutoML_b97067c0-8674-48bf-89fb-e38af95a0749_featurize',\n",
       "  'ProblemInfoJsonString': '{\"dataset_num_categorical\": 0, \"is_sparse\": false, \"subsampling\": false, \"dataset_classes\": 2, \"dataset_features\": 20, \"dataset_samples\": 241, \"single_frequency_class_detected\": false}',\n",
       "  'ModelExplainRunId': 'AutoML_b97067c0-8674-48bf-89fb-e38af95a0749_ModelExplain',\n",
       "  'azureml.git.repository_uri': 'https://github.com/bharati-21/AZMLND-Capstone-Project.git',\n",
       "  'mlflow.source.git.repoURL': 'https://github.com/bharati-21/AZMLND-Capstone-Project.git',\n",
       "  'azureml.git.branch': 'master',\n",
       "  'mlflow.source.git.branch': 'master',\n",
       "  'azureml.git.commit': '48bb881975cb9f22e1f389c81c2a814689d8cf39',\n",
       "  'mlflow.source.git.commit': '48bb881975cb9f22e1f389c81c2a814689d8cf39',\n",
       "  'azureml.git.dirty': 'True'},\n",
       " 'inputDatasets': [{'dataset': {'id': 'cd63ca24-0cc8-468f-bd70-fd719f02dad6'}, 'consumptionDetails': {'type': 'RunInput', 'inputName': 'training_data', 'mechanism': 'Direct'}}],\n",
       " 'outputDatasets': [],\n",
       " 'logFiles': {},\n",
       " 'submittedBy': 'ODL_User 136928'}"
      ]
     },
     "execution_count": 15,
     "metadata": {},
     "output_type": "execute_result"
    }
   ],
   "source": [
    "from azureml.widgets import RunDetails\n",
    "\n",
    "RunDetails(remote_run).show()\n",
    "remote_run.wait_for_completion(show_output=True)"
   ]
  },
  {
   "cell_type": "markdown",
   "metadata": {},
   "source": [
    "## Best Model\n",
    "\n",
    "TODO: In the cell below, get the best model from the automl experiments and display all the properties of the model.\n",
    "\n"
   ]
  },
  {
   "cell_type": "code",
   "execution_count": 16,
   "metadata": {
    "gather": {
     "logged": 1598431425670
    },
    "jupyter": {
     "outputs_hidden": false,
     "source_hidden": false
    },
    "nteract": {
     "transient": {
      "deleting": false
     }
    }
   },
   "outputs": [
    {
     "name": "stderr",
     "output_type": "stream",
     "text": [
      "WARNING:root:The version of the SDK does not match the version the model was trained on.\n",
      "WARNING:root:The consistency in the result may not be guaranteed.\n",
      "WARNING:root:Package:azureml-automl-core, training version:1.21.0, current version:1.20.0\n",
      "Package:azureml-automl-runtime, training version:1.21.0, current version:1.20.0\n",
      "Package:azureml-core, training version:1.21.0.post1, current version:1.20.0\n",
      "Package:azureml-dataprep, training version:2.8.2, current version:2.7.3\n",
      "Package:azureml-dataprep-native, training version:28.0.0, current version:27.0.0\n",
      "Package:azureml-dataprep-rslex, training version:1.6.0, current version:1.5.0\n",
      "Package:azureml-dataset-runtime, training version:1.21.0, current version:1.20.0\n",
      "Package:azureml-defaults, training version:1.21.0, current version:1.20.0\n",
      "Package:azureml-interpret, training version:1.21.0, current version:1.20.0\n",
      "Package:azureml-pipeline-core, training version:1.21.0, current version:1.20.0\n",
      "Package:azureml-telemetry, training version:1.21.0, current version:1.20.0\n",
      "Package:azureml-train-automl-client, training version:1.21.0, current version:1.20.0\n",
      "Package:azureml-train-automl-runtime, training version:1.21.0, current version:1.20.0\n",
      "WARNING:root:Please ensure the version of your local conda dependencies match the version on which your model was trained in order to properly retrieve your model.\n"
     ]
    },
    {
     "name": "stdout",
     "output_type": "stream",
     "text": [
      "Run(Experiment: Heart_Disease_AutoML,\n",
      "Id: AutoML_b97067c0-8674-48bf-89fb-e38af95a0749_35,\n",
      "Type: azureml.scriptrun,\n",
      "Status: Completed)\n"
     ]
    }
   ],
   "source": [
    "best_run, fitted_model = remote_run.get_output()\n",
    "print(best_run)"
   ]
  },
  {
   "cell_type": "code",
   "execution_count": 17,
   "metadata": {},
   "outputs": [
    {
     "name": "stdout",
     "output_type": "stream",
     "text": [
      "Pipeline(memory=None,\n",
      "         steps=[('datatransformer',\n",
      "                 DataTransformer(enable_dnn=None, enable_feature_sweeping=None,\n",
      "                                 feature_sweeping_config=None,\n",
      "                                 feature_sweeping_timeout=None,\n",
      "                                 featurization_config=None, force_text_dnn=None,\n",
      "                                 is_cross_validation=None,\n",
      "                                 is_onnx_compatible=None, logger=None,\n",
      "                                 observer=None, task=None, working_dir=None)),\n",
      "                ('prefittedsoftvotingclassifier',...\n",
      "                                                                                                random_state=None,\n",
      "                                                                                                reg_alpha=0.3157894736842105,\n",
      "                                                                                                reg_lambda=0.05263157894736842,\n",
      "                                                                                                silent=True,\n",
      "                                                                                                subsample=0.3963157894736842,\n",
      "                                                                                                subsample_for_bin=200000,\n",
      "                                                                                                subsample_freq=0,\n",
      "                                                                                                verbose=-10))],\n",
      "                                                                     verbose=False))],\n",
      "                                               flatten_transform=None,\n",
      "                                               weights=[0.3333333333333333,\n",
      "                                                        0.2222222222222222,\n",
      "                                                        0.1111111111111111,\n",
      "                                                        0.1111111111111111,\n",
      "                                                        0.1111111111111111,\n",
      "                                                        0.1111111111111111]))],\n",
      "         verbose=False)\n"
     ]
    }
   ],
   "source": [
    "print(fitted_model)"
   ]
  },
  {
   "cell_type": "code",
   "execution_count": 18,
   "metadata": {},
   "outputs": [
    {
     "data": {
      "text/plain": [
       "{'_aml_system_azureml.automlComponent': 'AutoML',\n",
       " '_aml_system_ComputeTargetStatus': '{\"AllocationState\":\"steady\",\"PreparingNodeCount\":0,\"RunningNodeCount\":1,\"CurrentNodeCount\":2}',\n",
       " 'ensembled_iterations': '[34, 24, 0, 31, 29, 33]',\n",
       " 'ensembled_algorithms': \"['LogisticRegression', 'RandomForest', 'LightGBM', 'LightGBM', 'XGBoostClassifier', 'LightGBM']\",\n",
       " 'ensemble_weights': '[0.3333333333333333, 0.2222222222222222, 0.1111111111111111, 0.1111111111111111, 0.1111111111111111, 0.1111111111111111]',\n",
       " 'best_individual_pipeline_score': '0.8462585034013606',\n",
       " 'best_individual_iteration': '34',\n",
       " '_aml_system_automl_is_child_run_end_telemetry_event_logged': 'True'}"
      ]
     },
     "execution_count": 18,
     "metadata": {},
     "output_type": "execute_result"
    }
   ],
   "source": [
    "best_run.get_tags()"
   ]
  },
  {
   "cell_type": "code",
   "execution_count": 19,
   "metadata": {
    "gather": {
     "logged": 1598431426111
    },
    "jupyter": {
     "outputs_hidden": false,
     "source_hidden": false
    },
    "nteract": {
     "transient": {
      "deleting": false
     }
    }
   },
   "outputs": [],
   "source": [
    "import joblib\n",
    "from azureml.core.model import Model\n",
    "\n",
    "#TODO: Save the best model\n",
    "\n",
    "description = \"Best Model from AutoML run of the Cleveland Foundation Clinic Heart Disease Dataset\"\n",
    "automl_model = remote_run.register_model(model_name='heart_disease_autoML_best_model.pkl', description=description)"
   ]
  },
  {
   "cell_type": "markdown",
   "metadata": {},
   "source": [
    "## Model Deployment\n",
    "\n",
    "Remember you have to deploy only one of the two models you trained.. Perform the steps in the rest of this notebook only if you wish to deploy this model.\n",
    "\n",
    "TODO: In the cell below, register the model, create an inference config and deploy the model as a web service."
   ]
  },
  {
   "cell_type": "code",
   "execution_count": null,
   "metadata": {
    "gather": {
     "logged": 1598431435189
    },
    "jupyter": {
     "outputs_hidden": false,
     "source_hidden": false
    },
    "nteract": {
     "transient": {
      "deleting": false
     }
    }
   },
   "outputs": [],
   "source": []
  },
  {
   "cell_type": "markdown",
   "metadata": {
    "collapsed": true,
    "gather": {
     "logged": 1598431657736
    },
    "jupyter": {
     "outputs_hidden": false,
     "source_hidden": false
    },
    "nteract": {
     "transient": {
      "deleting": false
     }
    }
   },
   "source": [
    "TODO: In the cell below, send a request to the web service you deployed to test it."
   ]
  },
  {
   "cell_type": "code",
   "execution_count": null,
   "metadata": {
    "gather": {
     "logged": 1598432707604
    },
    "jupyter": {
     "outputs_hidden": false,
     "source_hidden": false
    },
    "nteract": {
     "transient": {
      "deleting": false
     }
    }
   },
   "outputs": [],
   "source": []
  },
  {
   "cell_type": "markdown",
   "metadata": {
    "collapsed": true,
    "gather": {
     "logged": 1598432765711
    },
    "jupyter": {
     "outputs_hidden": false,
     "source_hidden": false
    },
    "nteract": {
     "transient": {
      "deleting": false
     }
    }
   },
   "source": [
    "TODO: In the cell below, print the logs of the web service and delete the service"
   ]
  },
  {
   "cell_type": "code",
   "execution_count": null,
   "metadata": {
    "jupyter": {
     "outputs_hidden": false,
     "source_hidden": false
    },
    "nteract": {
     "transient": {
      "deleting": false
     }
    }
   },
   "outputs": [],
   "source": []
  }
 ],
 "metadata": {
  "kernel_info": {
   "name": "python3-azureml"
  },
  "kernelspec": {
   "display_name": "Python 3",
   "language": "python",
   "name": "python3"
  },
  "language_info": {
   "codemirror_mode": {
    "name": "ipython",
    "version": 3
   },
   "file_extension": ".py",
   "mimetype": "text/x-python",
   "name": "python",
   "nbconvert_exporter": "python",
   "pygments_lexer": "ipython3",
   "version": "3.6.9"
  },
  "nteract": {
   "version": "nteract-front-end@1.0.0"
  }
 },
 "nbformat": 4,
 "nbformat_minor": 2
}
