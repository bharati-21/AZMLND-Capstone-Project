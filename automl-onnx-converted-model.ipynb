{
 "cells": [
  {
   "cell_type": "markdown",
   "metadata": {},
   "source": [
    "# Automated ML\n",
    "\n",
    "* Importing Workspace and Experiment class"
   ]
  },
  {
   "cell_type": "code",
   "execution_count": 1,
   "metadata": {
    "gather": {
     "logged": 1598423888013
    },
    "jupyter": {
     "outputs_hidden": false,
     "source_hidden": false
    },
    "nteract": {
     "transient": {
      "deleting": false
     }
    }
   },
   "outputs": [],
   "source": [
    "from azureml.core import Workspace, Experiment"
   ]
  },
  {
   "cell_type": "markdown",
   "metadata": {},
   "source": [
    "## Setting up the workspace\n",
    "\n",
    "* Setting experiment name and associating it to the workspace"
   ]
  },
  {
   "cell_type": "code",
   "execution_count": 2,
   "metadata": {
    "gather": {
     "logged": 1598423890461
    },
    "jupyter": {
     "outputs_hidden": false,
     "source_hidden": false
    },
    "nteract": {
     "transient": {
      "deleting": false
     }
    }
   },
   "outputs": [
    {
     "name": "stdout",
     "output_type": "stream",
     "text": [
      "WORKSPACE DETAILS:\n",
      "Workspace name: quick-starts-ws-137106\n",
      "Azure region: southcentralus\n",
      "Subscription id: 48a74bb7-9950-4cc1-9caa-5d50f995cc55\n",
      "Resource group: aml-quickstarts-137106\n",
      "Experiment created\n"
     ]
    }
   ],
   "source": [
    "ws = Workspace.from_config()\n",
    "\n",
    "print('WORKSPACE DETAILS:\\nWorkspace name: ' + ws.name, \n",
    "      'Azure region: ' + ws.location, \n",
    "      'Subscription id: ' + ws.subscription_id, \n",
    "      'Resource group: ' + ws.resource_group, sep = '\\n')\n",
    "\n",
    "# choose a name for experiment\n",
    "experiment_name = 'heart-disease-automl'\n",
    "\n",
    "experiment=Experiment(ws, experiment_name)\n",
    "print(\"Experiment created\")\n",
    "\n",
    "run = experiment.start_logging()"
   ]
  },
  {
   "cell_type": "markdown",
   "metadata": {},
   "source": [
    "## Compute Cluster\n",
    "* Setting up the Compute cluster VM `cpu-cluster` to run the experiment"
   ]
  },
  {
   "cell_type": "code",
   "execution_count": 3,
   "metadata": {},
   "outputs": [
    {
     "name": "stdout",
     "output_type": "stream",
     "text": [
      "Existing compute target found... Using it\n",
      "Succeeded\n",
      "AmlCompute wait for completion finished\n",
      "\n",
      "Minimum number of nodes requested have been provisioned\n"
     ]
    }
   ],
   "source": [
    "from azureml.core.compute import ComputeTarget, AmlCompute\n",
    "from azureml.core.compute_target import ComputeTargetException\n",
    "# Creating a compute cluster\n",
    "# vm_size = \"Standard_D2_V2\"\n",
    "# max_nodes = 4.\n",
    "\n",
    "cpu_cluster_name = \"cpu-cluster\"\n",
    "\n",
    "# to check whether the compute cluster exists already or not\n",
    "try:\n",
    "    cpu_cluster = ComputeTarget(workspace=ws, name=cpu_cluster_name)\n",
    "    print(\"Existing compute target found... Using it\")\n",
    "\n",
    "except ComputeTargetException:\n",
    "    print(\"Creating new Compute Target... \" + cpu_cluster_name)\n",
    "    provisioning_compute_config = AmlCompute.provisioning_configuration(vm_size=\"STANDARD_D2_V2\", max_nodes=4)\n",
    "    cpu_cluster = ComputeTarget.create(ws, cpu_cluster_name, provisioning_compute_config)\n",
    "\n",
    "cpu_cluster.wait_for_completion(show_output=True)"
   ]
  },
  {
   "cell_type": "markdown",
   "metadata": {},
   "source": [
    "## Datset Preview\n",
    "* Uploading the dataset from the given URL and reviewing the DataFrame"
   ]
  },
  {
   "cell_type": "code",
   "execution_count": 4,
   "metadata": {},
   "outputs": [],
   "source": [
    "from azureml.data.dataset_factory import TabularDatasetFactory\n",
    "import pandas as pd\n",
    "\n",
    "url_path = \"https://raw.githubusercontent.com/bharati-21/AZMLND-Capstone-Project/master/files/heart.csv\"\n",
    "ds = TabularDatasetFactory.from_delimited_files(path=url_path)\n",
    "\n",
    "df = pd.read_csv(url_path)"
   ]
  },
  {
   "cell_type": "code",
   "execution_count": 5,
   "metadata": {},
   "outputs": [
    {
     "data": {
      "text/html": [
       "<div>\n",
       "<style scoped>\n",
       "    .dataframe tbody tr th:only-of-type {\n",
       "        vertical-align: middle;\n",
       "    }\n",
       "\n",
       "    .dataframe tbody tr th {\n",
       "        vertical-align: top;\n",
       "    }\n",
       "\n",
       "    .dataframe thead th {\n",
       "        text-align: right;\n",
       "    }\n",
       "</style>\n",
       "<table border=\"1\" class=\"dataframe\">\n",
       "  <thead>\n",
       "    <tr style=\"text-align: right;\">\n",
       "      <th></th>\n",
       "      <th>age</th>\n",
       "      <th>sex</th>\n",
       "      <th>cp</th>\n",
       "      <th>trestbps</th>\n",
       "      <th>chol</th>\n",
       "      <th>fbs</th>\n",
       "      <th>restecg</th>\n",
       "      <th>thalach</th>\n",
       "      <th>exang</th>\n",
       "      <th>oldpeak</th>\n",
       "      <th>slope</th>\n",
       "      <th>ca</th>\n",
       "      <th>thal</th>\n",
       "      <th>target</th>\n",
       "    </tr>\n",
       "  </thead>\n",
       "  <tbody>\n",
       "    <tr>\n",
       "      <th>0</th>\n",
       "      <td>63</td>\n",
       "      <td>1</td>\n",
       "      <td>3</td>\n",
       "      <td>145</td>\n",
       "      <td>233</td>\n",
       "      <td>1</td>\n",
       "      <td>0</td>\n",
       "      <td>150</td>\n",
       "      <td>0</td>\n",
       "      <td>2.3</td>\n",
       "      <td>0</td>\n",
       "      <td>0</td>\n",
       "      <td>1</td>\n",
       "      <td>1</td>\n",
       "    </tr>\n",
       "    <tr>\n",
       "      <th>1</th>\n",
       "      <td>37</td>\n",
       "      <td>1</td>\n",
       "      <td>2</td>\n",
       "      <td>130</td>\n",
       "      <td>250</td>\n",
       "      <td>0</td>\n",
       "      <td>1</td>\n",
       "      <td>187</td>\n",
       "      <td>0</td>\n",
       "      <td>3.5</td>\n",
       "      <td>0</td>\n",
       "      <td>0</td>\n",
       "      <td>2</td>\n",
       "      <td>1</td>\n",
       "    </tr>\n",
       "    <tr>\n",
       "      <th>2</th>\n",
       "      <td>41</td>\n",
       "      <td>0</td>\n",
       "      <td>1</td>\n",
       "      <td>130</td>\n",
       "      <td>204</td>\n",
       "      <td>0</td>\n",
       "      <td>0</td>\n",
       "      <td>172</td>\n",
       "      <td>0</td>\n",
       "      <td>1.4</td>\n",
       "      <td>2</td>\n",
       "      <td>0</td>\n",
       "      <td>2</td>\n",
       "      <td>1</td>\n",
       "    </tr>\n",
       "    <tr>\n",
       "      <th>3</th>\n",
       "      <td>56</td>\n",
       "      <td>1</td>\n",
       "      <td>1</td>\n",
       "      <td>120</td>\n",
       "      <td>236</td>\n",
       "      <td>0</td>\n",
       "      <td>1</td>\n",
       "      <td>178</td>\n",
       "      <td>0</td>\n",
       "      <td>0.8</td>\n",
       "      <td>2</td>\n",
       "      <td>0</td>\n",
       "      <td>2</td>\n",
       "      <td>1</td>\n",
       "    </tr>\n",
       "    <tr>\n",
       "      <th>4</th>\n",
       "      <td>57</td>\n",
       "      <td>0</td>\n",
       "      <td>0</td>\n",
       "      <td>120</td>\n",
       "      <td>354</td>\n",
       "      <td>0</td>\n",
       "      <td>1</td>\n",
       "      <td>163</td>\n",
       "      <td>1</td>\n",
       "      <td>0.6</td>\n",
       "      <td>2</td>\n",
       "      <td>0</td>\n",
       "      <td>2</td>\n",
       "      <td>1</td>\n",
       "    </tr>\n",
       "  </tbody>\n",
       "</table>\n",
       "</div>"
      ],
      "text/plain": [
       "   age  sex  cp  trestbps  chol  fbs  restecg  thalach  exang  oldpeak  slope  \\\n",
       "0   63    1   3       145   233    1        0      150      0      2.3      0   \n",
       "1   37    1   2       130   250    0        1      187      0      3.5      0   \n",
       "2   41    0   1       130   204    0        0      172      0      1.4      2   \n",
       "3   56    1   1       120   236    0        1      178      0      0.8      2   \n",
       "4   57    0   0       120   354    0        1      163      1      0.6      2   \n",
       "\n",
       "   ca  thal  target  \n",
       "0   0     1       1  \n",
       "1   0     2       1  \n",
       "2   0     2       1  \n",
       "3   0     2       1  \n",
       "4   0     2       1  "
      ]
     },
     "execution_count": 5,
     "metadata": {},
     "output_type": "execute_result"
    }
   ],
   "source": [
    "ds_dataframe = ds.to_pandas_dataframe()\n",
    "df.head()"
   ]
  },
  {
   "cell_type": "markdown",
   "metadata": {},
   "source": [
    "### Cleaning and Splitting the Data"
   ]
  },
  {
   "cell_type": "code",
   "execution_count": 6,
   "metadata": {},
   "outputs": [
    {
     "name": "stdout",
     "output_type": "stream",
     "text": [
      "Shape of dataset before split: (302, 21)\n"
     ]
    },
    {
     "data": {
      "text/html": [
       "<div>\n",
       "<style scoped>\n",
       "    .dataframe tbody tr th:only-of-type {\n",
       "        vertical-align: middle;\n",
       "    }\n",
       "\n",
       "    .dataframe tbody tr th {\n",
       "        vertical-align: top;\n",
       "    }\n",
       "\n",
       "    .dataframe thead th {\n",
       "        text-align: right;\n",
       "    }\n",
       "</style>\n",
       "<table border=\"1\" class=\"dataframe\">\n",
       "  <thead>\n",
       "    <tr style=\"text-align: right;\">\n",
       "      <th></th>\n",
       "      <th>age</th>\n",
       "      <th>resting_BP</th>\n",
       "      <th>cholesterol</th>\n",
       "      <th>max_heart_rate</th>\n",
       "      <th>st_depression</th>\n",
       "      <th>sex_1</th>\n",
       "      <th>chest_pain_type_1</th>\n",
       "      <th>chest_pain_type_2</th>\n",
       "      <th>chest_pain_type_3</th>\n",
       "      <th>fasting_blood_sugar_1</th>\n",
       "      <th>rest_ECG_1</th>\n",
       "      <th>rest_ECG_2</th>\n",
       "      <th>exercise_induced_angina_1</th>\n",
       "      <th>st_slope_1</th>\n",
       "      <th>st_slope_2</th>\n",
       "      <th>num_major_vessels_1.0</th>\n",
       "      <th>num_major_vessels_2.0</th>\n",
       "      <th>num_major_vessels_3.0</th>\n",
       "      <th>thalassemia_2.0</th>\n",
       "      <th>thalassemia_3.0</th>\n",
       "    </tr>\n",
       "  </thead>\n",
       "  <tbody>\n",
       "    <tr>\n",
       "      <th>0</th>\n",
       "      <td>63</td>\n",
       "      <td>145</td>\n",
       "      <td>233</td>\n",
       "      <td>150</td>\n",
       "      <td>2.3</td>\n",
       "      <td>1</td>\n",
       "      <td>0</td>\n",
       "      <td>0</td>\n",
       "      <td>1</td>\n",
       "      <td>1</td>\n",
       "      <td>0</td>\n",
       "      <td>0</td>\n",
       "      <td>0</td>\n",
       "      <td>0</td>\n",
       "      <td>0</td>\n",
       "      <td>0</td>\n",
       "      <td>0</td>\n",
       "      <td>0</td>\n",
       "      <td>0</td>\n",
       "      <td>0</td>\n",
       "    </tr>\n",
       "    <tr>\n",
       "      <th>1</th>\n",
       "      <td>37</td>\n",
       "      <td>130</td>\n",
       "      <td>250</td>\n",
       "      <td>187</td>\n",
       "      <td>3.5</td>\n",
       "      <td>1</td>\n",
       "      <td>0</td>\n",
       "      <td>1</td>\n",
       "      <td>0</td>\n",
       "      <td>0</td>\n",
       "      <td>1</td>\n",
       "      <td>0</td>\n",
       "      <td>0</td>\n",
       "      <td>0</td>\n",
       "      <td>0</td>\n",
       "      <td>0</td>\n",
       "      <td>0</td>\n",
       "      <td>0</td>\n",
       "      <td>1</td>\n",
       "      <td>0</td>\n",
       "    </tr>\n",
       "    <tr>\n",
       "      <th>2</th>\n",
       "      <td>41</td>\n",
       "      <td>130</td>\n",
       "      <td>204</td>\n",
       "      <td>172</td>\n",
       "      <td>1.4</td>\n",
       "      <td>0</td>\n",
       "      <td>1</td>\n",
       "      <td>0</td>\n",
       "      <td>0</td>\n",
       "      <td>0</td>\n",
       "      <td>0</td>\n",
       "      <td>0</td>\n",
       "      <td>0</td>\n",
       "      <td>0</td>\n",
       "      <td>1</td>\n",
       "      <td>0</td>\n",
       "      <td>0</td>\n",
       "      <td>0</td>\n",
       "      <td>1</td>\n",
       "      <td>0</td>\n",
       "    </tr>\n",
       "    <tr>\n",
       "      <th>3</th>\n",
       "      <td>56</td>\n",
       "      <td>120</td>\n",
       "      <td>236</td>\n",
       "      <td>178</td>\n",
       "      <td>0.8</td>\n",
       "      <td>1</td>\n",
       "      <td>1</td>\n",
       "      <td>0</td>\n",
       "      <td>0</td>\n",
       "      <td>0</td>\n",
       "      <td>1</td>\n",
       "      <td>0</td>\n",
       "      <td>0</td>\n",
       "      <td>0</td>\n",
       "      <td>1</td>\n",
       "      <td>0</td>\n",
       "      <td>0</td>\n",
       "      <td>0</td>\n",
       "      <td>1</td>\n",
       "      <td>0</td>\n",
       "    </tr>\n",
       "    <tr>\n",
       "      <th>4</th>\n",
       "      <td>57</td>\n",
       "      <td>120</td>\n",
       "      <td>354</td>\n",
       "      <td>163</td>\n",
       "      <td>0.6</td>\n",
       "      <td>0</td>\n",
       "      <td>0</td>\n",
       "      <td>0</td>\n",
       "      <td>0</td>\n",
       "      <td>0</td>\n",
       "      <td>1</td>\n",
       "      <td>0</td>\n",
       "      <td>1</td>\n",
       "      <td>0</td>\n",
       "      <td>1</td>\n",
       "      <td>0</td>\n",
       "      <td>0</td>\n",
       "      <td>0</td>\n",
       "      <td>1</td>\n",
       "      <td>0</td>\n",
       "    </tr>\n",
       "  </tbody>\n",
       "</table>\n",
       "</div>"
      ],
      "text/plain": [
       "   age  resting_BP  cholesterol  max_heart_rate  st_depression  sex_1  \\\n",
       "0   63         145          233             150            2.3      1   \n",
       "1   37         130          250             187            3.5      1   \n",
       "2   41         130          204             172            1.4      0   \n",
       "3   56         120          236             178            0.8      1   \n",
       "4   57         120          354             163            0.6      0   \n",
       "\n",
       "   chest_pain_type_1  chest_pain_type_2  chest_pain_type_3  \\\n",
       "0                  0                  0                  1   \n",
       "1                  0                  1                  0   \n",
       "2                  1                  0                  0   \n",
       "3                  1                  0                  0   \n",
       "4                  0                  0                  0   \n",
       "\n",
       "   fasting_blood_sugar_1  rest_ECG_1  rest_ECG_2  exercise_induced_angina_1  \\\n",
       "0                      1           0           0                          0   \n",
       "1                      0           1           0                          0   \n",
       "2                      0           0           0                          0   \n",
       "3                      0           1           0                          0   \n",
       "4                      0           1           0                          1   \n",
       "\n",
       "   st_slope_1  st_slope_2  num_major_vessels_1.0  num_major_vessels_2.0  \\\n",
       "0           0           0                      0                      0   \n",
       "1           0           0                      0                      0   \n",
       "2           0           1                      0                      0   \n",
       "3           0           1                      0                      0   \n",
       "4           0           1                      0                      0   \n",
       "\n",
       "   num_major_vessels_3.0  thalassemia_2.0  thalassemia_3.0  \n",
       "0                      0                0                0  \n",
       "1                      0                1                0  \n",
       "2                      0                1                0  \n",
       "3                      0                1                0  \n",
       "4                      0                1                0  "
      ]
     },
     "execution_count": 6,
     "metadata": {},
     "output_type": "execute_result"
    }
   ],
   "source": [
    "from train import clean_data\n",
    "\n",
    "# Use the clean_data function to clean your data.\n",
    "x, y = clean_data(ds)\n",
    "x.head()"
   ]
  },
  {
   "cell_type": "code",
   "execution_count": null,
   "metadata": {},
   "outputs": [],
   "source": [
    "# x['target'] = y\n",
    "# x"
   ]
  },
  {
   "cell_type": "code",
   "execution_count": 7,
   "metadata": {},
   "outputs": [
    {
     "name": "stdout",
     "output_type": "stream",
     "text": [
      "Dicrectory 'Data' created...\n"
     ]
    }
   ],
   "source": [
    "import os\n",
    "path = \"./Data\"\n",
    "try:\n",
    "    os.makedirs(path, exist_ok=True)\n",
    "    print(\"Dicrectory 'Data' created...\")\n",
    "except OSError:\n",
    "    print(\"Directory 'Data' cannot be created...\")"
   ]
  },
  {
   "cell_type": "code",
   "execution_count": 8,
   "metadata": {},
   "outputs": [
    {
     "name": "stdout",
     "output_type": "stream",
     "text": [
      "(61, 20) (241, 20) (61,) (241,)\n",
      "(241, 21)\n",
      "(61, 21)\n"
     ]
    }
   ],
   "source": [
    "# split data into test and train sets\n",
    "\n",
    "from sklearn.model_selection import train_test_split\n",
    "import pandas as pd\n",
    "\n",
    "#spliting the data\n",
    "train_x, test_x, train_y, test_y = train_test_split(x, y, test_size = 0.2)\n",
    "print(test_x.shape, train_x.shape, test_y.shape, train_y.shape)\n",
    "\n",
    "train_df = train_x.copy(deep=True)\n",
    "train_df['target'] = train_y\n",
    "print(train_df.shape)\n",
    "\n",
    "test_df = test_x.copy(deep=True)\n",
    "test_df['target'] = test_y\n",
    "print(test_df.shape)\n",
    "\n",
    "# saving test and train data locally\n",
    "train_df.to_csv(\"./Data/train_data.csv\", index = False)\n",
    "test_df.to_csv(\"./Data/test_data.csv\", index = False)"
   ]
  },
  {
   "cell_type": "code",
   "execution_count": 9,
   "metadata": {},
   "outputs": [
    {
     "name": "stdout",
     "output_type": "stream",
     "text": [
      "Uploading an estimated of 2 files\n",
      "Uploading Data/test_data.csv\n",
      "Uploaded Data/test_data.csv, 1 files out of an estimated total of 2\n",
      "Uploading Data/train_data.csv\n",
      "Uploaded Data/train_data.csv, 2 files out of an estimated total of 2\n",
      "Uploaded 2 files\n"
     ]
    },
    {
     "data": {
      "text/plain": [
       "$AZUREML_DATAREFERENCE_1f6bee0e8ad74980a463b1c2d1f82de7"
      ]
     },
     "execution_count": 9,
     "metadata": {},
     "output_type": "execute_result"
    }
   ],
   "source": [
    "deafult_store = ws.get_default_datastore()\n",
    "deafult_store.upload(src_dir=\"Data\", target_path=\"Data\", overwrite=True)"
   ]
  },
  {
   "cell_type": "code",
   "execution_count": 10,
   "metadata": {},
   "outputs": [],
   "source": [
    "from azureml.core import Dataset\n",
    "\n",
    "train_data = TabularDatasetFactory.from_delimited_files(path=[(deafult_store, ('Data/train_data.csv'))])\n",
    "test_data = TabularDatasetFactory.from_delimited_files(path=[(deafult_store, ('Data/test_data.csv'))])"
   ]
  },
  {
   "cell_type": "code",
   "execution_count": 11,
   "metadata": {
    "scrolled": false
   },
   "outputs": [
    {
     "data": {
      "text/html": [
       "<div>\n",
       "<style scoped>\n",
       "    .dataframe tbody tr th:only-of-type {\n",
       "        vertical-align: middle;\n",
       "    }\n",
       "\n",
       "    .dataframe tbody tr th {\n",
       "        vertical-align: top;\n",
       "    }\n",
       "\n",
       "    .dataframe thead th {\n",
       "        text-align: right;\n",
       "    }\n",
       "</style>\n",
       "<table border=\"1\" class=\"dataframe\">\n",
       "  <thead>\n",
       "    <tr style=\"text-align: right;\">\n",
       "      <th></th>\n",
       "      <th>age</th>\n",
       "      <th>resting_BP</th>\n",
       "      <th>cholesterol</th>\n",
       "      <th>max_heart_rate</th>\n",
       "      <th>st_depression</th>\n",
       "      <th>sex_1</th>\n",
       "      <th>chest_pain_type_1</th>\n",
       "      <th>chest_pain_type_2</th>\n",
       "      <th>chest_pain_type_3</th>\n",
       "      <th>fasting_blood_sugar_1</th>\n",
       "      <th>...</th>\n",
       "      <th>rest_ECG_2</th>\n",
       "      <th>exercise_induced_angina_1</th>\n",
       "      <th>st_slope_1</th>\n",
       "      <th>st_slope_2</th>\n",
       "      <th>num_major_vessels_1.0</th>\n",
       "      <th>num_major_vessels_2.0</th>\n",
       "      <th>num_major_vessels_3.0</th>\n",
       "      <th>thalassemia_2.0</th>\n",
       "      <th>thalassemia_3.0</th>\n",
       "      <th>target</th>\n",
       "    </tr>\n",
       "  </thead>\n",
       "  <tbody>\n",
       "    <tr>\n",
       "      <th>0</th>\n",
       "      <td>63</td>\n",
       "      <td>145</td>\n",
       "      <td>233</td>\n",
       "      <td>150</td>\n",
       "      <td>2.3</td>\n",
       "      <td>1</td>\n",
       "      <td>0</td>\n",
       "      <td>0</td>\n",
       "      <td>1</td>\n",
       "      <td>1</td>\n",
       "      <td>...</td>\n",
       "      <td>0</td>\n",
       "      <td>0</td>\n",
       "      <td>0</td>\n",
       "      <td>0</td>\n",
       "      <td>0</td>\n",
       "      <td>0</td>\n",
       "      <td>0</td>\n",
       "      <td>0</td>\n",
       "      <td>0</td>\n",
       "      <td>1</td>\n",
       "    </tr>\n",
       "    <tr>\n",
       "      <th>1</th>\n",
       "      <td>44</td>\n",
       "      <td>120</td>\n",
       "      <td>220</td>\n",
       "      <td>170</td>\n",
       "      <td>0.0</td>\n",
       "      <td>1</td>\n",
       "      <td>1</td>\n",
       "      <td>0</td>\n",
       "      <td>0</td>\n",
       "      <td>0</td>\n",
       "      <td>...</td>\n",
       "      <td>0</td>\n",
       "      <td>0</td>\n",
       "      <td>0</td>\n",
       "      <td>1</td>\n",
       "      <td>0</td>\n",
       "      <td>0</td>\n",
       "      <td>0</td>\n",
       "      <td>1</td>\n",
       "      <td>0</td>\n",
       "      <td>1</td>\n",
       "    </tr>\n",
       "    <tr>\n",
       "      <th>2</th>\n",
       "      <td>53</td>\n",
       "      <td>128</td>\n",
       "      <td>216</td>\n",
       "      <td>115</td>\n",
       "      <td>0.0</td>\n",
       "      <td>0</td>\n",
       "      <td>0</td>\n",
       "      <td>1</td>\n",
       "      <td>0</td>\n",
       "      <td>0</td>\n",
       "      <td>...</td>\n",
       "      <td>0</td>\n",
       "      <td>0</td>\n",
       "      <td>0</td>\n",
       "      <td>1</td>\n",
       "      <td>0</td>\n",
       "      <td>0</td>\n",
       "      <td>0</td>\n",
       "      <td>1</td>\n",
       "      <td>0</td>\n",
       "      <td>1</td>\n",
       "    </tr>\n",
       "    <tr>\n",
       "      <th>3</th>\n",
       "      <td>35</td>\n",
       "      <td>138</td>\n",
       "      <td>183</td>\n",
       "      <td>182</td>\n",
       "      <td>1.4</td>\n",
       "      <td>0</td>\n",
       "      <td>0</td>\n",
       "      <td>0</td>\n",
       "      <td>0</td>\n",
       "      <td>0</td>\n",
       "      <td>...</td>\n",
       "      <td>0</td>\n",
       "      <td>0</td>\n",
       "      <td>0</td>\n",
       "      <td>1</td>\n",
       "      <td>0</td>\n",
       "      <td>0</td>\n",
       "      <td>0</td>\n",
       "      <td>1</td>\n",
       "      <td>0</td>\n",
       "      <td>1</td>\n",
       "    </tr>\n",
       "    <tr>\n",
       "      <th>4</th>\n",
       "      <td>61</td>\n",
       "      <td>130</td>\n",
       "      <td>330</td>\n",
       "      <td>169</td>\n",
       "      <td>0.0</td>\n",
       "      <td>0</td>\n",
       "      <td>0</td>\n",
       "      <td>0</td>\n",
       "      <td>0</td>\n",
       "      <td>0</td>\n",
       "      <td>...</td>\n",
       "      <td>0</td>\n",
       "      <td>0</td>\n",
       "      <td>0</td>\n",
       "      <td>1</td>\n",
       "      <td>0</td>\n",
       "      <td>0</td>\n",
       "      <td>0</td>\n",
       "      <td>1</td>\n",
       "      <td>0</td>\n",
       "      <td>0</td>\n",
       "    </tr>\n",
       "    <tr>\n",
       "      <th>...</th>\n",
       "      <td>...</td>\n",
       "      <td>...</td>\n",
       "      <td>...</td>\n",
       "      <td>...</td>\n",
       "      <td>...</td>\n",
       "      <td>...</td>\n",
       "      <td>...</td>\n",
       "      <td>...</td>\n",
       "      <td>...</td>\n",
       "      <td>...</td>\n",
       "      <td>...</td>\n",
       "      <td>...</td>\n",
       "      <td>...</td>\n",
       "      <td>...</td>\n",
       "      <td>...</td>\n",
       "      <td>...</td>\n",
       "      <td>...</td>\n",
       "      <td>...</td>\n",
       "      <td>...</td>\n",
       "      <td>...</td>\n",
       "      <td>...</td>\n",
       "    </tr>\n",
       "    <tr>\n",
       "      <th>236</th>\n",
       "      <td>55</td>\n",
       "      <td>132</td>\n",
       "      <td>353</td>\n",
       "      <td>132</td>\n",
       "      <td>1.2</td>\n",
       "      <td>1</td>\n",
       "      <td>0</td>\n",
       "      <td>0</td>\n",
       "      <td>0</td>\n",
       "      <td>0</td>\n",
       "      <td>...</td>\n",
       "      <td>0</td>\n",
       "      <td>1</td>\n",
       "      <td>1</td>\n",
       "      <td>0</td>\n",
       "      <td>1</td>\n",
       "      <td>0</td>\n",
       "      <td>0</td>\n",
       "      <td>0</td>\n",
       "      <td>1</td>\n",
       "      <td>0</td>\n",
       "    </tr>\n",
       "    <tr>\n",
       "      <th>237</th>\n",
       "      <td>60</td>\n",
       "      <td>102</td>\n",
       "      <td>318</td>\n",
       "      <td>160</td>\n",
       "      <td>0.0</td>\n",
       "      <td>0</td>\n",
       "      <td>0</td>\n",
       "      <td>1</td>\n",
       "      <td>0</td>\n",
       "      <td>0</td>\n",
       "      <td>...</td>\n",
       "      <td>0</td>\n",
       "      <td>0</td>\n",
       "      <td>0</td>\n",
       "      <td>1</td>\n",
       "      <td>1</td>\n",
       "      <td>0</td>\n",
       "      <td>0</td>\n",
       "      <td>1</td>\n",
       "      <td>0</td>\n",
       "      <td>1</td>\n",
       "    </tr>\n",
       "    <tr>\n",
       "      <th>238</th>\n",
       "      <td>51</td>\n",
       "      <td>140</td>\n",
       "      <td>298</td>\n",
       "      <td>122</td>\n",
       "      <td>4.2</td>\n",
       "      <td>1</td>\n",
       "      <td>0</td>\n",
       "      <td>0</td>\n",
       "      <td>0</td>\n",
       "      <td>0</td>\n",
       "      <td>...</td>\n",
       "      <td>0</td>\n",
       "      <td>1</td>\n",
       "      <td>1</td>\n",
       "      <td>0</td>\n",
       "      <td>0</td>\n",
       "      <td>0</td>\n",
       "      <td>1</td>\n",
       "      <td>0</td>\n",
       "      <td>1</td>\n",
       "      <td>0</td>\n",
       "    </tr>\n",
       "    <tr>\n",
       "      <th>239</th>\n",
       "      <td>53</td>\n",
       "      <td>140</td>\n",
       "      <td>203</td>\n",
       "      <td>155</td>\n",
       "      <td>3.1</td>\n",
       "      <td>1</td>\n",
       "      <td>0</td>\n",
       "      <td>0</td>\n",
       "      <td>0</td>\n",
       "      <td>1</td>\n",
       "      <td>...</td>\n",
       "      <td>0</td>\n",
       "      <td>1</td>\n",
       "      <td>0</td>\n",
       "      <td>0</td>\n",
       "      <td>0</td>\n",
       "      <td>0</td>\n",
       "      <td>0</td>\n",
       "      <td>0</td>\n",
       "      <td>1</td>\n",
       "      <td>0</td>\n",
       "    </tr>\n",
       "    <tr>\n",
       "      <th>240</th>\n",
       "      <td>60</td>\n",
       "      <td>117</td>\n",
       "      <td>230</td>\n",
       "      <td>160</td>\n",
       "      <td>1.4</td>\n",
       "      <td>1</td>\n",
       "      <td>0</td>\n",
       "      <td>0</td>\n",
       "      <td>0</td>\n",
       "      <td>1</td>\n",
       "      <td>...</td>\n",
       "      <td>0</td>\n",
       "      <td>1</td>\n",
       "      <td>0</td>\n",
       "      <td>1</td>\n",
       "      <td>0</td>\n",
       "      <td>1</td>\n",
       "      <td>0</td>\n",
       "      <td>0</td>\n",
       "      <td>1</td>\n",
       "      <td>0</td>\n",
       "    </tr>\n",
       "  </tbody>\n",
       "</table>\n",
       "<p>241 rows × 21 columns</p>\n",
       "</div>"
      ],
      "text/plain": [
       "     age  resting_BP  cholesterol  max_heart_rate  st_depression  sex_1  \\\n",
       "0     63         145          233             150            2.3      1   \n",
       "1     44         120          220             170            0.0      1   \n",
       "2     53         128          216             115            0.0      0   \n",
       "3     35         138          183             182            1.4      0   \n",
       "4     61         130          330             169            0.0      0   \n",
       "..   ...         ...          ...             ...            ...    ...   \n",
       "236   55         132          353             132            1.2      1   \n",
       "237   60         102          318             160            0.0      0   \n",
       "238   51         140          298             122            4.2      1   \n",
       "239   53         140          203             155            3.1      1   \n",
       "240   60         117          230             160            1.4      1   \n",
       "\n",
       "     chest_pain_type_1  chest_pain_type_2  chest_pain_type_3  \\\n",
       "0                    0                  0                  1   \n",
       "1                    1                  0                  0   \n",
       "2                    0                  1                  0   \n",
       "3                    0                  0                  0   \n",
       "4                    0                  0                  0   \n",
       "..                 ...                ...                ...   \n",
       "236                  0                  0                  0   \n",
       "237                  0                  1                  0   \n",
       "238                  0                  0                  0   \n",
       "239                  0                  0                  0   \n",
       "240                  0                  0                  0   \n",
       "\n",
       "     fasting_blood_sugar_1  ...  rest_ECG_2  exercise_induced_angina_1  \\\n",
       "0                        1  ...           0                          0   \n",
       "1                        0  ...           0                          0   \n",
       "2                        0  ...           0                          0   \n",
       "3                        0  ...           0                          0   \n",
       "4                        0  ...           0                          0   \n",
       "..                     ...  ...         ...                        ...   \n",
       "236                      0  ...           0                          1   \n",
       "237                      0  ...           0                          0   \n",
       "238                      0  ...           0                          1   \n",
       "239                      1  ...           0                          1   \n",
       "240                      1  ...           0                          1   \n",
       "\n",
       "     st_slope_1  st_slope_2  num_major_vessels_1.0  num_major_vessels_2.0  \\\n",
       "0             0           0                      0                      0   \n",
       "1             0           1                      0                      0   \n",
       "2             0           1                      0                      0   \n",
       "3             0           1                      0                      0   \n",
       "4             0           1                      0                      0   \n",
       "..          ...         ...                    ...                    ...   \n",
       "236           1           0                      1                      0   \n",
       "237           0           1                      1                      0   \n",
       "238           1           0                      0                      0   \n",
       "239           0           0                      0                      0   \n",
       "240           0           1                      0                      1   \n",
       "\n",
       "     num_major_vessels_3.0  thalassemia_2.0  thalassemia_3.0  target  \n",
       "0                        0                0                0       1  \n",
       "1                        0                1                0       1  \n",
       "2                        0                1                0       1  \n",
       "3                        0                1                0       1  \n",
       "4                        0                1                0       0  \n",
       "..                     ...              ...              ...     ...  \n",
       "236                      0                0                1       0  \n",
       "237                      0                1                0       1  \n",
       "238                      1                0                1       0  \n",
       "239                      0                0                1       0  \n",
       "240                      0                0                1       0  \n",
       "\n",
       "[241 rows x 21 columns]"
      ]
     },
     "execution_count": 11,
     "metadata": {},
     "output_type": "execute_result"
    }
   ],
   "source": [
    "train_data.to_pandas_dataframe()"
   ]
  },
  {
   "cell_type": "code",
   "execution_count": 12,
   "metadata": {},
   "outputs": [
    {
     "data": {
      "text/plain": [
       "({\n",
       "   \"source\": [\n",
       "     \"('workspaceblobstore', 'Data/train_data.csv')\"\n",
       "   ],\n",
       "   \"definition\": [\n",
       "     \"GetDatastoreFiles\",\n",
       "     \"ParseDelimited\",\n",
       "     \"DropColumns\",\n",
       "     \"SetColumnTypes\"\n",
       "   ]\n",
       " },\n",
       " (241, 21))"
      ]
     },
     "execution_count": 12,
     "metadata": {},
     "output_type": "execute_result"
    }
   ],
   "source": [
    "# train_data = train_data.drop_columns('Column1')\n",
    "train_data, train_data.to_pandas_dataframe().shape"
   ]
  },
  {
   "cell_type": "markdown",
   "metadata": {},
   "source": [
    "## AutoML Configuration\n",
    "\n",
    "1. The settings created for the AutoML run was:\n",
    "   * `Experiment Timeout (experiment_timeout_minutes)`: Maximum amount of time (in minutes) that all iterations combined can take before the experiment terminates.\n",
    "   * `Primary Metric (primary_metric)`: The primary metric which is used to evaluate every run. Accuracy is the primary metric to be evaluated.\n",
    "   * `Cross Validations (n_cross_validations)`: Specifies the number of cross validations that needs to be performed on each model by splitting the dataset into n subsets.\n",
    "\n",
    "1. The AutoMLConfg object was defined as follows:\n",
    "   * `Task to be performed (task)`: The type of task that needs to be run such as classification, regression, forecasting etc.   In this project classification is the task to be performed.\n",
    "   * `Training Data (training_data)`: The TabularDataset that contains the training data.\n",
    "   * `Label Column (label_column_name)`: Name of the column that needs to be predicted. In this case the target column is used as the label column to perform classification.\n",
    "   * `Compute Target (compute_target)`: The cluster used to run the experiment on."
   ]
  },
  {
   "cell_type": "code",
   "execution_count": 14,
   "metadata": {
    "gather": {
     "logged": 1598429217746
    },
    "jupyter": {
     "outputs_hidden": false,
     "source_hidden": false
    },
    "nteract": {
     "transient": {
      "deleting": false
     }
    }
   },
   "outputs": [
    {
     "name": "stdout",
     "output_type": "stream",
     "text": [
      "AutoML config created.\n"
     ]
    }
   ],
   "source": [
    "from azureml.train.automl import AutoMLConfig\n",
    "\n",
    "# TODO: Put your automl settings here\n",
    "automl_settings = {\n",
    "    \"experiment_timeout_minutes\": 30,\n",
    "    \"primary_metric\": 'accuracy'\n",
    "}\n",
    "\n",
    "# Define Automl config \n",
    "automl_config = AutoMLConfig (\n",
    "    task = 'classification',\n",
    "    training_data = train_data,\n",
    "    label_column_name = \"target\",\n",
    "    n_cross_validations = 5,\n",
    "    enable_onnx_compatible_models = True,\n",
    "    compute_target = cpu_cluster,\n",
    "    **automl_settings\n",
    ")\n",
    "\n",
    "print(\"AutoML config created.\")"
   ]
  },
  {
   "cell_type": "code",
   "execution_count": 15,
   "metadata": {
    "gather": {
     "logged": 1598431107951
    },
    "jupyter": {
     "outputs_hidden": false,
     "source_hidden": false
    },
    "nteract": {
     "transient": {
      "deleting": false
     }
    }
   },
   "outputs": [
    {
     "name": "stdout",
     "output_type": "stream",
     "text": [
      "Running on remote.\n",
      "No run_configuration provided, running on cpu-cluster with default configuration\n",
      "Running on remote compute: cpu-cluster\n",
      "Parent Run ID: AutoML_c3359735-5208-4441-a6bb-864e97b28ed6\n",
      "\n",
      "Current status: FeaturesGeneration. Generating features for the dataset.\n",
      "Current status: ModelSelection. Beginning model selection.\n",
      "\n",
      "****************************************************************************************************\n",
      "DATA GUARDRAILS: \n",
      "\n",
      "TYPE:         Class balancing detection\n",
      "STATUS:       PASSED\n",
      "DESCRIPTION:  Your inputs were analyzed, and all classes are balanced in your training data.\n",
      "              Learn more about imbalanced data: https://aka.ms/AutomatedMLImbalancedData\n",
      "\n",
      "****************************************************************************************************\n",
      "\n",
      "TYPE:         Missing feature values imputation\n",
      "STATUS:       PASSED\n",
      "DESCRIPTION:  No feature missing values were detected in the training data.\n",
      "              Learn more about missing value imputation: https://aka.ms/AutomatedMLFeaturization\n",
      "\n",
      "****************************************************************************************************\n",
      "\n",
      "TYPE:         High cardinality feature detection\n",
      "STATUS:       PASSED\n",
      "DESCRIPTION:  Your inputs were analyzed, and no high cardinality features were detected.\n",
      "              Learn more about high cardinality feature handling: https://aka.ms/AutomatedMLFeaturization\n",
      "\n",
      "****************************************************************************************************\n",
      "\n",
      "****************************************************************************************************\n",
      "ITERATION: The iteration being evaluated.\n",
      "PIPELINE: A summary description of the pipeline being evaluated.\n",
      "DURATION: Time taken for the current iteration.\n",
      "METRIC: The result of computing score on the fitted pipeline.\n",
      "BEST: The best observed score thus far.\n",
      "****************************************************************************************************\n",
      "\n",
      " ITERATION   PIPELINE                                       DURATION      METRIC      BEST\n",
      "         0   MaxAbsScaler LightGBM                          0:00:53       0.8174    0.8174\n",
      "         1   MaxAbsScaler XGBoostClassifier                 0:00:54       0.8009    0.8174\n",
      "         2   MinMaxScaler RandomForest                      0:00:54       0.7676    0.8174\n",
      "         3   MinMaxScaler RandomForest                      0:00:58       0.7925    0.8174\n",
      "         4   MinMaxScaler RandomForest                      0:00:50       0.7967    0.8174\n",
      "         5   MinMaxScaler SVM                               0:00:56       0.8048    0.8174\n",
      "         6   MaxAbsScaler GradientBoosting                  0:00:55       0.8134    0.8174\n",
      "         7   StandardScalerWrapper RandomForest             0:00:58       0.7967    0.8174\n",
      "         8   SparseNormalizer XGBoostClassifier             0:00:52       0.8093    0.8174\n",
      "         9   SparseNormalizer LightGBM                      0:00:55       0.8051    0.8174\n",
      "        10   StandardScalerWrapper LightGBM                 0:00:59       0.8132    0.8174\n",
      "        11   RobustScaler ExtremeRandomTrees                0:01:02       0.7676    0.8174\n",
      "        12   SparseNormalizer XGBoostClassifier             0:00:58       0.8089    0.8174\n",
      "        13   SparseNormalizer XGBoostClassifier             0:00:52       0.8048    0.8174\n",
      "        14   SparseNormalizer LightGBM                      0:00:55       0.8092    0.8174\n",
      "        15   MinMaxScaler LightGBM                          0:00:59       0.8175    0.8175\n",
      "        16   MinMaxScaler ExtremeRandomTrees                0:00:49       0.8010    0.8175\n",
      "        17   StandardScalerWrapper XGBoostClassifier        0:00:58       0.8297    0.8297\n",
      "        18   StandardScalerWrapper LightGBM                 0:00:52       0.8049    0.8297\n",
      "        19   RobustScaler KNN                               0:00:52       0.6810    0.8297\n",
      "        20   StandardScalerWrapper ExtremeRandomTrees       0:00:51       0.8132    0.8297\n",
      "        21   StandardScalerWrapper ExtremeRandomTrees       0:00:48       0.7885    0.8297\n",
      "        22   MinMaxScaler LightGBM                          0:00:54       0.8216    0.8297\n",
      "        23   MinMaxScaler RandomForest                      0:00:56       0.7801    0.8297\n",
      "        24   SparseNormalizer XGBoostClassifier             0:00:55       0.8091    0.8297\n",
      "        25   SparseNormalizer XGBoostClassifier             0:00:50       0.5607    0.8297\n",
      "        26    VotingEnsemble                                0:01:16       0.8423    0.8423\n"
     ]
    }
   ],
   "source": [
    "# TODO: Submit your experiment\n",
    "remote_run = experiment.submit(automl_config, show_output = True)"
   ]
  },
  {
   "cell_type": "markdown",
   "metadata": {},
   "source": [
    "## Run Details\n",
    "\n",
    "* Various algorithms were chosen by AutoML to train on the given dataset, and the best model obtained was a `Voting Ensemble` Algorithms.\n",
    "* This discrepancy can be observed due to the varying techniques in which algorithms train on the data."
   ]
  },
  {
   "cell_type": "code",
   "execution_count": 16,
   "metadata": {
    "gather": {
     "logged": 1598431121770
    },
    "jupyter": {
     "outputs_hidden": false,
     "source_hidden": false
    },
    "nteract": {
     "transient": {
      "deleting": false
     }
    },
    "scrolled": false
   },
   "outputs": [
    {
     "data": {
      "application/vnd.jupyter.widget-view+json": {
       "model_id": "8afc900a8c2b45a9bd5519d6e4f22dbd",
       "version_major": 2,
       "version_minor": 0
      },
      "text/plain": [
       "_AutoMLWidget(widget_settings={'childWidgetDisplay': 'popup', 'send_telemetry': False, 'log_level': 'INFO', 's…"
      ]
     },
     "metadata": {},
     "output_type": "display_data"
    },
    {
     "data": {
      "application/aml.mini.widget.v1": "{\"status\": \"Completed\", \"workbench_run_details_uri\": \"https://ml.azure.com/experiments/heart-disease-automl/runs/AutoML_c3359735-5208-4441-a6bb-864e97b28ed6?wsid=/subscriptions/48a74bb7-9950-4cc1-9caa-5d50f995cc55/resourcegroups/aml-quickstarts-137106/workspaces/quick-starts-ws-137106\", \"run_id\": \"AutoML_c3359735-5208-4441-a6bb-864e97b28ed6\", \"run_properties\": {\"run_id\": \"AutoML_c3359735-5208-4441-a6bb-864e97b28ed6\", \"created_utc\": \"2021-02-03T16:27:51.499161Z\", \"properties\": {\"num_iterations\": \"1000\", \"training_type\": \"TrainFull\", \"acquisition_function\": \"EI\", \"primary_metric\": \"accuracy\", \"train_split\": \"0\", \"acquisition_parameter\": \"0\", \"num_cross_validation\": \"5\", \"target\": \"cpu-cluster\", \"AMLSettingsJsonString\": \"{\\\"path\\\":null,\\\"name\\\":\\\"heart-disease-automl\\\",\\\"subscription_id\\\":\\\"48a74bb7-9950-4cc1-9caa-5d50f995cc55\\\",\\\"resource_group\\\":\\\"aml-quickstarts-137106\\\",\\\"workspace_name\\\":\\\"quick-starts-ws-137106\\\",\\\"region\\\":\\\"southcentralus\\\",\\\"compute_target\\\":\\\"cpu-cluster\\\",\\\"spark_service\\\":null,\\\"azure_service\\\":\\\"remote\\\",\\\"many_models\\\":false,\\\"pipeline_fetch_max_batch_size\\\":1,\\\"iterations\\\":1000,\\\"primary_metric\\\":\\\"accuracy\\\",\\\"task_type\\\":\\\"classification\\\",\\\"data_script\\\":null,\\\"validation_size\\\":0.0,\\\"n_cross_validations\\\":5,\\\"y_min\\\":null,\\\"y_max\\\":null,\\\"num_classes\\\":null,\\\"featurization\\\":\\\"auto\\\",\\\"_ignore_package_version_incompatibilities\\\":false,\\\"is_timeseries\\\":false,\\\"max_cores_per_iteration\\\":1,\\\"max_concurrent_iterations\\\":1,\\\"iteration_timeout_minutes\\\":null,\\\"mem_in_mb\\\":null,\\\"enforce_time_on_windows\\\":false,\\\"experiment_timeout_minutes\\\":30,\\\"experiment_exit_score\\\":null,\\\"whitelist_models\\\":null,\\\"blacklist_algos\\\":[\\\"TensorFlowLinearClassifier\\\",\\\"TensorFlowDNN\\\"],\\\"supported_models\\\":[\\\"LightGBM\\\",\\\"TensorFlowLinearClassifier\\\",\\\"TensorFlowDNN\\\",\\\"MultinomialNaiveBayes\\\",\\\"GradientBoosting\\\",\\\"KNN\\\",\\\"LogisticRegression\\\",\\\"XGBoostClassifier\\\",\\\"SVM\\\",\\\"BernoulliNaiveBayes\\\",\\\"LinearSVM\\\",\\\"SGD\\\",\\\"AveragedPerceptronClassifier\\\",\\\"RandomForest\\\",\\\"DecisionTree\\\",\\\"ExtremeRandomTrees\\\"],\\\"auto_blacklist\\\":true,\\\"blacklist_samples_reached\\\":false,\\\"exclude_nan_labels\\\":true,\\\"verbosity\\\":20,\\\"_debug_log\\\":\\\"azureml_automl.log\\\",\\\"show_warnings\\\":false,\\\"model_explainability\\\":true,\\\"service_url\\\":null,\\\"sdk_url\\\":null,\\\"sdk_packages\\\":null,\\\"enable_onnx_compatible_models\\\":true,\\\"enable_split_onnx_featurizer_estimator_models\\\":false,\\\"vm_type\\\":\\\"STANDARD_D2_V2\\\",\\\"telemetry_verbosity\\\":20,\\\"send_telemetry\\\":true,\\\"enable_dnn\\\":false,\\\"scenario\\\":\\\"SDK-1.13.0\\\",\\\"environment_label\\\":null,\\\"force_text_dnn\\\":false,\\\"enable_feature_sweeping\\\":false,\\\"enable_early_stopping\\\":false,\\\"early_stopping_n_iters\\\":10,\\\"metrics\\\":null,\\\"enable_ensembling\\\":true,\\\"enable_stack_ensembling\\\":false,\\\"ensemble_iterations\\\":15,\\\"enable_tf\\\":false,\\\"enable_subsampling\\\":null,\\\"subsample_seed\\\":null,\\\"enable_nimbusml\\\":false,\\\"enable_streaming\\\":false,\\\"force_streaming\\\":false,\\\"track_child_runs\\\":true,\\\"allowed_private_models\\\":[],\\\"label_column_name\\\":\\\"target\\\",\\\"weight_column_name\\\":null,\\\"cv_split_column_names\\\":null,\\\"enable_local_managed\\\":false,\\\"_local_managed_run_id\\\":null,\\\"cost_mode\\\":1,\\\"lag_length\\\":0,\\\"metric_operation\\\":\\\"maximize\\\",\\\"preprocess\\\":true}\", \"DataPrepJsonString\": \"{\\\\\\\"training_data\\\\\\\": \\\\\\\"{\\\\\\\\\\\\\\\"blocks\\\\\\\\\\\\\\\": [{\\\\\\\\\\\\\\\"id\\\\\\\\\\\\\\\": \\\\\\\\\\\\\\\"177ebe48-aeea-4071-b37a-c577385ba661\\\\\\\\\\\\\\\", \\\\\\\\\\\\\\\"type\\\\\\\\\\\\\\\": \\\\\\\\\\\\\\\"Microsoft.DPrep.GetDatastoreFilesBlock\\\\\\\\\\\\\\\", \\\\\\\\\\\\\\\"arguments\\\\\\\\\\\\\\\": {\\\\\\\\\\\\\\\"datastores\\\\\\\\\\\\\\\": [{\\\\\\\\\\\\\\\"datastoreName\\\\\\\\\\\\\\\": \\\\\\\\\\\\\\\"workspaceblobstore\\\\\\\\\\\\\\\", \\\\\\\\\\\\\\\"path\\\\\\\\\\\\\\\": \\\\\\\\\\\\\\\"Data/train_data.csv\\\\\\\\\\\\\\\", \\\\\\\\\\\\\\\"resourceGroup\\\\\\\\\\\\\\\": \\\\\\\\\\\\\\\"aml-quickstarts-137106\\\\\\\\\\\\\\\", \\\\\\\\\\\\\\\"subscription\\\\\\\\\\\\\\\": \\\\\\\\\\\\\\\"48a74bb7-9950-4cc1-9caa-5d50f995cc55\\\\\\\\\\\\\\\", \\\\\\\\\\\\\\\"workspaceName\\\\\\\\\\\\\\\": \\\\\\\\\\\\\\\"quick-starts-ws-137106\\\\\\\\\\\\\\\"}]}, \\\\\\\\\\\\\\\"localData\\\\\\\\\\\\\\\": {}, \\\\\\\\\\\\\\\"isEnabled\\\\\\\\\\\\\\\": true, \\\\\\\\\\\\\\\"name\\\\\\\\\\\\\\\": null, \\\\\\\\\\\\\\\"annotation\\\\\\\\\\\\\\\": null}, {\\\\\\\\\\\\\\\"id\\\\\\\\\\\\\\\": \\\\\\\\\\\\\\\"247b428b-80a7-427d-80f1-3749a8834444\\\\\\\\\\\\\\\", \\\\\\\\\\\\\\\"type\\\\\\\\\\\\\\\": \\\\\\\\\\\\\\\"Microsoft.DPrep.ParseDelimitedBlock\\\\\\\\\\\\\\\", \\\\\\\\\\\\\\\"arguments\\\\\\\\\\\\\\\": {\\\\\\\\\\\\\\\"columnHeadersMode\\\\\\\\\\\\\\\": 3, \\\\\\\\\\\\\\\"fileEncoding\\\\\\\\\\\\\\\": 0, \\\\\\\\\\\\\\\"handleQuotedLineBreaks\\\\\\\\\\\\\\\": false, \\\\\\\\\\\\\\\"preview\\\\\\\\\\\\\\\": false, \\\\\\\\\\\\\\\"separator\\\\\\\\\\\\\\\": \\\\\\\\\\\\\\\",\\\\\\\\\\\\\\\", \\\\\\\\\\\\\\\"skipRows\\\\\\\\\\\\\\\": 0, \\\\\\\\\\\\\\\"skipRowsMode\\\\\\\\\\\\\\\": 0}, \\\\\\\\\\\\\\\"localData\\\\\\\\\\\\\\\": {}, \\\\\\\\\\\\\\\"isEnabled\\\\\\\\\\\\\\\": true, \\\\\\\\\\\\\\\"name\\\\\\\\\\\\\\\": null, \\\\\\\\\\\\\\\"annotation\\\\\\\\\\\\\\\": null}, {\\\\\\\\\\\\\\\"id\\\\\\\\\\\\\\\": \\\\\\\\\\\\\\\"7c7b2df2-7fbc-47aa-ac2b-b153487987cf\\\\\\\\\\\\\\\", \\\\\\\\\\\\\\\"type\\\\\\\\\\\\\\\": \\\\\\\\\\\\\\\"Microsoft.DPrep.DropColumnsBlock\\\\\\\\\\\\\\\", \\\\\\\\\\\\\\\"arguments\\\\\\\\\\\\\\\": {\\\\\\\\\\\\\\\"columns\\\\\\\\\\\\\\\": {\\\\\\\\\\\\\\\"type\\\\\\\\\\\\\\\": 0, \\\\\\\\\\\\\\\"details\\\\\\\\\\\\\\\": {\\\\\\\\\\\\\\\"selectedColumns\\\\\\\\\\\\\\\": [\\\\\\\\\\\\\\\"Path\\\\\\\\\\\\\\\"]}}}, \\\\\\\\\\\\\\\"localData\\\\\\\\\\\\\\\": {}, \\\\\\\\\\\\\\\"isEnabled\\\\\\\\\\\\\\\": true, \\\\\\\\\\\\\\\"name\\\\\\\\\\\\\\\": null, \\\\\\\\\\\\\\\"annotation\\\\\\\\\\\\\\\": null}, {\\\\\\\\\\\\\\\"id\\\\\\\\\\\\\\\": \\\\\\\\\\\\\\\"3bfc79fb-6ffb-4aac-9bb3-fb188b0b074a\\\\\\\\\\\\\\\", \\\\\\\\\\\\\\\"type\\\\\\\\\\\\\\\": \\\\\\\\\\\\\\\"Microsoft.DPrep.SetColumnTypesBlock\\\\\\\\\\\\\\\", \\\\\\\\\\\\\\\"arguments\\\\\\\\\\\\\\\": {\\\\\\\\\\\\\\\"columnConversion\\\\\\\\\\\\\\\": [{\\\\\\\\\\\\\\\"column\\\\\\\\\\\\\\\": {\\\\\\\\\\\\\\\"type\\\\\\\\\\\\\\\": 2, \\\\\\\\\\\\\\\"details\\\\\\\\\\\\\\\": {\\\\\\\\\\\\\\\"selectedColumn\\\\\\\\\\\\\\\": \\\\\\\\\\\\\\\"age\\\\\\\\\\\\\\\"}}, \\\\\\\\\\\\\\\"typeProperty\\\\\\\\\\\\\\\": 2}, {\\\\\\\\\\\\\\\"column\\\\\\\\\\\\\\\": {\\\\\\\\\\\\\\\"type\\\\\\\\\\\\\\\": 2, \\\\\\\\\\\\\\\"details\\\\\\\\\\\\\\\": {\\\\\\\\\\\\\\\"selectedColumn\\\\\\\\\\\\\\\": \\\\\\\\\\\\\\\"resting_BP\\\\\\\\\\\\\\\"}}, \\\\\\\\\\\\\\\"typeProperty\\\\\\\\\\\\\\\": 2}, {\\\\\\\\\\\\\\\"column\\\\\\\\\\\\\\\": {\\\\\\\\\\\\\\\"type\\\\\\\\\\\\\\\": 2, \\\\\\\\\\\\\\\"details\\\\\\\\\\\\\\\": {\\\\\\\\\\\\\\\"selectedColumn\\\\\\\\\\\\\\\": \\\\\\\\\\\\\\\"cholesterol\\\\\\\\\\\\\\\"}}, \\\\\\\\\\\\\\\"typeProperty\\\\\\\\\\\\\\\": 2}, {\\\\\\\\\\\\\\\"column\\\\\\\\\\\\\\\": {\\\\\\\\\\\\\\\"type\\\\\\\\\\\\\\\": 2, \\\\\\\\\\\\\\\"details\\\\\\\\\\\\\\\": {\\\\\\\\\\\\\\\"selectedColumn\\\\\\\\\\\\\\\": \\\\\\\\\\\\\\\"max_heart_rate\\\\\\\\\\\\\\\"}}, \\\\\\\\\\\\\\\"typeProperty\\\\\\\\\\\\\\\": 2}, {\\\\\\\\\\\\\\\"column\\\\\\\\\\\\\\\": {\\\\\\\\\\\\\\\"type\\\\\\\\\\\\\\\": 2, \\\\\\\\\\\\\\\"details\\\\\\\\\\\\\\\": {\\\\\\\\\\\\\\\"selectedColumn\\\\\\\\\\\\\\\": \\\\\\\\\\\\\\\"st_depression\\\\\\\\\\\\\\\"}}, \\\\\\\\\\\\\\\"typeProperty\\\\\\\\\\\\\\\": 3}, {\\\\\\\\\\\\\\\"column\\\\\\\\\\\\\\\": {\\\\\\\\\\\\\\\"type\\\\\\\\\\\\\\\": 2, \\\\\\\\\\\\\\\"details\\\\\\\\\\\\\\\": {\\\\\\\\\\\\\\\"selectedColumn\\\\\\\\\\\\\\\": \\\\\\\\\\\\\\\"sex_1\\\\\\\\\\\\\\\"}}, \\\\\\\\\\\\\\\"typeProperty\\\\\\\\\\\\\\\": 2}, {\\\\\\\\\\\\\\\"column\\\\\\\\\\\\\\\": {\\\\\\\\\\\\\\\"type\\\\\\\\\\\\\\\": 2, \\\\\\\\\\\\\\\"details\\\\\\\\\\\\\\\": {\\\\\\\\\\\\\\\"selectedColumn\\\\\\\\\\\\\\\": \\\\\\\\\\\\\\\"chest_pain_type_1\\\\\\\\\\\\\\\"}}, \\\\\\\\\\\\\\\"typeProperty\\\\\\\\\\\\\\\": 2}, {\\\\\\\\\\\\\\\"column\\\\\\\\\\\\\\\": {\\\\\\\\\\\\\\\"type\\\\\\\\\\\\\\\": 2, \\\\\\\\\\\\\\\"details\\\\\\\\\\\\\\\": {\\\\\\\\\\\\\\\"selectedColumn\\\\\\\\\\\\\\\": \\\\\\\\\\\\\\\"chest_pain_type_2\\\\\\\\\\\\\\\"}}, \\\\\\\\\\\\\\\"typeProperty\\\\\\\\\\\\\\\": 2}, {\\\\\\\\\\\\\\\"column\\\\\\\\\\\\\\\": {\\\\\\\\\\\\\\\"type\\\\\\\\\\\\\\\": 2, \\\\\\\\\\\\\\\"details\\\\\\\\\\\\\\\": {\\\\\\\\\\\\\\\"selectedColumn\\\\\\\\\\\\\\\": \\\\\\\\\\\\\\\"chest_pain_type_3\\\\\\\\\\\\\\\"}}, \\\\\\\\\\\\\\\"typeProperty\\\\\\\\\\\\\\\": 2}, {\\\\\\\\\\\\\\\"column\\\\\\\\\\\\\\\": {\\\\\\\\\\\\\\\"type\\\\\\\\\\\\\\\": 2, \\\\\\\\\\\\\\\"details\\\\\\\\\\\\\\\": {\\\\\\\\\\\\\\\"selectedColumn\\\\\\\\\\\\\\\": \\\\\\\\\\\\\\\"fasting_blood_sugar_1\\\\\\\\\\\\\\\"}}, \\\\\\\\\\\\\\\"typeProperty\\\\\\\\\\\\\\\": 2}, {\\\\\\\\\\\\\\\"column\\\\\\\\\\\\\\\": {\\\\\\\\\\\\\\\"type\\\\\\\\\\\\\\\": 2, \\\\\\\\\\\\\\\"details\\\\\\\\\\\\\\\": {\\\\\\\\\\\\\\\"selectedColumn\\\\\\\\\\\\\\\": \\\\\\\\\\\\\\\"rest_ECG_1\\\\\\\\\\\\\\\"}}, \\\\\\\\\\\\\\\"typeProperty\\\\\\\\\\\\\\\": 2}, {\\\\\\\\\\\\\\\"column\\\\\\\\\\\\\\\": {\\\\\\\\\\\\\\\"type\\\\\\\\\\\\\\\": 2, \\\\\\\\\\\\\\\"details\\\\\\\\\\\\\\\": {\\\\\\\\\\\\\\\"selectedColumn\\\\\\\\\\\\\\\": \\\\\\\\\\\\\\\"rest_ECG_2\\\\\\\\\\\\\\\"}}, \\\\\\\\\\\\\\\"typeProperty\\\\\\\\\\\\\\\": 2}, {\\\\\\\\\\\\\\\"column\\\\\\\\\\\\\\\": {\\\\\\\\\\\\\\\"type\\\\\\\\\\\\\\\": 2, \\\\\\\\\\\\\\\"details\\\\\\\\\\\\\\\": {\\\\\\\\\\\\\\\"selectedColumn\\\\\\\\\\\\\\\": \\\\\\\\\\\\\\\"exercise_induced_angina_1\\\\\\\\\\\\\\\"}}, \\\\\\\\\\\\\\\"typeProperty\\\\\\\\\\\\\\\": 2}, {\\\\\\\\\\\\\\\"column\\\\\\\\\\\\\\\": {\\\\\\\\\\\\\\\"type\\\\\\\\\\\\\\\": 2, \\\\\\\\\\\\\\\"details\\\\\\\\\\\\\\\": {\\\\\\\\\\\\\\\"selectedColumn\\\\\\\\\\\\\\\": \\\\\\\\\\\\\\\"st_slope_1\\\\\\\\\\\\\\\"}}, \\\\\\\\\\\\\\\"typeProperty\\\\\\\\\\\\\\\": 2}, {\\\\\\\\\\\\\\\"column\\\\\\\\\\\\\\\": {\\\\\\\\\\\\\\\"type\\\\\\\\\\\\\\\": 2, \\\\\\\\\\\\\\\"details\\\\\\\\\\\\\\\": {\\\\\\\\\\\\\\\"selectedColumn\\\\\\\\\\\\\\\": \\\\\\\\\\\\\\\"st_slope_2\\\\\\\\\\\\\\\"}}, \\\\\\\\\\\\\\\"typeProperty\\\\\\\\\\\\\\\": 2}, {\\\\\\\\\\\\\\\"column\\\\\\\\\\\\\\\": {\\\\\\\\\\\\\\\"type\\\\\\\\\\\\\\\": 2, \\\\\\\\\\\\\\\"details\\\\\\\\\\\\\\\": {\\\\\\\\\\\\\\\"selectedColumn\\\\\\\\\\\\\\\": \\\\\\\\\\\\\\\"num_major_vessels_1.0\\\\\\\\\\\\\\\"}}, \\\\\\\\\\\\\\\"typeProperty\\\\\\\\\\\\\\\": 2}, {\\\\\\\\\\\\\\\"column\\\\\\\\\\\\\\\": {\\\\\\\\\\\\\\\"type\\\\\\\\\\\\\\\": 2, \\\\\\\\\\\\\\\"details\\\\\\\\\\\\\\\": {\\\\\\\\\\\\\\\"selectedColumn\\\\\\\\\\\\\\\": \\\\\\\\\\\\\\\"num_major_vessels_2.0\\\\\\\\\\\\\\\"}}, \\\\\\\\\\\\\\\"typeProperty\\\\\\\\\\\\\\\": 2}, {\\\\\\\\\\\\\\\"column\\\\\\\\\\\\\\\": {\\\\\\\\\\\\\\\"type\\\\\\\\\\\\\\\": 2, \\\\\\\\\\\\\\\"details\\\\\\\\\\\\\\\": {\\\\\\\\\\\\\\\"selectedColumn\\\\\\\\\\\\\\\": \\\\\\\\\\\\\\\"num_major_vessels_3.0\\\\\\\\\\\\\\\"}}, \\\\\\\\\\\\\\\"typeProperty\\\\\\\\\\\\\\\": 2}, {\\\\\\\\\\\\\\\"column\\\\\\\\\\\\\\\": {\\\\\\\\\\\\\\\"type\\\\\\\\\\\\\\\": 2, \\\\\\\\\\\\\\\"details\\\\\\\\\\\\\\\": {\\\\\\\\\\\\\\\"selectedColumn\\\\\\\\\\\\\\\": \\\\\\\\\\\\\\\"thalassemia_2.0\\\\\\\\\\\\\\\"}}, \\\\\\\\\\\\\\\"typeProperty\\\\\\\\\\\\\\\": 2}, {\\\\\\\\\\\\\\\"column\\\\\\\\\\\\\\\": {\\\\\\\\\\\\\\\"type\\\\\\\\\\\\\\\": 2, \\\\\\\\\\\\\\\"details\\\\\\\\\\\\\\\": {\\\\\\\\\\\\\\\"selectedColumn\\\\\\\\\\\\\\\": \\\\\\\\\\\\\\\"thalassemia_3.0\\\\\\\\\\\\\\\"}}, \\\\\\\\\\\\\\\"typeProperty\\\\\\\\\\\\\\\": 2}, {\\\\\\\\\\\\\\\"column\\\\\\\\\\\\\\\": {\\\\\\\\\\\\\\\"type\\\\\\\\\\\\\\\": 2, \\\\\\\\\\\\\\\"details\\\\\\\\\\\\\\\": {\\\\\\\\\\\\\\\"selectedColumn\\\\\\\\\\\\\\\": \\\\\\\\\\\\\\\"target\\\\\\\\\\\\\\\"}}, \\\\\\\\\\\\\\\"typeProperty\\\\\\\\\\\\\\\": 2}]}, \\\\\\\\\\\\\\\"localData\\\\\\\\\\\\\\\": {}, \\\\\\\\\\\\\\\"isEnabled\\\\\\\\\\\\\\\": true, \\\\\\\\\\\\\\\"name\\\\\\\\\\\\\\\": null, \\\\\\\\\\\\\\\"annotation\\\\\\\\\\\\\\\": null}], \\\\\\\\\\\\\\\"inspectors\\\\\\\\\\\\\\\": [], \\\\\\\\\\\\\\\"meta\\\\\\\\\\\\\\\": {\\\\\\\\\\\\\\\"savedDatasetId\\\\\\\\\\\\\\\": \\\\\\\\\\\\\\\"7a47d8a4-0424-4efe-bc5c-e97578855804\\\\\\\\\\\\\\\", \\\\\\\\\\\\\\\"datasetType\\\\\\\\\\\\\\\": \\\\\\\\\\\\\\\"tabular\\\\\\\\\\\\\\\", \\\\\\\\\\\\\\\"subscriptionId\\\\\\\\\\\\\\\": \\\\\\\\\\\\\\\"48a74bb7-9950-4cc1-9caa-5d50f995cc55\\\\\\\\\\\\\\\", \\\\\\\\\\\\\\\"workspaceId\\\\\\\\\\\\\\\": \\\\\\\\\\\\\\\"504dc4fb-8337-4e64-8ba2-f16140709326\\\\\\\\\\\\\\\", \\\\\\\\\\\\\\\"workspaceLocation\\\\\\\\\\\\\\\": \\\\\\\\\\\\\\\"southcentralus\\\\\\\\\\\\\\\"}}\\\\\\\", \\\\\\\"activities\\\\\\\": 0}\", \"EnableSubsampling\": null, \"runTemplate\": \"AutoML\", \"azureml.runsource\": \"automl\", \"display_task_type\": \"classification\", \"dependencies_versions\": \"{\\\"azureml-widgets\\\": \\\"1.20.0\\\", \\\"azureml-train\\\": \\\"1.20.0\\\", \\\"azureml-train-restclients-hyperdrive\\\": \\\"1.20.0\\\", \\\"azureml-train-core\\\": \\\"1.20.0\\\", \\\"azureml-train-automl\\\": \\\"1.20.0\\\", \\\"azureml-train-automl-runtime\\\": \\\"1.20.0\\\", \\\"azureml-train-automl-client\\\": \\\"1.20.0\\\", \\\"azureml-tensorboard\\\": \\\"1.20.0\\\", \\\"azureml-telemetry\\\": \\\"1.20.0\\\", \\\"azureml-sdk\\\": \\\"1.20.0\\\", \\\"azureml-samples\\\": \\\"0+unknown\\\", \\\"azureml-pipeline\\\": \\\"1.20.0\\\", \\\"azureml-pipeline-steps\\\": \\\"1.20.0\\\", \\\"azureml-pipeline-core\\\": \\\"1.20.0\\\", \\\"azureml-opendatasets\\\": \\\"1.20.0\\\", \\\"azureml-model-management-sdk\\\": \\\"1.0.1b6.post1\\\", \\\"azureml-mlflow\\\": \\\"1.20.0.post1\\\", \\\"azureml-interpret\\\": \\\"1.20.0\\\", \\\"azureml-explain-model\\\": \\\"1.20.0\\\", \\\"azureml-defaults\\\": \\\"1.20.0\\\", \\\"azureml-dataset-runtime\\\": \\\"1.20.0\\\", \\\"azureml-dataprep\\\": \\\"2.7.3\\\", \\\"azureml-dataprep-rslex\\\": \\\"1.5.0\\\", \\\"azureml-dataprep-native\\\": \\\"27.0.0\\\", \\\"azureml-datadrift\\\": \\\"1.20.0\\\", \\\"azureml-core\\\": \\\"1.20.0\\\", \\\"azureml-contrib-services\\\": \\\"1.20.0\\\", \\\"azureml-contrib-server\\\": \\\"1.20.0\\\", \\\"azureml-contrib-reinforcementlearning\\\": \\\"1.20.0\\\", \\\"azureml-contrib-pipeline-steps\\\": \\\"1.20.0\\\", \\\"azureml-contrib-notebook\\\": \\\"1.20.0\\\", \\\"azureml-contrib-interpret\\\": \\\"1.20.0\\\", \\\"azureml-contrib-gbdt\\\": \\\"1.20.0\\\", \\\"azureml-contrib-fairness\\\": \\\"1.20.0\\\", \\\"azureml-contrib-dataset\\\": \\\"1.20.0\\\", \\\"azureml-cli-common\\\": \\\"1.20.0\\\", \\\"azureml-automl-runtime\\\": \\\"1.20.0\\\", \\\"azureml-automl-core\\\": \\\"1.20.0\\\", \\\"azureml-accel-models\\\": \\\"1.20.0\\\"}\", \"_aml_system_scenario_identification\": \"Remote.Parent\", \"ClientType\": \"SDK\", \"environment_cpu_name\": \"AzureML-AutoML\", \"environment_cpu_label\": \"prod\", \"environment_gpu_name\": \"AzureML-AutoML-GPU\", \"environment_gpu_label\": \"prod\", \"root_attribution\": \"automl\", \"attribution\": \"AutoML\", \"Orchestrator\": \"AutoML\", \"CancelUri\": \"https://southcentralus.experiments.azureml.net/jasmine/v1.0/subscriptions/48a74bb7-9950-4cc1-9caa-5d50f995cc55/resourceGroups/aml-quickstarts-137106/providers/Microsoft.MachineLearningServices/workspaces/quick-starts-ws-137106/experimentids/54ce643b-1cc8-4923-a1b7-f20f2731130d/cancel/AutoML_c3359735-5208-4441-a6bb-864e97b28ed6\", \"ClientSdkVersion\": \"1.21.0\", \"snapshotId\": \"00000000-0000-0000-0000-000000000000\", \"SetupRunId\": \"AutoML_c3359735-5208-4441-a6bb-864e97b28ed6_setup\", \"SetupRunContainerId\": \"dcid.AutoML_c3359735-5208-4441-a6bb-864e97b28ed6_setup\", \"FeaturizationRunJsonPath\": \"featurizer_container.json\", \"FeaturizationRunId\": \"AutoML_c3359735-5208-4441-a6bb-864e97b28ed6_featurize\", \"ProblemInfoJsonString\": \"{\\\"dataset_num_categorical\\\": 0, \\\"is_sparse\\\": false, \\\"subsampling\\\": false, \\\"dataset_classes\\\": 2, \\\"dataset_features\\\": 20, \\\"dataset_samples\\\": 241, \\\"single_frequency_class_detected\\\": false}\", \"ModelExplainRunId\": \"AutoML_c3359735-5208-4441-a6bb-864e97b28ed6_ModelExplain\", \"azureml.git.repository_uri\": \"https://github.com/bharati-21/AZMLND-Capstone-Project.git\", \"mlflow.source.git.repoURL\": \"https://github.com/bharati-21/AZMLND-Capstone-Project.git\", \"azureml.git.branch\": \"master\", \"mlflow.source.git.branch\": \"master\", \"azureml.git.commit\": \"bda091c38702fc1f0c3f3ef22fca1ec653ec4b06\", \"mlflow.source.git.commit\": \"bda091c38702fc1f0c3f3ef22fca1ec653ec4b06\", \"azureml.git.dirty\": \"True\"}, \"tags\": {\"model_explain_run\": \"best_run\", \"_aml_system_azureml.automlComponent\": \"AutoML\", \"pipeline_id\": \"\", \"score\": \"\", \"predicted_cost\": \"\", \"fit_time\": \"\", \"training_percent\": \"\", \"iteration\": \"\", \"run_preprocessor\": \"\", \"run_algorithm\": \"\", \"dynamic_whitelisting_iterations\": \"<25>;\", \"automl_best_child_run_id\": \"AutoML_c3359735-5208-4441-a6bb-864e97b28ed6_26\"}, \"end_time_utc\": \"2021-02-03T17:07:41.290549Z\", \"status\": \"Completed\", \"log_files\": {}, \"log_groups\": [], \"run_duration\": \"0:39:49\"}, \"child_runs\": [{\"run_id\": \"AutoML_c3359735-5208-4441-a6bb-864e97b28ed6_0\", \"run_number\": 7, \"metric\": null, \"status\": \"Completed\", \"run_type\": \"azureml.scriptrun\", \"training_percent\": \"100\", \"start_time\": \"2021-02-03T16:36:15.324434Z\", \"end_time\": \"2021-02-03T16:37:08.014334Z\", \"created_time\": \"2021-02-03T16:36:02.306383Z\", \"created_time_dt\": \"2021-02-03T16:36:02.306383Z\", \"duration\": \"0:01:05\", \"iteration\": \"0\", \"goal\": \"accuracy_max\", \"run_name\": \"MaxAbsScaler, LightGBM\", \"run_properties\": \"copy=True\", \"primary_metric\": 0.81743197, \"best_metric\": 0.81743197}, {\"run_id\": \"AutoML_c3359735-5208-4441-a6bb-864e97b28ed6_1\", \"run_number\": 8, \"metric\": null, \"status\": \"Completed\", \"run_type\": \"azureml.scriptrun\", \"training_percent\": \"100\", \"start_time\": \"2021-02-03T16:37:18.513512Z\", \"end_time\": \"2021-02-03T16:38:12.488922Z\", \"created_time\": \"2021-02-03T16:37:08.834309Z\", \"created_time_dt\": \"2021-02-03T16:37:08.834309Z\", \"duration\": \"0:01:03\", \"iteration\": \"1\", \"goal\": \"accuracy_max\", \"run_name\": \"MaxAbsScaler, XGBoostClassifier\", \"run_properties\": \"copy=True\", \"primary_metric\": 0.80085034, \"best_metric\": 0.81743197}, {\"run_id\": \"AutoML_c3359735-5208-4441-a6bb-864e97b28ed6_2\", \"run_number\": 9, \"metric\": null, \"status\": \"Completed\", \"run_type\": \"azureml.scriptrun\", \"training_percent\": \"100\", \"start_time\": \"2021-02-03T16:38:25.302385Z\", \"end_time\": \"2021-02-03T16:39:19.282445Z\", \"created_time\": \"2021-02-03T16:38:13.65116Z\", \"created_time_dt\": \"2021-02-03T16:38:13.65116Z\", \"duration\": \"0:01:05\", \"iteration\": \"2\", \"goal\": \"accuracy_max\", \"run_name\": \"MinMaxScaler, RandomForest\", \"run_properties\": \"copy=True, feature_range=(0, 1\", \"primary_metric\": 0.76760204, \"best_metric\": 0.81743197}, {\"run_id\": \"AutoML_c3359735-5208-4441-a6bb-864e97b28ed6_3\", \"run_number\": 10, \"metric\": null, \"status\": \"Completed\", \"run_type\": \"azureml.scriptrun\", \"training_percent\": \"100\", \"start_time\": \"2021-02-03T16:39:38.27046Z\", \"end_time\": \"2021-02-03T16:40:36.459092Z\", \"created_time\": \"2021-02-03T16:39:22.98449Z\", \"created_time_dt\": \"2021-02-03T16:39:22.98449Z\", \"duration\": \"0:01:13\", \"iteration\": \"3\", \"goal\": \"accuracy_max\", \"run_name\": \"MinMaxScaler, RandomForest\", \"run_properties\": \"copy=True, feature_range=(0, 1\", \"primary_metric\": 0.79251701, \"best_metric\": 0.81743197}, {\"run_id\": \"AutoML_c3359735-5208-4441-a6bb-864e97b28ed6_4\", \"run_number\": 11, \"metric\": null, \"status\": \"Completed\", \"run_type\": \"azureml.scriptrun\", \"training_percent\": \"100\", \"start_time\": \"2021-02-03T16:40:50.74596Z\", \"end_time\": \"2021-02-03T16:41:40.397824Z\", \"created_time\": \"2021-02-03T16:40:38.648237Z\", \"created_time_dt\": \"2021-02-03T16:40:38.648237Z\", \"duration\": \"0:01:01\", \"iteration\": \"4\", \"goal\": \"accuracy_max\", \"run_name\": \"MinMaxScaler, RandomForest\", \"run_properties\": \"copy=True, feature_range=(0, 1\", \"primary_metric\": 0.79668367, \"best_metric\": 0.81743197}, {\"run_id\": \"AutoML_c3359735-5208-4441-a6bb-864e97b28ed6_5\", \"run_number\": 12, \"metric\": null, \"status\": \"Completed\", \"run_type\": \"azureml.scriptrun\", \"training_percent\": \"100\", \"start_time\": \"2021-02-03T16:41:56.403659Z\", \"end_time\": \"2021-02-03T16:42:52.17709Z\", \"created_time\": \"2021-02-03T16:41:42.817132Z\", \"created_time_dt\": \"2021-02-03T16:41:42.817132Z\", \"duration\": \"0:01:09\", \"iteration\": \"5\", \"goal\": \"accuracy_max\", \"run_name\": \"MinMaxScaler, SVM\", \"run_properties\": \"copy=True, feature_range=(0, 1\", \"primary_metric\": 0.80484694, \"best_metric\": 0.81743197}, {\"run_id\": \"AutoML_c3359735-5208-4441-a6bb-864e97b28ed6_6\", \"run_number\": 13, \"metric\": null, \"status\": \"Completed\", \"run_type\": \"azureml.scriptrun\", \"training_percent\": \"100\", \"start_time\": \"2021-02-03T16:43:11.044021Z\", \"end_time\": \"2021-02-03T16:44:05.923834Z\", \"created_time\": \"2021-02-03T16:42:55.645313Z\", \"created_time_dt\": \"2021-02-03T16:42:55.645313Z\", \"duration\": \"0:01:10\", \"iteration\": \"6\", \"goal\": \"accuracy_max\", \"run_name\": \"MaxAbsScaler, GradientBoosting\", \"run_properties\": \"copy=True\", \"primary_metric\": 0.81335034, \"best_metric\": 0.81743197}, {\"run_id\": \"AutoML_c3359735-5208-4441-a6bb-864e97b28ed6_7\", \"run_number\": 14, \"metric\": null, \"status\": \"Completed\", \"run_type\": \"azureml.scriptrun\", \"training_percent\": \"100\", \"start_time\": \"2021-02-03T16:44:19.45707Z\", \"end_time\": \"2021-02-03T16:45:16.979839Z\", \"created_time\": \"2021-02-03T16:44:08.935472Z\", \"created_time_dt\": \"2021-02-03T16:44:08.935472Z\", \"duration\": \"0:01:08\", \"iteration\": \"7\", \"goal\": \"accuracy_max\", \"run_name\": \"StandardScalerWrapper, RandomForest\", \"run_properties\": \"<azureml.automl.runtime.shared.model_wrappers.StandardScalerWrapper object at 0x7fac983b7390\", \"primary_metric\": 0.79668367, \"best_metric\": 0.81743197}, {\"run_id\": \"AutoML_c3359735-5208-4441-a6bb-864e97b28ed6_8\", \"run_number\": 15, \"metric\": null, \"status\": \"Completed\", \"run_type\": \"azureml.scriptrun\", \"training_percent\": \"100\", \"start_time\": \"2021-02-03T16:45:31.11356Z\", \"end_time\": \"2021-02-03T16:46:22.997761Z\", \"created_time\": \"2021-02-03T16:45:18.831277Z\", \"created_time_dt\": \"2021-02-03T16:45:18.831277Z\", \"duration\": \"0:01:04\", \"iteration\": \"8\", \"goal\": \"accuracy_max\", \"run_name\": \"SparseNormalizer, XGBoostClassifier\", \"run_properties\": \"<azureml.automl.runtime.shared.model_wrappers.SparseNormalizer object at 0x7f3eda9d3c88\", \"primary_metric\": 0.80926871, \"best_metric\": 0.81743197}, {\"run_id\": \"AutoML_c3359735-5208-4441-a6bb-864e97b28ed6_9\", \"run_number\": 16, \"metric\": null, \"status\": \"Completed\", \"run_type\": \"azureml.scriptrun\", \"training_percent\": \"100\", \"start_time\": \"2021-02-03T16:46:36.866543Z\", \"end_time\": \"2021-02-03T16:47:31.574297Z\", \"created_time\": \"2021-02-03T16:46:24.6862Z\", \"created_time_dt\": \"2021-02-03T16:46:24.6862Z\", \"duration\": \"0:01:06\", \"iteration\": \"9\", \"goal\": \"accuracy_max\", \"run_name\": \"SparseNormalizer, LightGBM\", \"run_properties\": \"<azureml.automl.runtime.shared.model_wrappers.SparseNormalizer object at 0x7f86c10fdb00\", \"primary_metric\": 0.80510204, \"best_metric\": 0.81743197}, {\"run_id\": \"AutoML_c3359735-5208-4441-a6bb-864e97b28ed6_10\", \"run_number\": 17, \"metric\": null, \"status\": \"Completed\", \"run_type\": \"azureml.scriptrun\", \"training_percent\": \"100\", \"start_time\": \"2021-02-03T16:47:43.399421Z\", \"end_time\": \"2021-02-03T16:48:42.838151Z\", \"created_time\": \"2021-02-03T16:47:33.462272Z\", \"created_time_dt\": \"2021-02-03T16:47:33.462272Z\", \"duration\": \"0:01:09\", \"iteration\": \"10\", \"goal\": \"accuracy_max\", \"run_name\": \"StandardScalerWrapper, LightGBM\", \"run_properties\": \"<azureml.automl.runtime.shared.model_wrappers.StandardScalerWrapper object at 0x7fe801bc5e48\", \"primary_metric\": 0.81318027, \"best_metric\": 0.81743197}, {\"run_id\": \"AutoML_c3359735-5208-4441-a6bb-864e97b28ed6_11\", \"run_number\": 18, \"metric\": null, \"status\": \"Completed\", \"run_type\": \"azureml.scriptrun\", \"training_percent\": \"100\", \"start_time\": \"2021-02-03T16:48:56.917452Z\", \"end_time\": \"2021-02-03T16:49:59.03182Z\", \"created_time\": \"2021-02-03T16:48:44.786029Z\", \"created_time_dt\": \"2021-02-03T16:48:44.786029Z\", \"duration\": \"0:01:14\", \"iteration\": \"11\", \"goal\": \"accuracy_max\", \"run_name\": \"RobustScaler, ExtremeRandomTrees\", \"run_properties\": \"copy=True, quantile_range=[25, 75], with_centering=True,\\n             with_scaling=False\", \"primary_metric\": 0.76760204, \"best_metric\": 0.81743197}, {\"run_id\": \"AutoML_c3359735-5208-4441-a6bb-864e97b28ed6_12\", \"run_number\": 19, \"metric\": null, \"status\": \"Completed\", \"run_type\": \"azureml.scriptrun\", \"training_percent\": \"100\", \"start_time\": \"2021-02-03T16:50:17.431848Z\", \"end_time\": \"2021-02-03T16:51:15.775086Z\", \"created_time\": \"2021-02-03T16:50:03.338706Z\", \"created_time_dt\": \"2021-02-03T16:50:03.338706Z\", \"duration\": \"0:01:12\", \"iteration\": \"12\", \"goal\": \"accuracy_max\", \"run_name\": \"SparseNormalizer, XGBoostClassifier\", \"run_properties\": \"<azureml.automl.runtime.shared.model_wrappers.SparseNormalizer object at 0x7fca9ed77c18\", \"primary_metric\": 0.80892857, \"best_metric\": 0.81743197}, {\"run_id\": \"AutoML_c3359735-5208-4441-a6bb-864e97b28ed6_13\", \"run_number\": 20, \"metric\": null, \"status\": \"Completed\", \"run_type\": \"azureml.scriptrun\", \"training_percent\": \"100\", \"start_time\": \"2021-02-03T16:51:30.64048Z\", \"end_time\": \"2021-02-03T16:52:22.768596Z\", \"created_time\": \"2021-02-03T16:51:17.973733Z\", \"created_time_dt\": \"2021-02-03T16:51:17.973733Z\", \"duration\": \"0:01:04\", \"iteration\": \"13\", \"goal\": \"accuracy_max\", \"run_name\": \"SparseNormalizer, XGBoostClassifier\", \"run_properties\": \"<azureml.automl.runtime.shared.model_wrappers.SparseNormalizer object at 0x7f67acede748\", \"primary_metric\": 0.80484694, \"best_metric\": 0.81743197}, {\"run_id\": \"AutoML_c3359735-5208-4441-a6bb-864e97b28ed6_14\", \"run_number\": 21, \"metric\": null, \"status\": \"Completed\", \"run_type\": \"azureml.scriptrun\", \"training_percent\": \"100\", \"start_time\": \"2021-02-03T16:52:35.131336Z\", \"end_time\": \"2021-02-03T16:53:29.651879Z\", \"created_time\": \"2021-02-03T16:52:24.665064Z\", \"created_time_dt\": \"2021-02-03T16:52:24.665064Z\", \"duration\": \"0:01:04\", \"iteration\": \"14\", \"goal\": \"accuracy_max\", \"run_name\": \"SparseNormalizer, LightGBM\", \"run_properties\": \"<azureml.automl.runtime.shared.model_wrappers.SparseNormalizer object at 0x7f34c4459e80\", \"primary_metric\": 0.80918367, \"best_metric\": 0.81743197}, {\"run_id\": \"AutoML_c3359735-5208-4441-a6bb-864e97b28ed6_15\", \"run_number\": 22, \"metric\": null, \"status\": \"Completed\", \"run_type\": \"azureml.scriptrun\", \"training_percent\": \"100\", \"start_time\": \"2021-02-03T16:53:44.073157Z\", \"end_time\": \"2021-02-03T16:54:42.879937Z\", \"created_time\": \"2021-02-03T16:53:31.299553Z\", \"created_time_dt\": \"2021-02-03T16:53:31.299553Z\", \"duration\": \"0:01:11\", \"iteration\": \"15\", \"goal\": \"accuracy_max\", \"run_name\": \"MinMaxScaler, LightGBM\", \"run_properties\": \"copy=True, feature_range=(0, 1\", \"primary_metric\": 0.81751701, \"best_metric\": 0.81751701}, {\"run_id\": \"AutoML_c3359735-5208-4441-a6bb-864e97b28ed6_16\", \"run_number\": 23, \"metric\": null, \"status\": \"Completed\", \"run_type\": \"azureml.scriptrun\", \"training_percent\": \"100\", \"start_time\": \"2021-02-03T16:54:59.336592Z\", \"end_time\": \"2021-02-03T16:55:47.983074Z\", \"created_time\": \"2021-02-03T16:54:45.766793Z\", \"created_time_dt\": \"2021-02-03T16:54:45.766793Z\", \"duration\": \"0:01:02\", \"iteration\": \"16\", \"goal\": \"accuracy_max\", \"run_name\": \"MinMaxScaler, ExtremeRandomTrees\", \"run_properties\": \"copy=True, feature_range=(0, 1\", \"primary_metric\": 0.80102041, \"best_metric\": 0.81751701}, {\"run_id\": \"AutoML_c3359735-5208-4441-a6bb-864e97b28ed6_17\", \"run_number\": 24, \"metric\": null, \"status\": \"Completed\", \"run_type\": \"azureml.scriptrun\", \"training_percent\": \"100\", \"start_time\": \"2021-02-03T16:56:01.455403Z\", \"end_time\": \"2021-02-03T16:56:59.350202Z\", \"created_time\": \"2021-02-03T16:55:50.527445Z\", \"created_time_dt\": \"2021-02-03T16:55:50.527445Z\", \"duration\": \"0:01:08\", \"iteration\": \"17\", \"goal\": \"accuracy_max\", \"run_name\": \"StandardScalerWrapper, XGBoostClassifier\", \"run_properties\": \"<azureml.automl.runtime.shared.model_wrappers.StandardScalerWrapper object at 0x7f746d6794a8\", \"primary_metric\": 0.82967687, \"best_metric\": 0.82967687}, {\"run_id\": \"AutoML_c3359735-5208-4441-a6bb-864e97b28ed6_18\", \"run_number\": 25, \"metric\": null, \"status\": \"Completed\", \"run_type\": \"azureml.scriptrun\", \"training_percent\": \"100\", \"start_time\": \"2021-02-03T16:57:16.490575Z\", \"end_time\": \"2021-02-03T16:58:08.595728Z\", \"created_time\": \"2021-02-03T16:57:01.907121Z\", \"created_time_dt\": \"2021-02-03T16:57:01.907121Z\", \"duration\": \"0:01:06\", \"iteration\": \"18\", \"goal\": \"accuracy_max\", \"run_name\": \"StandardScalerWrapper, LightGBM\", \"run_properties\": \"<azureml.automl.runtime.shared.model_wrappers.StandardScalerWrapper object at 0x7f645855aba8\", \"primary_metric\": 0.80493197, \"best_metric\": 0.82967687}, {\"run_id\": \"AutoML_c3359735-5208-4441-a6bb-864e97b28ed6_19\", \"run_number\": 26, \"metric\": null, \"status\": \"Completed\", \"run_type\": \"azureml.scriptrun\", \"training_percent\": \"100\", \"start_time\": \"2021-02-03T16:58:23.996178Z\", \"end_time\": \"2021-02-03T16:59:16.412951Z\", \"created_time\": \"2021-02-03T16:58:10.953569Z\", \"created_time_dt\": \"2021-02-03T16:58:10.953569Z\", \"duration\": \"0:01:05\", \"iteration\": \"19\", \"goal\": \"accuracy_max\", \"run_name\": \"RobustScaler, KNN\", \"run_properties\": \"copy=True, quantile_range=[25, 75], with_centering=True,\\n             with_scaling=False\", \"primary_metric\": 0.68103741, \"best_metric\": 0.82967687}, {\"run_id\": \"AutoML_c3359735-5208-4441-a6bb-864e97b28ed6_20\", \"run_number\": 27, \"metric\": null, \"status\": \"Completed\", \"run_type\": \"azureml.scriptrun\", \"training_percent\": \"100\", \"start_time\": \"2021-02-03T16:59:30.07871Z\", \"end_time\": \"2021-02-03T17:00:20.6658Z\", \"created_time\": \"2021-02-03T16:59:19.716054Z\", \"created_time_dt\": \"2021-02-03T16:59:19.716054Z\", \"duration\": \"0:01:00\", \"iteration\": \"20\", \"goal\": \"accuracy_max\", \"run_name\": \"StandardScalerWrapper, ExtremeRandomTrees\", \"run_properties\": \"<azureml.automl.runtime.shared.model_wrappers.StandardScalerWrapper object at 0x7f22f387b320\", \"primary_metric\": 0.81318027, \"best_metric\": 0.82967687}, {\"run_id\": \"AutoML_c3359735-5208-4441-a6bb-864e97b28ed6_21\", \"run_number\": 28, \"metric\": null, \"status\": \"Completed\", \"run_type\": \"azureml.scriptrun\", \"training_percent\": \"100\", \"start_time\": \"2021-02-03T17:00:33.216441Z\", \"end_time\": \"2021-02-03T17:01:20.844407Z\", \"created_time\": \"2021-02-03T17:00:22.266313Z\", \"created_time_dt\": \"2021-02-03T17:00:22.266313Z\", \"duration\": \"0:00:58\", \"iteration\": \"21\", \"goal\": \"accuracy_max\", \"run_name\": \"StandardScalerWrapper, ExtremeRandomTrees\", \"run_properties\": \"<azureml.automl.runtime.shared.model_wrappers.StandardScalerWrapper object at 0x7f58700ac390\", \"primary_metric\": 0.78852041, \"best_metric\": 0.82967687}, {\"run_id\": \"AutoML_c3359735-5208-4441-a6bb-864e97b28ed6_22\", \"run_number\": 29, \"metric\": null, \"status\": \"Completed\", \"run_type\": \"azureml.scriptrun\", \"training_percent\": \"100\", \"start_time\": \"2021-02-03T17:01:33.940816Z\", \"end_time\": \"2021-02-03T17:02:28.247461Z\", \"created_time\": \"2021-02-03T17:01:22.411583Z\", \"created_time_dt\": \"2021-02-03T17:01:22.411583Z\", \"duration\": \"0:01:05\", \"iteration\": \"22\", \"goal\": \"accuracy_max\", \"run_name\": \"MinMaxScaler, LightGBM\", \"run_properties\": \"copy=True, feature_range=(0, 1\", \"primary_metric\": 0.82159864, \"best_metric\": 0.82967687}, {\"run_id\": \"AutoML_c3359735-5208-4441-a6bb-864e97b28ed6_23\", \"run_number\": 30, \"metric\": null, \"status\": \"Completed\", \"run_type\": \"azureml.scriptrun\", \"training_percent\": \"100\", \"start_time\": \"2021-02-03T17:02:46.9698Z\", \"end_time\": \"2021-02-03T17:03:42.61106Z\", \"created_time\": \"2021-02-03T17:02:32.850924Z\", \"created_time_dt\": \"2021-02-03T17:02:32.850924Z\", \"duration\": \"0:01:09\", \"iteration\": \"23\", \"goal\": \"accuracy_max\", \"run_name\": \"MinMaxScaler, RandomForest\", \"run_properties\": \"copy=True, feature_range=(0, 1\", \"primary_metric\": 0.78010204, \"best_metric\": 0.82967687}, {\"run_id\": \"AutoML_c3359735-5208-4441-a6bb-864e97b28ed6_24\", \"run_number\": 31, \"metric\": null, \"status\": \"Completed\", \"run_type\": \"azureml.scriptrun\", \"training_percent\": \"100\", \"start_time\": \"2021-02-03T17:03:57.839656Z\", \"end_time\": \"2021-02-03T17:04:52.714934Z\", \"created_time\": \"2021-02-03T17:03:44.849324Z\", \"created_time_dt\": \"2021-02-03T17:03:44.849324Z\", \"duration\": \"0:01:07\", \"iteration\": \"24\", \"goal\": \"accuracy_max\", \"run_name\": \"SparseNormalizer, XGBoostClassifier\", \"run_properties\": \"<azureml.automl.runtime.shared.model_wrappers.SparseNormalizer object at 0x7fc0793afdd8\", \"primary_metric\": 0.80909864, \"best_metric\": 0.82967687}, {\"run_id\": \"AutoML_c3359735-5208-4441-a6bb-864e97b28ed6_25\", \"run_number\": 32, \"metric\": null, \"status\": \"Completed\", \"run_type\": \"azureml.scriptrun\", \"training_percent\": \"100\", \"start_time\": \"2021-02-03T17:05:10.615549Z\", \"end_time\": \"2021-02-03T17:06:00.677754Z\", \"created_time\": \"2021-02-03T17:04:57.171921Z\", \"created_time_dt\": \"2021-02-03T17:04:57.171921Z\", \"duration\": \"0:01:03\", \"iteration\": \"25\", \"goal\": \"accuracy_max\", \"run_name\": \"SparseNormalizer, XGBoostClassifier\", \"run_properties\": \"<azureml.automl.runtime.shared.model_wrappers.SparseNormalizer object at 0x7f877dabc6a0\", \"primary_metric\": 0.56071429, \"best_metric\": 0.82967687}, {\"run_id\": \"AutoML_c3359735-5208-4441-a6bb-864e97b28ed6_26\", \"run_number\": 33, \"metric\": null, \"status\": \"Completed\", \"run_type\": \"azureml.scriptrun\", \"training_percent\": \"100\", \"start_time\": \"2021-02-03T17:06:17.749343Z\", \"end_time\": \"2021-02-03T17:07:33.603469Z\", \"created_time\": \"2021-02-03T17:06:02.400706Z\", \"created_time_dt\": \"2021-02-03T17:06:02.400706Z\", \"duration\": \"0:01:31\", \"iteration\": \"26\", \"goal\": \"accuracy_max\", \"run_name\": \"VotingEnsemble\", \"run_properties\": \"classification_labels=None,\\n                              estimators=[('17',\\n                                           Pipeline(memory=None,\\n                                                    steps=[('standardscalerwrapper',\\n                                                            <azureml.automl.runtime.shared.model_wrappers.StandardScalerWrapper object at 0x7f511cac9a58>\", \"primary_metric\": 0.84234694, \"best_metric\": 0.84234694}], \"children_metrics\": {\"categories\": [0], \"series\": {\"recall_score_macro\": [{\"categories\": [\"0\", \"1\", \"2\", \"3\", \"4\", \"5\", \"6\", \"7\", \"8\", \"9\", \"10\", \"11\", \"12\", \"13\", \"14\", \"15\", \"16\", \"17\", \"18\", \"19\", \"20\", \"21\", \"22\", \"23\", \"24\", \"25\", \"26\"], \"mode\": \"markers\", \"name\": \"recall_score_macro\", \"stepped\": false, \"type\": \"scatter\", \"data\": [0.8122675207530416, 0.8038281966362982, 0.7711493564232612, 0.7952611000454411, 0.7976730507069588, 0.8075520106125665, 0.8163210838332526, 0.8026153114822367, 0.8102192691943536, 0.8054204627152404, 0.8134081739287581, 0.7731436441804398, 0.8118619554413631, 0.8037762050121591, 0.8106333478693021, 0.8225171216686767, 0.8071636985790109, 0.8346615502676059, 0.8081599585135597, 0.6751600331577231, 0.820441496654763, 0.7963434574390765, 0.8263901375416927, 0.7791275799707448, 0.807647840622925, 0.5, 0.8449861790438475]}, {\"categories\": [\"0\", \"1\", \"2\", \"3\", \"4\", \"5\", \"6\", \"7\", \"8\", \"9\", \"10\", \"11\", \"12\", \"13\", \"14\", \"15\", \"16\", \"17\", \"18\", \"19\", \"20\", \"21\", \"22\", \"23\", \"24\", \"25\", \"26\"], \"mode\": \"lines\", \"name\": \"recall_score_macro_max\", \"stepped\": true, \"type\": \"scatter\", \"data\": [0.8122675207530416, 0.8122675207530416, 0.8122675207530416, 0.8122675207530416, 0.8122675207530416, 0.8122675207530416, 0.8163210838332526, 0.8163210838332526, 0.8163210838332526, 0.8163210838332526, 0.8163210838332526, 0.8163210838332526, 0.8163210838332526, 0.8163210838332526, 0.8163210838332526, 0.8225171216686767, 0.8225171216686767, 0.8346615502676059, 0.8346615502676059, 0.8346615502676059, 0.8346615502676059, 0.8346615502676059, 0.8346615502676059, 0.8346615502676059, 0.8346615502676059, 0.8346615502676059, 0.8449861790438475]}], \"average_precision_score_weighted\": [{\"categories\": [\"0\", \"1\", \"2\", \"3\", \"4\", \"5\", \"6\", \"7\", \"8\", \"9\", \"10\", \"11\", \"12\", \"13\", \"14\", \"15\", \"16\", \"17\", \"18\", \"19\", \"20\", \"21\", \"22\", \"23\", \"24\", \"25\", \"26\"], \"mode\": \"markers\", \"name\": \"average_precision_score_weighted\", \"stepped\": false, \"type\": \"scatter\", \"data\": [0.9023447346513155, 0.9065558621491465, 0.8936155414192376, 0.8983918995583503, 0.9120048715926174, 0.8949909302420934, 0.9262906257588778, 0.9069579437067239, 0.9059206817058907, 0.9157014341435282, 0.9123688312103821, 0.8952074497677037, 0.9088771398833497, 0.8574815591127264, 0.9166682000678825, 0.9136560852995782, 0.873283522780952, 0.9016197413084963, 0.9046858321814873, 0.7724007000510327, 0.8974405058195043, 0.8874675636388183, 0.9080430336690867, 0.8935109141011571, 0.9088767613471542, 0.519749149659864, 0.9203662073718426]}, {\"categories\": [\"0\", \"1\", \"2\", \"3\", \"4\", \"5\", \"6\", \"7\", \"8\", \"9\", \"10\", \"11\", \"12\", \"13\", \"14\", \"15\", \"16\", \"17\", \"18\", \"19\", \"20\", \"21\", \"22\", \"23\", \"24\", \"25\", \"26\"], \"mode\": \"lines\", \"name\": \"average_precision_score_weighted_max\", \"stepped\": true, \"type\": \"scatter\", \"data\": [0.9023447346513155, 0.9065558621491465, 0.9065558621491465, 0.9065558621491465, 0.9120048715926174, 0.9120048715926174, 0.9262906257588778, 0.9262906257588778, 0.9262906257588778, 0.9262906257588778, 0.9262906257588778, 0.9262906257588778, 0.9262906257588778, 0.9262906257588778, 0.9262906257588778, 0.9262906257588778, 0.9262906257588778, 0.9262906257588778, 0.9262906257588778, 0.9262906257588778, 0.9262906257588778, 0.9262906257588778, 0.9262906257588778, 0.9262906257588778, 0.9262906257588778, 0.9262906257588778, 0.9262906257588778]}], \"AUC_micro\": [{\"categories\": [\"0\", \"1\", \"2\", \"3\", \"4\", \"5\", \"6\", \"7\", \"8\", \"9\", \"10\", \"11\", \"12\", \"13\", \"14\", \"15\", \"16\", \"17\", \"18\", \"19\", \"20\", \"21\", \"22\", \"23\", \"24\", \"25\", \"26\"], \"mode\": \"markers\", \"name\": \"AUC_micro\", \"stepped\": false, \"type\": \"scatter\", \"data\": [0.8928116973830349, 0.8961068015641631, 0.8818689189111018, 0.8889177035610162, 0.9023594408001296, 0.8797737270928779, 0.91313735740895, 0.8973597878777362, 0.8966241279675135, 0.8988854470359573, 0.9004093708061456, 0.8776882245245037, 0.8985180870817715, 0.8571407602156509, 0.9061622182886759, 0.9025707604470361, 0.8692408978897681, 0.8903662464135312, 0.8955166973251887, 0.7604399859433568, 0.8851903431440604, 0.8747166617497338, 0.891350030658522, 0.8879330516220094, 0.8989424617636171, 0.5607142857142857, 0.9097238853024203]}, {\"categories\": [\"0\", \"1\", \"2\", \"3\", \"4\", \"5\", \"6\", \"7\", \"8\", \"9\", \"10\", \"11\", \"12\", \"13\", \"14\", \"15\", \"16\", \"17\", \"18\", \"19\", \"20\", \"21\", \"22\", \"23\", \"24\", \"25\", \"26\"], \"mode\": \"lines\", \"name\": \"AUC_micro_max\", \"stepped\": true, \"type\": \"scatter\", \"data\": [0.8928116973830349, 0.8961068015641631, 0.8961068015641631, 0.8961068015641631, 0.9023594408001296, 0.9023594408001296, 0.91313735740895, 0.91313735740895, 0.91313735740895, 0.91313735740895, 0.91313735740895, 0.91313735740895, 0.91313735740895, 0.91313735740895, 0.91313735740895, 0.91313735740895, 0.91313735740895, 0.91313735740895, 0.91313735740895, 0.91313735740895, 0.91313735740895, 0.91313735740895, 0.91313735740895, 0.91313735740895, 0.91313735740895, 0.91313735740895, 0.91313735740895]}], \"f1_score_weighted\": [{\"categories\": [\"0\", \"1\", \"2\", \"3\", \"4\", \"5\", \"6\", \"7\", \"8\", \"9\", \"10\", \"11\", \"12\", \"13\", \"14\", \"15\", \"16\", \"17\", \"18\", \"19\", \"20\", \"21\", \"22\", \"23\", \"24\", \"25\", \"26\"], \"mode\": \"markers\", \"name\": \"f1_score_weighted\", \"stepped\": false, \"type\": \"scatter\", \"data\": [0.8154011589505133, 0.8013010329446362, 0.7687938381799129, 0.7929628765879779, 0.7977589618137653, 0.805996825075292, 0.8139504345113023, 0.7973055423877317, 0.8098532295069442, 0.8053556694113375, 0.8129816986132775, 0.7687853241721302, 0.8095202893444583, 0.8054756894091234, 0.809438042744153, 0.8171601873823617, 0.8010890625120485, 0.8303574949784217, 0.8044129629583981, 0.6798431199921616, 0.8144805417847998, 0.789396432515975, 0.8219136892868637, 0.7808921375765449, 0.8091515146720738, 0.40626566984346724, 0.8425015906627878]}, {\"categories\": [\"0\", \"1\", \"2\", \"3\", \"4\", \"5\", \"6\", \"7\", \"8\", \"9\", \"10\", \"11\", \"12\", \"13\", \"14\", \"15\", \"16\", \"17\", \"18\", \"19\", \"20\", \"21\", \"22\", \"23\", \"24\", \"25\", \"26\"], \"mode\": \"lines\", \"name\": \"f1_score_weighted_max\", \"stepped\": true, \"type\": \"scatter\", \"data\": [0.8154011589505133, 0.8154011589505133, 0.8154011589505133, 0.8154011589505133, 0.8154011589505133, 0.8154011589505133, 0.8154011589505133, 0.8154011589505133, 0.8154011589505133, 0.8154011589505133, 0.8154011589505133, 0.8154011589505133, 0.8154011589505133, 0.8154011589505133, 0.8154011589505133, 0.8171601873823617, 0.8171601873823617, 0.8303574949784217, 0.8303574949784217, 0.8303574949784217, 0.8303574949784217, 0.8303574949784217, 0.8303574949784217, 0.8303574949784217, 0.8303574949784217, 0.8303574949784217, 0.8425015906627878]}], \"precision_score_weighted\": [{\"categories\": [\"0\", \"1\", \"2\", \"3\", \"4\", \"5\", \"6\", \"7\", \"8\", \"9\", \"10\", \"11\", \"12\", \"13\", \"14\", \"15\", \"16\", \"17\", \"18\", \"19\", \"20\", \"21\", \"22\", \"23\", \"24\", \"25\", \"26\"], \"mode\": \"markers\", \"name\": \"precision_score_weighted\", \"stepped\": false, \"type\": \"scatter\", \"data\": [0.8322905134829106, 0.8158560253603356, 0.7857848201125576, 0.8073882123091891, 0.803648737504681, 0.8174573574573575, 0.8266182608100712, 0.8154353524021761, 0.8215821561707288, 0.815887723966528, 0.8269194998191519, 0.7859206810084003, 0.8201691706039533, 0.8115356530694552, 0.8241234308475688, 0.8360679661972765, 0.8245105365065044, 0.8436658534381494, 0.8251260853344187, 0.6988910116065289, 0.8283562636741639, 0.8090839115345894, 0.8369731410692649, 0.7885855602745229, 0.8190520131450247, 0.3205888605442177, 0.857297045996745]}, {\"categories\": [\"0\", \"1\", \"2\", \"3\", \"4\", \"5\", \"6\", \"7\", \"8\", \"9\", \"10\", \"11\", \"12\", \"13\", \"14\", \"15\", \"16\", \"17\", \"18\", \"19\", \"20\", \"21\", \"22\", \"23\", \"24\", \"25\", \"26\"], \"mode\": \"lines\", \"name\": \"precision_score_weighted_max\", \"stepped\": true, \"type\": \"scatter\", \"data\": [0.8322905134829106, 0.8322905134829106, 0.8322905134829106, 0.8322905134829106, 0.8322905134829106, 0.8322905134829106, 0.8322905134829106, 0.8322905134829106, 0.8322905134829106, 0.8322905134829106, 0.8322905134829106, 0.8322905134829106, 0.8322905134829106, 0.8322905134829106, 0.8322905134829106, 0.8360679661972765, 0.8360679661972765, 0.8436658534381494, 0.8436658534381494, 0.8436658534381494, 0.8436658534381494, 0.8436658534381494, 0.8436658534381494, 0.8436658534381494, 0.8436658534381494, 0.8436658534381494, 0.857297045996745]}], \"norm_macro_recall\": [{\"categories\": [\"0\", \"1\", \"2\", \"3\", \"4\", \"5\", \"6\", \"7\", \"8\", \"9\", \"10\", \"11\", \"12\", \"13\", \"14\", \"15\", \"16\", \"17\", \"18\", \"19\", \"20\", \"21\", \"22\", \"23\", \"24\", \"25\", \"26\"], \"mode\": \"markers\", \"name\": \"norm_macro_recall\", \"stepped\": false, \"type\": \"scatter\", \"data\": [0.6245350415060835, 0.6076563932725965, 0.5422987128465225, 0.5905222000908825, 0.5953461014139176, 0.6151040212251333, 0.6326421676665055, 0.6052306229644733, 0.6204385383887076, 0.6108409254304809, 0.626816347857516, 0.5462872883608797, 0.623723910882726, 0.6075524100243183, 0.6212666957386039, 0.6450342433373536, 0.6143273971580216, 0.6693231005352117, 0.6163199170271194, 0.35032006631544627, 0.6408829933095258, 0.5926869148781532, 0.6527802750833853, 0.5582551599414896, 0.6152956812458503, 0.0, 0.6899723580876952]}, {\"categories\": [\"0\", \"1\", \"2\", \"3\", \"4\", \"5\", \"6\", \"7\", \"8\", \"9\", \"10\", \"11\", \"12\", \"13\", \"14\", \"15\", \"16\", \"17\", \"18\", \"19\", \"20\", \"21\", \"22\", \"23\", \"24\", \"25\", \"26\"], \"mode\": \"lines\", \"name\": \"norm_macro_recall_max\", \"stepped\": true, \"type\": \"scatter\", \"data\": [0.6245350415060835, 0.6245350415060835, 0.6245350415060835, 0.6245350415060835, 0.6245350415060835, 0.6245350415060835, 0.6326421676665055, 0.6326421676665055, 0.6326421676665055, 0.6326421676665055, 0.6326421676665055, 0.6326421676665055, 0.6326421676665055, 0.6326421676665055, 0.6326421676665055, 0.6450342433373536, 0.6450342433373536, 0.6693231005352117, 0.6693231005352117, 0.6693231005352117, 0.6693231005352117, 0.6693231005352117, 0.6693231005352117, 0.6693231005352117, 0.6693231005352117, 0.6693231005352117, 0.6899723580876952]}], \"f1_score_micro\": [{\"categories\": [\"0\", \"1\", \"2\", \"3\", \"4\", \"5\", \"6\", \"7\", \"8\", \"9\", \"10\", \"11\", \"12\", \"13\", \"14\", \"15\", \"16\", \"17\", \"18\", \"19\", \"20\", \"21\", \"22\", \"23\", \"24\", \"25\", \"26\"], \"mode\": \"markers\", \"name\": \"f1_score_micro\", \"stepped\": false, \"type\": \"scatter\", \"data\": [0.8174319727891156, 0.8008503401360544, 0.7676020408163265, 0.792517006802721, 0.7966836734693878, 0.8048469387755102, 0.8133503401360545, 0.7966836734693878, 0.8092687074829932, 0.8051020408163266, 0.8131802721088436, 0.7676020408163264, 0.8089285714285713, 0.8048469387755102, 0.8091836734693878, 0.817517006802721, 0.8010204081632655, 0.8296768707482993, 0.8049319727891155, 0.6810374149659864, 0.8131802721088436, 0.7885204081632653, 0.8215986394557824, 0.7801020408163265, 0.8090986394557824, 0.5607142857142857, 0.8423469387755101]}, {\"categories\": [\"0\", \"1\", \"2\", \"3\", \"4\", \"5\", \"6\", \"7\", \"8\", \"9\", \"10\", \"11\", \"12\", \"13\", \"14\", \"15\", \"16\", \"17\", \"18\", \"19\", \"20\", \"21\", \"22\", \"23\", \"24\", \"25\", \"26\"], \"mode\": \"lines\", \"name\": \"f1_score_micro_max\", \"stepped\": true, \"type\": \"scatter\", \"data\": [0.8174319727891156, 0.8174319727891156, 0.8174319727891156, 0.8174319727891156, 0.8174319727891156, 0.8174319727891156, 0.8174319727891156, 0.8174319727891156, 0.8174319727891156, 0.8174319727891156, 0.8174319727891156, 0.8174319727891156, 0.8174319727891156, 0.8174319727891156, 0.8174319727891156, 0.817517006802721, 0.817517006802721, 0.8296768707482993, 0.8296768707482993, 0.8296768707482993, 0.8296768707482993, 0.8296768707482993, 0.8296768707482993, 0.8296768707482993, 0.8296768707482993, 0.8296768707482993, 0.8423469387755101]}], \"precision_score_micro\": [{\"categories\": [\"0\", \"1\", \"2\", \"3\", \"4\", \"5\", \"6\", \"7\", \"8\", \"9\", \"10\", \"11\", \"12\", \"13\", \"14\", \"15\", \"16\", \"17\", \"18\", \"19\", \"20\", \"21\", \"22\", \"23\", \"24\", \"25\", \"26\"], \"mode\": \"markers\", \"name\": \"precision_score_micro\", \"stepped\": false, \"type\": \"scatter\", \"data\": [0.8174319727891156, 0.8008503401360544, 0.7676020408163265, 0.792517006802721, 0.7966836734693878, 0.8048469387755102, 0.8133503401360545, 0.7966836734693878, 0.8092687074829932, 0.8051020408163266, 0.8131802721088436, 0.7676020408163264, 0.8089285714285716, 0.8048469387755102, 0.8091836734693878, 0.817517006802721, 0.8010204081632655, 0.8296768707482993, 0.8049319727891155, 0.6810374149659864, 0.8131802721088436, 0.7885204081632653, 0.8215986394557824, 0.7801020408163265, 0.8090986394557824, 0.5607142857142857, 0.8423469387755101]}, {\"categories\": [\"0\", \"1\", \"2\", \"3\", \"4\", \"5\", \"6\", \"7\", \"8\", \"9\", \"10\", \"11\", \"12\", \"13\", \"14\", \"15\", \"16\", \"17\", \"18\", \"19\", \"20\", \"21\", \"22\", \"23\", \"24\", \"25\", \"26\"], \"mode\": \"lines\", \"name\": \"precision_score_micro_max\", \"stepped\": true, \"type\": \"scatter\", \"data\": [0.8174319727891156, 0.8174319727891156, 0.8174319727891156, 0.8174319727891156, 0.8174319727891156, 0.8174319727891156, 0.8174319727891156, 0.8174319727891156, 0.8174319727891156, 0.8174319727891156, 0.8174319727891156, 0.8174319727891156, 0.8174319727891156, 0.8174319727891156, 0.8174319727891156, 0.817517006802721, 0.817517006802721, 0.8296768707482993, 0.8296768707482993, 0.8296768707482993, 0.8296768707482993, 0.8296768707482993, 0.8296768707482993, 0.8296768707482993, 0.8296768707482993, 0.8296768707482993, 0.8423469387755101]}], \"log_loss\": [{\"categories\": [\"0\", \"1\", \"2\", \"3\", \"4\", \"5\", \"6\", \"7\", \"8\", \"9\", \"10\", \"11\", \"12\", \"13\", \"14\", \"15\", \"16\", \"17\", \"18\", \"19\", \"20\", \"21\", \"22\", \"23\", \"24\", \"25\", \"26\"], \"mode\": \"markers\", \"name\": \"log_loss\", \"stepped\": false, \"type\": \"scatter\", \"data\": [0.4736162067959209, 0.4283069807768275, 0.42932672156615503, 0.4303789062836906, 0.4007348672511707, 0.4420684737600934, 0.3868895415064456, 0.4098567148556877, 0.4183571924814447, 0.40703717426708835, 0.41558811389129746, 0.44562784532910815, 0.4111866164975986, 0.4987679041085567, 0.3920139818045113, 0.4005743403070475, 0.47393997801638416, 0.4890406983535649, 0.4085714164813691, 1.3726500341960164, 0.4345806783139943, 0.44717417937784115, 0.4521821388327013, 0.4279445797127116, 0.41154883243167173, 0.6929607970790048, 0.4006648739882552]}, {\"categories\": [\"0\", \"1\", \"2\", \"3\", \"4\", \"5\", \"6\", \"7\", \"8\", \"9\", \"10\", \"11\", \"12\", \"13\", \"14\", \"15\", \"16\", \"17\", \"18\", \"19\", \"20\", \"21\", \"22\", \"23\", \"24\", \"25\", \"26\"], \"mode\": \"lines\", \"name\": \"log_loss_min\", \"stepped\": true, \"type\": \"scatter\", \"data\": [0.4736162067959209, 0.4283069807768275, 0.4283069807768275, 0.4283069807768275, 0.4007348672511707, 0.4007348672511707, 0.3868895415064456, 0.3868895415064456, 0.3868895415064456, 0.3868895415064456, 0.3868895415064456, 0.3868895415064456, 0.3868895415064456, 0.3868895415064456, 0.3868895415064456, 0.3868895415064456, 0.3868895415064456, 0.3868895415064456, 0.3868895415064456, 0.3868895415064456, 0.3868895415064456, 0.3868895415064456, 0.3868895415064456, 0.3868895415064456, 0.3868895415064456, 0.3868895415064456, 0.3868895415064456]}], \"precision_score_macro\": [{\"categories\": [\"0\", \"1\", \"2\", \"3\", \"4\", \"5\", \"6\", \"7\", \"8\", \"9\", \"10\", \"11\", \"12\", \"13\", \"14\", \"15\", \"16\", \"17\", \"18\", \"19\", \"20\", \"21\", \"22\", \"23\", \"24\", \"25\", \"26\"], \"mode\": \"markers\", \"name\": \"precision_score_macro\", \"stepped\": false, \"type\": \"scatter\", \"data\": [0.8242531010289236, 0.8011877394636014, 0.7692520190705308, 0.7926163108921729, 0.7907222071921433, 0.8022351722351722, 0.8127353585112205, 0.7994006802321895, 0.8087316232869771, 0.8042755740288946, 0.8150851866255678, 0.7687032460716672, 0.8064275627753889, 0.7993180652781379, 0.8108649739049014, 0.8220663053421674, 0.8097337586248876, 0.8288877683564589, 0.811119066119066, 0.6866946654877689, 0.8119297025952907, 0.7917523839206868, 0.8224270526811361, 0.7759081738768645, 0.8073085913326359, 0.28035714285714286, 0.844837515280491]}, {\"categories\": [\"0\", \"1\", \"2\", \"3\", \"4\", \"5\", \"6\", \"7\", \"8\", \"9\", \"10\", \"11\", \"12\", \"13\", \"14\", \"15\", \"16\", \"17\", \"18\", \"19\", \"20\", \"21\", \"22\", \"23\", \"24\", \"25\", \"26\"], \"mode\": \"lines\", \"name\": \"precision_score_macro_max\", \"stepped\": true, \"type\": \"scatter\", \"data\": [0.8242531010289236, 0.8242531010289236, 0.8242531010289236, 0.8242531010289236, 0.8242531010289236, 0.8242531010289236, 0.8242531010289236, 0.8242531010289236, 0.8242531010289236, 0.8242531010289236, 0.8242531010289236, 0.8242531010289236, 0.8242531010289236, 0.8242531010289236, 0.8242531010289236, 0.8242531010289236, 0.8242531010289236, 0.8288877683564589, 0.8288877683564589, 0.8288877683564589, 0.8288877683564589, 0.8288877683564589, 0.8288877683564589, 0.8288877683564589, 0.8288877683564589, 0.8288877683564589, 0.844837515280491]}], \"AUC_macro\": [{\"categories\": [\"0\", \"1\", \"2\", \"3\", \"4\", \"5\", \"6\", \"7\", \"8\", \"9\", \"10\", \"11\", \"12\", \"13\", \"14\", \"15\", \"16\", \"17\", \"18\", \"19\", \"20\", \"21\", \"22\", \"23\", \"24\", \"25\", \"26\"], \"mode\": \"markers\", \"name\": \"AUC_macro\", \"stepped\": false, \"type\": \"scatter\", \"data\": [0.899411899713914, 0.9043552258054538, 0.882098287873666, 0.893482851501205, 0.9053744797591783, 0.8839003935374992, 0.9228170238642441, 0.8999990954773681, 0.8998563379224216, 0.9085957847998166, 0.9079794307313076, 0.8882346418074789, 0.9018047135326002, 0.8540133002866099, 0.9099675844780799, 0.9067725716435866, 0.8733386884128749, 0.8956050293578549, 0.9025423969806093, 0.7565234059028005, 0.8908769955387484, 0.8803684439647762, 0.9018373944248106, 0.8873599411870092, 0.902311350190692, 0.5, 0.9148429657666401]}, {\"categories\": [\"0\", \"1\", \"2\", \"3\", \"4\", \"5\", \"6\", \"7\", \"8\", \"9\", \"10\", \"11\", \"12\", \"13\", \"14\", \"15\", \"16\", \"17\", \"18\", \"19\", \"20\", \"21\", \"22\", \"23\", \"24\", \"25\", \"26\"], \"mode\": \"lines\", \"name\": \"AUC_macro_max\", \"stepped\": true, \"type\": \"scatter\", \"data\": [0.899411899713914, 0.9043552258054538, 0.9043552258054538, 0.9043552258054538, 0.9053744797591783, 0.9053744797591783, 0.9228170238642441, 0.9228170238642441, 0.9228170238642441, 0.9228170238642441, 0.9228170238642441, 0.9228170238642441, 0.9228170238642441, 0.9228170238642441, 0.9228170238642441, 0.9228170238642441, 0.9228170238642441, 0.9228170238642441, 0.9228170238642441, 0.9228170238642441, 0.9228170238642441, 0.9228170238642441, 0.9228170238642441, 0.9228170238642441, 0.9228170238642441, 0.9228170238642441, 0.9228170238642441]}], \"AUC_weighted\": [{\"categories\": [\"0\", \"1\", \"2\", \"3\", \"4\", \"5\", \"6\", \"7\", \"8\", \"9\", \"10\", \"11\", \"12\", \"13\", \"14\", \"15\", \"16\", \"17\", \"18\", \"19\", \"20\", \"21\", \"22\", \"23\", \"24\", \"25\", \"26\"], \"mode\": \"markers\", \"name\": \"AUC_weighted\", \"stepped\": false, \"type\": \"scatter\", \"data\": [0.899411899713914, 0.9043552258054538, 0.8820982878736661, 0.893482851501205, 0.9053744797591781, 0.8839003935374992, 0.9228170238642441, 0.8999990954773681, 0.8998563379224216, 0.9085957847998166, 0.9079794307313076, 0.8882346418074787, 0.9018047135326002, 0.8540133002866097, 0.9099675844780798, 0.9067725716435866, 0.8733386884128749, 0.8956050293578549, 0.9025423969806093, 0.7565234059028005, 0.8908769955387484, 0.8803684439647762, 0.9018373944248106, 0.8873599411870092, 0.9023113501906916, 0.5, 0.9148429657666401]}, {\"categories\": [\"0\", \"1\", \"2\", \"3\", \"4\", \"5\", \"6\", \"7\", \"8\", \"9\", \"10\", \"11\", \"12\", \"13\", \"14\", \"15\", \"16\", \"17\", \"18\", \"19\", \"20\", \"21\", \"22\", \"23\", \"24\", \"25\", \"26\"], \"mode\": \"lines\", \"name\": \"AUC_weighted_max\", \"stepped\": true, \"type\": \"scatter\", \"data\": [0.899411899713914, 0.9043552258054538, 0.9043552258054538, 0.9043552258054538, 0.9053744797591781, 0.9053744797591781, 0.9228170238642441, 0.9228170238642441, 0.9228170238642441, 0.9228170238642441, 0.9228170238642441, 0.9228170238642441, 0.9228170238642441, 0.9228170238642441, 0.9228170238642441, 0.9228170238642441, 0.9228170238642441, 0.9228170238642441, 0.9228170238642441, 0.9228170238642441, 0.9228170238642441, 0.9228170238642441, 0.9228170238642441, 0.9228170238642441, 0.9228170238642441, 0.9228170238642441, 0.9228170238642441]}], \"recall_score_micro\": [{\"categories\": [\"0\", \"1\", \"2\", \"3\", \"4\", \"5\", \"6\", \"7\", \"8\", \"9\", \"10\", \"11\", \"12\", \"13\", \"14\", \"15\", \"16\", \"17\", \"18\", \"19\", \"20\", \"21\", \"22\", \"23\", \"24\", \"25\", \"26\"], \"mode\": \"markers\", \"name\": \"recall_score_micro\", \"stepped\": false, \"type\": \"scatter\", \"data\": [0.8174319727891156, 0.8008503401360544, 0.7676020408163265, 0.792517006802721, 0.7966836734693878, 0.8048469387755102, 0.8133503401360545, 0.7966836734693878, 0.8092687074829932, 0.8051020408163266, 0.8131802721088436, 0.7676020408163264, 0.8089285714285716, 0.8048469387755102, 0.8091836734693878, 0.817517006802721, 0.8010204081632655, 0.8296768707482993, 0.8049319727891155, 0.6810374149659864, 0.8131802721088436, 0.7885204081632653, 0.8215986394557824, 0.7801020408163265, 0.8090986394557824, 0.5607142857142857, 0.8423469387755101]}, {\"categories\": [\"0\", \"1\", \"2\", \"3\", \"4\", \"5\", \"6\", \"7\", \"8\", \"9\", \"10\", \"11\", \"12\", \"13\", \"14\", \"15\", \"16\", \"17\", \"18\", \"19\", \"20\", \"21\", \"22\", \"23\", \"24\", \"25\", \"26\"], \"mode\": \"lines\", \"name\": \"recall_score_micro_max\", \"stepped\": true, \"type\": \"scatter\", \"data\": [0.8174319727891156, 0.8174319727891156, 0.8174319727891156, 0.8174319727891156, 0.8174319727891156, 0.8174319727891156, 0.8174319727891156, 0.8174319727891156, 0.8174319727891156, 0.8174319727891156, 0.8174319727891156, 0.8174319727891156, 0.8174319727891156, 0.8174319727891156, 0.8174319727891156, 0.817517006802721, 0.817517006802721, 0.8296768707482993, 0.8296768707482993, 0.8296768707482993, 0.8296768707482993, 0.8296768707482993, 0.8296768707482993, 0.8296768707482993, 0.8296768707482993, 0.8296768707482993, 0.8423469387755101]}], \"f1_score_macro\": [{\"categories\": [\"0\", \"1\", \"2\", \"3\", \"4\", \"5\", \"6\", \"7\", \"8\", \"9\", \"10\", \"11\", \"12\", \"13\", \"14\", \"15\", \"16\", \"17\", \"18\", \"19\", \"20\", \"21\", \"22\", \"23\", \"24\", \"25\", \"26\"], \"mode\": \"markers\", \"name\": \"f1_score_macro\", \"stepped\": false, \"type\": \"scatter\", \"data\": [0.8081340184506155, 0.7952745677038637, 0.7621673454227305, 0.7867753633087295, 0.7916317886779819, 0.7994883711593437, 0.8083596901568615, 0.7919343980423481, 0.8037547876107105, 0.7995447681284131, 0.8070061751114382, 0.7628245549798341, 0.8038750176773837, 0.7987107299708776, 0.8034027357666196, 0.8122251066448651, 0.7964813785193401, 0.8251222685171626, 0.7986966307169809, 0.67028133399217, 0.8095161855937196, 0.7845078276349291, 0.8167498870117486, 0.7738120840091208, 0.8024385230802793, 0.35758145079255205, 0.8374136682377866]}, {\"categories\": [\"0\", \"1\", \"2\", \"3\", \"4\", \"5\", \"6\", \"7\", \"8\", \"9\", \"10\", \"11\", \"12\", \"13\", \"14\", \"15\", \"16\", \"17\", \"18\", \"19\", \"20\", \"21\", \"22\", \"23\", \"24\", \"25\", \"26\"], \"mode\": \"lines\", \"name\": \"f1_score_macro_max\", \"stepped\": true, \"type\": \"scatter\", \"data\": [0.8081340184506155, 0.8081340184506155, 0.8081340184506155, 0.8081340184506155, 0.8081340184506155, 0.8081340184506155, 0.8083596901568615, 0.8083596901568615, 0.8083596901568615, 0.8083596901568615, 0.8083596901568615, 0.8083596901568615, 0.8083596901568615, 0.8083596901568615, 0.8083596901568615, 0.8122251066448651, 0.8122251066448651, 0.8251222685171626, 0.8251222685171626, 0.8251222685171626, 0.8251222685171626, 0.8251222685171626, 0.8251222685171626, 0.8251222685171626, 0.8251222685171626, 0.8251222685171626, 0.8374136682377866]}], \"average_precision_score_macro\": [{\"categories\": [\"0\", \"1\", \"2\", \"3\", \"4\", \"5\", \"6\", \"7\", \"8\", \"9\", \"10\", \"11\", \"12\", \"13\", \"14\", \"15\", \"16\", \"17\", \"18\", \"19\", \"20\", \"21\", \"22\", \"23\", \"24\", \"25\", \"26\"], \"mode\": \"markers\", \"name\": \"average_precision_score_macro\", \"stepped\": false, \"type\": \"scatter\", \"data\": [0.8978805787321104, 0.9017765470682155, 0.8842777888490803, 0.8888537307846587, 0.9043944427982163, 0.8878929994882114, 0.9219424325384876, 0.8984289244224077, 0.8975578114769125, 0.9084104488121174, 0.9048012120033139, 0.8866175740985781, 0.9016329970185444, 0.8461110208849153, 0.9104275476208636, 0.9061171998863324, 0.8637808512388657, 0.8910893886572024, 0.8973005801138145, 0.7629785646695748, 0.8871939075092568, 0.8780316133075438, 0.8999002975655408, 0.8830186444555587, 0.9019054655856046, 0.5, 0.9129078487365186]}, {\"categories\": [\"0\", \"1\", \"2\", \"3\", \"4\", \"5\", \"6\", \"7\", \"8\", \"9\", \"10\", \"11\", \"12\", \"13\", \"14\", \"15\", \"16\", \"17\", \"18\", \"19\", \"20\", \"21\", \"22\", \"23\", \"24\", \"25\", \"26\"], \"mode\": \"lines\", \"name\": \"average_precision_score_macro_max\", \"stepped\": true, \"type\": \"scatter\", \"data\": [0.8978805787321104, 0.9017765470682155, 0.9017765470682155, 0.9017765470682155, 0.9043944427982163, 0.9043944427982163, 0.9219424325384876, 0.9219424325384876, 0.9219424325384876, 0.9219424325384876, 0.9219424325384876, 0.9219424325384876, 0.9219424325384876, 0.9219424325384876, 0.9219424325384876, 0.9219424325384876, 0.9219424325384876, 0.9219424325384876, 0.9219424325384876, 0.9219424325384876, 0.9219424325384876, 0.9219424325384876, 0.9219424325384876, 0.9219424325384876, 0.9219424325384876, 0.9219424325384876, 0.9219424325384876]}], \"recall_score_weighted\": [{\"categories\": [\"0\", \"1\", \"2\", \"3\", \"4\", \"5\", \"6\", \"7\", \"8\", \"9\", \"10\", \"11\", \"12\", \"13\", \"14\", \"15\", \"16\", \"17\", \"18\", \"19\", \"20\", \"21\", \"22\", \"23\", \"24\", \"25\", \"26\"], \"mode\": \"markers\", \"name\": \"recall_score_weighted\", \"stepped\": false, \"type\": \"scatter\", \"data\": [0.8174319727891156, 0.8008503401360544, 0.7676020408163265, 0.792517006802721, 0.7966836734693878, 0.8048469387755102, 0.8133503401360545, 0.7966836734693878, 0.8092687074829932, 0.8051020408163266, 0.8131802721088436, 0.7676020408163264, 0.8089285714285716, 0.8048469387755102, 0.8091836734693878, 0.817517006802721, 0.8010204081632655, 0.8296768707482993, 0.8049319727891155, 0.6810374149659864, 0.8131802721088436, 0.7885204081632653, 0.8215986394557824, 0.7801020408163265, 0.8090986394557824, 0.5607142857142857, 0.8423469387755101]}, {\"categories\": [\"0\", \"1\", \"2\", \"3\", \"4\", \"5\", \"6\", \"7\", \"8\", \"9\", \"10\", \"11\", \"12\", \"13\", \"14\", \"15\", \"16\", \"17\", \"18\", \"19\", \"20\", \"21\", \"22\", \"23\", \"24\", \"25\", \"26\"], \"mode\": \"lines\", \"name\": \"recall_score_weighted_max\", \"stepped\": true, \"type\": \"scatter\", \"data\": [0.8174319727891156, 0.8174319727891156, 0.8174319727891156, 0.8174319727891156, 0.8174319727891156, 0.8174319727891156, 0.8174319727891156, 0.8174319727891156, 0.8174319727891156, 0.8174319727891156, 0.8174319727891156, 0.8174319727891156, 0.8174319727891156, 0.8174319727891156, 0.8174319727891156, 0.817517006802721, 0.817517006802721, 0.8296768707482993, 0.8296768707482993, 0.8296768707482993, 0.8296768707482993, 0.8296768707482993, 0.8296768707482993, 0.8296768707482993, 0.8296768707482993, 0.8296768707482993, 0.8423469387755101]}], \"accuracy\": [{\"categories\": [\"0\", \"1\", \"2\", \"3\", \"4\", \"5\", \"6\", \"7\", \"8\", \"9\", \"10\", \"11\", \"12\", \"13\", \"14\", \"15\", \"16\", \"17\", \"18\", \"19\", \"20\", \"21\", \"22\", \"23\", \"24\", \"25\", \"26\"], \"mode\": \"markers\", \"name\": \"accuracy\", \"stepped\": false, \"type\": \"scatter\", \"data\": [0.8174319727891156, 0.8008503401360544, 0.7676020408163265, 0.792517006802721, 0.7966836734693878, 0.8048469387755102, 0.8133503401360545, 0.7966836734693878, 0.8092687074829932, 0.8051020408163266, 0.8131802721088436, 0.7676020408163264, 0.8089285714285716, 0.8048469387755102, 0.8091836734693878, 0.817517006802721, 0.8010204081632655, 0.8296768707482993, 0.8049319727891155, 0.6810374149659864, 0.8131802721088436, 0.7885204081632653, 0.8215986394557824, 0.7801020408163265, 0.8090986394557824, 0.5607142857142857, 0.8423469387755101]}, {\"categories\": [\"0\", \"1\", \"2\", \"3\", \"4\", \"5\", \"6\", \"7\", \"8\", \"9\", \"10\", \"11\", \"12\", \"13\", \"14\", \"15\", \"16\", \"17\", \"18\", \"19\", \"20\", \"21\", \"22\", \"23\", \"24\", \"25\", \"26\"], \"mode\": \"lines\", \"name\": \"accuracy_max\", \"stepped\": true, \"type\": \"scatter\", \"data\": [0.8174319727891156, 0.8174319727891156, 0.8174319727891156, 0.8174319727891156, 0.8174319727891156, 0.8174319727891156, 0.8174319727891156, 0.8174319727891156, 0.8174319727891156, 0.8174319727891156, 0.8174319727891156, 0.8174319727891156, 0.8174319727891156, 0.8174319727891156, 0.8174319727891156, 0.817517006802721, 0.817517006802721, 0.8296768707482993, 0.8296768707482993, 0.8296768707482993, 0.8296768707482993, 0.8296768707482993, 0.8296768707482993, 0.8296768707482993, 0.8296768707482993, 0.8296768707482993, 0.8423469387755101]}], \"average_precision_score_micro\": [{\"categories\": [\"0\", \"1\", \"2\", \"3\", \"4\", \"5\", \"6\", \"7\", \"8\", \"9\", \"10\", \"11\", \"12\", \"13\", \"14\", \"15\", \"16\", \"17\", \"18\", \"19\", \"20\", \"21\", \"22\", \"23\", \"24\", \"25\", \"26\"], \"mode\": \"markers\", \"name\": \"average_precision_score_micro\", \"stepped\": false, \"type\": \"scatter\", \"data\": [0.8894404151583382, 0.8914391811796755, 0.8865371332789322, 0.8924284250009105, 0.9076177700280315, 0.8812223969213735, 0.9129730421669727, 0.9022585635735878, 0.8979024543424673, 0.904526917308543, 0.9025533891796185, 0.8804583509569485, 0.9025068960245312, 0.8552479494523162, 0.9090385034025461, 0.9075809444728412, 0.8632746471529114, 0.8925172596327654, 0.8986861989324968, 0.7596108150315344, 0.8887429794906968, 0.8779105303157018, 0.8945498246327116, 0.8907112446052187, 0.9033221620377704, 0.5402317176870748, 0.9137767051406817]}, {\"categories\": [\"0\", \"1\", \"2\", \"3\", \"4\", \"5\", \"6\", \"7\", \"8\", \"9\", \"10\", \"11\", \"12\", \"13\", \"14\", \"15\", \"16\", \"17\", \"18\", \"19\", \"20\", \"21\", \"22\", \"23\", \"24\", \"25\", \"26\"], \"mode\": \"lines\", \"name\": \"average_precision_score_micro_max\", \"stepped\": true, \"type\": \"scatter\", \"data\": [0.8894404151583382, 0.8914391811796755, 0.8914391811796755, 0.8924284250009105, 0.9076177700280315, 0.9076177700280315, 0.9129730421669727, 0.9129730421669727, 0.9129730421669727, 0.9129730421669727, 0.9129730421669727, 0.9129730421669727, 0.9129730421669727, 0.9129730421669727, 0.9129730421669727, 0.9129730421669727, 0.9129730421669727, 0.9129730421669727, 0.9129730421669727, 0.9129730421669727, 0.9129730421669727, 0.9129730421669727, 0.9129730421669727, 0.9129730421669727, 0.9129730421669727, 0.9129730421669727, 0.9137767051406817]}], \"matthews_correlation\": [{\"categories\": [\"0\", \"1\", \"2\", \"3\", \"4\", \"5\", \"6\", \"7\", \"8\", \"9\", \"10\", \"11\", \"12\", \"13\", \"14\", \"15\", \"16\", \"17\", \"18\", \"19\", \"20\", \"21\", \"22\", \"23\", \"24\", \"25\", \"26\"], \"mode\": \"markers\", \"name\": \"matthews_correlation\", \"stepped\": false, \"type\": \"scatter\", \"data\": [0.6354396836207294, 0.6048693374342031, 0.5402863479706335, 0.587738877907861, 0.5882919589208017, 0.6096434007451471, 0.6289386186733769, 0.6017938433926622, 0.6188393964862329, 0.6095510616975404, 0.6282866429636543, 0.5417343811992419, 0.61813740882088, 0.603009316029256, 0.6213680796592274, 0.6441673878514128, 0.6165741405181906, 0.6633292577592335, 0.6188814501563838, 0.3610783977579223, 0.6322046123376452, 0.5879354458655413, 0.648610577848648, 0.5548614122191754, 0.6148478613281929, 0.0, 0.6896420714133047]}, {\"categories\": [\"0\", \"1\", \"2\", \"3\", \"4\", \"5\", \"6\", \"7\", \"8\", \"9\", \"10\", \"11\", \"12\", \"13\", \"14\", \"15\", \"16\", \"17\", \"18\", \"19\", \"20\", \"21\", \"22\", \"23\", \"24\", \"25\", \"26\"], \"mode\": \"lines\", \"name\": \"matthews_correlation_max\", \"stepped\": true, \"type\": \"scatter\", \"data\": [0.6354396836207294, 0.6354396836207294, 0.6354396836207294, 0.6354396836207294, 0.6354396836207294, 0.6354396836207294, 0.6354396836207294, 0.6354396836207294, 0.6354396836207294, 0.6354396836207294, 0.6354396836207294, 0.6354396836207294, 0.6354396836207294, 0.6354396836207294, 0.6354396836207294, 0.6441673878514128, 0.6441673878514128, 0.6633292577592335, 0.6633292577592335, 0.6633292577592335, 0.6633292577592335, 0.6633292577592335, 0.6633292577592335, 0.6633292577592335, 0.6633292577592335, 0.6633292577592335, 0.6896420714133047]}], \"balanced_accuracy\": [{\"categories\": [\"0\", \"1\", \"2\", \"3\", \"4\", \"5\", \"6\", \"7\", \"8\", \"9\", \"10\", \"11\", \"12\", \"13\", \"14\", \"15\", \"16\", \"17\", \"18\", \"19\", \"20\", \"21\", \"22\", \"23\", \"24\", \"25\", \"26\"], \"mode\": \"markers\", \"name\": \"balanced_accuracy\", \"stepped\": false, \"type\": \"scatter\", \"data\": [0.8122675207530416, 0.8038281966362982, 0.7711493564232612, 0.7952611000454411, 0.7976730507069588, 0.8075520106125665, 0.8163210838332526, 0.8026153114822367, 0.8102192691943536, 0.8054204627152404, 0.8134081739287581, 0.7731436441804398, 0.8118619554413631, 0.8037762050121591, 0.8106333478693021, 0.8225171216686767, 0.8071636985790109, 0.8346615502676059, 0.8081599585135597, 0.6751600331577231, 0.820441496654763, 0.7963434574390765, 0.8263901375416927, 0.7791275799707448, 0.807647840622925, 0.5, 0.8449861790438475]}, {\"categories\": [\"0\", \"1\", \"2\", \"3\", \"4\", \"5\", \"6\", \"7\", \"8\", \"9\", \"10\", \"11\", \"12\", \"13\", \"14\", \"15\", \"16\", \"17\", \"18\", \"19\", \"20\", \"21\", \"22\", \"23\", \"24\", \"25\", \"26\"], \"mode\": \"lines\", \"name\": \"balanced_accuracy_max\", \"stepped\": true, \"type\": \"scatter\", \"data\": [0.8122675207530416, 0.8122675207530416, 0.8122675207530416, 0.8122675207530416, 0.8122675207530416, 0.8122675207530416, 0.8163210838332526, 0.8163210838332526, 0.8163210838332526, 0.8163210838332526, 0.8163210838332526, 0.8163210838332526, 0.8163210838332526, 0.8163210838332526, 0.8163210838332526, 0.8225171216686767, 0.8225171216686767, 0.8346615502676059, 0.8346615502676059, 0.8346615502676059, 0.8346615502676059, 0.8346615502676059, 0.8346615502676059, 0.8346615502676059, 0.8346615502676059, 0.8346615502676059, 0.8449861790438475]}], \"weighted_accuracy\": [{\"categories\": [\"0\", \"1\", \"2\", \"3\", \"4\", \"5\", \"6\", \"7\", \"8\", \"9\", \"10\", \"11\", \"12\", \"13\", \"14\", \"15\", \"16\", \"17\", \"18\", \"19\", \"20\", \"21\", \"22\", \"23\", \"24\", \"25\", \"26\"], \"mode\": \"markers\", \"name\": \"weighted_accuracy\", \"stepped\": false, \"type\": \"scatter\", \"data\": [0.8222881447487422, 0.7982090101321337, 0.7643092843451493, 0.7900532565724777, 0.7958348358984796, 0.8025210003840405, 0.8105838773390287, 0.7915220626606537, 0.8083346941354648, 0.8048285908785736, 0.8129368231444527, 0.7624057891362082, 0.8064404834632339, 0.8057942119816683, 0.8077771303820607, 0.8132985120512208, 0.7956701700759934, 0.8253961530247024, 0.8021778110429144, 0.6864619788067927, 0.8070464823456198, 0.7813957647174286, 0.8175131943361448, 0.7812430598012778, 0.8103193735850235, 0.6135701467764023, 0.8400057387845298]}, {\"categories\": [\"0\", \"1\", \"2\", \"3\", \"4\", \"5\", \"6\", \"7\", \"8\", \"9\", \"10\", \"11\", \"12\", \"13\", \"14\", \"15\", \"16\", \"17\", \"18\", \"19\", \"20\", \"21\", \"22\", \"23\", \"24\", \"25\", \"26\"], \"mode\": \"lines\", \"name\": \"weighted_accuracy_max\", \"stepped\": true, \"type\": \"scatter\", \"data\": [0.8222881447487422, 0.8222881447487422, 0.8222881447487422, 0.8222881447487422, 0.8222881447487422, 0.8222881447487422, 0.8222881447487422, 0.8222881447487422, 0.8222881447487422, 0.8222881447487422, 0.8222881447487422, 0.8222881447487422, 0.8222881447487422, 0.8222881447487422, 0.8222881447487422, 0.8222881447487422, 0.8222881447487422, 0.8253961530247024, 0.8253961530247024, 0.8253961530247024, 0.8253961530247024, 0.8253961530247024, 0.8253961530247024, 0.8253961530247024, 0.8253961530247024, 0.8253961530247024, 0.8400057387845298]}]}, \"metricName\": null, \"primaryMetricName\": \"accuracy\", \"showLegend\": false}, \"run_metrics\": [{\"name\": \"experiment_status\", \"run_id\": \"AutoML_c3359735-5208-4441-a6bb-864e97b28ed6\", \"categories\": [0, 1, 2, 3, 4, 5], \"series\": [{\"data\": [\"DatasetEvaluation\", \"FeaturesGeneration\", \"DatasetFeaturization\", \"DatasetFeaturizationCompleted\", \"DatasetCrossValidationSplit\", \"ModelSelection\"]}]}, {\"name\": \"experiment_status_description\", \"run_id\": \"AutoML_c3359735-5208-4441-a6bb-864e97b28ed6\", \"categories\": [0, 1, 2, 3, 4, 5], \"series\": [{\"data\": [\"Gathering dataset statistics.\", \"Generating features for the dataset.\", \"Beginning to fit featurizers and featurize the dataset.\", \"Completed fit featurizers and featurizing the dataset.\", \"Generating individually featurized CV splits.\", \"Beginning model selection.\"]}]}, {\"name\": \"f1_score_micro\", \"run_id\": \"AutoML_c3359735-5208-4441-a6bb-864e97b28ed6\", \"categories\": [0], \"series\": [{\"data\": [0.8423469387755101]}]}, {\"name\": \"accuracy\", \"run_id\": \"AutoML_c3359735-5208-4441-a6bb-864e97b28ed6\", \"categories\": [0], \"series\": [{\"data\": [0.8423469387755101]}]}, {\"name\": \"AUC_micro\", \"run_id\": \"AutoML_c3359735-5208-4441-a6bb-864e97b28ed6\", \"categories\": [0], \"series\": [{\"data\": [0.9097238853024203]}]}, {\"name\": \"matthews_correlation\", \"run_id\": \"AutoML_c3359735-5208-4441-a6bb-864e97b28ed6\", \"categories\": [0], \"series\": [{\"data\": [0.6896420714133047]}]}, {\"name\": \"precision_score_micro\", \"run_id\": \"AutoML_c3359735-5208-4441-a6bb-864e97b28ed6\", \"categories\": [0], \"series\": [{\"data\": [0.8423469387755101]}]}, {\"name\": \"recall_score_micro\", \"run_id\": \"AutoML_c3359735-5208-4441-a6bb-864e97b28ed6\", \"categories\": [0], \"series\": [{\"data\": [0.8423469387755101]}]}, {\"name\": \"log_loss\", \"run_id\": \"AutoML_c3359735-5208-4441-a6bb-864e97b28ed6\", \"categories\": [0], \"series\": [{\"data\": [0.4006648739882552]}]}, {\"name\": \"norm_macro_recall\", \"run_id\": \"AutoML_c3359735-5208-4441-a6bb-864e97b28ed6\", \"categories\": [0], \"series\": [{\"data\": [0.6899723580876952]}]}, {\"name\": \"AUC_weighted\", \"run_id\": \"AutoML_c3359735-5208-4441-a6bb-864e97b28ed6\", \"categories\": [0], \"series\": [{\"data\": [0.9148429657666401]}]}, {\"name\": \"average_precision_score_macro\", \"run_id\": \"AutoML_c3359735-5208-4441-a6bb-864e97b28ed6\", \"categories\": [0], \"series\": [{\"data\": [0.9129078487365186]}]}, {\"name\": \"recall_score_weighted\", \"run_id\": \"AutoML_c3359735-5208-4441-a6bb-864e97b28ed6\", \"categories\": [0], \"series\": [{\"data\": [0.8423469387755101]}]}, {\"name\": \"average_precision_score_weighted\", \"run_id\": \"AutoML_c3359735-5208-4441-a6bb-864e97b28ed6\", \"categories\": [0], \"series\": [{\"data\": [0.9203662073718426]}]}, {\"name\": \"f1_score_weighted\", \"run_id\": \"AutoML_c3359735-5208-4441-a6bb-864e97b28ed6\", \"categories\": [0], \"series\": [{\"data\": [0.8425015906627878]}]}, {\"name\": \"average_precision_score_micro\", \"run_id\": \"AutoML_c3359735-5208-4441-a6bb-864e97b28ed6\", \"categories\": [0], \"series\": [{\"data\": [0.9137767051406817]}]}, {\"name\": \"precision_score_macro\", \"run_id\": \"AutoML_c3359735-5208-4441-a6bb-864e97b28ed6\", \"categories\": [0], \"series\": [{\"data\": [0.844837515280491]}]}, {\"name\": \"balanced_accuracy\", \"run_id\": \"AutoML_c3359735-5208-4441-a6bb-864e97b28ed6\", \"categories\": [0], \"series\": [{\"data\": [0.8449861790438475]}]}, {\"name\": \"f1_score_macro\", \"run_id\": \"AutoML_c3359735-5208-4441-a6bb-864e97b28ed6\", \"categories\": [0], \"series\": [{\"data\": [0.8374136682377866]}]}, {\"name\": \"precision_score_weighted\", \"run_id\": \"AutoML_c3359735-5208-4441-a6bb-864e97b28ed6\", \"categories\": [0], \"series\": [{\"data\": [0.857297045996745]}]}, {\"name\": \"AUC_macro\", \"run_id\": \"AutoML_c3359735-5208-4441-a6bb-864e97b28ed6\", \"categories\": [0], \"series\": [{\"data\": [0.9148429657666401]}]}, {\"name\": \"weighted_accuracy\", \"run_id\": \"AutoML_c3359735-5208-4441-a6bb-864e97b28ed6\", \"categories\": [0], \"series\": [{\"data\": [0.8400057387845298]}]}, {\"name\": \"recall_score_macro\", \"run_id\": \"AutoML_c3359735-5208-4441-a6bb-864e97b28ed6\", \"categories\": [0], \"series\": [{\"data\": [0.8449861790438475]}]}], \"run_logs\": \"\\nRun is completed.\", \"graph\": {}, \"widget_settings\": {\"childWidgetDisplay\": \"popup\", \"send_telemetry\": false, \"log_level\": \"INFO\", \"sdk_version\": \"1.20.0\"}, \"loading\": false}"
     },
     "metadata": {},
     "output_type": "display_data"
    },
    {
     "name": "stdout",
     "output_type": "stream",
     "text": [
      "\n",
      "\n",
      "****************************************************************************************************\n",
      "DATA GUARDRAILS: \n",
      "\n",
      "TYPE:         Class balancing detection\n",
      "STATUS:       PASSED\n",
      "DESCRIPTION:  Your inputs were analyzed, and all classes are balanced in your training data.\n",
      "              Learn more about imbalanced data: https://aka.ms/AutomatedMLImbalancedData\n",
      "\n",
      "****************************************************************************************************\n",
      "\n",
      "TYPE:         Missing feature values imputation\n",
      "STATUS:       PASSED\n",
      "DESCRIPTION:  No feature missing values were detected in the training data.\n",
      "              Learn more about missing value imputation: https://aka.ms/AutomatedMLFeaturization\n",
      "\n",
      "****************************************************************************************************\n",
      "\n",
      "TYPE:         High cardinality feature detection\n",
      "STATUS:       PASSED\n",
      "DESCRIPTION:  Your inputs were analyzed, and no high cardinality features were detected.\n",
      "              Learn more about high cardinality feature handling: https://aka.ms/AutomatedMLFeaturization\n",
      "\n",
      "****************************************************************************************************\n",
      "\n",
      "****************************************************************************************************\n",
      "ITERATION: The iteration being evaluated.\n",
      "PIPELINE: A summary description of the pipeline being evaluated.\n",
      "DURATION: Time taken for the current iteration.\n",
      "METRIC: The result of computing score on the fitted pipeline.\n",
      "BEST: The best observed score thus far.\n",
      "****************************************************************************************************\n",
      "\n",
      " ITERATION   PIPELINE                                       DURATION      METRIC      BEST\n",
      "         0   MaxAbsScaler LightGBM                          0:00:53       0.8174    0.8174\n",
      "         1   MaxAbsScaler XGBoostClassifier                 0:00:54       0.8009    0.8174\n",
      "         2   MinMaxScaler RandomForest                      0:00:54       0.7676    0.8174\n",
      "         3   MinMaxScaler RandomForest                      0:00:58       0.7925    0.8174\n",
      "         4   MinMaxScaler RandomForest                      0:00:50       0.7967    0.8174\n",
      "         5   MinMaxScaler SVM                               0:00:56       0.8048    0.8174\n",
      "         6   MaxAbsScaler GradientBoosting                  0:00:55       0.8134    0.8174\n",
      "         7   StandardScalerWrapper RandomForest             0:00:58       0.7967    0.8174\n",
      "         8   SparseNormalizer XGBoostClassifier             0:00:52       0.8093    0.8174\n",
      "         9   SparseNormalizer LightGBM                      0:00:55       0.8051    0.8174\n",
      "        10   StandardScalerWrapper LightGBM                 0:00:59       0.8132    0.8174\n",
      "        11   RobustScaler ExtremeRandomTrees                0:01:02       0.7676    0.8174\n",
      "        12   SparseNormalizer XGBoostClassifier             0:00:58       0.8089    0.8174\n",
      "        13   SparseNormalizer XGBoostClassifier             0:00:52       0.8048    0.8174\n",
      "        14   SparseNormalizer LightGBM                      0:00:55       0.8092    0.8174\n",
      "        15   MinMaxScaler LightGBM                          0:00:59       0.8175    0.8175\n",
      "        16   MinMaxScaler ExtremeRandomTrees                0:00:49       0.8010    0.8175\n",
      "        17   StandardScalerWrapper XGBoostClassifier        0:00:58       0.8297    0.8297\n",
      "        18   StandardScalerWrapper LightGBM                 0:00:52       0.8049    0.8297\n",
      "        19   RobustScaler KNN                               0:00:52       0.6810    0.8297\n",
      "        20   StandardScalerWrapper ExtremeRandomTrees       0:00:51       0.8132    0.8297\n",
      "        21   StandardScalerWrapper ExtremeRandomTrees       0:00:48       0.7885    0.8297\n",
      "        22   MinMaxScaler LightGBM                          0:00:54       0.8216    0.8297\n",
      "        23   MinMaxScaler RandomForest                      0:00:56       0.7801    0.8297\n",
      "        24   SparseNormalizer XGBoostClassifier             0:00:55       0.8091    0.8297\n",
      "        25   SparseNormalizer XGBoostClassifier             0:00:50       0.5607    0.8297\n",
      "        26    VotingEnsemble                                0:01:16       0.8423    0.8423\n"
     ]
    },
    {
     "data": {
      "text/plain": [
       "{'runId': 'AutoML_c3359735-5208-4441-a6bb-864e97b28ed6',\n",
       " 'target': 'cpu-cluster',\n",
       " 'status': 'Completed',\n",
       " 'startTimeUtc': '2021-02-03T16:28:06.856215Z',\n",
       " 'endTimeUtc': '2021-02-03T17:07:41.290549Z',\n",
       " 'properties': {'num_iterations': '1000',\n",
       "  'training_type': 'TrainFull',\n",
       "  'acquisition_function': 'EI',\n",
       "  'primary_metric': 'accuracy',\n",
       "  'train_split': '0',\n",
       "  'acquisition_parameter': '0',\n",
       "  'num_cross_validation': '5',\n",
       "  'target': 'cpu-cluster',\n",
       "  'AMLSettingsJsonString': '{\"path\":null,\"name\":\"heart-disease-automl\",\"subscription_id\":\"48a74bb7-9950-4cc1-9caa-5d50f995cc55\",\"resource_group\":\"aml-quickstarts-137106\",\"workspace_name\":\"quick-starts-ws-137106\",\"region\":\"southcentralus\",\"compute_target\":\"cpu-cluster\",\"spark_service\":null,\"azure_service\":\"remote\",\"many_models\":false,\"pipeline_fetch_max_batch_size\":1,\"iterations\":1000,\"primary_metric\":\"accuracy\",\"task_type\":\"classification\",\"data_script\":null,\"validation_size\":0.0,\"n_cross_validations\":5,\"y_min\":null,\"y_max\":null,\"num_classes\":null,\"featurization\":\"auto\",\"_ignore_package_version_incompatibilities\":false,\"is_timeseries\":false,\"max_cores_per_iteration\":1,\"max_concurrent_iterations\":1,\"iteration_timeout_minutes\":null,\"mem_in_mb\":null,\"enforce_time_on_windows\":false,\"experiment_timeout_minutes\":30,\"experiment_exit_score\":null,\"whitelist_models\":null,\"blacklist_algos\":[\"TensorFlowLinearClassifier\",\"TensorFlowDNN\"],\"supported_models\":[\"LightGBM\",\"TensorFlowLinearClassifier\",\"TensorFlowDNN\",\"MultinomialNaiveBayes\",\"GradientBoosting\",\"KNN\",\"LogisticRegression\",\"XGBoostClassifier\",\"SVM\",\"BernoulliNaiveBayes\",\"LinearSVM\",\"SGD\",\"AveragedPerceptronClassifier\",\"RandomForest\",\"DecisionTree\",\"ExtremeRandomTrees\"],\"auto_blacklist\":true,\"blacklist_samples_reached\":false,\"exclude_nan_labels\":true,\"verbosity\":20,\"_debug_log\":\"azureml_automl.log\",\"show_warnings\":false,\"model_explainability\":true,\"service_url\":null,\"sdk_url\":null,\"sdk_packages\":null,\"enable_onnx_compatible_models\":true,\"enable_split_onnx_featurizer_estimator_models\":false,\"vm_type\":\"STANDARD_D2_V2\",\"telemetry_verbosity\":20,\"send_telemetry\":true,\"enable_dnn\":false,\"scenario\":\"SDK-1.13.0\",\"environment_label\":null,\"force_text_dnn\":false,\"enable_feature_sweeping\":false,\"enable_early_stopping\":false,\"early_stopping_n_iters\":10,\"metrics\":null,\"enable_ensembling\":true,\"enable_stack_ensembling\":false,\"ensemble_iterations\":15,\"enable_tf\":false,\"enable_subsampling\":null,\"subsample_seed\":null,\"enable_nimbusml\":false,\"enable_streaming\":false,\"force_streaming\":false,\"track_child_runs\":true,\"allowed_private_models\":[],\"label_column_name\":\"target\",\"weight_column_name\":null,\"cv_split_column_names\":null,\"enable_local_managed\":false,\"_local_managed_run_id\":null,\"cost_mode\":1,\"lag_length\":0,\"metric_operation\":\"maximize\",\"preprocess\":true}',\n",
       "  'DataPrepJsonString': '{\\\\\"training_data\\\\\": \\\\\"{\\\\\\\\\\\\\"blocks\\\\\\\\\\\\\": [{\\\\\\\\\\\\\"id\\\\\\\\\\\\\": \\\\\\\\\\\\\"177ebe48-aeea-4071-b37a-c577385ba661\\\\\\\\\\\\\", \\\\\\\\\\\\\"type\\\\\\\\\\\\\": \\\\\\\\\\\\\"Microsoft.DPrep.GetDatastoreFilesBlock\\\\\\\\\\\\\", \\\\\\\\\\\\\"arguments\\\\\\\\\\\\\": {\\\\\\\\\\\\\"datastores\\\\\\\\\\\\\": [{\\\\\\\\\\\\\"datastoreName\\\\\\\\\\\\\": \\\\\\\\\\\\\"workspaceblobstore\\\\\\\\\\\\\", \\\\\\\\\\\\\"path\\\\\\\\\\\\\": \\\\\\\\\\\\\"Data/train_data.csv\\\\\\\\\\\\\", \\\\\\\\\\\\\"resourceGroup\\\\\\\\\\\\\": \\\\\\\\\\\\\"aml-quickstarts-137106\\\\\\\\\\\\\", \\\\\\\\\\\\\"subscription\\\\\\\\\\\\\": \\\\\\\\\\\\\"48a74bb7-9950-4cc1-9caa-5d50f995cc55\\\\\\\\\\\\\", \\\\\\\\\\\\\"workspaceName\\\\\\\\\\\\\": \\\\\\\\\\\\\"quick-starts-ws-137106\\\\\\\\\\\\\"}]}, \\\\\\\\\\\\\"localData\\\\\\\\\\\\\": {}, \\\\\\\\\\\\\"isEnabled\\\\\\\\\\\\\": true, \\\\\\\\\\\\\"name\\\\\\\\\\\\\": null, \\\\\\\\\\\\\"annotation\\\\\\\\\\\\\": null}, {\\\\\\\\\\\\\"id\\\\\\\\\\\\\": \\\\\\\\\\\\\"247b428b-80a7-427d-80f1-3749a8834444\\\\\\\\\\\\\", \\\\\\\\\\\\\"type\\\\\\\\\\\\\": \\\\\\\\\\\\\"Microsoft.DPrep.ParseDelimitedBlock\\\\\\\\\\\\\", \\\\\\\\\\\\\"arguments\\\\\\\\\\\\\": {\\\\\\\\\\\\\"columnHeadersMode\\\\\\\\\\\\\": 3, \\\\\\\\\\\\\"fileEncoding\\\\\\\\\\\\\": 0, \\\\\\\\\\\\\"handleQuotedLineBreaks\\\\\\\\\\\\\": false, \\\\\\\\\\\\\"preview\\\\\\\\\\\\\": false, \\\\\\\\\\\\\"separator\\\\\\\\\\\\\": \\\\\\\\\\\\\",\\\\\\\\\\\\\", \\\\\\\\\\\\\"skipRows\\\\\\\\\\\\\": 0, \\\\\\\\\\\\\"skipRowsMode\\\\\\\\\\\\\": 0}, \\\\\\\\\\\\\"localData\\\\\\\\\\\\\": {}, \\\\\\\\\\\\\"isEnabled\\\\\\\\\\\\\": true, \\\\\\\\\\\\\"name\\\\\\\\\\\\\": null, \\\\\\\\\\\\\"annotation\\\\\\\\\\\\\": null}, {\\\\\\\\\\\\\"id\\\\\\\\\\\\\": \\\\\\\\\\\\\"7c7b2df2-7fbc-47aa-ac2b-b153487987cf\\\\\\\\\\\\\", \\\\\\\\\\\\\"type\\\\\\\\\\\\\": \\\\\\\\\\\\\"Microsoft.DPrep.DropColumnsBlock\\\\\\\\\\\\\", \\\\\\\\\\\\\"arguments\\\\\\\\\\\\\": {\\\\\\\\\\\\\"columns\\\\\\\\\\\\\": {\\\\\\\\\\\\\"type\\\\\\\\\\\\\": 0, \\\\\\\\\\\\\"details\\\\\\\\\\\\\": {\\\\\\\\\\\\\"selectedColumns\\\\\\\\\\\\\": [\\\\\\\\\\\\\"Path\\\\\\\\\\\\\"]}}}, \\\\\\\\\\\\\"localData\\\\\\\\\\\\\": {}, \\\\\\\\\\\\\"isEnabled\\\\\\\\\\\\\": true, \\\\\\\\\\\\\"name\\\\\\\\\\\\\": null, \\\\\\\\\\\\\"annotation\\\\\\\\\\\\\": null}, {\\\\\\\\\\\\\"id\\\\\\\\\\\\\": \\\\\\\\\\\\\"3bfc79fb-6ffb-4aac-9bb3-fb188b0b074a\\\\\\\\\\\\\", \\\\\\\\\\\\\"type\\\\\\\\\\\\\": \\\\\\\\\\\\\"Microsoft.DPrep.SetColumnTypesBlock\\\\\\\\\\\\\", \\\\\\\\\\\\\"arguments\\\\\\\\\\\\\": {\\\\\\\\\\\\\"columnConversion\\\\\\\\\\\\\": [{\\\\\\\\\\\\\"column\\\\\\\\\\\\\": {\\\\\\\\\\\\\"type\\\\\\\\\\\\\": 2, \\\\\\\\\\\\\"details\\\\\\\\\\\\\": {\\\\\\\\\\\\\"selectedColumn\\\\\\\\\\\\\": \\\\\\\\\\\\\"age\\\\\\\\\\\\\"}}, \\\\\\\\\\\\\"typeProperty\\\\\\\\\\\\\": 2}, {\\\\\\\\\\\\\"column\\\\\\\\\\\\\": {\\\\\\\\\\\\\"type\\\\\\\\\\\\\": 2, \\\\\\\\\\\\\"details\\\\\\\\\\\\\": {\\\\\\\\\\\\\"selectedColumn\\\\\\\\\\\\\": \\\\\\\\\\\\\"resting_BP\\\\\\\\\\\\\"}}, \\\\\\\\\\\\\"typeProperty\\\\\\\\\\\\\": 2}, {\\\\\\\\\\\\\"column\\\\\\\\\\\\\": {\\\\\\\\\\\\\"type\\\\\\\\\\\\\": 2, \\\\\\\\\\\\\"details\\\\\\\\\\\\\": {\\\\\\\\\\\\\"selectedColumn\\\\\\\\\\\\\": \\\\\\\\\\\\\"cholesterol\\\\\\\\\\\\\"}}, \\\\\\\\\\\\\"typeProperty\\\\\\\\\\\\\": 2}, {\\\\\\\\\\\\\"column\\\\\\\\\\\\\": {\\\\\\\\\\\\\"type\\\\\\\\\\\\\": 2, \\\\\\\\\\\\\"details\\\\\\\\\\\\\": {\\\\\\\\\\\\\"selectedColumn\\\\\\\\\\\\\": \\\\\\\\\\\\\"max_heart_rate\\\\\\\\\\\\\"}}, \\\\\\\\\\\\\"typeProperty\\\\\\\\\\\\\": 2}, {\\\\\\\\\\\\\"column\\\\\\\\\\\\\": {\\\\\\\\\\\\\"type\\\\\\\\\\\\\": 2, \\\\\\\\\\\\\"details\\\\\\\\\\\\\": {\\\\\\\\\\\\\"selectedColumn\\\\\\\\\\\\\": \\\\\\\\\\\\\"st_depression\\\\\\\\\\\\\"}}, \\\\\\\\\\\\\"typeProperty\\\\\\\\\\\\\": 3}, {\\\\\\\\\\\\\"column\\\\\\\\\\\\\": {\\\\\\\\\\\\\"type\\\\\\\\\\\\\": 2, \\\\\\\\\\\\\"details\\\\\\\\\\\\\": {\\\\\\\\\\\\\"selectedColumn\\\\\\\\\\\\\": \\\\\\\\\\\\\"sex_1\\\\\\\\\\\\\"}}, \\\\\\\\\\\\\"typeProperty\\\\\\\\\\\\\": 2}, {\\\\\\\\\\\\\"column\\\\\\\\\\\\\": {\\\\\\\\\\\\\"type\\\\\\\\\\\\\": 2, \\\\\\\\\\\\\"details\\\\\\\\\\\\\": {\\\\\\\\\\\\\"selectedColumn\\\\\\\\\\\\\": \\\\\\\\\\\\\"chest_pain_type_1\\\\\\\\\\\\\"}}, \\\\\\\\\\\\\"typeProperty\\\\\\\\\\\\\": 2}, {\\\\\\\\\\\\\"column\\\\\\\\\\\\\": {\\\\\\\\\\\\\"type\\\\\\\\\\\\\": 2, \\\\\\\\\\\\\"details\\\\\\\\\\\\\": {\\\\\\\\\\\\\"selectedColumn\\\\\\\\\\\\\": \\\\\\\\\\\\\"chest_pain_type_2\\\\\\\\\\\\\"}}, \\\\\\\\\\\\\"typeProperty\\\\\\\\\\\\\": 2}, {\\\\\\\\\\\\\"column\\\\\\\\\\\\\": {\\\\\\\\\\\\\"type\\\\\\\\\\\\\": 2, \\\\\\\\\\\\\"details\\\\\\\\\\\\\": {\\\\\\\\\\\\\"selectedColumn\\\\\\\\\\\\\": \\\\\\\\\\\\\"chest_pain_type_3\\\\\\\\\\\\\"}}, \\\\\\\\\\\\\"typeProperty\\\\\\\\\\\\\": 2}, {\\\\\\\\\\\\\"column\\\\\\\\\\\\\": {\\\\\\\\\\\\\"type\\\\\\\\\\\\\": 2, \\\\\\\\\\\\\"details\\\\\\\\\\\\\": {\\\\\\\\\\\\\"selectedColumn\\\\\\\\\\\\\": \\\\\\\\\\\\\"fasting_blood_sugar_1\\\\\\\\\\\\\"}}, \\\\\\\\\\\\\"typeProperty\\\\\\\\\\\\\": 2}, {\\\\\\\\\\\\\"column\\\\\\\\\\\\\": {\\\\\\\\\\\\\"type\\\\\\\\\\\\\": 2, \\\\\\\\\\\\\"details\\\\\\\\\\\\\": {\\\\\\\\\\\\\"selectedColumn\\\\\\\\\\\\\": \\\\\\\\\\\\\"rest_ECG_1\\\\\\\\\\\\\"}}, \\\\\\\\\\\\\"typeProperty\\\\\\\\\\\\\": 2}, {\\\\\\\\\\\\\"column\\\\\\\\\\\\\": {\\\\\\\\\\\\\"type\\\\\\\\\\\\\": 2, \\\\\\\\\\\\\"details\\\\\\\\\\\\\": {\\\\\\\\\\\\\"selectedColumn\\\\\\\\\\\\\": \\\\\\\\\\\\\"rest_ECG_2\\\\\\\\\\\\\"}}, \\\\\\\\\\\\\"typeProperty\\\\\\\\\\\\\": 2}, {\\\\\\\\\\\\\"column\\\\\\\\\\\\\": {\\\\\\\\\\\\\"type\\\\\\\\\\\\\": 2, \\\\\\\\\\\\\"details\\\\\\\\\\\\\": {\\\\\\\\\\\\\"selectedColumn\\\\\\\\\\\\\": \\\\\\\\\\\\\"exercise_induced_angina_1\\\\\\\\\\\\\"}}, \\\\\\\\\\\\\"typeProperty\\\\\\\\\\\\\": 2}, {\\\\\\\\\\\\\"column\\\\\\\\\\\\\": {\\\\\\\\\\\\\"type\\\\\\\\\\\\\": 2, \\\\\\\\\\\\\"details\\\\\\\\\\\\\": {\\\\\\\\\\\\\"selectedColumn\\\\\\\\\\\\\": \\\\\\\\\\\\\"st_slope_1\\\\\\\\\\\\\"}}, \\\\\\\\\\\\\"typeProperty\\\\\\\\\\\\\": 2}, {\\\\\\\\\\\\\"column\\\\\\\\\\\\\": {\\\\\\\\\\\\\"type\\\\\\\\\\\\\": 2, \\\\\\\\\\\\\"details\\\\\\\\\\\\\": {\\\\\\\\\\\\\"selectedColumn\\\\\\\\\\\\\": \\\\\\\\\\\\\"st_slope_2\\\\\\\\\\\\\"}}, \\\\\\\\\\\\\"typeProperty\\\\\\\\\\\\\": 2}, {\\\\\\\\\\\\\"column\\\\\\\\\\\\\": {\\\\\\\\\\\\\"type\\\\\\\\\\\\\": 2, \\\\\\\\\\\\\"details\\\\\\\\\\\\\": {\\\\\\\\\\\\\"selectedColumn\\\\\\\\\\\\\": \\\\\\\\\\\\\"num_major_vessels_1.0\\\\\\\\\\\\\"}}, \\\\\\\\\\\\\"typeProperty\\\\\\\\\\\\\": 2}, {\\\\\\\\\\\\\"column\\\\\\\\\\\\\": {\\\\\\\\\\\\\"type\\\\\\\\\\\\\": 2, \\\\\\\\\\\\\"details\\\\\\\\\\\\\": {\\\\\\\\\\\\\"selectedColumn\\\\\\\\\\\\\": \\\\\\\\\\\\\"num_major_vessels_2.0\\\\\\\\\\\\\"}}, \\\\\\\\\\\\\"typeProperty\\\\\\\\\\\\\": 2}, {\\\\\\\\\\\\\"column\\\\\\\\\\\\\": {\\\\\\\\\\\\\"type\\\\\\\\\\\\\": 2, \\\\\\\\\\\\\"details\\\\\\\\\\\\\": {\\\\\\\\\\\\\"selectedColumn\\\\\\\\\\\\\": \\\\\\\\\\\\\"num_major_vessels_3.0\\\\\\\\\\\\\"}}, \\\\\\\\\\\\\"typeProperty\\\\\\\\\\\\\": 2}, {\\\\\\\\\\\\\"column\\\\\\\\\\\\\": {\\\\\\\\\\\\\"type\\\\\\\\\\\\\": 2, \\\\\\\\\\\\\"details\\\\\\\\\\\\\": {\\\\\\\\\\\\\"selectedColumn\\\\\\\\\\\\\": \\\\\\\\\\\\\"thalassemia_2.0\\\\\\\\\\\\\"}}, \\\\\\\\\\\\\"typeProperty\\\\\\\\\\\\\": 2}, {\\\\\\\\\\\\\"column\\\\\\\\\\\\\": {\\\\\\\\\\\\\"type\\\\\\\\\\\\\": 2, \\\\\\\\\\\\\"details\\\\\\\\\\\\\": {\\\\\\\\\\\\\"selectedColumn\\\\\\\\\\\\\": \\\\\\\\\\\\\"thalassemia_3.0\\\\\\\\\\\\\"}}, \\\\\\\\\\\\\"typeProperty\\\\\\\\\\\\\": 2}, {\\\\\\\\\\\\\"column\\\\\\\\\\\\\": {\\\\\\\\\\\\\"type\\\\\\\\\\\\\": 2, \\\\\\\\\\\\\"details\\\\\\\\\\\\\": {\\\\\\\\\\\\\"selectedColumn\\\\\\\\\\\\\": \\\\\\\\\\\\\"target\\\\\\\\\\\\\"}}, \\\\\\\\\\\\\"typeProperty\\\\\\\\\\\\\": 2}]}, \\\\\\\\\\\\\"localData\\\\\\\\\\\\\": {}, \\\\\\\\\\\\\"isEnabled\\\\\\\\\\\\\": true, \\\\\\\\\\\\\"name\\\\\\\\\\\\\": null, \\\\\\\\\\\\\"annotation\\\\\\\\\\\\\": null}], \\\\\\\\\\\\\"inspectors\\\\\\\\\\\\\": [], \\\\\\\\\\\\\"meta\\\\\\\\\\\\\": {\\\\\\\\\\\\\"savedDatasetId\\\\\\\\\\\\\": \\\\\\\\\\\\\"7a47d8a4-0424-4efe-bc5c-e97578855804\\\\\\\\\\\\\", \\\\\\\\\\\\\"datasetType\\\\\\\\\\\\\": \\\\\\\\\\\\\"tabular\\\\\\\\\\\\\", \\\\\\\\\\\\\"subscriptionId\\\\\\\\\\\\\": \\\\\\\\\\\\\"48a74bb7-9950-4cc1-9caa-5d50f995cc55\\\\\\\\\\\\\", \\\\\\\\\\\\\"workspaceId\\\\\\\\\\\\\": \\\\\\\\\\\\\"504dc4fb-8337-4e64-8ba2-f16140709326\\\\\\\\\\\\\", \\\\\\\\\\\\\"workspaceLocation\\\\\\\\\\\\\": \\\\\\\\\\\\\"southcentralus\\\\\\\\\\\\\"}}\\\\\", \\\\\"activities\\\\\": 0}',\n",
       "  'EnableSubsampling': None,\n",
       "  'runTemplate': 'AutoML',\n",
       "  'azureml.runsource': 'automl',\n",
       "  'display_task_type': 'classification',\n",
       "  'dependencies_versions': '{\"azureml-widgets\": \"1.20.0\", \"azureml-train\": \"1.20.0\", \"azureml-train-restclients-hyperdrive\": \"1.20.0\", \"azureml-train-core\": \"1.20.0\", \"azureml-train-automl\": \"1.20.0\", \"azureml-train-automl-runtime\": \"1.20.0\", \"azureml-train-automl-client\": \"1.20.0\", \"azureml-tensorboard\": \"1.20.0\", \"azureml-telemetry\": \"1.20.0\", \"azureml-sdk\": \"1.20.0\", \"azureml-samples\": \"0+unknown\", \"azureml-pipeline\": \"1.20.0\", \"azureml-pipeline-steps\": \"1.20.0\", \"azureml-pipeline-core\": \"1.20.0\", \"azureml-opendatasets\": \"1.20.0\", \"azureml-model-management-sdk\": \"1.0.1b6.post1\", \"azureml-mlflow\": \"1.20.0.post1\", \"azureml-interpret\": \"1.20.0\", \"azureml-explain-model\": \"1.20.0\", \"azureml-defaults\": \"1.20.0\", \"azureml-dataset-runtime\": \"1.20.0\", \"azureml-dataprep\": \"2.7.3\", \"azureml-dataprep-rslex\": \"1.5.0\", \"azureml-dataprep-native\": \"27.0.0\", \"azureml-datadrift\": \"1.20.0\", \"azureml-core\": \"1.20.0\", \"azureml-contrib-services\": \"1.20.0\", \"azureml-contrib-server\": \"1.20.0\", \"azureml-contrib-reinforcementlearning\": \"1.20.0\", \"azureml-contrib-pipeline-steps\": \"1.20.0\", \"azureml-contrib-notebook\": \"1.20.0\", \"azureml-contrib-interpret\": \"1.20.0\", \"azureml-contrib-gbdt\": \"1.20.0\", \"azureml-contrib-fairness\": \"1.20.0\", \"azureml-contrib-dataset\": \"1.20.0\", \"azureml-cli-common\": \"1.20.0\", \"azureml-automl-runtime\": \"1.20.0\", \"azureml-automl-core\": \"1.20.0\", \"azureml-accel-models\": \"1.20.0\"}',\n",
       "  '_aml_system_scenario_identification': 'Remote.Parent',\n",
       "  'ClientType': 'SDK',\n",
       "  'environment_cpu_name': 'AzureML-AutoML',\n",
       "  'environment_cpu_label': 'prod',\n",
       "  'environment_gpu_name': 'AzureML-AutoML-GPU',\n",
       "  'environment_gpu_label': 'prod',\n",
       "  'root_attribution': 'automl',\n",
       "  'attribution': 'AutoML',\n",
       "  'Orchestrator': 'AutoML',\n",
       "  'CancelUri': 'https://southcentralus.experiments.azureml.net/jasmine/v1.0/subscriptions/48a74bb7-9950-4cc1-9caa-5d50f995cc55/resourceGroups/aml-quickstarts-137106/providers/Microsoft.MachineLearningServices/workspaces/quick-starts-ws-137106/experimentids/54ce643b-1cc8-4923-a1b7-f20f2731130d/cancel/AutoML_c3359735-5208-4441-a6bb-864e97b28ed6',\n",
       "  'ClientSdkVersion': '1.21.0',\n",
       "  'snapshotId': '00000000-0000-0000-0000-000000000000',\n",
       "  'SetupRunId': 'AutoML_c3359735-5208-4441-a6bb-864e97b28ed6_setup',\n",
       "  'SetupRunContainerId': 'dcid.AutoML_c3359735-5208-4441-a6bb-864e97b28ed6_setup',\n",
       "  'FeaturizationRunJsonPath': 'featurizer_container.json',\n",
       "  'FeaturizationRunId': 'AutoML_c3359735-5208-4441-a6bb-864e97b28ed6_featurize',\n",
       "  'ProblemInfoJsonString': '{\"dataset_num_categorical\": 0, \"is_sparse\": false, \"subsampling\": false, \"dataset_classes\": 2, \"dataset_features\": 20, \"dataset_samples\": 241, \"single_frequency_class_detected\": false}',\n",
       "  'ModelExplainRunId': 'AutoML_c3359735-5208-4441-a6bb-864e97b28ed6_ModelExplain',\n",
       "  'azureml.git.repository_uri': 'https://github.com/bharati-21/AZMLND-Capstone-Project.git',\n",
       "  'mlflow.source.git.repoURL': 'https://github.com/bharati-21/AZMLND-Capstone-Project.git',\n",
       "  'azureml.git.branch': 'master',\n",
       "  'mlflow.source.git.branch': 'master',\n",
       "  'azureml.git.commit': 'bda091c38702fc1f0c3f3ef22fca1ec653ec4b06',\n",
       "  'mlflow.source.git.commit': 'bda091c38702fc1f0c3f3ef22fca1ec653ec4b06',\n",
       "  'azureml.git.dirty': 'True'},\n",
       " 'inputDatasets': [{'dataset': {'id': '7a47d8a4-0424-4efe-bc5c-e97578855804'}, 'consumptionDetails': {'type': 'RunInput', 'inputName': 'training_data', 'mechanism': 'Direct'}}],\n",
       " 'outputDatasets': [],\n",
       " 'logFiles': {},\n",
       " 'submittedBy': 'ODL_User 137106'}"
      ]
     },
     "execution_count": 16,
     "metadata": {},
     "output_type": "execute_result"
    }
   ],
   "source": [
    "from azureml.widgets import RunDetails\n",
    "\n",
    "RunDetails(remote_run).show()\n",
    "remote_run.wait_for_completion(show_output=True)"
   ]
  },
  {
   "cell_type": "markdown",
   "metadata": {},
   "source": [
    "## Best Model\n",
    "\n",
    "* The best model was a `Voting Ensemble` algorithm with an accuracy of `0.8423`."
   ]
  },
  {
   "cell_type": "code",
   "execution_count": 17,
   "metadata": {
    "gather": {
     "logged": 1598431425670
    },
    "jupyter": {
     "outputs_hidden": false,
     "source_hidden": false
    },
    "nteract": {
     "transient": {
      "deleting": false
     }
    }
   },
   "outputs": [
    {
     "name": "stderr",
     "output_type": "stream",
     "text": [
      "WARNING:root:The version of the SDK does not match the version the model was trained on.\n",
      "WARNING:root:The consistency in the result may not be guaranteed.\n",
      "WARNING:root:Package:azureml-automl-core, training version:1.21.0, current version:1.20.0\n",
      "Package:azureml-automl-runtime, training version:1.21.0, current version:1.20.0\n",
      "Package:azureml-core, training version:1.21.0.post1, current version:1.20.0\n",
      "Package:azureml-dataprep, training version:2.8.2, current version:2.7.3\n",
      "Package:azureml-dataprep-native, training version:28.0.0, current version:27.0.0\n",
      "Package:azureml-dataprep-rslex, training version:1.6.0, current version:1.5.0\n",
      "Package:azureml-dataset-runtime, training version:1.21.0, current version:1.20.0\n",
      "Package:azureml-defaults, training version:1.21.0, current version:1.20.0\n",
      "Package:azureml-interpret, training version:1.21.0, current version:1.20.0\n",
      "Package:azureml-pipeline-core, training version:1.21.0, current version:1.20.0\n",
      "Package:azureml-telemetry, training version:1.21.0, current version:1.20.0\n",
      "Package:azureml-train-automl-client, training version:1.21.0, current version:1.20.0\n",
      "Package:azureml-train-automl-runtime, training version:1.21.0, current version:1.20.0\n",
      "WARNING:root:Please ensure the version of your local conda dependencies match the version on which your model was trained in order to properly retrieve your model.\n"
     ]
    },
    {
     "name": "stdout",
     "output_type": "stream",
     "text": [
      "Run(Experiment: heart-disease-automl,\n",
      "Id: AutoML_c3359735-5208-4441-a6bb-864e97b28ed6_26,\n",
      "Type: azureml.scriptrun,\n",
      "Status: Completed)\n"
     ]
    }
   ],
   "source": [
    "best_run, fitted_model = remote_run.get_output()\n",
    "print(best_run)"
   ]
  },
  {
   "cell_type": "code",
   "execution_count": 18,
   "metadata": {
    "scrolled": false
   },
   "outputs": [
    {
     "name": "stdout",
     "output_type": "stream",
     "text": [
      "Pipeline(memory=None,\n",
      "         steps=[('datatransformer',\n",
      "                 DataTransformer(enable_dnn=None, enable_feature_sweeping=None,\n",
      "                                 feature_sweeping_config=None,\n",
      "                                 feature_sweeping_timeout=None,\n",
      "                                 featurization_config=None, force_text_dnn=None,\n",
      "                                 is_cross_validation=None,\n",
      "                                 is_onnx_compatible=None, logger=None,\n",
      "                                 observer=None, task=None, working_dir=None)),\n",
      "                ('prefittedsoftvotingclassifier',...\n",
      "                                                                                                    min_weight_fraction_leaf=0.0,\n",
      "                                                                                                    n_estimators=25,\n",
      "                                                                                                    n_jobs=1,\n",
      "                                                                                                    oob_score=True,\n",
      "                                                                                                    random_state=None,\n",
      "                                                                                                    verbose=0,\n",
      "                                                                                                    warm_start=False))],\n",
      "                                                                     verbose=False))],\n",
      "                                               flatten_transform=None,\n",
      "                                               weights=[0.2,\n",
      "                                                        0.13333333333333333,\n",
      "                                                        0.2,\n",
      "                                                        0.06666666666666667,\n",
      "                                                        0.06666666666666667,\n",
      "                                                        0.06666666666666667,\n",
      "                                                        0.06666666666666667,\n",
      "                                                        0.06666666666666667,\n",
      "                                                        0.06666666666666667,\n",
      "                                                        0.06666666666666667]))],\n",
      "         verbose=False)\n"
     ]
    }
   ],
   "source": [
    "print(fitted_model)"
   ]
  },
  {
   "cell_type": "code",
   "execution_count": 19,
   "metadata": {},
   "outputs": [
    {
     "data": {
      "text/plain": [
       "{'_aml_system_azureml.automlComponent': 'AutoML',\n",
       " '_aml_system_ComputeTargetStatus': '{\"AllocationState\":\"steady\",\"PreparingNodeCount\":0,\"RunningNodeCount\":0,\"CurrentNodeCount\":1}',\n",
       " 'ensembled_iterations': '[17, 22, 15, 0, 6, 20, 10, 8, 14, 4]',\n",
       " 'ensembled_algorithms': \"['XGBoostClassifier', 'LightGBM', 'LightGBM', 'LightGBM', 'GradientBoosting', 'ExtremeRandomTrees', 'LightGBM', 'XGBoostClassifier', 'LightGBM', 'RandomForest']\",\n",
       " 'ensemble_weights': '[0.2, 0.13333333333333333, 0.2, 0.06666666666666667, 0.06666666666666667, 0.06666666666666667, 0.06666666666666667, 0.06666666666666667, 0.06666666666666667, 0.06666666666666667]',\n",
       " 'best_individual_pipeline_score': '0.8296768707482993',\n",
       " 'best_individual_iteration': '17',\n",
       " '_aml_system_automl_is_child_run_end_telemetry_event_logged': 'True'}"
      ]
     },
     "execution_count": 19,
     "metadata": {},
     "output_type": "execute_result"
    }
   ],
   "source": [
    "best_run.get_tags()"
   ]
  },
  {
   "cell_type": "code",
   "execution_count": 20,
   "metadata": {
    "gather": {
     "logged": 1598431426111
    },
    "jupyter": {
     "outputs_hidden": false,
     "source_hidden": false
    },
    "nteract": {
     "transient": {
      "deleting": false
     }
    }
   },
   "outputs": [],
   "source": [
    "import joblib\n",
    "from azureml.core.model import Model\n",
    "\n",
    "#TODO: Save the best model\n",
    "description = \"AutoML model trained on the Kaggle Heart Disease UCI Dataset\"\n",
    "\n",
    "os.makedirs('outputs', exist_ok=True)\n",
    "joblib.dump(fitted_model, filename=\"outputs/automl-heart-disease.pkl\")\n",
    "automl_model = remote_run.register_model(model_name='automl-heart-disease', description=description)"
   ]
  },
  {
   "cell_type": "code",
   "execution_count": 21,
   "metadata": {},
   "outputs": [
    {
     "data": {
      "text/plain": [
       "Model(workspace=Workspace.create(name='quick-starts-ws-137106', subscription_id='48a74bb7-9950-4cc1-9caa-5d50f995cc55', resource_group='aml-quickstarts-137106'), name=automl-heart-disease, id=automl-heart-disease:1, version=1, tags={}, properties={})"
      ]
     },
     "execution_count": 21,
     "metadata": {},
     "output_type": "execute_result"
    }
   ],
   "source": [
    "automl_model"
   ]
  },
  {
   "cell_type": "markdown",
   "metadata": {},
   "source": [
    "## ONNX Format\n",
    "* Obtaining an ONNX format model from `get_output()` method and then saving it locally.\n",
    "* The ONNX model is then tested by predicting on the test dataset."
   ]
  },
  {
   "cell_type": "code",
   "execution_count": 22,
   "metadata": {},
   "outputs": [],
   "source": [
    "best_run, onnx_mdl = remote_run.get_output(return_onnx_model=True)"
   ]
  },
  {
   "cell_type": "code",
   "execution_count": 23,
   "metadata": {},
   "outputs": [],
   "source": [
    "from azureml.automl.runtime.onnx_convert import OnnxConverter\n",
    "onnx_fl_path = \"./heart-disease-automl-onnx.onnx\"\n",
    "OnnxConverter.save_onnx_model(onnx_mdl, onnx_fl_path)"
   ]
  },
  {
   "cell_type": "code",
   "execution_count": 25,
   "metadata": {},
   "outputs": [
    {
     "name": "stdout",
     "output_type": "stream",
     "text": [
      "[0 1 1 1 0 1 1 1 0 1 1 0 0 0 1 0 0 0 1 1 0 1 0 0 1 1 1 0 1 0 0 0 1 1 1 0 0\n",
      " 0 0 0 1 1 1 0 1 0 0 1 1 1 1 0 1 1 0 0 0 1 1 1 0]\n",
      "[[0.78050053 0.19162548]\n",
      " [0.19687101 0.82180035]\n",
      " [0.25387788 0.75719845]\n",
      " [0.3790614  0.6172721 ]\n",
      " [0.6737729  0.30987364]\n",
      " [0.41441244 0.5839116 ]\n",
      " [0.23246741 0.78646594]\n",
      " [0.18493311 0.8387934 ]\n",
      " [0.6018187  0.38367268]\n",
      " [0.20872505 0.8045925 ]\n",
      " [0.34728676 0.6617884 ]\n",
      " [0.5496333  0.4387091 ]\n",
      " [0.751331   0.2210846 ]\n",
      " [0.76135063 0.21060821]\n",
      " [0.278318   0.7369645 ]\n",
      " [0.5905689  0.40360814]\n",
      " [0.5814624  0.40357417]\n",
      " [0.51427877 0.4674326 ]\n",
      " [0.21519828 0.7970789 ]\n",
      " [0.32076442 0.68453705]\n",
      " [0.7169296  0.2551699 ]\n",
      " [0.4567275  0.5409703 ]\n",
      " [0.5704504  0.42460567]\n",
      " [0.8485978  0.12171577]\n",
      " [0.15149194 0.873     ]\n",
      " [0.1384215  0.89017516]\n",
      " [0.358358   0.64802927]\n",
      " [0.7488961  0.2252743 ]\n",
      " [0.25180966 0.7629959 ]\n",
      " [0.8431312  0.12689696]\n",
      " [0.59042335 0.39216498]\n",
      " [0.78999126 0.18484798]\n",
      " [0.12338189 0.9064109 ]\n",
      " [0.27094847 0.7359301 ]\n",
      " [0.3535733  0.6476958 ]\n",
      " [0.7567622  0.21931358]\n",
      " [0.59291637 0.39526814]\n",
      " [0.56261635 0.42280453]\n",
      " [0.84333897 0.12796614]\n",
      " [0.66726077 0.31612253]\n",
      " [0.18653038 0.8375274 ]\n",
      " [0.3007597  0.707037  ]\n",
      " [0.13268735 0.8958557 ]\n",
      " [0.6869383  0.2937255 ]\n",
      " [0.15855667 0.8683424 ]\n",
      " [0.71097475 0.26493144]\n",
      " [0.56840765 0.41693503]\n",
      " [0.21198754 0.8108082 ]\n",
      " [0.40014833 0.5998702 ]\n",
      " [0.19868551 0.8180987 ]\n",
      " [0.12951641 0.8984429 ]\n",
      " [0.60497916 0.37720793]\n",
      " [0.12406035 0.9049119 ]\n",
      " [0.13397081 0.8955287 ]\n",
      " [0.6222385  0.36185536]\n",
      " [0.7376339  0.24065843]\n",
      " [0.575044   0.41321588]\n",
      " [0.13995019 0.88528097]\n",
      " [0.2867708  0.7234476 ]\n",
      " [0.22427511 0.7932192 ]\n",
      " [0.6448255  0.33138818]]\n"
     ]
    }
   ],
   "source": [
    "import sys\n",
    "import json\n",
    "from azureml.automl.core.onnx_convert import OnnxConvertConstants\n",
    "from azureml.train.automl import constants\n",
    "\n",
    "if sys.version_info < OnnxConvertConstants.OnnxIncompatiblePythonVersion:\n",
    "    python_version_compatible = True\n",
    "else:\n",
    "    python_version_compatible = False\n",
    "\n",
    "import onnxruntime\n",
    "from azureml.automl.runtime.onnx_convert import OnnxInferenceHelper\n",
    "\n",
    "def get_onnx_res(run):\n",
    "    res_path = 'onnx_resource.json'\n",
    "    run.download_file(name=constants.MODEL_RESOURCE_PATH_ONNX, output_file_path=res_path)\n",
    "    with open(res_path) as f:\n",
    "        onnx_res = json.load(f)\n",
    "    return onnx_res\n",
    "\n",
    "if python_version_compatible:\n",
    "    mdl_bytes = onnx_mdl.SerializeToString()\n",
    "    onnx_res = get_onnx_res(best_run)\n",
    "\n",
    "    onnxrt_helper = OnnxInferenceHelper(mdl_bytes, onnx_res)\n",
    "    pred_onnx, pred_prob_onnx = onnxrt_helper.predict(test_x)\n",
    "\n",
    "    print(pred_onnx)\n",
    "    print(pred_prob_onnx)\n",
    "else:\n",
    "    print('Please use Python version 3.6 or 3.7 to run the inference helper.')\n"
   ]
  },
  {
   "cell_type": "markdown",
   "metadata": {},
   "source": [
    "## Model Deployment\n",
    "\n",
    "Remember you have to deploy only one of the two models you trained.. Perform the steps in the rest of this notebook only if you wish to deploy this model.\n",
    "\n",
    "TODO: In the cell below, register the model, create an inference config and deploy the model as a web service."
   ]
  },
  {
   "cell_type": "code",
   "execution_count": null,
   "metadata": {
    "gather": {
     "logged": 1598431435189
    },
    "jupyter": {
     "outputs_hidden": false,
     "source_hidden": false
    },
    "nteract": {
     "transient": {
      "deleting": false
     }
    }
   },
   "outputs": [],
   "source": []
  },
  {
   "cell_type": "markdown",
   "metadata": {
    "collapsed": true,
    "gather": {
     "logged": 1598431657736
    },
    "jupyter": {
     "outputs_hidden": false,
     "source_hidden": false
    },
    "nteract": {
     "transient": {
      "deleting": false
     }
    }
   },
   "source": [
    "TODO: In the cell below, send a request to the web service you deployed to test it."
   ]
  },
  {
   "cell_type": "code",
   "execution_count": null,
   "metadata": {
    "gather": {
     "logged": 1598432707604
    },
    "jupyter": {
     "outputs_hidden": false,
     "source_hidden": false
    },
    "nteract": {
     "transient": {
      "deleting": false
     }
    }
   },
   "outputs": [],
   "source": []
  },
  {
   "cell_type": "markdown",
   "metadata": {
    "collapsed": true,
    "gather": {
     "logged": 1598432765711
    },
    "jupyter": {
     "outputs_hidden": false,
     "source_hidden": false
    },
    "nteract": {
     "transient": {
      "deleting": false
     }
    }
   },
   "source": [
    "TODO: In the cell below, print the logs of the web service and delete the service"
   ]
  },
  {
   "cell_type": "code",
   "execution_count": null,
   "metadata": {
    "jupyter": {
     "outputs_hidden": false,
     "source_hidden": false
    },
    "nteract": {
     "transient": {
      "deleting": false
     }
    }
   },
   "outputs": [],
   "source": []
  }
 ],
 "metadata": {
  "kernel_info": {
   "name": "python3"
  },
  "kernelspec": {
   "display_name": "Python 3",
   "language": "python",
   "name": "python3"
  },
  "language_info": {
   "codemirror_mode": {
    "name": "ipython",
    "version": 3
   },
   "file_extension": ".py",
   "mimetype": "text/x-python",
   "name": "python",
   "nbconvert_exporter": "python",
   "pygments_lexer": "ipython3",
   "version": "3.8.6"
  },
  "nteract": {
   "version": "nteract-front-end@1.0.0"
  }
 },
 "nbformat": 4,
 "nbformat_minor": 2
}
