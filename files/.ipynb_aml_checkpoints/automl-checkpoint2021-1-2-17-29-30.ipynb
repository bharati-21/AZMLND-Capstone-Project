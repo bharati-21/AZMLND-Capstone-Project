{
 "cells": [
  {
   "cell_type": "markdown",
   "metadata": {},
   "source": [
    "# Automated ML\n",
    "\n",
    "TODO: Import Dependencies. In the cell below, import all the dependencies that you will need to complete the project."
   ]
  },
  {
   "cell_type": "code",
   "execution_count": 1,
   "metadata": {
    "gather": {
     "logged": 1598423888013
    },
    "jupyter": {
     "outputs_hidden": false,
     "source_hidden": false
    },
    "nteract": {
     "transient": {
      "deleting": false
     }
    }
   },
   "outputs": [],
   "source": [
    "from azureml.core import Workspace, Experiment"
   ]
  },
  {
   "cell_type": "markdown",
   "metadata": {},
   "source": [
    "## Dataset\n",
    "\n",
    "### Overview\n",
    "TODO: In this markdown cell, give an overview of the dataset you are using. Also mention the task you will be performing.\n",
    "\n",
    "\n",
    "TODO: Get data. In the cell below, write code to access the data you will be using in this project. Remember that the dataset needs to be external."
   ]
  },
  {
   "cell_type": "code",
   "execution_count": 2,
   "metadata": {
    "gather": {
     "logged": 1598423890461
    },
    "jupyter": {
     "outputs_hidden": false,
     "source_hidden": false
    },
    "nteract": {
     "transient": {
      "deleting": false
     }
    }
   },
   "outputs": [
    {
     "name": "stdout",
     "output_type": "stream",
     "text": [
      "WORKSPACE DETAILS:\n",
      "Workspace name: quick-starts-ws-136928\n",
      "Azure region: southcentralus\n",
      "Subscription id: b968fb36-f06a-4c76-a15f-afab68ae7667\n",
      "Resource group: aml-quickstarts-136928\n",
      "Experiment created\n"
     ]
    }
   ],
   "source": [
    "ws = Workspace.from_config()\n",
    "\n",
    "print('WORKSPACE DETAILS:\\nWorkspace name: ' + ws.name, \n",
    "      'Azure region: ' + ws.location, \n",
    "      'Subscription id: ' + ws.subscription_id, \n",
    "      'Resource group: ' + ws.resource_group, sep = '\\n')\n",
    "\n",
    "# choose a name for experiment\n",
    "experiment_name = 'Heart_Disease_Kaggle_AutoML'\n",
    "\n",
    "experiment=Experiment(ws, experiment_name)\n",
    "print(\"Experiment created\")\n",
    "\n",
    "run = experiment.start_logging()"
   ]
  },
  {
   "cell_type": "code",
   "execution_count": 3,
   "metadata": {},
   "outputs": [
    {
     "name": "stdout",
     "output_type": "stream",
     "text": [
      "Existing compute target found... Using it\n",
      "Succeeded\n",
      "AmlCompute wait for completion finished\n",
      "\n",
      "Minimum number of nodes requested have been provisioned\n"
     ]
    }
   ],
   "source": [
    "from azureml.core.compute import ComputeTarget, AmlCompute\n",
    "from azureml.core.compute_target import ComputeTargetException\n",
    "# Creating a compute cluster\n",
    "# vm_size = \"Standard_D2_V2\"\n",
    "# max_nodes = 4.\n",
    "\n",
    "cpu_cluster_name = \"cpu-cluster\"\n",
    "\n",
    "# to check whether the compute cluster exists already or not\n",
    "try:\n",
    "    cpu_cluster = ComputeTarget(workspace=ws, name=cpu_cluster_name)\n",
    "    print(\"Existing compute target found... Using it\")\n",
    "\n",
    "except ComputeTargetException:\n",
    "    print(\"Creating new Compute Target... \" + cpu_cluster_name)\n",
    "    provisioning_compute_config = AmlCompute.provisioning_configuration(vm_size=\"STANDARD_D2_V2\", max_nodes=4)\n",
    "    cpu_cluster = ComputeTarget.create(ws, cpu_cluster_name, provisioning_compute_config)\n",
    "\n",
    "cpu_cluster.wait_for_completion(show_output=True)"
   ]
  },
  {
   "cell_type": "markdown",
   "metadata": {},
   "source": [
    "## Exploring the Dataset"
   ]
  },
  {
   "cell_type": "code",
   "execution_count": 4,
   "metadata": {},
   "outputs": [],
   "source": [
    "from azureml.data.dataset_factory import TabularDatasetFactory\n",
    "import pandas as pd\n",
    "\n",
    "url_path = \"https://raw.githubusercontent.com/bharati-21/AZMLND-Capstone-Project/master/files/heart.csv\"\n",
    "ds = TabularDatasetFactory.from_delimited_files(path=url_path)\n",
    "\n",
    "df = pd.read_csv(url_path)"
   ]
  },
  {
   "cell_type": "code",
   "execution_count": 5,
   "metadata": {},
   "outputs": [
    {
     "data": {
      "text/html": [
       "<div>\n",
       "<style scoped>\n",
       "    .dataframe tbody tr th:only-of-type {\n",
       "        vertical-align: middle;\n",
       "    }\n",
       "\n",
       "    .dataframe tbody tr th {\n",
       "        vertical-align: top;\n",
       "    }\n",
       "\n",
       "    .dataframe thead th {\n",
       "        text-align: right;\n",
       "    }\n",
       "</style>\n",
       "<table border=\"1\" class=\"dataframe\">\n",
       "  <thead>\n",
       "    <tr style=\"text-align: right;\">\n",
       "      <th></th>\n",
       "      <th>age</th>\n",
       "      <th>sex</th>\n",
       "      <th>cp</th>\n",
       "      <th>trestbps</th>\n",
       "      <th>chol</th>\n",
       "      <th>fbs</th>\n",
       "      <th>restecg</th>\n",
       "      <th>thalach</th>\n",
       "      <th>exang</th>\n",
       "      <th>oldpeak</th>\n",
       "      <th>slope</th>\n",
       "      <th>ca</th>\n",
       "      <th>thal</th>\n",
       "      <th>target</th>\n",
       "    </tr>\n",
       "  </thead>\n",
       "  <tbody>\n",
       "    <tr>\n",
       "      <th>0</th>\n",
       "      <td>63</td>\n",
       "      <td>1</td>\n",
       "      <td>3</td>\n",
       "      <td>145</td>\n",
       "      <td>233</td>\n",
       "      <td>1</td>\n",
       "      <td>0</td>\n",
       "      <td>150</td>\n",
       "      <td>0</td>\n",
       "      <td>2.3</td>\n",
       "      <td>0</td>\n",
       "      <td>0</td>\n",
       "      <td>1</td>\n",
       "      <td>1</td>\n",
       "    </tr>\n",
       "    <tr>\n",
       "      <th>1</th>\n",
       "      <td>37</td>\n",
       "      <td>1</td>\n",
       "      <td>2</td>\n",
       "      <td>130</td>\n",
       "      <td>250</td>\n",
       "      <td>0</td>\n",
       "      <td>1</td>\n",
       "      <td>187</td>\n",
       "      <td>0</td>\n",
       "      <td>3.5</td>\n",
       "      <td>0</td>\n",
       "      <td>0</td>\n",
       "      <td>2</td>\n",
       "      <td>1</td>\n",
       "    </tr>\n",
       "    <tr>\n",
       "      <th>2</th>\n",
       "      <td>41</td>\n",
       "      <td>0</td>\n",
       "      <td>1</td>\n",
       "      <td>130</td>\n",
       "      <td>204</td>\n",
       "      <td>0</td>\n",
       "      <td>0</td>\n",
       "      <td>172</td>\n",
       "      <td>0</td>\n",
       "      <td>1.4</td>\n",
       "      <td>2</td>\n",
       "      <td>0</td>\n",
       "      <td>2</td>\n",
       "      <td>1</td>\n",
       "    </tr>\n",
       "    <tr>\n",
       "      <th>3</th>\n",
       "      <td>56</td>\n",
       "      <td>1</td>\n",
       "      <td>1</td>\n",
       "      <td>120</td>\n",
       "      <td>236</td>\n",
       "      <td>0</td>\n",
       "      <td>1</td>\n",
       "      <td>178</td>\n",
       "      <td>0</td>\n",
       "      <td>0.8</td>\n",
       "      <td>2</td>\n",
       "      <td>0</td>\n",
       "      <td>2</td>\n",
       "      <td>1</td>\n",
       "    </tr>\n",
       "    <tr>\n",
       "      <th>4</th>\n",
       "      <td>57</td>\n",
       "      <td>0</td>\n",
       "      <td>0</td>\n",
       "      <td>120</td>\n",
       "      <td>354</td>\n",
       "      <td>0</td>\n",
       "      <td>1</td>\n",
       "      <td>163</td>\n",
       "      <td>1</td>\n",
       "      <td>0.6</td>\n",
       "      <td>2</td>\n",
       "      <td>0</td>\n",
       "      <td>2</td>\n",
       "      <td>1</td>\n",
       "    </tr>\n",
       "  </tbody>\n",
       "</table>\n",
       "</div>"
      ],
      "text/plain": [
       "   age  sex  cp  trestbps  chol  fbs  restecg  thalach  exang  oldpeak  slope  \\\n",
       "0   63    1   3       145   233    1        0      150      0      2.3      0   \n",
       "1   37    1   2       130   250    0        1      187      0      3.5      0   \n",
       "2   41    0   1       130   204    0        0      172      0      1.4      2   \n",
       "3   56    1   1       120   236    0        1      178      0      0.8      2   \n",
       "4   57    0   0       120   354    0        1      163      1      0.6      2   \n",
       "\n",
       "   ca  thal  target  \n",
       "0   0     1       1  \n",
       "1   0     2       1  \n",
       "2   0     2       1  \n",
       "3   0     2       1  \n",
       "4   0     2       1  "
      ]
     },
     "execution_count": 5,
     "metadata": {},
     "output_type": "execute_result"
    }
   ],
   "source": [
    "ds_dataframe = ds.to_pandas_dataframe()\n",
    "df.head()"
   ]
  },
  {
   "cell_type": "code",
   "execution_count": 11,
   "metadata": {},
   "outputs": [
    {
     "name": "stdout",
     "output_type": "stream",
     "text": [
      "Shape of dataset before split: (302, 21)\n"
     ]
    },
    {
     "data": {
      "text/html": [
       "<div>\n",
       "<style scoped>\n",
       "    .dataframe tbody tr th:only-of-type {\n",
       "        vertical-align: middle;\n",
       "    }\n",
       "\n",
       "    .dataframe tbody tr th {\n",
       "        vertical-align: top;\n",
       "    }\n",
       "\n",
       "    .dataframe thead th {\n",
       "        text-align: right;\n",
       "    }\n",
       "</style>\n",
       "<table border=\"1\" class=\"dataframe\">\n",
       "  <thead>\n",
       "    <tr style=\"text-align: right;\">\n",
       "      <th></th>\n",
       "      <th>age</th>\n",
       "      <th>resting_BP</th>\n",
       "      <th>cholesterol</th>\n",
       "      <th>max_heart_rate</th>\n",
       "      <th>st_depression</th>\n",
       "      <th>sex_1</th>\n",
       "      <th>chest_pain_type_1</th>\n",
       "      <th>chest_pain_type_2</th>\n",
       "      <th>chest_pain_type_3</th>\n",
       "      <th>fasting_blood_sugar_1</th>\n",
       "      <th>rest_ECG_1</th>\n",
       "      <th>rest_ECG_2</th>\n",
       "      <th>exercise_induced_angina_1</th>\n",
       "      <th>st_slope_1</th>\n",
       "      <th>st_slope_2</th>\n",
       "      <th>num_major_vessels_1.0</th>\n",
       "      <th>num_major_vessels_2.0</th>\n",
       "      <th>num_major_vessels_3.0</th>\n",
       "      <th>thalassemia_2.0</th>\n",
       "      <th>thalassemia_3.0</th>\n",
       "    </tr>\n",
       "  </thead>\n",
       "  <tbody>\n",
       "    <tr>\n",
       "      <th>0</th>\n",
       "      <td>63</td>\n",
       "      <td>145</td>\n",
       "      <td>233</td>\n",
       "      <td>150</td>\n",
       "      <td>2.3</td>\n",
       "      <td>1</td>\n",
       "      <td>0</td>\n",
       "      <td>0</td>\n",
       "      <td>1</td>\n",
       "      <td>1</td>\n",
       "      <td>0</td>\n",
       "      <td>0</td>\n",
       "      <td>0</td>\n",
       "      <td>0</td>\n",
       "      <td>0</td>\n",
       "      <td>0</td>\n",
       "      <td>0</td>\n",
       "      <td>0</td>\n",
       "      <td>0</td>\n",
       "      <td>0</td>\n",
       "    </tr>\n",
       "    <tr>\n",
       "      <th>1</th>\n",
       "      <td>37</td>\n",
       "      <td>130</td>\n",
       "      <td>250</td>\n",
       "      <td>187</td>\n",
       "      <td>3.5</td>\n",
       "      <td>1</td>\n",
       "      <td>0</td>\n",
       "      <td>1</td>\n",
       "      <td>0</td>\n",
       "      <td>0</td>\n",
       "      <td>1</td>\n",
       "      <td>0</td>\n",
       "      <td>0</td>\n",
       "      <td>0</td>\n",
       "      <td>0</td>\n",
       "      <td>0</td>\n",
       "      <td>0</td>\n",
       "      <td>0</td>\n",
       "      <td>1</td>\n",
       "      <td>0</td>\n",
       "    </tr>\n",
       "    <tr>\n",
       "      <th>2</th>\n",
       "      <td>41</td>\n",
       "      <td>130</td>\n",
       "      <td>204</td>\n",
       "      <td>172</td>\n",
       "      <td>1.4</td>\n",
       "      <td>0</td>\n",
       "      <td>1</td>\n",
       "      <td>0</td>\n",
       "      <td>0</td>\n",
       "      <td>0</td>\n",
       "      <td>0</td>\n",
       "      <td>0</td>\n",
       "      <td>0</td>\n",
       "      <td>0</td>\n",
       "      <td>1</td>\n",
       "      <td>0</td>\n",
       "      <td>0</td>\n",
       "      <td>0</td>\n",
       "      <td>1</td>\n",
       "      <td>0</td>\n",
       "    </tr>\n",
       "    <tr>\n",
       "      <th>3</th>\n",
       "      <td>56</td>\n",
       "      <td>120</td>\n",
       "      <td>236</td>\n",
       "      <td>178</td>\n",
       "      <td>0.8</td>\n",
       "      <td>1</td>\n",
       "      <td>1</td>\n",
       "      <td>0</td>\n",
       "      <td>0</td>\n",
       "      <td>0</td>\n",
       "      <td>1</td>\n",
       "      <td>0</td>\n",
       "      <td>0</td>\n",
       "      <td>0</td>\n",
       "      <td>1</td>\n",
       "      <td>0</td>\n",
       "      <td>0</td>\n",
       "      <td>0</td>\n",
       "      <td>1</td>\n",
       "      <td>0</td>\n",
       "    </tr>\n",
       "    <tr>\n",
       "      <th>4</th>\n",
       "      <td>57</td>\n",
       "      <td>120</td>\n",
       "      <td>354</td>\n",
       "      <td>163</td>\n",
       "      <td>0.6</td>\n",
       "      <td>0</td>\n",
       "      <td>0</td>\n",
       "      <td>0</td>\n",
       "      <td>0</td>\n",
       "      <td>0</td>\n",
       "      <td>1</td>\n",
       "      <td>0</td>\n",
       "      <td>1</td>\n",
       "      <td>0</td>\n",
       "      <td>1</td>\n",
       "      <td>0</td>\n",
       "      <td>0</td>\n",
       "      <td>0</td>\n",
       "      <td>1</td>\n",
       "      <td>0</td>\n",
       "    </tr>\n",
       "  </tbody>\n",
       "</table>\n",
       "</div>"
      ],
      "text/plain": [
       "   age  resting_BP  cholesterol  max_heart_rate  st_depression  sex_1  \\\n",
       "0   63         145          233             150            2.3      1   \n",
       "1   37         130          250             187            3.5      1   \n",
       "2   41         130          204             172            1.4      0   \n",
       "3   56         120          236             178            0.8      1   \n",
       "4   57         120          354             163            0.6      0   \n",
       "\n",
       "   chest_pain_type_1  chest_pain_type_2  chest_pain_type_3  \\\n",
       "0                  0                  0                  1   \n",
       "1                  0                  1                  0   \n",
       "2                  1                  0                  0   \n",
       "3                  1                  0                  0   \n",
       "4                  0                  0                  0   \n",
       "\n",
       "   fasting_blood_sugar_1  rest_ECG_1  rest_ECG_2  exercise_induced_angina_1  \\\n",
       "0                      1           0           0                          0   \n",
       "1                      0           1           0                          0   \n",
       "2                      0           0           0                          0   \n",
       "3                      0           1           0                          0   \n",
       "4                      0           1           0                          1   \n",
       "\n",
       "   st_slope_1  st_slope_2  num_major_vessels_1.0  num_major_vessels_2.0  \\\n",
       "0           0           0                      0                      0   \n",
       "1           0           0                      0                      0   \n",
       "2           0           1                      0                      0   \n",
       "3           0           1                      0                      0   \n",
       "4           0           1                      0                      0   \n",
       "\n",
       "   num_major_vessels_3.0  thalassemia_2.0  thalassemia_3.0  \n",
       "0                      0                0                0  \n",
       "1                      0                1                0  \n",
       "2                      0                1                0  \n",
       "3                      0                1                0  \n",
       "4                      0                1                0  "
      ]
     },
     "execution_count": 11,
     "metadata": {},
     "output_type": "execute_result"
    }
   ],
   "source": [
    "from train import clean_data\n",
    "\n",
    "# Use the clean_data function to clean your data.\n",
    "x, y = clean_data(ds)\n",
    "x.head()"
   ]
  },
  {
   "cell_type": "code",
   "execution_count": null,
   "metadata": {},
   "outputs": [],
   "source": [
    "# x['target'] = y\n",
    "# x"
   ]
  },
  {
   "cell_type": "code",
   "execution_count": 12,
   "metadata": {},
   "outputs": [
    {
     "name": "stdout",
     "output_type": "stream",
     "text": [
      "Dicrectory 'Data' created...\n"
     ]
    }
   ],
   "source": [
    "import os\n",
    "path = \"./Data\"\n",
    "try:\n",
    "    os.makedirs(path, exist_ok=True)\n",
    "    print(\"Dicrectory 'Data' created...\")\n",
    "except OSError:\n",
    "    print(\"Directory 'Data' cannot be created...\")"
   ]
  },
  {
   "cell_type": "code",
   "execution_count": 13,
   "metadata": {},
   "outputs": [
    {
     "name": "stdout",
     "output_type": "stream",
     "text": [
      "(61, 20) (241, 20) (61,) (241,)\n",
      "(241, 21)\n",
      "(61, 21)\n"
     ]
    }
   ],
   "source": [
    "# split data into test and train sets\n",
    "\n",
    "from sklearn.model_selection import train_test_split\n",
    "import pandas as pd\n",
    "\n",
    "#spliting the data\n",
    "train_x, test_x, train_y, test_y = train_test_split(x, y, test_size = 0.2)\n",
    "print(test_x.shape, train_x.shape, test_y.shape, train_y.shape)\n",
    "\n",
    "train_df = train_x.copy(deep=True)\n",
    "train_df['target'] = train_y\n",
    "print(train_df.shape)\n",
    "\n",
    "test_df = test_x.copy(deep=True)\n",
    "test_df['target'] = test_y\n",
    "print(test_df.shape)\n",
    "\n",
    "# saving test and train data locally\n",
    "train_df.to_csv(\"./Data/train_data.csv\", index = False)\n",
    "test_df.to_csv(\"./Data/test_data.csv\", index = False)"
   ]
  },
  {
   "cell_type": "code",
   "execution_count": 14,
   "metadata": {},
   "outputs": [
    {
     "name": "stdout",
     "output_type": "stream",
     "text": [
      "Uploading an estimated of 2 files\n",
      "Uploading Data/test_data.csv\n",
      "Uploaded Data/test_data.csv, 1 files out of an estimated total of 2\n",
      "Uploading Data/train_data.csv\n",
      "Uploaded Data/train_data.csv, 2 files out of an estimated total of 2\n",
      "Uploaded 2 files\n"
     ]
    },
    {
     "data": {
      "text/plain": [
       "$AZUREML_DATAREFERENCE_82eea1980fca4576912f61663c691301"
      ]
     },
     "execution_count": 14,
     "metadata": {},
     "output_type": "execute_result"
    }
   ],
   "source": [
    "deafult_store = ws.get_default_datastore()\n",
    "deafult_store.upload(src_dir=\"Data\", target_path=\"Data\", overwrite=True)"
   ]
  },
  {
   "cell_type": "code",
   "execution_count": 15,
   "metadata": {},
   "outputs": [],
   "source": [
    "from azureml.core import Dataset\n",
    "\n",
    "train_data = TabularDatasetFactory.from_delimited_files(path=[(deafult_store, ('Data/train_data.csv'))])\n",
    "test_data = TabularDatasetFactory.from_delimited_files(path=[(deafult_store, ('Data/test_data.csv'))])\n"
   ]
  },
  {
   "cell_type": "code",
   "execution_count": 16,
   "metadata": {
    "scrolled": false
   },
   "outputs": [
    {
     "data": {
      "text/html": [
       "<div>\n",
       "<style scoped>\n",
       "    .dataframe tbody tr th:only-of-type {\n",
       "        vertical-align: middle;\n",
       "    }\n",
       "\n",
       "    .dataframe tbody tr th {\n",
       "        vertical-align: top;\n",
       "    }\n",
       "\n",
       "    .dataframe thead th {\n",
       "        text-align: right;\n",
       "    }\n",
       "</style>\n",
       "<table border=\"1\" class=\"dataframe\">\n",
       "  <thead>\n",
       "    <tr style=\"text-align: right;\">\n",
       "      <th></th>\n",
       "      <th>age</th>\n",
       "      <th>resting_BP</th>\n",
       "      <th>cholesterol</th>\n",
       "      <th>max_heart_rate</th>\n",
       "      <th>st_depression</th>\n",
       "      <th>sex_1</th>\n",
       "      <th>chest_pain_type_1</th>\n",
       "      <th>chest_pain_type_2</th>\n",
       "      <th>chest_pain_type_3</th>\n",
       "      <th>fasting_blood_sugar_1</th>\n",
       "      <th>...</th>\n",
       "      <th>rest_ECG_2</th>\n",
       "      <th>exercise_induced_angina_1</th>\n",
       "      <th>st_slope_1</th>\n",
       "      <th>st_slope_2</th>\n",
       "      <th>num_major_vessels_1.0</th>\n",
       "      <th>num_major_vessels_2.0</th>\n",
       "      <th>num_major_vessels_3.0</th>\n",
       "      <th>thalassemia_2.0</th>\n",
       "      <th>thalassemia_3.0</th>\n",
       "      <th>target</th>\n",
       "    </tr>\n",
       "  </thead>\n",
       "  <tbody>\n",
       "    <tr>\n",
       "      <th>0</th>\n",
       "      <td>64</td>\n",
       "      <td>110</td>\n",
       "      <td>211</td>\n",
       "      <td>144</td>\n",
       "      <td>1.8</td>\n",
       "      <td>1</td>\n",
       "      <td>0</td>\n",
       "      <td>0</td>\n",
       "      <td>1</td>\n",
       "      <td>0</td>\n",
       "      <td>...</td>\n",
       "      <td>0</td>\n",
       "      <td>1</td>\n",
       "      <td>1</td>\n",
       "      <td>0</td>\n",
       "      <td>0</td>\n",
       "      <td>0</td>\n",
       "      <td>0</td>\n",
       "      <td>1</td>\n",
       "      <td>0</td>\n",
       "      <td>1</td>\n",
       "    </tr>\n",
       "    <tr>\n",
       "      <th>1</th>\n",
       "      <td>66</td>\n",
       "      <td>160</td>\n",
       "      <td>228</td>\n",
       "      <td>138</td>\n",
       "      <td>2.3</td>\n",
       "      <td>1</td>\n",
       "      <td>0</td>\n",
       "      <td>0</td>\n",
       "      <td>0</td>\n",
       "      <td>0</td>\n",
       "      <td>...</td>\n",
       "      <td>0</td>\n",
       "      <td>0</td>\n",
       "      <td>0</td>\n",
       "      <td>1</td>\n",
       "      <td>0</td>\n",
       "      <td>0</td>\n",
       "      <td>0</td>\n",
       "      <td>0</td>\n",
       "      <td>0</td>\n",
       "      <td>1</td>\n",
       "    </tr>\n",
       "    <tr>\n",
       "      <th>2</th>\n",
       "      <td>55</td>\n",
       "      <td>140</td>\n",
       "      <td>217</td>\n",
       "      <td>111</td>\n",
       "      <td>5.6</td>\n",
       "      <td>1</td>\n",
       "      <td>0</td>\n",
       "      <td>0</td>\n",
       "      <td>0</td>\n",
       "      <td>0</td>\n",
       "      <td>...</td>\n",
       "      <td>0</td>\n",
       "      <td>1</td>\n",
       "      <td>0</td>\n",
       "      <td>0</td>\n",
       "      <td>0</td>\n",
       "      <td>0</td>\n",
       "      <td>0</td>\n",
       "      <td>0</td>\n",
       "      <td>1</td>\n",
       "      <td>0</td>\n",
       "    </tr>\n",
       "    <tr>\n",
       "      <th>3</th>\n",
       "      <td>44</td>\n",
       "      <td>130</td>\n",
       "      <td>219</td>\n",
       "      <td>188</td>\n",
       "      <td>0.0</td>\n",
       "      <td>1</td>\n",
       "      <td>1</td>\n",
       "      <td>0</td>\n",
       "      <td>0</td>\n",
       "      <td>0</td>\n",
       "      <td>...</td>\n",
       "      <td>0</td>\n",
       "      <td>0</td>\n",
       "      <td>0</td>\n",
       "      <td>1</td>\n",
       "      <td>0</td>\n",
       "      <td>0</td>\n",
       "      <td>0</td>\n",
       "      <td>1</td>\n",
       "      <td>0</td>\n",
       "      <td>1</td>\n",
       "    </tr>\n",
       "    <tr>\n",
       "      <th>4</th>\n",
       "      <td>41</td>\n",
       "      <td>110</td>\n",
       "      <td>172</td>\n",
       "      <td>158</td>\n",
       "      <td>0.0</td>\n",
       "      <td>1</td>\n",
       "      <td>0</td>\n",
       "      <td>0</td>\n",
       "      <td>0</td>\n",
       "      <td>0</td>\n",
       "      <td>...</td>\n",
       "      <td>0</td>\n",
       "      <td>0</td>\n",
       "      <td>0</td>\n",
       "      <td>1</td>\n",
       "      <td>0</td>\n",
       "      <td>0</td>\n",
       "      <td>0</td>\n",
       "      <td>0</td>\n",
       "      <td>1</td>\n",
       "      <td>0</td>\n",
       "    </tr>\n",
       "    <tr>\n",
       "      <th>...</th>\n",
       "      <td>...</td>\n",
       "      <td>...</td>\n",
       "      <td>...</td>\n",
       "      <td>...</td>\n",
       "      <td>...</td>\n",
       "      <td>...</td>\n",
       "      <td>...</td>\n",
       "      <td>...</td>\n",
       "      <td>...</td>\n",
       "      <td>...</td>\n",
       "      <td>...</td>\n",
       "      <td>...</td>\n",
       "      <td>...</td>\n",
       "      <td>...</td>\n",
       "      <td>...</td>\n",
       "      <td>...</td>\n",
       "      <td>...</td>\n",
       "      <td>...</td>\n",
       "      <td>...</td>\n",
       "      <td>...</td>\n",
       "      <td>...</td>\n",
       "    </tr>\n",
       "    <tr>\n",
       "      <th>236</th>\n",
       "      <td>48</td>\n",
       "      <td>130</td>\n",
       "      <td>245</td>\n",
       "      <td>180</td>\n",
       "      <td>0.2</td>\n",
       "      <td>1</td>\n",
       "      <td>1</td>\n",
       "      <td>0</td>\n",
       "      <td>0</td>\n",
       "      <td>0</td>\n",
       "      <td>...</td>\n",
       "      <td>0</td>\n",
       "      <td>0</td>\n",
       "      <td>1</td>\n",
       "      <td>0</td>\n",
       "      <td>0</td>\n",
       "      <td>0</td>\n",
       "      <td>0</td>\n",
       "      <td>1</td>\n",
       "      <td>0</td>\n",
       "      <td>1</td>\n",
       "    </tr>\n",
       "    <tr>\n",
       "      <th>237</th>\n",
       "      <td>59</td>\n",
       "      <td>164</td>\n",
       "      <td>176</td>\n",
       "      <td>90</td>\n",
       "      <td>1.0</td>\n",
       "      <td>1</td>\n",
       "      <td>0</td>\n",
       "      <td>0</td>\n",
       "      <td>0</td>\n",
       "      <td>1</td>\n",
       "      <td>...</td>\n",
       "      <td>0</td>\n",
       "      <td>0</td>\n",
       "      <td>1</td>\n",
       "      <td>0</td>\n",
       "      <td>0</td>\n",
       "      <td>1</td>\n",
       "      <td>0</td>\n",
       "      <td>0</td>\n",
       "      <td>0</td>\n",
       "      <td>0</td>\n",
       "    </tr>\n",
       "    <tr>\n",
       "      <th>238</th>\n",
       "      <td>62</td>\n",
       "      <td>150</td>\n",
       "      <td>244</td>\n",
       "      <td>154</td>\n",
       "      <td>1.4</td>\n",
       "      <td>0</td>\n",
       "      <td>0</td>\n",
       "      <td>0</td>\n",
       "      <td>0</td>\n",
       "      <td>0</td>\n",
       "      <td>...</td>\n",
       "      <td>0</td>\n",
       "      <td>1</td>\n",
       "      <td>1</td>\n",
       "      <td>0</td>\n",
       "      <td>0</td>\n",
       "      <td>0</td>\n",
       "      <td>0</td>\n",
       "      <td>1</td>\n",
       "      <td>0</td>\n",
       "      <td>0</td>\n",
       "    </tr>\n",
       "    <tr>\n",
       "      <th>239</th>\n",
       "      <td>65</td>\n",
       "      <td>150</td>\n",
       "      <td>225</td>\n",
       "      <td>114</td>\n",
       "      <td>1.0</td>\n",
       "      <td>0</td>\n",
       "      <td>0</td>\n",
       "      <td>0</td>\n",
       "      <td>0</td>\n",
       "      <td>0</td>\n",
       "      <td>...</td>\n",
       "      <td>0</td>\n",
       "      <td>0</td>\n",
       "      <td>1</td>\n",
       "      <td>0</td>\n",
       "      <td>0</td>\n",
       "      <td>0</td>\n",
       "      <td>1</td>\n",
       "      <td>0</td>\n",
       "      <td>1</td>\n",
       "      <td>0</td>\n",
       "    </tr>\n",
       "    <tr>\n",
       "      <th>240</th>\n",
       "      <td>53</td>\n",
       "      <td>128</td>\n",
       "      <td>216</td>\n",
       "      <td>115</td>\n",
       "      <td>0.0</td>\n",
       "      <td>0</td>\n",
       "      <td>0</td>\n",
       "      <td>1</td>\n",
       "      <td>0</td>\n",
       "      <td>0</td>\n",
       "      <td>...</td>\n",
       "      <td>0</td>\n",
       "      <td>0</td>\n",
       "      <td>0</td>\n",
       "      <td>1</td>\n",
       "      <td>0</td>\n",
       "      <td>0</td>\n",
       "      <td>0</td>\n",
       "      <td>1</td>\n",
       "      <td>0</td>\n",
       "      <td>1</td>\n",
       "    </tr>\n",
       "  </tbody>\n",
       "</table>\n",
       "<p>241 rows × 21 columns</p>\n",
       "</div>"
      ],
      "text/plain": [
       "     age  resting_BP  cholesterol  max_heart_rate  st_depression  sex_1  \\\n",
       "0     64         110          211             144            1.8      1   \n",
       "1     66         160          228             138            2.3      1   \n",
       "2     55         140          217             111            5.6      1   \n",
       "3     44         130          219             188            0.0      1   \n",
       "4     41         110          172             158            0.0      1   \n",
       "..   ...         ...          ...             ...            ...    ...   \n",
       "236   48         130          245             180            0.2      1   \n",
       "237   59         164          176              90            1.0      1   \n",
       "238   62         150          244             154            1.4      0   \n",
       "239   65         150          225             114            1.0      0   \n",
       "240   53         128          216             115            0.0      0   \n",
       "\n",
       "     chest_pain_type_1  chest_pain_type_2  chest_pain_type_3  \\\n",
       "0                    0                  0                  1   \n",
       "1                    0                  0                  0   \n",
       "2                    0                  0                  0   \n",
       "3                    1                  0                  0   \n",
       "4                    0                  0                  0   \n",
       "..                 ...                ...                ...   \n",
       "236                  1                  0                  0   \n",
       "237                  0                  0                  0   \n",
       "238                  0                  0                  0   \n",
       "239                  0                  0                  0   \n",
       "240                  0                  1                  0   \n",
       "\n",
       "     fasting_blood_sugar_1  ...  rest_ECG_2  exercise_induced_angina_1  \\\n",
       "0                        0  ...           0                          1   \n",
       "1                        0  ...           0                          0   \n",
       "2                        0  ...           0                          1   \n",
       "3                        0  ...           0                          0   \n",
       "4                        0  ...           0                          0   \n",
       "..                     ...  ...         ...                        ...   \n",
       "236                      0  ...           0                          0   \n",
       "237                      1  ...           0                          0   \n",
       "238                      0  ...           0                          1   \n",
       "239                      0  ...           0                          0   \n",
       "240                      0  ...           0                          0   \n",
       "\n",
       "     st_slope_1  st_slope_2  num_major_vessels_1.0  num_major_vessels_2.0  \\\n",
       "0             1           0                      0                      0   \n",
       "1             0           1                      0                      0   \n",
       "2             0           0                      0                      0   \n",
       "3             0           1                      0                      0   \n",
       "4             0           1                      0                      0   \n",
       "..          ...         ...                    ...                    ...   \n",
       "236           1           0                      0                      0   \n",
       "237           1           0                      0                      1   \n",
       "238           1           0                      0                      0   \n",
       "239           1           0                      0                      0   \n",
       "240           0           1                      0                      0   \n",
       "\n",
       "     num_major_vessels_3.0  thalassemia_2.0  thalassemia_3.0  target  \n",
       "0                        0                1                0       1  \n",
       "1                        0                0                0       1  \n",
       "2                        0                0                1       0  \n",
       "3                        0                1                0       1  \n",
       "4                        0                0                1       0  \n",
       "..                     ...              ...              ...     ...  \n",
       "236                      0                1                0       1  \n",
       "237                      0                0                0       0  \n",
       "238                      0                1                0       0  \n",
       "239                      1                0                1       0  \n",
       "240                      0                1                0       1  \n",
       "\n",
       "[241 rows x 21 columns]"
      ]
     },
     "execution_count": 16,
     "metadata": {},
     "output_type": "execute_result"
    }
   ],
   "source": [
    "train_data.to_pandas_dataframe()"
   ]
  },
  {
   "cell_type": "code",
   "execution_count": 17,
   "metadata": {},
   "outputs": [
    {
     "data": {
      "text/plain": [
       "({\n",
       "   \"source\": [\n",
       "     \"('workspaceblobstore', 'Data/train_data.csv')\"\n",
       "   ],\n",
       "   \"definition\": [\n",
       "     \"GetDatastoreFiles\",\n",
       "     \"ParseDelimited\",\n",
       "     \"DropColumns\",\n",
       "     \"SetColumnTypes\",\n",
       "     \"DropColumns\"\n",
       "   ]\n",
       " },\n",
       " (241, 21))"
      ]
     },
     "execution_count": 17,
     "metadata": {},
     "output_type": "execute_result"
    }
   ],
   "source": [
    "train_data = train_data.drop_columns('Column1')\n",
    "train_data, train_data.to_pandas_dataframe().shape"
   ]
  },
  {
   "cell_type": "markdown",
   "metadata": {},
   "source": [
    "## AutoML Configuration\n",
    "\n",
    "TODO: Explain why you chose the automl settings and cofiguration you used below."
   ]
  },
  {
   "cell_type": "code",
   "execution_count": 18,
   "metadata": {
    "gather": {
     "logged": 1598429217746
    },
    "jupyter": {
     "outputs_hidden": false,
     "source_hidden": false
    },
    "nteract": {
     "transient": {
      "deleting": false
     }
    }
   },
   "outputs": [
    {
     "name": "stdout",
     "output_type": "stream",
     "text": [
      "AutoML config created.\n"
     ]
    }
   ],
   "source": [
    "from azureml.train.automl import AutoMLConfig\n",
    "\n",
    "# TODO: Put your automl settings here\n",
    "\n",
    "automl_config = AutoMLConfig (\n",
    "    experiment_timeout_minutes = 30,\n",
    "    task = 'classification',\n",
    "    primary_metric = 'accuracy',\n",
    "    training_data = train_data,\n",
    "    label_column_name = \"target\",\n",
    "    n_cross_validations = 5,\n",
    "    enable_onnx_compatible_models = True,\n",
    "    compute_target = cpu_cluster)\n",
    "\n",
    "print(\"AutoML config created.\")"
   ]
  },
  {
   "cell_type": "code",
   "execution_count": 19,
   "metadata": {
    "gather": {
     "logged": 1598431107951
    },
    "jupyter": {
     "outputs_hidden": false,
     "source_hidden": false
    },
    "nteract": {
     "transient": {
      "deleting": false
     }
    }
   },
   "outputs": [
    {
     "name": "stdout",
     "output_type": "stream",
     "text": [
      "Running on remote.\n",
      "No run_configuration provided, running on cpu-cluster with default configuration\n",
      "Running on remote compute: cpu-cluster\n",
      "Parent Run ID: AutoML_161ff06f-d36e-44f5-b85a-6136c55e260f\n",
      "\n",
      "Current status: FeaturesGeneration. Generating features for the dataset.\n",
      "Current status: DatasetCrossValidationSplit. Generating individually featurized CV splits.\n",
      "Current status: ModelSelection. Beginning model selection.\n",
      "\n",
      "****************************************************************************************************\n",
      "DATA GUARDRAILS: \n",
      "\n",
      "TYPE:         Class balancing detection\n",
      "STATUS:       PASSED\n",
      "DESCRIPTION:  Your inputs were analyzed, and all classes are balanced in your training data.\n",
      "              Learn more about imbalanced data: https://aka.ms/AutomatedMLImbalancedData\n",
      "\n",
      "****************************************************************************************************\n",
      "\n",
      "TYPE:         Missing feature values imputation\n",
      "STATUS:       PASSED\n",
      "DESCRIPTION:  No feature missing values were detected in the training data.\n",
      "              Learn more about missing value imputation: https://aka.ms/AutomatedMLFeaturization\n",
      "\n",
      "****************************************************************************************************\n",
      "\n",
      "TYPE:         High cardinality feature detection\n",
      "STATUS:       PASSED\n",
      "DESCRIPTION:  Your inputs were analyzed, and no high cardinality features were detected.\n",
      "              Learn more about high cardinality feature handling: https://aka.ms/AutomatedMLFeaturization\n",
      "\n",
      "****************************************************************************************************\n",
      "\n",
      "****************************************************************************************************\n",
      "ITERATION: The iteration being evaluated.\n",
      "PIPELINE: A summary description of the pipeline being evaluated.\n",
      "DURATION: Time taken for the current iteration.\n",
      "METRIC: The result of computing score on the fitted pipeline.\n",
      "BEST: The best observed score thus far.\n",
      "****************************************************************************************************\n",
      "\n",
      " ITERATION   PIPELINE                                       DURATION      METRIC      BEST\n",
      "         0   MaxAbsScaler LightGBM                          0:00:55       0.8132    0.8132\n",
      "         1   MaxAbsScaler XGBoostClassifier                 0:00:57       0.8007    0.8132\n",
      "         2   MinMaxScaler RandomForest                      0:01:00       0.7593    0.8132\n",
      "         3   MinMaxScaler RandomForest                      0:00:49       0.7798    0.8132\n",
      "         4   MinMaxScaler RandomForest                      0:00:49       0.7797    0.8132\n",
      "         5   MinMaxScaler SVM                               0:00:52       0.7840    0.8132\n",
      "         6   MaxAbsScaler GradientBoosting                  0:00:48       0.8130    0.8132\n",
      "         7   StandardScalerWrapper RandomForest             0:00:49       0.7964    0.8132\n",
      "         8   SparseNormalizer XGBoostClassifier             0:00:55       0.7839    0.8132\n",
      "         9   SparseNormalizer LightGBM                      0:00:57       0.7717    0.8132\n",
      "        10   RobustScaler RandomForest                      0:00:52       0.7800    0.8132\n",
      "        11   MaxAbsScaler LightGBM                          0:00:52       0.7719    0.8132\n",
      "        12   RobustScaler ExtremeRandomTrees                0:00:52       0.7591    0.8132\n",
      "        13   SparseNormalizer XGBoostClassifier             0:00:50       0.7634    0.8132\n",
      "        14   StandardScalerWrapper GradientBoosting         0:00:52       0.7677    0.8132\n",
      "        15   StandardScalerWrapper XGBoostClassifier        0:00:56       0.7632    0.8132\n",
      "        16   StandardScalerWrapper ExtremeRandomTrees       0:00:52       0.7425    0.8132\n",
      "        17   StandardScalerWrapper ExtremeRandomTrees       0:00:49       0.8173    0.8173\n",
      "        18   RobustScaler ExtremeRandomTrees                0:00:57       0.7592    0.8173\n",
      "        19   StandardScalerWrapper XGBoostClassifier        0:00:49       0.7798    0.8173\n",
      "        20   StandardScalerWrapper XGBoostClassifier        0:00:53       0.7963    0.8173\n",
      "        21   SparseNormalizer XGBoostClassifier             0:00:55       0.7839    0.8173\n",
      "        22   SparseNormalizer XGBoostClassifier             0:00:54       0.7923    0.8173\n",
      "        23   MaxAbsScaler RandomForest                      0:01:02       0.8131    0.8173\n",
      "        24   SparseNormalizer XGBoostClassifier             0:00:52       0.7427    0.8173\n",
      "        25   StandardScalerWrapper ExtremeRandomTrees       0:01:01       0.5233    0.8173\n",
      "        26    VotingEnsemble                                0:01:46       0.8255    0.8255\n"
     ]
    }
   ],
   "source": [
    "# TODO: Submit your experiment\n",
    "remote_run = experiment.submit(automl_config, show_output = True)"
   ]
  },
  {
   "cell_type": "markdown",
   "metadata": {},
   "source": [
    "## Run Details\n",
    "\n",
    "OPTIONAL: Write about the different models trained and their performance. Why do you think some models did better than others?\n",
    "\n",
    "TODO: In the cell below, use the `RunDetails` widget to show the different experiments."
   ]
  },
  {
   "cell_type": "code",
   "execution_count": 20,
   "metadata": {
    "gather": {
     "logged": 1598431121770
    },
    "jupyter": {
     "outputs_hidden": false,
     "source_hidden": false
    },
    "nteract": {
     "transient": {
      "deleting": false
     }
    },
    "scrolled": false
   },
   "outputs": [
    {
     "data": {
      "application/vnd.jupyter.widget-view+json": {
       "model_id": "3d559ed261c949c8bb5ea5f140067f8c",
       "version_major": 2,
       "version_minor": 0
      },
      "text/plain": [
       "_AutoMLWidget(widget_settings={'childWidgetDisplay': 'popup', 'send_telemetry': False, 'log_level': 'INFO', 's…"
      ]
     },
     "metadata": {},
     "output_type": "display_data"
    },
    {
     "data": {
      "application/aml.mini.widget.v1": "{\"status\": \"Completed\", \"workbench_run_details_uri\": \"https://ml.azure.com/experiments/Heart_Disease_Kaggle_AutoML/runs/AutoML_161ff06f-d36e-44f5-b85a-6136c55e260f?wsid=/subscriptions/b968fb36-f06a-4c76-a15f-afab68ae7667/resourcegroups/aml-quickstarts-136928/workspaces/quick-starts-ws-136928\", \"run_id\": \"AutoML_161ff06f-d36e-44f5-b85a-6136c55e260f\", \"run_properties\": {\"run_id\": \"AutoML_161ff06f-d36e-44f5-b85a-6136c55e260f\", \"created_utc\": \"2021-02-02T10:08:46.616575Z\", \"properties\": {\"num_iterations\": \"1000\", \"training_type\": \"TrainFull\", \"acquisition_function\": \"EI\", \"primary_metric\": \"accuracy\", \"train_split\": \"0\", \"acquisition_parameter\": \"0\", \"num_cross_validation\": \"5\", \"target\": \"cpu-cluster\", \"AMLSettingsJsonString\": \"{\\\"path\\\":null,\\\"name\\\":\\\"Heart_Disease_Kaggle_AutoML\\\",\\\"subscription_id\\\":\\\"b968fb36-f06a-4c76-a15f-afab68ae7667\\\",\\\"resource_group\\\":\\\"aml-quickstarts-136928\\\",\\\"workspace_name\\\":\\\"quick-starts-ws-136928\\\",\\\"region\\\":\\\"southcentralus\\\",\\\"compute_target\\\":\\\"cpu-cluster\\\",\\\"spark_service\\\":null,\\\"azure_service\\\":\\\"remote\\\",\\\"many_models\\\":false,\\\"pipeline_fetch_max_batch_size\\\":1,\\\"iterations\\\":1000,\\\"primary_metric\\\":\\\"accuracy\\\",\\\"task_type\\\":\\\"classification\\\",\\\"data_script\\\":null,\\\"validation_size\\\":0.0,\\\"n_cross_validations\\\":5,\\\"y_min\\\":null,\\\"y_max\\\":null,\\\"num_classes\\\":null,\\\"featurization\\\":\\\"auto\\\",\\\"_ignore_package_version_incompatibilities\\\":false,\\\"is_timeseries\\\":false,\\\"max_cores_per_iteration\\\":1,\\\"max_concurrent_iterations\\\":1,\\\"iteration_timeout_minutes\\\":null,\\\"mem_in_mb\\\":null,\\\"enforce_time_on_windows\\\":false,\\\"experiment_timeout_minutes\\\":30,\\\"experiment_exit_score\\\":null,\\\"whitelist_models\\\":null,\\\"blacklist_algos\\\":[\\\"TensorFlowLinearClassifier\\\",\\\"TensorFlowDNN\\\"],\\\"supported_models\\\":[\\\"RandomForest\\\",\\\"TensorFlowDNN\\\",\\\"MultinomialNaiveBayes\\\",\\\"SGD\\\",\\\"SVM\\\",\\\"KNN\\\",\\\"XGBoostClassifier\\\",\\\"AveragedPerceptronClassifier\\\",\\\"TensorFlowLinearClassifier\\\",\\\"LightGBM\\\",\\\"LinearSVM\\\",\\\"DecisionTree\\\",\\\"BernoulliNaiveBayes\\\",\\\"LogisticRegression\\\",\\\"ExtremeRandomTrees\\\",\\\"GradientBoosting\\\"],\\\"auto_blacklist\\\":true,\\\"blacklist_samples_reached\\\":false,\\\"exclude_nan_labels\\\":true,\\\"verbosity\\\":20,\\\"_debug_log\\\":\\\"azureml_automl.log\\\",\\\"show_warnings\\\":false,\\\"model_explainability\\\":true,\\\"service_url\\\":null,\\\"sdk_url\\\":null,\\\"sdk_packages\\\":null,\\\"enable_onnx_compatible_models\\\":true,\\\"enable_split_onnx_featurizer_estimator_models\\\":false,\\\"vm_type\\\":\\\"STANDARD_D2_V2\\\",\\\"telemetry_verbosity\\\":20,\\\"send_telemetry\\\":true,\\\"enable_dnn\\\":false,\\\"scenario\\\":\\\"SDK-1.13.0\\\",\\\"environment_label\\\":null,\\\"force_text_dnn\\\":false,\\\"enable_feature_sweeping\\\":false,\\\"enable_early_stopping\\\":false,\\\"early_stopping_n_iters\\\":10,\\\"metrics\\\":null,\\\"enable_ensembling\\\":true,\\\"enable_stack_ensembling\\\":false,\\\"ensemble_iterations\\\":15,\\\"enable_tf\\\":false,\\\"enable_subsampling\\\":null,\\\"subsample_seed\\\":null,\\\"enable_nimbusml\\\":false,\\\"enable_streaming\\\":false,\\\"force_streaming\\\":false,\\\"track_child_runs\\\":true,\\\"allowed_private_models\\\":[],\\\"label_column_name\\\":\\\"target\\\",\\\"weight_column_name\\\":null,\\\"cv_split_column_names\\\":null,\\\"enable_local_managed\\\":false,\\\"_local_managed_run_id\\\":null,\\\"cost_mode\\\":1,\\\"lag_length\\\":0,\\\"metric_operation\\\":\\\"maximize\\\",\\\"preprocess\\\":true}\", \"DataPrepJsonString\": \"{\\\\\\\"training_data\\\\\\\": \\\\\\\"{\\\\\\\\\\\\\\\"blocks\\\\\\\\\\\\\\\": [{\\\\\\\\\\\\\\\"id\\\\\\\\\\\\\\\": \\\\\\\\\\\\\\\"6a6447cc-9f61-4703-9070-aa829175b9f1\\\\\\\\\\\\\\\", \\\\\\\\\\\\\\\"type\\\\\\\\\\\\\\\": \\\\\\\\\\\\\\\"Microsoft.DPrep.GetDatastoreFilesBlock\\\\\\\\\\\\\\\", \\\\\\\\\\\\\\\"arguments\\\\\\\\\\\\\\\": {\\\\\\\\\\\\\\\"datastores\\\\\\\\\\\\\\\": [{\\\\\\\\\\\\\\\"datastoreName\\\\\\\\\\\\\\\": \\\\\\\\\\\\\\\"workspaceblobstore\\\\\\\\\\\\\\\", \\\\\\\\\\\\\\\"path\\\\\\\\\\\\\\\": \\\\\\\\\\\\\\\"Data/train_data.csv\\\\\\\\\\\\\\\", \\\\\\\\\\\\\\\"resourceGroup\\\\\\\\\\\\\\\": \\\\\\\\\\\\\\\"aml-quickstarts-136928\\\\\\\\\\\\\\\", \\\\\\\\\\\\\\\"subscription\\\\\\\\\\\\\\\": \\\\\\\\\\\\\\\"b968fb36-f06a-4c76-a15f-afab68ae7667\\\\\\\\\\\\\\\", \\\\\\\\\\\\\\\"workspaceName\\\\\\\\\\\\\\\": \\\\\\\\\\\\\\\"quick-starts-ws-136928\\\\\\\\\\\\\\\"}]}, \\\\\\\\\\\\\\\"localData\\\\\\\\\\\\\\\": {}, \\\\\\\\\\\\\\\"isEnabled\\\\\\\\\\\\\\\": true, \\\\\\\\\\\\\\\"name\\\\\\\\\\\\\\\": null, \\\\\\\\\\\\\\\"annotation\\\\\\\\\\\\\\\": null}, {\\\\\\\\\\\\\\\"id\\\\\\\\\\\\\\\": \\\\\\\\\\\\\\\"d13918e4-eb8e-46ae-9729-2245863ba2cb\\\\\\\\\\\\\\\", \\\\\\\\\\\\\\\"type\\\\\\\\\\\\\\\": \\\\\\\\\\\\\\\"Microsoft.DPrep.ParseDelimitedBlock\\\\\\\\\\\\\\\", \\\\\\\\\\\\\\\"arguments\\\\\\\\\\\\\\\": {\\\\\\\\\\\\\\\"columnHeadersMode\\\\\\\\\\\\\\\": 3, \\\\\\\\\\\\\\\"fileEncoding\\\\\\\\\\\\\\\": 0, \\\\\\\\\\\\\\\"handleQuotedLineBreaks\\\\\\\\\\\\\\\": false, \\\\\\\\\\\\\\\"preview\\\\\\\\\\\\\\\": false, \\\\\\\\\\\\\\\"separator\\\\\\\\\\\\\\\": \\\\\\\\\\\\\\\",\\\\\\\\\\\\\\\", \\\\\\\\\\\\\\\"skipRows\\\\\\\\\\\\\\\": 0, \\\\\\\\\\\\\\\"skipRowsMode\\\\\\\\\\\\\\\": 0}, \\\\\\\\\\\\\\\"localData\\\\\\\\\\\\\\\": {}, \\\\\\\\\\\\\\\"isEnabled\\\\\\\\\\\\\\\": true, \\\\\\\\\\\\\\\"name\\\\\\\\\\\\\\\": null, \\\\\\\\\\\\\\\"annotation\\\\\\\\\\\\\\\": null}, {\\\\\\\\\\\\\\\"id\\\\\\\\\\\\\\\": \\\\\\\\\\\\\\\"e73708c6-a190-40b5-b34d-f508dea80532\\\\\\\\\\\\\\\", \\\\\\\\\\\\\\\"type\\\\\\\\\\\\\\\": \\\\\\\\\\\\\\\"Microsoft.DPrep.DropColumnsBlock\\\\\\\\\\\\\\\", \\\\\\\\\\\\\\\"arguments\\\\\\\\\\\\\\\": {\\\\\\\\\\\\\\\"columns\\\\\\\\\\\\\\\": {\\\\\\\\\\\\\\\"type\\\\\\\\\\\\\\\": 0, \\\\\\\\\\\\\\\"details\\\\\\\\\\\\\\\": {\\\\\\\\\\\\\\\"selectedColumns\\\\\\\\\\\\\\\": [\\\\\\\\\\\\\\\"Path\\\\\\\\\\\\\\\"]}}}, \\\\\\\\\\\\\\\"localData\\\\\\\\\\\\\\\": {}, \\\\\\\\\\\\\\\"isEnabled\\\\\\\\\\\\\\\": true, \\\\\\\\\\\\\\\"name\\\\\\\\\\\\\\\": null, \\\\\\\\\\\\\\\"annotation\\\\\\\\\\\\\\\": null}, {\\\\\\\\\\\\\\\"id\\\\\\\\\\\\\\\": \\\\\\\\\\\\\\\"b797224e-3817-4e39-a634-455b9643748c\\\\\\\\\\\\\\\", \\\\\\\\\\\\\\\"type\\\\\\\\\\\\\\\": \\\\\\\\\\\\\\\"Microsoft.DPrep.SetColumnTypesBlock\\\\\\\\\\\\\\\", \\\\\\\\\\\\\\\"arguments\\\\\\\\\\\\\\\": {\\\\\\\\\\\\\\\"columnConversion\\\\\\\\\\\\\\\": [{\\\\\\\\\\\\\\\"column\\\\\\\\\\\\\\\": {\\\\\\\\\\\\\\\"type\\\\\\\\\\\\\\\": 2, \\\\\\\\\\\\\\\"details\\\\\\\\\\\\\\\": {\\\\\\\\\\\\\\\"selectedColumn\\\\\\\\\\\\\\\": \\\\\\\\\\\\\\\"age\\\\\\\\\\\\\\\"}}, \\\\\\\\\\\\\\\"typeProperty\\\\\\\\\\\\\\\": 2}, {\\\\\\\\\\\\\\\"column\\\\\\\\\\\\\\\": {\\\\\\\\\\\\\\\"type\\\\\\\\\\\\\\\": 2, \\\\\\\\\\\\\\\"details\\\\\\\\\\\\\\\": {\\\\\\\\\\\\\\\"selectedColumn\\\\\\\\\\\\\\\": \\\\\\\\\\\\\\\"resting_BP\\\\\\\\\\\\\\\"}}, \\\\\\\\\\\\\\\"typeProperty\\\\\\\\\\\\\\\": 2}, {\\\\\\\\\\\\\\\"column\\\\\\\\\\\\\\\": {\\\\\\\\\\\\\\\"type\\\\\\\\\\\\\\\": 2, \\\\\\\\\\\\\\\"details\\\\\\\\\\\\\\\": {\\\\\\\\\\\\\\\"selectedColumn\\\\\\\\\\\\\\\": \\\\\\\\\\\\\\\"cholesterol\\\\\\\\\\\\\\\"}}, \\\\\\\\\\\\\\\"typeProperty\\\\\\\\\\\\\\\": 2}, {\\\\\\\\\\\\\\\"column\\\\\\\\\\\\\\\": {\\\\\\\\\\\\\\\"type\\\\\\\\\\\\\\\": 2, \\\\\\\\\\\\\\\"details\\\\\\\\\\\\\\\": {\\\\\\\\\\\\\\\"selectedColumn\\\\\\\\\\\\\\\": \\\\\\\\\\\\\\\"max_heart_rate\\\\\\\\\\\\\\\"}}, \\\\\\\\\\\\\\\"typeProperty\\\\\\\\\\\\\\\": 2}, {\\\\\\\\\\\\\\\"column\\\\\\\\\\\\\\\": {\\\\\\\\\\\\\\\"type\\\\\\\\\\\\\\\": 2, \\\\\\\\\\\\\\\"details\\\\\\\\\\\\\\\": {\\\\\\\\\\\\\\\"selectedColumn\\\\\\\\\\\\\\\": \\\\\\\\\\\\\\\"st_depression\\\\\\\\\\\\\\\"}}, \\\\\\\\\\\\\\\"typeProperty\\\\\\\\\\\\\\\": 3}, {\\\\\\\\\\\\\\\"column\\\\\\\\\\\\\\\": {\\\\\\\\\\\\\\\"type\\\\\\\\\\\\\\\": 2, \\\\\\\\\\\\\\\"details\\\\\\\\\\\\\\\": {\\\\\\\\\\\\\\\"selectedColumn\\\\\\\\\\\\\\\": \\\\\\\\\\\\\\\"sex_1\\\\\\\\\\\\\\\"}}, \\\\\\\\\\\\\\\"typeProperty\\\\\\\\\\\\\\\": 2}, {\\\\\\\\\\\\\\\"column\\\\\\\\\\\\\\\": {\\\\\\\\\\\\\\\"type\\\\\\\\\\\\\\\": 2, \\\\\\\\\\\\\\\"details\\\\\\\\\\\\\\\": {\\\\\\\\\\\\\\\"selectedColumn\\\\\\\\\\\\\\\": \\\\\\\\\\\\\\\"chest_pain_type_1\\\\\\\\\\\\\\\"}}, \\\\\\\\\\\\\\\"typeProperty\\\\\\\\\\\\\\\": 2}, {\\\\\\\\\\\\\\\"column\\\\\\\\\\\\\\\": {\\\\\\\\\\\\\\\"type\\\\\\\\\\\\\\\": 2, \\\\\\\\\\\\\\\"details\\\\\\\\\\\\\\\": {\\\\\\\\\\\\\\\"selectedColumn\\\\\\\\\\\\\\\": \\\\\\\\\\\\\\\"chest_pain_type_2\\\\\\\\\\\\\\\"}}, \\\\\\\\\\\\\\\"typeProperty\\\\\\\\\\\\\\\": 2}, {\\\\\\\\\\\\\\\"column\\\\\\\\\\\\\\\": {\\\\\\\\\\\\\\\"type\\\\\\\\\\\\\\\": 2, \\\\\\\\\\\\\\\"details\\\\\\\\\\\\\\\": {\\\\\\\\\\\\\\\"selectedColumn\\\\\\\\\\\\\\\": \\\\\\\\\\\\\\\"chest_pain_type_3\\\\\\\\\\\\\\\"}}, \\\\\\\\\\\\\\\"typeProperty\\\\\\\\\\\\\\\": 2}, {\\\\\\\\\\\\\\\"column\\\\\\\\\\\\\\\": {\\\\\\\\\\\\\\\"type\\\\\\\\\\\\\\\": 2, \\\\\\\\\\\\\\\"details\\\\\\\\\\\\\\\": {\\\\\\\\\\\\\\\"selectedColumn\\\\\\\\\\\\\\\": \\\\\\\\\\\\\\\"fasting_blood_sugar_1\\\\\\\\\\\\\\\"}}, \\\\\\\\\\\\\\\"typeProperty\\\\\\\\\\\\\\\": 2}, {\\\\\\\\\\\\\\\"column\\\\\\\\\\\\\\\": {\\\\\\\\\\\\\\\"type\\\\\\\\\\\\\\\": 2, \\\\\\\\\\\\\\\"details\\\\\\\\\\\\\\\": {\\\\\\\\\\\\\\\"selectedColumn\\\\\\\\\\\\\\\": \\\\\\\\\\\\\\\"rest_ECG_1\\\\\\\\\\\\\\\"}}, \\\\\\\\\\\\\\\"typeProperty\\\\\\\\\\\\\\\": 2}, {\\\\\\\\\\\\\\\"column\\\\\\\\\\\\\\\": {\\\\\\\\\\\\\\\"type\\\\\\\\\\\\\\\": 2, \\\\\\\\\\\\\\\"details\\\\\\\\\\\\\\\": {\\\\\\\\\\\\\\\"selectedColumn\\\\\\\\\\\\\\\": \\\\\\\\\\\\\\\"rest_ECG_2\\\\\\\\\\\\\\\"}}, \\\\\\\\\\\\\\\"typeProperty\\\\\\\\\\\\\\\": 2}, {\\\\\\\\\\\\\\\"column\\\\\\\\\\\\\\\": {\\\\\\\\\\\\\\\"type\\\\\\\\\\\\\\\": 2, \\\\\\\\\\\\\\\"details\\\\\\\\\\\\\\\": {\\\\\\\\\\\\\\\"selectedColumn\\\\\\\\\\\\\\\": \\\\\\\\\\\\\\\"exercise_induced_angina_1\\\\\\\\\\\\\\\"}}, \\\\\\\\\\\\\\\"typeProperty\\\\\\\\\\\\\\\": 2}, {\\\\\\\\\\\\\\\"column\\\\\\\\\\\\\\\": {\\\\\\\\\\\\\\\"type\\\\\\\\\\\\\\\": 2, \\\\\\\\\\\\\\\"details\\\\\\\\\\\\\\\": {\\\\\\\\\\\\\\\"selectedColumn\\\\\\\\\\\\\\\": \\\\\\\\\\\\\\\"st_slope_1\\\\\\\\\\\\\\\"}}, \\\\\\\\\\\\\\\"typeProperty\\\\\\\\\\\\\\\": 2}, {\\\\\\\\\\\\\\\"column\\\\\\\\\\\\\\\": {\\\\\\\\\\\\\\\"type\\\\\\\\\\\\\\\": 2, \\\\\\\\\\\\\\\"details\\\\\\\\\\\\\\\": {\\\\\\\\\\\\\\\"selectedColumn\\\\\\\\\\\\\\\": \\\\\\\\\\\\\\\"st_slope_2\\\\\\\\\\\\\\\"}}, \\\\\\\\\\\\\\\"typeProperty\\\\\\\\\\\\\\\": 2}, {\\\\\\\\\\\\\\\"column\\\\\\\\\\\\\\\": {\\\\\\\\\\\\\\\"type\\\\\\\\\\\\\\\": 2, \\\\\\\\\\\\\\\"details\\\\\\\\\\\\\\\": {\\\\\\\\\\\\\\\"selectedColumn\\\\\\\\\\\\\\\": \\\\\\\\\\\\\\\"num_major_vessels_1.0\\\\\\\\\\\\\\\"}}, \\\\\\\\\\\\\\\"typeProperty\\\\\\\\\\\\\\\": 2}, {\\\\\\\\\\\\\\\"column\\\\\\\\\\\\\\\": {\\\\\\\\\\\\\\\"type\\\\\\\\\\\\\\\": 2, \\\\\\\\\\\\\\\"details\\\\\\\\\\\\\\\": {\\\\\\\\\\\\\\\"selectedColumn\\\\\\\\\\\\\\\": \\\\\\\\\\\\\\\"num_major_vessels_2.0\\\\\\\\\\\\\\\"}}, \\\\\\\\\\\\\\\"typeProperty\\\\\\\\\\\\\\\": 2}, {\\\\\\\\\\\\\\\"column\\\\\\\\\\\\\\\": {\\\\\\\\\\\\\\\"type\\\\\\\\\\\\\\\": 2, \\\\\\\\\\\\\\\"details\\\\\\\\\\\\\\\": {\\\\\\\\\\\\\\\"selectedColumn\\\\\\\\\\\\\\\": \\\\\\\\\\\\\\\"num_major_vessels_3.0\\\\\\\\\\\\\\\"}}, \\\\\\\\\\\\\\\"typeProperty\\\\\\\\\\\\\\\": 2}, {\\\\\\\\\\\\\\\"column\\\\\\\\\\\\\\\": {\\\\\\\\\\\\\\\"type\\\\\\\\\\\\\\\": 2, \\\\\\\\\\\\\\\"details\\\\\\\\\\\\\\\": {\\\\\\\\\\\\\\\"selectedColumn\\\\\\\\\\\\\\\": \\\\\\\\\\\\\\\"thalassemia_2.0\\\\\\\\\\\\\\\"}}, \\\\\\\\\\\\\\\"typeProperty\\\\\\\\\\\\\\\": 2}, {\\\\\\\\\\\\\\\"column\\\\\\\\\\\\\\\": {\\\\\\\\\\\\\\\"type\\\\\\\\\\\\\\\": 2, \\\\\\\\\\\\\\\"details\\\\\\\\\\\\\\\": {\\\\\\\\\\\\\\\"selectedColumn\\\\\\\\\\\\\\\": \\\\\\\\\\\\\\\"thalassemia_3.0\\\\\\\\\\\\\\\"}}, \\\\\\\\\\\\\\\"typeProperty\\\\\\\\\\\\\\\": 2}, {\\\\\\\\\\\\\\\"column\\\\\\\\\\\\\\\": {\\\\\\\\\\\\\\\"type\\\\\\\\\\\\\\\": 2, \\\\\\\\\\\\\\\"details\\\\\\\\\\\\\\\": {\\\\\\\\\\\\\\\"selectedColumn\\\\\\\\\\\\\\\": \\\\\\\\\\\\\\\"target\\\\\\\\\\\\\\\"}}, \\\\\\\\\\\\\\\"typeProperty\\\\\\\\\\\\\\\": 2}]}, \\\\\\\\\\\\\\\"localData\\\\\\\\\\\\\\\": {}, \\\\\\\\\\\\\\\"isEnabled\\\\\\\\\\\\\\\": true, \\\\\\\\\\\\\\\"name\\\\\\\\\\\\\\\": null, \\\\\\\\\\\\\\\"annotation\\\\\\\\\\\\\\\": null}, {\\\\\\\\\\\\\\\"id\\\\\\\\\\\\\\\": \\\\\\\\\\\\\\\"8e396543-516f-48de-807a-3b67cc369ac4\\\\\\\\\\\\\\\", \\\\\\\\\\\\\\\"type\\\\\\\\\\\\\\\": \\\\\\\\\\\\\\\"Microsoft.DPrep.DropColumnsBlock\\\\\\\\\\\\\\\", \\\\\\\\\\\\\\\"arguments\\\\\\\\\\\\\\\": {\\\\\\\\\\\\\\\"columns\\\\\\\\\\\\\\\": {\\\\\\\\\\\\\\\"type\\\\\\\\\\\\\\\": 0, \\\\\\\\\\\\\\\"details\\\\\\\\\\\\\\\": {\\\\\\\\\\\\\\\"selectedColumns\\\\\\\\\\\\\\\": [\\\\\\\\\\\\\\\"Column1\\\\\\\\\\\\\\\"]}}}, \\\\\\\\\\\\\\\"localData\\\\\\\\\\\\\\\": {}, \\\\\\\\\\\\\\\"isEnabled\\\\\\\\\\\\\\\": true, \\\\\\\\\\\\\\\"name\\\\\\\\\\\\\\\": null, \\\\\\\\\\\\\\\"annotation\\\\\\\\\\\\\\\": null}], \\\\\\\\\\\\\\\"inspectors\\\\\\\\\\\\\\\": [], \\\\\\\\\\\\\\\"meta\\\\\\\\\\\\\\\": {\\\\\\\\\\\\\\\"savedDatasetId\\\\\\\\\\\\\\\": \\\\\\\\\\\\\\\"16068c72-0f3c-4e3f-a7eb-056b244628ec\\\\\\\\\\\\\\\", \\\\\\\\\\\\\\\"datasetType\\\\\\\\\\\\\\\": \\\\\\\\\\\\\\\"tabular\\\\\\\\\\\\\\\", \\\\\\\\\\\\\\\"subscriptionId\\\\\\\\\\\\\\\": \\\\\\\\\\\\\\\"b968fb36-f06a-4c76-a15f-afab68ae7667\\\\\\\\\\\\\\\", \\\\\\\\\\\\\\\"workspaceId\\\\\\\\\\\\\\\": \\\\\\\\\\\\\\\"a32820ff-2549-47e6-b255-8c60746b2402\\\\\\\\\\\\\\\", \\\\\\\\\\\\\\\"workspaceLocation\\\\\\\\\\\\\\\": \\\\\\\\\\\\\\\"southcentralus\\\\\\\\\\\\\\\"}}\\\\\\\", \\\\\\\"activities\\\\\\\": 0}\", \"EnableSubsampling\": null, \"runTemplate\": \"AutoML\", \"azureml.runsource\": \"automl\", \"display_task_type\": \"classification\", \"dependencies_versions\": \"{\\\"azureml-widgets\\\": \\\"1.20.0\\\", \\\"azureml-train\\\": \\\"1.20.0\\\", \\\"azureml-train-restclients-hyperdrive\\\": \\\"1.20.0\\\", \\\"azureml-train-core\\\": \\\"1.20.0\\\", \\\"azureml-train-automl\\\": \\\"1.20.0\\\", \\\"azureml-train-automl-runtime\\\": \\\"1.20.0\\\", \\\"azureml-train-automl-client\\\": \\\"1.20.0\\\", \\\"azureml-tensorboard\\\": \\\"1.20.0\\\", \\\"azureml-telemetry\\\": \\\"1.20.0\\\", \\\"azureml-sdk\\\": \\\"1.20.0\\\", \\\"azureml-samples\\\": \\\"0+unknown\\\", \\\"azureml-pipeline\\\": \\\"1.20.0\\\", \\\"azureml-pipeline-steps\\\": \\\"1.20.0\\\", \\\"azureml-pipeline-core\\\": \\\"1.20.0\\\", \\\"azureml-opendatasets\\\": \\\"1.20.0\\\", \\\"azureml-model-management-sdk\\\": \\\"1.0.1b6.post1\\\", \\\"azureml-mlflow\\\": \\\"1.20.0.post1\\\", \\\"azureml-interpret\\\": \\\"1.20.0\\\", \\\"azureml-explain-model\\\": \\\"1.20.0\\\", \\\"azureml-defaults\\\": \\\"1.20.0\\\", \\\"azureml-dataset-runtime\\\": \\\"1.20.0\\\", \\\"azureml-dataprep\\\": \\\"2.7.3\\\", \\\"azureml-dataprep-rslex\\\": \\\"1.5.0\\\", \\\"azureml-dataprep-native\\\": \\\"27.0.0\\\", \\\"azureml-datadrift\\\": \\\"1.20.0\\\", \\\"azureml-core\\\": \\\"1.20.0\\\", \\\"azureml-contrib-services\\\": \\\"1.20.0\\\", \\\"azureml-contrib-server\\\": \\\"1.20.0\\\", \\\"azureml-contrib-reinforcementlearning\\\": \\\"1.20.0\\\", \\\"azureml-contrib-pipeline-steps\\\": \\\"1.20.0\\\", \\\"azureml-contrib-notebook\\\": \\\"1.20.0\\\", \\\"azureml-contrib-interpret\\\": \\\"1.20.0\\\", \\\"azureml-contrib-gbdt\\\": \\\"1.20.0\\\", \\\"azureml-contrib-fairness\\\": \\\"1.20.0\\\", \\\"azureml-contrib-dataset\\\": \\\"1.20.0\\\", \\\"azureml-cli-common\\\": \\\"1.20.0\\\", \\\"azureml-automl-runtime\\\": \\\"1.20.0\\\", \\\"azureml-automl-core\\\": \\\"1.20.0\\\", \\\"azureml-accel-models\\\": \\\"1.20.0\\\"}\", \"_aml_system_scenario_identification\": \"Remote.Parent\", \"ClientType\": \"SDK\", \"environment_cpu_name\": \"AzureML-AutoML\", \"environment_cpu_label\": \"prod\", \"environment_gpu_name\": \"AzureML-AutoML-GPU\", \"environment_gpu_label\": \"prod\", \"root_attribution\": \"automl\", \"attribution\": \"AutoML\", \"Orchestrator\": \"AutoML\", \"CancelUri\": \"https://southcentralus.experiments.azureml.net/jasmine/v1.0/subscriptions/b968fb36-f06a-4c76-a15f-afab68ae7667/resourceGroups/aml-quickstarts-136928/providers/Microsoft.MachineLearningServices/workspaces/quick-starts-ws-136928/experimentids/11fd5846-f1fb-4767-bae7-2c456f37744d/cancel/AutoML_161ff06f-d36e-44f5-b85a-6136c55e260f\", \"ClientSdkVersion\": \"1.21.0\", \"snapshotId\": \"00000000-0000-0000-0000-000000000000\", \"SetupRunId\": \"AutoML_161ff06f-d36e-44f5-b85a-6136c55e260f_setup\", \"SetupRunContainerId\": \"dcid.AutoML_161ff06f-d36e-44f5-b85a-6136c55e260f_setup\", \"FeaturizationRunJsonPath\": \"featurizer_container.json\", \"FeaturizationRunId\": \"AutoML_161ff06f-d36e-44f5-b85a-6136c55e260f_featurize\", \"ProblemInfoJsonString\": \"{\\\"dataset_num_categorical\\\": 0, \\\"is_sparse\\\": false, \\\"subsampling\\\": false, \\\"dataset_classes\\\": 2, \\\"dataset_features\\\": 20, \\\"dataset_samples\\\": 241, \\\"single_frequency_class_detected\\\": false}\", \"ModelExplainRunId\": \"AutoML_161ff06f-d36e-44f5-b85a-6136c55e260f_ModelExplain\", \"azureml.git.repository_uri\": \"https://github.com/bharati-21/AZMLND-Capstone-Project.git\", \"mlflow.source.git.repoURL\": \"https://github.com/bharati-21/AZMLND-Capstone-Project.git\", \"azureml.git.branch\": \"master\", \"mlflow.source.git.branch\": \"master\", \"azureml.git.commit\": \"48bb881975cb9f22e1f389c81c2a814689d8cf39\", \"mlflow.source.git.commit\": \"48bb881975cb9f22e1f389c81c2a814689d8cf39\", \"azureml.git.dirty\": \"True\"}, \"tags\": {\"model_explain_run\": \"best_run\", \"_aml_system_azureml.automlComponent\": \"AutoML\", \"pipeline_id\": \"\", \"score\": \"\", \"predicted_cost\": \"\", \"fit_time\": \"\", \"training_percent\": \"\", \"iteration\": \"\", \"run_preprocessor\": \"\", \"run_algorithm\": \"\", \"dynamic_whitelisting_iterations\": \"<25>;\", \"automl_best_child_run_id\": \"AutoML_161ff06f-d36e-44f5-b85a-6136c55e260f_26\", \"model_explain_best_run_child_id\": \"AutoML_161ff06f-d36e-44f5-b85a-6136c55e260f_26\"}, \"end_time_utc\": \"2021-02-02T10:53:10.450047Z\", \"status\": \"Completed\", \"log_files\": {}, \"log_groups\": [], \"run_duration\": \"0:44:23\"}, \"child_runs\": [{\"run_id\": \"AutoML_161ff06f-d36e-44f5-b85a-6136c55e260f_0\", \"run_number\": 6, \"metric\": null, \"status\": \"Completed\", \"run_type\": \"azureml.scriptrun\", \"training_percent\": \"100\", \"start_time\": \"2021-02-02T10:20:30.804153Z\", \"end_time\": \"2021-02-02T10:21:25.752239Z\", \"created_time\": \"2021-02-02T10:20:17.363611Z\", \"created_time_dt\": \"2021-02-02T10:20:17.363611Z\", \"duration\": \"0:01:08\", \"iteration\": \"0\", \"goal\": \"accuracy_max\", \"run_name\": \"MaxAbsScaler, LightGBM\", \"run_properties\": \"copy=True\", \"primary_metric\": 0.81318027, \"best_metric\": 0.81318027}, {\"run_id\": \"AutoML_161ff06f-d36e-44f5-b85a-6136c55e260f_1\", \"run_number\": 7, \"metric\": null, \"status\": \"Completed\", \"run_type\": \"azureml.scriptrun\", \"training_percent\": \"100\", \"start_time\": \"2021-02-02T10:21:39.62974Z\", \"end_time\": \"2021-02-02T10:22:36.595405Z\", \"created_time\": \"2021-02-02T10:21:27.642378Z\", \"created_time_dt\": \"2021-02-02T10:21:27.642378Z\", \"duration\": \"0:01:08\", \"iteration\": \"1\", \"goal\": \"accuracy_max\", \"run_name\": \"MaxAbsScaler, XGBoostClassifier\", \"run_properties\": \"copy=True\", \"primary_metric\": 0.80068027, \"best_metric\": 0.81318027}, {\"run_id\": \"AutoML_161ff06f-d36e-44f5-b85a-6136c55e260f_2\", \"run_number\": 8, \"metric\": null, \"status\": \"Completed\", \"run_type\": \"azureml.scriptrun\", \"training_percent\": \"100\", \"start_time\": \"2021-02-02T10:22:50.699934Z\", \"end_time\": \"2021-02-02T10:23:50.503926Z\", \"created_time\": \"2021-02-02T10:22:38.853632Z\", \"created_time_dt\": \"2021-02-02T10:22:38.853632Z\", \"duration\": \"0:01:11\", \"iteration\": \"2\", \"goal\": \"accuracy_max\", \"run_name\": \"MinMaxScaler, RandomForest\", \"run_properties\": \"copy=True, feature_range=(0, 1\", \"primary_metric\": 0.75926871, \"best_metric\": 0.81318027}, {\"run_id\": \"AutoML_161ff06f-d36e-44f5-b85a-6136c55e260f_3\", \"run_number\": 9, \"metric\": null, \"status\": \"Completed\", \"run_type\": \"azureml.scriptrun\", \"training_percent\": \"100\", \"start_time\": \"2021-02-02T10:24:06.120388Z\", \"end_time\": \"2021-02-02T10:24:54.970011Z\", \"created_time\": \"2021-02-02T10:23:53.001994Z\", \"created_time_dt\": \"2021-02-02T10:23:53.001994Z\", \"duration\": \"0:01:01\", \"iteration\": \"3\", \"goal\": \"accuracy_max\", \"run_name\": \"MinMaxScaler, RandomForest\", \"run_properties\": \"copy=True, feature_range=(0, 1\", \"primary_metric\": 0.77984694, \"best_metric\": 0.81318027}, {\"run_id\": \"AutoML_161ff06f-d36e-44f5-b85a-6136c55e260f_4\", \"run_number\": 10, \"metric\": null, \"status\": \"Completed\", \"run_type\": \"azureml.scriptrun\", \"training_percent\": \"100\", \"start_time\": \"2021-02-02T10:25:09.799011Z\", \"end_time\": \"2021-02-02T10:25:59.139713Z\", \"created_time\": \"2021-02-02T10:24:57.557642Z\", \"created_time_dt\": \"2021-02-02T10:24:57.557642Z\", \"duration\": \"0:01:01\", \"iteration\": \"4\", \"goal\": \"accuracy_max\", \"run_name\": \"MinMaxScaler, RandomForest\", \"run_properties\": \"copy=True, feature_range=(0, 1\", \"primary_metric\": 0.77967687, \"best_metric\": 0.81318027}, {\"run_id\": \"AutoML_161ff06f-d36e-44f5-b85a-6136c55e260f_5\", \"run_number\": 11, \"metric\": null, \"status\": \"Completed\", \"run_type\": \"azureml.scriptrun\", \"training_percent\": \"100\", \"start_time\": \"2021-02-02T10:26:13.901242Z\", \"end_time\": \"2021-02-02T10:27:05.792771Z\", \"created_time\": \"2021-02-02T10:26:01.484945Z\", \"created_time_dt\": \"2021-02-02T10:26:01.484945Z\", \"duration\": \"0:01:04\", \"iteration\": \"5\", \"goal\": \"accuracy_max\", \"run_name\": \"MinMaxScaler, SVM\", \"run_properties\": \"copy=True, feature_range=(0, 1\", \"primary_metric\": 0.78401361, \"best_metric\": 0.81318027}, {\"run_id\": \"AutoML_161ff06f-d36e-44f5-b85a-6136c55e260f_6\", \"run_number\": 12, \"metric\": null, \"status\": \"Completed\", \"run_type\": \"azureml.scriptrun\", \"training_percent\": \"100\", \"start_time\": \"2021-02-02T10:27:17.864528Z\", \"end_time\": \"2021-02-02T10:28:06.182801Z\", \"created_time\": \"2021-02-02T10:27:07.636945Z\", \"created_time_dt\": \"2021-02-02T10:27:07.636945Z\", \"duration\": \"0:00:58\", \"iteration\": \"6\", \"goal\": \"accuracy_max\", \"run_name\": \"MaxAbsScaler, GradientBoosting\", \"run_properties\": \"copy=True\", \"primary_metric\": 0.8130102, \"best_metric\": 0.81318027}, {\"run_id\": \"AutoML_161ff06f-d36e-44f5-b85a-6136c55e260f_7\", \"run_number\": 13, \"metric\": null, \"status\": \"Completed\", \"run_type\": \"azureml.scriptrun\", \"training_percent\": \"100\", \"start_time\": \"2021-02-02T10:28:19.715029Z\", \"end_time\": \"2021-02-02T10:29:08.471223Z\", \"created_time\": \"2021-02-02T10:28:07.861812Z\", \"created_time_dt\": \"2021-02-02T10:28:07.861812Z\", \"duration\": \"0:01:00\", \"iteration\": \"7\", \"goal\": \"accuracy_max\", \"run_name\": \"StandardScalerWrapper, RandomForest\", \"run_properties\": \"<azureml.automl.runtime.shared.model_wrappers.StandardScalerWrapper object at 0x7f3ae07879b0\", \"primary_metric\": 0.79642857, \"best_metric\": 0.81318027}, {\"run_id\": \"AutoML_161ff06f-d36e-44f5-b85a-6136c55e260f_8\", \"run_number\": 14, \"metric\": null, \"status\": \"Completed\", \"run_type\": \"azureml.scriptrun\", \"training_percent\": \"100\", \"start_time\": \"2021-02-02T10:29:25.88722Z\", \"end_time\": \"2021-02-02T10:30:20.985498Z\", \"created_time\": \"2021-02-02T10:29:12.740162Z\", \"created_time_dt\": \"2021-02-02T10:29:12.740162Z\", \"duration\": \"0:01:08\", \"iteration\": \"8\", \"goal\": \"accuracy_max\", \"run_name\": \"SparseNormalizer, XGBoostClassifier\", \"run_properties\": \"<azureml.automl.runtime.shared.model_wrappers.SparseNormalizer object at 0x7fb7ae24a908\", \"primary_metric\": 0.78392857, \"best_metric\": 0.81318027}, {\"run_id\": \"AutoML_161ff06f-d36e-44f5-b85a-6136c55e260f_9\", \"run_number\": 15, \"metric\": null, \"status\": \"Completed\", \"run_type\": \"azureml.scriptrun\", \"training_percent\": \"100\", \"start_time\": \"2021-02-02T10:30:38.238052Z\", \"end_time\": \"2021-02-02T10:31:35.311344Z\", \"created_time\": \"2021-02-02T10:30:22.630777Z\", \"created_time_dt\": \"2021-02-02T10:30:22.630777Z\", \"duration\": \"0:01:12\", \"iteration\": \"9\", \"goal\": \"accuracy_max\", \"run_name\": \"SparseNormalizer, LightGBM\", \"run_properties\": \"<azureml.automl.runtime.shared.model_wrappers.SparseNormalizer object at 0x7fe0e2d62a58\", \"primary_metric\": 0.77168367, \"best_metric\": 0.81318027}, {\"run_id\": \"AutoML_161ff06f-d36e-44f5-b85a-6136c55e260f_10\", \"run_number\": 16, \"metric\": null, \"status\": \"Completed\", \"run_type\": \"azureml.scriptrun\", \"training_percent\": \"100\", \"start_time\": \"2021-02-02T10:32:51.895885Z\", \"end_time\": \"2021-02-02T10:33:43.949719Z\", \"created_time\": \"2021-02-02T10:32:38.953263Z\", \"created_time_dt\": \"2021-02-02T10:32:38.953263Z\", \"duration\": \"0:01:04\", \"iteration\": \"10\", \"goal\": \"accuracy_max\", \"run_name\": \"RobustScaler, RandomForest\", \"run_properties\": \"copy=True, quantile_range=[10, 90], with_centering=True,\\n             with_scaling=True\", \"primary_metric\": 0.78001701, \"best_metric\": 0.81318027}, {\"run_id\": \"AutoML_161ff06f-d36e-44f5-b85a-6136c55e260f_11\", \"run_number\": 17, \"metric\": null, \"status\": \"Completed\", \"run_type\": \"azureml.scriptrun\", \"training_percent\": \"100\", \"start_time\": \"2021-02-02T10:33:59.218647Z\", \"end_time\": \"2021-02-02T10:34:50.946212Z\", \"created_time\": \"2021-02-02T10:33:46.840661Z\", \"created_time_dt\": \"2021-02-02T10:33:46.840661Z\", \"duration\": \"0:01:04\", \"iteration\": \"11\", \"goal\": \"accuracy_max\", \"run_name\": \"MaxAbsScaler, LightGBM\", \"run_properties\": \"copy=True\", \"primary_metric\": 0.77185374, \"best_metric\": 0.81318027}, {\"run_id\": \"AutoML_161ff06f-d36e-44f5-b85a-6136c55e260f_12\", \"run_number\": 18, \"metric\": null, \"status\": \"Completed\", \"run_type\": \"azureml.scriptrun\", \"training_percent\": \"100\", \"start_time\": \"2021-02-02T10:35:04.845182Z\", \"end_time\": \"2021-02-02T10:35:56.572655Z\", \"created_time\": \"2021-02-02T10:34:53.249234Z\", \"created_time_dt\": \"2021-02-02T10:34:53.249234Z\", \"duration\": \"0:01:03\", \"iteration\": \"12\", \"goal\": \"accuracy_max\", \"run_name\": \"RobustScaler, ExtremeRandomTrees\", \"run_properties\": \"copy=True, quantile_range=[25, 75], with_centering=True,\\n             with_scaling=False\", \"primary_metric\": 0.75909864, \"best_metric\": 0.81318027}, {\"run_id\": \"AutoML_161ff06f-d36e-44f5-b85a-6136c55e260f_13\", \"run_number\": 19, \"metric\": null, \"status\": \"Completed\", \"run_type\": \"azureml.scriptrun\", \"training_percent\": \"100\", \"start_time\": \"2021-02-02T10:36:11.244641Z\", \"end_time\": \"2021-02-02T10:37:00.959847Z\", \"created_time\": \"2021-02-02T10:35:59.156718Z\", \"created_time_dt\": \"2021-02-02T10:35:59.156718Z\", \"duration\": \"0:01:01\", \"iteration\": \"13\", \"goal\": \"accuracy_max\", \"run_name\": \"SparseNormalizer, XGBoostClassifier\", \"run_properties\": \"<azureml.automl.runtime.shared.model_wrappers.SparseNormalizer object at 0x7fb8a49044e0\", \"primary_metric\": 0.76335034, \"best_metric\": 0.81318027}, {\"run_id\": \"AutoML_161ff06f-d36e-44f5-b85a-6136c55e260f_14\", \"run_number\": 20, \"metric\": null, \"status\": \"Completed\", \"run_type\": \"azureml.scriptrun\", \"training_percent\": \"100\", \"start_time\": \"2021-02-02T10:37:16.08312Z\", \"end_time\": \"2021-02-02T10:38:08.283201Z\", \"created_time\": \"2021-02-02T10:37:03.561785Z\", \"created_time_dt\": \"2021-02-02T10:37:03.561785Z\", \"duration\": \"0:01:04\", \"iteration\": \"14\", \"goal\": \"accuracy_max\", \"run_name\": \"StandardScalerWrapper, GradientBoosting\", \"run_properties\": \"<azureml.automl.runtime.shared.model_wrappers.StandardScalerWrapper object at 0x7fd48c1ac048\", \"primary_metric\": 0.76768707, \"best_metric\": 0.81318027}, {\"run_id\": \"AutoML_161ff06f-d36e-44f5-b85a-6136c55e260f_15\", \"run_number\": 21, \"metric\": null, \"status\": \"Completed\", \"run_type\": \"azureml.scriptrun\", \"training_percent\": \"100\", \"start_time\": \"2021-02-02T10:38:22.331243Z\", \"end_time\": \"2021-02-02T10:39:18.729609Z\", \"created_time\": \"2021-02-02T10:38:10.676567Z\", \"created_time_dt\": \"2021-02-02T10:38:10.676567Z\", \"duration\": \"0:01:08\", \"iteration\": \"15\", \"goal\": \"accuracy_max\", \"run_name\": \"StandardScalerWrapper, XGBoostClassifier\", \"run_properties\": \"<azureml.automl.runtime.shared.model_wrappers.StandardScalerWrapper object at 0x7f91047f1ef0\", \"primary_metric\": 0.76318027, \"best_metric\": 0.81318027}, {\"run_id\": \"AutoML_161ff06f-d36e-44f5-b85a-6136c55e260f_16\", \"run_number\": 22, \"metric\": null, \"status\": \"Completed\", \"run_type\": \"azureml.scriptrun\", \"training_percent\": \"100\", \"start_time\": \"2021-02-02T10:39:38.880505Z\", \"end_time\": \"2021-02-02T10:40:30.759419Z\", \"created_time\": \"2021-02-02T10:39:21.244527Z\", \"created_time_dt\": \"2021-02-02T10:39:21.244527Z\", \"duration\": \"0:01:09\", \"iteration\": \"16\", \"goal\": \"accuracy_max\", \"run_name\": \"StandardScalerWrapper, ExtremeRandomTrees\", \"run_properties\": \"<azureml.automl.runtime.shared.model_wrappers.StandardScalerWrapper object at 0x7f6be1df3b00\", \"primary_metric\": 0.74251701, \"best_metric\": 0.81318027}, {\"run_id\": \"AutoML_161ff06f-d36e-44f5-b85a-6136c55e260f_17\", \"run_number\": 23, \"metric\": null, \"status\": \"Completed\", \"run_type\": \"azureml.scriptrun\", \"training_percent\": \"100\", \"start_time\": \"2021-02-02T10:40:44.209228Z\", \"end_time\": \"2021-02-02T10:41:33.545427Z\", \"created_time\": \"2021-02-02T10:40:32.689793Z\", \"created_time_dt\": \"2021-02-02T10:40:32.689793Z\", \"duration\": \"0:01:00\", \"iteration\": \"17\", \"goal\": \"accuracy_max\", \"run_name\": \"StandardScalerWrapper, ExtremeRandomTrees\", \"run_properties\": \"<azureml.automl.runtime.shared.model_wrappers.StandardScalerWrapper object at 0x7f15089e5eb8\", \"primary_metric\": 0.8172619, \"best_metric\": 0.8172619}, {\"run_id\": \"AutoML_161ff06f-d36e-44f5-b85a-6136c55e260f_18\", \"run_number\": 24, \"metric\": null, \"status\": \"Completed\", \"run_type\": \"azureml.scriptrun\", \"training_percent\": \"100\", \"start_time\": \"2021-02-02T10:41:49.118798Z\", \"end_time\": \"2021-02-02T10:42:46.13068Z\", \"created_time\": \"2021-02-02T10:41:36.823795Z\", \"created_time_dt\": \"2021-02-02T10:41:36.823795Z\", \"duration\": \"0:01:09\", \"iteration\": \"18\", \"goal\": \"accuracy_max\", \"run_name\": \"RobustScaler, ExtremeRandomTrees\", \"run_properties\": \"copy=True, quantile_range=[25, 75], with_centering=True,\\n             with_scaling=True\", \"primary_metric\": 0.75918367, \"best_metric\": 0.8172619}, {\"run_id\": \"AutoML_161ff06f-d36e-44f5-b85a-6136c55e260f_19\", \"run_number\": 25, \"metric\": null, \"status\": \"Completed\", \"run_type\": \"azureml.scriptrun\", \"training_percent\": \"100\", \"start_time\": \"2021-02-02T10:43:02.924798Z\", \"end_time\": \"2021-02-02T10:43:51.461213Z\", \"created_time\": \"2021-02-02T10:42:49.110307Z\", \"created_time_dt\": \"2021-02-02T10:42:49.110307Z\", \"duration\": \"0:01:02\", \"iteration\": \"19\", \"goal\": \"accuracy_max\", \"run_name\": \"StandardScalerWrapper, XGBoostClassifier\", \"run_properties\": \"<azureml.automl.runtime.shared.model_wrappers.StandardScalerWrapper object at 0x7f1f24768a20\", \"primary_metric\": 0.7797619, \"best_metric\": 0.8172619}, {\"run_id\": \"AutoML_161ff06f-d36e-44f5-b85a-6136c55e260f_20\", \"run_number\": 26, \"metric\": null, \"status\": \"Completed\", \"run_type\": \"azureml.scriptrun\", \"training_percent\": \"100\", \"start_time\": \"2021-02-02T10:44:07.540763Z\", \"end_time\": \"2021-02-02T10:45:01.03536Z\", \"created_time\": \"2021-02-02T10:43:54.088782Z\", \"created_time_dt\": \"2021-02-02T10:43:54.088782Z\", \"duration\": \"0:01:06\", \"iteration\": \"20\", \"goal\": \"accuracy_max\", \"run_name\": \"StandardScalerWrapper, XGBoostClassifier\", \"run_properties\": \"<azureml.automl.runtime.shared.model_wrappers.StandardScalerWrapper object at 0x7f23b16d5080\", \"primary_metric\": 0.79634354, \"best_metric\": 0.8172619}, {\"run_id\": \"AutoML_161ff06f-d36e-44f5-b85a-6136c55e260f_21\", \"run_number\": 27, \"metric\": null, \"status\": \"Completed\", \"run_type\": \"azureml.scriptrun\", \"training_percent\": \"100\", \"start_time\": \"2021-02-02T10:45:14.881024Z\", \"end_time\": \"2021-02-02T10:46:09.953479Z\", \"created_time\": \"2021-02-02T10:45:02.616903Z\", \"created_time_dt\": \"2021-02-02T10:45:02.616903Z\", \"duration\": \"0:01:07\", \"iteration\": \"21\", \"goal\": \"accuracy_max\", \"run_name\": \"SparseNormalizer, XGBoostClassifier\", \"run_properties\": \"<azureml.automl.runtime.shared.model_wrappers.SparseNormalizer object at 0x7fde3abaafd0\", \"primary_metric\": 0.78392857, \"best_metric\": 0.8172619}, {\"run_id\": \"AutoML_161ff06f-d36e-44f5-b85a-6136c55e260f_22\", \"run_number\": 28, \"metric\": null, \"status\": \"Completed\", \"run_type\": \"azureml.scriptrun\", \"training_percent\": \"100\", \"start_time\": \"2021-02-02T10:46:23.913105Z\", \"end_time\": \"2021-02-02T10:47:17.770438Z\", \"created_time\": \"2021-02-02T10:46:13.600487Z\", \"created_time_dt\": \"2021-02-02T10:46:13.600487Z\", \"duration\": \"0:01:04\", \"iteration\": \"22\", \"goal\": \"accuracy_max\", \"run_name\": \"SparseNormalizer, XGBoostClassifier\", \"run_properties\": \"<azureml.automl.runtime.shared.model_wrappers.SparseNormalizer object at 0x7f0f3669e5f8\", \"primary_metric\": 0.79234694, \"best_metric\": 0.8172619}, {\"run_id\": \"AutoML_161ff06f-d36e-44f5-b85a-6136c55e260f_23\", \"run_number\": 29, \"metric\": null, \"status\": \"Completed\", \"run_type\": \"azureml.scriptrun\", \"training_percent\": \"100\", \"start_time\": \"2021-02-02T10:47:38.283273Z\", \"end_time\": \"2021-02-02T10:48:40.272165Z\", \"created_time\": \"2021-02-02T10:47:22.878003Z\", \"created_time_dt\": \"2021-02-02T10:47:22.878003Z\", \"duration\": \"0:01:17\", \"iteration\": \"23\", \"goal\": \"accuracy_max\", \"run_name\": \"MaxAbsScaler, RandomForest\", \"run_properties\": \"copy=True\", \"primary_metric\": 0.81309524, \"best_metric\": 0.8172619}, {\"run_id\": \"AutoML_161ff06f-d36e-44f5-b85a-6136c55e260f_24\", \"run_number\": 30, \"metric\": null, \"status\": \"Completed\", \"run_type\": \"azureml.scriptrun\", \"training_percent\": \"100\", \"start_time\": \"2021-02-02T10:48:56.703331Z\", \"end_time\": \"2021-02-02T10:49:48.357992Z\", \"created_time\": \"2021-02-02T10:48:43.244172Z\", \"created_time_dt\": \"2021-02-02T10:48:43.244172Z\", \"duration\": \"0:01:05\", \"iteration\": \"24\", \"goal\": \"accuracy_max\", \"run_name\": \"SparseNormalizer, XGBoostClassifier\", \"run_properties\": \"<azureml.automl.runtime.shared.model_wrappers.SparseNormalizer object at 0x7f5e10cc00f0\", \"primary_metric\": 0.74268707, \"best_metric\": 0.8172619}, {\"run_id\": \"AutoML_161ff06f-d36e-44f5-b85a-6136c55e260f_25\", \"run_number\": 31, \"metric\": null, \"status\": \"Completed\", \"run_type\": \"azureml.scriptrun\", \"training_percent\": \"100\", \"start_time\": \"2021-02-02T10:50:03.745948Z\", \"end_time\": \"2021-02-02T10:51:04.969792Z\", \"created_time\": \"2021-02-02T10:49:51.494705Z\", \"created_time_dt\": \"2021-02-02T10:49:51.494705Z\", \"duration\": \"0:01:13\", \"iteration\": \"25\", \"goal\": \"accuracy_max\", \"run_name\": \"StandardScalerWrapper, ExtremeRandomTrees\", \"run_properties\": \"<azureml.automl.runtime.shared.model_wrappers.StandardScalerWrapper object at 0x7f6fa200dbe0\", \"primary_metric\": 0.52329932, \"best_metric\": 0.8172619}, {\"run_id\": \"AutoML_161ff06f-d36e-44f5-b85a-6136c55e260f_26\", \"run_number\": 32, \"metric\": null, \"status\": \"Completed\", \"run_type\": \"azureml.scriptrun\", \"training_percent\": \"100\", \"start_time\": \"2021-02-02T10:51:16.588938Z\", \"end_time\": \"2021-02-02T10:53:02.282298Z\", \"created_time\": \"2021-02-02T10:51:05.826158Z\", \"created_time_dt\": \"2021-02-02T10:51:05.826158Z\", \"duration\": \"0:01:56\", \"iteration\": \"26\", \"goal\": \"accuracy_max\", \"run_name\": \"VotingEnsemble\", \"run_properties\": \"classification_labels=None,\\n                              estimators=[('17',\\n                                           Pipeline(memory=None,\\n                                                    steps=[('standardscalerwrapper',\\n                                                            <azureml.automl.runtime.shared.model_wrappers.StandardScalerWrapper object at 0x7fc7b7536ba8>\", \"primary_metric\": 0.8255102, \"best_metric\": 0.8255102}], \"children_metrics\": {\"categories\": [0], \"series\": {\"recall_score_macro\": [{\"categories\": [\"0\", \"1\", \"2\", \"3\", \"4\", \"5\", \"6\", \"7\", \"8\", \"9\", \"10\", \"11\", \"12\", \"13\", \"14\", \"15\", \"16\", \"17\", \"18\", \"19\", \"20\", \"21\", \"22\", \"23\", \"24\", \"25\", \"26\"], \"mode\": \"markers\", \"name\": \"recall_score_macro\", \"stepped\": false, \"type\": \"scatter\", \"data\": [0.8134393129249912, 0.803322978026442, 0.7673827973231429, 0.7853469818975223, 0.7857820659428013, 0.7919090458947634, 0.8148688759212707, 0.8006826991683773, 0.7857712538885111, 0.7760242426823347, 0.7839145118334733, 0.7776794150961278, 0.7659914929753169, 0.7630701641660373, 0.7673429246112115, 0.7667926479533833, 0.7503459903298143, 0.8232023436903102, 0.7664741367829034, 0.7807860009009697, 0.7972656219926796, 0.7816681270893376, 0.7964474316726349, 0.8192605447485113, 0.7450591500406856, 0.529038112522686, 0.8277948690650497]}, {\"categories\": [\"0\", \"1\", \"2\", \"3\", \"4\", \"5\", \"6\", \"7\", \"8\", \"9\", \"10\", \"11\", \"12\", \"13\", \"14\", \"15\", \"16\", \"17\", \"18\", \"19\", \"20\", \"21\", \"22\", \"23\", \"24\", \"25\", \"26\"], \"mode\": \"lines\", \"name\": \"recall_score_macro_max\", \"stepped\": true, \"type\": \"scatter\", \"data\": [0.8134393129249912, 0.8134393129249912, 0.8134393129249912, 0.8134393129249912, 0.8134393129249912, 0.8134393129249912, 0.8148688759212707, 0.8148688759212707, 0.8148688759212707, 0.8148688759212707, 0.8148688759212707, 0.8148688759212707, 0.8148688759212707, 0.8148688759212707, 0.8148688759212707, 0.8148688759212707, 0.8148688759212707, 0.8232023436903102, 0.8232023436903102, 0.8232023436903102, 0.8232023436903102, 0.8232023436903102, 0.8232023436903102, 0.8232023436903102, 0.8232023436903102, 0.8232023436903102, 0.8277948690650497]}], \"AUC_weighted\": [{\"categories\": [\"0\", \"1\", \"2\", \"3\", \"4\", \"5\", \"6\", \"7\", \"8\", \"9\", \"10\", \"11\", \"12\", \"13\", \"14\", \"15\", \"16\", \"17\", \"18\", \"19\", \"20\", \"21\", \"22\", \"23\", \"24\", \"25\", \"26\"], \"mode\": \"markers\", \"name\": \"AUC_weighted\", \"stepped\": false, \"type\": \"scatter\", \"data\": [0.8781780799936983, 0.9003460372292272, 0.8798386075689528, 0.876300260062116, 0.8956390682408726, 0.8807566233591642, 0.9048843269815942, 0.8991363223985335, 0.8910390878078086, 0.8792684448641733, 0.8716201539998589, 0.8751024273438329, 0.8683510856657441, 0.859051212628161, 0.8715844486556499, 0.8607228026198541, 0.8556566754216878, 0.9015160013977972, 0.874642897153484, 0.8721905569075667, 0.8798187074660943, 0.8854851212655994, 0.9010522371785423, 0.921742198519231, 0.861560234641799, 0.7801942074075744, 0.9059938994579569]}, {\"categories\": [\"0\", \"1\", \"2\", \"3\", \"4\", \"5\", \"6\", \"7\", \"8\", \"9\", \"10\", \"11\", \"12\", \"13\", \"14\", \"15\", \"16\", \"17\", \"18\", \"19\", \"20\", \"21\", \"22\", \"23\", \"24\", \"25\", \"26\"], \"mode\": \"lines\", \"name\": \"AUC_weighted_max\", \"stepped\": true, \"type\": \"scatter\", \"data\": [0.8781780799936983, 0.9003460372292272, 0.9003460372292272, 0.9003460372292272, 0.9003460372292272, 0.9003460372292272, 0.9048843269815942, 0.9048843269815942, 0.9048843269815942, 0.9048843269815942, 0.9048843269815942, 0.9048843269815942, 0.9048843269815942, 0.9048843269815942, 0.9048843269815942, 0.9048843269815942, 0.9048843269815942, 0.9048843269815942, 0.9048843269815942, 0.9048843269815942, 0.9048843269815942, 0.9048843269815942, 0.9048843269815942, 0.921742198519231, 0.921742198519231, 0.921742198519231, 0.921742198519231]}], \"precision_score_micro\": [{\"categories\": [\"0\", \"1\", \"2\", \"3\", \"4\", \"5\", \"6\", \"7\", \"8\", \"9\", \"10\", \"11\", \"12\", \"13\", \"14\", \"15\", \"16\", \"17\", \"18\", \"19\", \"20\", \"21\", \"22\", \"23\", \"24\", \"25\", \"26\"], \"mode\": \"markers\", \"name\": \"precision_score_micro\", \"stepped\": false, \"type\": \"scatter\", \"data\": [0.8131802721088434, 0.8006802721088435, 0.7592687074829932, 0.7798469387755101, 0.7796768707482994, 0.7840136054421769, 0.8130102040816325, 0.7964285714285715, 0.7839285714285713, 0.7716836734693877, 0.7800170068027211, 0.7718537414965986, 0.7590986394557823, 0.7633503401360544, 0.7676870748299319, 0.7631802721088435, 0.7425170068027211, 0.8172619047619047, 0.7591836734693878, 0.7797619047619048, 0.7963435374149659, 0.7839285714285714, 0.7923469387755102, 0.8130952380952381, 0.7426870748299319, 0.5232993197278912, 0.8255102040816326]}, {\"categories\": [\"0\", \"1\", \"2\", \"3\", \"4\", \"5\", \"6\", \"7\", \"8\", \"9\", \"10\", \"11\", \"12\", \"13\", \"14\", \"15\", \"16\", \"17\", \"18\", \"19\", \"20\", \"21\", \"22\", \"23\", \"24\", \"25\", \"26\"], \"mode\": \"lines\", \"name\": \"precision_score_micro_max\", \"stepped\": true, \"type\": \"scatter\", \"data\": [0.8131802721088434, 0.8131802721088434, 0.8131802721088434, 0.8131802721088434, 0.8131802721088434, 0.8131802721088434, 0.8131802721088434, 0.8131802721088434, 0.8131802721088434, 0.8131802721088434, 0.8131802721088434, 0.8131802721088434, 0.8131802721088434, 0.8131802721088434, 0.8131802721088434, 0.8131802721088434, 0.8131802721088434, 0.8172619047619047, 0.8172619047619047, 0.8172619047619047, 0.8172619047619047, 0.8172619047619047, 0.8172619047619047, 0.8172619047619047, 0.8172619047619047, 0.8172619047619047, 0.8255102040816326]}], \"average_precision_score_weighted\": [{\"categories\": [\"0\", \"1\", \"2\", \"3\", \"4\", \"5\", \"6\", \"7\", \"8\", \"9\", \"10\", \"11\", \"12\", \"13\", \"14\", \"15\", \"16\", \"17\", \"18\", \"19\", \"20\", \"21\", \"22\", \"23\", \"24\", \"25\", \"26\"], \"mode\": \"markers\", \"name\": \"average_precision_score_weighted\", \"stepped\": false, \"type\": \"scatter\", \"data\": [0.8860090018865885, 0.908367534279401, 0.8894924988717492, 0.8844119144047259, 0.9041996807771003, 0.8862411053237205, 0.9114204543653581, 0.9059716823142263, 0.9016857284071346, 0.8908159219280309, 0.881663667017736, 0.8860161080732798, 0.8767865334828864, 0.8704701615926794, 0.8818065561925208, 0.8727769653070336, 0.8656834173478245, 0.9068590551290685, 0.8826039209166054, 0.882612221901157, 0.8833746498619405, 0.8965881403871011, 0.9109747434363313, 0.9253889248341757, 0.8714257459803487, 0.753975994522101, 0.9135007950875597]}, {\"categories\": [\"0\", \"1\", \"2\", \"3\", \"4\", \"5\", \"6\", \"7\", \"8\", \"9\", \"10\", \"11\", \"12\", \"13\", \"14\", \"15\", \"16\", \"17\", \"18\", \"19\", \"20\", \"21\", \"22\", \"23\", \"24\", \"25\", \"26\"], \"mode\": \"lines\", \"name\": \"average_precision_score_weighted_max\", \"stepped\": true, \"type\": \"scatter\", \"data\": [0.8860090018865885, 0.908367534279401, 0.908367534279401, 0.908367534279401, 0.908367534279401, 0.908367534279401, 0.9114204543653581, 0.9114204543653581, 0.9114204543653581, 0.9114204543653581, 0.9114204543653581, 0.9114204543653581, 0.9114204543653581, 0.9114204543653581, 0.9114204543653581, 0.9114204543653581, 0.9114204543653581, 0.9114204543653581, 0.9114204543653581, 0.9114204543653581, 0.9114204543653581, 0.9114204543653581, 0.9114204543653581, 0.9253889248341757, 0.9253889248341757, 0.9253889248341757, 0.9253889248341757]}], \"f1_score_micro\": [{\"categories\": [\"0\", \"1\", \"2\", \"3\", \"4\", \"5\", \"6\", \"7\", \"8\", \"9\", \"10\", \"11\", \"12\", \"13\", \"14\", \"15\", \"16\", \"17\", \"18\", \"19\", \"20\", \"21\", \"22\", \"23\", \"24\", \"25\", \"26\"], \"mode\": \"markers\", \"name\": \"f1_score_micro\", \"stepped\": false, \"type\": \"scatter\", \"data\": [0.8131802721088434, 0.8006802721088435, 0.7592687074829931, 0.77984693877551, 0.7796768707482993, 0.7840136054421769, 0.8130102040816325, 0.7964285714285715, 0.7839285714285713, 0.7716836734693877, 0.780017006802721, 0.7718537414965986, 0.7590986394557822, 0.7633503401360543, 0.7676870748299319, 0.7631802721088435, 0.742517006802721, 0.8172619047619047, 0.7591836734693878, 0.7797619047619048, 0.7963435374149659, 0.7839285714285714, 0.7923469387755102, 0.8130952380952381, 0.7426870748299318, 0.5232993197278912, 0.8255102040816326]}, {\"categories\": [\"0\", \"1\", \"2\", \"3\", \"4\", \"5\", \"6\", \"7\", \"8\", \"9\", \"10\", \"11\", \"12\", \"13\", \"14\", \"15\", \"16\", \"17\", \"18\", \"19\", \"20\", \"21\", \"22\", \"23\", \"24\", \"25\", \"26\"], \"mode\": \"lines\", \"name\": \"f1_score_micro_max\", \"stepped\": true, \"type\": \"scatter\", \"data\": [0.8131802721088434, 0.8131802721088434, 0.8131802721088434, 0.8131802721088434, 0.8131802721088434, 0.8131802721088434, 0.8131802721088434, 0.8131802721088434, 0.8131802721088434, 0.8131802721088434, 0.8131802721088434, 0.8131802721088434, 0.8131802721088434, 0.8131802721088434, 0.8131802721088434, 0.8131802721088434, 0.8131802721088434, 0.8172619047619047, 0.8172619047619047, 0.8172619047619047, 0.8172619047619047, 0.8172619047619047, 0.8172619047619047, 0.8172619047619047, 0.8172619047619047, 0.8172619047619047, 0.8255102040816326]}], \"matthews_correlation\": [{\"categories\": [\"0\", \"1\", \"2\", \"3\", \"4\", \"5\", \"6\", \"7\", \"8\", \"9\", \"10\", \"11\", \"12\", \"13\", \"14\", \"15\", \"16\", \"17\", \"18\", \"19\", \"20\", \"21\", \"22\", \"23\", \"24\", \"25\", \"26\"], \"mode\": \"markers\", \"name\": \"matthews_correlation\", \"stepped\": false, \"type\": \"scatter\", \"data\": [0.6281119283567371, 0.6080459214862955, 0.5303567263929223, 0.5667253698967867, 0.5700116368749073, 0.5787823285996704, 0.6277748502019495, 0.5991551983002824, 0.5687132989476467, 0.5492939399663486, 0.5699226611450341, 0.5558458099791085, 0.532145595701686, 0.5268806619356363, 0.5352313015851367, 0.5311066837320356, 0.500429899429929, 0.6431366373313699, 0.5318764325962342, 0.5629944257828362, 0.5928011989926769, 0.5657520462538239, 0.5922119411569821, 0.6344958786049729, 0.49033075478051186, 0.06024752331287779, 0.6542066807208178]}, {\"categories\": [\"0\", \"1\", \"2\", \"3\", \"4\", \"5\", \"6\", \"7\", \"8\", \"9\", \"10\", \"11\", \"12\", \"13\", \"14\", \"15\", \"16\", \"17\", \"18\", \"19\", \"20\", \"21\", \"22\", \"23\", \"24\", \"25\", \"26\"], \"mode\": \"lines\", \"name\": \"matthews_correlation_max\", \"stepped\": true, \"type\": \"scatter\", \"data\": [0.6281119283567371, 0.6281119283567371, 0.6281119283567371, 0.6281119283567371, 0.6281119283567371, 0.6281119283567371, 0.6281119283567371, 0.6281119283567371, 0.6281119283567371, 0.6281119283567371, 0.6281119283567371, 0.6281119283567371, 0.6281119283567371, 0.6281119283567371, 0.6281119283567371, 0.6281119283567371, 0.6281119283567371, 0.6431366373313699, 0.6431366373313699, 0.6431366373313699, 0.6431366373313699, 0.6431366373313699, 0.6431366373313699, 0.6431366373313699, 0.6431366373313699, 0.6431366373313699, 0.6542066807208178]}], \"average_precision_score_macro\": [{\"categories\": [\"0\", \"1\", \"2\", \"3\", \"4\", \"5\", \"6\", \"7\", \"8\", \"9\", \"10\", \"11\", \"12\", \"13\", \"14\", \"15\", \"16\", \"17\", \"18\", \"19\", \"20\", \"21\", \"22\", \"23\", \"24\", \"25\", \"26\"], \"mode\": \"markers\", \"name\": \"average_precision_score_macro\", \"stepped\": false, \"type\": \"scatter\", \"data\": [0.8829957430416515, 0.9054613511452722, 0.8849935871312781, 0.8798532553167868, 0.9012064425780476, 0.8823237908995027, 0.9076753489843187, 0.9017067585079527, 0.8993742875932373, 0.8872620017497992, 0.8779453022992785, 0.8819915290822647, 0.872621154998021, 0.8672633372127138, 0.8783308279361643, 0.867726936599205, 0.861654965895753, 0.90326688805819, 0.8784771535486323, 0.8785977021495069, 0.8783475366645884, 0.8943507590867567, 0.908736290178948, 0.9226174834371662, 0.8657970819431074, 0.7485616763080929, 0.9103817163127834]}, {\"categories\": [\"0\", \"1\", \"2\", \"3\", \"4\", \"5\", \"6\", \"7\", \"8\", \"9\", \"10\", \"11\", \"12\", \"13\", \"14\", \"15\", \"16\", \"17\", \"18\", \"19\", \"20\", \"21\", \"22\", \"23\", \"24\", \"25\", \"26\"], \"mode\": \"lines\", \"name\": \"average_precision_score_macro_max\", \"stepped\": true, \"type\": \"scatter\", \"data\": [0.8829957430416515, 0.9054613511452722, 0.9054613511452722, 0.9054613511452722, 0.9054613511452722, 0.9054613511452722, 0.9076753489843187, 0.9076753489843187, 0.9076753489843187, 0.9076753489843187, 0.9076753489843187, 0.9076753489843187, 0.9076753489843187, 0.9076753489843187, 0.9076753489843187, 0.9076753489843187, 0.9076753489843187, 0.9076753489843187, 0.9076753489843187, 0.9076753489843187, 0.9076753489843187, 0.9076753489843187, 0.908736290178948, 0.9226174834371662, 0.9226174834371662, 0.9226174834371662, 0.9226174834371662]}], \"accuracy\": [{\"categories\": [\"0\", \"1\", \"2\", \"3\", \"4\", \"5\", \"6\", \"7\", \"8\", \"9\", \"10\", \"11\", \"12\", \"13\", \"14\", \"15\", \"16\", \"17\", \"18\", \"19\", \"20\", \"21\", \"22\", \"23\", \"24\", \"25\", \"26\"], \"mode\": \"markers\", \"name\": \"accuracy\", \"stepped\": false, \"type\": \"scatter\", \"data\": [0.8131802721088434, 0.8006802721088435, 0.7592687074829932, 0.7798469387755101, 0.7796768707482994, 0.7840136054421769, 0.8130102040816325, 0.7964285714285715, 0.7839285714285713, 0.7716836734693877, 0.7800170068027211, 0.7718537414965986, 0.7590986394557823, 0.7633503401360544, 0.7676870748299319, 0.7631802721088435, 0.7425170068027211, 0.8172619047619047, 0.7591836734693878, 0.7797619047619048, 0.7963435374149659, 0.7839285714285714, 0.7923469387755102, 0.8130952380952381, 0.7426870748299319, 0.5232993197278912, 0.8255102040816326]}, {\"categories\": [\"0\", \"1\", \"2\", \"3\", \"4\", \"5\", \"6\", \"7\", \"8\", \"9\", \"10\", \"11\", \"12\", \"13\", \"14\", \"15\", \"16\", \"17\", \"18\", \"19\", \"20\", \"21\", \"22\", \"23\", \"24\", \"25\", \"26\"], \"mode\": \"lines\", \"name\": \"accuracy_max\", \"stepped\": true, \"type\": \"scatter\", \"data\": [0.8131802721088434, 0.8131802721088434, 0.8131802721088434, 0.8131802721088434, 0.8131802721088434, 0.8131802721088434, 0.8131802721088434, 0.8131802721088434, 0.8131802721088434, 0.8131802721088434, 0.8131802721088434, 0.8131802721088434, 0.8131802721088434, 0.8131802721088434, 0.8131802721088434, 0.8131802721088434, 0.8131802721088434, 0.8172619047619047, 0.8172619047619047, 0.8172619047619047, 0.8172619047619047, 0.8172619047619047, 0.8172619047619047, 0.8172619047619047, 0.8172619047619047, 0.8172619047619047, 0.8255102040816326]}], \"precision_score_macro\": [{\"categories\": [\"0\", \"1\", \"2\", \"3\", \"4\", \"5\", \"6\", \"7\", \"8\", \"9\", \"10\", \"11\", \"12\", \"13\", \"14\", \"15\", \"16\", \"17\", \"18\", \"19\", \"20\", \"21\", \"22\", \"23\", \"24\", \"25\", \"26\"], \"mode\": \"markers\", \"name\": \"precision_score_macro\", \"stepped\": false, \"type\": \"scatter\", \"data\": [0.814811192602464, 0.8048819980448558, 0.7630104388365258, 0.7814331827592697, 0.7843331483331483, 0.7869109151717847, 0.8129696271329665, 0.7985360451540124, 0.7829960981047939, 0.7733166398818574, 0.7860978835978835, 0.7782320155711617, 0.7662880490793205, 0.7638718688718689, 0.7679559010651885, 0.764392217425122, 0.7501646815225685, 0.8199901081205428, 0.7654596160566334, 0.7823578740207318, 0.7955750256185039, 0.7841687063736302, 0.7958740245261984, 0.8153102122107881, 0.7453578426404512, 0.3324829931972789, 0.8265151378412249]}, {\"categories\": [\"0\", \"1\", \"2\", \"3\", \"4\", \"5\", \"6\", \"7\", \"8\", \"9\", \"10\", \"11\", \"12\", \"13\", \"14\", \"15\", \"16\", \"17\", \"18\", \"19\", \"20\", \"21\", \"22\", \"23\", \"24\", \"25\", \"26\"], \"mode\": \"lines\", \"name\": \"precision_score_macro_max\", \"stepped\": true, \"type\": \"scatter\", \"data\": [0.814811192602464, 0.814811192602464, 0.814811192602464, 0.814811192602464, 0.814811192602464, 0.814811192602464, 0.814811192602464, 0.814811192602464, 0.814811192602464, 0.814811192602464, 0.814811192602464, 0.814811192602464, 0.814811192602464, 0.814811192602464, 0.814811192602464, 0.814811192602464, 0.814811192602464, 0.8199901081205428, 0.8199901081205428, 0.8199901081205428, 0.8199901081205428, 0.8199901081205428, 0.8199901081205428, 0.8199901081205428, 0.8199901081205428, 0.8199901081205428, 0.8265151378412249]}], \"norm_macro_recall\": [{\"categories\": [\"0\", \"1\", \"2\", \"3\", \"4\", \"5\", \"6\", \"7\", \"8\", \"9\", \"10\", \"11\", \"12\", \"13\", \"14\", \"15\", \"16\", \"17\", \"18\", \"19\", \"20\", \"21\", \"22\", \"23\", \"24\", \"25\", \"26\"], \"mode\": \"markers\", \"name\": \"norm_macro_recall\", \"stepped\": false, \"type\": \"scatter\", \"data\": [0.6268786258499823, 0.6066459560528841, 0.5347655946462858, 0.5706939637950448, 0.5715641318856027, 0.5838180917895271, 0.6297377518425415, 0.6013653983367547, 0.5715425077770221, 0.5520484853646694, 0.5678290236669468, 0.5553588301922556, 0.5319829859506336, 0.5261403283320746, 0.534685849222423, 0.5335852959067667, 0.5006919806596284, 0.6464046873806206, 0.5329482735658069, 0.5615720018019396, 0.5945312439853592, 0.563336254178675, 0.5928948633452696, 0.6385210894970225, 0.49011830008137114, 0.05807622504537204, 0.6555897381300996]}, {\"categories\": [\"0\", \"1\", \"2\", \"3\", \"4\", \"5\", \"6\", \"7\", \"8\", \"9\", \"10\", \"11\", \"12\", \"13\", \"14\", \"15\", \"16\", \"17\", \"18\", \"19\", \"20\", \"21\", \"22\", \"23\", \"24\", \"25\", \"26\"], \"mode\": \"lines\", \"name\": \"norm_macro_recall_max\", \"stepped\": true, \"type\": \"scatter\", \"data\": [0.6268786258499823, 0.6268786258499823, 0.6268786258499823, 0.6268786258499823, 0.6268786258499823, 0.6268786258499823, 0.6297377518425415, 0.6297377518425415, 0.6297377518425415, 0.6297377518425415, 0.6297377518425415, 0.6297377518425415, 0.6297377518425415, 0.6297377518425415, 0.6297377518425415, 0.6297377518425415, 0.6297377518425415, 0.6464046873806206, 0.6464046873806206, 0.6464046873806206, 0.6464046873806206, 0.6464046873806206, 0.6464046873806206, 0.6464046873806206, 0.6464046873806206, 0.6464046873806206, 0.6555897381300996]}], \"weighted_accuracy\": [{\"categories\": [\"0\", \"1\", \"2\", \"3\", \"4\", \"5\", \"6\", \"7\", \"8\", \"9\", \"10\", \"11\", \"12\", \"13\", \"14\", \"15\", \"16\", \"17\", \"18\", \"19\", \"20\", \"21\", \"22\", \"23\", \"24\", \"25\", \"26\"], \"mode\": \"markers\", \"name\": \"weighted_accuracy\", \"stepped\": false, \"type\": \"scatter\", \"data\": [0.8130676358076514, 0.7983683338769689, 0.751666220326894, 0.774789987547402, 0.7739999730868, 0.7767016173001517, 0.8113143810825394, 0.7924709077789451, 0.7823361136382809, 0.76764514526892, 0.776442381385337, 0.7664708204212414, 0.7527494203306528, 0.7636228238522871, 0.7680539437509315, 0.7598765471430451, 0.735219676333407, 0.811795711933434, 0.752335575023343, 0.7788868997897719, 0.7954977932109892, 0.786216413658107, 0.7886274104445377, 0.8073952229174036, 0.7405462055408318, 0.5190284561521353, 0.8234966414178778]}, {\"categories\": [\"0\", \"1\", \"2\", \"3\", \"4\", \"5\", \"6\", \"7\", \"8\", \"9\", \"10\", \"11\", \"12\", \"13\", \"14\", \"15\", \"16\", \"17\", \"18\", \"19\", \"20\", \"21\", \"22\", \"23\", \"24\", \"25\", \"26\"], \"mode\": \"lines\", \"name\": \"weighted_accuracy_max\", \"stepped\": true, \"type\": \"scatter\", \"data\": [0.8130676358076514, 0.8130676358076514, 0.8130676358076514, 0.8130676358076514, 0.8130676358076514, 0.8130676358076514, 0.8130676358076514, 0.8130676358076514, 0.8130676358076514, 0.8130676358076514, 0.8130676358076514, 0.8130676358076514, 0.8130676358076514, 0.8130676358076514, 0.8130676358076514, 0.8130676358076514, 0.8130676358076514, 0.8130676358076514, 0.8130676358076514, 0.8130676358076514, 0.8130676358076514, 0.8130676358076514, 0.8130676358076514, 0.8130676358076514, 0.8130676358076514, 0.8130676358076514, 0.8234966414178778]}], \"balanced_accuracy\": [{\"categories\": [\"0\", \"1\", \"2\", \"3\", \"4\", \"5\", \"6\", \"7\", \"8\", \"9\", \"10\", \"11\", \"12\", \"13\", \"14\", \"15\", \"16\", \"17\", \"18\", \"19\", \"20\", \"21\", \"22\", \"23\", \"24\", \"25\", \"26\"], \"mode\": \"markers\", \"name\": \"balanced_accuracy\", \"stepped\": false, \"type\": \"scatter\", \"data\": [0.8134393129249912, 0.803322978026442, 0.7673827973231429, 0.7853469818975223, 0.7857820659428013, 0.7919090458947634, 0.8148688759212707, 0.8006826991683773, 0.7857712538885111, 0.7760242426823347, 0.7839145118334733, 0.7776794150961278, 0.7659914929753169, 0.7630701641660373, 0.7673429246112115, 0.7667926479533833, 0.7503459903298143, 0.8232023436903102, 0.7664741367829034, 0.7807860009009697, 0.7972656219926796, 0.7816681270893376, 0.7964474316726349, 0.8192605447485113, 0.7450591500406856, 0.529038112522686, 0.8277948690650497]}, {\"categories\": [\"0\", \"1\", \"2\", \"3\", \"4\", \"5\", \"6\", \"7\", \"8\", \"9\", \"10\", \"11\", \"12\", \"13\", \"14\", \"15\", \"16\", \"17\", \"18\", \"19\", \"20\", \"21\", \"22\", \"23\", \"24\", \"25\", \"26\"], \"mode\": \"lines\", \"name\": \"balanced_accuracy_max\", \"stepped\": true, \"type\": \"scatter\", \"data\": [0.8134393129249912, 0.8134393129249912, 0.8134393129249912, 0.8134393129249912, 0.8134393129249912, 0.8134393129249912, 0.8148688759212707, 0.8148688759212707, 0.8148688759212707, 0.8148688759212707, 0.8148688759212707, 0.8148688759212707, 0.8148688759212707, 0.8148688759212707, 0.8148688759212707, 0.8148688759212707, 0.8148688759212707, 0.8232023436903102, 0.8232023436903102, 0.8232023436903102, 0.8232023436903102, 0.8232023436903102, 0.8232023436903102, 0.8232023436903102, 0.8232023436903102, 0.8232023436903102, 0.8277948690650497]}], \"recall_score_weighted\": [{\"categories\": [\"0\", \"1\", \"2\", \"3\", \"4\", \"5\", \"6\", \"7\", \"8\", \"9\", \"10\", \"11\", \"12\", \"13\", \"14\", \"15\", \"16\", \"17\", \"18\", \"19\", \"20\", \"21\", \"22\", \"23\", \"24\", \"25\", \"26\"], \"mode\": \"markers\", \"name\": \"recall_score_weighted\", \"stepped\": false, \"type\": \"scatter\", \"data\": [0.8131802721088434, 0.8006802721088435, 0.7592687074829932, 0.7798469387755101, 0.7796768707482994, 0.7840136054421769, 0.8130102040816325, 0.7964285714285715, 0.7839285714285713, 0.7716836734693877, 0.7800170068027211, 0.7718537414965986, 0.7590986394557823, 0.7633503401360544, 0.7676870748299319, 0.7631802721088435, 0.7425170068027211, 0.8172619047619047, 0.7591836734693878, 0.7797619047619048, 0.7963435374149659, 0.7839285714285714, 0.7923469387755102, 0.8130952380952381, 0.7426870748299319, 0.5232993197278912, 0.8255102040816326]}, {\"categories\": [\"0\", \"1\", \"2\", \"3\", \"4\", \"5\", \"6\", \"7\", \"8\", \"9\", \"10\", \"11\", \"12\", \"13\", \"14\", \"15\", \"16\", \"17\", \"18\", \"19\", \"20\", \"21\", \"22\", \"23\", \"24\", \"25\", \"26\"], \"mode\": \"lines\", \"name\": \"recall_score_weighted_max\", \"stepped\": true, \"type\": \"scatter\", \"data\": [0.8131802721088434, 0.8131802721088434, 0.8131802721088434, 0.8131802721088434, 0.8131802721088434, 0.8131802721088434, 0.8131802721088434, 0.8131802721088434, 0.8131802721088434, 0.8131802721088434, 0.8131802721088434, 0.8131802721088434, 0.8131802721088434, 0.8131802721088434, 0.8131802721088434, 0.8131802721088434, 0.8131802721088434, 0.8172619047619047, 0.8172619047619047, 0.8172619047619047, 0.8172619047619047, 0.8172619047619047, 0.8172619047619047, 0.8172619047619047, 0.8172619047619047, 0.8172619047619047, 0.8255102040816326]}], \"f1_score_macro\": [{\"categories\": [\"0\", \"1\", \"2\", \"3\", \"4\", \"5\", \"6\", \"7\", \"8\", \"9\", \"10\", \"11\", \"12\", \"13\", \"14\", \"15\", \"16\", \"17\", \"18\", \"19\", \"20\", \"21\", \"22\", \"23\", \"24\", \"25\", \"26\"], \"mode\": \"markers\", \"name\": \"f1_score_macro\", \"stepped\": false, \"type\": \"scatter\", \"data\": [0.8096640380714986, 0.797562567966161, 0.7585497524692345, 0.7781559940577952, 0.7776427001854287, 0.7832562221145538, 0.8104138345314815, 0.7941203096368802, 0.7813282864215233, 0.7698234259190946, 0.7772794706364028, 0.7698799857229566, 0.7570079529202287, 0.7595834188000319, 0.763816425120773, 0.7606091096372495, 0.7403431176170244, 0.8156247317610166, 0.7578135678596574, 0.7762518822896182, 0.7938280249426061, 0.7797687787418212, 0.789772615358822, 0.8114121102672414, 0.7394335616849795, 0.3874801916796101, 0.8229517350177321]}, {\"categories\": [\"0\", \"1\", \"2\", \"3\", \"4\", \"5\", \"6\", \"7\", \"8\", \"9\", \"10\", \"11\", \"12\", \"13\", \"14\", \"15\", \"16\", \"17\", \"18\", \"19\", \"20\", \"21\", \"22\", \"23\", \"24\", \"25\", \"26\"], \"mode\": \"lines\", \"name\": \"f1_score_macro_max\", \"stepped\": true, \"type\": \"scatter\", \"data\": [0.8096640380714986, 0.8096640380714986, 0.8096640380714986, 0.8096640380714986, 0.8096640380714986, 0.8096640380714986, 0.8104138345314815, 0.8104138345314815, 0.8104138345314815, 0.8104138345314815, 0.8104138345314815, 0.8104138345314815, 0.8104138345314815, 0.8104138345314815, 0.8104138345314815, 0.8104138345314815, 0.8104138345314815, 0.8156247317610166, 0.8156247317610166, 0.8156247317610166, 0.8156247317610166, 0.8156247317610166, 0.8156247317610166, 0.8156247317610166, 0.8156247317610166, 0.8156247317610166, 0.8229517350177321]}], \"log_loss\": [{\"categories\": [\"0\", \"1\", \"2\", \"3\", \"4\", \"5\", \"6\", \"7\", \"8\", \"9\", \"10\", \"11\", \"12\", \"13\", \"14\", \"15\", \"16\", \"17\", \"18\", \"19\", \"20\", \"21\", \"22\", \"23\", \"24\", \"25\", \"26\"], \"mode\": \"markers\", \"name\": \"log_loss\", \"stepped\": false, \"type\": \"scatter\", \"data\": [0.5109833641978934, 0.41898272667837766, 0.4496614616987661, 0.4666915126610035, 0.4303218216829013, 0.4457060181835292, 0.4037033306348734, 0.4253436726684684, 0.43236869812090883, 0.44487731763250365, 0.4628025818037583, 0.4949384629991779, 0.47382427268772975, 0.5161495797203534, 0.4836217744448127, 0.5262572079626007, 0.47873695399531274, 0.41813064183125065, 0.48215973217999614, 0.49529789125696844, 0.5020518637699791, 0.428375949304321, 0.4181693376419128, 0.4292401677204653, 0.537262837207197, 0.6913089242302537, 0.4312389202120763]}, {\"categories\": [\"0\", \"1\", \"2\", \"3\", \"4\", \"5\", \"6\", \"7\", \"8\", \"9\", \"10\", \"11\", \"12\", \"13\", \"14\", \"15\", \"16\", \"17\", \"18\", \"19\", \"20\", \"21\", \"22\", \"23\", \"24\", \"25\", \"26\"], \"mode\": \"lines\", \"name\": \"log_loss_min\", \"stepped\": true, \"type\": \"scatter\", \"data\": [0.5109833641978934, 0.41898272667837766, 0.41898272667837766, 0.41898272667837766, 0.41898272667837766, 0.41898272667837766, 0.4037033306348734, 0.4037033306348734, 0.4037033306348734, 0.4037033306348734, 0.4037033306348734, 0.4037033306348734, 0.4037033306348734, 0.4037033306348734, 0.4037033306348734, 0.4037033306348734, 0.4037033306348734, 0.4037033306348734, 0.4037033306348734, 0.4037033306348734, 0.4037033306348734, 0.4037033306348734, 0.4037033306348734, 0.4037033306348734, 0.4037033306348734, 0.4037033306348734, 0.4037033306348734]}], \"average_precision_score_micro\": [{\"categories\": [\"0\", \"1\", \"2\", \"3\", \"4\", \"5\", \"6\", \"7\", \"8\", \"9\", \"10\", \"11\", \"12\", \"13\", \"14\", \"15\", \"16\", \"17\", \"18\", \"19\", \"20\", \"21\", \"22\", \"23\", \"24\", \"25\", \"26\"], \"mode\": \"markers\", \"name\": \"average_precision_score_micro\", \"stepped\": false, \"type\": \"scatter\", \"data\": [0.8825208525084873, 0.9019639218700511, 0.8775814134764206, 0.8758434461414696, 0.890375572866066, 0.8847966071850681, 0.9063906572727959, 0.8988341891263338, 0.8960740624616786, 0.8838720765567001, 0.8697728811070379, 0.8760126861910159, 0.8666827730160211, 0.8619431064081023, 0.8757814652500464, 0.8611212152643419, 0.8546455167365382, 0.9041344338255419, 0.8635214414914387, 0.8718928513786274, 0.8736956884670087, 0.8953966967777672, 0.9025414448579412, 0.9171010932952155, 0.8638687681392841, 0.6774729201084402, 0.9075532067573672]}, {\"categories\": [\"0\", \"1\", \"2\", \"3\", \"4\", \"5\", \"6\", \"7\", \"8\", \"9\", \"10\", \"11\", \"12\", \"13\", \"14\", \"15\", \"16\", \"17\", \"18\", \"19\", \"20\", \"21\", \"22\", \"23\", \"24\", \"25\", \"26\"], \"mode\": \"lines\", \"name\": \"average_precision_score_micro_max\", \"stepped\": true, \"type\": \"scatter\", \"data\": [0.8825208525084873, 0.9019639218700511, 0.9019639218700511, 0.9019639218700511, 0.9019639218700511, 0.9019639218700511, 0.9063906572727959, 0.9063906572727959, 0.9063906572727959, 0.9063906572727959, 0.9063906572727959, 0.9063906572727959, 0.9063906572727959, 0.9063906572727959, 0.9063906572727959, 0.9063906572727959, 0.9063906572727959, 0.9063906572727959, 0.9063906572727959, 0.9063906572727959, 0.9063906572727959, 0.9063906572727959, 0.9063906572727959, 0.9171010932952155, 0.9171010932952155, 0.9171010932952155, 0.9171010932952155]}], \"AUC_macro\": [{\"categories\": [\"0\", \"1\", \"2\", \"3\", \"4\", \"5\", \"6\", \"7\", \"8\", \"9\", \"10\", \"11\", \"12\", \"13\", \"14\", \"15\", \"16\", \"17\", \"18\", \"19\", \"20\", \"21\", \"22\", \"23\", \"24\", \"25\", \"26\"], \"mode\": \"markers\", \"name\": \"AUC_macro\", \"stepped\": false, \"type\": \"scatter\", \"data\": [0.8781780799936986, 0.9003460372292272, 0.8798386075689528, 0.876300260062116, 0.8956390682408726, 0.8807566233591644, 0.9048843269815942, 0.8991363223985335, 0.8910390878078088, 0.8792684448641733, 0.8716201539998589, 0.8751024273438329, 0.8683510856657441, 0.859051212628161, 0.8715844486556499, 0.8607228026198541, 0.8556566754216876, 0.9015160013977974, 0.874642897153484, 0.872190556907567, 0.8798187074660943, 0.8854851212655994, 0.9010522371785423, 0.921742198519231, 0.8615602346417992, 0.7801942074075745, 0.9059938994579569]}, {\"categories\": [\"0\", \"1\", \"2\", \"3\", \"4\", \"5\", \"6\", \"7\", \"8\", \"9\", \"10\", \"11\", \"12\", \"13\", \"14\", \"15\", \"16\", \"17\", \"18\", \"19\", \"20\", \"21\", \"22\", \"23\", \"24\", \"25\", \"26\"], \"mode\": \"lines\", \"name\": \"AUC_macro_max\", \"stepped\": true, \"type\": \"scatter\", \"data\": [0.8781780799936986, 0.9003460372292272, 0.9003460372292272, 0.9003460372292272, 0.9003460372292272, 0.9003460372292272, 0.9048843269815942, 0.9048843269815942, 0.9048843269815942, 0.9048843269815942, 0.9048843269815942, 0.9048843269815942, 0.9048843269815942, 0.9048843269815942, 0.9048843269815942, 0.9048843269815942, 0.9048843269815942, 0.9048843269815942, 0.9048843269815942, 0.9048843269815942, 0.9048843269815942, 0.9048843269815942, 0.9048843269815942, 0.921742198519231, 0.921742198519231, 0.921742198519231, 0.921742198519231]}], \"f1_score_weighted\": [{\"categories\": [\"0\", \"1\", \"2\", \"3\", \"4\", \"5\", \"6\", \"7\", \"8\", \"9\", \"10\", \"11\", \"12\", \"13\", \"14\", \"15\", \"16\", \"17\", \"18\", \"19\", \"20\", \"21\", \"22\", \"23\", \"24\", \"25\", \"26\"], \"mode\": \"markers\", \"name\": \"f1_score_weighted\", \"stepped\": false, \"type\": \"scatter\", \"data\": [0.8126818643200074, 0.8002827530588661, 0.760167602372795, 0.7803246935639103, 0.7795818181018074, 0.7848044069869847, 0.8130771916381161, 0.7964898047395188, 0.7841500149482898, 0.7722739371706533, 0.7797793912634726, 0.7720322844875495, 0.7588885887108312, 0.7628471670634124, 0.7673629655450862, 0.7631294945149084, 0.741980357656093, 0.817483272751193, 0.7595064190494555, 0.7795240582268884, 0.7965649092345009, 0.7833370402636556, 0.7921662110328822, 0.8132466058914183, 0.7426301115299253, 0.39050535849307627, 0.8254077557770254]}, {\"categories\": [\"0\", \"1\", \"2\", \"3\", \"4\", \"5\", \"6\", \"7\", \"8\", \"9\", \"10\", \"11\", \"12\", \"13\", \"14\", \"15\", \"16\", \"17\", \"18\", \"19\", \"20\", \"21\", \"22\", \"23\", \"24\", \"25\", \"26\"], \"mode\": \"lines\", \"name\": \"f1_score_weighted_max\", \"stepped\": true, \"type\": \"scatter\", \"data\": [0.8126818643200074, 0.8126818643200074, 0.8126818643200074, 0.8126818643200074, 0.8126818643200074, 0.8126818643200074, 0.8130771916381161, 0.8130771916381161, 0.8130771916381161, 0.8130771916381161, 0.8130771916381161, 0.8130771916381161, 0.8130771916381161, 0.8130771916381161, 0.8130771916381161, 0.8130771916381161, 0.8130771916381161, 0.817483272751193, 0.817483272751193, 0.817483272751193, 0.817483272751193, 0.817483272751193, 0.817483272751193, 0.817483272751193, 0.817483272751193, 0.817483272751193, 0.8254077557770254]}], \"AUC_micro\": [{\"categories\": [\"0\", \"1\", \"2\", \"3\", \"4\", \"5\", \"6\", \"7\", \"8\", \"9\", \"10\", \"11\", \"12\", \"13\", \"14\", \"15\", \"16\", \"17\", \"18\", \"19\", \"20\", \"21\", \"22\", \"23\", \"24\", \"25\", \"26\"], \"mode\": \"markers\", \"name\": \"AUC_micro\", \"stepped\": false, \"type\": \"scatter\", \"data\": [0.8782380532995511, 0.8959840951686797, 0.8702966284302838, 0.8701826351288815, 0.8847230537623212, 0.8795712470787634, 0.9010512474547643, 0.8950397548475172, 0.8887239908718589, 0.8749692330163358, 0.8628568030103198, 0.8686034681729835, 0.8613425323360637, 0.8520946495094636, 0.8688218016798557, 0.8550022198505252, 0.8488714554699431, 0.8988969078277569, 0.861179442014901, 0.8662623935628673, 0.8747114555856357, 0.887982184795687, 0.8943742335369521, 0.913414477185432, 0.857258260447036, 0.6623434535378777, 0.902109581077329]}, {\"categories\": [\"0\", \"1\", \"2\", \"3\", \"4\", \"5\", \"6\", \"7\", \"8\", \"9\", \"10\", \"11\", \"12\", \"13\", \"14\", \"15\", \"16\", \"17\", \"18\", \"19\", \"20\", \"21\", \"22\", \"23\", \"24\", \"25\", \"26\"], \"mode\": \"lines\", \"name\": \"AUC_micro_max\", \"stepped\": true, \"type\": \"scatter\", \"data\": [0.8782380532995511, 0.8959840951686797, 0.8959840951686797, 0.8959840951686797, 0.8959840951686797, 0.8959840951686797, 0.9010512474547643, 0.9010512474547643, 0.9010512474547643, 0.9010512474547643, 0.9010512474547643, 0.9010512474547643, 0.9010512474547643, 0.9010512474547643, 0.9010512474547643, 0.9010512474547643, 0.9010512474547643, 0.9010512474547643, 0.9010512474547643, 0.9010512474547643, 0.9010512474547643, 0.9010512474547643, 0.9010512474547643, 0.913414477185432, 0.913414477185432, 0.913414477185432, 0.913414477185432]}], \"recall_score_micro\": [{\"categories\": [\"0\", \"1\", \"2\", \"3\", \"4\", \"5\", \"6\", \"7\", \"8\", \"9\", \"10\", \"11\", \"12\", \"13\", \"14\", \"15\", \"16\", \"17\", \"18\", \"19\", \"20\", \"21\", \"22\", \"23\", \"24\", \"25\", \"26\"], \"mode\": \"markers\", \"name\": \"recall_score_micro\", \"stepped\": false, \"type\": \"scatter\", \"data\": [0.8131802721088434, 0.8006802721088435, 0.7592687074829932, 0.7798469387755101, 0.7796768707482994, 0.7840136054421769, 0.8130102040816325, 0.7964285714285715, 0.7839285714285713, 0.7716836734693877, 0.7800170068027211, 0.7718537414965986, 0.7590986394557823, 0.7633503401360544, 0.7676870748299319, 0.7631802721088435, 0.7425170068027211, 0.8172619047619047, 0.7591836734693878, 0.7797619047619048, 0.7963435374149659, 0.7839285714285714, 0.7923469387755102, 0.8130952380952381, 0.7426870748299319, 0.5232993197278912, 0.8255102040816326]}, {\"categories\": [\"0\", \"1\", \"2\", \"3\", \"4\", \"5\", \"6\", \"7\", \"8\", \"9\", \"10\", \"11\", \"12\", \"13\", \"14\", \"15\", \"16\", \"17\", \"18\", \"19\", \"20\", \"21\", \"22\", \"23\", \"24\", \"25\", \"26\"], \"mode\": \"lines\", \"name\": \"recall_score_micro_max\", \"stepped\": true, \"type\": \"scatter\", \"data\": [0.8131802721088434, 0.8131802721088434, 0.8131802721088434, 0.8131802721088434, 0.8131802721088434, 0.8131802721088434, 0.8131802721088434, 0.8131802721088434, 0.8131802721088434, 0.8131802721088434, 0.8131802721088434, 0.8131802721088434, 0.8131802721088434, 0.8131802721088434, 0.8131802721088434, 0.8131802721088434, 0.8131802721088434, 0.8172619047619047, 0.8172619047619047, 0.8172619047619047, 0.8172619047619047, 0.8172619047619047, 0.8172619047619047, 0.8172619047619047, 0.8172619047619047, 0.8172619047619047, 0.8255102040816326]}], \"precision_score_weighted\": [{\"categories\": [\"0\", \"1\", \"2\", \"3\", \"4\", \"5\", \"6\", \"7\", \"8\", \"9\", \"10\", \"11\", \"12\", \"13\", \"14\", \"15\", \"16\", \"17\", \"18\", \"19\", \"20\", \"21\", \"22\", \"23\", \"24\", \"25\", \"26\"], \"mode\": \"markers\", \"name\": \"precision_score_weighted\", \"stepped\": false, \"type\": \"scatter\", \"data\": [0.8208993598454496, 0.8126867019373192, 0.7741326629719488, 0.7910174264572557, 0.7940669426472997, 0.7976400432728072, 0.8199972342082628, 0.8073270995881401, 0.7902864873652917, 0.7823674288961555, 0.7948379067235358, 0.7881659321003147, 0.7766374491371104, 0.7700341380400904, 0.7745897581720123, 0.7728198150521947, 0.7610983315554225, 0.8294117303120926, 0.7759962712767319, 0.7897176291325839, 0.8018745745187257, 0.7888668080776415, 0.8044969484449297, 0.8248643187766274, 0.7539194694338327, 0.34286806134018233, 0.8334871443256537]}, {\"categories\": [\"0\", \"1\", \"2\", \"3\", \"4\", \"5\", \"6\", \"7\", \"8\", \"9\", \"10\", \"11\", \"12\", \"13\", \"14\", \"15\", \"16\", \"17\", \"18\", \"19\", \"20\", \"21\", \"22\", \"23\", \"24\", \"25\", \"26\"], \"mode\": \"lines\", \"name\": \"precision_score_weighted_max\", \"stepped\": true, \"type\": \"scatter\", \"data\": [0.8208993598454496, 0.8208993598454496, 0.8208993598454496, 0.8208993598454496, 0.8208993598454496, 0.8208993598454496, 0.8208993598454496, 0.8208993598454496, 0.8208993598454496, 0.8208993598454496, 0.8208993598454496, 0.8208993598454496, 0.8208993598454496, 0.8208993598454496, 0.8208993598454496, 0.8208993598454496, 0.8208993598454496, 0.8294117303120926, 0.8294117303120926, 0.8294117303120926, 0.8294117303120926, 0.8294117303120926, 0.8294117303120926, 0.8294117303120926, 0.8294117303120926, 0.8294117303120926, 0.8334871443256537]}]}, \"metricName\": null, \"primaryMetricName\": \"accuracy\", \"showLegend\": false}, \"run_metrics\": [{\"name\": \"experiment_status\", \"run_id\": \"AutoML_161ff06f-d36e-44f5-b85a-6136c55e260f\", \"categories\": [0, 1, 2, 3, 4, 5, 6, 7, 8, 9, 10, 11, 12, 13], \"series\": [{\"data\": [\"DatasetEvaluation\", \"FeaturesGeneration\", \"DatasetFeaturization\", \"DatasetFeaturizationCompleted\", \"DatasetCrossValidationSplit\", \"ModelSelection\", \"BestRunExplainModel\", \"ModelExplanationDataSetSetup\", \"PickSurrogateModel\", \"EngineeredFeatureExplanations\", \"EngineeredFeatureExplanations\", \"RawFeaturesExplanations\", \"RawFeaturesExplanations\", \"BestRunExplainModel\"]}]}, {\"name\": \"experiment_status_description\", \"run_id\": \"AutoML_161ff06f-d36e-44f5-b85a-6136c55e260f\", \"categories\": [0, 1, 2, 3, 4, 5, 6, 7, 8, 9, 10, 11, 12, 13], \"series\": [{\"data\": [\"Gathering dataset statistics.\", \"Generating features for the dataset.\", \"Beginning to fit featurizers and featurize the dataset.\", \"Completed fit featurizers and featurizing the dataset.\", \"Generating individually featurized CV splits.\", \"Beginning model selection.\", \"Best run model explanations started\", \"Model explanations data setup completed\", \"Choosing LightGBM as the surrogate model for explanations\", \"Computation of engineered features started\", \"Computation of engineered features completed\", \"Computation of raw features started\", \"Computation of raw features completed\", \"Best run model explanations completed\"]}]}, {\"name\": \"f1_score_micro\", \"run_id\": \"AutoML_161ff06f-d36e-44f5-b85a-6136c55e260f\", \"categories\": [0], \"series\": [{\"data\": [0.8255102040816326]}]}, {\"name\": \"balanced_accuracy\", \"run_id\": \"AutoML_161ff06f-d36e-44f5-b85a-6136c55e260f\", \"categories\": [0], \"series\": [{\"data\": [0.8277948690650497]}]}, {\"name\": \"average_precision_score_micro\", \"run_id\": \"AutoML_161ff06f-d36e-44f5-b85a-6136c55e260f\", \"categories\": [0], \"series\": [{\"data\": [0.9075532067573672]}]}, {\"name\": \"recall_score_weighted\", \"run_id\": \"AutoML_161ff06f-d36e-44f5-b85a-6136c55e260f\", \"categories\": [0], \"series\": [{\"data\": [0.8255102040816326]}]}, {\"name\": \"f1_score_macro\", \"run_id\": \"AutoML_161ff06f-d36e-44f5-b85a-6136c55e260f\", \"categories\": [0], \"series\": [{\"data\": [0.8229517350177321]}]}, {\"name\": \"precision_score_micro\", \"run_id\": \"AutoML_161ff06f-d36e-44f5-b85a-6136c55e260f\", \"categories\": [0], \"series\": [{\"data\": [0.8255102040816326]}]}, {\"name\": \"accuracy\", \"run_id\": \"AutoML_161ff06f-d36e-44f5-b85a-6136c55e260f\", \"categories\": [0], \"series\": [{\"data\": [0.8255102040816326]}]}, {\"name\": \"recall_score_micro\", \"run_id\": \"AutoML_161ff06f-d36e-44f5-b85a-6136c55e260f\", \"categories\": [0], \"series\": [{\"data\": [0.8255102040816326]}]}, {\"name\": \"norm_macro_recall\", \"run_id\": \"AutoML_161ff06f-d36e-44f5-b85a-6136c55e260f\", \"categories\": [0], \"series\": [{\"data\": [0.6555897381300996]}]}, {\"name\": \"AUC_micro\", \"run_id\": \"AutoML_161ff06f-d36e-44f5-b85a-6136c55e260f\", \"categories\": [0], \"series\": [{\"data\": [0.902109581077329]}]}, {\"name\": \"matthews_correlation\", \"run_id\": \"AutoML_161ff06f-d36e-44f5-b85a-6136c55e260f\", \"categories\": [0], \"series\": [{\"data\": [0.6542066807208178]}]}, {\"name\": \"precision_score_macro\", \"run_id\": \"AutoML_161ff06f-d36e-44f5-b85a-6136c55e260f\", \"categories\": [0], \"series\": [{\"data\": [0.8265151378412249]}]}, {\"name\": \"AUC_macro\", \"run_id\": \"AutoML_161ff06f-d36e-44f5-b85a-6136c55e260f\", \"categories\": [0], \"series\": [{\"data\": [0.9059938994579569]}]}, {\"name\": \"average_precision_score_weighted\", \"run_id\": \"AutoML_161ff06f-d36e-44f5-b85a-6136c55e260f\", \"categories\": [0], \"series\": [{\"data\": [0.9135007950875597]}]}, {\"name\": \"precision_score_weighted\", \"run_id\": \"AutoML_161ff06f-d36e-44f5-b85a-6136c55e260f\", \"categories\": [0], \"series\": [{\"data\": [0.8334871443256537]}]}, {\"name\": \"log_loss\", \"run_id\": \"AutoML_161ff06f-d36e-44f5-b85a-6136c55e260f\", \"categories\": [0], \"series\": [{\"data\": [0.4312389202120763]}]}, {\"name\": \"AUC_weighted\", \"run_id\": \"AutoML_161ff06f-d36e-44f5-b85a-6136c55e260f\", \"categories\": [0], \"series\": [{\"data\": [0.9059938994579569]}]}, {\"name\": \"f1_score_weighted\", \"run_id\": \"AutoML_161ff06f-d36e-44f5-b85a-6136c55e260f\", \"categories\": [0], \"series\": [{\"data\": [0.8254077557770254]}]}, {\"name\": \"average_precision_score_macro\", \"run_id\": \"AutoML_161ff06f-d36e-44f5-b85a-6136c55e260f\", \"categories\": [0], \"series\": [{\"data\": [0.9103817163127834]}]}, {\"name\": \"recall_score_macro\", \"run_id\": \"AutoML_161ff06f-d36e-44f5-b85a-6136c55e260f\", \"categories\": [0], \"series\": [{\"data\": [0.8277948690650497]}]}, {\"name\": \"weighted_accuracy\", \"run_id\": \"AutoML_161ff06f-d36e-44f5-b85a-6136c55e260f\", \"categories\": [0], \"series\": [{\"data\": [0.8234966414178778]}]}], \"run_logs\": \"\\nRun is completed.\", \"graph\": {}, \"widget_settings\": {\"childWidgetDisplay\": \"popup\", \"send_telemetry\": false, \"log_level\": \"INFO\", \"sdk_version\": \"1.20.0\"}, \"loading\": false}"
     },
     "metadata": {},
     "output_type": "display_data"
    },
    {
     "name": "stdout",
     "output_type": "stream",
     "text": [
      "\n",
      "\n",
      "****************************************************************************************************\n",
      "DATA GUARDRAILS: \n",
      "\n",
      "TYPE:         Class balancing detection\n",
      "STATUS:       PASSED\n",
      "DESCRIPTION:  Your inputs were analyzed, and all classes are balanced in your training data.\n",
      "              Learn more about imbalanced data: https://aka.ms/AutomatedMLImbalancedData\n",
      "\n",
      "****************************************************************************************************\n",
      "\n",
      "TYPE:         Missing feature values imputation\n",
      "STATUS:       PASSED\n",
      "DESCRIPTION:  No feature missing values were detected in the training data.\n",
      "              Learn more about missing value imputation: https://aka.ms/AutomatedMLFeaturization\n",
      "\n",
      "****************************************************************************************************\n",
      "\n",
      "TYPE:         High cardinality feature detection\n",
      "STATUS:       PASSED\n",
      "DESCRIPTION:  Your inputs were analyzed, and no high cardinality features were detected.\n",
      "              Learn more about high cardinality feature handling: https://aka.ms/AutomatedMLFeaturization\n",
      "\n",
      "****************************************************************************************************\n",
      "\n",
      "****************************************************************************************************\n",
      "ITERATION: The iteration being evaluated.\n",
      "PIPELINE: A summary description of the pipeline being evaluated.\n",
      "DURATION: Time taken for the current iteration.\n",
      "METRIC: The result of computing score on the fitted pipeline.\n",
      "BEST: The best observed score thus far.\n",
      "****************************************************************************************************\n",
      "\n",
      " ITERATION   PIPELINE                                       DURATION      METRIC      BEST\n",
      "         0   MaxAbsScaler LightGBM                          0:00:55       0.8132    0.8132\n",
      "         1   MaxAbsScaler XGBoostClassifier                 0:00:57       0.8007    0.8132\n",
      "         2   MinMaxScaler RandomForest                      0:01:00       0.7593    0.8132\n",
      "         3   MinMaxScaler RandomForest                      0:00:49       0.7798    0.8132\n",
      "         4   MinMaxScaler RandomForest                      0:00:49       0.7797    0.8132\n",
      "         5   MinMaxScaler SVM                               0:00:52       0.7840    0.8132\n",
      "         6   MaxAbsScaler GradientBoosting                  0:00:48       0.8130    0.8132\n",
      "         7   StandardScalerWrapper RandomForest             0:00:49       0.7964    0.8132\n",
      "         8   SparseNormalizer XGBoostClassifier             0:00:55       0.7839    0.8132\n",
      "         9   SparseNormalizer LightGBM                      0:00:57       0.7717    0.8132\n",
      "        10   RobustScaler RandomForest                      0:00:52       0.7800    0.8132\n",
      "        11   MaxAbsScaler LightGBM                          0:00:52       0.7719    0.8132\n",
      "        12   RobustScaler ExtremeRandomTrees                0:00:52       0.7591    0.8132\n",
      "        13   SparseNormalizer XGBoostClassifier             0:00:50       0.7634    0.8132\n",
      "        14   StandardScalerWrapper GradientBoosting         0:00:52       0.7677    0.8132\n",
      "        15   StandardScalerWrapper XGBoostClassifier        0:00:56       0.7632    0.8132\n",
      "        16   StandardScalerWrapper ExtremeRandomTrees       0:00:52       0.7425    0.8132\n",
      "        17   StandardScalerWrapper ExtremeRandomTrees       0:00:49       0.8173    0.8173\n",
      "        18   RobustScaler ExtremeRandomTrees                0:00:57       0.7592    0.8173\n",
      "        19   StandardScalerWrapper XGBoostClassifier        0:00:49       0.7798    0.8173\n",
      "        20   StandardScalerWrapper XGBoostClassifier        0:00:53       0.7963    0.8173\n",
      "        21   SparseNormalizer XGBoostClassifier             0:00:55       0.7839    0.8173\n",
      "        22   SparseNormalizer XGBoostClassifier             0:00:54       0.7923    0.8173\n",
      "        23   MaxAbsScaler RandomForest                      0:01:02       0.8131    0.8173\n",
      "        24   SparseNormalizer XGBoostClassifier             0:00:52       0.7427    0.8173\n",
      "        25   StandardScalerWrapper ExtremeRandomTrees       0:01:01       0.5233    0.8173\n",
      "        26    VotingEnsemble                                0:01:46       0.8255    0.8255\n"
     ]
    },
    {
     "data": {
      "text/plain": [
       "{'runId': 'AutoML_161ff06f-d36e-44f5-b85a-6136c55e260f',\n",
       " 'target': 'cpu-cluster',\n",
       " 'status': 'Completed',\n",
       " 'startTimeUtc': '2021-02-02T10:09:00.557528Z',\n",
       " 'endTimeUtc': '2021-02-02T10:53:10.450047Z',\n",
       " 'properties': {'num_iterations': '1000',\n",
       "  'training_type': 'TrainFull',\n",
       "  'acquisition_function': 'EI',\n",
       "  'primary_metric': 'accuracy',\n",
       "  'train_split': '0',\n",
       "  'acquisition_parameter': '0',\n",
       "  'num_cross_validation': '5',\n",
       "  'target': 'cpu-cluster',\n",
       "  'AMLSettingsJsonString': '{\"path\":null,\"name\":\"Heart_Disease_Kaggle_AutoML\",\"subscription_id\":\"b968fb36-f06a-4c76-a15f-afab68ae7667\",\"resource_group\":\"aml-quickstarts-136928\",\"workspace_name\":\"quick-starts-ws-136928\",\"region\":\"southcentralus\",\"compute_target\":\"cpu-cluster\",\"spark_service\":null,\"azure_service\":\"remote\",\"many_models\":false,\"pipeline_fetch_max_batch_size\":1,\"iterations\":1000,\"primary_metric\":\"accuracy\",\"task_type\":\"classification\",\"data_script\":null,\"validation_size\":0.0,\"n_cross_validations\":5,\"y_min\":null,\"y_max\":null,\"num_classes\":null,\"featurization\":\"auto\",\"_ignore_package_version_incompatibilities\":false,\"is_timeseries\":false,\"max_cores_per_iteration\":1,\"max_concurrent_iterations\":1,\"iteration_timeout_minutes\":null,\"mem_in_mb\":null,\"enforce_time_on_windows\":false,\"experiment_timeout_minutes\":30,\"experiment_exit_score\":null,\"whitelist_models\":null,\"blacklist_algos\":[\"TensorFlowLinearClassifier\",\"TensorFlowDNN\"],\"supported_models\":[\"RandomForest\",\"TensorFlowDNN\",\"MultinomialNaiveBayes\",\"SGD\",\"SVM\",\"KNN\",\"XGBoostClassifier\",\"AveragedPerceptronClassifier\",\"TensorFlowLinearClassifier\",\"LightGBM\",\"LinearSVM\",\"DecisionTree\",\"BernoulliNaiveBayes\",\"LogisticRegression\",\"ExtremeRandomTrees\",\"GradientBoosting\"],\"auto_blacklist\":true,\"blacklist_samples_reached\":false,\"exclude_nan_labels\":true,\"verbosity\":20,\"_debug_log\":\"azureml_automl.log\",\"show_warnings\":false,\"model_explainability\":true,\"service_url\":null,\"sdk_url\":null,\"sdk_packages\":null,\"enable_onnx_compatible_models\":true,\"enable_split_onnx_featurizer_estimator_models\":false,\"vm_type\":\"STANDARD_D2_V2\",\"telemetry_verbosity\":20,\"send_telemetry\":true,\"enable_dnn\":false,\"scenario\":\"SDK-1.13.0\",\"environment_label\":null,\"force_text_dnn\":false,\"enable_feature_sweeping\":false,\"enable_early_stopping\":false,\"early_stopping_n_iters\":10,\"metrics\":null,\"enable_ensembling\":true,\"enable_stack_ensembling\":false,\"ensemble_iterations\":15,\"enable_tf\":false,\"enable_subsampling\":null,\"subsample_seed\":null,\"enable_nimbusml\":false,\"enable_streaming\":false,\"force_streaming\":false,\"track_child_runs\":true,\"allowed_private_models\":[],\"label_column_name\":\"target\",\"weight_column_name\":null,\"cv_split_column_names\":null,\"enable_local_managed\":false,\"_local_managed_run_id\":null,\"cost_mode\":1,\"lag_length\":0,\"metric_operation\":\"maximize\",\"preprocess\":true}',\n",
       "  'DataPrepJsonString': '{\\\\\"training_data\\\\\": \\\\\"{\\\\\\\\\\\\\"blocks\\\\\\\\\\\\\": [{\\\\\\\\\\\\\"id\\\\\\\\\\\\\": \\\\\\\\\\\\\"6a6447cc-9f61-4703-9070-aa829175b9f1\\\\\\\\\\\\\", \\\\\\\\\\\\\"type\\\\\\\\\\\\\": \\\\\\\\\\\\\"Microsoft.DPrep.GetDatastoreFilesBlock\\\\\\\\\\\\\", \\\\\\\\\\\\\"arguments\\\\\\\\\\\\\": {\\\\\\\\\\\\\"datastores\\\\\\\\\\\\\": [{\\\\\\\\\\\\\"datastoreName\\\\\\\\\\\\\": \\\\\\\\\\\\\"workspaceblobstore\\\\\\\\\\\\\", \\\\\\\\\\\\\"path\\\\\\\\\\\\\": \\\\\\\\\\\\\"Data/train_data.csv\\\\\\\\\\\\\", \\\\\\\\\\\\\"resourceGroup\\\\\\\\\\\\\": \\\\\\\\\\\\\"aml-quickstarts-136928\\\\\\\\\\\\\", \\\\\\\\\\\\\"subscription\\\\\\\\\\\\\": \\\\\\\\\\\\\"b968fb36-f06a-4c76-a15f-afab68ae7667\\\\\\\\\\\\\", \\\\\\\\\\\\\"workspaceName\\\\\\\\\\\\\": \\\\\\\\\\\\\"quick-starts-ws-136928\\\\\\\\\\\\\"}]}, \\\\\\\\\\\\\"localData\\\\\\\\\\\\\": {}, \\\\\\\\\\\\\"isEnabled\\\\\\\\\\\\\": true, \\\\\\\\\\\\\"name\\\\\\\\\\\\\": null, \\\\\\\\\\\\\"annotation\\\\\\\\\\\\\": null}, {\\\\\\\\\\\\\"id\\\\\\\\\\\\\": \\\\\\\\\\\\\"d13918e4-eb8e-46ae-9729-2245863ba2cb\\\\\\\\\\\\\", \\\\\\\\\\\\\"type\\\\\\\\\\\\\": \\\\\\\\\\\\\"Microsoft.DPrep.ParseDelimitedBlock\\\\\\\\\\\\\", \\\\\\\\\\\\\"arguments\\\\\\\\\\\\\": {\\\\\\\\\\\\\"columnHeadersMode\\\\\\\\\\\\\": 3, \\\\\\\\\\\\\"fileEncoding\\\\\\\\\\\\\": 0, \\\\\\\\\\\\\"handleQuotedLineBreaks\\\\\\\\\\\\\": false, \\\\\\\\\\\\\"preview\\\\\\\\\\\\\": false, \\\\\\\\\\\\\"separator\\\\\\\\\\\\\": \\\\\\\\\\\\\",\\\\\\\\\\\\\", \\\\\\\\\\\\\"skipRows\\\\\\\\\\\\\": 0, \\\\\\\\\\\\\"skipRowsMode\\\\\\\\\\\\\": 0}, \\\\\\\\\\\\\"localData\\\\\\\\\\\\\": {}, \\\\\\\\\\\\\"isEnabled\\\\\\\\\\\\\": true, \\\\\\\\\\\\\"name\\\\\\\\\\\\\": null, \\\\\\\\\\\\\"annotation\\\\\\\\\\\\\": null}, {\\\\\\\\\\\\\"id\\\\\\\\\\\\\": \\\\\\\\\\\\\"e73708c6-a190-40b5-b34d-f508dea80532\\\\\\\\\\\\\", \\\\\\\\\\\\\"type\\\\\\\\\\\\\": \\\\\\\\\\\\\"Microsoft.DPrep.DropColumnsBlock\\\\\\\\\\\\\", \\\\\\\\\\\\\"arguments\\\\\\\\\\\\\": {\\\\\\\\\\\\\"columns\\\\\\\\\\\\\": {\\\\\\\\\\\\\"type\\\\\\\\\\\\\": 0, \\\\\\\\\\\\\"details\\\\\\\\\\\\\": {\\\\\\\\\\\\\"selectedColumns\\\\\\\\\\\\\": [\\\\\\\\\\\\\"Path\\\\\\\\\\\\\"]}}}, \\\\\\\\\\\\\"localData\\\\\\\\\\\\\": {}, \\\\\\\\\\\\\"isEnabled\\\\\\\\\\\\\": true, \\\\\\\\\\\\\"name\\\\\\\\\\\\\": null, \\\\\\\\\\\\\"annotation\\\\\\\\\\\\\": null}, {\\\\\\\\\\\\\"id\\\\\\\\\\\\\": \\\\\\\\\\\\\"b797224e-3817-4e39-a634-455b9643748c\\\\\\\\\\\\\", \\\\\\\\\\\\\"type\\\\\\\\\\\\\": \\\\\\\\\\\\\"Microsoft.DPrep.SetColumnTypesBlock\\\\\\\\\\\\\", \\\\\\\\\\\\\"arguments\\\\\\\\\\\\\": {\\\\\\\\\\\\\"columnConversion\\\\\\\\\\\\\": [{\\\\\\\\\\\\\"column\\\\\\\\\\\\\": {\\\\\\\\\\\\\"type\\\\\\\\\\\\\": 2, \\\\\\\\\\\\\"details\\\\\\\\\\\\\": {\\\\\\\\\\\\\"selectedColumn\\\\\\\\\\\\\": \\\\\\\\\\\\\"age\\\\\\\\\\\\\"}}, \\\\\\\\\\\\\"typeProperty\\\\\\\\\\\\\": 2}, {\\\\\\\\\\\\\"column\\\\\\\\\\\\\": {\\\\\\\\\\\\\"type\\\\\\\\\\\\\": 2, \\\\\\\\\\\\\"details\\\\\\\\\\\\\": {\\\\\\\\\\\\\"selectedColumn\\\\\\\\\\\\\": \\\\\\\\\\\\\"resting_BP\\\\\\\\\\\\\"}}, \\\\\\\\\\\\\"typeProperty\\\\\\\\\\\\\": 2}, {\\\\\\\\\\\\\"column\\\\\\\\\\\\\": {\\\\\\\\\\\\\"type\\\\\\\\\\\\\": 2, \\\\\\\\\\\\\"details\\\\\\\\\\\\\": {\\\\\\\\\\\\\"selectedColumn\\\\\\\\\\\\\": \\\\\\\\\\\\\"cholesterol\\\\\\\\\\\\\"}}, \\\\\\\\\\\\\"typeProperty\\\\\\\\\\\\\": 2}, {\\\\\\\\\\\\\"column\\\\\\\\\\\\\": {\\\\\\\\\\\\\"type\\\\\\\\\\\\\": 2, \\\\\\\\\\\\\"details\\\\\\\\\\\\\": {\\\\\\\\\\\\\"selectedColumn\\\\\\\\\\\\\": \\\\\\\\\\\\\"max_heart_rate\\\\\\\\\\\\\"}}, \\\\\\\\\\\\\"typeProperty\\\\\\\\\\\\\": 2}, {\\\\\\\\\\\\\"column\\\\\\\\\\\\\": {\\\\\\\\\\\\\"type\\\\\\\\\\\\\": 2, \\\\\\\\\\\\\"details\\\\\\\\\\\\\": {\\\\\\\\\\\\\"selectedColumn\\\\\\\\\\\\\": \\\\\\\\\\\\\"st_depression\\\\\\\\\\\\\"}}, \\\\\\\\\\\\\"typeProperty\\\\\\\\\\\\\": 3}, {\\\\\\\\\\\\\"column\\\\\\\\\\\\\": {\\\\\\\\\\\\\"type\\\\\\\\\\\\\": 2, \\\\\\\\\\\\\"details\\\\\\\\\\\\\": {\\\\\\\\\\\\\"selectedColumn\\\\\\\\\\\\\": \\\\\\\\\\\\\"sex_1\\\\\\\\\\\\\"}}, \\\\\\\\\\\\\"typeProperty\\\\\\\\\\\\\": 2}, {\\\\\\\\\\\\\"column\\\\\\\\\\\\\": {\\\\\\\\\\\\\"type\\\\\\\\\\\\\": 2, \\\\\\\\\\\\\"details\\\\\\\\\\\\\": {\\\\\\\\\\\\\"selectedColumn\\\\\\\\\\\\\": \\\\\\\\\\\\\"chest_pain_type_1\\\\\\\\\\\\\"}}, \\\\\\\\\\\\\"typeProperty\\\\\\\\\\\\\": 2}, {\\\\\\\\\\\\\"column\\\\\\\\\\\\\": {\\\\\\\\\\\\\"type\\\\\\\\\\\\\": 2, \\\\\\\\\\\\\"details\\\\\\\\\\\\\": {\\\\\\\\\\\\\"selectedColumn\\\\\\\\\\\\\": \\\\\\\\\\\\\"chest_pain_type_2\\\\\\\\\\\\\"}}, \\\\\\\\\\\\\"typeProperty\\\\\\\\\\\\\": 2}, {\\\\\\\\\\\\\"column\\\\\\\\\\\\\": {\\\\\\\\\\\\\"type\\\\\\\\\\\\\": 2, \\\\\\\\\\\\\"details\\\\\\\\\\\\\": {\\\\\\\\\\\\\"selectedColumn\\\\\\\\\\\\\": \\\\\\\\\\\\\"chest_pain_type_3\\\\\\\\\\\\\"}}, \\\\\\\\\\\\\"typeProperty\\\\\\\\\\\\\": 2}, {\\\\\\\\\\\\\"column\\\\\\\\\\\\\": {\\\\\\\\\\\\\"type\\\\\\\\\\\\\": 2, \\\\\\\\\\\\\"details\\\\\\\\\\\\\": {\\\\\\\\\\\\\"selectedColumn\\\\\\\\\\\\\": \\\\\\\\\\\\\"fasting_blood_sugar_1\\\\\\\\\\\\\"}}, \\\\\\\\\\\\\"typeProperty\\\\\\\\\\\\\": 2}, {\\\\\\\\\\\\\"column\\\\\\\\\\\\\": {\\\\\\\\\\\\\"type\\\\\\\\\\\\\": 2, \\\\\\\\\\\\\"details\\\\\\\\\\\\\": {\\\\\\\\\\\\\"selectedColumn\\\\\\\\\\\\\": \\\\\\\\\\\\\"rest_ECG_1\\\\\\\\\\\\\"}}, \\\\\\\\\\\\\"typeProperty\\\\\\\\\\\\\": 2}, {\\\\\\\\\\\\\"column\\\\\\\\\\\\\": {\\\\\\\\\\\\\"type\\\\\\\\\\\\\": 2, \\\\\\\\\\\\\"details\\\\\\\\\\\\\": {\\\\\\\\\\\\\"selectedColumn\\\\\\\\\\\\\": \\\\\\\\\\\\\"rest_ECG_2\\\\\\\\\\\\\"}}, \\\\\\\\\\\\\"typeProperty\\\\\\\\\\\\\": 2}, {\\\\\\\\\\\\\"column\\\\\\\\\\\\\": {\\\\\\\\\\\\\"type\\\\\\\\\\\\\": 2, \\\\\\\\\\\\\"details\\\\\\\\\\\\\": {\\\\\\\\\\\\\"selectedColumn\\\\\\\\\\\\\": \\\\\\\\\\\\\"exercise_induced_angina_1\\\\\\\\\\\\\"}}, \\\\\\\\\\\\\"typeProperty\\\\\\\\\\\\\": 2}, {\\\\\\\\\\\\\"column\\\\\\\\\\\\\": {\\\\\\\\\\\\\"type\\\\\\\\\\\\\": 2, \\\\\\\\\\\\\"details\\\\\\\\\\\\\": {\\\\\\\\\\\\\"selectedColumn\\\\\\\\\\\\\": \\\\\\\\\\\\\"st_slope_1\\\\\\\\\\\\\"}}, \\\\\\\\\\\\\"typeProperty\\\\\\\\\\\\\": 2}, {\\\\\\\\\\\\\"column\\\\\\\\\\\\\": {\\\\\\\\\\\\\"type\\\\\\\\\\\\\": 2, \\\\\\\\\\\\\"details\\\\\\\\\\\\\": {\\\\\\\\\\\\\"selectedColumn\\\\\\\\\\\\\": \\\\\\\\\\\\\"st_slope_2\\\\\\\\\\\\\"}}, \\\\\\\\\\\\\"typeProperty\\\\\\\\\\\\\": 2}, {\\\\\\\\\\\\\"column\\\\\\\\\\\\\": {\\\\\\\\\\\\\"type\\\\\\\\\\\\\": 2, \\\\\\\\\\\\\"details\\\\\\\\\\\\\": {\\\\\\\\\\\\\"selectedColumn\\\\\\\\\\\\\": \\\\\\\\\\\\\"num_major_vessels_1.0\\\\\\\\\\\\\"}}, \\\\\\\\\\\\\"typeProperty\\\\\\\\\\\\\": 2}, {\\\\\\\\\\\\\"column\\\\\\\\\\\\\": {\\\\\\\\\\\\\"type\\\\\\\\\\\\\": 2, \\\\\\\\\\\\\"details\\\\\\\\\\\\\": {\\\\\\\\\\\\\"selectedColumn\\\\\\\\\\\\\": \\\\\\\\\\\\\"num_major_vessels_2.0\\\\\\\\\\\\\"}}, \\\\\\\\\\\\\"typeProperty\\\\\\\\\\\\\": 2}, {\\\\\\\\\\\\\"column\\\\\\\\\\\\\": {\\\\\\\\\\\\\"type\\\\\\\\\\\\\": 2, \\\\\\\\\\\\\"details\\\\\\\\\\\\\": {\\\\\\\\\\\\\"selectedColumn\\\\\\\\\\\\\": \\\\\\\\\\\\\"num_major_vessels_3.0\\\\\\\\\\\\\"}}, \\\\\\\\\\\\\"typeProperty\\\\\\\\\\\\\": 2}, {\\\\\\\\\\\\\"column\\\\\\\\\\\\\": {\\\\\\\\\\\\\"type\\\\\\\\\\\\\": 2, \\\\\\\\\\\\\"details\\\\\\\\\\\\\": {\\\\\\\\\\\\\"selectedColumn\\\\\\\\\\\\\": \\\\\\\\\\\\\"thalassemia_2.0\\\\\\\\\\\\\"}}, \\\\\\\\\\\\\"typeProperty\\\\\\\\\\\\\": 2}, {\\\\\\\\\\\\\"column\\\\\\\\\\\\\": {\\\\\\\\\\\\\"type\\\\\\\\\\\\\": 2, \\\\\\\\\\\\\"details\\\\\\\\\\\\\": {\\\\\\\\\\\\\"selectedColumn\\\\\\\\\\\\\": \\\\\\\\\\\\\"thalassemia_3.0\\\\\\\\\\\\\"}}, \\\\\\\\\\\\\"typeProperty\\\\\\\\\\\\\": 2}, {\\\\\\\\\\\\\"column\\\\\\\\\\\\\": {\\\\\\\\\\\\\"type\\\\\\\\\\\\\": 2, \\\\\\\\\\\\\"details\\\\\\\\\\\\\": {\\\\\\\\\\\\\"selectedColumn\\\\\\\\\\\\\": \\\\\\\\\\\\\"target\\\\\\\\\\\\\"}}, \\\\\\\\\\\\\"typeProperty\\\\\\\\\\\\\": 2}]}, \\\\\\\\\\\\\"localData\\\\\\\\\\\\\": {}, \\\\\\\\\\\\\"isEnabled\\\\\\\\\\\\\": true, \\\\\\\\\\\\\"name\\\\\\\\\\\\\": null, \\\\\\\\\\\\\"annotation\\\\\\\\\\\\\": null}, {\\\\\\\\\\\\\"id\\\\\\\\\\\\\": \\\\\\\\\\\\\"8e396543-516f-48de-807a-3b67cc369ac4\\\\\\\\\\\\\", \\\\\\\\\\\\\"type\\\\\\\\\\\\\": \\\\\\\\\\\\\"Microsoft.DPrep.DropColumnsBlock\\\\\\\\\\\\\", \\\\\\\\\\\\\"arguments\\\\\\\\\\\\\": {\\\\\\\\\\\\\"columns\\\\\\\\\\\\\": {\\\\\\\\\\\\\"type\\\\\\\\\\\\\": 0, \\\\\\\\\\\\\"details\\\\\\\\\\\\\": {\\\\\\\\\\\\\"selectedColumns\\\\\\\\\\\\\": [\\\\\\\\\\\\\"Column1\\\\\\\\\\\\\"]}}}, \\\\\\\\\\\\\"localData\\\\\\\\\\\\\": {}, \\\\\\\\\\\\\"isEnabled\\\\\\\\\\\\\": true, \\\\\\\\\\\\\"name\\\\\\\\\\\\\": null, \\\\\\\\\\\\\"annotation\\\\\\\\\\\\\": null}], \\\\\\\\\\\\\"inspectors\\\\\\\\\\\\\": [], \\\\\\\\\\\\\"meta\\\\\\\\\\\\\": {\\\\\\\\\\\\\"savedDatasetId\\\\\\\\\\\\\": \\\\\\\\\\\\\"16068c72-0f3c-4e3f-a7eb-056b244628ec\\\\\\\\\\\\\", \\\\\\\\\\\\\"datasetType\\\\\\\\\\\\\": \\\\\\\\\\\\\"tabular\\\\\\\\\\\\\", \\\\\\\\\\\\\"subscriptionId\\\\\\\\\\\\\": \\\\\\\\\\\\\"b968fb36-f06a-4c76-a15f-afab68ae7667\\\\\\\\\\\\\", \\\\\\\\\\\\\"workspaceId\\\\\\\\\\\\\": \\\\\\\\\\\\\"a32820ff-2549-47e6-b255-8c60746b2402\\\\\\\\\\\\\", \\\\\\\\\\\\\"workspaceLocation\\\\\\\\\\\\\": \\\\\\\\\\\\\"southcentralus\\\\\\\\\\\\\"}}\\\\\", \\\\\"activities\\\\\": 0}',\n",
       "  'EnableSubsampling': None,\n",
       "  'runTemplate': 'AutoML',\n",
       "  'azureml.runsource': 'automl',\n",
       "  'display_task_type': 'classification',\n",
       "  'dependencies_versions': '{\"azureml-widgets\": \"1.20.0\", \"azureml-train\": \"1.20.0\", \"azureml-train-restclients-hyperdrive\": \"1.20.0\", \"azureml-train-core\": \"1.20.0\", \"azureml-train-automl\": \"1.20.0\", \"azureml-train-automl-runtime\": \"1.20.0\", \"azureml-train-automl-client\": \"1.20.0\", \"azureml-tensorboard\": \"1.20.0\", \"azureml-telemetry\": \"1.20.0\", \"azureml-sdk\": \"1.20.0\", \"azureml-samples\": \"0+unknown\", \"azureml-pipeline\": \"1.20.0\", \"azureml-pipeline-steps\": \"1.20.0\", \"azureml-pipeline-core\": \"1.20.0\", \"azureml-opendatasets\": \"1.20.0\", \"azureml-model-management-sdk\": \"1.0.1b6.post1\", \"azureml-mlflow\": \"1.20.0.post1\", \"azureml-interpret\": \"1.20.0\", \"azureml-explain-model\": \"1.20.0\", \"azureml-defaults\": \"1.20.0\", \"azureml-dataset-runtime\": \"1.20.0\", \"azureml-dataprep\": \"2.7.3\", \"azureml-dataprep-rslex\": \"1.5.0\", \"azureml-dataprep-native\": \"27.0.0\", \"azureml-datadrift\": \"1.20.0\", \"azureml-core\": \"1.20.0\", \"azureml-contrib-services\": \"1.20.0\", \"azureml-contrib-server\": \"1.20.0\", \"azureml-contrib-reinforcementlearning\": \"1.20.0\", \"azureml-contrib-pipeline-steps\": \"1.20.0\", \"azureml-contrib-notebook\": \"1.20.0\", \"azureml-contrib-interpret\": \"1.20.0\", \"azureml-contrib-gbdt\": \"1.20.0\", \"azureml-contrib-fairness\": \"1.20.0\", \"azureml-contrib-dataset\": \"1.20.0\", \"azureml-cli-common\": \"1.20.0\", \"azureml-automl-runtime\": \"1.20.0\", \"azureml-automl-core\": \"1.20.0\", \"azureml-accel-models\": \"1.20.0\"}',\n",
       "  '_aml_system_scenario_identification': 'Remote.Parent',\n",
       "  'ClientType': 'SDK',\n",
       "  'environment_cpu_name': 'AzureML-AutoML',\n",
       "  'environment_cpu_label': 'prod',\n",
       "  'environment_gpu_name': 'AzureML-AutoML-GPU',\n",
       "  'environment_gpu_label': 'prod',\n",
       "  'root_attribution': 'automl',\n",
       "  'attribution': 'AutoML',\n",
       "  'Orchestrator': 'AutoML',\n",
       "  'CancelUri': 'https://southcentralus.experiments.azureml.net/jasmine/v1.0/subscriptions/b968fb36-f06a-4c76-a15f-afab68ae7667/resourceGroups/aml-quickstarts-136928/providers/Microsoft.MachineLearningServices/workspaces/quick-starts-ws-136928/experimentids/11fd5846-f1fb-4767-bae7-2c456f37744d/cancel/AutoML_161ff06f-d36e-44f5-b85a-6136c55e260f',\n",
       "  'ClientSdkVersion': '1.21.0',\n",
       "  'snapshotId': '00000000-0000-0000-0000-000000000000',\n",
       "  'SetupRunId': 'AutoML_161ff06f-d36e-44f5-b85a-6136c55e260f_setup',\n",
       "  'SetupRunContainerId': 'dcid.AutoML_161ff06f-d36e-44f5-b85a-6136c55e260f_setup',\n",
       "  'FeaturizationRunJsonPath': 'featurizer_container.json',\n",
       "  'FeaturizationRunId': 'AutoML_161ff06f-d36e-44f5-b85a-6136c55e260f_featurize',\n",
       "  'ProblemInfoJsonString': '{\"dataset_num_categorical\": 0, \"is_sparse\": false, \"subsampling\": false, \"dataset_classes\": 2, \"dataset_features\": 20, \"dataset_samples\": 241, \"single_frequency_class_detected\": false}',\n",
       "  'ModelExplainRunId': 'AutoML_161ff06f-d36e-44f5-b85a-6136c55e260f_ModelExplain',\n",
       "  'azureml.git.repository_uri': 'https://github.com/bharati-21/AZMLND-Capstone-Project.git',\n",
       "  'mlflow.source.git.repoURL': 'https://github.com/bharati-21/AZMLND-Capstone-Project.git',\n",
       "  'azureml.git.branch': 'master',\n",
       "  'mlflow.source.git.branch': 'master',\n",
       "  'azureml.git.commit': '48bb881975cb9f22e1f389c81c2a814689d8cf39',\n",
       "  'mlflow.source.git.commit': '48bb881975cb9f22e1f389c81c2a814689d8cf39',\n",
       "  'azureml.git.dirty': 'True'},\n",
       " 'inputDatasets': [{'dataset': {'id': '16068c72-0f3c-4e3f-a7eb-056b244628ec'}, 'consumptionDetails': {'type': 'RunInput', 'inputName': 'training_data', 'mechanism': 'Direct'}}],\n",
       " 'outputDatasets': [],\n",
       " 'logFiles': {},\n",
       " 'submittedBy': 'ODL_User 136928'}"
      ]
     },
     "execution_count": 20,
     "metadata": {},
     "output_type": "execute_result"
    },
    {
     "data": {
      "application/vnd.jupyter.widget-view+json": {
       "model_id": "9cf39a49a63e4fa5a7ca463d584b56f9",
       "version_major": 2,
       "version_minor": 0
      },
      "text/plain": [
       "_UserRunWidget(widget_settings={'childWidgetDisplay': 'popup', 'send_telemetry': False, 'log_level': 'INFO', '…"
      ]
     },
     "metadata": {},
     "output_type": "display_data"
    },
    {
     "data": {
      "application/aml.mini.widget.v1": "{\"loading\": true}"
     },
     "metadata": {},
     "output_type": "display_data"
    }
   ],
   "source": [
    "from azureml.widgets import RunDetails\n",
    "\n",
    "RunDetails(remote_run).show()\n",
    "remote_run.wait_for_completion(show_output=True)"
   ]
  },
  {
   "cell_type": "markdown",
   "metadata": {},
   "source": [
    "## Best Model\n",
    "\n",
    "TODO: In the cell below, get the best model from the automl experiments and display all the properties of the model.\n",
    "\n"
   ]
  },
  {
   "cell_type": "code",
   "execution_count": 21,
   "metadata": {
    "gather": {
     "logged": 1598431425670
    },
    "jupyter": {
     "outputs_hidden": false,
     "source_hidden": false
    },
    "nteract": {
     "transient": {
      "deleting": false
     }
    }
   },
   "outputs": [
    {
     "name": "stderr",
     "output_type": "stream",
     "text": [
      "WARNING:root:The version of the SDK does not match the version the model was trained on.\n",
      "WARNING:root:The consistency in the result may not be guaranteed.\n",
      "WARNING:root:Package:azureml-automl-core, training version:1.21.0, current version:1.20.0\n",
      "Package:azureml-automl-runtime, training version:1.21.0, current version:1.20.0\n",
      "Package:azureml-core, training version:1.21.0.post1, current version:1.20.0\n",
      "Package:azureml-dataprep, training version:2.8.2, current version:2.7.3\n",
      "Package:azureml-dataprep-native, training version:28.0.0, current version:27.0.0\n",
      "Package:azureml-dataprep-rslex, training version:1.6.0, current version:1.5.0\n",
      "Package:azureml-dataset-runtime, training version:1.21.0, current version:1.20.0\n",
      "Package:azureml-defaults, training version:1.21.0, current version:1.20.0\n",
      "Package:azureml-interpret, training version:1.21.0, current version:1.20.0\n",
      "Package:azureml-pipeline-core, training version:1.21.0, current version:1.20.0\n",
      "Package:azureml-telemetry, training version:1.21.0, current version:1.20.0\n",
      "Package:azureml-train-automl-client, training version:1.21.0, current version:1.20.0\n",
      "Package:azureml-train-automl-runtime, training version:1.21.0, current version:1.20.0\n",
      "WARNING:root:Please ensure the version of your local conda dependencies match the version on which your model was trained in order to properly retrieve your model.\n"
     ]
    },
    {
     "name": "stdout",
     "output_type": "stream",
     "text": [
      "Run(Experiment: Heart_Disease_Kaggle_AutoML,\n",
      "Id: AutoML_161ff06f-d36e-44f5-b85a-6136c55e260f_26,\n",
      "Type: azureml.scriptrun,\n",
      "Status: Completed)\n"
     ]
    }
   ],
   "source": [
    "best_run, fitted_model = remote_run.get_output()\n",
    "print(best_run)"
   ]
  },
  {
   "cell_type": "code",
   "execution_count": 22,
   "metadata": {},
   "outputs": [
    {
     "name": "stdout",
     "output_type": "stream",
     "text": [
      "Pipeline(memory=None,\n",
      "         steps=[('datatransformer',\n",
      "                 DataTransformer(enable_dnn=None, enable_feature_sweeping=None,\n",
      "                                 feature_sweeping_config=None,\n",
      "                                 feature_sweeping_timeout=None,\n",
      "                                 featurization_config=None, force_text_dnn=None,\n",
      "                                 is_cross_validation=None,\n",
      "                                 is_onnx_compatible=None, logger=None,\n",
      "                                 observer=None, task=None, working_dir=None)),\n",
      "                ('prefittedsoftvotingclassifier',...\n",
      "                                                                                                  min_samples_split=0.33789473684210525,\n",
      "                                                                                                  min_weight_fraction_leaf=0.0,\n",
      "                                                                                                  n_estimators=100,\n",
      "                                                                                                  n_jobs=1,\n",
      "                                                                                                  oob_score=True,\n",
      "                                                                                                  random_state=None,\n",
      "                                                                                                  verbose=0,\n",
      "                                                                                                  warm_start=False))],\n",
      "                                                                     verbose=False))],\n",
      "                                               flatten_transform=None,\n",
      "                                               weights=[0.07142857142857142,\n",
      "                                                        0.21428571428571427,\n",
      "                                                        0.07142857142857142,\n",
      "                                                        0.07142857142857142,\n",
      "                                                        0.21428571428571427,\n",
      "                                                        0.14285714285714285,\n",
      "                                                        0.21428571428571427]))],\n",
      "         verbose=False)\n"
     ]
    }
   ],
   "source": [
    "print(fitted_model)"
   ]
  },
  {
   "cell_type": "code",
   "execution_count": 23,
   "metadata": {},
   "outputs": [
    {
     "data": {
      "text/plain": [
       "{'_aml_system_azureml.automlComponent': 'AutoML',\n",
       " '_aml_system_ComputeTargetStatus': '{\"AllocationState\":\"steady\",\"PreparingNodeCount\":0,\"RunningNodeCount\":2,\"CurrentNodeCount\":2}',\n",
       " 'ensembled_iterations': '[17, 0, 23, 6, 1, 21, 25]',\n",
       " 'ensembled_algorithms': \"['ExtremeRandomTrees', 'LightGBM', 'RandomForest', 'GradientBoosting', 'XGBoostClassifier', 'XGBoostClassifier', 'ExtremeRandomTrees']\",\n",
       " 'ensemble_weights': '[0.07142857142857142, 0.21428571428571427, 0.07142857142857142, 0.07142857142857142, 0.21428571428571427, 0.14285714285714285, 0.21428571428571427]',\n",
       " 'best_individual_pipeline_score': '0.8172619047619047',\n",
       " 'best_individual_iteration': '17',\n",
       " '_aml_system_automl_is_child_run_end_telemetry_event_logged': 'True',\n",
       " 'model_explain_run_id': 'AutoML_161ff06f-d36e-44f5-b85a-6136c55e260f_ModelExplain',\n",
       " 'model_explanation': 'True'}"
      ]
     },
     "execution_count": 23,
     "metadata": {},
     "output_type": "execute_result"
    }
   ],
   "source": [
    "best_run.get_tags()"
   ]
  },
  {
   "cell_type": "code",
   "execution_count": 25,
   "metadata": {
    "gather": {
     "logged": 1598431426111
    },
    "jupyter": {
     "outputs_hidden": false,
     "source_hidden": false
    },
    "nteract": {
     "transient": {
      "deleting": false
     }
    }
   },
   "outputs": [],
   "source": [
    "import joblib\n",
    "from azureml.core.model import Model\n",
    "\n",
    "#TODO: Save the best model\n",
    "\n",
    "description = \"Best Model from AutoML run of the Kaggle Heart Disease Dataset\"\n",
    "automl_model = remote_run.register_model(model_name='kaggle_heart_autoML_best_model.pkl', description=description)"
   ]
  },
  {
   "cell_type": "markdown",
   "metadata": {},
   "source": [
    "## Model Deployment\n",
    "\n",
    "Remember you have to deploy only one of the two models you trained.. Perform the steps in the rest of this notebook only if you wish to deploy this model.\n",
    "\n",
    "TODO: In the cell below, register the model, create an inference config and deploy the model as a web service."
   ]
  },
  {
   "cell_type": "code",
   "execution_count": null,
   "metadata": {
    "gather": {
     "logged": 1598431435189
    },
    "jupyter": {
     "outputs_hidden": false,
     "source_hidden": false
    },
    "nteract": {
     "transient": {
      "deleting": false
     }
    }
   },
   "outputs": [],
   "source": []
  },
  {
   "cell_type": "markdown",
   "metadata": {
    "collapsed": true,
    "gather": {
     "logged": 1598431657736
    },
    "jupyter": {
     "outputs_hidden": false,
     "source_hidden": false
    },
    "nteract": {
     "transient": {
      "deleting": false
     }
    }
   },
   "source": [
    "TODO: In the cell below, send a request to the web service you deployed to test it."
   ]
  },
  {
   "cell_type": "code",
   "execution_count": null,
   "metadata": {
    "gather": {
     "logged": 1598432707604
    },
    "jupyter": {
     "outputs_hidden": false,
     "source_hidden": false
    },
    "nteract": {
     "transient": {
      "deleting": false
     }
    }
   },
   "outputs": [],
   "source": []
  },
  {
   "cell_type": "markdown",
   "metadata": {
    "collapsed": true,
    "gather": {
     "logged": 1598432765711
    },
    "jupyter": {
     "outputs_hidden": false,
     "source_hidden": false
    },
    "nteract": {
     "transient": {
      "deleting": false
     }
    }
   },
   "source": [
    "TODO: In the cell below, print the logs of the web service and delete the service"
   ]
  },
  {
   "cell_type": "code",
   "execution_count": null,
   "metadata": {
    "jupyter": {
     "outputs_hidden": false,
     "source_hidden": false
    },
    "nteract": {
     "transient": {
      "deleting": false
     }
    }
   },
   "outputs": [],
   "source": []
  }
 ],
 "metadata": {
  "kernel_info": {
   "name": "python3-azureml"
  },
  "kernelspec": {
   "display_name": "Python 3",
   "language": "python",
   "name": "python3"
  },
  "language_info": {
   "codemirror_mode": {
    "name": "ipython",
    "version": 3
   },
   "file_extension": ".py",
   "mimetype": "text/x-python",
   "name": "python",
   "nbconvert_exporter": "python",
   "pygments_lexer": "ipython3",
   "version": "3.6.9"
  },
  "nteract": {
   "version": "nteract-front-end@1.0.0"
  }
 },
 "nbformat": 4,
 "nbformat_minor": 2
}
