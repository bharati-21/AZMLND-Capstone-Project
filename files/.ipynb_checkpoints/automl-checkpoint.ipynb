{
 "cells": [
  {
   "cell_type": "markdown",
   "metadata": {},
   "source": [
    "# Automated ML\n",
    "\n",
    "TODO: Import Dependencies. In the cell below, import all the dependencies that you will need to complete the project."
   ]
  },
  {
   "cell_type": "code",
   "execution_count": 1,
   "metadata": {
    "gather": {
     "logged": 1598423888013
    },
    "jupyter": {
     "outputs_hidden": false,
     "source_hidden": false
    },
    "nteract": {
     "transient": {
      "deleting": false
     }
    }
   },
   "outputs": [],
   "source": [
    "from azureml.core import Workspace, Experiment"
   ]
  },
  {
   "cell_type": "markdown",
   "metadata": {},
   "source": [
    "## Dataset\n",
    "\n",
    "### Overview\n",
    "TODO: In this markdown cell, give an overview of the dataset you are using. Also mention the task you will be performing.\n",
    "\n",
    "\n",
    "TODO: Get data. In the cell below, write code to access the data you will be using in this project. Remember that the dataset needs to be external."
   ]
  },
  {
   "cell_type": "code",
   "execution_count": 2,
   "metadata": {
    "gather": {
     "logged": 1598423890461
    },
    "jupyter": {
     "outputs_hidden": false,
     "source_hidden": false
    },
    "nteract": {
     "transient": {
      "deleting": false
     }
    }
   },
   "outputs": [
    {
     "name": "stdout",
     "output_type": "stream",
     "text": [
      "WORKSPACE DETAILS:\n",
      "Workspace name: quick-starts-ws-137068\n",
      "Azure region: southcentralus\n",
      "Subscription id: f9d5a085-54dc-4215-9ba6-dad5d86e60a0\n",
      "Resource group: aml-quickstarts-137068\n",
      "Experiment created\n"
     ]
    }
   ],
   "source": [
    "ws = Workspace.from_config()\n",
    "\n",
    "print('WORKSPACE DETAILS:\\nWorkspace name: ' + ws.name, \n",
    "      'Azure region: ' + ws.location, \n",
    "      'Subscription id: ' + ws.subscription_id, \n",
    "      'Resource group: ' + ws.resource_group, sep = '\\n')\n",
    "\n",
    "# choose a name for experiment\n",
    "experiment_name = 'heart-disease-automl'\n",
    "\n",
    "experiment=Experiment(ws, experiment_name)\n",
    "print(\"Experiment created\")\n",
    "\n",
    "run = experiment.start_logging()"
   ]
  },
  {
   "cell_type": "code",
   "execution_count": 3,
   "metadata": {},
   "outputs": [
    {
     "name": "stdout",
     "output_type": "stream",
     "text": [
      "Existing compute target found... Using it\n",
      "Succeeded\n",
      "AmlCompute wait for completion finished\n",
      "\n",
      "Minimum number of nodes requested have been provisioned\n"
     ]
    }
   ],
   "source": [
    "from azureml.core.compute import ComputeTarget, AmlCompute\n",
    "from azureml.core.compute_target import ComputeTargetException\n",
    "# Creating a compute cluster\n",
    "# vm_size = \"Standard_D2_V2\"\n",
    "# max_nodes = 4.\n",
    "\n",
    "cpu_cluster_name = \"cpu-cluster\"\n",
    "\n",
    "# to check whether the compute cluster exists already or not\n",
    "try:\n",
    "    cpu_cluster = ComputeTarget(workspace=ws, name=cpu_cluster_name)\n",
    "    print(\"Existing compute target found... Using it\")\n",
    "\n",
    "except ComputeTargetException:\n",
    "    print(\"Creating new Compute Target... \" + cpu_cluster_name)\n",
    "    provisioning_compute_config = AmlCompute.provisioning_configuration(vm_size=\"STANDARD_D2_V2\", max_nodes=4)\n",
    "    cpu_cluster = ComputeTarget.create(ws, cpu_cluster_name, provisioning_compute_config)\n",
    "\n",
    "cpu_cluster.wait_for_completion(show_output=True)"
   ]
  },
  {
   "cell_type": "markdown",
   "metadata": {},
   "source": [
    "## Exploring the Dataset"
   ]
  },
  {
   "cell_type": "code",
   "execution_count": 4,
   "metadata": {},
   "outputs": [],
   "source": [
    "from azureml.data.dataset_factory import TabularDatasetFactory\n",
    "import pandas as pd\n",
    "\n",
    "url_path = \"https://raw.githubusercontent.com/bharati-21/AZMLND-Capstone-Project/master/files/heart.csv\"\n",
    "ds = TabularDatasetFactory.from_delimited_files(path=url_path)\n",
    "\n",
    "df = pd.read_csv(url_path)"
   ]
  },
  {
   "cell_type": "code",
   "execution_count": 5,
   "metadata": {},
   "outputs": [
    {
     "data": {
      "text/html": [
       "<div>\n",
       "<style scoped>\n",
       "    .dataframe tbody tr th:only-of-type {\n",
       "        vertical-align: middle;\n",
       "    }\n",
       "\n",
       "    .dataframe tbody tr th {\n",
       "        vertical-align: top;\n",
       "    }\n",
       "\n",
       "    .dataframe thead th {\n",
       "        text-align: right;\n",
       "    }\n",
       "</style>\n",
       "<table border=\"1\" class=\"dataframe\">\n",
       "  <thead>\n",
       "    <tr style=\"text-align: right;\">\n",
       "      <th></th>\n",
       "      <th>age</th>\n",
       "      <th>sex</th>\n",
       "      <th>cp</th>\n",
       "      <th>trestbps</th>\n",
       "      <th>chol</th>\n",
       "      <th>fbs</th>\n",
       "      <th>restecg</th>\n",
       "      <th>thalach</th>\n",
       "      <th>exang</th>\n",
       "      <th>oldpeak</th>\n",
       "      <th>slope</th>\n",
       "      <th>ca</th>\n",
       "      <th>thal</th>\n",
       "      <th>target</th>\n",
       "    </tr>\n",
       "  </thead>\n",
       "  <tbody>\n",
       "    <tr>\n",
       "      <th>0</th>\n",
       "      <td>63</td>\n",
       "      <td>1</td>\n",
       "      <td>3</td>\n",
       "      <td>145</td>\n",
       "      <td>233</td>\n",
       "      <td>1</td>\n",
       "      <td>0</td>\n",
       "      <td>150</td>\n",
       "      <td>0</td>\n",
       "      <td>2.3</td>\n",
       "      <td>0</td>\n",
       "      <td>0</td>\n",
       "      <td>1</td>\n",
       "      <td>1</td>\n",
       "    </tr>\n",
       "    <tr>\n",
       "      <th>1</th>\n",
       "      <td>37</td>\n",
       "      <td>1</td>\n",
       "      <td>2</td>\n",
       "      <td>130</td>\n",
       "      <td>250</td>\n",
       "      <td>0</td>\n",
       "      <td>1</td>\n",
       "      <td>187</td>\n",
       "      <td>0</td>\n",
       "      <td>3.5</td>\n",
       "      <td>0</td>\n",
       "      <td>0</td>\n",
       "      <td>2</td>\n",
       "      <td>1</td>\n",
       "    </tr>\n",
       "    <tr>\n",
       "      <th>2</th>\n",
       "      <td>41</td>\n",
       "      <td>0</td>\n",
       "      <td>1</td>\n",
       "      <td>130</td>\n",
       "      <td>204</td>\n",
       "      <td>0</td>\n",
       "      <td>0</td>\n",
       "      <td>172</td>\n",
       "      <td>0</td>\n",
       "      <td>1.4</td>\n",
       "      <td>2</td>\n",
       "      <td>0</td>\n",
       "      <td>2</td>\n",
       "      <td>1</td>\n",
       "    </tr>\n",
       "    <tr>\n",
       "      <th>3</th>\n",
       "      <td>56</td>\n",
       "      <td>1</td>\n",
       "      <td>1</td>\n",
       "      <td>120</td>\n",
       "      <td>236</td>\n",
       "      <td>0</td>\n",
       "      <td>1</td>\n",
       "      <td>178</td>\n",
       "      <td>0</td>\n",
       "      <td>0.8</td>\n",
       "      <td>2</td>\n",
       "      <td>0</td>\n",
       "      <td>2</td>\n",
       "      <td>1</td>\n",
       "    </tr>\n",
       "    <tr>\n",
       "      <th>4</th>\n",
       "      <td>57</td>\n",
       "      <td>0</td>\n",
       "      <td>0</td>\n",
       "      <td>120</td>\n",
       "      <td>354</td>\n",
       "      <td>0</td>\n",
       "      <td>1</td>\n",
       "      <td>163</td>\n",
       "      <td>1</td>\n",
       "      <td>0.6</td>\n",
       "      <td>2</td>\n",
       "      <td>0</td>\n",
       "      <td>2</td>\n",
       "      <td>1</td>\n",
       "    </tr>\n",
       "  </tbody>\n",
       "</table>\n",
       "</div>"
      ],
      "text/plain": [
       "   age  sex  cp  trestbps  chol  fbs  restecg  thalach  exang  oldpeak  slope  \\\n",
       "0   63    1   3       145   233    1        0      150      0      2.3      0   \n",
       "1   37    1   2       130   250    0        1      187      0      3.5      0   \n",
       "2   41    0   1       130   204    0        0      172      0      1.4      2   \n",
       "3   56    1   1       120   236    0        1      178      0      0.8      2   \n",
       "4   57    0   0       120   354    0        1      163      1      0.6      2   \n",
       "\n",
       "   ca  thal  target  \n",
       "0   0     1       1  \n",
       "1   0     2       1  \n",
       "2   0     2       1  \n",
       "3   0     2       1  \n",
       "4   0     2       1  "
      ]
     },
     "execution_count": 5,
     "metadata": {},
     "output_type": "execute_result"
    }
   ],
   "source": [
    "ds_dataframe = ds.to_pandas_dataframe()\n",
    "df.head()"
   ]
  },
  {
   "cell_type": "code",
   "execution_count": 6,
   "metadata": {},
   "outputs": [
    {
     "name": "stdout",
     "output_type": "stream",
     "text": [
      "Shape of dataset before split: (302, 21)\n"
     ]
    },
    {
     "data": {
      "text/html": [
       "<div>\n",
       "<style scoped>\n",
       "    .dataframe tbody tr th:only-of-type {\n",
       "        vertical-align: middle;\n",
       "    }\n",
       "\n",
       "    .dataframe tbody tr th {\n",
       "        vertical-align: top;\n",
       "    }\n",
       "\n",
       "    .dataframe thead th {\n",
       "        text-align: right;\n",
       "    }\n",
       "</style>\n",
       "<table border=\"1\" class=\"dataframe\">\n",
       "  <thead>\n",
       "    <tr style=\"text-align: right;\">\n",
       "      <th></th>\n",
       "      <th>age</th>\n",
       "      <th>resting_BP</th>\n",
       "      <th>cholesterol</th>\n",
       "      <th>max_heart_rate</th>\n",
       "      <th>st_depression</th>\n",
       "      <th>sex_1</th>\n",
       "      <th>chest_pain_type_1</th>\n",
       "      <th>chest_pain_type_2</th>\n",
       "      <th>chest_pain_type_3</th>\n",
       "      <th>fasting_blood_sugar_1</th>\n",
       "      <th>rest_ECG_1</th>\n",
       "      <th>rest_ECG_2</th>\n",
       "      <th>exercise_induced_angina_1</th>\n",
       "      <th>st_slope_1</th>\n",
       "      <th>st_slope_2</th>\n",
       "      <th>num_major_vessels_1.0</th>\n",
       "      <th>num_major_vessels_2.0</th>\n",
       "      <th>num_major_vessels_3.0</th>\n",
       "      <th>thalassemia_2.0</th>\n",
       "      <th>thalassemia_3.0</th>\n",
       "    </tr>\n",
       "  </thead>\n",
       "  <tbody>\n",
       "    <tr>\n",
       "      <th>0</th>\n",
       "      <td>63</td>\n",
       "      <td>145</td>\n",
       "      <td>233</td>\n",
       "      <td>150</td>\n",
       "      <td>2.3</td>\n",
       "      <td>1</td>\n",
       "      <td>0</td>\n",
       "      <td>0</td>\n",
       "      <td>1</td>\n",
       "      <td>1</td>\n",
       "      <td>0</td>\n",
       "      <td>0</td>\n",
       "      <td>0</td>\n",
       "      <td>0</td>\n",
       "      <td>0</td>\n",
       "      <td>0</td>\n",
       "      <td>0</td>\n",
       "      <td>0</td>\n",
       "      <td>0</td>\n",
       "      <td>0</td>\n",
       "    </tr>\n",
       "    <tr>\n",
       "      <th>1</th>\n",
       "      <td>37</td>\n",
       "      <td>130</td>\n",
       "      <td>250</td>\n",
       "      <td>187</td>\n",
       "      <td>3.5</td>\n",
       "      <td>1</td>\n",
       "      <td>0</td>\n",
       "      <td>1</td>\n",
       "      <td>0</td>\n",
       "      <td>0</td>\n",
       "      <td>1</td>\n",
       "      <td>0</td>\n",
       "      <td>0</td>\n",
       "      <td>0</td>\n",
       "      <td>0</td>\n",
       "      <td>0</td>\n",
       "      <td>0</td>\n",
       "      <td>0</td>\n",
       "      <td>1</td>\n",
       "      <td>0</td>\n",
       "    </tr>\n",
       "    <tr>\n",
       "      <th>2</th>\n",
       "      <td>41</td>\n",
       "      <td>130</td>\n",
       "      <td>204</td>\n",
       "      <td>172</td>\n",
       "      <td>1.4</td>\n",
       "      <td>0</td>\n",
       "      <td>1</td>\n",
       "      <td>0</td>\n",
       "      <td>0</td>\n",
       "      <td>0</td>\n",
       "      <td>0</td>\n",
       "      <td>0</td>\n",
       "      <td>0</td>\n",
       "      <td>0</td>\n",
       "      <td>1</td>\n",
       "      <td>0</td>\n",
       "      <td>0</td>\n",
       "      <td>0</td>\n",
       "      <td>1</td>\n",
       "      <td>0</td>\n",
       "    </tr>\n",
       "    <tr>\n",
       "      <th>3</th>\n",
       "      <td>56</td>\n",
       "      <td>120</td>\n",
       "      <td>236</td>\n",
       "      <td>178</td>\n",
       "      <td>0.8</td>\n",
       "      <td>1</td>\n",
       "      <td>1</td>\n",
       "      <td>0</td>\n",
       "      <td>0</td>\n",
       "      <td>0</td>\n",
       "      <td>1</td>\n",
       "      <td>0</td>\n",
       "      <td>0</td>\n",
       "      <td>0</td>\n",
       "      <td>1</td>\n",
       "      <td>0</td>\n",
       "      <td>0</td>\n",
       "      <td>0</td>\n",
       "      <td>1</td>\n",
       "      <td>0</td>\n",
       "    </tr>\n",
       "    <tr>\n",
       "      <th>4</th>\n",
       "      <td>57</td>\n",
       "      <td>120</td>\n",
       "      <td>354</td>\n",
       "      <td>163</td>\n",
       "      <td>0.6</td>\n",
       "      <td>0</td>\n",
       "      <td>0</td>\n",
       "      <td>0</td>\n",
       "      <td>0</td>\n",
       "      <td>0</td>\n",
       "      <td>1</td>\n",
       "      <td>0</td>\n",
       "      <td>1</td>\n",
       "      <td>0</td>\n",
       "      <td>1</td>\n",
       "      <td>0</td>\n",
       "      <td>0</td>\n",
       "      <td>0</td>\n",
       "      <td>1</td>\n",
       "      <td>0</td>\n",
       "    </tr>\n",
       "  </tbody>\n",
       "</table>\n",
       "</div>"
      ],
      "text/plain": [
       "   age  resting_BP  cholesterol  max_heart_rate  st_depression  sex_1  \\\n",
       "0   63         145          233             150            2.3      1   \n",
       "1   37         130          250             187            3.5      1   \n",
       "2   41         130          204             172            1.4      0   \n",
       "3   56         120          236             178            0.8      1   \n",
       "4   57         120          354             163            0.6      0   \n",
       "\n",
       "   chest_pain_type_1  chest_pain_type_2  chest_pain_type_3  \\\n",
       "0                  0                  0                  1   \n",
       "1                  0                  1                  0   \n",
       "2                  1                  0                  0   \n",
       "3                  1                  0                  0   \n",
       "4                  0                  0                  0   \n",
       "\n",
       "   fasting_blood_sugar_1  rest_ECG_1  rest_ECG_2  exercise_induced_angina_1  \\\n",
       "0                      1           0           0                          0   \n",
       "1                      0           1           0                          0   \n",
       "2                      0           0           0                          0   \n",
       "3                      0           1           0                          0   \n",
       "4                      0           1           0                          1   \n",
       "\n",
       "   st_slope_1  st_slope_2  num_major_vessels_1.0  num_major_vessels_2.0  \\\n",
       "0           0           0                      0                      0   \n",
       "1           0           0                      0                      0   \n",
       "2           0           1                      0                      0   \n",
       "3           0           1                      0                      0   \n",
       "4           0           1                      0                      0   \n",
       "\n",
       "   num_major_vessels_3.0  thalassemia_2.0  thalassemia_3.0  \n",
       "0                      0                0                0  \n",
       "1                      0                1                0  \n",
       "2                      0                1                0  \n",
       "3                      0                1                0  \n",
       "4                      0                1                0  "
      ]
     },
     "execution_count": 6,
     "metadata": {},
     "output_type": "execute_result"
    }
   ],
   "source": [
    "from train import clean_data\n",
    "\n",
    "# Use the clean_data function to clean your data.\n",
    "x, y = clean_data(ds)\n",
    "x.head()"
   ]
  },
  {
   "cell_type": "code",
   "execution_count": null,
   "metadata": {},
   "outputs": [],
   "source": [
    "# x['target'] = y\n",
    "# x"
   ]
  },
  {
   "cell_type": "code",
   "execution_count": 7,
   "metadata": {},
   "outputs": [
    {
     "name": "stdout",
     "output_type": "stream",
     "text": [
      "Dicrectory 'Data' created...\n"
     ]
    }
   ],
   "source": [
    "import os\n",
    "path = \"./Data\"\n",
    "try:\n",
    "    os.makedirs(path, exist_ok=True)\n",
    "    print(\"Dicrectory 'Data' created...\")\n",
    "except OSError:\n",
    "    print(\"Directory 'Data' cannot be created...\")"
   ]
  },
  {
   "cell_type": "code",
   "execution_count": 8,
   "metadata": {},
   "outputs": [
    {
     "name": "stdout",
     "output_type": "stream",
     "text": [
      "(61, 20) (241, 20) (61,) (241,)\n",
      "(241, 21)\n",
      "(61, 21)\n"
     ]
    }
   ],
   "source": [
    "# split data into test and train sets\n",
    "\n",
    "from sklearn.model_selection import train_test_split\n",
    "import pandas as pd\n",
    "\n",
    "#spliting the data\n",
    "train_x, test_x, train_y, test_y = train_test_split(x, y, test_size = 0.2)\n",
    "print(test_x.shape, train_x.shape, test_y.shape, train_y.shape)\n",
    "\n",
    "train_df = train_x.copy(deep=True)\n",
    "train_df['target'] = train_y\n",
    "print(train_df.shape)\n",
    "\n",
    "test_df = test_x.copy(deep=True)\n",
    "test_df['target'] = test_y\n",
    "print(test_df.shape)\n",
    "\n",
    "# saving test and train data locally\n",
    "train_df.to_csv(\"./Data/train_data.csv\", index = False)\n",
    "test_df.to_csv(\"./Data/test_data.csv\", index = False)"
   ]
  },
  {
   "cell_type": "code",
   "execution_count": 9,
   "metadata": {},
   "outputs": [
    {
     "name": "stdout",
     "output_type": "stream",
     "text": [
      "Uploading an estimated of 2 files\n",
      "Uploading Data/test_data.csv\n",
      "Uploaded Data/test_data.csv, 1 files out of an estimated total of 2\n",
      "Uploading Data/train_data.csv\n",
      "Uploaded Data/train_data.csv, 2 files out of an estimated total of 2\n",
      "Uploaded 2 files\n"
     ]
    },
    {
     "data": {
      "text/plain": [
       "$AZUREML_DATAREFERENCE_f7d53d8bd18e4241882361c8a6adb7a7"
      ]
     },
     "execution_count": 9,
     "metadata": {},
     "output_type": "execute_result"
    }
   ],
   "source": [
    "deafult_store = ws.get_default_datastore()\n",
    "deafult_store.upload(src_dir=\"Data\", target_path=\"Data\", overwrite=True)"
   ]
  },
  {
   "cell_type": "code",
   "execution_count": 10,
   "metadata": {},
   "outputs": [],
   "source": [
    "from azureml.core import Dataset\n",
    "\n",
    "train_data = TabularDatasetFactory.from_delimited_files(path=[(deafult_store, ('Data/train_data.csv'))])\n",
    "test_data = TabularDatasetFactory.from_delimited_files(path=[(deafult_store, ('Data/test_data.csv'))])"
   ]
  },
  {
   "cell_type": "code",
   "execution_count": 11,
   "metadata": {
    "scrolled": false
   },
   "outputs": [
    {
     "data": {
      "text/html": [
       "<div>\n",
       "<style scoped>\n",
       "    .dataframe tbody tr th:only-of-type {\n",
       "        vertical-align: middle;\n",
       "    }\n",
       "\n",
       "    .dataframe tbody tr th {\n",
       "        vertical-align: top;\n",
       "    }\n",
       "\n",
       "    .dataframe thead th {\n",
       "        text-align: right;\n",
       "    }\n",
       "</style>\n",
       "<table border=\"1\" class=\"dataframe\">\n",
       "  <thead>\n",
       "    <tr style=\"text-align: right;\">\n",
       "      <th></th>\n",
       "      <th>age</th>\n",
       "      <th>resting_BP</th>\n",
       "      <th>cholesterol</th>\n",
       "      <th>max_heart_rate</th>\n",
       "      <th>st_depression</th>\n",
       "      <th>sex_1</th>\n",
       "      <th>chest_pain_type_1</th>\n",
       "      <th>chest_pain_type_2</th>\n",
       "      <th>chest_pain_type_3</th>\n",
       "      <th>fasting_blood_sugar_1</th>\n",
       "      <th>...</th>\n",
       "      <th>rest_ECG_2</th>\n",
       "      <th>exercise_induced_angina_1</th>\n",
       "      <th>st_slope_1</th>\n",
       "      <th>st_slope_2</th>\n",
       "      <th>num_major_vessels_1.0</th>\n",
       "      <th>num_major_vessels_2.0</th>\n",
       "      <th>num_major_vessels_3.0</th>\n",
       "      <th>thalassemia_2.0</th>\n",
       "      <th>thalassemia_3.0</th>\n",
       "      <th>target</th>\n",
       "    </tr>\n",
       "  </thead>\n",
       "  <tbody>\n",
       "    <tr>\n",
       "      <th>0</th>\n",
       "      <td>61</td>\n",
       "      <td>138</td>\n",
       "      <td>166</td>\n",
       "      <td>125</td>\n",
       "      <td>3.6</td>\n",
       "      <td>1</td>\n",
       "      <td>0</td>\n",
       "      <td>0</td>\n",
       "      <td>0</td>\n",
       "      <td>0</td>\n",
       "      <td>...</td>\n",
       "      <td>0</td>\n",
       "      <td>1</td>\n",
       "      <td>1</td>\n",
       "      <td>0</td>\n",
       "      <td>1</td>\n",
       "      <td>0</td>\n",
       "      <td>0</td>\n",
       "      <td>1</td>\n",
       "      <td>0</td>\n",
       "      <td>0</td>\n",
       "    </tr>\n",
       "    <tr>\n",
       "      <th>1</th>\n",
       "      <td>54</td>\n",
       "      <td>132</td>\n",
       "      <td>288</td>\n",
       "      <td>159</td>\n",
       "      <td>0.0</td>\n",
       "      <td>0</td>\n",
       "      <td>1</td>\n",
       "      <td>0</td>\n",
       "      <td>0</td>\n",
       "      <td>1</td>\n",
       "      <td>...</td>\n",
       "      <td>0</td>\n",
       "      <td>1</td>\n",
       "      <td>0</td>\n",
       "      <td>1</td>\n",
       "      <td>1</td>\n",
       "      <td>0</td>\n",
       "      <td>0</td>\n",
       "      <td>1</td>\n",
       "      <td>0</td>\n",
       "      <td>1</td>\n",
       "    </tr>\n",
       "    <tr>\n",
       "      <th>2</th>\n",
       "      <td>52</td>\n",
       "      <td>128</td>\n",
       "      <td>255</td>\n",
       "      <td>161</td>\n",
       "      <td>0.0</td>\n",
       "      <td>1</td>\n",
       "      <td>0</td>\n",
       "      <td>0</td>\n",
       "      <td>0</td>\n",
       "      <td>0</td>\n",
       "      <td>...</td>\n",
       "      <td>0</td>\n",
       "      <td>1</td>\n",
       "      <td>0</td>\n",
       "      <td>1</td>\n",
       "      <td>1</td>\n",
       "      <td>0</td>\n",
       "      <td>0</td>\n",
       "      <td>0</td>\n",
       "      <td>1</td>\n",
       "      <td>0</td>\n",
       "    </tr>\n",
       "    <tr>\n",
       "      <th>3</th>\n",
       "      <td>41</td>\n",
       "      <td>105</td>\n",
       "      <td>198</td>\n",
       "      <td>168</td>\n",
       "      <td>0.0</td>\n",
       "      <td>0</td>\n",
       "      <td>1</td>\n",
       "      <td>0</td>\n",
       "      <td>0</td>\n",
       "      <td>0</td>\n",
       "      <td>...</td>\n",
       "      <td>0</td>\n",
       "      <td>0</td>\n",
       "      <td>0</td>\n",
       "      <td>1</td>\n",
       "      <td>1</td>\n",
       "      <td>0</td>\n",
       "      <td>0</td>\n",
       "      <td>1</td>\n",
       "      <td>0</td>\n",
       "      <td>1</td>\n",
       "    </tr>\n",
       "    <tr>\n",
       "      <th>4</th>\n",
       "      <td>44</td>\n",
       "      <td>120</td>\n",
       "      <td>169</td>\n",
       "      <td>144</td>\n",
       "      <td>2.8</td>\n",
       "      <td>1</td>\n",
       "      <td>0</td>\n",
       "      <td>0</td>\n",
       "      <td>0</td>\n",
       "      <td>0</td>\n",
       "      <td>...</td>\n",
       "      <td>0</td>\n",
       "      <td>1</td>\n",
       "      <td>0</td>\n",
       "      <td>0</td>\n",
       "      <td>0</td>\n",
       "      <td>0</td>\n",
       "      <td>0</td>\n",
       "      <td>0</td>\n",
       "      <td>0</td>\n",
       "      <td>0</td>\n",
       "    </tr>\n",
       "    <tr>\n",
       "      <th>...</th>\n",
       "      <td>...</td>\n",
       "      <td>...</td>\n",
       "      <td>...</td>\n",
       "      <td>...</td>\n",
       "      <td>...</td>\n",
       "      <td>...</td>\n",
       "      <td>...</td>\n",
       "      <td>...</td>\n",
       "      <td>...</td>\n",
       "      <td>...</td>\n",
       "      <td>...</td>\n",
       "      <td>...</td>\n",
       "      <td>...</td>\n",
       "      <td>...</td>\n",
       "      <td>...</td>\n",
       "      <td>...</td>\n",
       "      <td>...</td>\n",
       "      <td>...</td>\n",
       "      <td>...</td>\n",
       "      <td>...</td>\n",
       "      <td>...</td>\n",
       "    </tr>\n",
       "    <tr>\n",
       "      <th>236</th>\n",
       "      <td>55</td>\n",
       "      <td>130</td>\n",
       "      <td>262</td>\n",
       "      <td>155</td>\n",
       "      <td>0.0</td>\n",
       "      <td>1</td>\n",
       "      <td>1</td>\n",
       "      <td>0</td>\n",
       "      <td>0</td>\n",
       "      <td>0</td>\n",
       "      <td>...</td>\n",
       "      <td>0</td>\n",
       "      <td>0</td>\n",
       "      <td>0</td>\n",
       "      <td>1</td>\n",
       "      <td>0</td>\n",
       "      <td>0</td>\n",
       "      <td>0</td>\n",
       "      <td>1</td>\n",
       "      <td>0</td>\n",
       "      <td>1</td>\n",
       "    </tr>\n",
       "    <tr>\n",
       "      <th>237</th>\n",
       "      <td>70</td>\n",
       "      <td>130</td>\n",
       "      <td>322</td>\n",
       "      <td>109</td>\n",
       "      <td>2.4</td>\n",
       "      <td>1</td>\n",
       "      <td>0</td>\n",
       "      <td>0</td>\n",
       "      <td>0</td>\n",
       "      <td>0</td>\n",
       "      <td>...</td>\n",
       "      <td>0</td>\n",
       "      <td>0</td>\n",
       "      <td>1</td>\n",
       "      <td>0</td>\n",
       "      <td>0</td>\n",
       "      <td>0</td>\n",
       "      <td>1</td>\n",
       "      <td>1</td>\n",
       "      <td>0</td>\n",
       "      <td>0</td>\n",
       "    </tr>\n",
       "    <tr>\n",
       "      <th>238</th>\n",
       "      <td>68</td>\n",
       "      <td>118</td>\n",
       "      <td>277</td>\n",
       "      <td>151</td>\n",
       "      <td>1.0</td>\n",
       "      <td>1</td>\n",
       "      <td>0</td>\n",
       "      <td>1</td>\n",
       "      <td>0</td>\n",
       "      <td>0</td>\n",
       "      <td>...</td>\n",
       "      <td>0</td>\n",
       "      <td>0</td>\n",
       "      <td>0</td>\n",
       "      <td>1</td>\n",
       "      <td>1</td>\n",
       "      <td>0</td>\n",
       "      <td>0</td>\n",
       "      <td>0</td>\n",
       "      <td>1</td>\n",
       "      <td>1</td>\n",
       "    </tr>\n",
       "    <tr>\n",
       "      <th>239</th>\n",
       "      <td>40</td>\n",
       "      <td>152</td>\n",
       "      <td>223</td>\n",
       "      <td>181</td>\n",
       "      <td>0.0</td>\n",
       "      <td>1</td>\n",
       "      <td>0</td>\n",
       "      <td>0</td>\n",
       "      <td>0</td>\n",
       "      <td>0</td>\n",
       "      <td>...</td>\n",
       "      <td>0</td>\n",
       "      <td>0</td>\n",
       "      <td>0</td>\n",
       "      <td>1</td>\n",
       "      <td>0</td>\n",
       "      <td>0</td>\n",
       "      <td>0</td>\n",
       "      <td>0</td>\n",
       "      <td>1</td>\n",
       "      <td>0</td>\n",
       "    </tr>\n",
       "    <tr>\n",
       "      <th>240</th>\n",
       "      <td>48</td>\n",
       "      <td>122</td>\n",
       "      <td>222</td>\n",
       "      <td>186</td>\n",
       "      <td>0.0</td>\n",
       "      <td>1</td>\n",
       "      <td>0</td>\n",
       "      <td>0</td>\n",
       "      <td>0</td>\n",
       "      <td>0</td>\n",
       "      <td>...</td>\n",
       "      <td>0</td>\n",
       "      <td>0</td>\n",
       "      <td>0</td>\n",
       "      <td>1</td>\n",
       "      <td>0</td>\n",
       "      <td>0</td>\n",
       "      <td>0</td>\n",
       "      <td>1</td>\n",
       "      <td>0</td>\n",
       "      <td>1</td>\n",
       "    </tr>\n",
       "  </tbody>\n",
       "</table>\n",
       "<p>241 rows × 21 columns</p>\n",
       "</div>"
      ],
      "text/plain": [
       "     age  resting_BP  cholesterol  max_heart_rate  st_depression  sex_1  \\\n",
       "0     61         138          166             125            3.6      1   \n",
       "1     54         132          288             159            0.0      0   \n",
       "2     52         128          255             161            0.0      1   \n",
       "3     41         105          198             168            0.0      0   \n",
       "4     44         120          169             144            2.8      1   \n",
       "..   ...         ...          ...             ...            ...    ...   \n",
       "236   55         130          262             155            0.0      1   \n",
       "237   70         130          322             109            2.4      1   \n",
       "238   68         118          277             151            1.0      1   \n",
       "239   40         152          223             181            0.0      1   \n",
       "240   48         122          222             186            0.0      1   \n",
       "\n",
       "     chest_pain_type_1  chest_pain_type_2  chest_pain_type_3  \\\n",
       "0                    0                  0                  0   \n",
       "1                    1                  0                  0   \n",
       "2                    0                  0                  0   \n",
       "3                    1                  0                  0   \n",
       "4                    0                  0                  0   \n",
       "..                 ...                ...                ...   \n",
       "236                  1                  0                  0   \n",
       "237                  0                  0                  0   \n",
       "238                  0                  1                  0   \n",
       "239                  0                  0                  0   \n",
       "240                  0                  0                  0   \n",
       "\n",
       "     fasting_blood_sugar_1  ...  rest_ECG_2  exercise_induced_angina_1  \\\n",
       "0                        0  ...           0                          1   \n",
       "1                        1  ...           0                          1   \n",
       "2                        0  ...           0                          1   \n",
       "3                        0  ...           0                          0   \n",
       "4                        0  ...           0                          1   \n",
       "..                     ...  ...         ...                        ...   \n",
       "236                      0  ...           0                          0   \n",
       "237                      0  ...           0                          0   \n",
       "238                      0  ...           0                          0   \n",
       "239                      0  ...           0                          0   \n",
       "240                      0  ...           0                          0   \n",
       "\n",
       "     st_slope_1  st_slope_2  num_major_vessels_1.0  num_major_vessels_2.0  \\\n",
       "0             1           0                      1                      0   \n",
       "1             0           1                      1                      0   \n",
       "2             0           1                      1                      0   \n",
       "3             0           1                      1                      0   \n",
       "4             0           0                      0                      0   \n",
       "..          ...         ...                    ...                    ...   \n",
       "236           0           1                      0                      0   \n",
       "237           1           0                      0                      0   \n",
       "238           0           1                      1                      0   \n",
       "239           0           1                      0                      0   \n",
       "240           0           1                      0                      0   \n",
       "\n",
       "     num_major_vessels_3.0  thalassemia_2.0  thalassemia_3.0  target  \n",
       "0                        0                1                0       0  \n",
       "1                        0                1                0       1  \n",
       "2                        0                0                1       0  \n",
       "3                        0                1                0       1  \n",
       "4                        0                0                0       0  \n",
       "..                     ...              ...              ...     ...  \n",
       "236                      0                1                0       1  \n",
       "237                      1                1                0       0  \n",
       "238                      0                0                1       1  \n",
       "239                      0                0                1       0  \n",
       "240                      0                1                0       1  \n",
       "\n",
       "[241 rows x 21 columns]"
      ]
     },
     "execution_count": 11,
     "metadata": {},
     "output_type": "execute_result"
    }
   ],
   "source": [
    "train_data.to_pandas_dataframe()"
   ]
  },
  {
   "cell_type": "code",
   "execution_count": 12,
   "metadata": {},
   "outputs": [
    {
     "data": {
      "text/plain": [
       "({\n",
       "   \"source\": [\n",
       "     \"('workspaceblobstore', 'Data/train_data.csv')\"\n",
       "   ],\n",
       "   \"definition\": [\n",
       "     \"GetDatastoreFiles\",\n",
       "     \"ParseDelimited\",\n",
       "     \"DropColumns\",\n",
       "     \"SetColumnTypes\"\n",
       "   ]\n",
       " },\n",
       " (241, 21))"
      ]
     },
     "execution_count": 12,
     "metadata": {},
     "output_type": "execute_result"
    }
   ],
   "source": [
    "# train_data = train_data.drop_columns('Column1')\n",
    "train_data, train_data.to_pandas_dataframe().shape"
   ]
  },
  {
   "cell_type": "markdown",
   "metadata": {},
   "source": [
    "## AutoML Configuration\n",
    "\n",
    "TODO: Explain why you chose the automl settings and cofiguration you used below."
   ]
  },
  {
   "cell_type": "code",
   "execution_count": 13,
   "metadata": {
    "gather": {
     "logged": 1598429217746
    },
    "jupyter": {
     "outputs_hidden": false,
     "source_hidden": false
    },
    "nteract": {
     "transient": {
      "deleting": false
     }
    }
   },
   "outputs": [
    {
     "name": "stdout",
     "output_type": "stream",
     "text": [
      "AutoML config created.\n"
     ]
    }
   ],
   "source": [
    "from azureml.train.automl import AutoMLConfig\n",
    "\n",
    "# TODO: Put your automl settings here\n",
    "automl_settings = {\n",
    "    \"experiment_timeout_minutes\": 30,\n",
    "    \"primary_metric\": 'accuracy'\n",
    "}\n",
    "\n",
    "# Define Automl config \n",
    "automl_config = AutoMLConfig (\n",
    "    task = 'classification',\n",
    "    training_data = train_data,\n",
    "    label_column_name = \"target\",\n",
    "    n_cross_validations = 5,\n",
    "    enable_onnx_compatible_models = True,\n",
    "    compute_target = cpu_cluster\n",
    "    **automl_settings\n",
    ")\n",
    "\n",
    "print(\"AutoML config created.\")"
   ]
  },
  {
   "cell_type": "code",
   "execution_count": 14,
   "metadata": {
    "gather": {
     "logged": 1598431107951
    },
    "jupyter": {
     "outputs_hidden": false,
     "source_hidden": false
    },
    "nteract": {
     "transient": {
      "deleting": false
     }
    }
   },
   "outputs": [
    {
     "name": "stdout",
     "output_type": "stream",
     "text": [
      "Running on remote.\n",
      "No run_configuration provided, running on cpu-cluster with default configuration\n",
      "Running on remote compute: cpu-cluster\n",
      "Parent Run ID: AutoML_7cbb0366-8e02-4a86-91a3-173c0788fb18\n",
      "\n",
      "Current status: FeaturesGeneration. Generating features for the dataset.\n",
      "Current status: DatasetCrossValidationSplit. Beginning model selection.\n",
      "Current status: ModelSelection. Beginning model selection.\n",
      "\n",
      "****************************************************************************************************\n",
      "DATA GUARDRAILS: \n",
      "\n",
      "TYPE:         Class balancing detection\n",
      "STATUS:       PASSED\n",
      "DESCRIPTION:  Your inputs were analyzed, and all classes are balanced in your training data.\n",
      "              Learn more about imbalanced data: https://aka.ms/AutomatedMLImbalancedData\n",
      "\n",
      "****************************************************************************************************\n",
      "\n",
      "TYPE:         Missing feature values imputation\n",
      "STATUS:       PASSED\n",
      "DESCRIPTION:  No feature missing values were detected in the training data.\n",
      "              Learn more about missing value imputation: https://aka.ms/AutomatedMLFeaturization\n",
      "\n",
      "****************************************************************************************************\n",
      "\n",
      "TYPE:         High cardinality feature detection\n",
      "STATUS:       PASSED\n",
      "DESCRIPTION:  Your inputs were analyzed, and no high cardinality features were detected.\n",
      "              Learn more about high cardinality feature handling: https://aka.ms/AutomatedMLFeaturization\n",
      "\n",
      "****************************************************************************************************\n",
      "\n",
      "****************************************************************************************************\n",
      "ITERATION: The iteration being evaluated.\n",
      "PIPELINE: A summary description of the pipeline being evaluated.\n",
      "DURATION: Time taken for the current iteration.\n",
      "METRIC: The result of computing score on the fitted pipeline.\n",
      "BEST: The best observed score thus far.\n",
      "****************************************************************************************************\n",
      "\n",
      " ITERATION   PIPELINE                                       DURATION      METRIC      BEST\n",
      "         0   MaxAbsScaler LightGBM                          0:00:46       0.8173    0.8173\n",
      "         1   MaxAbsScaler XGBoostClassifier                 0:00:49       0.8088    0.8173\n",
      "         2   MinMaxScaler RandomForest                      0:00:53       0.7885    0.8173\n",
      "         3   MinMaxScaler RandomForest                      0:01:01       0.7798    0.8173\n",
      "         4   MinMaxScaler RandomForest                      0:00:55       0.8049    0.8173\n",
      "         5   MinMaxScaler SVM                               0:00:55       0.7968    0.8173\n",
      "         6   MaxAbsScaler GradientBoosting                  0:00:51       0.7923    0.8173\n",
      "         7   StandardScalerWrapper RandomForest             0:00:55       0.7716    0.8173\n",
      "         8   SparseNormalizer XGBoostClassifier             0:00:57       0.8048    0.8173\n",
      "         9   SparseNormalizer LightGBM                      0:00:49       0.7844    0.8173\n",
      "        10   RobustScaler RandomForest                      0:00:51       0.7510    0.8173\n",
      "        11   MaxAbsScaler LightGBM                          0:00:57       0.7677    0.8173\n",
      "        12   SparseNormalizer XGBoostClassifier             0:00:48       0.7675    0.8173\n",
      "        13   RobustScaler ExtremeRandomTrees                0:00:51       0.7634    0.8173\n",
      "        14   StandardScalerWrapper ExtremeRandomTrees       0:00:56       0.7428    0.8173\n",
      "        15   StandardScalerWrapper XGBoostClassifier        0:00:57       0.7921    0.8173\n",
      "        16   SparseNormalizer XGBoostClassifier             0:00:47       0.8255    0.8255\n",
      "        17   SparseNormalizer XGBoostClassifier             0:00:46       0.7384    0.8255\n",
      "        18   SparseNormalizer XGBoostClassifier             0:00:54       0.7922    0.8255\n",
      "        19   MaxAbsScaler LogisticRegression                0:00:54       0.7965    0.8255\n",
      "        20   StandardScalerWrapper KNN                      0:00:50       0.6888    0.8255\n",
      "        21   SparseNormalizer RandomForest                  0:00:47       0.7635    0.8255\n",
      "        22   StandardScalerWrapper ExtremeRandomTrees       0:00:46       0.7884    0.8255\n",
      "        23   SparseNormalizer LightGBM                      0:00:55       0.7923    0.8255\n",
      "        24   RobustScaler LightGBM                          0:00:54       0.7923    0.8255\n",
      "        25   PCA XGBoostClassifier                          0:00:53       0.5434    0.8255\n",
      "        26   MinMaxScaler LogisticRegression                0:00:49       0.8255    0.8255\n",
      "        27   StandardScalerWrapper XGBoostClassifier        0:01:56       0.7633    0.8255\n",
      "        28    VotingEnsemble                                0:01:25       0.8380    0.8380\n"
     ]
    }
   ],
   "source": [
    "# TODO: Submit your experiment\n",
    "remote_run = experiment.submit(automl_config, show_output = True)"
   ]
  },
  {
   "cell_type": "markdown",
   "metadata": {},
   "source": [
    "## Run Details\n",
    "\n",
    "OPTIONAL: Write about the different models trained and their performance. Why do you think some models did better than others?\n",
    "\n",
    "TODO: In the cell below, use the `RunDetails` widget to show the different experiments."
   ]
  },
  {
   "cell_type": "code",
   "execution_count": 15,
   "metadata": {
    "gather": {
     "logged": 1598431121770
    },
    "jupyter": {
     "outputs_hidden": false,
     "source_hidden": false
    },
    "nteract": {
     "transient": {
      "deleting": false
     }
    },
    "scrolled": false
   },
   "outputs": [
    {
     "data": {
      "application/vnd.jupyter.widget-view+json": {
       "model_id": "215372f53719414b9b76cddeb8352c26",
       "version_major": 2,
       "version_minor": 0
      },
      "text/plain": [
       "_AutoMLWidget(widget_settings={'childWidgetDisplay': 'popup', 'send_telemetry': False, 'log_level': 'INFO', 's…"
      ]
     },
     "metadata": {},
     "output_type": "display_data"
    },
    {
     "data": {
      "application/aml.mini.widget.v1": "{\"status\": \"Completed\", \"workbench_run_details_uri\": \"https://ml.azure.com/experiments/heart-disease-automl/runs/AutoML_7cbb0366-8e02-4a86-91a3-173c0788fb18?wsid=/subscriptions/f9d5a085-54dc-4215-9ba6-dad5d86e60a0/resourcegroups/aml-quickstarts-137068/workspaces/quick-starts-ws-137068\", \"run_id\": \"AutoML_7cbb0366-8e02-4a86-91a3-173c0788fb18\", \"run_properties\": {\"run_id\": \"AutoML_7cbb0366-8e02-4a86-91a3-173c0788fb18\", \"created_utc\": \"2021-02-03T10:53:06.022961Z\", \"properties\": {\"num_iterations\": \"1000\", \"training_type\": \"TrainFull\", \"acquisition_function\": \"EI\", \"primary_metric\": \"accuracy\", \"train_split\": \"0\", \"acquisition_parameter\": \"0\", \"num_cross_validation\": \"5\", \"target\": \"cpu-cluster\", \"AMLSettingsJsonString\": \"{\\\"path\\\":null,\\\"name\\\":\\\"heart-disease-automl\\\",\\\"subscription_id\\\":\\\"f9d5a085-54dc-4215-9ba6-dad5d86e60a0\\\",\\\"resource_group\\\":\\\"aml-quickstarts-137068\\\",\\\"workspace_name\\\":\\\"quick-starts-ws-137068\\\",\\\"region\\\":\\\"southcentralus\\\",\\\"compute_target\\\":\\\"cpu-cluster\\\",\\\"spark_service\\\":null,\\\"azure_service\\\":\\\"remote\\\",\\\"many_models\\\":false,\\\"pipeline_fetch_max_batch_size\\\":1,\\\"iterations\\\":1000,\\\"primary_metric\\\":\\\"accuracy\\\",\\\"task_type\\\":\\\"classification\\\",\\\"data_script\\\":null,\\\"validation_size\\\":0.0,\\\"n_cross_validations\\\":5,\\\"y_min\\\":null,\\\"y_max\\\":null,\\\"num_classes\\\":null,\\\"featurization\\\":\\\"auto\\\",\\\"_ignore_package_version_incompatibilities\\\":false,\\\"is_timeseries\\\":false,\\\"max_cores_per_iteration\\\":1,\\\"max_concurrent_iterations\\\":1,\\\"iteration_timeout_minutes\\\":null,\\\"mem_in_mb\\\":null,\\\"enforce_time_on_windows\\\":false,\\\"experiment_timeout_minutes\\\":30,\\\"experiment_exit_score\\\":null,\\\"whitelist_models\\\":null,\\\"blacklist_algos\\\":[\\\"TensorFlowLinearClassifier\\\",\\\"TensorFlowDNN\\\"],\\\"supported_models\\\":[\\\"KNN\\\",\\\"LinearSVM\\\",\\\"BernoulliNaiveBayes\\\",\\\"TensorFlowLinearClassifier\\\",\\\"LightGBM\\\",\\\"ExtremeRandomTrees\\\",\\\"SGD\\\",\\\"MultinomialNaiveBayes\\\",\\\"AveragedPerceptronClassifier\\\",\\\"GradientBoosting\\\",\\\"XGBoostClassifier\\\",\\\"SVM\\\",\\\"TensorFlowDNN\\\",\\\"DecisionTree\\\",\\\"RandomForest\\\",\\\"LogisticRegression\\\"],\\\"auto_blacklist\\\":true,\\\"blacklist_samples_reached\\\":false,\\\"exclude_nan_labels\\\":true,\\\"verbosity\\\":20,\\\"_debug_log\\\":\\\"azureml_automl.log\\\",\\\"show_warnings\\\":false,\\\"model_explainability\\\":true,\\\"service_url\\\":null,\\\"sdk_url\\\":null,\\\"sdk_packages\\\":null,\\\"enable_onnx_compatible_models\\\":true,\\\"enable_split_onnx_featurizer_estimator_models\\\":false,\\\"vm_type\\\":\\\"STANDARD_D2_V2\\\",\\\"telemetry_verbosity\\\":20,\\\"send_telemetry\\\":true,\\\"enable_dnn\\\":false,\\\"scenario\\\":\\\"SDK-1.13.0\\\",\\\"environment_label\\\":null,\\\"force_text_dnn\\\":false,\\\"enable_feature_sweeping\\\":false,\\\"enable_early_stopping\\\":false,\\\"early_stopping_n_iters\\\":10,\\\"metrics\\\":null,\\\"enable_ensembling\\\":true,\\\"enable_stack_ensembling\\\":false,\\\"ensemble_iterations\\\":15,\\\"enable_tf\\\":false,\\\"enable_subsampling\\\":null,\\\"subsample_seed\\\":null,\\\"enable_nimbusml\\\":false,\\\"enable_streaming\\\":false,\\\"force_streaming\\\":false,\\\"track_child_runs\\\":true,\\\"allowed_private_models\\\":[],\\\"label_column_name\\\":\\\"target\\\",\\\"weight_column_name\\\":null,\\\"cv_split_column_names\\\":null,\\\"enable_local_managed\\\":false,\\\"_local_managed_run_id\\\":null,\\\"cost_mode\\\":1,\\\"lag_length\\\":0,\\\"metric_operation\\\":\\\"maximize\\\",\\\"preprocess\\\":true}\", \"DataPrepJsonString\": \"{\\\\\\\"training_data\\\\\\\": \\\\\\\"{\\\\\\\\\\\\\\\"blocks\\\\\\\\\\\\\\\": [{\\\\\\\\\\\\\\\"id\\\\\\\\\\\\\\\": \\\\\\\\\\\\\\\"e599d678-4da3-4b60-b41f-a7ee1fcc9a49\\\\\\\\\\\\\\\", \\\\\\\\\\\\\\\"type\\\\\\\\\\\\\\\": \\\\\\\\\\\\\\\"Microsoft.DPrep.GetDatastoreFilesBlock\\\\\\\\\\\\\\\", \\\\\\\\\\\\\\\"arguments\\\\\\\\\\\\\\\": {\\\\\\\\\\\\\\\"datastores\\\\\\\\\\\\\\\": [{\\\\\\\\\\\\\\\"datastoreName\\\\\\\\\\\\\\\": \\\\\\\\\\\\\\\"workspaceblobstore\\\\\\\\\\\\\\\", \\\\\\\\\\\\\\\"path\\\\\\\\\\\\\\\": \\\\\\\\\\\\\\\"Data/train_data.csv\\\\\\\\\\\\\\\", \\\\\\\\\\\\\\\"resourceGroup\\\\\\\\\\\\\\\": \\\\\\\\\\\\\\\"aml-quickstarts-137068\\\\\\\\\\\\\\\", \\\\\\\\\\\\\\\"subscription\\\\\\\\\\\\\\\": \\\\\\\\\\\\\\\"f9d5a085-54dc-4215-9ba6-dad5d86e60a0\\\\\\\\\\\\\\\", \\\\\\\\\\\\\\\"workspaceName\\\\\\\\\\\\\\\": \\\\\\\\\\\\\\\"quick-starts-ws-137068\\\\\\\\\\\\\\\"}]}, \\\\\\\\\\\\\\\"localData\\\\\\\\\\\\\\\": {}, \\\\\\\\\\\\\\\"isEnabled\\\\\\\\\\\\\\\": true, \\\\\\\\\\\\\\\"name\\\\\\\\\\\\\\\": null, \\\\\\\\\\\\\\\"annotation\\\\\\\\\\\\\\\": null}, {\\\\\\\\\\\\\\\"id\\\\\\\\\\\\\\\": \\\\\\\\\\\\\\\"07c3c41f-959e-4cce-a5fb-81835b7e7a5c\\\\\\\\\\\\\\\", \\\\\\\\\\\\\\\"type\\\\\\\\\\\\\\\": \\\\\\\\\\\\\\\"Microsoft.DPrep.ParseDelimitedBlock\\\\\\\\\\\\\\\", \\\\\\\\\\\\\\\"arguments\\\\\\\\\\\\\\\": {\\\\\\\\\\\\\\\"columnHeadersMode\\\\\\\\\\\\\\\": 3, \\\\\\\\\\\\\\\"fileEncoding\\\\\\\\\\\\\\\": 0, \\\\\\\\\\\\\\\"handleQuotedLineBreaks\\\\\\\\\\\\\\\": false, \\\\\\\\\\\\\\\"preview\\\\\\\\\\\\\\\": false, \\\\\\\\\\\\\\\"separator\\\\\\\\\\\\\\\": \\\\\\\\\\\\\\\",\\\\\\\\\\\\\\\", \\\\\\\\\\\\\\\"skipRows\\\\\\\\\\\\\\\": 0, \\\\\\\\\\\\\\\"skipRowsMode\\\\\\\\\\\\\\\": 0}, \\\\\\\\\\\\\\\"localData\\\\\\\\\\\\\\\": {}, \\\\\\\\\\\\\\\"isEnabled\\\\\\\\\\\\\\\": true, \\\\\\\\\\\\\\\"name\\\\\\\\\\\\\\\": null, \\\\\\\\\\\\\\\"annotation\\\\\\\\\\\\\\\": null}, {\\\\\\\\\\\\\\\"id\\\\\\\\\\\\\\\": \\\\\\\\\\\\\\\"c0ddc46f-e0c6-4583-8f50-b6879203c4b1\\\\\\\\\\\\\\\", \\\\\\\\\\\\\\\"type\\\\\\\\\\\\\\\": \\\\\\\\\\\\\\\"Microsoft.DPrep.DropColumnsBlock\\\\\\\\\\\\\\\", \\\\\\\\\\\\\\\"arguments\\\\\\\\\\\\\\\": {\\\\\\\\\\\\\\\"columns\\\\\\\\\\\\\\\": {\\\\\\\\\\\\\\\"type\\\\\\\\\\\\\\\": 0, \\\\\\\\\\\\\\\"details\\\\\\\\\\\\\\\": {\\\\\\\\\\\\\\\"selectedColumns\\\\\\\\\\\\\\\": [\\\\\\\\\\\\\\\"Path\\\\\\\\\\\\\\\"]}}}, \\\\\\\\\\\\\\\"localData\\\\\\\\\\\\\\\": {}, \\\\\\\\\\\\\\\"isEnabled\\\\\\\\\\\\\\\": true, \\\\\\\\\\\\\\\"name\\\\\\\\\\\\\\\": null, \\\\\\\\\\\\\\\"annotation\\\\\\\\\\\\\\\": null}, {\\\\\\\\\\\\\\\"id\\\\\\\\\\\\\\\": \\\\\\\\\\\\\\\"d41656ec-db8c-424a-a3ca-817ecfe80486\\\\\\\\\\\\\\\", \\\\\\\\\\\\\\\"type\\\\\\\\\\\\\\\": \\\\\\\\\\\\\\\"Microsoft.DPrep.SetColumnTypesBlock\\\\\\\\\\\\\\\", \\\\\\\\\\\\\\\"arguments\\\\\\\\\\\\\\\": {\\\\\\\\\\\\\\\"columnConversion\\\\\\\\\\\\\\\": [{\\\\\\\\\\\\\\\"column\\\\\\\\\\\\\\\": {\\\\\\\\\\\\\\\"type\\\\\\\\\\\\\\\": 2, \\\\\\\\\\\\\\\"details\\\\\\\\\\\\\\\": {\\\\\\\\\\\\\\\"selectedColumn\\\\\\\\\\\\\\\": \\\\\\\\\\\\\\\"age\\\\\\\\\\\\\\\"}}, \\\\\\\\\\\\\\\"typeProperty\\\\\\\\\\\\\\\": 2}, {\\\\\\\\\\\\\\\"column\\\\\\\\\\\\\\\": {\\\\\\\\\\\\\\\"type\\\\\\\\\\\\\\\": 2, \\\\\\\\\\\\\\\"details\\\\\\\\\\\\\\\": {\\\\\\\\\\\\\\\"selectedColumn\\\\\\\\\\\\\\\": \\\\\\\\\\\\\\\"resting_BP\\\\\\\\\\\\\\\"}}, \\\\\\\\\\\\\\\"typeProperty\\\\\\\\\\\\\\\": 2}, {\\\\\\\\\\\\\\\"column\\\\\\\\\\\\\\\": {\\\\\\\\\\\\\\\"type\\\\\\\\\\\\\\\": 2, \\\\\\\\\\\\\\\"details\\\\\\\\\\\\\\\": {\\\\\\\\\\\\\\\"selectedColumn\\\\\\\\\\\\\\\": \\\\\\\\\\\\\\\"cholesterol\\\\\\\\\\\\\\\"}}, \\\\\\\\\\\\\\\"typeProperty\\\\\\\\\\\\\\\": 2}, {\\\\\\\\\\\\\\\"column\\\\\\\\\\\\\\\": {\\\\\\\\\\\\\\\"type\\\\\\\\\\\\\\\": 2, \\\\\\\\\\\\\\\"details\\\\\\\\\\\\\\\": {\\\\\\\\\\\\\\\"selectedColumn\\\\\\\\\\\\\\\": \\\\\\\\\\\\\\\"max_heart_rate\\\\\\\\\\\\\\\"}}, \\\\\\\\\\\\\\\"typeProperty\\\\\\\\\\\\\\\": 2}, {\\\\\\\\\\\\\\\"column\\\\\\\\\\\\\\\": {\\\\\\\\\\\\\\\"type\\\\\\\\\\\\\\\": 2, \\\\\\\\\\\\\\\"details\\\\\\\\\\\\\\\": {\\\\\\\\\\\\\\\"selectedColumn\\\\\\\\\\\\\\\": \\\\\\\\\\\\\\\"st_depression\\\\\\\\\\\\\\\"}}, \\\\\\\\\\\\\\\"typeProperty\\\\\\\\\\\\\\\": 3}, {\\\\\\\\\\\\\\\"column\\\\\\\\\\\\\\\": {\\\\\\\\\\\\\\\"type\\\\\\\\\\\\\\\": 2, \\\\\\\\\\\\\\\"details\\\\\\\\\\\\\\\": {\\\\\\\\\\\\\\\"selectedColumn\\\\\\\\\\\\\\\": \\\\\\\\\\\\\\\"sex_1\\\\\\\\\\\\\\\"}}, \\\\\\\\\\\\\\\"typeProperty\\\\\\\\\\\\\\\": 2}, {\\\\\\\\\\\\\\\"column\\\\\\\\\\\\\\\": {\\\\\\\\\\\\\\\"type\\\\\\\\\\\\\\\": 2, \\\\\\\\\\\\\\\"details\\\\\\\\\\\\\\\": {\\\\\\\\\\\\\\\"selectedColumn\\\\\\\\\\\\\\\": \\\\\\\\\\\\\\\"chest_pain_type_1\\\\\\\\\\\\\\\"}}, \\\\\\\\\\\\\\\"typeProperty\\\\\\\\\\\\\\\": 2}, {\\\\\\\\\\\\\\\"column\\\\\\\\\\\\\\\": {\\\\\\\\\\\\\\\"type\\\\\\\\\\\\\\\": 2, \\\\\\\\\\\\\\\"details\\\\\\\\\\\\\\\": {\\\\\\\\\\\\\\\"selectedColumn\\\\\\\\\\\\\\\": \\\\\\\\\\\\\\\"chest_pain_type_2\\\\\\\\\\\\\\\"}}, \\\\\\\\\\\\\\\"typeProperty\\\\\\\\\\\\\\\": 2}, {\\\\\\\\\\\\\\\"column\\\\\\\\\\\\\\\": {\\\\\\\\\\\\\\\"type\\\\\\\\\\\\\\\": 2, \\\\\\\\\\\\\\\"details\\\\\\\\\\\\\\\": {\\\\\\\\\\\\\\\"selectedColumn\\\\\\\\\\\\\\\": \\\\\\\\\\\\\\\"chest_pain_type_3\\\\\\\\\\\\\\\"}}, \\\\\\\\\\\\\\\"typeProperty\\\\\\\\\\\\\\\": 2}, {\\\\\\\\\\\\\\\"column\\\\\\\\\\\\\\\": {\\\\\\\\\\\\\\\"type\\\\\\\\\\\\\\\": 2, \\\\\\\\\\\\\\\"details\\\\\\\\\\\\\\\": {\\\\\\\\\\\\\\\"selectedColumn\\\\\\\\\\\\\\\": \\\\\\\\\\\\\\\"fasting_blood_sugar_1\\\\\\\\\\\\\\\"}}, \\\\\\\\\\\\\\\"typeProperty\\\\\\\\\\\\\\\": 2}, {\\\\\\\\\\\\\\\"column\\\\\\\\\\\\\\\": {\\\\\\\\\\\\\\\"type\\\\\\\\\\\\\\\": 2, \\\\\\\\\\\\\\\"details\\\\\\\\\\\\\\\": {\\\\\\\\\\\\\\\"selectedColumn\\\\\\\\\\\\\\\": \\\\\\\\\\\\\\\"rest_ECG_1\\\\\\\\\\\\\\\"}}, \\\\\\\\\\\\\\\"typeProperty\\\\\\\\\\\\\\\": 2}, {\\\\\\\\\\\\\\\"column\\\\\\\\\\\\\\\": {\\\\\\\\\\\\\\\"type\\\\\\\\\\\\\\\": 2, \\\\\\\\\\\\\\\"details\\\\\\\\\\\\\\\": {\\\\\\\\\\\\\\\"selectedColumn\\\\\\\\\\\\\\\": \\\\\\\\\\\\\\\"rest_ECG_2\\\\\\\\\\\\\\\"}}, \\\\\\\\\\\\\\\"typeProperty\\\\\\\\\\\\\\\": 2}, {\\\\\\\\\\\\\\\"column\\\\\\\\\\\\\\\": {\\\\\\\\\\\\\\\"type\\\\\\\\\\\\\\\": 2, \\\\\\\\\\\\\\\"details\\\\\\\\\\\\\\\": {\\\\\\\\\\\\\\\"selectedColumn\\\\\\\\\\\\\\\": \\\\\\\\\\\\\\\"exercise_induced_angina_1\\\\\\\\\\\\\\\"}}, \\\\\\\\\\\\\\\"typeProperty\\\\\\\\\\\\\\\": 2}, {\\\\\\\\\\\\\\\"column\\\\\\\\\\\\\\\": {\\\\\\\\\\\\\\\"type\\\\\\\\\\\\\\\": 2, \\\\\\\\\\\\\\\"details\\\\\\\\\\\\\\\": {\\\\\\\\\\\\\\\"selectedColumn\\\\\\\\\\\\\\\": \\\\\\\\\\\\\\\"st_slope_1\\\\\\\\\\\\\\\"}}, \\\\\\\\\\\\\\\"typeProperty\\\\\\\\\\\\\\\": 2}, {\\\\\\\\\\\\\\\"column\\\\\\\\\\\\\\\": {\\\\\\\\\\\\\\\"type\\\\\\\\\\\\\\\": 2, \\\\\\\\\\\\\\\"details\\\\\\\\\\\\\\\": {\\\\\\\\\\\\\\\"selectedColumn\\\\\\\\\\\\\\\": \\\\\\\\\\\\\\\"st_slope_2\\\\\\\\\\\\\\\"}}, \\\\\\\\\\\\\\\"typeProperty\\\\\\\\\\\\\\\": 2}, {\\\\\\\\\\\\\\\"column\\\\\\\\\\\\\\\": {\\\\\\\\\\\\\\\"type\\\\\\\\\\\\\\\": 2, \\\\\\\\\\\\\\\"details\\\\\\\\\\\\\\\": {\\\\\\\\\\\\\\\"selectedColumn\\\\\\\\\\\\\\\": \\\\\\\\\\\\\\\"num_major_vessels_1.0\\\\\\\\\\\\\\\"}}, \\\\\\\\\\\\\\\"typeProperty\\\\\\\\\\\\\\\": 2}, {\\\\\\\\\\\\\\\"column\\\\\\\\\\\\\\\": {\\\\\\\\\\\\\\\"type\\\\\\\\\\\\\\\": 2, \\\\\\\\\\\\\\\"details\\\\\\\\\\\\\\\": {\\\\\\\\\\\\\\\"selectedColumn\\\\\\\\\\\\\\\": \\\\\\\\\\\\\\\"num_major_vessels_2.0\\\\\\\\\\\\\\\"}}, \\\\\\\\\\\\\\\"typeProperty\\\\\\\\\\\\\\\": 2}, {\\\\\\\\\\\\\\\"column\\\\\\\\\\\\\\\": {\\\\\\\\\\\\\\\"type\\\\\\\\\\\\\\\": 2, \\\\\\\\\\\\\\\"details\\\\\\\\\\\\\\\": {\\\\\\\\\\\\\\\"selectedColumn\\\\\\\\\\\\\\\": \\\\\\\\\\\\\\\"num_major_vessels_3.0\\\\\\\\\\\\\\\"}}, \\\\\\\\\\\\\\\"typeProperty\\\\\\\\\\\\\\\": 2}, {\\\\\\\\\\\\\\\"column\\\\\\\\\\\\\\\": {\\\\\\\\\\\\\\\"type\\\\\\\\\\\\\\\": 2, \\\\\\\\\\\\\\\"details\\\\\\\\\\\\\\\": {\\\\\\\\\\\\\\\"selectedColumn\\\\\\\\\\\\\\\": \\\\\\\\\\\\\\\"thalassemia_2.0\\\\\\\\\\\\\\\"}}, \\\\\\\\\\\\\\\"typeProperty\\\\\\\\\\\\\\\": 2}, {\\\\\\\\\\\\\\\"column\\\\\\\\\\\\\\\": {\\\\\\\\\\\\\\\"type\\\\\\\\\\\\\\\": 2, \\\\\\\\\\\\\\\"details\\\\\\\\\\\\\\\": {\\\\\\\\\\\\\\\"selectedColumn\\\\\\\\\\\\\\\": \\\\\\\\\\\\\\\"thalassemia_3.0\\\\\\\\\\\\\\\"}}, \\\\\\\\\\\\\\\"typeProperty\\\\\\\\\\\\\\\": 2}, {\\\\\\\\\\\\\\\"column\\\\\\\\\\\\\\\": {\\\\\\\\\\\\\\\"type\\\\\\\\\\\\\\\": 2, \\\\\\\\\\\\\\\"details\\\\\\\\\\\\\\\": {\\\\\\\\\\\\\\\"selectedColumn\\\\\\\\\\\\\\\": \\\\\\\\\\\\\\\"target\\\\\\\\\\\\\\\"}}, \\\\\\\\\\\\\\\"typeProperty\\\\\\\\\\\\\\\": 2}]}, \\\\\\\\\\\\\\\"localData\\\\\\\\\\\\\\\": {}, \\\\\\\\\\\\\\\"isEnabled\\\\\\\\\\\\\\\": true, \\\\\\\\\\\\\\\"name\\\\\\\\\\\\\\\": null, \\\\\\\\\\\\\\\"annotation\\\\\\\\\\\\\\\": null}], \\\\\\\\\\\\\\\"inspectors\\\\\\\\\\\\\\\": [], \\\\\\\\\\\\\\\"meta\\\\\\\\\\\\\\\": {\\\\\\\\\\\\\\\"savedDatasetId\\\\\\\\\\\\\\\": \\\\\\\\\\\\\\\"0027819c-f855-4bc9-af21-fca8e6949fe3\\\\\\\\\\\\\\\", \\\\\\\\\\\\\\\"datasetType\\\\\\\\\\\\\\\": \\\\\\\\\\\\\\\"tabular\\\\\\\\\\\\\\\", \\\\\\\\\\\\\\\"subscriptionId\\\\\\\\\\\\\\\": \\\\\\\\\\\\\\\"f9d5a085-54dc-4215-9ba6-dad5d86e60a0\\\\\\\\\\\\\\\", \\\\\\\\\\\\\\\"workspaceId\\\\\\\\\\\\\\\": \\\\\\\\\\\\\\\"e4d13aa1-d182-44b8-bee1-e49a10dde8e6\\\\\\\\\\\\\\\", \\\\\\\\\\\\\\\"workspaceLocation\\\\\\\\\\\\\\\": \\\\\\\\\\\\\\\"southcentralus\\\\\\\\\\\\\\\"}}\\\\\\\", \\\\\\\"activities\\\\\\\": 0}\", \"EnableSubsampling\": null, \"runTemplate\": \"AutoML\", \"azureml.runsource\": \"automl\", \"display_task_type\": \"classification\", \"dependencies_versions\": \"{\\\"azureml-widgets\\\": \\\"1.20.0\\\", \\\"azureml-train\\\": \\\"1.20.0\\\", \\\"azureml-train-restclients-hyperdrive\\\": \\\"1.20.0\\\", \\\"azureml-train-core\\\": \\\"1.20.0\\\", \\\"azureml-train-automl\\\": \\\"1.20.0\\\", \\\"azureml-train-automl-runtime\\\": \\\"1.20.0\\\", \\\"azureml-train-automl-client\\\": \\\"1.20.0\\\", \\\"azureml-tensorboard\\\": \\\"1.20.0\\\", \\\"azureml-telemetry\\\": \\\"1.20.0\\\", \\\"azureml-sdk\\\": \\\"1.20.0\\\", \\\"azureml-samples\\\": \\\"0+unknown\\\", \\\"azureml-pipeline\\\": \\\"1.20.0\\\", \\\"azureml-pipeline-steps\\\": \\\"1.20.0\\\", \\\"azureml-pipeline-core\\\": \\\"1.20.0\\\", \\\"azureml-opendatasets\\\": \\\"1.20.0\\\", \\\"azureml-model-management-sdk\\\": \\\"1.0.1b6.post1\\\", \\\"azureml-mlflow\\\": \\\"1.20.0.post1\\\", \\\"azureml-interpret\\\": \\\"1.20.0\\\", \\\"azureml-explain-model\\\": \\\"1.20.0\\\", \\\"azureml-defaults\\\": \\\"1.20.0\\\", \\\"azureml-dataset-runtime\\\": \\\"1.20.0\\\", \\\"azureml-dataprep\\\": \\\"2.7.3\\\", \\\"azureml-dataprep-rslex\\\": \\\"1.5.0\\\", \\\"azureml-dataprep-native\\\": \\\"27.0.0\\\", \\\"azureml-datadrift\\\": \\\"1.20.0\\\", \\\"azureml-core\\\": \\\"1.20.0\\\", \\\"azureml-contrib-services\\\": \\\"1.20.0\\\", \\\"azureml-contrib-server\\\": \\\"1.20.0\\\", \\\"azureml-contrib-reinforcementlearning\\\": \\\"1.20.0\\\", \\\"azureml-contrib-pipeline-steps\\\": \\\"1.20.0\\\", \\\"azureml-contrib-notebook\\\": \\\"1.20.0\\\", \\\"azureml-contrib-interpret\\\": \\\"1.20.0\\\", \\\"azureml-contrib-gbdt\\\": \\\"1.20.0\\\", \\\"azureml-contrib-fairness\\\": \\\"1.20.0\\\", \\\"azureml-contrib-dataset\\\": \\\"1.20.0\\\", \\\"azureml-cli-common\\\": \\\"1.20.0\\\", \\\"azureml-automl-runtime\\\": \\\"1.20.0\\\", \\\"azureml-automl-core\\\": \\\"1.20.0\\\", \\\"azureml-accel-models\\\": \\\"1.20.0\\\"}\", \"_aml_system_scenario_identification\": \"Remote.Parent\", \"ClientType\": \"SDK\", \"environment_cpu_name\": \"AzureML-AutoML\", \"environment_cpu_label\": \"prod\", \"environment_gpu_name\": \"AzureML-AutoML-GPU\", \"environment_gpu_label\": \"prod\", \"root_attribution\": \"automl\", \"attribution\": \"AutoML\", \"Orchestrator\": \"AutoML\", \"CancelUri\": \"https://southcentralus.experiments.azureml.net/jasmine/v1.0/subscriptions/f9d5a085-54dc-4215-9ba6-dad5d86e60a0/resourceGroups/aml-quickstarts-137068/providers/Microsoft.MachineLearningServices/workspaces/quick-starts-ws-137068/experimentids/f5000a6f-8ff0-4b7f-bb07-b906b7c0fb54/cancel/AutoML_7cbb0366-8e02-4a86-91a3-173c0788fb18\", \"ClientSdkVersion\": \"1.21.0\", \"snapshotId\": \"00000000-0000-0000-0000-000000000000\", \"SetupRunId\": \"AutoML_7cbb0366-8e02-4a86-91a3-173c0788fb18_setup\", \"SetupRunContainerId\": \"dcid.AutoML_7cbb0366-8e02-4a86-91a3-173c0788fb18_setup\", \"FeaturizationRunJsonPath\": \"featurizer_container.json\", \"FeaturizationRunId\": \"AutoML_7cbb0366-8e02-4a86-91a3-173c0788fb18_featurize\", \"ProblemInfoJsonString\": \"{\\\"dataset_num_categorical\\\": 0, \\\"is_sparse\\\": false, \\\"subsampling\\\": false, \\\"dataset_classes\\\": 2, \\\"dataset_features\\\": 20, \\\"dataset_samples\\\": 241, \\\"single_frequency_class_detected\\\": false}\", \"ModelExplainRunId\": \"AutoML_7cbb0366-8e02-4a86-91a3-173c0788fb18_ModelExplain\", \"azureml.git.repository_uri\": \"https://github.com/bharati-21/AZMLND-Capstone-Project.git\", \"mlflow.source.git.repoURL\": \"https://github.com/bharati-21/AZMLND-Capstone-Project.git\", \"azureml.git.branch\": \"master\", \"mlflow.source.git.branch\": \"master\", \"azureml.git.commit\": \"a3fa74d4a26239aa160550347efde18d98d6fea5\", \"mlflow.source.git.commit\": \"a3fa74d4a26239aa160550347efde18d98d6fea5\", \"azureml.git.dirty\": \"True\"}, \"tags\": {\"model_explain_run\": \"best_run\", \"_aml_system_azureml.automlComponent\": \"AutoML\", \"pipeline_id\": \"\", \"score\": \"\", \"predicted_cost\": \"\", \"fit_time\": \"\", \"training_percent\": \"\", \"iteration\": \"\", \"run_preprocessor\": \"\", \"run_algorithm\": \"\", \"dynamic_whitelisting_iterations\": \"<25>;\", \"automl_best_child_run_id\": \"AutoML_7cbb0366-8e02-4a86-91a3-173c0788fb18_28\"}, \"end_time_utc\": \"2021-02-03T11:32:17.397951Z\", \"status\": \"Completed\", \"log_files\": {}, \"log_groups\": [], \"run_duration\": \"0:39:11\"}, \"child_runs\": [{\"run_id\": \"AutoML_7cbb0366-8e02-4a86-91a3-173c0788fb18_0\", \"run_number\": 6, \"metric\": null, \"status\": \"Completed\", \"run_type\": \"azureml.scriptrun\", \"training_percent\": \"100\", \"start_time\": \"2021-02-03T10:58:30.600331Z\", \"end_time\": \"2021-02-03T10:59:16.611322Z\", \"created_time\": \"2021-02-03T10:58:20.55709Z\", \"created_time_dt\": \"2021-02-03T10:58:20.55709Z\", \"duration\": \"0:00:56\", \"iteration\": \"0\", \"goal\": \"accuracy_max\", \"run_name\": \"MaxAbsScaler, LightGBM\", \"run_properties\": \"copy=True\", \"primary_metric\": 0.8172619, \"best_metric\": 0.8172619}, {\"run_id\": \"AutoML_7cbb0366-8e02-4a86-91a3-173c0788fb18_1\", \"run_number\": 7, \"metric\": null, \"status\": \"Completed\", \"run_type\": \"azureml.scriptrun\", \"training_percent\": \"100\", \"start_time\": \"2021-02-03T10:59:30.701081Z\", \"end_time\": \"2021-02-03T11:00:19.953856Z\", \"created_time\": \"2021-02-03T10:59:18.069015Z\", \"created_time_dt\": \"2021-02-03T10:59:18.069015Z\", \"duration\": \"0:01:01\", \"iteration\": \"1\", \"goal\": \"accuracy_max\", \"run_name\": \"MaxAbsScaler, XGBoostClassifier\", \"run_properties\": \"copy=True\", \"primary_metric\": 0.80884354, \"best_metric\": 0.8172619}, {\"run_id\": \"AutoML_7cbb0366-8e02-4a86-91a3-173c0788fb18_2\", \"run_number\": 8, \"metric\": null, \"status\": \"Completed\", \"run_type\": \"azureml.scriptrun\", \"training_percent\": \"100\", \"start_time\": \"2021-02-03T11:00:33.118873Z\", \"end_time\": \"2021-02-03T11:01:26.097841Z\", \"created_time\": \"2021-02-03T11:00:21.096658Z\", \"created_time_dt\": \"2021-02-03T11:00:21.096658Z\", \"duration\": \"0:01:05\", \"iteration\": \"2\", \"goal\": \"accuracy_max\", \"run_name\": \"MinMaxScaler, RandomForest\", \"run_properties\": \"copy=True, feature_range=(0, 1\", \"primary_metric\": 0.78852041, \"best_metric\": 0.8172619}, {\"run_id\": \"AutoML_7cbb0366-8e02-4a86-91a3-173c0788fb18_3\", \"run_number\": 9, \"metric\": null, \"status\": \"Completed\", \"run_type\": \"azureml.scriptrun\", \"training_percent\": \"100\", \"start_time\": \"2021-02-03T11:01:40.062819Z\", \"end_time\": \"2021-02-03T11:02:40.94532Z\", \"created_time\": \"2021-02-03T11:01:28.000044Z\", \"created_time_dt\": \"2021-02-03T11:01:28.000044Z\", \"duration\": \"0:01:12\", \"iteration\": \"3\", \"goal\": \"accuracy_max\", \"run_name\": \"MinMaxScaler, RandomForest\", \"run_properties\": \"copy=True, feature_range=(0, 1\", \"primary_metric\": 0.77984694, \"best_metric\": 0.8172619}, {\"run_id\": \"AutoML_7cbb0366-8e02-4a86-91a3-173c0788fb18_4\", \"run_number\": 10, \"metric\": null, \"status\": \"Completed\", \"run_type\": \"azureml.scriptrun\", \"training_percent\": \"100\", \"start_time\": \"2021-02-03T11:02:57.911428Z\", \"end_time\": \"2021-02-03T11:03:52.713116Z\", \"created_time\": \"2021-02-03T11:02:43.914908Z\", \"created_time_dt\": \"2021-02-03T11:02:43.914908Z\", \"duration\": \"0:01:08\", \"iteration\": \"4\", \"goal\": \"accuracy_max\", \"run_name\": \"MinMaxScaler, RandomForest\", \"run_properties\": \"copy=True, feature_range=(0, 1\", \"primary_metric\": 0.80493197, \"best_metric\": 0.8172619}, {\"run_id\": \"AutoML_7cbb0366-8e02-4a86-91a3-173c0788fb18_5\", \"run_number\": 11, \"metric\": null, \"status\": \"Completed\", \"run_type\": \"azureml.scriptrun\", \"training_percent\": \"100\", \"start_time\": \"2021-02-03T11:04:08.150676Z\", \"end_time\": \"2021-02-03T11:05:02.958258Z\", \"created_time\": \"2021-02-03T11:03:55.139042Z\", \"created_time_dt\": \"2021-02-03T11:03:55.139042Z\", \"duration\": \"0:01:07\", \"iteration\": \"5\", \"goal\": \"accuracy_max\", \"run_name\": \"MinMaxScaler, SVM\", \"run_properties\": \"copy=True, feature_range=(0, 1\", \"primary_metric\": 0.79676871, \"best_metric\": 0.8172619}, {\"run_id\": \"AutoML_7cbb0366-8e02-4a86-91a3-173c0788fb18_6\", \"run_number\": 12, \"metric\": null, \"status\": \"Completed\", \"run_type\": \"azureml.scriptrun\", \"training_percent\": \"100\", \"start_time\": \"2021-02-03T11:05:15.929835Z\", \"end_time\": \"2021-02-03T11:06:07.385253Z\", \"created_time\": \"2021-02-03T11:05:04.6794Z\", \"created_time_dt\": \"2021-02-03T11:05:04.6794Z\", \"duration\": \"0:01:02\", \"iteration\": \"6\", \"goal\": \"accuracy_max\", \"run_name\": \"MaxAbsScaler, GradientBoosting\", \"run_properties\": \"copy=True\", \"primary_metric\": 0.7922619, \"best_metric\": 0.8172619}, {\"run_id\": \"AutoML_7cbb0366-8e02-4a86-91a3-173c0788fb18_7\", \"run_number\": 13, \"metric\": null, \"status\": \"Completed\", \"run_type\": \"azureml.scriptrun\", \"training_percent\": \"100\", \"start_time\": \"2021-02-03T11:06:21.914848Z\", \"end_time\": \"2021-02-03T11:07:17.078281Z\", \"created_time\": \"2021-02-03T11:06:09.923336Z\", \"created_time_dt\": \"2021-02-03T11:06:09.923336Z\", \"duration\": \"0:01:07\", \"iteration\": \"7\", \"goal\": \"accuracy_max\", \"run_name\": \"StandardScalerWrapper, RandomForest\", \"run_properties\": \"<azureml.automl.runtime.shared.model_wrappers.StandardScalerWrapper object at 0x7f1aa51c6710\", \"primary_metric\": 0.77159864, \"best_metric\": 0.8172619}, {\"run_id\": \"AutoML_7cbb0366-8e02-4a86-91a3-173c0788fb18_8\", \"run_number\": 14, \"metric\": null, \"status\": \"Completed\", \"run_type\": \"azureml.scriptrun\", \"training_percent\": \"100\", \"start_time\": \"2021-02-03T11:07:31.875177Z\", \"end_time\": \"2021-02-03T11:08:29.152504Z\", \"created_time\": \"2021-02-03T11:07:19.926102Z\", \"created_time_dt\": \"2021-02-03T11:07:19.926102Z\", \"duration\": \"0:01:09\", \"iteration\": \"8\", \"goal\": \"accuracy_max\", \"run_name\": \"SparseNormalizer, XGBoostClassifier\", \"run_properties\": \"<azureml.automl.runtime.shared.model_wrappers.SparseNormalizer object at 0x7f5d3afc5780\", \"primary_metric\": 0.8047619, \"best_metric\": 0.8172619}, {\"run_id\": \"AutoML_7cbb0366-8e02-4a86-91a3-173c0788fb18_9\", \"run_number\": 15, \"metric\": null, \"status\": \"Completed\", \"run_type\": \"azureml.scriptrun\", \"training_percent\": \"100\", \"start_time\": \"2021-02-03T11:08:43.161497Z\", \"end_time\": \"2021-02-03T11:09:32.211223Z\", \"created_time\": \"2021-02-03T11:08:30.81096Z\", \"created_time_dt\": \"2021-02-03T11:08:30.81096Z\", \"duration\": \"0:01:01\", \"iteration\": \"9\", \"goal\": \"accuracy_max\", \"run_name\": \"SparseNormalizer, LightGBM\", \"run_properties\": \"<azureml.automl.runtime.shared.model_wrappers.SparseNormalizer object at 0x7fe99171c908\", \"primary_metric\": 0.78435374, \"best_metric\": 0.8172619}, {\"run_id\": \"AutoML_7cbb0366-8e02-4a86-91a3-173c0788fb18_10\", \"run_number\": 16, \"metric\": null, \"status\": \"Completed\", \"run_type\": \"azureml.scriptrun\", \"training_percent\": \"100\", \"start_time\": \"2021-02-03T11:09:50.742499Z\", \"end_time\": \"2021-02-03T11:10:41.802653Z\", \"created_time\": \"2021-02-03T11:09:35.619197Z\", \"created_time_dt\": \"2021-02-03T11:09:35.619197Z\", \"duration\": \"0:01:06\", \"iteration\": \"10\", \"goal\": \"accuracy_max\", \"run_name\": \"RobustScaler, RandomForest\", \"run_properties\": \"copy=True, quantile_range=[10, 90], with_centering=True,\\n             with_scaling=True\", \"primary_metric\": 0.75102041, \"best_metric\": 0.8172619}, {\"run_id\": \"AutoML_7cbb0366-8e02-4a86-91a3-173c0788fb18_11\", \"run_number\": 17, \"metric\": null, \"status\": \"Completed\", \"run_type\": \"azureml.scriptrun\", \"training_percent\": \"100\", \"start_time\": \"2021-02-03T11:10:55.082747Z\", \"end_time\": \"2021-02-03T11:11:51.667627Z\", \"created_time\": \"2021-02-03T11:10:44.793429Z\", \"created_time_dt\": \"2021-02-03T11:10:44.793429Z\", \"duration\": \"0:01:06\", \"iteration\": \"11\", \"goal\": \"accuracy_max\", \"run_name\": \"MaxAbsScaler, LightGBM\", \"run_properties\": \"copy=True\", \"primary_metric\": 0.76768707, \"best_metric\": 0.8172619}, {\"run_id\": \"AutoML_7cbb0366-8e02-4a86-91a3-173c0788fb18_12\", \"run_number\": 18, \"metric\": null, \"status\": \"Completed\", \"run_type\": \"azureml.scriptrun\", \"training_percent\": \"100\", \"start_time\": \"2021-02-03T11:12:05.859117Z\", \"end_time\": \"2021-02-03T11:12:53.402798Z\", \"created_time\": \"2021-02-03T11:11:54.175196Z\", \"created_time_dt\": \"2021-02-03T11:11:54.175196Z\", \"duration\": \"0:00:59\", \"iteration\": \"12\", \"goal\": \"accuracy_max\", \"run_name\": \"SparseNormalizer, XGBoostClassifier\", \"run_properties\": \"<azureml.automl.runtime.shared.model_wrappers.SparseNormalizer object at 0x7ff1e2280278\", \"primary_metric\": 0.76751701, \"best_metric\": 0.8172619}, {\"run_id\": \"AutoML_7cbb0366-8e02-4a86-91a3-173c0788fb18_13\", \"run_number\": 19, \"metric\": null, \"status\": \"Completed\", \"run_type\": \"azureml.scriptrun\", \"training_percent\": \"100\", \"start_time\": \"2021-02-03T11:13:05.37011Z\", \"end_time\": \"2021-02-03T11:13:56.754796Z\", \"created_time\": \"2021-02-03T11:12:55.409616Z\", \"created_time_dt\": \"2021-02-03T11:12:55.409616Z\", \"duration\": \"0:01:01\", \"iteration\": \"13\", \"goal\": \"accuracy_max\", \"run_name\": \"RobustScaler, ExtremeRandomTrees\", \"run_properties\": \"copy=True, quantile_range=[25, 75], with_centering=True,\\n             with_scaling=False\", \"primary_metric\": 0.76343537, \"best_metric\": 0.8172619}, {\"run_id\": \"AutoML_7cbb0366-8e02-4a86-91a3-173c0788fb18_14\", \"run_number\": 20, \"metric\": null, \"status\": \"Completed\", \"run_type\": \"azureml.scriptrun\", \"training_percent\": \"100\", \"start_time\": \"2021-02-03T11:14:15.859471Z\", \"end_time\": \"2021-02-03T11:15:11.624184Z\", \"created_time\": \"2021-02-03T11:13:58.795593Z\", \"created_time_dt\": \"2021-02-03T11:13:58.795593Z\", \"duration\": \"0:01:12\", \"iteration\": \"14\", \"goal\": \"accuracy_max\", \"run_name\": \"StandardScalerWrapper, ExtremeRandomTrees\", \"run_properties\": \"<azureml.automl.runtime.shared.model_wrappers.StandardScalerWrapper object at 0x7fea36c86d30\", \"primary_metric\": 0.74277211, \"best_metric\": 0.8172619}, {\"run_id\": \"AutoML_7cbb0366-8e02-4a86-91a3-173c0788fb18_15\", \"run_number\": 21, \"metric\": null, \"status\": \"Completed\", \"run_type\": \"azureml.scriptrun\", \"training_percent\": \"100\", \"start_time\": \"2021-02-03T11:15:27.336535Z\", \"end_time\": \"2021-02-03T11:16:24.50026Z\", \"created_time\": \"2021-02-03T11:15:14.707381Z\", \"created_time_dt\": \"2021-02-03T11:15:14.707381Z\", \"duration\": \"0:01:09\", \"iteration\": \"15\", \"goal\": \"accuracy_max\", \"run_name\": \"StandardScalerWrapper, XGBoostClassifier\", \"run_properties\": \"<azureml.automl.runtime.shared.model_wrappers.StandardScalerWrapper object at 0x7feede6fb588\", \"primary_metric\": 0.79209184, \"best_metric\": 0.8172619}, {\"run_id\": \"AutoML_7cbb0366-8e02-4a86-91a3-173c0788fb18_16\", \"run_number\": 22, \"metric\": null, \"status\": \"Completed\", \"run_type\": \"azureml.scriptrun\", \"training_percent\": \"100\", \"start_time\": \"2021-02-03T11:16:41.141346Z\", \"end_time\": \"2021-02-03T11:17:27.993251Z\", \"created_time\": \"2021-02-03T11:16:26.523018Z\", \"created_time_dt\": \"2021-02-03T11:16:26.523018Z\", \"duration\": \"0:01:01\", \"iteration\": \"16\", \"goal\": \"accuracy_max\", \"run_name\": \"SparseNormalizer, XGBoostClassifier\", \"run_properties\": \"<azureml.automl.runtime.shared.model_wrappers.SparseNormalizer object at 0x7fb4c903a358\", \"primary_metric\": 0.8255102, \"best_metric\": 0.8255102}, {\"run_id\": \"AutoML_7cbb0366-8e02-4a86-91a3-173c0788fb18_17\", \"run_number\": 23, \"metric\": null, \"status\": \"Completed\", \"run_type\": \"azureml.scriptrun\", \"training_percent\": \"100\", \"start_time\": \"2021-02-03T11:17:42.164896Z\", \"end_time\": \"2021-02-03T11:18:28.624394Z\", \"created_time\": \"2021-02-03T11:17:29.918036Z\", \"created_time_dt\": \"2021-02-03T11:17:29.918036Z\", \"duration\": \"0:00:58\", \"iteration\": \"17\", \"goal\": \"accuracy_max\", \"run_name\": \"SparseNormalizer, XGBoostClassifier\", \"run_properties\": \"<azureml.automl.runtime.shared.model_wrappers.SparseNormalizer object at 0x7efec2a2ba20\", \"primary_metric\": 0.73843537, \"best_metric\": 0.8255102}, {\"run_id\": \"AutoML_7cbb0366-8e02-4a86-91a3-173c0788fb18_18\", \"run_number\": 24, \"metric\": null, \"status\": \"Completed\", \"run_type\": \"azureml.scriptrun\", \"training_percent\": \"100\", \"start_time\": \"2021-02-03T11:18:41.505956Z\", \"end_time\": \"2021-02-03T11:19:35.158145Z\", \"created_time\": \"2021-02-03T11:18:30.930196Z\", \"created_time_dt\": \"2021-02-03T11:18:30.930196Z\", \"duration\": \"0:01:04\", \"iteration\": \"18\", \"goal\": \"accuracy_max\", \"run_name\": \"SparseNormalizer, XGBoostClassifier\", \"run_properties\": \"<azureml.automl.runtime.shared.model_wrappers.SparseNormalizer object at 0x7efece963320\", \"primary_metric\": 0.79217687, \"best_metric\": 0.8255102}, {\"run_id\": \"AutoML_7cbb0366-8e02-4a86-91a3-173c0788fb18_19\", \"run_number\": 25, \"metric\": null, \"status\": \"Completed\", \"run_type\": \"azureml.scriptrun\", \"training_percent\": \"100\", \"start_time\": \"2021-02-03T11:19:49.846927Z\", \"end_time\": \"2021-02-03T11:20:44.246954Z\", \"created_time\": \"2021-02-03T11:19:38.906293Z\", \"created_time_dt\": \"2021-02-03T11:19:38.906293Z\", \"duration\": \"0:01:05\", \"iteration\": \"19\", \"goal\": \"accuracy_max\", \"run_name\": \"MaxAbsScaler, LogisticRegression\", \"run_properties\": \"copy=True\", \"primary_metric\": 0.79651361, \"best_metric\": 0.8255102}, {\"run_id\": \"AutoML_7cbb0366-8e02-4a86-91a3-173c0788fb18_20\", \"run_number\": 26, \"metric\": null, \"status\": \"Completed\", \"run_type\": \"azureml.scriptrun\", \"training_percent\": \"100\", \"start_time\": \"2021-02-03T11:20:58.153703Z\", \"end_time\": \"2021-02-03T11:21:48.562509Z\", \"created_time\": \"2021-02-03T11:20:47.20886Z\", \"created_time_dt\": \"2021-02-03T11:20:47.20886Z\", \"duration\": \"0:01:01\", \"iteration\": \"20\", \"goal\": \"accuracy_max\", \"run_name\": \"StandardScalerWrapper, KNN\", \"run_properties\": \"<azureml.automl.runtime.shared.model_wrappers.StandardScalerWrapper object at 0x7f3f841e2cf8\", \"primary_metric\": 0.68877551, \"best_metric\": 0.8255102}, {\"run_id\": \"AutoML_7cbb0366-8e02-4a86-91a3-173c0788fb18_21\", \"run_number\": 27, \"metric\": null, \"status\": \"Completed\", \"run_type\": \"azureml.scriptrun\", \"training_percent\": \"100\", \"start_time\": \"2021-02-03T11:22:01.027646Z\", \"end_time\": \"2021-02-03T11:22:48.470607Z\", \"created_time\": \"2021-02-03T11:21:50.87996Z\", \"created_time_dt\": \"2021-02-03T11:21:50.87996Z\", \"duration\": \"0:00:57\", \"iteration\": \"21\", \"goal\": \"accuracy_max\", \"run_name\": \"SparseNormalizer, RandomForest\", \"run_properties\": \"<azureml.automl.runtime.shared.model_wrappers.SparseNormalizer object at 0x7f1fa00d7fd0\", \"primary_metric\": 0.76352041, \"best_metric\": 0.8255102}, {\"run_id\": \"AutoML_7cbb0366-8e02-4a86-91a3-173c0788fb18_22\", \"run_number\": 28, \"metric\": null, \"status\": \"Completed\", \"run_type\": \"azureml.scriptrun\", \"training_percent\": \"100\", \"start_time\": \"2021-02-03T11:23:01.28876Z\", \"end_time\": \"2021-02-03T11:23:47.457757Z\", \"created_time\": \"2021-02-03T11:22:50.847528Z\", \"created_time_dt\": \"2021-02-03T11:22:50.847528Z\", \"duration\": \"0:00:56\", \"iteration\": \"22\", \"goal\": \"accuracy_max\", \"run_name\": \"StandardScalerWrapper, ExtremeRandomTrees\", \"run_properties\": \"<azureml.automl.runtime.shared.model_wrappers.StandardScalerWrapper object at 0x7f7d7e945b70\", \"primary_metric\": 0.78835034, \"best_metric\": 0.8255102}, {\"run_id\": \"AutoML_7cbb0366-8e02-4a86-91a3-173c0788fb18_23\", \"run_number\": 29, \"metric\": null, \"status\": \"Completed\", \"run_type\": \"azureml.scriptrun\", \"training_percent\": \"100\", \"start_time\": \"2021-02-03T11:24:02.967814Z\", \"end_time\": \"2021-02-03T11:24:57.699011Z\", \"created_time\": \"2021-02-03T11:23:50.575116Z\", \"created_time_dt\": \"2021-02-03T11:23:50.575116Z\", \"duration\": \"0:01:07\", \"iteration\": \"23\", \"goal\": \"accuracy_max\", \"run_name\": \"SparseNormalizer, LightGBM\", \"run_properties\": \"<azureml.automl.runtime.shared.model_wrappers.SparseNormalizer object at 0x7f9ebb618860\", \"primary_metric\": 0.79234694, \"best_metric\": 0.8255102}, {\"run_id\": \"AutoML_7cbb0366-8e02-4a86-91a3-173c0788fb18_24\", \"run_number\": 30, \"metric\": null, \"status\": \"Completed\", \"run_type\": \"azureml.scriptrun\", \"training_percent\": \"100\", \"start_time\": \"2021-02-03T11:25:11.565463Z\", \"end_time\": \"2021-02-03T11:26:05.757373Z\", \"created_time\": \"2021-02-03T11:24:59.721539Z\", \"created_time_dt\": \"2021-02-03T11:24:59.721539Z\", \"duration\": \"0:01:06\", \"iteration\": \"24\", \"goal\": \"accuracy_max\", \"run_name\": \"RobustScaler, LightGBM\", \"run_properties\": \"copy=True, quantile_range=[10, 90], with_centering=True,\\n             with_scaling=False\", \"primary_metric\": 0.79234694, \"best_metric\": 0.8255102}, {\"run_id\": \"AutoML_7cbb0366-8e02-4a86-91a3-173c0788fb18_25\", \"run_number\": 31, \"metric\": null, \"status\": \"Completed\", \"run_type\": \"azureml.scriptrun\", \"training_percent\": \"100\", \"start_time\": \"2021-02-03T11:26:23.120126Z\", \"end_time\": \"2021-02-03T11:27:15.973889Z\", \"created_time\": \"2021-02-03T11:26:09.721958Z\", \"created_time_dt\": \"2021-02-03T11:26:09.721958Z\", \"duration\": \"0:01:06\", \"iteration\": \"25\", \"goal\": \"accuracy_max\", \"run_name\": \"PCA, XGBoostClassifier\", \"run_properties\": \"copy=True, iterated_power='auto', n_components=0.10894736842105263,\\n    random_state=None, svd_solver='auto', tol=0.0, whiten=True\", \"primary_metric\": 0.54336735, \"best_metric\": 0.8255102}, {\"run_id\": \"AutoML_7cbb0366-8e02-4a86-91a3-173c0788fb18_26\", \"run_number\": 32, \"metric\": null, \"status\": \"Completed\", \"run_type\": \"azureml.scriptrun\", \"training_percent\": \"100\", \"start_time\": \"2021-02-03T11:27:29.784612Z\", \"end_time\": \"2021-02-03T11:28:18.444208Z\", \"created_time\": \"2021-02-03T11:27:18.163119Z\", \"created_time_dt\": \"2021-02-03T11:27:18.163119Z\", \"duration\": \"0:01:00\", \"iteration\": \"26\", \"goal\": \"accuracy_max\", \"run_name\": \"MinMaxScaler, LogisticRegression\", \"run_properties\": \"copy=True, feature_range=(0, 1\", \"primary_metric\": 0.8255102, \"best_metric\": 0.8255102}, {\"run_id\": \"AutoML_7cbb0366-8e02-4a86-91a3-173c0788fb18_27\", \"run_number\": 33, \"metric\": null, \"status\": \"Completed\", \"run_type\": \"azureml.scriptrun\", \"training_percent\": \"100\", \"start_time\": \"2021-02-03T11:28:33.182756Z\", \"end_time\": \"2021-02-03T11:30:29.559273Z\", \"created_time\": \"2021-02-03T11:28:20.41412Z\", \"created_time_dt\": \"2021-02-03T11:28:20.41412Z\", \"duration\": \"0:02:09\", \"iteration\": \"27\", \"goal\": \"accuracy_max\", \"run_name\": \"StandardScalerWrapper, XGBoostClassifier\", \"run_properties\": \"<azureml.automl.runtime.shared.model_wrappers.StandardScalerWrapper object at 0x7fb1369d8b00\", \"primary_metric\": 0.76326531, \"best_metric\": 0.8255102}, {\"run_id\": \"AutoML_7cbb0366-8e02-4a86-91a3-173c0788fb18_28\", \"run_number\": 34, \"metric\": null, \"status\": \"Completed\", \"run_type\": \"azureml.scriptrun\", \"training_percent\": \"100\", \"start_time\": \"2021-02-03T11:30:44.00212Z\", \"end_time\": \"2021-02-03T11:32:08.643579Z\", \"created_time\": \"2021-02-03T11:30:31.014814Z\", \"created_time_dt\": \"2021-02-03T11:30:31.014814Z\", \"duration\": \"0:01:37\", \"iteration\": \"28\", \"goal\": \"accuracy_max\", \"run_name\": \"VotingEnsemble\", \"run_properties\": \"classification_labels=None,\\n                              estimators=[('26',\\n                                           Pipeline(memory=None,\\n                                                    steps=[('minmaxscaler',\\n                                                            MinMaxScaler(copy=True,\\n                                                                         feature_range=(0,\\n                                                                                        1\", \"primary_metric\": 0.8380102, \"best_metric\": 0.8380102}], \"children_metrics\": {\"categories\": [0], \"series\": {\"accuracy\": [{\"categories\": [\"0\", \"1\", \"2\", \"3\", \"4\", \"5\", \"6\", \"7\", \"8\", \"9\", \"10\", \"11\", \"12\", \"13\", \"14\", \"15\", \"16\", \"17\", \"18\", \"19\", \"20\", \"21\", \"22\", \"23\", \"24\", \"25\", \"26\", \"27\", \"28\"], \"mode\": \"markers\", \"name\": \"accuracy\", \"stepped\": false, \"type\": \"scatter\", \"data\": [0.8172619047619047, 0.808843537414966, 0.7885204081632653, 0.7798469387755101, 0.8049319727891158, 0.7967687074829932, 0.7922619047619047, 0.7715986394557823, 0.8047619047619048, 0.7843537414965986, 0.7510204081632653, 0.7676870748299319, 0.7675170068027211, 0.7634353741496599, 0.7427721088435375, 0.7920918367346939, 0.8255102040816327, 0.7384353741496599, 0.7921768707482993, 0.7965136054421768, 0.6887755102040816, 0.7635204081632653, 0.7883503401360545, 0.7923469387755102, 0.7923469387755102, 0.5433673469387755, 0.8255102040816327, 0.763265306122449, 0.8380102040816325]}, {\"categories\": [\"0\", \"1\", \"2\", \"3\", \"4\", \"5\", \"6\", \"7\", \"8\", \"9\", \"10\", \"11\", \"12\", \"13\", \"14\", \"15\", \"16\", \"17\", \"18\", \"19\", \"20\", \"21\", \"22\", \"23\", \"24\", \"25\", \"26\", \"27\", \"28\"], \"mode\": \"lines\", \"name\": \"accuracy_max\", \"stepped\": true, \"type\": \"scatter\", \"data\": [0.8172619047619047, 0.8172619047619047, 0.8172619047619047, 0.8172619047619047, 0.8172619047619047, 0.8172619047619047, 0.8172619047619047, 0.8172619047619047, 0.8172619047619047, 0.8172619047619047, 0.8172619047619047, 0.8172619047619047, 0.8172619047619047, 0.8172619047619047, 0.8172619047619047, 0.8172619047619047, 0.8255102040816327, 0.8255102040816327, 0.8255102040816327, 0.8255102040816327, 0.8255102040816327, 0.8255102040816327, 0.8255102040816327, 0.8255102040816327, 0.8255102040816327, 0.8255102040816327, 0.8255102040816327, 0.8255102040816327, 0.8380102040816325]}], \"AUC_micro\": [{\"categories\": [\"0\", \"1\", \"2\", \"3\", \"4\", \"5\", \"6\", \"7\", \"8\", \"9\", \"10\", \"11\", \"12\", \"13\", \"14\", \"15\", \"16\", \"17\", \"18\", \"19\", \"20\", \"21\", \"22\", \"23\", \"24\", \"25\", \"26\", \"27\", \"28\"], \"mode\": \"markers\", \"name\": \"AUC_micro\", \"stepped\": false, \"type\": \"scatter\", \"data\": [0.8646498926951734, 0.8714365252903884, 0.8753445106784209, 0.8878620814822528, 0.88300794807719, 0.8803985029385905, 0.8780565606344579, 0.8686455874866954, 0.873694337428849, 0.8650847881669674, 0.869111177634319, 0.8630786072932575, 0.850632078937017, 0.8725158643389328, 0.8654311065412561, 0.8732892689388679, 0.8861724281549355, 0.8260520789948632, 0.8740897889768151, 0.8883916640635846, 0.7377777343930769, 0.8591460372414271, 0.8752550658868989, 0.8725413166967467, 0.869319858045259, 0.5433673469387755, 0.9086980540515526, 0.8669112117636171, 0.9013406234092276]}, {\"categories\": [\"0\", \"1\", \"2\", \"3\", \"4\", \"5\", \"6\", \"7\", \"8\", \"9\", \"10\", \"11\", \"12\", \"13\", \"14\", \"15\", \"16\", \"17\", \"18\", \"19\", \"20\", \"21\", \"22\", \"23\", \"24\", \"25\", \"26\", \"27\", \"28\"], \"mode\": \"lines\", \"name\": \"AUC_micro_max\", \"stepped\": true, \"type\": \"scatter\", \"data\": [0.8646498926951734, 0.8714365252903884, 0.8753445106784209, 0.8878620814822528, 0.8878620814822528, 0.8878620814822528, 0.8878620814822528, 0.8878620814822528, 0.8878620814822528, 0.8878620814822528, 0.8878620814822528, 0.8878620814822528, 0.8878620814822528, 0.8878620814822528, 0.8878620814822528, 0.8878620814822528, 0.8878620814822528, 0.8878620814822528, 0.8878620814822528, 0.8883916640635846, 0.8883916640635846, 0.8883916640635846, 0.8883916640635846, 0.8883916640635846, 0.8883916640635846, 0.8883916640635846, 0.9086980540515526, 0.9086980540515526, 0.9086980540515526]}], \"norm_macro_recall\": [{\"categories\": [\"0\", \"1\", \"2\", \"3\", \"4\", \"5\", \"6\", \"7\", \"8\", \"9\", \"10\", \"11\", \"12\", \"13\", \"14\", \"15\", \"16\", \"17\", \"18\", \"19\", \"20\", \"21\", \"22\", \"23\", \"24\", \"25\", \"26\", \"27\", \"28\"], \"mode\": \"markers\", \"name\": \"norm_macro_recall\", \"stepped\": false, \"type\": \"scatter\", \"data\": [0.6244035125294496, 0.6134221460698223, 0.5706455343756692, 0.553295780681088, 0.6047718997644036, 0.5916247590490469, 0.5758299421717712, 0.535703576783037, 0.6009706575283786, 0.5556290426215464, 0.4901983294067252, 0.5204861854786893, 0.5148858427928893, 0.51439922895695, 0.475214821160848, 0.5758693510387662, 0.6447264938959092, 0.45272435210965956, 0.5742771471407153, 0.5873827372028272, 0.36566416791604206, 0.5183598200899551, 0.5675420860998073, 0.5762377382737203, 0.5802377382737203, 0.0, 0.6513827372028272, 0.5177905333047762, 0.6763641036624546]}, {\"categories\": [\"0\", \"1\", \"2\", \"3\", \"4\", \"5\", \"6\", \"7\", \"8\", \"9\", \"10\", \"11\", \"12\", \"13\", \"14\", \"15\", \"16\", \"17\", \"18\", \"19\", \"20\", \"21\", \"22\", \"23\", \"24\", \"25\", \"26\", \"27\", \"28\"], \"mode\": \"lines\", \"name\": \"norm_macro_recall_max\", \"stepped\": true, \"type\": \"scatter\", \"data\": [0.6244035125294496, 0.6244035125294496, 0.6244035125294496, 0.6244035125294496, 0.6244035125294496, 0.6244035125294496, 0.6244035125294496, 0.6244035125294496, 0.6244035125294496, 0.6244035125294496, 0.6244035125294496, 0.6244035125294496, 0.6244035125294496, 0.6244035125294496, 0.6244035125294496, 0.6244035125294496, 0.6447264938959092, 0.6447264938959092, 0.6447264938959092, 0.6447264938959092, 0.6447264938959092, 0.6447264938959092, 0.6447264938959092, 0.6447264938959092, 0.6447264938959092, 0.6447264938959092, 0.6513827372028272, 0.6513827372028272, 0.6763641036624546]}], \"AUC_macro\": [{\"categories\": [\"0\", \"1\", \"2\", \"3\", \"4\", \"5\", \"6\", \"7\", \"8\", \"9\", \"10\", \"11\", \"12\", \"13\", \"14\", \"15\", \"16\", \"17\", \"18\", \"19\", \"20\", \"21\", \"22\", \"23\", \"24\", \"25\", \"26\", \"27\", \"28\"], \"mode\": \"markers\", \"name\": \"AUC_macro\", \"stepped\": false, \"type\": \"scatter\", \"data\": [0.8650505461554937, 0.875523559648747, 0.8762798243735276, 0.8937049689440993, 0.8837608695652174, 0.877551081602056, 0.8824314628400085, 0.8674576997215677, 0.8715444420646818, 0.8644907903191262, 0.8711839794388521, 0.8628468622831443, 0.8497884450631827, 0.8758009209680875, 0.866289837224245, 0.877861372884986, 0.8845204540586848, 0.8235056757335618, 0.8748242664382095, 0.8900696080531162, 0.7336111587063611, 0.8596162989933605, 0.8757057185692867, 0.8719079031912613, 0.8673605697151423, 0.5, 0.9084134718355108, 0.8726864424930392, 0.9014040479760121]}, {\"categories\": [\"0\", \"1\", \"2\", \"3\", \"4\", \"5\", \"6\", \"7\", \"8\", \"9\", \"10\", \"11\", \"12\", \"13\", \"14\", \"15\", \"16\", \"17\", \"18\", \"19\", \"20\", \"21\", \"22\", \"23\", \"24\", \"25\", \"26\", \"27\", \"28\"], \"mode\": \"lines\", \"name\": \"AUC_macro_max\", \"stepped\": true, \"type\": \"scatter\", \"data\": [0.8650505461554937, 0.875523559648747, 0.8762798243735276, 0.8937049689440993, 0.8937049689440993, 0.8937049689440993, 0.8937049689440993, 0.8937049689440993, 0.8937049689440993, 0.8937049689440993, 0.8937049689440993, 0.8937049689440993, 0.8937049689440993, 0.8937049689440993, 0.8937049689440993, 0.8937049689440993, 0.8937049689440993, 0.8937049689440993, 0.8937049689440993, 0.8937049689440993, 0.8937049689440993, 0.8937049689440993, 0.8937049689440993, 0.8937049689440993, 0.8937049689440993, 0.8937049689440993, 0.9084134718355108, 0.9084134718355108, 0.9084134718355108]}], \"f1_score_weighted\": [{\"categories\": [\"0\", \"1\", \"2\", \"3\", \"4\", \"5\", \"6\", \"7\", \"8\", \"9\", \"10\", \"11\", \"12\", \"13\", \"14\", \"15\", \"16\", \"17\", \"18\", \"19\", \"20\", \"21\", \"22\", \"23\", \"24\", \"25\", \"26\", \"27\", \"28\"], \"mode\": \"markers\", \"name\": \"f1_score_weighted\", \"stepped\": false, \"type\": \"scatter\", \"data\": [0.8162446840183144, 0.808292814347287, 0.7881576044787094, 0.7790869946194716, 0.804426884815012, 0.7960845214470308, 0.7909202546274083, 0.7715211693778872, 0.8036789957093425, 0.7829905601750314, 0.749508278317802, 0.765058260546697, 0.7643997372903215, 0.762739111312944, 0.7424435622828722, 0.7904611571838671, 0.8253091313636041, 0.7349514187515633, 0.7911212624235577, 0.7963192060449911, 0.6860357323465913, 0.762878009566273, 0.7879953908892727, 0.7919418940813252, 0.7917623606347189, 0.3841249734768743, 0.8258139554428359, 0.7620537513666678, 0.8383492967151962]}, {\"categories\": [\"0\", \"1\", \"2\", \"3\", \"4\", \"5\", \"6\", \"7\", \"8\", \"9\", \"10\", \"11\", \"12\", \"13\", \"14\", \"15\", \"16\", \"17\", \"18\", \"19\", \"20\", \"21\", \"22\", \"23\", \"24\", \"25\", \"26\", \"27\", \"28\"], \"mode\": \"lines\", \"name\": \"f1_score_weighted_max\", \"stepped\": true, \"type\": \"scatter\", \"data\": [0.8162446840183144, 0.8162446840183144, 0.8162446840183144, 0.8162446840183144, 0.8162446840183144, 0.8162446840183144, 0.8162446840183144, 0.8162446840183144, 0.8162446840183144, 0.8162446840183144, 0.8162446840183144, 0.8162446840183144, 0.8162446840183144, 0.8162446840183144, 0.8162446840183144, 0.8162446840183144, 0.8253091313636041, 0.8253091313636041, 0.8253091313636041, 0.8253091313636041, 0.8253091313636041, 0.8253091313636041, 0.8253091313636041, 0.8253091313636041, 0.8253091313636041, 0.8253091313636041, 0.8258139554428359, 0.8258139554428359, 0.8383492967151962]}], \"precision_score_micro\": [{\"categories\": [\"0\", \"1\", \"2\", \"3\", \"4\", \"5\", \"6\", \"7\", \"8\", \"9\", \"10\", \"11\", \"12\", \"13\", \"14\", \"15\", \"16\", \"17\", \"18\", \"19\", \"20\", \"21\", \"22\", \"23\", \"24\", \"25\", \"26\", \"27\", \"28\"], \"mode\": \"markers\", \"name\": \"precision_score_micro\", \"stepped\": false, \"type\": \"scatter\", \"data\": [0.8172619047619047, 0.808843537414966, 0.7885204081632653, 0.7798469387755101, 0.8049319727891158, 0.7967687074829932, 0.7922619047619047, 0.7715986394557823, 0.8047619047619048, 0.7843537414965986, 0.7510204081632653, 0.7676870748299319, 0.7675170068027211, 0.7634353741496599, 0.7427721088435375, 0.7920918367346939, 0.8255102040816327, 0.7384353741496599, 0.7921768707482993, 0.7965136054421768, 0.6887755102040816, 0.7635204081632653, 0.7883503401360545, 0.7923469387755102, 0.7923469387755102, 0.5433673469387755, 0.8255102040816327, 0.763265306122449, 0.8380102040816325]}, {\"categories\": [\"0\", \"1\", \"2\", \"3\", \"4\", \"5\", \"6\", \"7\", \"8\", \"9\", \"10\", \"11\", \"12\", \"13\", \"14\", \"15\", \"16\", \"17\", \"18\", \"19\", \"20\", \"21\", \"22\", \"23\", \"24\", \"25\", \"26\", \"27\", \"28\"], \"mode\": \"lines\", \"name\": \"precision_score_micro_max\", \"stepped\": true, \"type\": \"scatter\", \"data\": [0.8172619047619047, 0.8172619047619047, 0.8172619047619047, 0.8172619047619047, 0.8172619047619047, 0.8172619047619047, 0.8172619047619047, 0.8172619047619047, 0.8172619047619047, 0.8172619047619047, 0.8172619047619047, 0.8172619047619047, 0.8172619047619047, 0.8172619047619047, 0.8172619047619047, 0.8172619047619047, 0.8255102040816327, 0.8255102040816327, 0.8255102040816327, 0.8255102040816327, 0.8255102040816327, 0.8255102040816327, 0.8255102040816327, 0.8255102040816327, 0.8255102040816327, 0.8255102040816327, 0.8255102040816327, 0.8255102040816327, 0.8380102040816325]}], \"balanced_accuracy\": [{\"categories\": [\"0\", \"1\", \"2\", \"3\", \"4\", \"5\", \"6\", \"7\", \"8\", \"9\", \"10\", \"11\", \"12\", \"13\", \"14\", \"15\", \"16\", \"17\", \"18\", \"19\", \"20\", \"21\", \"22\", \"23\", \"24\", \"25\", \"26\", \"27\", \"28\"], \"mode\": \"markers\", \"name\": \"balanced_accuracy\", \"stepped\": false, \"type\": \"scatter\", \"data\": [0.8122017562647248, 0.8067110730349111, 0.7853227671878346, 0.7766478903405438, 0.8023859498822018, 0.7958123795245234, 0.7879149710858856, 0.7678517883915186, 0.8004853287641893, 0.7778145213107732, 0.7450991647033625, 0.7602430927393448, 0.7574429213964446, 0.757199614478475, 0.737607410580424, 0.7879346755193831, 0.8223632469479545, 0.7263621760548298, 0.7871385735703577, 0.7936913686014136, 0.682832083958021, 0.7591799100449774, 0.7837710430499036, 0.7881188691368601, 0.7901188691368601, 0.5, 0.8256913686014136, 0.758895266652388, 0.8381820518312273]}, {\"categories\": [\"0\", \"1\", \"2\", \"3\", \"4\", \"5\", \"6\", \"7\", \"8\", \"9\", \"10\", \"11\", \"12\", \"13\", \"14\", \"15\", \"16\", \"17\", \"18\", \"19\", \"20\", \"21\", \"22\", \"23\", \"24\", \"25\", \"26\", \"27\", \"28\"], \"mode\": \"lines\", \"name\": \"balanced_accuracy_max\", \"stepped\": true, \"type\": \"scatter\", \"data\": [0.8122017562647248, 0.8122017562647248, 0.8122017562647248, 0.8122017562647248, 0.8122017562647248, 0.8122017562647248, 0.8122017562647248, 0.8122017562647248, 0.8122017562647248, 0.8122017562647248, 0.8122017562647248, 0.8122017562647248, 0.8122017562647248, 0.8122017562647248, 0.8122017562647248, 0.8122017562647248, 0.8223632469479545, 0.8223632469479545, 0.8223632469479545, 0.8223632469479545, 0.8223632469479545, 0.8223632469479545, 0.8223632469479545, 0.8223632469479545, 0.8223632469479545, 0.8223632469479545, 0.8256913686014136, 0.8256913686014136, 0.8381820518312273]}], \"log_loss\": [{\"categories\": [\"0\", \"1\", \"2\", \"3\", \"4\", \"5\", \"6\", \"7\", \"8\", \"9\", \"10\", \"11\", \"12\", \"13\", \"14\", \"15\", \"16\", \"17\", \"18\", \"19\", \"20\", \"21\", \"22\", \"23\", \"24\", \"25\", \"26\", \"27\", \"28\"], \"mode\": \"markers\", \"name\": \"log_loss\", \"stepped\": false, \"type\": \"scatter\", \"data\": [0.541903106816369, 0.48176671225007694, 0.45111017564671646, 0.44056083691465986, 0.4464044236555253, 0.43214678324265143, 0.4459930686507314, 0.4644979962551791, 0.4522743441603071, 0.4678417562149496, 0.46561156928379105, 0.500725558182146, 0.5085595947200474, 0.4728985920151591, 0.47162377589613175, 0.5090892090773136, 0.4402541293915698, 0.5513934027668219, 0.4623219036132726, 0.4980071929468971, 0.6024866270734396, 0.47323461580374604, 0.4573590877680527, 0.4582151269961554, 0.4609774186035486, 0.692518019346592, 0.4028097539246593, 0.47149101459035014, 0.4126487724173643]}, {\"categories\": [\"0\", \"1\", \"2\", \"3\", \"4\", \"5\", \"6\", \"7\", \"8\", \"9\", \"10\", \"11\", \"12\", \"13\", \"14\", \"15\", \"16\", \"17\", \"18\", \"19\", \"20\", \"21\", \"22\", \"23\", \"24\", \"25\", \"26\", \"27\", \"28\"], \"mode\": \"lines\", \"name\": \"log_loss_min\", \"stepped\": true, \"type\": \"scatter\", \"data\": [0.541903106816369, 0.48176671225007694, 0.45111017564671646, 0.44056083691465986, 0.44056083691465986, 0.43214678324265143, 0.43214678324265143, 0.43214678324265143, 0.43214678324265143, 0.43214678324265143, 0.43214678324265143, 0.43214678324265143, 0.43214678324265143, 0.43214678324265143, 0.43214678324265143, 0.43214678324265143, 0.43214678324265143, 0.43214678324265143, 0.43214678324265143, 0.43214678324265143, 0.43214678324265143, 0.43214678324265143, 0.43214678324265143, 0.43214678324265143, 0.43214678324265143, 0.43214678324265143, 0.4028097539246593, 0.4028097539246593, 0.4028097539246593]}], \"matthews_correlation\": [{\"categories\": [\"0\", \"1\", \"2\", \"3\", \"4\", \"5\", \"6\", \"7\", \"8\", \"9\", \"10\", \"11\", \"12\", \"13\", \"14\", \"15\", \"16\", \"17\", \"18\", \"19\", \"20\", \"21\", \"22\", \"23\", \"24\", \"25\", \"26\", \"27\", \"28\"], \"mode\": \"markers\", \"name\": \"matthews_correlation\", \"stepped\": false, \"type\": \"scatter\", \"data\": [0.6293560732858804, 0.6169494851464525, 0.5729036568686838, 0.5560991859551085, 0.6078309822901167, 0.5947189227199783, 0.5801661608013914, 0.5358186374754192, 0.6045318866798131, 0.5618541099635788, 0.49634095001128353, 0.5294313589640675, 0.5250641798735312, 0.5169081757476013, 0.4763138328145386, 0.5833499477908527, 0.6453385033307358, 0.4640220621208829, 0.5782914848167763, 0.5892697243066433, 0.37120391109298856, 0.5191506151212189, 0.568776874873774, 0.5771756218186094, 0.581546354658155, 0.0, 0.649480474123679, 0.5223794875752132, 0.6737391972221884]}, {\"categories\": [\"0\", \"1\", \"2\", \"3\", \"4\", \"5\", \"6\", \"7\", \"8\", \"9\", \"10\", \"11\", \"12\", \"13\", \"14\", \"15\", \"16\", \"17\", \"18\", \"19\", \"20\", \"21\", \"22\", \"23\", \"24\", \"25\", \"26\", \"27\", \"28\"], \"mode\": \"lines\", \"name\": \"matthews_correlation_max\", \"stepped\": true, \"type\": \"scatter\", \"data\": [0.6293560732858804, 0.6293560732858804, 0.6293560732858804, 0.6293560732858804, 0.6293560732858804, 0.6293560732858804, 0.6293560732858804, 0.6293560732858804, 0.6293560732858804, 0.6293560732858804, 0.6293560732858804, 0.6293560732858804, 0.6293560732858804, 0.6293560732858804, 0.6293560732858804, 0.6293560732858804, 0.6453385033307358, 0.6453385033307358, 0.6453385033307358, 0.6453385033307358, 0.6453385033307358, 0.6453385033307358, 0.6453385033307358, 0.6453385033307358, 0.6453385033307358, 0.6453385033307358, 0.649480474123679, 0.649480474123679, 0.6737391972221884]}], \"average_precision_score_macro\": [{\"categories\": [\"0\", \"1\", \"2\", \"3\", \"4\", \"5\", \"6\", \"7\", \"8\", \"9\", \"10\", \"11\", \"12\", \"13\", \"14\", \"15\", \"16\", \"17\", \"18\", \"19\", \"20\", \"21\", \"22\", \"23\", \"24\", \"25\", \"26\", \"27\", \"28\"], \"mode\": \"markers\", \"name\": \"average_precision_score_macro\", \"stepped\": false, \"type\": \"scatter\", \"data\": [0.8597353108799561, 0.8688528553809108, 0.8764101353997102, 0.8973904249079379, 0.8850543619935557, 0.8766585077753535, 0.8794504370191261, 0.868751397018386, 0.869735730565376, 0.8665244543415784, 0.8749714978745249, 0.8648194620327819, 0.8495640701079064, 0.8769973288458882, 0.8714927648489752, 0.8799307889314415, 0.8771312279202871, 0.8184455972007598, 0.87698672708361, 0.891443004314846, 0.7403888777105065, 0.8621771024030433, 0.8786215003403235, 0.8730393594355108, 0.8672525829617195, 0.5, 0.9088894149899872, 0.8694815656202248, 0.8996960286870825]}, {\"categories\": [\"0\", \"1\", \"2\", \"3\", \"4\", \"5\", \"6\", \"7\", \"8\", \"9\", \"10\", \"11\", \"12\", \"13\", \"14\", \"15\", \"16\", \"17\", \"18\", \"19\", \"20\", \"21\", \"22\", \"23\", \"24\", \"25\", \"26\", \"27\", \"28\"], \"mode\": \"lines\", \"name\": \"average_precision_score_macro_max\", \"stepped\": true, \"type\": \"scatter\", \"data\": [0.8597353108799561, 0.8688528553809108, 0.8764101353997102, 0.8973904249079379, 0.8973904249079379, 0.8973904249079379, 0.8973904249079379, 0.8973904249079379, 0.8973904249079379, 0.8973904249079379, 0.8973904249079379, 0.8973904249079379, 0.8973904249079379, 0.8973904249079379, 0.8973904249079379, 0.8973904249079379, 0.8973904249079379, 0.8973904249079379, 0.8973904249079379, 0.8973904249079379, 0.8973904249079379, 0.8973904249079379, 0.8973904249079379, 0.8973904249079379, 0.8973904249079379, 0.8973904249079379, 0.9088894149899872, 0.9088894149899872, 0.9088894149899872]}], \"precision_score_macro\": [{\"categories\": [\"0\", \"1\", \"2\", \"3\", \"4\", \"5\", \"6\", \"7\", \"8\", \"9\", \"10\", \"11\", \"12\", \"13\", \"14\", \"15\", \"16\", \"17\", \"18\", \"19\", \"20\", \"21\", \"22\", \"23\", \"24\", \"25\", \"26\", \"27\", \"28\"], \"mode\": \"markers\", \"name\": \"precision_score_macro\", \"stepped\": false, \"type\": \"scatter\", \"data\": [0.8172147622629344, 0.8102956023521793, 0.7876210345324208, 0.779507198751457, 0.8055187635289112, 0.7989764997971422, 0.7924314735184301, 0.7679906204906205, 0.804265328069676, 0.784165957672269, 0.7513582467223575, 0.7694838916091288, 0.7679236734380565, 0.7597573188249417, 0.7387532325222284, 0.7955589867818798, 0.8230010391074858, 0.737913439472294, 0.791364577451534, 0.7955999082587104, 0.6884684392404979, 0.7600131066451489, 0.78502977546081, 0.7890850116067506, 0.7914927442182618, 0.27168367346938777, 0.8238131176392045, 0.7636011570132437, 0.8355749146183928]}, {\"categories\": [\"0\", \"1\", \"2\", \"3\", \"4\", \"5\", \"6\", \"7\", \"8\", \"9\", \"10\", \"11\", \"12\", \"13\", \"14\", \"15\", \"16\", \"17\", \"18\", \"19\", \"20\", \"21\", \"22\", \"23\", \"24\", \"25\", \"26\", \"27\", \"28\"], \"mode\": \"lines\", \"name\": \"precision_score_macro_max\", \"stepped\": true, \"type\": \"scatter\", \"data\": [0.8172147622629344, 0.8172147622629344, 0.8172147622629344, 0.8172147622629344, 0.8172147622629344, 0.8172147622629344, 0.8172147622629344, 0.8172147622629344, 0.8172147622629344, 0.8172147622629344, 0.8172147622629344, 0.8172147622629344, 0.8172147622629344, 0.8172147622629344, 0.8172147622629344, 0.8172147622629344, 0.8230010391074858, 0.8230010391074858, 0.8230010391074858, 0.8230010391074858, 0.8230010391074858, 0.8230010391074858, 0.8230010391074858, 0.8230010391074858, 0.8230010391074858, 0.8230010391074858, 0.8238131176392045, 0.8238131176392045, 0.8355749146183928]}], \"recall_score_micro\": [{\"categories\": [\"0\", \"1\", \"2\", \"3\", \"4\", \"5\", \"6\", \"7\", \"8\", \"9\", \"10\", \"11\", \"12\", \"13\", \"14\", \"15\", \"16\", \"17\", \"18\", \"19\", \"20\", \"21\", \"22\", \"23\", \"24\", \"25\", \"26\", \"27\", \"28\"], \"mode\": \"markers\", \"name\": \"recall_score_micro\", \"stepped\": false, \"type\": \"scatter\", \"data\": [0.8172619047619047, 0.808843537414966, 0.7885204081632653, 0.7798469387755101, 0.8049319727891158, 0.7967687074829932, 0.7922619047619047, 0.7715986394557823, 0.8047619047619048, 0.7843537414965986, 0.7510204081632653, 0.7676870748299319, 0.7675170068027211, 0.7634353741496599, 0.7427721088435375, 0.7920918367346939, 0.8255102040816327, 0.7384353741496599, 0.7921768707482993, 0.7965136054421768, 0.6887755102040816, 0.7635204081632653, 0.7883503401360545, 0.7923469387755102, 0.7923469387755102, 0.5433673469387755, 0.8255102040816327, 0.763265306122449, 0.8380102040816325]}, {\"categories\": [\"0\", \"1\", \"2\", \"3\", \"4\", \"5\", \"6\", \"7\", \"8\", \"9\", \"10\", \"11\", \"12\", \"13\", \"14\", \"15\", \"16\", \"17\", \"18\", \"19\", \"20\", \"21\", \"22\", \"23\", \"24\", \"25\", \"26\", \"27\", \"28\"], \"mode\": \"lines\", \"name\": \"recall_score_micro_max\", \"stepped\": true, \"type\": \"scatter\", \"data\": [0.8172619047619047, 0.8172619047619047, 0.8172619047619047, 0.8172619047619047, 0.8172619047619047, 0.8172619047619047, 0.8172619047619047, 0.8172619047619047, 0.8172619047619047, 0.8172619047619047, 0.8172619047619047, 0.8172619047619047, 0.8172619047619047, 0.8172619047619047, 0.8172619047619047, 0.8172619047619047, 0.8255102040816327, 0.8255102040816327, 0.8255102040816327, 0.8255102040816327, 0.8255102040816327, 0.8255102040816327, 0.8255102040816327, 0.8255102040816327, 0.8255102040816327, 0.8255102040816327, 0.8255102040816327, 0.8255102040816327, 0.8380102040816325]}], \"weighted_accuracy\": [{\"categories\": [\"0\", \"1\", \"2\", \"3\", \"4\", \"5\", \"6\", \"7\", \"8\", \"9\", \"10\", \"11\", \"12\", \"13\", \"14\", \"15\", \"16\", \"17\", \"18\", \"19\", \"20\", \"21\", \"22\", \"23\", \"24\", \"25\", \"26\", \"27\", \"28\"], \"mode\": \"markers\", \"name\": \"weighted_accuracy\", \"stepped\": false, \"type\": \"scatter\", \"data\": [0.821990150716146, 0.8108133859115624, 0.7915410535225018, 0.7828500148844408, 0.8073053636187577, 0.7976723353859532, 0.7963512209450032, 0.7751446066746385, 0.8088288305902267, 0.7904820114916865, 0.7565745445525268, 0.7746627693726179, 0.7770289227314644, 0.7693059492961247, 0.7476536227355297, 0.7959795411500723, 0.8284910288924984, 0.7497682899998638, 0.7969396442054345, 0.7991411760629503, 0.6942537452382339, 0.7676137032953251, 0.7926811541388314, 0.7963569467461615, 0.7944481922377536, 0.5837629414146368, 0.8253426138995653, 0.767347988566062, 0.8378338312867966]}, {\"categories\": [\"0\", \"1\", \"2\", \"3\", \"4\", \"5\", \"6\", \"7\", \"8\", \"9\", \"10\", \"11\", \"12\", \"13\", \"14\", \"15\", \"16\", \"17\", \"18\", \"19\", \"20\", \"21\", \"22\", \"23\", \"24\", \"25\", \"26\", \"27\", \"28\"], \"mode\": \"lines\", \"name\": \"weighted_accuracy_max\", \"stepped\": true, \"type\": \"scatter\", \"data\": [0.821990150716146, 0.821990150716146, 0.821990150716146, 0.821990150716146, 0.821990150716146, 0.821990150716146, 0.821990150716146, 0.821990150716146, 0.821990150716146, 0.821990150716146, 0.821990150716146, 0.821990150716146, 0.821990150716146, 0.821990150716146, 0.821990150716146, 0.821990150716146, 0.8284910288924984, 0.8284910288924984, 0.8284910288924984, 0.8284910288924984, 0.8284910288924984, 0.8284910288924984, 0.8284910288924984, 0.8284910288924984, 0.8284910288924984, 0.8284910288924984, 0.8284910288924984, 0.8284910288924984, 0.8378338312867966]}], \"AUC_weighted\": [{\"categories\": [\"0\", \"1\", \"2\", \"3\", \"4\", \"5\", \"6\", \"7\", \"8\", \"9\", \"10\", \"11\", \"12\", \"13\", \"14\", \"15\", \"16\", \"17\", \"18\", \"19\", \"20\", \"21\", \"22\", \"23\", \"24\", \"25\", \"26\", \"27\", \"28\"], \"mode\": \"markers\", \"name\": \"AUC_weighted\", \"stepped\": false, \"type\": \"scatter\", \"data\": [0.8650505461554937, 0.875523559648747, 0.8762798243735276, 0.8937049689440993, 0.8837608695652174, 0.877551081602056, 0.8824314628400085, 0.8674576997215677, 0.8715444420646818, 0.864490790319126, 0.8711839794388518, 0.8628468622831441, 0.8497884450631827, 0.8758009209680873, 0.866289837224245, 0.877861372884986, 0.8845204540586848, 0.8235056757335617, 0.8748242664382095, 0.8900696080531162, 0.7336111587063612, 0.8596162989933605, 0.8757057185692867, 0.8719079031912613, 0.8673605697151423, 0.5, 0.9084134718355108, 0.8726864424930391, 0.9014040479760119]}, {\"categories\": [\"0\", \"1\", \"2\", \"3\", \"4\", \"5\", \"6\", \"7\", \"8\", \"9\", \"10\", \"11\", \"12\", \"13\", \"14\", \"15\", \"16\", \"17\", \"18\", \"19\", \"20\", \"21\", \"22\", \"23\", \"24\", \"25\", \"26\", \"27\", \"28\"], \"mode\": \"lines\", \"name\": \"AUC_weighted_max\", \"stepped\": true, \"type\": \"scatter\", \"data\": [0.8650505461554937, 0.875523559648747, 0.8762798243735276, 0.8937049689440993, 0.8937049689440993, 0.8937049689440993, 0.8937049689440993, 0.8937049689440993, 0.8937049689440993, 0.8937049689440993, 0.8937049689440993, 0.8937049689440993, 0.8937049689440993, 0.8937049689440993, 0.8937049689440993, 0.8937049689440993, 0.8937049689440993, 0.8937049689440993, 0.8937049689440993, 0.8937049689440993, 0.8937049689440993, 0.8937049689440993, 0.8937049689440993, 0.8937049689440993, 0.8937049689440993, 0.8937049689440993, 0.9084134718355108, 0.9084134718355108, 0.9084134718355108]}], \"f1_score_micro\": [{\"categories\": [\"0\", \"1\", \"2\", \"3\", \"4\", \"5\", \"6\", \"7\", \"8\", \"9\", \"10\", \"11\", \"12\", \"13\", \"14\", \"15\", \"16\", \"17\", \"18\", \"19\", \"20\", \"21\", \"22\", \"23\", \"24\", \"25\", \"26\", \"27\", \"28\"], \"mode\": \"markers\", \"name\": \"f1_score_micro\", \"stepped\": false, \"type\": \"scatter\", \"data\": [0.8172619047619047, 0.808843537414966, 0.7885204081632652, 0.7798469387755101, 0.8049319727891155, 0.7967687074829932, 0.7922619047619046, 0.7715986394557823, 0.8047619047619048, 0.7843537414965986, 0.7510204081632653, 0.7676870748299319, 0.7675170068027211, 0.7634353741496599, 0.7427721088435375, 0.7920918367346939, 0.8255102040816327, 0.7384353741496599, 0.7921768707482993, 0.7965136054421768, 0.6887755102040816, 0.7635204081632653, 0.7883503401360545, 0.7923469387755102, 0.7923469387755102, 0.5433673469387755, 0.8255102040816326, 0.763265306122449, 0.8380102040816325]}, {\"categories\": [\"0\", \"1\", \"2\", \"3\", \"4\", \"5\", \"6\", \"7\", \"8\", \"9\", \"10\", \"11\", \"12\", \"13\", \"14\", \"15\", \"16\", \"17\", \"18\", \"19\", \"20\", \"21\", \"22\", \"23\", \"24\", \"25\", \"26\", \"27\", \"28\"], \"mode\": \"lines\", \"name\": \"f1_score_micro_max\", \"stepped\": true, \"type\": \"scatter\", \"data\": [0.8172619047619047, 0.8172619047619047, 0.8172619047619047, 0.8172619047619047, 0.8172619047619047, 0.8172619047619047, 0.8172619047619047, 0.8172619047619047, 0.8172619047619047, 0.8172619047619047, 0.8172619047619047, 0.8172619047619047, 0.8172619047619047, 0.8172619047619047, 0.8172619047619047, 0.8172619047619047, 0.8255102040816327, 0.8255102040816327, 0.8255102040816327, 0.8255102040816327, 0.8255102040816327, 0.8255102040816327, 0.8255102040816327, 0.8255102040816327, 0.8255102040816327, 0.8255102040816327, 0.8255102040816327, 0.8255102040816327, 0.8380102040816325]}], \"recall_score_weighted\": [{\"categories\": [\"0\", \"1\", \"2\", \"3\", \"4\", \"5\", \"6\", \"7\", \"8\", \"9\", \"10\", \"11\", \"12\", \"13\", \"14\", \"15\", \"16\", \"17\", \"18\", \"19\", \"20\", \"21\", \"22\", \"23\", \"24\", \"25\", \"26\", \"27\", \"28\"], \"mode\": \"markers\", \"name\": \"recall_score_weighted\", \"stepped\": false, \"type\": \"scatter\", \"data\": [0.8172619047619047, 0.808843537414966, 0.7885204081632653, 0.7798469387755101, 0.8049319727891158, 0.7967687074829932, 0.7922619047619047, 0.7715986394557823, 0.8047619047619048, 0.7843537414965986, 0.7510204081632653, 0.7676870748299319, 0.7675170068027211, 0.7634353741496599, 0.7427721088435375, 0.7920918367346939, 0.8255102040816327, 0.7384353741496599, 0.7921768707482993, 0.7965136054421768, 0.6887755102040816, 0.7635204081632653, 0.7883503401360545, 0.7923469387755102, 0.7923469387755102, 0.5433673469387755, 0.8255102040816327, 0.763265306122449, 0.8380102040816325]}, {\"categories\": [\"0\", \"1\", \"2\", \"3\", \"4\", \"5\", \"6\", \"7\", \"8\", \"9\", \"10\", \"11\", \"12\", \"13\", \"14\", \"15\", \"16\", \"17\", \"18\", \"19\", \"20\", \"21\", \"22\", \"23\", \"24\", \"25\", \"26\", \"27\", \"28\"], \"mode\": \"lines\", \"name\": \"recall_score_weighted_max\", \"stepped\": true, \"type\": \"scatter\", \"data\": [0.8172619047619047, 0.8172619047619047, 0.8172619047619047, 0.8172619047619047, 0.8172619047619047, 0.8172619047619047, 0.8172619047619047, 0.8172619047619047, 0.8172619047619047, 0.8172619047619047, 0.8172619047619047, 0.8172619047619047, 0.8172619047619047, 0.8172619047619047, 0.8172619047619047, 0.8172619047619047, 0.8255102040816327, 0.8255102040816327, 0.8255102040816327, 0.8255102040816327, 0.8255102040816327, 0.8255102040816327, 0.8255102040816327, 0.8255102040816327, 0.8255102040816327, 0.8255102040816327, 0.8255102040816327, 0.8255102040816327, 0.8380102040816325]}], \"precision_score_weighted\": [{\"categories\": [\"0\", \"1\", \"2\", \"3\", \"4\", \"5\", \"6\", \"7\", \"8\", \"9\", \"10\", \"11\", \"12\", \"13\", \"14\", \"15\", \"16\", \"17\", \"18\", \"19\", \"20\", \"21\", \"22\", \"23\", \"24\", \"25\", \"26\", \"27\", \"28\"], \"mode\": \"markers\", \"name\": \"precision_score_weighted\", \"stepped\": false, \"type\": \"scatter\", \"data\": [0.8205083885877812, 0.8150399144493253, 0.7927492258026605, 0.7844668213761012, 0.8104727770504401, 0.80383489241269, 0.7968834672535501, 0.7728832644585195, 0.8079728133849511, 0.7881137871129023, 0.756501861065128, 0.7737170062588536, 0.7703123934129077, 0.7640077599059183, 0.7439145794633152, 0.7996841545122438, 0.8269878878310555, 0.7398617308564617, 0.7950560031947196, 0.8007188394852058, 0.6943533561443226, 0.7657036333689052, 0.7893788987687796, 0.7937980724129792, 0.7971180163585591, 0.29800553299551114, 0.8299017244353684, 0.7689591191006173, 0.8412353189138904]}, {\"categories\": [\"0\", \"1\", \"2\", \"3\", \"4\", \"5\", \"6\", \"7\", \"8\", \"9\", \"10\", \"11\", \"12\", \"13\", \"14\", \"15\", \"16\", \"17\", \"18\", \"19\", \"20\", \"21\", \"22\", \"23\", \"24\", \"25\", \"26\", \"27\", \"28\"], \"mode\": \"lines\", \"name\": \"precision_score_weighted_max\", \"stepped\": true, \"type\": \"scatter\", \"data\": [0.8205083885877812, 0.8205083885877812, 0.8205083885877812, 0.8205083885877812, 0.8205083885877812, 0.8205083885877812, 0.8205083885877812, 0.8205083885877812, 0.8205083885877812, 0.8205083885877812, 0.8205083885877812, 0.8205083885877812, 0.8205083885877812, 0.8205083885877812, 0.8205083885877812, 0.8205083885877812, 0.8269878878310555, 0.8269878878310555, 0.8269878878310555, 0.8269878878310555, 0.8269878878310555, 0.8269878878310555, 0.8269878878310555, 0.8269878878310555, 0.8269878878310555, 0.8269878878310555, 0.8299017244353684, 0.8299017244353684, 0.8412353189138904]}], \"average_precision_score_weighted\": [{\"categories\": [\"0\", \"1\", \"2\", \"3\", \"4\", \"5\", \"6\", \"7\", \"8\", \"9\", \"10\", \"11\", \"12\", \"13\", \"14\", \"15\", \"16\", \"17\", \"18\", \"19\", \"20\", \"21\", \"22\", \"23\", \"24\", \"25\", \"26\", \"27\", \"28\"], \"mode\": \"markers\", \"name\": \"average_precision_score_weighted\", \"stepped\": false, \"type\": \"scatter\", \"data\": [0.8654132477444374, 0.874418080406502, 0.8817301055300619, 0.9011932765425035, 0.8887596559413711, 0.8802757869419082, 0.8837749199337125, 0.8738742552401704, 0.8743696273316839, 0.872080359053659, 0.8804389954114706, 0.8710987912779691, 0.8550602825659371, 0.8821354131961823, 0.8763947670237245, 0.8850742425905647, 0.8824211521061729, 0.824772850652821, 0.881868857290305, 0.8945911006451949, 0.7496607435936078, 0.8681434617149403, 0.8841071195369276, 0.8778279212777825, 0.8726508845647938, 0.5092763721134712, 0.9116548168946146, 0.8742262444459087, 0.9029396930698198]}, {\"categories\": [\"0\", \"1\", \"2\", \"3\", \"4\", \"5\", \"6\", \"7\", \"8\", \"9\", \"10\", \"11\", \"12\", \"13\", \"14\", \"15\", \"16\", \"17\", \"18\", \"19\", \"20\", \"21\", \"22\", \"23\", \"24\", \"25\", \"26\", \"27\", \"28\"], \"mode\": \"lines\", \"name\": \"average_precision_score_weighted_max\", \"stepped\": true, \"type\": \"scatter\", \"data\": [0.8654132477444374, 0.874418080406502, 0.8817301055300619, 0.9011932765425035, 0.9011932765425035, 0.9011932765425035, 0.9011932765425035, 0.9011932765425035, 0.9011932765425035, 0.9011932765425035, 0.9011932765425035, 0.9011932765425035, 0.9011932765425035, 0.9011932765425035, 0.9011932765425035, 0.9011932765425035, 0.9011932765425035, 0.9011932765425035, 0.9011932765425035, 0.9011932765425035, 0.9011932765425035, 0.9011932765425035, 0.9011932765425035, 0.9011932765425035, 0.9011932765425035, 0.9011932765425035, 0.9116548168946146, 0.9116548168946146, 0.9116548168946146]}], \"average_precision_score_micro\": [{\"categories\": [\"0\", \"1\", \"2\", \"3\", \"4\", \"5\", \"6\", \"7\", \"8\", \"9\", \"10\", \"11\", \"12\", \"13\", \"14\", \"15\", \"16\", \"17\", \"18\", \"19\", \"20\", \"21\", \"22\", \"23\", \"24\", \"25\", \"26\", \"27\", \"28\"], \"mode\": \"markers\", \"name\": \"average_precision_score_micro\", \"stepped\": false, \"type\": \"scatter\", \"data\": [0.8608649375011895, 0.8659453405942049, 0.8804525270679896, 0.8940121883924146, 0.884336070507669, 0.8818396662191701, 0.8773765516783586, 0.872776277003546, 0.8728595425050208, 0.8690264506299716, 0.8760428636453244, 0.869490749903742, 0.8535921033132133, 0.8746811700922861, 0.8700697770403272, 0.8800712441994065, 0.8826087798354681, 0.8292730648195656, 0.8806825688306151, 0.8890182272175047, 0.7421390283726399, 0.8651710418287151, 0.8806302021022425, 0.87627334708264, 0.871455428174191, 0.5263218595261234, 0.9077278587526607, 0.8677282543321685, 0.901611617349794]}, {\"categories\": [\"0\", \"1\", \"2\", \"3\", \"4\", \"5\", \"6\", \"7\", \"8\", \"9\", \"10\", \"11\", \"12\", \"13\", \"14\", \"15\", \"16\", \"17\", \"18\", \"19\", \"20\", \"21\", \"22\", \"23\", \"24\", \"25\", \"26\", \"27\", \"28\"], \"mode\": \"lines\", \"name\": \"average_precision_score_micro_max\", \"stepped\": true, \"type\": \"scatter\", \"data\": [0.8608649375011895, 0.8659453405942049, 0.8804525270679896, 0.8940121883924146, 0.8940121883924146, 0.8940121883924146, 0.8940121883924146, 0.8940121883924146, 0.8940121883924146, 0.8940121883924146, 0.8940121883924146, 0.8940121883924146, 0.8940121883924146, 0.8940121883924146, 0.8940121883924146, 0.8940121883924146, 0.8940121883924146, 0.8940121883924146, 0.8940121883924146, 0.8940121883924146, 0.8940121883924146, 0.8940121883924146, 0.8940121883924146, 0.8940121883924146, 0.8940121883924146, 0.8940121883924146, 0.9077278587526607, 0.9077278587526607, 0.9077278587526607]}], \"f1_score_macro\": [{\"categories\": [\"0\", \"1\", \"2\", \"3\", \"4\", \"5\", \"6\", \"7\", \"8\", \"9\", \"10\", \"11\", \"12\", \"13\", \"14\", \"15\", \"16\", \"17\", \"18\", \"19\", \"20\", \"21\", \"22\", \"23\", \"24\", \"25\", \"26\", \"27\", \"28\"], \"mode\": \"markers\", \"name\": \"f1_score_macro\", \"stepped\": false, \"type\": \"scatter\", \"data\": [0.8120306358561097, 0.804836965153026, 0.7839634850434204, 0.7749472580643775, 0.8006212923721217, 0.7931480718273566, 0.7863743847785918, 0.7671730287291891, 0.7995106276963694, 0.7776363221875193, 0.7439127794300208, 0.7589945735656312, 0.7579437652999474, 0.7574453491850933, 0.7372312857269687, 0.7863379105201069, 0.8217077465455466, 0.7277319249564922, 0.7865935920380578, 0.792344790305717, 0.6800874558431396, 0.7578040219214202, 0.7835043375005257, 0.7874400221677897, 0.7877683922859575, 0.35130486020033835, 0.8228265031700323, 0.7571244352339401, 0.8355811309619952]}, {\"categories\": [\"0\", \"1\", \"2\", \"3\", \"4\", \"5\", \"6\", \"7\", \"8\", \"9\", \"10\", \"11\", \"12\", \"13\", \"14\", \"15\", \"16\", \"17\", \"18\", \"19\", \"20\", \"21\", \"22\", \"23\", \"24\", \"25\", \"26\", \"27\", \"28\"], \"mode\": \"lines\", \"name\": \"f1_score_macro_max\", \"stepped\": true, \"type\": \"scatter\", \"data\": [0.8120306358561097, 0.8120306358561097, 0.8120306358561097, 0.8120306358561097, 0.8120306358561097, 0.8120306358561097, 0.8120306358561097, 0.8120306358561097, 0.8120306358561097, 0.8120306358561097, 0.8120306358561097, 0.8120306358561097, 0.8120306358561097, 0.8120306358561097, 0.8120306358561097, 0.8120306358561097, 0.8217077465455466, 0.8217077465455466, 0.8217077465455466, 0.8217077465455466, 0.8217077465455466, 0.8217077465455466, 0.8217077465455466, 0.8217077465455466, 0.8217077465455466, 0.8217077465455466, 0.8228265031700323, 0.8228265031700323, 0.8355811309619952]}], \"recall_score_macro\": [{\"categories\": [\"0\", \"1\", \"2\", \"3\", \"4\", \"5\", \"6\", \"7\", \"8\", \"9\", \"10\", \"11\", \"12\", \"13\", \"14\", \"15\", \"16\", \"17\", \"18\", \"19\", \"20\", \"21\", \"22\", \"23\", \"24\", \"25\", \"26\", \"27\", \"28\"], \"mode\": \"markers\", \"name\": \"recall_score_macro\", \"stepped\": false, \"type\": \"scatter\", \"data\": [0.8122017562647248, 0.8067110730349111, 0.7853227671878346, 0.7766478903405438, 0.8023859498822018, 0.7958123795245234, 0.7879149710858856, 0.7678517883915186, 0.8004853287641893, 0.7778145213107732, 0.7450991647033625, 0.7602430927393448, 0.7574429213964446, 0.757199614478475, 0.737607410580424, 0.7879346755193831, 0.8223632469479545, 0.7263621760548298, 0.7871385735703577, 0.7936913686014136, 0.682832083958021, 0.7591799100449774, 0.7837710430499036, 0.7881188691368601, 0.7901188691368601, 0.5, 0.8256913686014136, 0.758895266652388, 0.8381820518312273]}, {\"categories\": [\"0\", \"1\", \"2\", \"3\", \"4\", \"5\", \"6\", \"7\", \"8\", \"9\", \"10\", \"11\", \"12\", \"13\", \"14\", \"15\", \"16\", \"17\", \"18\", \"19\", \"20\", \"21\", \"22\", \"23\", \"24\", \"25\", \"26\", \"27\", \"28\"], \"mode\": \"lines\", \"name\": \"recall_score_macro_max\", \"stepped\": true, \"type\": \"scatter\", \"data\": [0.8122017562647248, 0.8122017562647248, 0.8122017562647248, 0.8122017562647248, 0.8122017562647248, 0.8122017562647248, 0.8122017562647248, 0.8122017562647248, 0.8122017562647248, 0.8122017562647248, 0.8122017562647248, 0.8122017562647248, 0.8122017562647248, 0.8122017562647248, 0.8122017562647248, 0.8122017562647248, 0.8223632469479545, 0.8223632469479545, 0.8223632469479545, 0.8223632469479545, 0.8223632469479545, 0.8223632469479545, 0.8223632469479545, 0.8223632469479545, 0.8223632469479545, 0.8223632469479545, 0.8256913686014136, 0.8256913686014136, 0.8381820518312273]}]}, \"metricName\": null, \"primaryMetricName\": \"accuracy\", \"showLegend\": false}, \"run_metrics\": [{\"name\": \"experiment_status\", \"run_id\": \"AutoML_7cbb0366-8e02-4a86-91a3-173c0788fb18\", \"categories\": [0, 1, 2, 3, 4, 5], \"series\": [{\"data\": [\"DatasetEvaluation\", \"FeaturesGeneration\", \"DatasetFeaturization\", \"DatasetFeaturizationCompleted\", \"DatasetCrossValidationSplit\", \"ModelSelection\"]}]}, {\"name\": \"experiment_status_description\", \"run_id\": \"AutoML_7cbb0366-8e02-4a86-91a3-173c0788fb18\", \"categories\": [0, 1, 2, 3, 4, 5], \"series\": [{\"data\": [\"Gathering dataset statistics.\", \"Generating features for the dataset.\", \"Beginning to fit featurizers and featurize the dataset.\", \"Completed fit featurizers and featurizing the dataset.\", \"Generating individually featurized CV splits.\", \"Beginning model selection.\"]}]}, {\"name\": \"f1_score_weighted\", \"run_id\": \"AutoML_7cbb0366-8e02-4a86-91a3-173c0788fb18\", \"categories\": [0], \"series\": [{\"data\": [0.8383492967151962]}]}, {\"name\": \"average_precision_score_micro\", \"run_id\": \"AutoML_7cbb0366-8e02-4a86-91a3-173c0788fb18\", \"categories\": [0], \"series\": [{\"data\": [0.901611617349794]}]}, {\"name\": \"weighted_accuracy\", \"run_id\": \"AutoML_7cbb0366-8e02-4a86-91a3-173c0788fb18\", \"categories\": [0], \"series\": [{\"data\": [0.8378338312867966]}]}, {\"name\": \"precision_score_micro\", \"run_id\": \"AutoML_7cbb0366-8e02-4a86-91a3-173c0788fb18\", \"categories\": [0], \"series\": [{\"data\": [0.8380102040816325]}]}, {\"name\": \"matthews_correlation\", \"run_id\": \"AutoML_7cbb0366-8e02-4a86-91a3-173c0788fb18\", \"categories\": [0], \"series\": [{\"data\": [0.6737391972221884]}]}, {\"name\": \"accuracy\", \"run_id\": \"AutoML_7cbb0366-8e02-4a86-91a3-173c0788fb18\", \"categories\": [0], \"series\": [{\"data\": [0.8380102040816325]}]}, {\"name\": \"log_loss\", \"run_id\": \"AutoML_7cbb0366-8e02-4a86-91a3-173c0788fb18\", \"categories\": [0], \"series\": [{\"data\": [0.4126487724173643]}]}, {\"name\": \"recall_score_macro\", \"run_id\": \"AutoML_7cbb0366-8e02-4a86-91a3-173c0788fb18\", \"categories\": [0], \"series\": [{\"data\": [0.8381820518312273]}]}, {\"name\": \"AUC_micro\", \"run_id\": \"AutoML_7cbb0366-8e02-4a86-91a3-173c0788fb18\", \"categories\": [0], \"series\": [{\"data\": [0.9013406234092276]}]}, {\"name\": \"balanced_accuracy\", \"run_id\": \"AutoML_7cbb0366-8e02-4a86-91a3-173c0788fb18\", \"categories\": [0], \"series\": [{\"data\": [0.8381820518312273]}]}, {\"name\": \"recall_score_weighted\", \"run_id\": \"AutoML_7cbb0366-8e02-4a86-91a3-173c0788fb18\", \"categories\": [0], \"series\": [{\"data\": [0.8380102040816325]}]}, {\"name\": \"average_precision_score_weighted\", \"run_id\": \"AutoML_7cbb0366-8e02-4a86-91a3-173c0788fb18\", \"categories\": [0], \"series\": [{\"data\": [0.9029396930698198]}]}, {\"name\": \"f1_score_macro\", \"run_id\": \"AutoML_7cbb0366-8e02-4a86-91a3-173c0788fb18\", \"categories\": [0], \"series\": [{\"data\": [0.8355811309619952]}]}, {\"name\": \"recall_score_micro\", \"run_id\": \"AutoML_7cbb0366-8e02-4a86-91a3-173c0788fb18\", \"categories\": [0], \"series\": [{\"data\": [0.8380102040816325]}]}, {\"name\": \"AUC_macro\", \"run_id\": \"AutoML_7cbb0366-8e02-4a86-91a3-173c0788fb18\", \"categories\": [0], \"series\": [{\"data\": [0.9014040479760121]}]}, {\"name\": \"f1_score_micro\", \"run_id\": \"AutoML_7cbb0366-8e02-4a86-91a3-173c0788fb18\", \"categories\": [0], \"series\": [{\"data\": [0.8380102040816325]}]}, {\"name\": \"AUC_weighted\", \"run_id\": \"AutoML_7cbb0366-8e02-4a86-91a3-173c0788fb18\", \"categories\": [0], \"series\": [{\"data\": [0.9014040479760119]}]}, {\"name\": \"precision_score_macro\", \"run_id\": \"AutoML_7cbb0366-8e02-4a86-91a3-173c0788fb18\", \"categories\": [0], \"series\": [{\"data\": [0.8355749146183928]}]}, {\"name\": \"norm_macro_recall\", \"run_id\": \"AutoML_7cbb0366-8e02-4a86-91a3-173c0788fb18\", \"categories\": [0], \"series\": [{\"data\": [0.6763641036624546]}]}, {\"name\": \"precision_score_weighted\", \"run_id\": \"AutoML_7cbb0366-8e02-4a86-91a3-173c0788fb18\", \"categories\": [0], \"series\": [{\"data\": [0.8412353189138904]}]}, {\"name\": \"average_precision_score_macro\", \"run_id\": \"AutoML_7cbb0366-8e02-4a86-91a3-173c0788fb18\", \"categories\": [0], \"series\": [{\"data\": [0.8996960286870825]}]}], \"run_logs\": \"\\nRun is completed.\", \"graph\": {}, \"widget_settings\": {\"childWidgetDisplay\": \"popup\", \"send_telemetry\": false, \"log_level\": \"INFO\", \"sdk_version\": \"1.20.0\"}, \"loading\": false}"
     },
     "metadata": {},
     "output_type": "display_data"
    },
    {
     "name": "stdout",
     "output_type": "stream",
     "text": [
      "\n",
      "\n",
      "****************************************************************************************************\n",
      "DATA GUARDRAILS: \n",
      "\n",
      "TYPE:         Class balancing detection\n",
      "STATUS:       PASSED\n",
      "DESCRIPTION:  Your inputs were analyzed, and all classes are balanced in your training data.\n",
      "              Learn more about imbalanced data: https://aka.ms/AutomatedMLImbalancedData\n",
      "\n",
      "****************************************************************************************************\n",
      "\n",
      "TYPE:         Missing feature values imputation\n",
      "STATUS:       PASSED\n",
      "DESCRIPTION:  No feature missing values were detected in the training data.\n",
      "              Learn more about missing value imputation: https://aka.ms/AutomatedMLFeaturization\n",
      "\n",
      "****************************************************************************************************\n",
      "\n",
      "TYPE:         High cardinality feature detection\n",
      "STATUS:       PASSED\n",
      "DESCRIPTION:  Your inputs were analyzed, and no high cardinality features were detected.\n",
      "              Learn more about high cardinality feature handling: https://aka.ms/AutomatedMLFeaturization\n",
      "\n",
      "****************************************************************************************************\n",
      "\n",
      "****************************************************************************************************\n",
      "ITERATION: The iteration being evaluated.\n",
      "PIPELINE: A summary description of the pipeline being evaluated.\n",
      "DURATION: Time taken for the current iteration.\n",
      "METRIC: The result of computing score on the fitted pipeline.\n",
      "BEST: The best observed score thus far.\n",
      "****************************************************************************************************\n",
      "\n",
      " ITERATION   PIPELINE                                       DURATION      METRIC      BEST\n",
      "         0   MaxAbsScaler LightGBM                          0:00:46       0.8173    0.8173\n",
      "         1   MaxAbsScaler XGBoostClassifier                 0:00:49       0.8088    0.8173\n",
      "         2   MinMaxScaler RandomForest                      0:00:53       0.7885    0.8173\n",
      "         3   MinMaxScaler RandomForest                      0:01:01       0.7798    0.8173\n",
      "         4   MinMaxScaler RandomForest                      0:00:55       0.8049    0.8173\n",
      "         5   MinMaxScaler SVM                               0:00:55       0.7968    0.8173\n",
      "         6   MaxAbsScaler GradientBoosting                  0:00:51       0.7923    0.8173\n",
      "         7   StandardScalerWrapper RandomForest             0:00:55       0.7716    0.8173\n",
      "         8   SparseNormalizer XGBoostClassifier             0:00:57       0.8048    0.8173\n",
      "         9   SparseNormalizer LightGBM                      0:00:49       0.7844    0.8173\n",
      "        10   RobustScaler RandomForest                      0:00:51       0.7510    0.8173\n",
      "        11   MaxAbsScaler LightGBM                          0:00:57       0.7677    0.8173\n",
      "        12   SparseNormalizer XGBoostClassifier             0:00:48       0.7675    0.8173\n",
      "        13   RobustScaler ExtremeRandomTrees                0:00:51       0.7634    0.8173\n",
      "        14   StandardScalerWrapper ExtremeRandomTrees       0:00:56       0.7428    0.8173\n",
      "        15   StandardScalerWrapper XGBoostClassifier        0:00:57       0.7921    0.8173\n",
      "        16   SparseNormalizer XGBoostClassifier             0:00:47       0.8255    0.8255\n",
      "        17   SparseNormalizer XGBoostClassifier             0:00:46       0.7384    0.8255\n",
      "        18   SparseNormalizer XGBoostClassifier             0:00:54       0.7922    0.8255\n",
      "        19   MaxAbsScaler LogisticRegression                0:00:54       0.7965    0.8255\n",
      "        20   StandardScalerWrapper KNN                      0:00:50       0.6888    0.8255\n",
      "        21   SparseNormalizer RandomForest                  0:00:47       0.7635    0.8255\n",
      "        22   StandardScalerWrapper ExtremeRandomTrees       0:00:46       0.7884    0.8255\n",
      "        23   SparseNormalizer LightGBM                      0:00:55       0.7923    0.8255\n",
      "        24   RobustScaler LightGBM                          0:00:54       0.7923    0.8255\n",
      "        25   PCA XGBoostClassifier                          0:00:53       0.5434    0.8255\n",
      "        26   MinMaxScaler LogisticRegression                0:00:49       0.8255    0.8255\n",
      "        27   StandardScalerWrapper XGBoostClassifier        0:01:56       0.7633    0.8255\n",
      "        28    VotingEnsemble                                0:01:25       0.8380    0.8380\n"
     ]
    },
    {
     "data": {
      "text/plain": [
       "{'runId': 'AutoML_7cbb0366-8e02-4a86-91a3-173c0788fb18',\n",
       " 'target': 'cpu-cluster',\n",
       " 'status': 'Completed',\n",
       " 'startTimeUtc': '2021-02-03T10:53:20.427575Z',\n",
       " 'endTimeUtc': '2021-02-03T11:32:17.397951Z',\n",
       " 'properties': {'num_iterations': '1000',\n",
       "  'training_type': 'TrainFull',\n",
       "  'acquisition_function': 'EI',\n",
       "  'primary_metric': 'accuracy',\n",
       "  'train_split': '0',\n",
       "  'acquisition_parameter': '0',\n",
       "  'num_cross_validation': '5',\n",
       "  'target': 'cpu-cluster',\n",
       "  'AMLSettingsJsonString': '{\"path\":null,\"name\":\"heart-disease-automl\",\"subscription_id\":\"f9d5a085-54dc-4215-9ba6-dad5d86e60a0\",\"resource_group\":\"aml-quickstarts-137068\",\"workspace_name\":\"quick-starts-ws-137068\",\"region\":\"southcentralus\",\"compute_target\":\"cpu-cluster\",\"spark_service\":null,\"azure_service\":\"remote\",\"many_models\":false,\"pipeline_fetch_max_batch_size\":1,\"iterations\":1000,\"primary_metric\":\"accuracy\",\"task_type\":\"classification\",\"data_script\":null,\"validation_size\":0.0,\"n_cross_validations\":5,\"y_min\":null,\"y_max\":null,\"num_classes\":null,\"featurization\":\"auto\",\"_ignore_package_version_incompatibilities\":false,\"is_timeseries\":false,\"max_cores_per_iteration\":1,\"max_concurrent_iterations\":1,\"iteration_timeout_minutes\":null,\"mem_in_mb\":null,\"enforce_time_on_windows\":false,\"experiment_timeout_minutes\":30,\"experiment_exit_score\":null,\"whitelist_models\":null,\"blacklist_algos\":[\"TensorFlowLinearClassifier\",\"TensorFlowDNN\"],\"supported_models\":[\"KNN\",\"LinearSVM\",\"BernoulliNaiveBayes\",\"TensorFlowLinearClassifier\",\"LightGBM\",\"ExtremeRandomTrees\",\"SGD\",\"MultinomialNaiveBayes\",\"AveragedPerceptronClassifier\",\"GradientBoosting\",\"XGBoostClassifier\",\"SVM\",\"TensorFlowDNN\",\"DecisionTree\",\"RandomForest\",\"LogisticRegression\"],\"auto_blacklist\":true,\"blacklist_samples_reached\":false,\"exclude_nan_labels\":true,\"verbosity\":20,\"_debug_log\":\"azureml_automl.log\",\"show_warnings\":false,\"model_explainability\":true,\"service_url\":null,\"sdk_url\":null,\"sdk_packages\":null,\"enable_onnx_compatible_models\":true,\"enable_split_onnx_featurizer_estimator_models\":false,\"vm_type\":\"STANDARD_D2_V2\",\"telemetry_verbosity\":20,\"send_telemetry\":true,\"enable_dnn\":false,\"scenario\":\"SDK-1.13.0\",\"environment_label\":null,\"force_text_dnn\":false,\"enable_feature_sweeping\":false,\"enable_early_stopping\":false,\"early_stopping_n_iters\":10,\"metrics\":null,\"enable_ensembling\":true,\"enable_stack_ensembling\":false,\"ensemble_iterations\":15,\"enable_tf\":false,\"enable_subsampling\":null,\"subsample_seed\":null,\"enable_nimbusml\":false,\"enable_streaming\":false,\"force_streaming\":false,\"track_child_runs\":true,\"allowed_private_models\":[],\"label_column_name\":\"target\",\"weight_column_name\":null,\"cv_split_column_names\":null,\"enable_local_managed\":false,\"_local_managed_run_id\":null,\"cost_mode\":1,\"lag_length\":0,\"metric_operation\":\"maximize\",\"preprocess\":true}',\n",
       "  'DataPrepJsonString': '{\\\\\"training_data\\\\\": \\\\\"{\\\\\\\\\\\\\"blocks\\\\\\\\\\\\\": [{\\\\\\\\\\\\\"id\\\\\\\\\\\\\": \\\\\\\\\\\\\"e599d678-4da3-4b60-b41f-a7ee1fcc9a49\\\\\\\\\\\\\", \\\\\\\\\\\\\"type\\\\\\\\\\\\\": \\\\\\\\\\\\\"Microsoft.DPrep.GetDatastoreFilesBlock\\\\\\\\\\\\\", \\\\\\\\\\\\\"arguments\\\\\\\\\\\\\": {\\\\\\\\\\\\\"datastores\\\\\\\\\\\\\": [{\\\\\\\\\\\\\"datastoreName\\\\\\\\\\\\\": \\\\\\\\\\\\\"workspaceblobstore\\\\\\\\\\\\\", \\\\\\\\\\\\\"path\\\\\\\\\\\\\": \\\\\\\\\\\\\"Data/train_data.csv\\\\\\\\\\\\\", \\\\\\\\\\\\\"resourceGroup\\\\\\\\\\\\\": \\\\\\\\\\\\\"aml-quickstarts-137068\\\\\\\\\\\\\", \\\\\\\\\\\\\"subscription\\\\\\\\\\\\\": \\\\\\\\\\\\\"f9d5a085-54dc-4215-9ba6-dad5d86e60a0\\\\\\\\\\\\\", \\\\\\\\\\\\\"workspaceName\\\\\\\\\\\\\": \\\\\\\\\\\\\"quick-starts-ws-137068\\\\\\\\\\\\\"}]}, \\\\\\\\\\\\\"localData\\\\\\\\\\\\\": {}, \\\\\\\\\\\\\"isEnabled\\\\\\\\\\\\\": true, \\\\\\\\\\\\\"name\\\\\\\\\\\\\": null, \\\\\\\\\\\\\"annotation\\\\\\\\\\\\\": null}, {\\\\\\\\\\\\\"id\\\\\\\\\\\\\": \\\\\\\\\\\\\"07c3c41f-959e-4cce-a5fb-81835b7e7a5c\\\\\\\\\\\\\", \\\\\\\\\\\\\"type\\\\\\\\\\\\\": \\\\\\\\\\\\\"Microsoft.DPrep.ParseDelimitedBlock\\\\\\\\\\\\\", \\\\\\\\\\\\\"arguments\\\\\\\\\\\\\": {\\\\\\\\\\\\\"columnHeadersMode\\\\\\\\\\\\\": 3, \\\\\\\\\\\\\"fileEncoding\\\\\\\\\\\\\": 0, \\\\\\\\\\\\\"handleQuotedLineBreaks\\\\\\\\\\\\\": false, \\\\\\\\\\\\\"preview\\\\\\\\\\\\\": false, \\\\\\\\\\\\\"separator\\\\\\\\\\\\\": \\\\\\\\\\\\\",\\\\\\\\\\\\\", \\\\\\\\\\\\\"skipRows\\\\\\\\\\\\\": 0, \\\\\\\\\\\\\"skipRowsMode\\\\\\\\\\\\\": 0}, \\\\\\\\\\\\\"localData\\\\\\\\\\\\\": {}, \\\\\\\\\\\\\"isEnabled\\\\\\\\\\\\\": true, \\\\\\\\\\\\\"name\\\\\\\\\\\\\": null, \\\\\\\\\\\\\"annotation\\\\\\\\\\\\\": null}, {\\\\\\\\\\\\\"id\\\\\\\\\\\\\": \\\\\\\\\\\\\"c0ddc46f-e0c6-4583-8f50-b6879203c4b1\\\\\\\\\\\\\", \\\\\\\\\\\\\"type\\\\\\\\\\\\\": \\\\\\\\\\\\\"Microsoft.DPrep.DropColumnsBlock\\\\\\\\\\\\\", \\\\\\\\\\\\\"arguments\\\\\\\\\\\\\": {\\\\\\\\\\\\\"columns\\\\\\\\\\\\\": {\\\\\\\\\\\\\"type\\\\\\\\\\\\\": 0, \\\\\\\\\\\\\"details\\\\\\\\\\\\\": {\\\\\\\\\\\\\"selectedColumns\\\\\\\\\\\\\": [\\\\\\\\\\\\\"Path\\\\\\\\\\\\\"]}}}, \\\\\\\\\\\\\"localData\\\\\\\\\\\\\": {}, \\\\\\\\\\\\\"isEnabled\\\\\\\\\\\\\": true, \\\\\\\\\\\\\"name\\\\\\\\\\\\\": null, \\\\\\\\\\\\\"annotation\\\\\\\\\\\\\": null}, {\\\\\\\\\\\\\"id\\\\\\\\\\\\\": \\\\\\\\\\\\\"d41656ec-db8c-424a-a3ca-817ecfe80486\\\\\\\\\\\\\", \\\\\\\\\\\\\"type\\\\\\\\\\\\\": \\\\\\\\\\\\\"Microsoft.DPrep.SetColumnTypesBlock\\\\\\\\\\\\\", \\\\\\\\\\\\\"arguments\\\\\\\\\\\\\": {\\\\\\\\\\\\\"columnConversion\\\\\\\\\\\\\": [{\\\\\\\\\\\\\"column\\\\\\\\\\\\\": {\\\\\\\\\\\\\"type\\\\\\\\\\\\\": 2, \\\\\\\\\\\\\"details\\\\\\\\\\\\\": {\\\\\\\\\\\\\"selectedColumn\\\\\\\\\\\\\": \\\\\\\\\\\\\"age\\\\\\\\\\\\\"}}, \\\\\\\\\\\\\"typeProperty\\\\\\\\\\\\\": 2}, {\\\\\\\\\\\\\"column\\\\\\\\\\\\\": {\\\\\\\\\\\\\"type\\\\\\\\\\\\\": 2, \\\\\\\\\\\\\"details\\\\\\\\\\\\\": {\\\\\\\\\\\\\"selectedColumn\\\\\\\\\\\\\": \\\\\\\\\\\\\"resting_BP\\\\\\\\\\\\\"}}, \\\\\\\\\\\\\"typeProperty\\\\\\\\\\\\\": 2}, {\\\\\\\\\\\\\"column\\\\\\\\\\\\\": {\\\\\\\\\\\\\"type\\\\\\\\\\\\\": 2, \\\\\\\\\\\\\"details\\\\\\\\\\\\\": {\\\\\\\\\\\\\"selectedColumn\\\\\\\\\\\\\": \\\\\\\\\\\\\"cholesterol\\\\\\\\\\\\\"}}, \\\\\\\\\\\\\"typeProperty\\\\\\\\\\\\\": 2}, {\\\\\\\\\\\\\"column\\\\\\\\\\\\\": {\\\\\\\\\\\\\"type\\\\\\\\\\\\\": 2, \\\\\\\\\\\\\"details\\\\\\\\\\\\\": {\\\\\\\\\\\\\"selectedColumn\\\\\\\\\\\\\": \\\\\\\\\\\\\"max_heart_rate\\\\\\\\\\\\\"}}, \\\\\\\\\\\\\"typeProperty\\\\\\\\\\\\\": 2}, {\\\\\\\\\\\\\"column\\\\\\\\\\\\\": {\\\\\\\\\\\\\"type\\\\\\\\\\\\\": 2, \\\\\\\\\\\\\"details\\\\\\\\\\\\\": {\\\\\\\\\\\\\"selectedColumn\\\\\\\\\\\\\": \\\\\\\\\\\\\"st_depression\\\\\\\\\\\\\"}}, \\\\\\\\\\\\\"typeProperty\\\\\\\\\\\\\": 3}, {\\\\\\\\\\\\\"column\\\\\\\\\\\\\": {\\\\\\\\\\\\\"type\\\\\\\\\\\\\": 2, \\\\\\\\\\\\\"details\\\\\\\\\\\\\": {\\\\\\\\\\\\\"selectedColumn\\\\\\\\\\\\\": \\\\\\\\\\\\\"sex_1\\\\\\\\\\\\\"}}, \\\\\\\\\\\\\"typeProperty\\\\\\\\\\\\\": 2}, {\\\\\\\\\\\\\"column\\\\\\\\\\\\\": {\\\\\\\\\\\\\"type\\\\\\\\\\\\\": 2, \\\\\\\\\\\\\"details\\\\\\\\\\\\\": {\\\\\\\\\\\\\"selectedColumn\\\\\\\\\\\\\": \\\\\\\\\\\\\"chest_pain_type_1\\\\\\\\\\\\\"}}, \\\\\\\\\\\\\"typeProperty\\\\\\\\\\\\\": 2}, {\\\\\\\\\\\\\"column\\\\\\\\\\\\\": {\\\\\\\\\\\\\"type\\\\\\\\\\\\\": 2, \\\\\\\\\\\\\"details\\\\\\\\\\\\\": {\\\\\\\\\\\\\"selectedColumn\\\\\\\\\\\\\": \\\\\\\\\\\\\"chest_pain_type_2\\\\\\\\\\\\\"}}, \\\\\\\\\\\\\"typeProperty\\\\\\\\\\\\\": 2}, {\\\\\\\\\\\\\"column\\\\\\\\\\\\\": {\\\\\\\\\\\\\"type\\\\\\\\\\\\\": 2, \\\\\\\\\\\\\"details\\\\\\\\\\\\\": {\\\\\\\\\\\\\"selectedColumn\\\\\\\\\\\\\": \\\\\\\\\\\\\"chest_pain_type_3\\\\\\\\\\\\\"}}, \\\\\\\\\\\\\"typeProperty\\\\\\\\\\\\\": 2}, {\\\\\\\\\\\\\"column\\\\\\\\\\\\\": {\\\\\\\\\\\\\"type\\\\\\\\\\\\\": 2, \\\\\\\\\\\\\"details\\\\\\\\\\\\\": {\\\\\\\\\\\\\"selectedColumn\\\\\\\\\\\\\": \\\\\\\\\\\\\"fasting_blood_sugar_1\\\\\\\\\\\\\"}}, \\\\\\\\\\\\\"typeProperty\\\\\\\\\\\\\": 2}, {\\\\\\\\\\\\\"column\\\\\\\\\\\\\": {\\\\\\\\\\\\\"type\\\\\\\\\\\\\": 2, \\\\\\\\\\\\\"details\\\\\\\\\\\\\": {\\\\\\\\\\\\\"selectedColumn\\\\\\\\\\\\\": \\\\\\\\\\\\\"rest_ECG_1\\\\\\\\\\\\\"}}, \\\\\\\\\\\\\"typeProperty\\\\\\\\\\\\\": 2}, {\\\\\\\\\\\\\"column\\\\\\\\\\\\\": {\\\\\\\\\\\\\"type\\\\\\\\\\\\\": 2, \\\\\\\\\\\\\"details\\\\\\\\\\\\\": {\\\\\\\\\\\\\"selectedColumn\\\\\\\\\\\\\": \\\\\\\\\\\\\"rest_ECG_2\\\\\\\\\\\\\"}}, \\\\\\\\\\\\\"typeProperty\\\\\\\\\\\\\": 2}, {\\\\\\\\\\\\\"column\\\\\\\\\\\\\": {\\\\\\\\\\\\\"type\\\\\\\\\\\\\": 2, \\\\\\\\\\\\\"details\\\\\\\\\\\\\": {\\\\\\\\\\\\\"selectedColumn\\\\\\\\\\\\\": \\\\\\\\\\\\\"exercise_induced_angina_1\\\\\\\\\\\\\"}}, \\\\\\\\\\\\\"typeProperty\\\\\\\\\\\\\": 2}, {\\\\\\\\\\\\\"column\\\\\\\\\\\\\": {\\\\\\\\\\\\\"type\\\\\\\\\\\\\": 2, \\\\\\\\\\\\\"details\\\\\\\\\\\\\": {\\\\\\\\\\\\\"selectedColumn\\\\\\\\\\\\\": \\\\\\\\\\\\\"st_slope_1\\\\\\\\\\\\\"}}, \\\\\\\\\\\\\"typeProperty\\\\\\\\\\\\\": 2}, {\\\\\\\\\\\\\"column\\\\\\\\\\\\\": {\\\\\\\\\\\\\"type\\\\\\\\\\\\\": 2, \\\\\\\\\\\\\"details\\\\\\\\\\\\\": {\\\\\\\\\\\\\"selectedColumn\\\\\\\\\\\\\": \\\\\\\\\\\\\"st_slope_2\\\\\\\\\\\\\"}}, \\\\\\\\\\\\\"typeProperty\\\\\\\\\\\\\": 2}, {\\\\\\\\\\\\\"column\\\\\\\\\\\\\": {\\\\\\\\\\\\\"type\\\\\\\\\\\\\": 2, \\\\\\\\\\\\\"details\\\\\\\\\\\\\": {\\\\\\\\\\\\\"selectedColumn\\\\\\\\\\\\\": \\\\\\\\\\\\\"num_major_vessels_1.0\\\\\\\\\\\\\"}}, \\\\\\\\\\\\\"typeProperty\\\\\\\\\\\\\": 2}, {\\\\\\\\\\\\\"column\\\\\\\\\\\\\": {\\\\\\\\\\\\\"type\\\\\\\\\\\\\": 2, \\\\\\\\\\\\\"details\\\\\\\\\\\\\": {\\\\\\\\\\\\\"selectedColumn\\\\\\\\\\\\\": \\\\\\\\\\\\\"num_major_vessels_2.0\\\\\\\\\\\\\"}}, \\\\\\\\\\\\\"typeProperty\\\\\\\\\\\\\": 2}, {\\\\\\\\\\\\\"column\\\\\\\\\\\\\": {\\\\\\\\\\\\\"type\\\\\\\\\\\\\": 2, \\\\\\\\\\\\\"details\\\\\\\\\\\\\": {\\\\\\\\\\\\\"selectedColumn\\\\\\\\\\\\\": \\\\\\\\\\\\\"num_major_vessels_3.0\\\\\\\\\\\\\"}}, \\\\\\\\\\\\\"typeProperty\\\\\\\\\\\\\": 2}, {\\\\\\\\\\\\\"column\\\\\\\\\\\\\": {\\\\\\\\\\\\\"type\\\\\\\\\\\\\": 2, \\\\\\\\\\\\\"details\\\\\\\\\\\\\": {\\\\\\\\\\\\\"selectedColumn\\\\\\\\\\\\\": \\\\\\\\\\\\\"thalassemia_2.0\\\\\\\\\\\\\"}}, \\\\\\\\\\\\\"typeProperty\\\\\\\\\\\\\": 2}, {\\\\\\\\\\\\\"column\\\\\\\\\\\\\": {\\\\\\\\\\\\\"type\\\\\\\\\\\\\": 2, \\\\\\\\\\\\\"details\\\\\\\\\\\\\": {\\\\\\\\\\\\\"selectedColumn\\\\\\\\\\\\\": \\\\\\\\\\\\\"thalassemia_3.0\\\\\\\\\\\\\"}}, \\\\\\\\\\\\\"typeProperty\\\\\\\\\\\\\": 2}, {\\\\\\\\\\\\\"column\\\\\\\\\\\\\": {\\\\\\\\\\\\\"type\\\\\\\\\\\\\": 2, \\\\\\\\\\\\\"details\\\\\\\\\\\\\": {\\\\\\\\\\\\\"selectedColumn\\\\\\\\\\\\\": \\\\\\\\\\\\\"target\\\\\\\\\\\\\"}}, \\\\\\\\\\\\\"typeProperty\\\\\\\\\\\\\": 2}]}, \\\\\\\\\\\\\"localData\\\\\\\\\\\\\": {}, \\\\\\\\\\\\\"isEnabled\\\\\\\\\\\\\": true, \\\\\\\\\\\\\"name\\\\\\\\\\\\\": null, \\\\\\\\\\\\\"annotation\\\\\\\\\\\\\": null}], \\\\\\\\\\\\\"inspectors\\\\\\\\\\\\\": [], \\\\\\\\\\\\\"meta\\\\\\\\\\\\\": {\\\\\\\\\\\\\"savedDatasetId\\\\\\\\\\\\\": \\\\\\\\\\\\\"0027819c-f855-4bc9-af21-fca8e6949fe3\\\\\\\\\\\\\", \\\\\\\\\\\\\"datasetType\\\\\\\\\\\\\": \\\\\\\\\\\\\"tabular\\\\\\\\\\\\\", \\\\\\\\\\\\\"subscriptionId\\\\\\\\\\\\\": \\\\\\\\\\\\\"f9d5a085-54dc-4215-9ba6-dad5d86e60a0\\\\\\\\\\\\\", \\\\\\\\\\\\\"workspaceId\\\\\\\\\\\\\": \\\\\\\\\\\\\"e4d13aa1-d182-44b8-bee1-e49a10dde8e6\\\\\\\\\\\\\", \\\\\\\\\\\\\"workspaceLocation\\\\\\\\\\\\\": \\\\\\\\\\\\\"southcentralus\\\\\\\\\\\\\"}}\\\\\", \\\\\"activities\\\\\": 0}',\n",
       "  'EnableSubsampling': None,\n",
       "  'runTemplate': 'AutoML',\n",
       "  'azureml.runsource': 'automl',\n",
       "  'display_task_type': 'classification',\n",
       "  'dependencies_versions': '{\"azureml-widgets\": \"1.20.0\", \"azureml-train\": \"1.20.0\", \"azureml-train-restclients-hyperdrive\": \"1.20.0\", \"azureml-train-core\": \"1.20.0\", \"azureml-train-automl\": \"1.20.0\", \"azureml-train-automl-runtime\": \"1.20.0\", \"azureml-train-automl-client\": \"1.20.0\", \"azureml-tensorboard\": \"1.20.0\", \"azureml-telemetry\": \"1.20.0\", \"azureml-sdk\": \"1.20.0\", \"azureml-samples\": \"0+unknown\", \"azureml-pipeline\": \"1.20.0\", \"azureml-pipeline-steps\": \"1.20.0\", \"azureml-pipeline-core\": \"1.20.0\", \"azureml-opendatasets\": \"1.20.0\", \"azureml-model-management-sdk\": \"1.0.1b6.post1\", \"azureml-mlflow\": \"1.20.0.post1\", \"azureml-interpret\": \"1.20.0\", \"azureml-explain-model\": \"1.20.0\", \"azureml-defaults\": \"1.20.0\", \"azureml-dataset-runtime\": \"1.20.0\", \"azureml-dataprep\": \"2.7.3\", \"azureml-dataprep-rslex\": \"1.5.0\", \"azureml-dataprep-native\": \"27.0.0\", \"azureml-datadrift\": \"1.20.0\", \"azureml-core\": \"1.20.0\", \"azureml-contrib-services\": \"1.20.0\", \"azureml-contrib-server\": \"1.20.0\", \"azureml-contrib-reinforcementlearning\": \"1.20.0\", \"azureml-contrib-pipeline-steps\": \"1.20.0\", \"azureml-contrib-notebook\": \"1.20.0\", \"azureml-contrib-interpret\": \"1.20.0\", \"azureml-contrib-gbdt\": \"1.20.0\", \"azureml-contrib-fairness\": \"1.20.0\", \"azureml-contrib-dataset\": \"1.20.0\", \"azureml-cli-common\": \"1.20.0\", \"azureml-automl-runtime\": \"1.20.0\", \"azureml-automl-core\": \"1.20.0\", \"azureml-accel-models\": \"1.20.0\"}',\n",
       "  '_aml_system_scenario_identification': 'Remote.Parent',\n",
       "  'ClientType': 'SDK',\n",
       "  'environment_cpu_name': 'AzureML-AutoML',\n",
       "  'environment_cpu_label': 'prod',\n",
       "  'environment_gpu_name': 'AzureML-AutoML-GPU',\n",
       "  'environment_gpu_label': 'prod',\n",
       "  'root_attribution': 'automl',\n",
       "  'attribution': 'AutoML',\n",
       "  'Orchestrator': 'AutoML',\n",
       "  'CancelUri': 'https://southcentralus.experiments.azureml.net/jasmine/v1.0/subscriptions/f9d5a085-54dc-4215-9ba6-dad5d86e60a0/resourceGroups/aml-quickstarts-137068/providers/Microsoft.MachineLearningServices/workspaces/quick-starts-ws-137068/experimentids/f5000a6f-8ff0-4b7f-bb07-b906b7c0fb54/cancel/AutoML_7cbb0366-8e02-4a86-91a3-173c0788fb18',\n",
       "  'ClientSdkVersion': '1.21.0',\n",
       "  'snapshotId': '00000000-0000-0000-0000-000000000000',\n",
       "  'SetupRunId': 'AutoML_7cbb0366-8e02-4a86-91a3-173c0788fb18_setup',\n",
       "  'SetupRunContainerId': 'dcid.AutoML_7cbb0366-8e02-4a86-91a3-173c0788fb18_setup',\n",
       "  'FeaturizationRunJsonPath': 'featurizer_container.json',\n",
       "  'FeaturizationRunId': 'AutoML_7cbb0366-8e02-4a86-91a3-173c0788fb18_featurize',\n",
       "  'ProblemInfoJsonString': '{\"dataset_num_categorical\": 0, \"is_sparse\": false, \"subsampling\": false, \"dataset_classes\": 2, \"dataset_features\": 20, \"dataset_samples\": 241, \"single_frequency_class_detected\": false}',\n",
       "  'ModelExplainRunId': 'AutoML_7cbb0366-8e02-4a86-91a3-173c0788fb18_ModelExplain',\n",
       "  'azureml.git.repository_uri': 'https://github.com/bharati-21/AZMLND-Capstone-Project.git',\n",
       "  'mlflow.source.git.repoURL': 'https://github.com/bharati-21/AZMLND-Capstone-Project.git',\n",
       "  'azureml.git.branch': 'master',\n",
       "  'mlflow.source.git.branch': 'master',\n",
       "  'azureml.git.commit': 'a3fa74d4a26239aa160550347efde18d98d6fea5',\n",
       "  'mlflow.source.git.commit': 'a3fa74d4a26239aa160550347efde18d98d6fea5',\n",
       "  'azureml.git.dirty': 'True'},\n",
       " 'inputDatasets': [{'dataset': {'id': '0027819c-f855-4bc9-af21-fca8e6949fe3'}, 'consumptionDetails': {'type': 'RunInput', 'inputName': 'training_data', 'mechanism': 'Direct'}}],\n",
       " 'outputDatasets': [],\n",
       " 'logFiles': {},\n",
       " 'submittedBy': 'ODL_User 137068'}"
      ]
     },
     "execution_count": 15,
     "metadata": {},
     "output_type": "execute_result"
    }
   ],
   "source": [
    "from azureml.widgets import RunDetails\n",
    "\n",
    "RunDetails(remote_run).show()\n",
    "remote_run.wait_for_completion(show_output=True)"
   ]
  },
  {
   "cell_type": "markdown",
   "metadata": {},
   "source": [
    "## Best Model\n",
    "\n",
    "TODO: In the cell below, get the best model from the automl experiments and display all the properties of the model.\n",
    "\n"
   ]
  },
  {
   "cell_type": "code",
   "execution_count": 16,
   "metadata": {
    "gather": {
     "logged": 1598431425670
    },
    "jupyter": {
     "outputs_hidden": false,
     "source_hidden": false
    },
    "nteract": {
     "transient": {
      "deleting": false
     }
    }
   },
   "outputs": [
    {
     "name": "stderr",
     "output_type": "stream",
     "text": [
      "WARNING:root:The version of the SDK does not match the version the model was trained on.\n",
      "WARNING:root:The consistency in the result may not be guaranteed.\n",
      "WARNING:root:Package:azureml-automl-core, training version:1.21.0, current version:1.20.0\n",
      "Package:azureml-automl-runtime, training version:1.21.0, current version:1.20.0\n",
      "Package:azureml-core, training version:1.21.0.post1, current version:1.20.0\n",
      "Package:azureml-dataprep, training version:2.8.2, current version:2.7.3\n",
      "Package:azureml-dataprep-native, training version:28.0.0, current version:27.0.0\n",
      "Package:azureml-dataprep-rslex, training version:1.6.0, current version:1.5.0\n",
      "Package:azureml-dataset-runtime, training version:1.21.0, current version:1.20.0\n",
      "Package:azureml-defaults, training version:1.21.0, current version:1.20.0\n",
      "Package:azureml-interpret, training version:1.21.0, current version:1.20.0\n",
      "Package:azureml-pipeline-core, training version:1.21.0, current version:1.20.0\n",
      "Package:azureml-telemetry, training version:1.21.0, current version:1.20.0\n",
      "Package:azureml-train-automl-client, training version:1.21.0, current version:1.20.0\n",
      "Package:azureml-train-automl-runtime, training version:1.21.0, current version:1.20.0\n",
      "WARNING:root:Please ensure the version of your local conda dependencies match the version on which your model was trained in order to properly retrieve your model.\n"
     ]
    },
    {
     "name": "stdout",
     "output_type": "stream",
     "text": [
      "Run(Experiment: heart-disease-automl,\n",
      "Id: AutoML_7cbb0366-8e02-4a86-91a3-173c0788fb18_28,\n",
      "Type: azureml.scriptrun,\n",
      "Status: Completed)\n"
     ]
    }
   ],
   "source": [
    "best_run, fitted_model = remote_run.get_output()\n",
    "print(best_run)"
   ]
  },
  {
   "cell_type": "code",
   "execution_count": 17,
   "metadata": {
    "scrolled": false
   },
   "outputs": [
    {
     "name": "stdout",
     "output_type": "stream",
     "text": [
      "Pipeline(memory=None,\n",
      "         steps=[('datatransformer',\n",
      "                 DataTransformer(enable_dnn=None, enable_feature_sweeping=None,\n",
      "                                 feature_sweeping_config=None,\n",
      "                                 feature_sweeping_timeout=None,\n",
      "                                 featurization_config=None, force_text_dnn=None,\n",
      "                                 is_cross_validation=None,\n",
      "                                 is_onnx_compatible=None, logger=None,\n",
      "                                 observer=None, task=None, working_dir=None)),\n",
      "                ('prefittedsoftvotingclassifier',...\n",
      "                                                                                                    min_impurity_split=None,\n",
      "                                                                                                    min_samples_leaf=0.01,\n",
      "                                                                                                    min_samples_split=0.01,\n",
      "                                                                                                    min_weight_fraction_leaf=0.0,\n",
      "                                                                                                    n_estimators=25,\n",
      "                                                                                                    n_jobs=1,\n",
      "                                                                                                    oob_score=True,\n",
      "                                                                                                    random_state=None,\n",
      "                                                                                                    verbose=0,\n",
      "                                                                                                    warm_start=False))],\n",
      "                                                                     verbose=False))],\n",
      "                                               flatten_transform=None,\n",
      "                                               weights=[0.3333333333333333,\n",
      "                                                        0.16666666666666666,\n",
      "                                                        0.16666666666666666,\n",
      "                                                        0.16666666666666666,\n",
      "                                                        0.16666666666666666]))],\n",
      "         verbose=False)\n"
     ]
    }
   ],
   "source": [
    "print(fitted_model)"
   ]
  },
  {
   "cell_type": "code",
   "execution_count": 18,
   "metadata": {},
   "outputs": [
    {
     "data": {
      "text/plain": [
       "{'_aml_system_azureml.automlComponent': 'AutoML',\n",
       " '_aml_system_ComputeTargetStatus': '{\"AllocationState\":\"steady\",\"PreparingNodeCount\":0,\"RunningNodeCount\":1,\"CurrentNodeCount\":1}',\n",
       " 'ensembled_iterations': '[26, 16, 0, 1, 4]',\n",
       " 'ensembled_algorithms': \"['LogisticRegression', 'XGBoostClassifier', 'LightGBM', 'XGBoostClassifier', 'RandomForest']\",\n",
       " 'ensemble_weights': '[0.3333333333333333, 0.16666666666666666, 0.16666666666666666, 0.16666666666666666, 0.16666666666666666]',\n",
       " 'best_individual_pipeline_score': '0.8255102040816327',\n",
       " 'best_individual_iteration': '26',\n",
       " '_aml_system_automl_is_child_run_end_telemetry_event_logged': 'True'}"
      ]
     },
     "execution_count": 18,
     "metadata": {},
     "output_type": "execute_result"
    }
   ],
   "source": [
    "best_run.get_tags()"
   ]
  },
  {
   "cell_type": "code",
   "execution_count": 20,
   "metadata": {
    "gather": {
     "logged": 1598431426111
    },
    "jupyter": {
     "outputs_hidden": false,
     "source_hidden": false
    },
    "nteract": {
     "transient": {
      "deleting": false
     }
    }
   },
   "outputs": [],
   "source": [
    "import joblib\n",
    "from azureml.core.model import Model\n",
    "\n",
    "#TODO: Save the best model\n",
    "description = \"AutoML model trained on the Kaggle Heart Disease UCI Dataset\"\n",
    "\n",
    "os.makedirs('outputs', exist_ok=True)\n",
    "joblib.dump(fitted_model, filename=\"outputs/automl-heart-disease.pkl\")\n",
    "automl_model = remote_run.register_model(model_name='automl-heart-disease', description=description)"
   ]
  },
  {
   "cell_type": "code",
   "execution_count": 21,
   "metadata": {},
   "outputs": [
    {
     "data": {
      "text/plain": [
       "Model(workspace=Workspace.create(name='quick-starts-ws-137068', subscription_id='f9d5a085-54dc-4215-9ba6-dad5d86e60a0', resource_group='aml-quickstarts-137068'), name=automl-heart-disease, id=automl-heart-disease:1, version=1, tags={}, properties={})"
      ]
     },
     "execution_count": 21,
     "metadata": {},
     "output_type": "execute_result"
    }
   ],
   "source": [
    "automl_model"
   ]
  },
  {
   "cell_type": "markdown",
   "metadata": {},
   "source": [
    "## Model Deployment\n",
    "\n",
    "Remember you have to deploy only one of the two models you trained.. Perform the steps in the rest of this notebook only if you wish to deploy this model.\n",
    "\n",
    "TODO: In the cell below, register the model, create an inference config and deploy the model as a web service."
   ]
  },
  {
   "cell_type": "code",
   "execution_count": null,
   "metadata": {
    "gather": {
     "logged": 1598431435189
    },
    "jupyter": {
     "outputs_hidden": false,
     "source_hidden": false
    },
    "nteract": {
     "transient": {
      "deleting": false
     }
    }
   },
   "outputs": [],
   "source": []
  },
  {
   "cell_type": "markdown",
   "metadata": {
    "collapsed": true,
    "gather": {
     "logged": 1598431657736
    },
    "jupyter": {
     "outputs_hidden": false,
     "source_hidden": false
    },
    "nteract": {
     "transient": {
      "deleting": false
     }
    }
   },
   "source": [
    "TODO: In the cell below, send a request to the web service you deployed to test it."
   ]
  },
  {
   "cell_type": "code",
   "execution_count": null,
   "metadata": {
    "gather": {
     "logged": 1598432707604
    },
    "jupyter": {
     "outputs_hidden": false,
     "source_hidden": false
    },
    "nteract": {
     "transient": {
      "deleting": false
     }
    }
   },
   "outputs": [],
   "source": []
  },
  {
   "cell_type": "markdown",
   "metadata": {
    "collapsed": true,
    "gather": {
     "logged": 1598432765711
    },
    "jupyter": {
     "outputs_hidden": false,
     "source_hidden": false
    },
    "nteract": {
     "transient": {
      "deleting": false
     }
    }
   },
   "source": [
    "TODO: In the cell below, print the logs of the web service and delete the service"
   ]
  },
  {
   "cell_type": "code",
   "execution_count": null,
   "metadata": {
    "jupyter": {
     "outputs_hidden": false,
     "source_hidden": false
    },
    "nteract": {
     "transient": {
      "deleting": false
     }
    }
   },
   "outputs": [],
   "source": []
  }
 ],
 "metadata": {
  "kernel_info": {
   "name": "python3"
  },
  "kernelspec": {
   "display_name": "Python 3",
   "language": "python",
   "name": "python3"
  },
  "language_info": {
   "codemirror_mode": {
    "name": "ipython",
    "version": 3
   },
   "file_extension": ".py",
   "mimetype": "text/x-python",
   "name": "python",
   "nbconvert_exporter": "python",
   "pygments_lexer": "ipython3",
   "version": "3.6.9"
  },
  "nteract": {
   "version": "nteract-front-end@1.0.0"
  }
 },
 "nbformat": 4,
 "nbformat_minor": 2
}
