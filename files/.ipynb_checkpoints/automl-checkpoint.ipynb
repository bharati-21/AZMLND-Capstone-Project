{
 "cells": [
  {
   "cell_type": "markdown",
   "metadata": {},
   "source": [
    "# Automated ML\n",
    "\n",
    "TODO: Import Dependencies. In the cell below, import all the dependencies that you will need to complete the project."
   ]
  },
  {
   "cell_type": "code",
   "execution_count": 2,
   "metadata": {
    "gather": {
     "logged": 1598423888013
    },
    "jupyter": {
     "outputs_hidden": false,
     "source_hidden": false
    },
    "nteract": {
     "transient": {
      "deleting": false
     }
    }
   },
   "outputs": [],
   "source": [
    "from azureml.core import Workspace, Experiment"
   ]
  },
  {
   "cell_type": "markdown",
   "metadata": {},
   "source": [
    "## Dataset\n",
    "\n",
    "### Overview\n",
    "TODO: In this markdown cell, give an overview of the dataset you are using. Also mention the task you will be performing.\n",
    "\n",
    "\n",
    "TODO: Get data. In the cell below, write code to access the data you will be using in this project. Remember that the dataset needs to be external."
   ]
  },
  {
   "cell_type": "code",
   "execution_count": 5,
   "metadata": {
    "gather": {
     "logged": 1598423890461
    },
    "jupyter": {
     "outputs_hidden": false,
     "source_hidden": false
    },
    "nteract": {
     "transient": {
      "deleting": false
     }
    }
   },
   "outputs": [
    {
     "name": "stdout",
     "output_type": "stream",
     "text": [
      "WORKSPACE DETAILS:\n",
      "Workspace name: quick-starts-ws-136719\n",
      "Azure region: southcentralus\n",
      "Subscription id: 5a4ab2ba-6c51-4805-8155-58759ad589d8\n",
      "Resource group: aml-quickstarts-136719\n",
      "Experiment created\n"
     ]
    }
   ],
   "source": [
    "ws = Workspace.from_config()\n",
    "\n",
    "print('WORKSPACE DETAILS:\\nWorkspace name: ' + ws.name, \n",
    "      'Azure region: ' + ws.location, \n",
    "      'Subscription id: ' + ws.subscription_id, \n",
    "      'Resource group: ' + ws.resource_group, sep = '\\n')\n",
    "\n",
    "# choose a name for experiment\n",
    "experiment_name = 'Heart_Disease_Kaggle_AutoML'\n",
    "\n",
    "experiment=Experiment(ws, experiment_name)\n",
    "print(\"Experiment created\")\n",
    "\n",
    "run = experiment.start_logging()"
   ]
  },
  {
   "cell_type": "code",
   "execution_count": 6,
   "metadata": {},
   "outputs": [
    {
     "name": "stdout",
     "output_type": "stream",
     "text": [
      "Existing compute target found... Using it\n",
      "Succeeded\n",
      "AmlCompute wait for completion finished\n",
      "\n",
      "Minimum number of nodes requested have been provisioned\n"
     ]
    }
   ],
   "source": [
    "from azureml.core.compute import ComputeTarget, AmlCompute\n",
    "from azureml.core.compute_target import ComputeTargetException\n",
    "# Creating a compute cluster\n",
    "# vm_size = \"Standard_D2_V2\"\n",
    "# max_nodes = 4.\n",
    "\n",
    "cpu_cluster_name = \"cpu-cluster\"\n",
    "\n",
    "# to check whether the compute cluster exists already or not\n",
    "try:\n",
    "    cpu_cluster = ComputeTarget(workspace=ws, name=cpu_cluster_name)\n",
    "    print(\"Existing compute target found... Using it\")\n",
    "\n",
    "except ComputeTargetException:\n",
    "    print(\"Creating new Compute Target... \" + cpu_cluster_name)\n",
    "    provisioning_compute_config = AmlCompute.provisioning_configuration(vm_size=\"STANDARD_D2_V2\", max_nodes=4)\n",
    "    cpu_cluster = ComputeTarget.create(ws, cpu_cluster_name, provisioning_compute_config)\n",
    "\n",
    "cpu_cluster.wait_for_completion(show_output=True)"
   ]
  },
  {
   "cell_type": "markdown",
   "metadata": {},
   "source": [
    "## Exploring the Dataset"
   ]
  },
  {
   "cell_type": "code",
   "execution_count": 7,
   "metadata": {},
   "outputs": [],
   "source": [
    "from azureml.data.dataset_factory import TabularDatasetFactory\n",
    "\n",
    "url_path = \"https://raw.githubusercontent.com/bharati-21/AZMLND-Capstone-Project/master/files/heart.csv\"\n",
    "ds = TabularDatasetFactory.from_delimited_files(path=url_path)"
   ]
  },
  {
   "cell_type": "code",
   "execution_count": 8,
   "metadata": {},
   "outputs": [
    {
     "data": {
      "text/html": [
       "<div>\n",
       "<style scoped>\n",
       "    .dataframe tbody tr th:only-of-type {\n",
       "        vertical-align: middle;\n",
       "    }\n",
       "\n",
       "    .dataframe tbody tr th {\n",
       "        vertical-align: top;\n",
       "    }\n",
       "\n",
       "    .dataframe thead th {\n",
       "        text-align: right;\n",
       "    }\n",
       "</style>\n",
       "<table border=\"1\" class=\"dataframe\">\n",
       "  <thead>\n",
       "    <tr style=\"text-align: right;\">\n",
       "      <th></th>\n",
       "      <th>age</th>\n",
       "      <th>sex</th>\n",
       "      <th>cp</th>\n",
       "      <th>trestbps</th>\n",
       "      <th>chol</th>\n",
       "      <th>fbs</th>\n",
       "      <th>restecg</th>\n",
       "      <th>thalach</th>\n",
       "      <th>exang</th>\n",
       "      <th>oldpeak</th>\n",
       "      <th>slope</th>\n",
       "      <th>ca</th>\n",
       "      <th>thal</th>\n",
       "      <th>target</th>\n",
       "    </tr>\n",
       "  </thead>\n",
       "  <tbody>\n",
       "    <tr>\n",
       "      <th>0</th>\n",
       "      <td>63</td>\n",
       "      <td>1</td>\n",
       "      <td>1</td>\n",
       "      <td>145</td>\n",
       "      <td>233</td>\n",
       "      <td>1</td>\n",
       "      <td>2</td>\n",
       "      <td>150</td>\n",
       "      <td>0</td>\n",
       "      <td>2.3</td>\n",
       "      <td>3</td>\n",
       "      <td>0</td>\n",
       "      <td>fixed</td>\n",
       "      <td>0</td>\n",
       "    </tr>\n",
       "    <tr>\n",
       "      <th>1</th>\n",
       "      <td>67</td>\n",
       "      <td>1</td>\n",
       "      <td>4</td>\n",
       "      <td>160</td>\n",
       "      <td>286</td>\n",
       "      <td>0</td>\n",
       "      <td>2</td>\n",
       "      <td>108</td>\n",
       "      <td>1</td>\n",
       "      <td>1.5</td>\n",
       "      <td>2</td>\n",
       "      <td>3</td>\n",
       "      <td>normal</td>\n",
       "      <td>1</td>\n",
       "    </tr>\n",
       "    <tr>\n",
       "      <th>2</th>\n",
       "      <td>67</td>\n",
       "      <td>1</td>\n",
       "      <td>4</td>\n",
       "      <td>120</td>\n",
       "      <td>229</td>\n",
       "      <td>0</td>\n",
       "      <td>2</td>\n",
       "      <td>129</td>\n",
       "      <td>1</td>\n",
       "      <td>2.6</td>\n",
       "      <td>2</td>\n",
       "      <td>2</td>\n",
       "      <td>reversible</td>\n",
       "      <td>0</td>\n",
       "    </tr>\n",
       "    <tr>\n",
       "      <th>3</th>\n",
       "      <td>37</td>\n",
       "      <td>1</td>\n",
       "      <td>3</td>\n",
       "      <td>130</td>\n",
       "      <td>250</td>\n",
       "      <td>0</td>\n",
       "      <td>0</td>\n",
       "      <td>187</td>\n",
       "      <td>0</td>\n",
       "      <td>3.5</td>\n",
       "      <td>3</td>\n",
       "      <td>0</td>\n",
       "      <td>normal</td>\n",
       "      <td>0</td>\n",
       "    </tr>\n",
       "    <tr>\n",
       "      <th>4</th>\n",
       "      <td>41</td>\n",
       "      <td>0</td>\n",
       "      <td>2</td>\n",
       "      <td>130</td>\n",
       "      <td>204</td>\n",
       "      <td>0</td>\n",
       "      <td>2</td>\n",
       "      <td>172</td>\n",
       "      <td>0</td>\n",
       "      <td>1.4</td>\n",
       "      <td>1</td>\n",
       "      <td>0</td>\n",
       "      <td>normal</td>\n",
       "      <td>0</td>\n",
       "    </tr>\n",
       "  </tbody>\n",
       "</table>\n",
       "</div>"
      ],
      "text/plain": [
       "   age  sex  cp  trestbps  chol  fbs  restecg  thalach  exang  oldpeak  slope  \\\n",
       "0   63    1   1       145   233    1        2      150      0      2.3      3   \n",
       "1   67    1   4       160   286    0        2      108      1      1.5      2   \n",
       "2   67    1   4       120   229    0        2      129      1      2.6      2   \n",
       "3   37    1   3       130   250    0        0      187      0      3.5      3   \n",
       "4   41    0   2       130   204    0        2      172      0      1.4      1   \n",
       "\n",
       "   ca        thal  target  \n",
       "0   0       fixed       0  \n",
       "1   3      normal       1  \n",
       "2   2  reversible       0  \n",
       "3   0      normal       0  \n",
       "4   0      normal       0  "
      ]
     },
     "execution_count": 8,
     "metadata": {},
     "output_type": "execute_result"
    }
   ],
   "source": [
    "ds_dataframe = ds.to_pandas_dataframe()\n",
    "ds_dataframe.head()"
   ]
  },
  {
   "cell_type": "code",
   "execution_count": 26,
   "metadata": {},
   "outputs": [
    {
     "data": {
      "text/plain": [
       "((303, 13), (303,))"
      ]
     },
     "execution_count": 26,
     "metadata": {},
     "output_type": "execute_result"
    }
   ],
   "source": [
    "from train import clean_data\n",
    "\n",
    "# Use the clean_data function to clean your data.\n",
    "x, y = clean_data(ds)\n",
    "x.shape, y.shape"
   ]
  },
  {
   "cell_type": "code",
   "execution_count": 27,
   "metadata": {},
   "outputs": [
    {
     "name": "stdout",
     "output_type": "stream",
     "text": [
      "Dicrectory 'Data' created...\n"
     ]
    }
   ],
   "source": [
    "import os\n",
    "import pandas as pd\n",
    "path = \"./Data\"\n",
    "try:\n",
    "    os.makedirs(path, exist_ok=True)\n",
    "    print(\"Dicrectory 'Data' created...\")\n",
    "except OSError:\n",
    "    print(\"Directory 'Data' cannot be created...\")"
   ]
  },
  {
   "cell_type": "code",
   "execution_count": 32,
   "metadata": {},
   "outputs": [
    {
     "data": {
      "text/plain": [
       "((303, 13), (303,), (303, 14))"
      ]
     },
     "execution_count": 32,
     "metadata": {},
     "output_type": "execute_result"
    }
   ],
   "source": [
    "clean_df = x.copy(deep=True)\n",
    "clean_df['target'] = y\n",
    "clean_df.to_csv('./Data/clean_data.csv')\n",
    "x.shape, y.shape, clean_df.shape"
   ]
  },
  {
   "cell_type": "code",
   "execution_count": 29,
   "metadata": {},
   "outputs": [
    {
     "name": "stdout",
     "output_type": "stream",
     "text": [
      "(212, 14)\n",
      "(91, 14)\n"
     ]
    }
   ],
   "source": [
    "# split data into test and train sets\n",
    "\n",
    "from sklearn.model_selection import train_test_split\n",
    "import pandas as pd\n",
    "\n",
    "#spliting the data\n",
    "train_x, test_x, train_y, test_y = train_test_split(x, y, test_size = 0.3)\n",
    "\n",
    "train_df = pd.concat([train_x, train_y], axis=1)\n",
    "test_df = pd.concat([test_x, test_y], axis=1)\n",
    "\n",
    "print(train_df.shape)\n",
    "print(test_df.shape)\n",
    "\n",
    "# saving test and train data locally\n",
    "train_df.to_csv(\"./Data/train_data.csv\")\n",
    "test_df.to_csv(\"./Data/test_data.csv\")"
   ]
  },
  {
   "cell_type": "code",
   "execution_count": 30,
   "metadata": {},
   "outputs": [
    {
     "name": "stdout",
     "output_type": "stream",
     "text": [
      "Uploading an estimated of 3 files\n",
      "Uploading ./Data/clean_data.csv\n",
      "Uploaded ./Data/clean_data.csv, 1 files out of an estimated total of 3\n",
      "Uploading ./Data/test_data.csv\n",
      "Uploaded ./Data/test_data.csv, 2 files out of an estimated total of 3\n",
      "Uploading ./Data/train_data.csv\n",
      "Uploaded ./Data/train_data.csv, 3 files out of an estimated total of 3\n",
      "Uploaded 3 files\n"
     ]
    },
    {
     "data": {
      "text/plain": [
       "$AZUREML_DATAREFERENCE_fd1215697fb0430ea62ce1ff09f5893d"
      ]
     },
     "execution_count": 30,
     "metadata": {},
     "output_type": "execute_result"
    }
   ],
   "source": [
    "deafult_store = ws.get_default_datastore()\n",
    "deafult_store.upload(src_dir=\"./Data\", target_path=\"./Data\", overwrite=True)"
   ]
  },
  {
   "cell_type": "code",
   "execution_count": 33,
   "metadata": {},
   "outputs": [],
   "source": [
    "from azureml.core import Dataset\n",
    "\n",
    "clean_data = Dataset.Tabular.from_delimited_files(path=[(deafult_store, (\"./Data/clean_data.csv\"))])\n",
    "train_data = Dataset.Tabular.from_delimited_files(path=[(deafult_store, (\"./Data/train_data.csv\"))])\n",
    "test_data = Dataset.Tabular.from_delimited_files(path=[(deafult_store, (\"./Data/test_data.csv\"))])"
   ]
  },
  {
   "cell_type": "code",
   "execution_count": 36,
   "metadata": {},
   "outputs": [
    {
     "data": {
      "text/html": [
       "<div>\n",
       "<style scoped>\n",
       "    .dataframe tbody tr th:only-of-type {\n",
       "        vertical-align: middle;\n",
       "    }\n",
       "\n",
       "    .dataframe tbody tr th {\n",
       "        vertical-align: top;\n",
       "    }\n",
       "\n",
       "    .dataframe thead th {\n",
       "        text-align: right;\n",
       "    }\n",
       "</style>\n",
       "<table border=\"1\" class=\"dataframe\">\n",
       "  <thead>\n",
       "    <tr style=\"text-align: right;\">\n",
       "      <th></th>\n",
       "      <th>Column1</th>\n",
       "      <th>age</th>\n",
       "      <th>sex</th>\n",
       "      <th>chest_pain_type</th>\n",
       "      <th>resting_BP</th>\n",
       "      <th>cholesterol</th>\n",
       "      <th>fasting_blood_sugar</th>\n",
       "      <th>rest_ecg</th>\n",
       "      <th>max_heart_rate</th>\n",
       "      <th>exercise_induced_angina</th>\n",
       "      <th>st_depression</th>\n",
       "      <th>st_slope</th>\n",
       "      <th>num_major_vessels</th>\n",
       "      <th>thalassemia</th>\n",
       "      <th>target</th>\n",
       "    </tr>\n",
       "  </thead>\n",
       "  <tbody>\n",
       "    <tr>\n",
       "      <th>0</th>\n",
       "      <td>201</td>\n",
       "      <td>43</td>\n",
       "      <td>1</td>\n",
       "      <td>4</td>\n",
       "      <td>115</td>\n",
       "      <td>303</td>\n",
       "      <td>0</td>\n",
       "      <td>0</td>\n",
       "      <td>181</td>\n",
       "      <td>0</td>\n",
       "      <td>1.2</td>\n",
       "      <td>2</td>\n",
       "      <td>0</td>\n",
       "      <td>3</td>\n",
       "      <td>0</td>\n",
       "    </tr>\n",
       "    <tr>\n",
       "      <th>1</th>\n",
       "      <td>20</td>\n",
       "      <td>64</td>\n",
       "      <td>1</td>\n",
       "      <td>1</td>\n",
       "      <td>110</td>\n",
       "      <td>211</td>\n",
       "      <td>0</td>\n",
       "      <td>2</td>\n",
       "      <td>144</td>\n",
       "      <td>1</td>\n",
       "      <td>1.8</td>\n",
       "      <td>2</td>\n",
       "      <td>0</td>\n",
       "      <td>3</td>\n",
       "      <td>0</td>\n",
       "    </tr>\n",
       "    <tr>\n",
       "      <th>2</th>\n",
       "      <td>38</td>\n",
       "      <td>55</td>\n",
       "      <td>1</td>\n",
       "      <td>4</td>\n",
       "      <td>132</td>\n",
       "      <td>353</td>\n",
       "      <td>0</td>\n",
       "      <td>0</td>\n",
       "      <td>132</td>\n",
       "      <td>1</td>\n",
       "      <td>1.2</td>\n",
       "      <td>2</td>\n",
       "      <td>1</td>\n",
       "      <td>4</td>\n",
       "      <td>1</td>\n",
       "    </tr>\n",
       "    <tr>\n",
       "      <th>3</th>\n",
       "      <td>180</td>\n",
       "      <td>74</td>\n",
       "      <td>0</td>\n",
       "      <td>2</td>\n",
       "      <td>120</td>\n",
       "      <td>269</td>\n",
       "      <td>0</td>\n",
       "      <td>2</td>\n",
       "      <td>121</td>\n",
       "      <td>1</td>\n",
       "      <td>0.2</td>\n",
       "      <td>1</td>\n",
       "      <td>1</td>\n",
       "      <td>3</td>\n",
       "      <td>0</td>\n",
       "    </tr>\n",
       "    <tr>\n",
       "      <th>4</th>\n",
       "      <td>300</td>\n",
       "      <td>65</td>\n",
       "      <td>1</td>\n",
       "      <td>4</td>\n",
       "      <td>135</td>\n",
       "      <td>254</td>\n",
       "      <td>0</td>\n",
       "      <td>2</td>\n",
       "      <td>127</td>\n",
       "      <td>0</td>\n",
       "      <td>2.8</td>\n",
       "      <td>2</td>\n",
       "      <td>1</td>\n",
       "      <td>4</td>\n",
       "      <td>1</td>\n",
       "    </tr>\n",
       "  </tbody>\n",
       "</table>\n",
       "</div>"
      ],
      "text/plain": [
       "   Column1  age  sex  chest_pain_type  resting_BP  cholesterol  \\\n",
       "0      201   43    1                4         115          303   \n",
       "1       20   64    1                1         110          211   \n",
       "2       38   55    1                4         132          353   \n",
       "3      180   74    0                2         120          269   \n",
       "4      300   65    1                4         135          254   \n",
       "\n",
       "   fasting_blood_sugar  rest_ecg  max_heart_rate  exercise_induced_angina  \\\n",
       "0                    0         0             181                        0   \n",
       "1                    0         2             144                        1   \n",
       "2                    0         0             132                        1   \n",
       "3                    0         2             121                        1   \n",
       "4                    0         2             127                        0   \n",
       "\n",
       "   st_depression  st_slope  num_major_vessels  thalassemia  target  \n",
       "0            1.2         2                  0            3       0  \n",
       "1            1.8         2                  0            3       0  \n",
       "2            1.2         2                  1            4       1  \n",
       "3            0.2         1                  1            3       0  \n",
       "4            2.8         2                  1            4       1  "
      ]
     },
     "execution_count": 36,
     "metadata": {},
     "output_type": "execute_result"
    }
   ],
   "source": [
    "train_data.to_pandas_dataframe().head()"
   ]
  },
  {
   "cell_type": "markdown",
   "metadata": {},
   "source": [
    "## AutoML Configuration\n",
    "\n",
    "TODO: Explain why you chose the automl settings and cofiguration you used below."
   ]
  },
  {
   "cell_type": "code",
   "execution_count": 37,
   "metadata": {
    "gather": {
     "logged": 1598429217746
    },
    "jupyter": {
     "outputs_hidden": false,
     "source_hidden": false
    },
    "nteract": {
     "transient": {
      "deleting": false
     }
    }
   },
   "outputs": [
    {
     "name": "stdout",
     "output_type": "stream",
     "text": [
      "AutoML config created.\n"
     ]
    }
   ],
   "source": [
    "from azureml.train.automl import AutoMLConfig\n",
    "\n",
    "# TODO: Put your automl settings here\n",
    "\n",
    "automl_config = AutoMLConfig(\n",
    "    experiment_timeout_minutes=30,\n",
    "    task='classification',\n",
    "    primary_metric='accuracy',\n",
    "    training_data=train_data,\n",
    "    label_column_name=\"target\",\n",
    "    n_cross_validations=5,\n",
    "    compute_target = cpu_cluster)\n",
    "\n",
    "print(\"AutoML config created.\")"
   ]
  },
  {
   "cell_type": "code",
   "execution_count": 38,
   "metadata": {
    "gather": {
     "logged": 1598431107951
    },
    "jupyter": {
     "outputs_hidden": false,
     "source_hidden": false
    },
    "nteract": {
     "transient": {
      "deleting": false
     }
    }
   },
   "outputs": [
    {
     "name": "stdout",
     "output_type": "stream",
     "text": [
      "Running on remote.\n",
      "No run_configuration provided, running on cpu-cluster with default configuration\n",
      "Running on remote compute: cpu-cluster\n",
      "Parent Run ID: AutoML_da0a796e-f542-4147-bd85-5af3ab81a563\n",
      "\n",
      "Current status: FeaturesGeneration. Generating features for the dataset.\n",
      "Current status: DatasetCrossValidationSplit. Generating individually featurized CV splits.\n",
      "Current status: ModelSelection. Beginning model selection.\n",
      "\n",
      "****************************************************************************************************\n",
      "DATA GUARDRAILS: \n",
      "\n",
      "TYPE:         Class balancing detection\n",
      "STATUS:       PASSED\n",
      "DESCRIPTION:  Your inputs were analyzed, and all classes are balanced in your training data.\n",
      "              Learn more about imbalanced data: https://aka.ms/AutomatedMLImbalancedData\n",
      "\n",
      "****************************************************************************************************\n",
      "\n",
      "TYPE:         Missing feature values imputation\n",
      "STATUS:       PASSED\n",
      "DESCRIPTION:  No feature missing values were detected in the training data.\n",
      "              Learn more about missing value imputation: https://aka.ms/AutomatedMLFeaturization\n",
      "\n",
      "****************************************************************************************************\n",
      "\n",
      "TYPE:         High cardinality feature detection\n",
      "STATUS:       PASSED\n",
      "DESCRIPTION:  Your inputs were analyzed, and no high cardinality features were detected.\n",
      "              Learn more about high cardinality feature handling: https://aka.ms/AutomatedMLFeaturization\n",
      "\n",
      "****************************************************************************************************\n",
      "\n",
      "****************************************************************************************************\n",
      "ITERATION: The iteration being evaluated.\n",
      "PIPELINE: A summary description of the pipeline being evaluated.\n",
      "DURATION: Time taken for the current iteration.\n",
      "METRIC: The result of computing score on the fitted pipeline.\n",
      "BEST: The best observed score thus far.\n",
      "****************************************************************************************************\n",
      "\n",
      " ITERATION   PIPELINE                                       DURATION      METRIC      BEST\n",
      "         0   MaxAbsScaler LightGBM                          0:00:49       0.8487    0.8487\n",
      "         1   MaxAbsScaler XGBoostClassifier                 0:00:46       0.8439    0.8487\n",
      "         2   MaxAbsScaler RandomForest                      0:00:53       0.8110    0.8487\n",
      "         3   MaxAbsScaler RandomForest                      0:00:52       0.8347    0.8487\n",
      "         4   MaxAbsScaler RandomForest                      0:00:49       0.8207    0.8487\n",
      "         5   MaxAbsScaler RandomForest                      0:00:53       0.8110    0.8487\n",
      "         6   SparseNormalizer XGBoostClassifier             0:00:49       0.8299    0.8487\n",
      "         7   MaxAbsScaler RandomForest                      0:00:49       0.7924    0.8487\n",
      "         8   SparseNormalizer LightGBM                      0:01:00       0.8110    0.8487\n",
      "         9   MaxAbsScaler LogisticRegression                0:00:49       0.8536    0.8536\n",
      "        10   SparseNormalizer XGBoostClassifier             0:00:55       0.8155    0.8536\n",
      "        11   MaxAbsScaler LightGBM                          0:00:46       0.8064    0.8536\n",
      "        12   StandardScalerWrapper LightGBM                 0:00:46       0.8535    0.8536\n",
      "        13   MaxAbsScaler LogisticRegression                0:00:45       0.8347    0.8536\n",
      "        14   MaxAbsScaler ExtremeRandomTrees                0:00:50       0.8297    0.8536\n",
      "        15   MaxAbsScaler LightGBM                          0:01:21       0.8348    0.8536\n",
      "        16   MaxAbsScaler LightGBM                          0:00:50       0.7738    0.8536\n",
      "        17   SparseNormalizer XGBoostClassifier             0:00:46       0.8344    0.8536\n",
      "        18   StandardScalerWrapper ExtremeRandomTrees       0:00:50       0.8062    0.8536\n",
      "        19   SparseNormalizer XGBoostClassifier             0:00:48       0.8061    0.8536\n",
      "        20   SparseNormalizer LightGBM                      0:00:46       0.8204    0.8536\n",
      "        21   StandardScalerWrapper XGBoostClassifier        0:00:52       0.8017    0.8536\n",
      "        22   MaxAbsScaler ExtremeRandomTrees                0:00:50       0.8297    0.8536\n",
      "        23   MaxAbsScaler LightGBM                          0:00:48       0.7831    0.8536\n",
      "        24   MaxAbsScaler ExtremeRandomTrees                0:00:45       0.7922    0.8536\n",
      "        25   MaxAbsScaler LogisticRegression                0:00:51       0.8347    0.8536\n",
      "        26   MaxAbsScaler LogisticRegression                0:00:52       0.8347    0.8536\n",
      "        27   SparseNormalizer XGBoostClassifier             0:00:50       0.8347    0.8536\n",
      "        28    VotingEnsemble                                0:01:14       0.8581    0.8581\n",
      "        29    StackEnsemble                                 0:01:13       0.8631    0.8631\n"
     ]
    }
   ],
   "source": [
    "# TODO: Submit your experiment\n",
    "remote_run = experiment.submit(automl_config, show_output = True)"
   ]
  },
  {
   "cell_type": "markdown",
   "metadata": {},
   "source": [
    "## Run Details\n",
    "\n",
    "OPTIONAL: Write about the different models trained and their performance. Why do you think some models did better than others?\n",
    "\n",
    "TODO: In the cell below, use the `RunDetails` widget to show the different experiments."
   ]
  },
  {
   "cell_type": "code",
   "execution_count": 39,
   "metadata": {
    "gather": {
     "logged": 1598431121770
    },
    "jupyter": {
     "outputs_hidden": false,
     "source_hidden": false
    },
    "nteract": {
     "transient": {
      "deleting": false
     }
    },
    "scrolled": true
   },
   "outputs": [
    {
     "data": {
      "application/vnd.jupyter.widget-view+json": {
       "model_id": "3e5693dd41724ed8b7227bf0a8376b7e",
       "version_major": 2,
       "version_minor": 0
      },
      "text/plain": [
       "_AutoMLWidget(widget_settings={'childWidgetDisplay': 'popup', 'send_telemetry': False, 'log_level': 'INFO', 's…"
      ]
     },
     "metadata": {},
     "output_type": "display_data"
    },
    {
     "data": {
      "application/aml.mini.widget.v1": "{\"status\": \"Completed\", \"workbench_run_details_uri\": \"https://ml.azure.com/experiments/Heart_Disease_Kaggle_AutoML/runs/AutoML_da0a796e-f542-4147-bd85-5af3ab81a563?wsid=/subscriptions/5a4ab2ba-6c51-4805-8155-58759ad589d8/resourcegroups/aml-quickstarts-136719/workspaces/quick-starts-ws-136719\", \"run_id\": \"AutoML_da0a796e-f542-4147-bd85-5af3ab81a563\", \"run_properties\": {\"run_id\": \"AutoML_da0a796e-f542-4147-bd85-5af3ab81a563\", \"created_utc\": \"2021-01-31T14:03:54.389937Z\", \"properties\": {\"num_iterations\": \"1000\", \"training_type\": \"TrainFull\", \"acquisition_function\": \"EI\", \"primary_metric\": \"accuracy\", \"train_split\": \"0\", \"acquisition_parameter\": \"0\", \"num_cross_validation\": \"5\", \"target\": \"cpu-cluster\", \"AMLSettingsJsonString\": \"{\\\"path\\\":null,\\\"name\\\":\\\"Heart_Disease_Kaggle_AutoML\\\",\\\"subscription_id\\\":\\\"5a4ab2ba-6c51-4805-8155-58759ad589d8\\\",\\\"resource_group\\\":\\\"aml-quickstarts-136719\\\",\\\"workspace_name\\\":\\\"quick-starts-ws-136719\\\",\\\"region\\\":\\\"southcentralus\\\",\\\"compute_target\\\":\\\"cpu-cluster\\\",\\\"spark_service\\\":null,\\\"azure_service\\\":\\\"remote\\\",\\\"many_models\\\":false,\\\"pipeline_fetch_max_batch_size\\\":1,\\\"iterations\\\":1000,\\\"primary_metric\\\":\\\"accuracy\\\",\\\"task_type\\\":\\\"classification\\\",\\\"data_script\\\":null,\\\"validation_size\\\":0.0,\\\"n_cross_validations\\\":5,\\\"y_min\\\":null,\\\"y_max\\\":null,\\\"num_classes\\\":null,\\\"featurization\\\":\\\"auto\\\",\\\"_ignore_package_version_incompatibilities\\\":false,\\\"is_timeseries\\\":false,\\\"max_cores_per_iteration\\\":1,\\\"max_concurrent_iterations\\\":1,\\\"iteration_timeout_minutes\\\":null,\\\"mem_in_mb\\\":null,\\\"enforce_time_on_windows\\\":false,\\\"experiment_timeout_minutes\\\":30,\\\"experiment_exit_score\\\":null,\\\"whitelist_models\\\":null,\\\"blacklist_algos\\\":[\\\"TensorFlowLinearClassifier\\\",\\\"TensorFlowDNN\\\"],\\\"supported_models\\\":[\\\"XGBoostClassifier\\\",\\\"DecisionTree\\\",\\\"LogisticRegression\\\",\\\"KNN\\\",\\\"RandomForest\\\",\\\"LightGBM\\\",\\\"TensorFlowDNN\\\",\\\"TensorFlowLinearClassifier\\\",\\\"SVM\\\",\\\"GradientBoosting\\\",\\\"MultinomialNaiveBayes\\\",\\\"LinearSVM\\\",\\\"SGD\\\",\\\"BernoulliNaiveBayes\\\",\\\"AveragedPerceptronClassifier\\\",\\\"ExtremeRandomTrees\\\"],\\\"auto_blacklist\\\":true,\\\"blacklist_samples_reached\\\":false,\\\"exclude_nan_labels\\\":true,\\\"verbosity\\\":20,\\\"_debug_log\\\":\\\"azureml_automl.log\\\",\\\"show_warnings\\\":false,\\\"model_explainability\\\":true,\\\"service_url\\\":null,\\\"sdk_url\\\":null,\\\"sdk_packages\\\":null,\\\"enable_onnx_compatible_models\\\":false,\\\"enable_split_onnx_featurizer_estimator_models\\\":false,\\\"vm_type\\\":\\\"STANDARD_D2_V2\\\",\\\"telemetry_verbosity\\\":20,\\\"send_telemetry\\\":true,\\\"enable_dnn\\\":false,\\\"scenario\\\":\\\"SDK-1.13.0\\\",\\\"environment_label\\\":null,\\\"force_text_dnn\\\":false,\\\"enable_feature_sweeping\\\":true,\\\"enable_early_stopping\\\":false,\\\"early_stopping_n_iters\\\":10,\\\"metrics\\\":null,\\\"enable_ensembling\\\":true,\\\"enable_stack_ensembling\\\":true,\\\"ensemble_iterations\\\":15,\\\"enable_tf\\\":false,\\\"enable_subsampling\\\":null,\\\"subsample_seed\\\":null,\\\"enable_nimbusml\\\":false,\\\"enable_streaming\\\":false,\\\"force_streaming\\\":false,\\\"track_child_runs\\\":true,\\\"allowed_private_models\\\":[],\\\"label_column_name\\\":\\\"target\\\",\\\"weight_column_name\\\":null,\\\"cv_split_column_names\\\":null,\\\"enable_local_managed\\\":false,\\\"_local_managed_run_id\\\":null,\\\"cost_mode\\\":1,\\\"lag_length\\\":0,\\\"metric_operation\\\":\\\"maximize\\\",\\\"preprocess\\\":true}\", \"DataPrepJsonString\": \"{\\\\\\\"training_data\\\\\\\": \\\\\\\"{\\\\\\\\\\\\\\\"blocks\\\\\\\\\\\\\\\": [{\\\\\\\\\\\\\\\"id\\\\\\\\\\\\\\\": \\\\\\\\\\\\\\\"06d97860-1ebb-4e60-bdfe-0453493c8d62\\\\\\\\\\\\\\\", \\\\\\\\\\\\\\\"type\\\\\\\\\\\\\\\": \\\\\\\\\\\\\\\"Microsoft.DPrep.GetDatastoreFilesBlock\\\\\\\\\\\\\\\", \\\\\\\\\\\\\\\"arguments\\\\\\\\\\\\\\\": {\\\\\\\\\\\\\\\"datastores\\\\\\\\\\\\\\\": [{\\\\\\\\\\\\\\\"datastoreName\\\\\\\\\\\\\\\": \\\\\\\\\\\\\\\"workspaceblobstore\\\\\\\\\\\\\\\", \\\\\\\\\\\\\\\"path\\\\\\\\\\\\\\\": \\\\\\\\\\\\\\\"./Data/train_data.csv\\\\\\\\\\\\\\\", \\\\\\\\\\\\\\\"resourceGroup\\\\\\\\\\\\\\\": \\\\\\\\\\\\\\\"aml-quickstarts-136719\\\\\\\\\\\\\\\", \\\\\\\\\\\\\\\"subscription\\\\\\\\\\\\\\\": \\\\\\\\\\\\\\\"5a4ab2ba-6c51-4805-8155-58759ad589d8\\\\\\\\\\\\\\\", \\\\\\\\\\\\\\\"workspaceName\\\\\\\\\\\\\\\": \\\\\\\\\\\\\\\"quick-starts-ws-136719\\\\\\\\\\\\\\\"}]}, \\\\\\\\\\\\\\\"localData\\\\\\\\\\\\\\\": {}, \\\\\\\\\\\\\\\"isEnabled\\\\\\\\\\\\\\\": true, \\\\\\\\\\\\\\\"name\\\\\\\\\\\\\\\": null, \\\\\\\\\\\\\\\"annotation\\\\\\\\\\\\\\\": null}, {\\\\\\\\\\\\\\\"id\\\\\\\\\\\\\\\": \\\\\\\\\\\\\\\"e568a0b9-6c9f-457c-9398-a4e447378f03\\\\\\\\\\\\\\\", \\\\\\\\\\\\\\\"type\\\\\\\\\\\\\\\": \\\\\\\\\\\\\\\"Microsoft.DPrep.ParseDelimitedBlock\\\\\\\\\\\\\\\", \\\\\\\\\\\\\\\"arguments\\\\\\\\\\\\\\\": {\\\\\\\\\\\\\\\"columnHeadersMode\\\\\\\\\\\\\\\": 3, \\\\\\\\\\\\\\\"fileEncoding\\\\\\\\\\\\\\\": 0, \\\\\\\\\\\\\\\"handleQuotedLineBreaks\\\\\\\\\\\\\\\": false, \\\\\\\\\\\\\\\"preview\\\\\\\\\\\\\\\": false, \\\\\\\\\\\\\\\"separator\\\\\\\\\\\\\\\": \\\\\\\\\\\\\\\",\\\\\\\\\\\\\\\", \\\\\\\\\\\\\\\"skipRows\\\\\\\\\\\\\\\": 0, \\\\\\\\\\\\\\\"skipRowsMode\\\\\\\\\\\\\\\": 0}, \\\\\\\\\\\\\\\"localData\\\\\\\\\\\\\\\": {}, \\\\\\\\\\\\\\\"isEnabled\\\\\\\\\\\\\\\": true, \\\\\\\\\\\\\\\"name\\\\\\\\\\\\\\\": null, \\\\\\\\\\\\\\\"annotation\\\\\\\\\\\\\\\": null}, {\\\\\\\\\\\\\\\"id\\\\\\\\\\\\\\\": \\\\\\\\\\\\\\\"f4c214fc-0459-4bf0-8eb5-55455b71651a\\\\\\\\\\\\\\\", \\\\\\\\\\\\\\\"type\\\\\\\\\\\\\\\": \\\\\\\\\\\\\\\"Microsoft.DPrep.DropColumnsBlock\\\\\\\\\\\\\\\", \\\\\\\\\\\\\\\"arguments\\\\\\\\\\\\\\\": {\\\\\\\\\\\\\\\"columns\\\\\\\\\\\\\\\": {\\\\\\\\\\\\\\\"type\\\\\\\\\\\\\\\": 0, \\\\\\\\\\\\\\\"details\\\\\\\\\\\\\\\": {\\\\\\\\\\\\\\\"selectedColumns\\\\\\\\\\\\\\\": [\\\\\\\\\\\\\\\"Path\\\\\\\\\\\\\\\"]}}}, \\\\\\\\\\\\\\\"localData\\\\\\\\\\\\\\\": {}, \\\\\\\\\\\\\\\"isEnabled\\\\\\\\\\\\\\\": true, \\\\\\\\\\\\\\\"name\\\\\\\\\\\\\\\": null, \\\\\\\\\\\\\\\"annotation\\\\\\\\\\\\\\\": null}, {\\\\\\\\\\\\\\\"id\\\\\\\\\\\\\\\": \\\\\\\\\\\\\\\"3ccfccdf-d45d-4f5a-ad46-86f659ce0747\\\\\\\\\\\\\\\", \\\\\\\\\\\\\\\"type\\\\\\\\\\\\\\\": \\\\\\\\\\\\\\\"Microsoft.DPrep.SetColumnTypesBlock\\\\\\\\\\\\\\\", \\\\\\\\\\\\\\\"arguments\\\\\\\\\\\\\\\": {\\\\\\\\\\\\\\\"columnConversion\\\\\\\\\\\\\\\": [{\\\\\\\\\\\\\\\"column\\\\\\\\\\\\\\\": {\\\\\\\\\\\\\\\"type\\\\\\\\\\\\\\\": 2, \\\\\\\\\\\\\\\"details\\\\\\\\\\\\\\\": {\\\\\\\\\\\\\\\"selectedColumn\\\\\\\\\\\\\\\": \\\\\\\\\\\\\\\"Column1\\\\\\\\\\\\\\\"}}, \\\\\\\\\\\\\\\"typeProperty\\\\\\\\\\\\\\\": 2}, {\\\\\\\\\\\\\\\"column\\\\\\\\\\\\\\\": {\\\\\\\\\\\\\\\"type\\\\\\\\\\\\\\\": 2, \\\\\\\\\\\\\\\"details\\\\\\\\\\\\\\\": {\\\\\\\\\\\\\\\"selectedColumn\\\\\\\\\\\\\\\": \\\\\\\\\\\\\\\"age\\\\\\\\\\\\\\\"}}, \\\\\\\\\\\\\\\"typeProperty\\\\\\\\\\\\\\\": 2}, {\\\\\\\\\\\\\\\"column\\\\\\\\\\\\\\\": {\\\\\\\\\\\\\\\"type\\\\\\\\\\\\\\\": 2, \\\\\\\\\\\\\\\"details\\\\\\\\\\\\\\\": {\\\\\\\\\\\\\\\"selectedColumn\\\\\\\\\\\\\\\": \\\\\\\\\\\\\\\"sex\\\\\\\\\\\\\\\"}}, \\\\\\\\\\\\\\\"typeProperty\\\\\\\\\\\\\\\": 2}, {\\\\\\\\\\\\\\\"column\\\\\\\\\\\\\\\": {\\\\\\\\\\\\\\\"type\\\\\\\\\\\\\\\": 2, \\\\\\\\\\\\\\\"details\\\\\\\\\\\\\\\": {\\\\\\\\\\\\\\\"selectedColumn\\\\\\\\\\\\\\\": \\\\\\\\\\\\\\\"chest_pain_type\\\\\\\\\\\\\\\"}}, \\\\\\\\\\\\\\\"typeProperty\\\\\\\\\\\\\\\": 2}, {\\\\\\\\\\\\\\\"column\\\\\\\\\\\\\\\": {\\\\\\\\\\\\\\\"type\\\\\\\\\\\\\\\": 2, \\\\\\\\\\\\\\\"details\\\\\\\\\\\\\\\": {\\\\\\\\\\\\\\\"selectedColumn\\\\\\\\\\\\\\\": \\\\\\\\\\\\\\\"resting_BP\\\\\\\\\\\\\\\"}}, \\\\\\\\\\\\\\\"typeProperty\\\\\\\\\\\\\\\": 2}, {\\\\\\\\\\\\\\\"column\\\\\\\\\\\\\\\": {\\\\\\\\\\\\\\\"type\\\\\\\\\\\\\\\": 2, \\\\\\\\\\\\\\\"details\\\\\\\\\\\\\\\": {\\\\\\\\\\\\\\\"selectedColumn\\\\\\\\\\\\\\\": \\\\\\\\\\\\\\\"cholesterol\\\\\\\\\\\\\\\"}}, \\\\\\\\\\\\\\\"typeProperty\\\\\\\\\\\\\\\": 2}, {\\\\\\\\\\\\\\\"column\\\\\\\\\\\\\\\": {\\\\\\\\\\\\\\\"type\\\\\\\\\\\\\\\": 2, \\\\\\\\\\\\\\\"details\\\\\\\\\\\\\\\": {\\\\\\\\\\\\\\\"selectedColumn\\\\\\\\\\\\\\\": \\\\\\\\\\\\\\\"fasting_blood_sugar\\\\\\\\\\\\\\\"}}, \\\\\\\\\\\\\\\"typeProperty\\\\\\\\\\\\\\\": 2}, {\\\\\\\\\\\\\\\"column\\\\\\\\\\\\\\\": {\\\\\\\\\\\\\\\"type\\\\\\\\\\\\\\\": 2, \\\\\\\\\\\\\\\"details\\\\\\\\\\\\\\\": {\\\\\\\\\\\\\\\"selectedColumn\\\\\\\\\\\\\\\": \\\\\\\\\\\\\\\"rest_ecg\\\\\\\\\\\\\\\"}}, \\\\\\\\\\\\\\\"typeProperty\\\\\\\\\\\\\\\": 2}, {\\\\\\\\\\\\\\\"column\\\\\\\\\\\\\\\": {\\\\\\\\\\\\\\\"type\\\\\\\\\\\\\\\": 2, \\\\\\\\\\\\\\\"details\\\\\\\\\\\\\\\": {\\\\\\\\\\\\\\\"selectedColumn\\\\\\\\\\\\\\\": \\\\\\\\\\\\\\\"max_heart_rate\\\\\\\\\\\\\\\"}}, \\\\\\\\\\\\\\\"typeProperty\\\\\\\\\\\\\\\": 2}, {\\\\\\\\\\\\\\\"column\\\\\\\\\\\\\\\": {\\\\\\\\\\\\\\\"type\\\\\\\\\\\\\\\": 2, \\\\\\\\\\\\\\\"details\\\\\\\\\\\\\\\": {\\\\\\\\\\\\\\\"selectedColumn\\\\\\\\\\\\\\\": \\\\\\\\\\\\\\\"exercise_induced_angina\\\\\\\\\\\\\\\"}}, \\\\\\\\\\\\\\\"typeProperty\\\\\\\\\\\\\\\": 2}, {\\\\\\\\\\\\\\\"column\\\\\\\\\\\\\\\": {\\\\\\\\\\\\\\\"type\\\\\\\\\\\\\\\": 2, \\\\\\\\\\\\\\\"details\\\\\\\\\\\\\\\": {\\\\\\\\\\\\\\\"selectedColumn\\\\\\\\\\\\\\\": \\\\\\\\\\\\\\\"st_depression\\\\\\\\\\\\\\\"}}, \\\\\\\\\\\\\\\"typeProperty\\\\\\\\\\\\\\\": 3}, {\\\\\\\\\\\\\\\"column\\\\\\\\\\\\\\\": {\\\\\\\\\\\\\\\"type\\\\\\\\\\\\\\\": 2, \\\\\\\\\\\\\\\"details\\\\\\\\\\\\\\\": {\\\\\\\\\\\\\\\"selectedColumn\\\\\\\\\\\\\\\": \\\\\\\\\\\\\\\"st_slope\\\\\\\\\\\\\\\"}}, \\\\\\\\\\\\\\\"typeProperty\\\\\\\\\\\\\\\": 2}, {\\\\\\\\\\\\\\\"column\\\\\\\\\\\\\\\": {\\\\\\\\\\\\\\\"type\\\\\\\\\\\\\\\": 2, \\\\\\\\\\\\\\\"details\\\\\\\\\\\\\\\": {\\\\\\\\\\\\\\\"selectedColumn\\\\\\\\\\\\\\\": \\\\\\\\\\\\\\\"num_major_vessels\\\\\\\\\\\\\\\"}}, \\\\\\\\\\\\\\\"typeProperty\\\\\\\\\\\\\\\": 2}, {\\\\\\\\\\\\\\\"column\\\\\\\\\\\\\\\": {\\\\\\\\\\\\\\\"type\\\\\\\\\\\\\\\": 2, \\\\\\\\\\\\\\\"details\\\\\\\\\\\\\\\": {\\\\\\\\\\\\\\\"selectedColumn\\\\\\\\\\\\\\\": \\\\\\\\\\\\\\\"thalassemia\\\\\\\\\\\\\\\"}}, \\\\\\\\\\\\\\\"typeProperty\\\\\\\\\\\\\\\": 2}, {\\\\\\\\\\\\\\\"column\\\\\\\\\\\\\\\": {\\\\\\\\\\\\\\\"type\\\\\\\\\\\\\\\": 2, \\\\\\\\\\\\\\\"details\\\\\\\\\\\\\\\": {\\\\\\\\\\\\\\\"selectedColumn\\\\\\\\\\\\\\\": \\\\\\\\\\\\\\\"target\\\\\\\\\\\\\\\"}}, \\\\\\\\\\\\\\\"typeProperty\\\\\\\\\\\\\\\": 2}]}, \\\\\\\\\\\\\\\"localData\\\\\\\\\\\\\\\": {}, \\\\\\\\\\\\\\\"isEnabled\\\\\\\\\\\\\\\": true, \\\\\\\\\\\\\\\"name\\\\\\\\\\\\\\\": null, \\\\\\\\\\\\\\\"annotation\\\\\\\\\\\\\\\": null}], \\\\\\\\\\\\\\\"inspectors\\\\\\\\\\\\\\\": [], \\\\\\\\\\\\\\\"meta\\\\\\\\\\\\\\\": {\\\\\\\\\\\\\\\"savedDatasetId\\\\\\\\\\\\\\\": \\\\\\\\\\\\\\\"87087c23-c3a4-4870-b8ba-37cd4cade867\\\\\\\\\\\\\\\", \\\\\\\\\\\\\\\"datasetType\\\\\\\\\\\\\\\": \\\\\\\\\\\\\\\"tabular\\\\\\\\\\\\\\\", \\\\\\\\\\\\\\\"subscriptionId\\\\\\\\\\\\\\\": \\\\\\\\\\\\\\\"5a4ab2ba-6c51-4805-8155-58759ad589d8\\\\\\\\\\\\\\\", \\\\\\\\\\\\\\\"workspaceId\\\\\\\\\\\\\\\": \\\\\\\\\\\\\\\"b80ee575-7924-47f1-9e41-6a888cb3ee3b\\\\\\\\\\\\\\\", \\\\\\\\\\\\\\\"workspaceLocation\\\\\\\\\\\\\\\": \\\\\\\\\\\\\\\"southcentralus\\\\\\\\\\\\\\\"}}\\\\\\\", \\\\\\\"activities\\\\\\\": 0}\", \"EnableSubsampling\": null, \"runTemplate\": \"AutoML\", \"azureml.runsource\": \"automl\", \"display_task_type\": \"classification\", \"dependencies_versions\": \"{\\\"azureml-widgets\\\": \\\"1.20.0\\\", \\\"azureml-train\\\": \\\"1.20.0\\\", \\\"azureml-train-restclients-hyperdrive\\\": \\\"1.20.0\\\", \\\"azureml-train-core\\\": \\\"1.20.0\\\", \\\"azureml-train-automl\\\": \\\"1.20.0\\\", \\\"azureml-train-automl-runtime\\\": \\\"1.20.0\\\", \\\"azureml-train-automl-client\\\": \\\"1.20.0\\\", \\\"azureml-tensorboard\\\": \\\"1.20.0\\\", \\\"azureml-telemetry\\\": \\\"1.20.0\\\", \\\"azureml-sdk\\\": \\\"1.20.0\\\", \\\"azureml-samples\\\": \\\"0+unknown\\\", \\\"azureml-pipeline\\\": \\\"1.20.0\\\", \\\"azureml-pipeline-steps\\\": \\\"1.20.0\\\", \\\"azureml-pipeline-core\\\": \\\"1.20.0\\\", \\\"azureml-opendatasets\\\": \\\"1.20.0\\\", \\\"azureml-model-management-sdk\\\": \\\"1.0.1b6.post1\\\", \\\"azureml-mlflow\\\": \\\"1.20.0.post1\\\", \\\"azureml-interpret\\\": \\\"1.20.0\\\", \\\"azureml-explain-model\\\": \\\"1.20.0\\\", \\\"azureml-defaults\\\": \\\"1.20.0\\\", \\\"azureml-dataset-runtime\\\": \\\"1.20.0\\\", \\\"azureml-dataprep\\\": \\\"2.7.3\\\", \\\"azureml-dataprep-rslex\\\": \\\"1.5.0\\\", \\\"azureml-dataprep-native\\\": \\\"27.0.0\\\", \\\"azureml-datadrift\\\": \\\"1.20.0\\\", \\\"azureml-core\\\": \\\"1.20.0\\\", \\\"azureml-contrib-services\\\": \\\"1.20.0\\\", \\\"azureml-contrib-server\\\": \\\"1.20.0\\\", \\\"azureml-contrib-reinforcementlearning\\\": \\\"1.20.0\\\", \\\"azureml-contrib-pipeline-steps\\\": \\\"1.20.0\\\", \\\"azureml-contrib-notebook\\\": \\\"1.20.0\\\", \\\"azureml-contrib-interpret\\\": \\\"1.20.0\\\", \\\"azureml-contrib-gbdt\\\": \\\"1.20.0\\\", \\\"azureml-contrib-fairness\\\": \\\"1.20.0\\\", \\\"azureml-contrib-dataset\\\": \\\"1.20.0\\\", \\\"azureml-cli-common\\\": \\\"1.20.0\\\", \\\"azureml-automl-runtime\\\": \\\"1.20.0\\\", \\\"azureml-automl-core\\\": \\\"1.20.0\\\", \\\"azureml-accel-models\\\": \\\"1.20.0\\\"}\", \"_aml_system_scenario_identification\": \"Remote.Parent\", \"ClientType\": \"SDK\", \"environment_cpu_name\": \"AzureML-AutoML\", \"environment_cpu_label\": \"prod\", \"environment_gpu_name\": \"AzureML-AutoML-GPU\", \"environment_gpu_label\": \"prod\", \"root_attribution\": \"automl\", \"attribution\": \"AutoML\", \"Orchestrator\": \"AutoML\", \"CancelUri\": \"https://southcentralus.experiments.azureml.net/jasmine/v1.0/subscriptions/5a4ab2ba-6c51-4805-8155-58759ad589d8/resourceGroups/aml-quickstarts-136719/providers/Microsoft.MachineLearningServices/workspaces/quick-starts-ws-136719/experimentids/dcae497c-1c9b-457a-9885-bd55ccb3b417/cancel/AutoML_da0a796e-f542-4147-bd85-5af3ab81a563\", \"ClientSdkVersion\": \"1.20.0.post1\", \"snapshotId\": \"00000000-0000-0000-0000-000000000000\", \"SetupRunId\": \"AutoML_da0a796e-f542-4147-bd85-5af3ab81a563_setup\", \"SetupRunContainerId\": \"dcid.AutoML_da0a796e-f542-4147-bd85-5af3ab81a563_setup\", \"FeaturizationRunJsonPath\": \"featurizer_container.json\", \"FeaturizationRunId\": \"AutoML_da0a796e-f542-4147-bd85-5af3ab81a563_featurize\", \"ProblemInfoJsonString\": \"{\\\"dataset_num_categorical\\\": 0, \\\"is_sparse\\\": true, \\\"subsampling\\\": false, \\\"dataset_classes\\\": 2, \\\"dataset_features\\\": 28, \\\"dataset_samples\\\": 212, \\\"single_frequency_class_detected\\\": false}\", \"ModelExplainRunId\": \"AutoML_da0a796e-f542-4147-bd85-5af3ab81a563_ModelExplain\", \"azureml.git.repository_uri\": \"https://github.com/bharati-21/AZMLND-Capstone-Project.git\", \"mlflow.source.git.repoURL\": \"https://github.com/bharati-21/AZMLND-Capstone-Project.git\", \"azureml.git.branch\": \"master\", \"mlflow.source.git.branch\": \"master\", \"azureml.git.commit\": \"0fcd5d2f1ce94c75eb96c4788b64d875db9b74fe\", \"mlflow.source.git.commit\": \"0fcd5d2f1ce94c75eb96c4788b64d875db9b74fe\", \"azureml.git.dirty\": \"True\"}, \"tags\": {\"model_explain_run\": \"best_run\", \"_aml_system_azureml.automlComponent\": \"AutoML\", \"pipeline_id\": \"\", \"score\": \"\", \"predicted_cost\": \"\", \"fit_time\": \"\", \"training_percent\": \"\", \"iteration\": \"\", \"run_preprocessor\": \"\", \"run_algorithm\": \"\", \"dynamic_whitelisting_iterations\": \"<25>;\", \"automl_best_child_run_id\": \"AutoML_da0a796e-f542-4147-bd85-5af3ab81a563_29\", \"model_explain_best_run_child_id\": \"AutoML_da0a796e-f542-4147-bd85-5af3ab81a563_29\"}, \"end_time_utc\": \"2021-01-31T14:45:52.233338Z\", \"status\": \"Completed\", \"log_files\": {}, \"log_groups\": [], \"run_duration\": \"0:41:57\"}, \"child_runs\": [{\"run_id\": \"AutoML_da0a796e-f542-4147-bd85-5af3ab81a563_0\", \"run_number\": 7, \"metric\": null, \"status\": \"Completed\", \"run_type\": \"azureml.scriptrun\", \"training_percent\": \"100\", \"start_time\": \"2021-01-31T14:12:26.167432Z\", \"end_time\": \"2021-01-31T14:13:15.408208Z\", \"created_time\": \"2021-01-31T14:12:12.544782Z\", \"created_time_dt\": \"2021-01-31T14:12:12.544782Z\", \"duration\": \"0:01:02\", \"iteration\": \"0\", \"goal\": \"accuracy_max\", \"run_name\": \"MaxAbsScaler, LightGBM\", \"run_properties\": \"copy=True\", \"primary_metric\": 0.84872647, \"best_metric\": 0.84872647}, {\"run_id\": \"AutoML_da0a796e-f542-4147-bd85-5af3ab81a563_1\", \"run_number\": 8, \"metric\": null, \"status\": \"Completed\", \"run_type\": \"azureml.scriptrun\", \"training_percent\": \"100\", \"start_time\": \"2021-01-31T14:13:29.562561Z\", \"end_time\": \"2021-01-31T14:14:15.748424Z\", \"created_time\": \"2021-01-31T14:13:16.995749Z\", \"created_time_dt\": \"2021-01-31T14:13:16.995749Z\", \"duration\": \"0:00:58\", \"iteration\": \"1\", \"goal\": \"accuracy_max\", \"run_name\": \"MaxAbsScaler, XGBoostClassifier\", \"run_properties\": \"copy=True\", \"primary_metric\": 0.84385382, \"best_metric\": 0.84872647}, {\"run_id\": \"AutoML_da0a796e-f542-4147-bd85-5af3ab81a563_2\", \"run_number\": 9, \"metric\": null, \"status\": \"Completed\", \"run_type\": \"azureml.scriptrun\", \"training_percent\": \"100\", \"start_time\": \"2021-01-31T14:14:29.116337Z\", \"end_time\": \"2021-01-31T14:15:22.398519Z\", \"created_time\": \"2021-01-31T14:14:17.981418Z\", \"created_time_dt\": \"2021-01-31T14:14:17.981418Z\", \"duration\": \"0:01:04\", \"iteration\": \"2\", \"goal\": \"accuracy_max\", \"run_name\": \"MaxAbsScaler, RandomForest\", \"run_properties\": \"copy=True\", \"primary_metric\": 0.81096346, \"best_metric\": 0.84872647}, {\"run_id\": \"AutoML_da0a796e-f542-4147-bd85-5af3ab81a563_3\", \"run_number\": 10, \"metric\": null, \"status\": \"Completed\", \"run_type\": \"azureml.scriptrun\", \"training_percent\": \"100\", \"start_time\": \"2021-01-31T14:15:38.126778Z\", \"end_time\": \"2021-01-31T14:16:29.949218Z\", \"created_time\": \"2021-01-31T14:15:26.685392Z\", \"created_time_dt\": \"2021-01-31T14:15:26.685392Z\", \"duration\": \"0:01:03\", \"iteration\": \"3\", \"goal\": \"accuracy_max\", \"run_name\": \"MaxAbsScaler, RandomForest\", \"run_properties\": \"copy=True\", \"primary_metric\": 0.83466224, \"best_metric\": 0.84872647}, {\"run_id\": \"AutoML_da0a796e-f542-4147-bd85-5af3ab81a563_4\", \"run_number\": 11, \"metric\": null, \"status\": \"Completed\", \"run_type\": \"azureml.scriptrun\", \"training_percent\": \"100\", \"start_time\": \"2021-01-31T14:16:43.856607Z\", \"end_time\": \"2021-01-31T14:17:33.079678Z\", \"created_time\": \"2021-01-31T14:16:31.985204Z\", \"created_time_dt\": \"2021-01-31T14:16:31.985204Z\", \"duration\": \"0:01:01\", \"iteration\": \"4\", \"goal\": \"accuracy_max\", \"run_name\": \"MaxAbsScaler, RandomForest\", \"run_properties\": \"copy=True\", \"primary_metric\": 0.82070875, \"best_metric\": 0.84872647}, {\"run_id\": \"AutoML_da0a796e-f542-4147-bd85-5af3ab81a563_5\", \"run_number\": 12, \"metric\": null, \"status\": \"Completed\", \"run_type\": \"azureml.scriptrun\", \"training_percent\": \"100\", \"start_time\": \"2021-01-31T14:17:44.910375Z\", \"end_time\": \"2021-01-31T14:18:38.077032Z\", \"created_time\": \"2021-01-31T14:17:34.988157Z\", \"created_time_dt\": \"2021-01-31T14:17:34.988157Z\", \"duration\": \"0:01:03\", \"iteration\": \"5\", \"goal\": \"accuracy_max\", \"run_name\": \"MaxAbsScaler, RandomForest\", \"run_properties\": \"copy=True\", \"primary_metric\": 0.81096346, \"best_metric\": 0.84872647}, {\"run_id\": \"AutoML_da0a796e-f542-4147-bd85-5af3ab81a563_6\", \"run_number\": 13, \"metric\": null, \"status\": \"Completed\", \"run_type\": \"azureml.scriptrun\", \"training_percent\": \"100\", \"start_time\": \"2021-01-31T14:18:55.569667Z\", \"end_time\": \"2021-01-31T14:19:44.818562Z\", \"created_time\": \"2021-01-31T14:18:41.514537Z\", \"created_time_dt\": \"2021-01-31T14:18:41.514537Z\", \"duration\": \"0:01:03\", \"iteration\": \"6\", \"goal\": \"accuracy_max\", \"run_name\": \"SparseNormalizer, XGBoostClassifier\", \"run_properties\": \"<azureml.automl.runtime.shared.model_wrappers.SparseNormalizer object at 0x7f59453d89b0\", \"primary_metric\": 0.82990033, \"best_metric\": 0.84872647}, {\"run_id\": \"AutoML_da0a796e-f542-4147-bd85-5af3ab81a563_7\", \"run_number\": 14, \"metric\": null, \"status\": \"Completed\", \"run_type\": \"azureml.scriptrun\", \"training_percent\": \"100\", \"start_time\": \"2021-01-31T14:19:59.315977Z\", \"end_time\": \"2021-01-31T14:20:48.283609Z\", \"created_time\": \"2021-01-31T14:19:47.064243Z\", \"created_time_dt\": \"2021-01-31T14:19:47.064243Z\", \"duration\": \"0:01:01\", \"iteration\": \"7\", \"goal\": \"accuracy_max\", \"run_name\": \"MaxAbsScaler, RandomForest\", \"run_properties\": \"copy=True\", \"primary_metric\": 0.7923588, \"best_metric\": 0.84872647}, {\"run_id\": \"AutoML_da0a796e-f542-4147-bd85-5af3ab81a563_8\", \"run_number\": 15, \"metric\": null, \"status\": \"Completed\", \"run_type\": \"azureml.scriptrun\", \"training_percent\": \"100\", \"start_time\": \"2021-01-31T14:21:03.132593Z\", \"end_time\": \"2021-01-31T14:22:02.780237Z\", \"created_time\": \"2021-01-31T14:20:50.634425Z\", \"created_time_dt\": \"2021-01-31T14:20:50.634425Z\", \"duration\": \"0:01:12\", \"iteration\": \"8\", \"goal\": \"accuracy_max\", \"run_name\": \"SparseNormalizer, LightGBM\", \"run_properties\": \"<azureml.automl.runtime.shared.model_wrappers.SparseNormalizer object at 0x7f77440c3d30\", \"primary_metric\": 0.81096346, \"best_metric\": 0.84872647}, {\"run_id\": \"AutoML_da0a796e-f542-4147-bd85-5af3ab81a563_9\", \"run_number\": 16, \"metric\": null, \"status\": \"Completed\", \"run_type\": \"azureml.scriptrun\", \"training_percent\": \"100\", \"start_time\": \"2021-01-31T14:22:18.847803Z\", \"end_time\": \"2021-01-31T14:23:07.674504Z\", \"created_time\": \"2021-01-31T14:22:05.580195Z\", \"created_time_dt\": \"2021-01-31T14:22:05.580195Z\", \"duration\": \"0:01:02\", \"iteration\": \"9\", \"goal\": \"accuracy_max\", \"run_name\": \"MaxAbsScaler, LogisticRegression\", \"run_properties\": \"copy=True\", \"primary_metric\": 0.85359911, \"best_metric\": 0.85359911}, {\"run_id\": \"AutoML_da0a796e-f542-4147-bd85-5af3ab81a563_10\", \"run_number\": 17, \"metric\": null, \"status\": \"Completed\", \"run_type\": \"azureml.scriptrun\", \"training_percent\": \"100\", \"start_time\": \"2021-01-31T14:23:23.083126Z\", \"end_time\": \"2021-01-31T14:24:18.276506Z\", \"created_time\": \"2021-01-31T14:23:10.061698Z\", \"created_time_dt\": \"2021-01-31T14:23:10.061698Z\", \"duration\": \"0:01:08\", \"iteration\": \"10\", \"goal\": \"accuracy_max\", \"run_name\": \"SparseNormalizer, XGBoostClassifier\", \"run_properties\": \"<azureml.automl.runtime.shared.model_wrappers.SparseNormalizer object at 0x7f59f9652e10\", \"primary_metric\": 0.81550388, \"best_metric\": 0.85359911}, {\"run_id\": \"AutoML_da0a796e-f542-4147-bd85-5af3ab81a563_11\", \"run_number\": 18, \"metric\": null, \"status\": \"Completed\", \"run_type\": \"azureml.scriptrun\", \"training_percent\": \"100\", \"start_time\": \"2021-01-31T14:24:35.223534Z\", \"end_time\": \"2021-01-31T14:25:21.304099Z\", \"created_time\": \"2021-01-31T14:24:20.864737Z\", \"created_time_dt\": \"2021-01-31T14:24:20.864737Z\", \"duration\": \"0:01:00\", \"iteration\": \"11\", \"goal\": \"accuracy_max\", \"run_name\": \"MaxAbsScaler, LightGBM\", \"run_properties\": \"copy=True\", \"primary_metric\": 0.80642303, \"best_metric\": 0.85359911}, {\"run_id\": \"AutoML_da0a796e-f542-4147-bd85-5af3ab81a563_12\", \"run_number\": 19, \"metric\": null, \"status\": \"Completed\", \"run_type\": \"azureml.scriptrun\", \"training_percent\": \"100\", \"start_time\": \"2021-01-31T14:25:39.17332Z\", \"end_time\": \"2021-01-31T14:26:25.229126Z\", \"created_time\": \"2021-01-31T14:25:24.250486Z\", \"created_time_dt\": \"2021-01-31T14:25:24.250486Z\", \"duration\": \"0:01:00\", \"iteration\": \"12\", \"goal\": \"accuracy_max\", \"run_name\": \"StandardScalerWrapper, LightGBM\", \"run_properties\": \"<azureml.automl.runtime.shared.model_wrappers.StandardScalerWrapper object at 0x7f55268d2400\", \"primary_metric\": 0.85348837, \"best_metric\": 0.85359911}, {\"run_id\": \"AutoML_da0a796e-f542-4147-bd85-5af3ab81a563_13\", \"run_number\": 20, \"metric\": null, \"status\": \"Completed\", \"run_type\": \"azureml.scriptrun\", \"training_percent\": \"100\", \"start_time\": \"2021-01-31T14:26:37.524245Z\", \"end_time\": \"2021-01-31T14:27:22.539668Z\", \"created_time\": \"2021-01-31T14:26:27.406223Z\", \"created_time_dt\": \"2021-01-31T14:26:27.406223Z\", \"duration\": \"0:00:55\", \"iteration\": \"13\", \"goal\": \"accuracy_max\", \"run_name\": \"MaxAbsScaler, LogisticRegression\", \"run_properties\": \"copy=True\", \"primary_metric\": 0.83466224, \"best_metric\": 0.85359911}, {\"run_id\": \"AutoML_da0a796e-f542-4147-bd85-5af3ab81a563_14\", \"run_number\": 21, \"metric\": null, \"status\": \"Completed\", \"run_type\": \"azureml.scriptrun\", \"training_percent\": \"100\", \"start_time\": \"2021-01-31T14:27:37.128362Z\", \"end_time\": \"2021-01-31T14:28:27.432414Z\", \"created_time\": \"2021-01-31T14:27:25.634126Z\", \"created_time_dt\": \"2021-01-31T14:27:25.634126Z\", \"duration\": \"0:01:01\", \"iteration\": \"14\", \"goal\": \"accuracy_max\", \"run_name\": \"MaxAbsScaler, ExtremeRandomTrees\", \"run_properties\": \"copy=True\", \"primary_metric\": 0.82967885, \"best_metric\": 0.85359911}, {\"run_id\": \"AutoML_da0a796e-f542-4147-bd85-5af3ab81a563_15\", \"run_number\": 22, \"metric\": null, \"status\": \"Completed\", \"run_type\": \"azureml.scriptrun\", \"training_percent\": \"100\", \"start_time\": \"2021-01-31T14:28:43.594001Z\", \"end_time\": \"2021-01-31T14:30:04.594464Z\", \"created_time\": \"2021-01-31T14:28:30.246248Z\", \"created_time_dt\": \"2021-01-31T14:28:30.246248Z\", \"duration\": \"0:01:34\", \"iteration\": \"15\", \"goal\": \"accuracy_max\", \"run_name\": \"MaxAbsScaler, LightGBM\", \"run_properties\": \"copy=True\", \"primary_metric\": 0.83477298, \"best_metric\": 0.85359911}, {\"run_id\": \"AutoML_da0a796e-f542-4147-bd85-5af3ab81a563_16\", \"run_number\": 23, \"metric\": null, \"status\": \"Completed\", \"run_type\": \"azureml.scriptrun\", \"training_percent\": \"100\", \"start_time\": \"2021-01-31T14:30:19.925681Z\", \"end_time\": \"2021-01-31T14:31:09.583969Z\", \"created_time\": \"2021-01-31T14:30:06.417784Z\", \"created_time_dt\": \"2021-01-31T14:30:06.417784Z\", \"duration\": \"0:01:03\", \"iteration\": \"16\", \"goal\": \"accuracy_max\", \"run_name\": \"MaxAbsScaler, LightGBM\", \"run_properties\": \"copy=True\", \"primary_metric\": 0.77375415, \"best_metric\": 0.85359911}, {\"run_id\": \"AutoML_da0a796e-f542-4147-bd85-5af3ab81a563_17\", \"run_number\": 24, \"metric\": null, \"status\": \"Completed\", \"run_type\": \"azureml.scriptrun\", \"training_percent\": \"100\", \"start_time\": \"2021-01-31T14:31:25.903328Z\", \"end_time\": \"2021-01-31T14:32:12.258426Z\", \"created_time\": \"2021-01-31T14:31:12.52549Z\", \"created_time_dt\": \"2021-01-31T14:31:12.52549Z\", \"duration\": \"0:00:59\", \"iteration\": \"17\", \"goal\": \"accuracy_max\", \"run_name\": \"SparseNormalizer, XGBoostClassifier\", \"run_properties\": \"<azureml.automl.runtime.shared.model_wrappers.SparseNormalizer object at 0x7f2d9d4baac8\", \"primary_metric\": 0.83444075, \"best_metric\": 0.85359911}, {\"run_id\": \"AutoML_da0a796e-f542-4147-bd85-5af3ab81a563_18\", \"run_number\": 25, \"metric\": null, \"status\": \"Completed\", \"run_type\": \"azureml.scriptrun\", \"training_percent\": \"100\", \"start_time\": \"2021-01-31T14:32:25.479573Z\", \"end_time\": \"2021-01-31T14:33:15.73933Z\", \"created_time\": \"2021-01-31T14:32:14.570033Z\", \"created_time_dt\": \"2021-01-31T14:32:14.570033Z\", \"duration\": \"0:01:01\", \"iteration\": \"18\", \"goal\": \"accuracy_max\", \"run_name\": \"StandardScalerWrapper, ExtremeRandomTrees\", \"run_properties\": \"<azureml.automl.runtime.shared.model_wrappers.StandardScalerWrapper object at 0x7f313c77b240\", \"primary_metric\": 0.80620155, \"best_metric\": 0.85359911}, {\"run_id\": \"AutoML_da0a796e-f542-4147-bd85-5af3ab81a563_19\", \"run_number\": 26, \"metric\": null, \"status\": \"Completed\", \"run_type\": \"azureml.scriptrun\", \"training_percent\": \"100\", \"start_time\": \"2021-01-31T14:33:30.326335Z\", \"end_time\": \"2021-01-31T14:34:17.914782Z\", \"created_time\": \"2021-01-31T14:33:17.673434Z\", \"created_time_dt\": \"2021-01-31T14:33:17.673434Z\", \"duration\": \"0:01:00\", \"iteration\": \"19\", \"goal\": \"accuracy_max\", \"run_name\": \"SparseNormalizer, XGBoostClassifier\", \"run_properties\": \"<azureml.automl.runtime.shared.model_wrappers.SparseNormalizer object at 0x7f13ef19b6d8\", \"primary_metric\": 0.80609081, \"best_metric\": 0.85359911}, {\"run_id\": \"AutoML_da0a796e-f542-4147-bd85-5af3ab81a563_20\", \"run_number\": 27, \"metric\": null, \"status\": \"Completed\", \"run_type\": \"azureml.scriptrun\", \"training_percent\": \"100\", \"start_time\": \"2021-01-31T14:34:32.287596Z\", \"end_time\": \"2021-01-31T14:35:18.115858Z\", \"created_time\": \"2021-01-31T14:34:20.117878Z\", \"created_time_dt\": \"2021-01-31T14:34:20.117878Z\", \"duration\": \"0:00:57\", \"iteration\": \"20\", \"goal\": \"accuracy_max\", \"run_name\": \"SparseNormalizer, LightGBM\", \"run_properties\": \"<azureml.automl.runtime.shared.model_wrappers.SparseNormalizer object at 0x7f6daecbca90\", \"primary_metric\": 0.82037652, \"best_metric\": 0.85359911}, {\"run_id\": \"AutoML_da0a796e-f542-4147-bd85-5af3ab81a563_21\", \"run_number\": 28, \"metric\": null, \"status\": \"Completed\", \"run_type\": \"azureml.scriptrun\", \"training_percent\": \"100\", \"start_time\": \"2021-01-31T14:35:32.578007Z\", \"end_time\": \"2021-01-31T14:36:24.354671Z\", \"created_time\": \"2021-01-31T14:35:20.659162Z\", \"created_time_dt\": \"2021-01-31T14:35:20.659162Z\", \"duration\": \"0:01:03\", \"iteration\": \"21\", \"goal\": \"accuracy_max\", \"run_name\": \"StandardScalerWrapper, XGBoostClassifier\", \"run_properties\": \"<azureml.automl.runtime.shared.model_wrappers.StandardScalerWrapper object at 0x7f4da03a45c0\", \"primary_metric\": 0.80166113, \"best_metric\": 0.85359911}, {\"run_id\": \"AutoML_da0a796e-f542-4147-bd85-5af3ab81a563_22\", \"run_number\": 29, \"metric\": null, \"status\": \"Completed\", \"run_type\": \"azureml.scriptrun\", \"training_percent\": \"100\", \"start_time\": \"2021-01-31T14:36:39.231051Z\", \"end_time\": \"2021-01-31T14:37:28.935125Z\", \"created_time\": \"2021-01-31T14:36:27.101435Z\", \"created_time_dt\": \"2021-01-31T14:36:27.101435Z\", \"duration\": \"0:01:01\", \"iteration\": \"22\", \"goal\": \"accuracy_max\", \"run_name\": \"MaxAbsScaler, ExtremeRandomTrees\", \"run_properties\": \"copy=True\", \"primary_metric\": 0.82967885, \"best_metric\": 0.85359911}, {\"run_id\": \"AutoML_da0a796e-f542-4147-bd85-5af3ab81a563_23\", \"run_number\": 30, \"metric\": null, \"status\": \"Completed\", \"run_type\": \"azureml.scriptrun\", \"training_percent\": \"100\", \"start_time\": \"2021-01-31T14:37:42.441537Z\", \"end_time\": \"2021-01-31T14:38:30.466567Z\", \"created_time\": \"2021-01-31T14:37:31.480941Z\", \"created_time_dt\": \"2021-01-31T14:37:31.480941Z\", \"duration\": \"0:00:58\", \"iteration\": \"23\", \"goal\": \"accuracy_max\", \"run_name\": \"MaxAbsScaler, LightGBM\", \"run_properties\": \"copy=True\", \"primary_metric\": 0.78305648, \"best_metric\": 0.85359911}, {\"run_id\": \"AutoML_da0a796e-f542-4147-bd85-5af3ab81a563_24\", \"run_number\": 31, \"metric\": null, \"status\": \"Completed\", \"run_type\": \"azureml.scriptrun\", \"training_percent\": \"100\", \"start_time\": \"2021-01-31T14:38:45.532553Z\", \"end_time\": \"2021-01-31T14:39:30.27719Z\", \"created_time\": \"2021-01-31T14:38:32.831507Z\", \"created_time_dt\": \"2021-01-31T14:38:32.831507Z\", \"duration\": \"0:00:57\", \"iteration\": \"24\", \"goal\": \"accuracy_max\", \"run_name\": \"MaxAbsScaler, ExtremeRandomTrees\", \"run_properties\": \"copy=True\", \"primary_metric\": 0.79224806, \"best_metric\": 0.85359911}, {\"run_id\": \"AutoML_da0a796e-f542-4147-bd85-5af3ab81a563_25\", \"run_number\": 32, \"metric\": null, \"status\": \"Completed\", \"run_type\": \"azureml.scriptrun\", \"training_percent\": \"100\", \"start_time\": \"2021-01-31T14:39:44.58885Z\", \"end_time\": \"2021-01-31T14:40:35.414615Z\", \"created_time\": \"2021-01-31T14:39:33.712582Z\", \"created_time_dt\": \"2021-01-31T14:39:33.712582Z\", \"duration\": \"0:01:01\", \"iteration\": \"25\", \"goal\": \"accuracy_max\", \"run_name\": \"MaxAbsScaler, LogisticRegression\", \"run_properties\": \"copy=True\", \"primary_metric\": 0.83466224, \"best_metric\": 0.85359911}, {\"run_id\": \"AutoML_da0a796e-f542-4147-bd85-5af3ab81a563_26\", \"run_number\": 33, \"metric\": null, \"status\": \"Completed\", \"run_type\": \"azureml.scriptrun\", \"training_percent\": \"100\", \"start_time\": \"2021-01-31T14:40:50.00202Z\", \"end_time\": \"2021-01-31T14:41:42.137629Z\", \"created_time\": \"2021-01-31T14:40:37.704317Z\", \"created_time_dt\": \"2021-01-31T14:40:37.704317Z\", \"duration\": \"0:01:04\", \"iteration\": \"26\", \"goal\": \"accuracy_max\", \"run_name\": \"MaxAbsScaler, LogisticRegression\", \"run_properties\": \"copy=True\", \"primary_metric\": 0.83466224, \"best_metric\": 0.85359911}, {\"run_id\": \"AutoML_da0a796e-f542-4147-bd85-5af3ab81a563_27\", \"run_number\": 34, \"metric\": null, \"status\": \"Completed\", \"run_type\": \"azureml.scriptrun\", \"training_percent\": \"100\", \"start_time\": \"2021-01-31T14:41:57.212534Z\", \"end_time\": \"2021-01-31T14:42:47.607688Z\", \"created_time\": \"2021-01-31T14:41:44.390768Z\", \"created_time_dt\": \"2021-01-31T14:41:44.390768Z\", \"duration\": \"0:01:03\", \"iteration\": \"27\", \"goal\": \"accuracy_max\", \"run_name\": \"SparseNormalizer, XGBoostClassifier\", \"run_properties\": \"<azureml.automl.runtime.shared.model_wrappers.SparseNormalizer object at 0x7f78fde07908\", \"primary_metric\": 0.83466224, \"best_metric\": 0.85359911}, {\"run_id\": \"AutoML_da0a796e-f542-4147-bd85-5af3ab81a563_28\", \"run_number\": 35, \"metric\": null, \"status\": \"Completed\", \"run_type\": \"azureml.scriptrun\", \"training_percent\": \"100\", \"start_time\": \"2021-01-31T14:43:00.262435Z\", \"end_time\": \"2021-01-31T14:44:14.33668Z\", \"created_time\": \"2021-01-31T14:42:48.372411Z\", \"created_time_dt\": \"2021-01-31T14:42:48.372411Z\", \"duration\": \"0:01:25\", \"iteration\": \"28\", \"goal\": \"accuracy_max\", \"run_name\": \"VotingEnsemble\", \"run_properties\": \"classification_labels=None,\\n                              estimators=[('9',\\n                                           Pipeline(memory=None,\\n                                                    steps=[('maxabsscaler',\\n                                                            MaxAbsScaler(copy=True\", \"primary_metric\": 0.85813953, \"best_metric\": 0.85813953}, {\"run_id\": \"AutoML_da0a796e-f542-4147-bd85-5af3ab81a563_29\", \"run_number\": 36, \"metric\": null, \"status\": \"Completed\", \"run_type\": \"azureml.scriptrun\", \"training_percent\": \"100\", \"start_time\": \"2021-01-31T14:44:26.198889Z\", \"end_time\": \"2021-01-31T14:45:38.94047Z\", \"created_time\": \"2021-01-31T14:44:15.274902Z\", \"created_time_dt\": \"2021-01-31T14:44:15.274902Z\", \"duration\": \"0:01:23\", \"iteration\": \"29\", \"goal\": \"accuracy_max\", \"run_name\": \"StackEnsemble\", \"run_properties\": \"base_learners=[('9',\\n                                        Pipeline(memory=None,\\n                                                 steps=[('maxabsscaler',\\n                                                         MaxAbsScaler(copy=True\", \"primary_metric\": 0.86312292, \"best_metric\": 0.86312292}], \"children_metrics\": {\"categories\": [0], \"series\": {\"precision_score_micro\": [{\"categories\": [\"0\", \"1\", \"2\", \"3\", \"4\", \"5\", \"6\", \"7\", \"8\", \"9\", \"10\", \"11\", \"12\", \"13\", \"14\", \"15\", \"16\", \"17\", \"18\", \"19\", \"20\", \"21\", \"22\", \"23\", \"24\", \"25\", \"26\", \"27\", \"28\", \"29\"], \"mode\": \"markers\", \"name\": \"precision_score_micro\", \"stepped\": false, \"type\": \"scatter\", \"data\": [0.8487264673311186, 0.8438538205980066, 0.8109634551495016, 0.8346622369878185, 0.8207087486157254, 0.8109634551495016, 0.8299003322259135, 0.7923588039867109, 0.8109634551495016, 0.8535991140642304, 0.8155038759689923, 0.8064230343300111, 0.8534883720930233, 0.8346622369878183, 0.8296788482834995, 0.8347729789590256, 0.7737541528239202, 0.8344407530454042, 0.8062015503875969, 0.8060908084163898, 0.820376522702104, 0.8016611295681063, 0.8296788482834995, 0.7830564784053156, 0.7922480620155039, 0.8346622369878183, 0.8346622369878183, 0.8346622369878185, 0.8581395348837211, 0.8631229235880399]}, {\"categories\": [\"0\", \"1\", \"2\", \"3\", \"4\", \"5\", \"6\", \"7\", \"8\", \"9\", \"10\", \"11\", \"12\", \"13\", \"14\", \"15\", \"16\", \"17\", \"18\", \"19\", \"20\", \"21\", \"22\", \"23\", \"24\", \"25\", \"26\", \"27\", \"28\", \"29\"], \"mode\": \"lines\", \"name\": \"precision_score_micro_max\", \"stepped\": true, \"type\": \"scatter\", \"data\": [0.8487264673311186, 0.8487264673311186, 0.8487264673311186, 0.8487264673311186, 0.8487264673311186, 0.8487264673311186, 0.8487264673311186, 0.8487264673311186, 0.8487264673311186, 0.8535991140642304, 0.8535991140642304, 0.8535991140642304, 0.8535991140642304, 0.8535991140642304, 0.8535991140642304, 0.8535991140642304, 0.8535991140642304, 0.8535991140642304, 0.8535991140642304, 0.8535991140642304, 0.8535991140642304, 0.8535991140642304, 0.8535991140642304, 0.8535991140642304, 0.8535991140642304, 0.8535991140642304, 0.8535991140642304, 0.8535991140642304, 0.8581395348837211, 0.8631229235880399]}], \"log_loss\": [{\"categories\": [\"0\", \"1\", \"2\", \"3\", \"4\", \"5\", \"6\", \"7\", \"8\", \"9\", \"10\", \"11\", \"12\", \"13\", \"14\", \"15\", \"16\", \"17\", \"18\", \"19\", \"20\", \"21\", \"22\", \"23\", \"24\", \"25\", \"26\", \"27\", \"28\", \"29\"], \"mode\": \"markers\", \"name\": \"log_loss\", \"stepped\": false, \"type\": \"scatter\", \"data\": [0.38321963803683345, 0.3613305130067738, 0.35075124483443487, 0.3679219295837691, 0.36849432249875097, 0.4219011928332309, 0.38132438277151404, 0.38379931431297426, 0.3721141954265791, 0.34334817219203306, 0.3814151883321069, 0.3786698743431502, 0.32415843909924236, 0.3984302503520932, 0.3324211723425621, 0.3519576714631262, 0.43037298906126276, 0.3963140528479006, 0.34009428824933013, 0.3771613472740764, 0.3808487819880415, 0.45393710882812377, 0.3412197926287613, 0.40235998638578874, 0.4373241249318213, 0.34326450576175693, 0.3998220836366696, 0.3751814175473161, 0.3269056605541375, 0.3481449445123371]}, {\"categories\": [\"0\", \"1\", \"2\", \"3\", \"4\", \"5\", \"6\", \"7\", \"8\", \"9\", \"10\", \"11\", \"12\", \"13\", \"14\", \"15\", \"16\", \"17\", \"18\", \"19\", \"20\", \"21\", \"22\", \"23\", \"24\", \"25\", \"26\", \"27\", \"28\", \"29\"], \"mode\": \"lines\", \"name\": \"log_loss_min\", \"stepped\": true, \"type\": \"scatter\", \"data\": [0.38321963803683345, 0.3613305130067738, 0.35075124483443487, 0.35075124483443487, 0.35075124483443487, 0.35075124483443487, 0.35075124483443487, 0.35075124483443487, 0.35075124483443487, 0.34334817219203306, 0.34334817219203306, 0.34334817219203306, 0.32415843909924236, 0.32415843909924236, 0.32415843909924236, 0.32415843909924236, 0.32415843909924236, 0.32415843909924236, 0.32415843909924236, 0.32415843909924236, 0.32415843909924236, 0.32415843909924236, 0.32415843909924236, 0.32415843909924236, 0.32415843909924236, 0.32415843909924236, 0.32415843909924236, 0.32415843909924236, 0.32415843909924236, 0.32415843909924236]}], \"recall_score_macro\": [{\"categories\": [\"0\", \"1\", \"2\", \"3\", \"4\", \"5\", \"6\", \"7\", \"8\", \"9\", \"10\", \"11\", \"12\", \"13\", \"14\", \"15\", \"16\", \"17\", \"18\", \"19\", \"20\", \"21\", \"22\", \"23\", \"24\", \"25\", \"26\", \"27\", \"28\", \"29\"], \"mode\": \"markers\", \"name\": \"recall_score_macro\", \"stepped\": false, \"type\": \"scatter\", \"data\": [0.7724910873440287, 0.7824855169340463, 0.7006428253119429, 0.6899075311942959, 0.7470499108734402, 0.7910728609625669, 0.7343092691622104, 0.5707653743315508, 0.6976860516934046, 0.7763413547237076, 0.6879645721925133, 0.6445666221033868, 0.7461575311942958, 0.7432163547237076, 0.7309893048128343, 0.7407163547237077, 0.5125, 0.7362466577540107, 0.6809001782531194, 0.6896824866310161, 0.7049342691622104, 0.6989572192513369, 0.7170554812834224, 0.5587332887700536, 0.7742981283422459, 0.7061575311942959, 0.7432163547237076, 0.7278754456327986, 0.768998440285205, 0.7850913547237076]}, {\"categories\": [\"0\", \"1\", \"2\", \"3\", \"4\", \"5\", \"6\", \"7\", \"8\", \"9\", \"10\", \"11\", \"12\", \"13\", \"14\", \"15\", \"16\", \"17\", \"18\", \"19\", \"20\", \"21\", \"22\", \"23\", \"24\", \"25\", \"26\", \"27\", \"28\", \"29\"], \"mode\": \"lines\", \"name\": \"recall_score_macro_max\", \"stepped\": true, \"type\": \"scatter\", \"data\": [0.7724910873440287, 0.7824855169340463, 0.7824855169340463, 0.7824855169340463, 0.7824855169340463, 0.7910728609625669, 0.7910728609625669, 0.7910728609625669, 0.7910728609625669, 0.7910728609625669, 0.7910728609625669, 0.7910728609625669, 0.7910728609625669, 0.7910728609625669, 0.7910728609625669, 0.7910728609625669, 0.7910728609625669, 0.7910728609625669, 0.7910728609625669, 0.7910728609625669, 0.7910728609625669, 0.7910728609625669, 0.7910728609625669, 0.7910728609625669, 0.7910728609625669, 0.7910728609625669, 0.7910728609625669, 0.7910728609625669, 0.7910728609625669, 0.7910728609625669]}], \"norm_macro_recall\": [{\"categories\": [\"0\", \"1\", \"2\", \"3\", \"4\", \"5\", \"6\", \"7\", \"8\", \"9\", \"10\", \"11\", \"12\", \"13\", \"14\", \"15\", \"16\", \"17\", \"18\", \"19\", \"20\", \"21\", \"22\", \"23\", \"24\", \"25\", \"26\", \"27\", \"28\", \"29\"], \"mode\": \"markers\", \"name\": \"norm_macro_recall\", \"stepped\": false, \"type\": \"scatter\", \"data\": [0.5449821746880571, 0.5649710338680928, 0.4012856506238858, 0.37981506238859175, 0.4940998217468806, 0.5821457219251338, 0.4686185383244207, 0.1415307486631016, 0.3953721033868093, 0.5526827094474153, 0.3884291443850268, 0.28913324420677355, 0.4923150623885918, 0.48643270944741523, 0.4619786096256685, 0.48143270944741534, 0.025, 0.47249331550802137, 0.3618003565062388, 0.3793649732620321, 0.4098685383244208, 0.3979144385026737, 0.434110962566845, 0.11746657754010696, 0.548596256684492, 0.4123150623885918, 0.48643270944741523, 0.45575089126559715, 0.53799688057041, 0.5701827094474152]}, {\"categories\": [\"0\", \"1\", \"2\", \"3\", \"4\", \"5\", \"6\", \"7\", \"8\", \"9\", \"10\", \"11\", \"12\", \"13\", \"14\", \"15\", \"16\", \"17\", \"18\", \"19\", \"20\", \"21\", \"22\", \"23\", \"24\", \"25\", \"26\", \"27\", \"28\", \"29\"], \"mode\": \"lines\", \"name\": \"norm_macro_recall_max\", \"stepped\": true, \"type\": \"scatter\", \"data\": [0.5449821746880571, 0.5649710338680928, 0.5649710338680928, 0.5649710338680928, 0.5649710338680928, 0.5821457219251338, 0.5821457219251338, 0.5821457219251338, 0.5821457219251338, 0.5821457219251338, 0.5821457219251338, 0.5821457219251338, 0.5821457219251338, 0.5821457219251338, 0.5821457219251338, 0.5821457219251338, 0.5821457219251338, 0.5821457219251338, 0.5821457219251338, 0.5821457219251338, 0.5821457219251338, 0.5821457219251338, 0.5821457219251338, 0.5821457219251338, 0.5821457219251338, 0.5821457219251338, 0.5821457219251338, 0.5821457219251338, 0.5821457219251338, 0.5821457219251338]}], \"f1_score_weighted\": [{\"categories\": [\"0\", \"1\", \"2\", \"3\", \"4\", \"5\", \"6\", \"7\", \"8\", \"9\", \"10\", \"11\", \"12\", \"13\", \"14\", \"15\", \"16\", \"17\", \"18\", \"19\", \"20\", \"21\", \"22\", \"23\", \"24\", \"25\", \"26\", \"27\", \"28\", \"29\"], \"mode\": \"markers\", \"name\": \"f1_score_weighted\", \"stepped\": false, \"type\": \"scatter\", \"data\": [0.8468346128688845, 0.8447997229918712, 0.8016560441277315, 0.8160116519215016, 0.8189328237059368, 0.8194179983251498, 0.8249732424101947, 0.7337864681855943, 0.8028376055279722, 0.850851101697009, 0.7963152663484612, 0.7804552553851732, 0.8447884428904802, 0.8287708832149967, 0.8253935073595429, 0.8300180009482336, 0.679137408434838, 0.8278799135974271, 0.7935182664076433, 0.7970978471266468, 0.8111735823646624, 0.7973887934505633, 0.8210744845418709, 0.7229159608788435, 0.8018005527833955, 0.8201275820001646, 0.8287708832149967, 0.8270121094026222, 0.8535360018117408, 0.8584539832166744]}, {\"categories\": [\"0\", \"1\", \"2\", \"3\", \"4\", \"5\", \"6\", \"7\", \"8\", \"9\", \"10\", \"11\", \"12\", \"13\", \"14\", \"15\", \"16\", \"17\", \"18\", \"19\", \"20\", \"21\", \"22\", \"23\", \"24\", \"25\", \"26\", \"27\", \"28\", \"29\"], \"mode\": \"lines\", \"name\": \"f1_score_weighted_max\", \"stepped\": true, \"type\": \"scatter\", \"data\": [0.8468346128688845, 0.8468346128688845, 0.8468346128688845, 0.8468346128688845, 0.8468346128688845, 0.8468346128688845, 0.8468346128688845, 0.8468346128688845, 0.8468346128688845, 0.850851101697009, 0.850851101697009, 0.850851101697009, 0.850851101697009, 0.850851101697009, 0.850851101697009, 0.850851101697009, 0.850851101697009, 0.850851101697009, 0.850851101697009, 0.850851101697009, 0.850851101697009, 0.850851101697009, 0.850851101697009, 0.850851101697009, 0.850851101697009, 0.850851101697009, 0.850851101697009, 0.850851101697009, 0.8535360018117408, 0.8584539832166744]}], \"balanced_accuracy\": [{\"categories\": [\"0\", \"1\", \"2\", \"3\", \"4\", \"5\", \"6\", \"7\", \"8\", \"9\", \"10\", \"11\", \"12\", \"13\", \"14\", \"15\", \"16\", \"17\", \"18\", \"19\", \"20\", \"21\", \"22\", \"23\", \"24\", \"25\", \"26\", \"27\", \"28\", \"29\"], \"mode\": \"markers\", \"name\": \"balanced_accuracy\", \"stepped\": false, \"type\": \"scatter\", \"data\": [0.7724910873440287, 0.7824855169340463, 0.7006428253119429, 0.6899075311942959, 0.7470499108734402, 0.7910728609625669, 0.7343092691622104, 0.5707653743315508, 0.6976860516934046, 0.7763413547237076, 0.6879645721925133, 0.6445666221033868, 0.7461575311942958, 0.7432163547237076, 0.7309893048128343, 0.7407163547237077, 0.5125, 0.7362466577540107, 0.6809001782531194, 0.6896824866310161, 0.7049342691622104, 0.6989572192513369, 0.7170554812834224, 0.5587332887700536, 0.7742981283422459, 0.7061575311942959, 0.7432163547237076, 0.7278754456327986, 0.768998440285205, 0.7850913547237076]}, {\"categories\": [\"0\", \"1\", \"2\", \"3\", \"4\", \"5\", \"6\", \"7\", \"8\", \"9\", \"10\", \"11\", \"12\", \"13\", \"14\", \"15\", \"16\", \"17\", \"18\", \"19\", \"20\", \"21\", \"22\", \"23\", \"24\", \"25\", \"26\", \"27\", \"28\", \"29\"], \"mode\": \"lines\", \"name\": \"balanced_accuracy_max\", \"stepped\": true, \"type\": \"scatter\", \"data\": [0.7724910873440287, 0.7824855169340463, 0.7824855169340463, 0.7824855169340463, 0.7824855169340463, 0.7910728609625669, 0.7910728609625669, 0.7910728609625669, 0.7910728609625669, 0.7910728609625669, 0.7910728609625669, 0.7910728609625669, 0.7910728609625669, 0.7910728609625669, 0.7910728609625669, 0.7910728609625669, 0.7910728609625669, 0.7910728609625669, 0.7910728609625669, 0.7910728609625669, 0.7910728609625669, 0.7910728609625669, 0.7910728609625669, 0.7910728609625669, 0.7910728609625669, 0.7910728609625669, 0.7910728609625669, 0.7910728609625669, 0.7910728609625669, 0.7910728609625669]}], \"weighted_accuracy\": [{\"categories\": [\"0\", \"1\", \"2\", \"3\", \"4\", \"5\", \"6\", \"7\", \"8\", \"9\", \"10\", \"11\", \"12\", \"13\", \"14\", \"15\", \"16\", \"17\", \"18\", \"19\", \"20\", \"21\", \"22\", \"23\", \"24\", \"25\", \"26\", \"27\", \"28\", \"29\"], \"mode\": \"markers\", \"name\": \"weighted_accuracy\", \"stepped\": false, \"type\": \"scatter\", \"data\": [0.8905685302343826, 0.8773605665189443, 0.8727190896366801, 0.913283231538079, 0.860954595353584, 0.8220662294172552, 0.8831741734963984, 0.9132191195326431, 0.8728722280377192, 0.8960145765429802, 0.8859900936371161, 0.8948304027989392, 0.9119090564566085, 0.8850798217174592, 0.8837612080697095, 0.8856449793824581, 0.9172762544762577, 0.88873975797156, 0.8750818456019097, 0.8706657442707382, 0.8839907725202373, 0.8581706167200425, 0.8914630529951877, 0.905821225305157, 0.803046156994635, 0.9049861660226481, 0.8850798217174592, 0.8931304187563015, 0.9060012723418591, 0.906920279111981]}, {\"categories\": [\"0\", \"1\", \"2\", \"3\", \"4\", \"5\", \"6\", \"7\", \"8\", \"9\", \"10\", \"11\", \"12\", \"13\", \"14\", \"15\", \"16\", \"17\", \"18\", \"19\", \"20\", \"21\", \"22\", \"23\", \"24\", \"25\", \"26\", \"27\", \"28\", \"29\"], \"mode\": \"lines\", \"name\": \"weighted_accuracy_max\", \"stepped\": true, \"type\": \"scatter\", \"data\": [0.8905685302343826, 0.8905685302343826, 0.8905685302343826, 0.913283231538079, 0.913283231538079, 0.913283231538079, 0.913283231538079, 0.913283231538079, 0.913283231538079, 0.913283231538079, 0.913283231538079, 0.913283231538079, 0.913283231538079, 0.913283231538079, 0.913283231538079, 0.913283231538079, 0.9172762544762577, 0.9172762544762577, 0.9172762544762577, 0.9172762544762577, 0.9172762544762577, 0.9172762544762577, 0.9172762544762577, 0.9172762544762577, 0.9172762544762577, 0.9172762544762577, 0.9172762544762577, 0.9172762544762577, 0.9172762544762577, 0.9172762544762577]}], \"recall_score_weighted\": [{\"categories\": [\"0\", \"1\", \"2\", \"3\", \"4\", \"5\", \"6\", \"7\", \"8\", \"9\", \"10\", \"11\", \"12\", \"13\", \"14\", \"15\", \"16\", \"17\", \"18\", \"19\", \"20\", \"21\", \"22\", \"23\", \"24\", \"25\", \"26\", \"27\", \"28\", \"29\"], \"mode\": \"markers\", \"name\": \"recall_score_weighted\", \"stepped\": false, \"type\": \"scatter\", \"data\": [0.8487264673311186, 0.8438538205980066, 0.8109634551495016, 0.8346622369878185, 0.8207087486157254, 0.8109634551495016, 0.8299003322259135, 0.7923588039867109, 0.8109634551495016, 0.8535991140642304, 0.8155038759689923, 0.8064230343300111, 0.8534883720930233, 0.8346622369878183, 0.8296788482834995, 0.8347729789590256, 0.7737541528239202, 0.8344407530454042, 0.8062015503875969, 0.8060908084163898, 0.820376522702104, 0.8016611295681063, 0.8296788482834995, 0.7830564784053156, 0.7922480620155039, 0.8346622369878183, 0.8346622369878183, 0.8346622369878185, 0.8581395348837211, 0.8631229235880399]}, {\"categories\": [\"0\", \"1\", \"2\", \"3\", \"4\", \"5\", \"6\", \"7\", \"8\", \"9\", \"10\", \"11\", \"12\", \"13\", \"14\", \"15\", \"16\", \"17\", \"18\", \"19\", \"20\", \"21\", \"22\", \"23\", \"24\", \"25\", \"26\", \"27\", \"28\", \"29\"], \"mode\": \"lines\", \"name\": \"recall_score_weighted_max\", \"stepped\": true, \"type\": \"scatter\", \"data\": [0.8487264673311186, 0.8487264673311186, 0.8487264673311186, 0.8487264673311186, 0.8487264673311186, 0.8487264673311186, 0.8487264673311186, 0.8487264673311186, 0.8487264673311186, 0.8535991140642304, 0.8535991140642304, 0.8535991140642304, 0.8535991140642304, 0.8535991140642304, 0.8535991140642304, 0.8535991140642304, 0.8535991140642304, 0.8535991140642304, 0.8535991140642304, 0.8535991140642304, 0.8535991140642304, 0.8535991140642304, 0.8535991140642304, 0.8535991140642304, 0.8535991140642304, 0.8535991140642304, 0.8535991140642304, 0.8535991140642304, 0.8581395348837211, 0.8631229235880399]}], \"AUC_macro\": [{\"categories\": [\"0\", \"1\", \"2\", \"3\", \"4\", \"5\", \"6\", \"7\", \"8\", \"9\", \"10\", \"11\", \"12\", \"13\", \"14\", \"15\", \"16\", \"17\", \"18\", \"19\", \"20\", \"21\", \"22\", \"23\", \"24\", \"25\", \"26\", \"27\", \"28\", \"29\"], \"mode\": \"markers\", \"name\": \"AUC_macro\", \"stepped\": false, \"type\": \"scatter\", \"data\": [0.8939449643493761, 0.8910717468805706, 0.8789895276292334, 0.8805536987522282, 0.8775278520499109, 0.8888797905525847, 0.87545621657754, 0.9165741978609626, 0.8880848930481283, 0.8992312834224598, 0.8932063279857397, 0.9012366310160429, 0.9237321746880571, 0.8918482620320856, 0.9044061942959003, 0.897730614973262, 0.883632464349376, 0.8969741532976826, 0.8986307932263815, 0.8949665775401069, 0.8840998217468806, 0.8653152852049912, 0.9046111853832443, 0.8954467468805705, 0.8885461229946525, 0.9139705882352942, 0.8925835561497326, 0.9030949197860962, 0.9021668894830659, 0.9120008912655972]}, {\"categories\": [\"0\", \"1\", \"2\", \"3\", \"4\", \"5\", \"6\", \"7\", \"8\", \"9\", \"10\", \"11\", \"12\", \"13\", \"14\", \"15\", \"16\", \"17\", \"18\", \"19\", \"20\", \"21\", \"22\", \"23\", \"24\", \"25\", \"26\", \"27\", \"28\", \"29\"], \"mode\": \"lines\", \"name\": \"AUC_macro_max\", \"stepped\": true, \"type\": \"scatter\", \"data\": [0.8939449643493761, 0.8939449643493761, 0.8939449643493761, 0.8939449643493761, 0.8939449643493761, 0.8939449643493761, 0.8939449643493761, 0.9165741978609626, 0.9165741978609626, 0.9165741978609626, 0.9165741978609626, 0.9165741978609626, 0.9237321746880571, 0.9237321746880571, 0.9237321746880571, 0.9237321746880571, 0.9237321746880571, 0.9237321746880571, 0.9237321746880571, 0.9237321746880571, 0.9237321746880571, 0.9237321746880571, 0.9237321746880571, 0.9237321746880571, 0.9237321746880571, 0.9237321746880571, 0.9237321746880571, 0.9237321746880571, 0.9237321746880571, 0.9237321746880571]}], \"f1_score_macro\": [{\"categories\": [\"0\", \"1\", \"2\", \"3\", \"4\", \"5\", \"6\", \"7\", \"8\", \"9\", \"10\", \"11\", \"12\", \"13\", \"14\", \"15\", \"16\", \"17\", \"18\", \"19\", \"20\", \"21\", \"22\", \"23\", \"24\", \"25\", \"26\", \"27\", \"28\", \"29\"], \"mode\": \"markers\", \"name\": \"f1_score_macro\", \"stepped\": false, \"type\": \"scatter\", \"data\": [0.7792465283254756, 0.7795650298684469, 0.7089722658426327, 0.7157412510171517, 0.7424886201381591, 0.7580022691145925, 0.746355022328366, 0.5616959589014383, 0.7101335375359119, 0.785169397169507, 0.6913438328379874, 0.6594313344691354, 0.7683288580034893, 0.7510341802447529, 0.7455023861638621, 0.7521206448779978, 0.45803730045835306, 0.7486534680772796, 0.6921682381368659, 0.702111098395928, 0.7205804780066597, 0.7061212740885784, 0.7346547064278779, 0.5453419691739807, 0.7365135455478893, 0.7277470230229237, 0.7510341802447529, 0.7449112442282411, 0.7845290016533621, 0.7943555894351837]}, {\"categories\": [\"0\", \"1\", \"2\", \"3\", \"4\", \"5\", \"6\", \"7\", \"8\", \"9\", \"10\", \"11\", \"12\", \"13\", \"14\", \"15\", \"16\", \"17\", \"18\", \"19\", \"20\", \"21\", \"22\", \"23\", \"24\", \"25\", \"26\", \"27\", \"28\", \"29\"], \"mode\": \"lines\", \"name\": \"f1_score_macro_max\", \"stepped\": true, \"type\": \"scatter\", \"data\": [0.7792465283254756, 0.7795650298684469, 0.7795650298684469, 0.7795650298684469, 0.7795650298684469, 0.7795650298684469, 0.7795650298684469, 0.7795650298684469, 0.7795650298684469, 0.785169397169507, 0.785169397169507, 0.785169397169507, 0.785169397169507, 0.785169397169507, 0.785169397169507, 0.785169397169507, 0.785169397169507, 0.785169397169507, 0.785169397169507, 0.785169397169507, 0.785169397169507, 0.785169397169507, 0.785169397169507, 0.785169397169507, 0.785169397169507, 0.785169397169507, 0.785169397169507, 0.785169397169507, 0.785169397169507, 0.7943555894351837]}], \"precision_score_macro\": [{\"categories\": [\"0\", \"1\", \"2\", \"3\", \"4\", \"5\", \"6\", \"7\", \"8\", \"9\", \"10\", \"11\", \"12\", \"13\", \"14\", \"15\", \"16\", \"17\", \"18\", \"19\", \"20\", \"21\", \"22\", \"23\", \"24\", \"25\", \"26\", \"27\", \"28\", \"29\"], \"mode\": \"markers\", \"name\": \"precision_score_macro\", \"stepped\": false, \"type\": \"scatter\", \"data\": [0.7990145781239233, 0.7820526182124855, 0.7588732526503424, 0.7967557971505339, 0.7633108809111384, 0.7490855214764951, 0.7715306956115779, 0.7067254675149411, 0.7324393090569562, 0.8010398629148628, 0.7117721617721617, 0.7407570207570208, 0.8147181272181271, 0.7701271645021645, 0.7772477156300684, 0.7743530194633136, 0.4864705723469195, 0.7861942674379008, 0.7287193265598838, 0.7371076596076594, 0.7590694590694591, 0.7244951274742546, 0.7803377762588288, 0.6959996417589636, 0.7234932943400686, 0.7903693056169837, 0.7701271645021645, 0.7780982089805619, 0.8088019374416433, 0.8230597653581524]}, {\"categories\": [\"0\", \"1\", \"2\", \"3\", \"4\", \"5\", \"6\", \"7\", \"8\", \"9\", \"10\", \"11\", \"12\", \"13\", \"14\", \"15\", \"16\", \"17\", \"18\", \"19\", \"20\", \"21\", \"22\", \"23\", \"24\", \"25\", \"26\", \"27\", \"28\", \"29\"], \"mode\": \"lines\", \"name\": \"precision_score_macro_max\", \"stepped\": true, \"type\": \"scatter\", \"data\": [0.7990145781239233, 0.7990145781239233, 0.7990145781239233, 0.7990145781239233, 0.7990145781239233, 0.7990145781239233, 0.7990145781239233, 0.7990145781239233, 0.7990145781239233, 0.8010398629148628, 0.8010398629148628, 0.8010398629148628, 0.8147181272181271, 0.8147181272181271, 0.8147181272181271, 0.8147181272181271, 0.8147181272181271, 0.8147181272181271, 0.8147181272181271, 0.8147181272181271, 0.8147181272181271, 0.8147181272181271, 0.8147181272181271, 0.8147181272181271, 0.8147181272181271, 0.8147181272181271, 0.8147181272181271, 0.8147181272181271, 0.8147181272181271, 0.8230597653581524]}], \"AUC_weighted\": [{\"categories\": [\"0\", \"1\", \"2\", \"3\", \"4\", \"5\", \"6\", \"7\", \"8\", \"9\", \"10\", \"11\", \"12\", \"13\", \"14\", \"15\", \"16\", \"17\", \"18\", \"19\", \"20\", \"21\", \"22\", \"23\", \"24\", \"25\", \"26\", \"27\", \"28\", \"29\"], \"mode\": \"markers\", \"name\": \"AUC_weighted\", \"stepped\": false, \"type\": \"scatter\", \"data\": [0.8939449643493763, 0.8910717468805703, 0.8789895276292337, 0.8805536987522281, 0.8775278520499109, 0.8888797905525845, 0.87545621657754, 0.9165741978609626, 0.8880848930481283, 0.8992312834224598, 0.8932063279857397, 0.9012366310160429, 0.9237321746880571, 0.8918482620320856, 0.9044061942959001, 0.897730614973262, 0.883632464349376, 0.8969741532976828, 0.8986307932263816, 0.8949665775401069, 0.8840998217468806, 0.865315285204991, 0.9046111853832443, 0.8954467468805702, 0.8885461229946525, 0.9139705882352942, 0.8925835561497326, 0.9030949197860962, 0.9021668894830659, 0.9120008912655972]}, {\"categories\": [\"0\", \"1\", \"2\", \"3\", \"4\", \"5\", \"6\", \"7\", \"8\", \"9\", \"10\", \"11\", \"12\", \"13\", \"14\", \"15\", \"16\", \"17\", \"18\", \"19\", \"20\", \"21\", \"22\", \"23\", \"24\", \"25\", \"26\", \"27\", \"28\", \"29\"], \"mode\": \"lines\", \"name\": \"AUC_weighted_max\", \"stepped\": true, \"type\": \"scatter\", \"data\": [0.8939449643493763, 0.8939449643493763, 0.8939449643493763, 0.8939449643493763, 0.8939449643493763, 0.8939449643493763, 0.8939449643493763, 0.9165741978609626, 0.9165741978609626, 0.9165741978609626, 0.9165741978609626, 0.9165741978609626, 0.9237321746880571, 0.9237321746880571, 0.9237321746880571, 0.9237321746880571, 0.9237321746880571, 0.9237321746880571, 0.9237321746880571, 0.9237321746880571, 0.9237321746880571, 0.9237321746880571, 0.9237321746880571, 0.9237321746880571, 0.9237321746880571, 0.9237321746880571, 0.9237321746880571, 0.9237321746880571, 0.9237321746880571, 0.9237321746880571]}], \"average_precision_score_weighted\": [{\"categories\": [\"0\", \"1\", \"2\", \"3\", \"4\", \"5\", \"6\", \"7\", \"8\", \"9\", \"10\", \"11\", \"12\", \"13\", \"14\", \"15\", \"16\", \"17\", \"18\", \"19\", \"20\", \"21\", \"22\", \"23\", \"24\", \"25\", \"26\", \"27\", \"28\", \"29\"], \"mode\": \"markers\", \"name\": \"average_precision_score_weighted\", \"stepped\": false, \"type\": \"scatter\", \"data\": [0.9155619583797927, 0.91385833126258, 0.9041131381602863, 0.9005082606656283, 0.8951755997453628, 0.9074112280393022, 0.8986177887426658, 0.9232060487192006, 0.8972886351257502, 0.9111996248031332, 0.9011899021685238, 0.8997552217327108, 0.9295297588154, 0.9064752872216226, 0.9186669013463094, 0.9070590613008853, 0.8997370542836544, 0.9113835052382264, 0.9131666112414919, 0.9041870411834925, 0.9005250515492786, 0.8884291659906385, 0.9159737025067496, 0.911229181681892, 0.9121353882552381, 0.9227083937100963, 0.9089502609509518, 0.9160727562239345, 0.9176400401535065, 0.9216737768683746]}, {\"categories\": [\"0\", \"1\", \"2\", \"3\", \"4\", \"5\", \"6\", \"7\", \"8\", \"9\", \"10\", \"11\", \"12\", \"13\", \"14\", \"15\", \"16\", \"17\", \"18\", \"19\", \"20\", \"21\", \"22\", \"23\", \"24\", \"25\", \"26\", \"27\", \"28\", \"29\"], \"mode\": \"lines\", \"name\": \"average_precision_score_weighted_max\", \"stepped\": true, \"type\": \"scatter\", \"data\": [0.9155619583797927, 0.9155619583797927, 0.9155619583797927, 0.9155619583797927, 0.9155619583797927, 0.9155619583797927, 0.9155619583797927, 0.9232060487192006, 0.9232060487192006, 0.9232060487192006, 0.9232060487192006, 0.9232060487192006, 0.9295297588154, 0.9295297588154, 0.9295297588154, 0.9295297588154, 0.9295297588154, 0.9295297588154, 0.9295297588154, 0.9295297588154, 0.9295297588154, 0.9295297588154, 0.9295297588154, 0.9295297588154, 0.9295297588154, 0.9295297588154, 0.9295297588154, 0.9295297588154, 0.9295297588154, 0.9295297588154]}], \"recall_score_micro\": [{\"categories\": [\"0\", \"1\", \"2\", \"3\", \"4\", \"5\", \"6\", \"7\", \"8\", \"9\", \"10\", \"11\", \"12\", \"13\", \"14\", \"15\", \"16\", \"17\", \"18\", \"19\", \"20\", \"21\", \"22\", \"23\", \"24\", \"25\", \"26\", \"27\", \"28\", \"29\"], \"mode\": \"markers\", \"name\": \"recall_score_micro\", \"stepped\": false, \"type\": \"scatter\", \"data\": [0.8487264673311186, 0.8438538205980066, 0.8109634551495016, 0.8346622369878185, 0.8207087486157254, 0.8109634551495016, 0.8299003322259135, 0.7923588039867109, 0.8109634551495016, 0.8535991140642304, 0.8155038759689923, 0.8064230343300111, 0.8534883720930233, 0.8346622369878183, 0.8296788482834995, 0.8347729789590256, 0.7737541528239202, 0.8344407530454042, 0.8062015503875969, 0.8060908084163898, 0.820376522702104, 0.8016611295681063, 0.8296788482834995, 0.7830564784053156, 0.7922480620155039, 0.8346622369878183, 0.8346622369878183, 0.8346622369878185, 0.8581395348837211, 0.8631229235880399]}, {\"categories\": [\"0\", \"1\", \"2\", \"3\", \"4\", \"5\", \"6\", \"7\", \"8\", \"9\", \"10\", \"11\", \"12\", \"13\", \"14\", \"15\", \"16\", \"17\", \"18\", \"19\", \"20\", \"21\", \"22\", \"23\", \"24\", \"25\", \"26\", \"27\", \"28\", \"29\"], \"mode\": \"lines\", \"name\": \"recall_score_micro_max\", \"stepped\": true, \"type\": \"scatter\", \"data\": [0.8487264673311186, 0.8487264673311186, 0.8487264673311186, 0.8487264673311186, 0.8487264673311186, 0.8487264673311186, 0.8487264673311186, 0.8487264673311186, 0.8487264673311186, 0.8535991140642304, 0.8535991140642304, 0.8535991140642304, 0.8535991140642304, 0.8535991140642304, 0.8535991140642304, 0.8535991140642304, 0.8535991140642304, 0.8535991140642304, 0.8535991140642304, 0.8535991140642304, 0.8535991140642304, 0.8535991140642304, 0.8535991140642304, 0.8535991140642304, 0.8535991140642304, 0.8535991140642304, 0.8535991140642304, 0.8535991140642304, 0.8581395348837211, 0.8631229235880399]}], \"matthews_correlation\": [{\"categories\": [\"0\", \"1\", \"2\", \"3\", \"4\", \"5\", \"6\", \"7\", \"8\", \"9\", \"10\", \"11\", \"12\", \"13\", \"14\", \"15\", \"16\", \"17\", \"18\", \"19\", \"20\", \"21\", \"22\", \"23\", \"24\", \"25\", \"26\", \"27\", \"28\", \"29\"], \"mode\": \"markers\", \"name\": \"matthews_correlation\", \"stepped\": false, \"type\": \"scatter\", \"data\": [0.5684618566581621, 0.5635836779629116, 0.4492420037589121, 0.47248146819810505, 0.5046782924851299, 0.5371273132399446, 0.503069916290631, 0.24764994506423718, 0.42825969886351467, 0.5758451914744898, 0.40225530110170693, 0.3680023022536384, 0.5549444004633451, 0.5110316606366694, 0.5041566206020891, 0.5124627446187789, 0.06439209162167847, 0.515991626694325, 0.404169617793493, 0.42198615532044637, 0.45893464237230763, 0.42147232620855535, 0.49034018176612737, 0.2190402964861322, 0.49448905747773664, 0.486026657010752, 0.5110316606366694, 0.5024122501470185, 0.5758375275192291, 0.603657605930099]}, {\"categories\": [\"0\", \"1\", \"2\", \"3\", \"4\", \"5\", \"6\", \"7\", \"8\", \"9\", \"10\", \"11\", \"12\", \"13\", \"14\", \"15\", \"16\", \"17\", \"18\", \"19\", \"20\", \"21\", \"22\", \"23\", \"24\", \"25\", \"26\", \"27\", \"28\", \"29\"], \"mode\": \"lines\", \"name\": \"matthews_correlation_max\", \"stepped\": true, \"type\": \"scatter\", \"data\": [0.5684618566581621, 0.5684618566581621, 0.5684618566581621, 0.5684618566581621, 0.5684618566581621, 0.5684618566581621, 0.5684618566581621, 0.5684618566581621, 0.5684618566581621, 0.5758451914744898, 0.5758451914744898, 0.5758451914744898, 0.5758451914744898, 0.5758451914744898, 0.5758451914744898, 0.5758451914744898, 0.5758451914744898, 0.5758451914744898, 0.5758451914744898, 0.5758451914744898, 0.5758451914744898, 0.5758451914744898, 0.5758451914744898, 0.5758451914744898, 0.5758451914744898, 0.5758451914744898, 0.5758451914744898, 0.5758451914744898, 0.5758451914744898, 0.603657605930099]}], \"precision_score_weighted\": [{\"categories\": [\"0\", \"1\", \"2\", \"3\", \"4\", \"5\", \"6\", \"7\", \"8\", \"9\", \"10\", \"11\", \"12\", \"13\", \"14\", \"15\", \"16\", \"17\", \"18\", \"19\", \"20\", \"21\", \"22\", \"23\", \"24\", \"25\", \"26\", \"27\", \"28\", \"29\"], \"mode\": \"markers\", \"name\": \"precision_score_weighted\", \"stepped\": false, \"type\": \"scatter\", \"data\": [0.8520567547361931, 0.8487402487876871, 0.8149432193287043, 0.8273137895720515, 0.8312553282284721, 0.8430047494292271, 0.8274896586541594, 0.7590103741336475, 0.8004649456681898, 0.8520447793869721, 0.7885069454836897, 0.7906219939774757, 0.8494883019966076, 0.82925109343714, 0.8305576088310114, 0.8311839059376679, 0.6331132462658496, 0.8349993783775067, 0.7950092905867259, 0.8009353826795689, 0.8149541568146219, 0.7995978730213129, 0.827827417380661, 0.753301414638841, 0.8265756827092698, 0.8279863769253112, 0.82925109343714, 0.8285395483069902, 0.8538163017144843, 0.8645517398065357]}, {\"categories\": [\"0\", \"1\", \"2\", \"3\", \"4\", \"5\", \"6\", \"7\", \"8\", \"9\", \"10\", \"11\", \"12\", \"13\", \"14\", \"15\", \"16\", \"17\", \"18\", \"19\", \"20\", \"21\", \"22\", \"23\", \"24\", \"25\", \"26\", \"27\", \"28\", \"29\"], \"mode\": \"lines\", \"name\": \"precision_score_weighted_max\", \"stepped\": true, \"type\": \"scatter\", \"data\": [0.8520567547361931, 0.8520567547361931, 0.8520567547361931, 0.8520567547361931, 0.8520567547361931, 0.8520567547361931, 0.8520567547361931, 0.8520567547361931, 0.8520567547361931, 0.8520567547361931, 0.8520567547361931, 0.8520567547361931, 0.8520567547361931, 0.8520567547361931, 0.8520567547361931, 0.8520567547361931, 0.8520567547361931, 0.8520567547361931, 0.8520567547361931, 0.8520567547361931, 0.8520567547361931, 0.8520567547361931, 0.8520567547361931, 0.8520567547361931, 0.8520567547361931, 0.8520567547361931, 0.8520567547361931, 0.8520567547361931, 0.8538163017144843, 0.8645517398065357]}], \"average_precision_score_macro\": [{\"categories\": [\"0\", \"1\", \"2\", \"3\", \"4\", \"5\", \"6\", \"7\", \"8\", \"9\", \"10\", \"11\", \"12\", \"13\", \"14\", \"15\", \"16\", \"17\", \"18\", \"19\", \"20\", \"21\", \"22\", \"23\", \"24\", \"25\", \"26\", \"27\", \"28\", \"29\"], \"mode\": \"markers\", \"name\": \"average_precision_score_macro\", \"stepped\": false, \"type\": \"scatter\", \"data\": [0.8489351271417147, 0.8464816937631487, 0.8315972707267234, 0.8191829302254646, 0.8110021949891925, 0.8292869378153629, 0.8158430474727348, 0.8563221172930693, 0.8084736797082688, 0.8371486661226664, 0.8135589802467003, 0.8115493179593194, 0.8672864125423889, 0.8301911718969344, 0.8515993054947927, 0.8287445916877306, 0.8196828647000854, 0.8361935228311607, 0.8412620041273356, 0.8203387894194147, 0.8152432646045534, 0.8026668762941374, 0.8474366107347023, 0.8378562702781489, 0.8458692684157356, 0.8574741347881737, 0.836499243906226, 0.8439672096858299, 0.8496781277931836, 0.8554785352040648]}, {\"categories\": [\"0\", \"1\", \"2\", \"3\", \"4\", \"5\", \"6\", \"7\", \"8\", \"9\", \"10\", \"11\", \"12\", \"13\", \"14\", \"15\", \"16\", \"17\", \"18\", \"19\", \"20\", \"21\", \"22\", \"23\", \"24\", \"25\", \"26\", \"27\", \"28\", \"29\"], \"mode\": \"lines\", \"name\": \"average_precision_score_macro_max\", \"stepped\": true, \"type\": \"scatter\", \"data\": [0.8489351271417147, 0.8489351271417147, 0.8489351271417147, 0.8489351271417147, 0.8489351271417147, 0.8489351271417147, 0.8489351271417147, 0.8563221172930693, 0.8563221172930693, 0.8563221172930693, 0.8563221172930693, 0.8563221172930693, 0.8672864125423889, 0.8672864125423889, 0.8672864125423889, 0.8672864125423889, 0.8672864125423889, 0.8672864125423889, 0.8672864125423889, 0.8672864125423889, 0.8672864125423889, 0.8672864125423889, 0.8672864125423889, 0.8672864125423889, 0.8672864125423889, 0.8672864125423889, 0.8672864125423889, 0.8672864125423889, 0.8672864125423889, 0.8672864125423889]}], \"AUC_micro\": [{\"categories\": [\"0\", \"1\", \"2\", \"3\", \"4\", \"5\", \"6\", \"7\", \"8\", \"9\", \"10\", \"11\", \"12\", \"13\", \"14\", \"15\", \"16\", \"17\", \"18\", \"19\", \"20\", \"21\", \"22\", \"23\", \"24\", \"25\", \"26\", \"27\", \"28\", \"29\"], \"mode\": \"markers\", \"name\": \"AUC_micro\", \"stepped\": false, \"type\": \"scatter\", \"data\": [0.9262646107658856, 0.9253953537427229, 0.9148811210079849, 0.9150869686255609, 0.9126630316810337, 0.8957996539160102, 0.9107734278135267, 0.9196990099447027, 0.9158285596553386, 0.9310304399387302, 0.9141070309501123, 0.9207689637960828, 0.9405477496569207, 0.9236881736649952, 0.9309222733622022, 0.9251998690227848, 0.9055136134136366, 0.9209149641468268, 0.9260730504568873, 0.914052273153718, 0.9140731215868356, 0.9092577467258762, 0.9307372128588229, 0.912577001234963, 0.8715704020926921, 0.9321824385063202, 0.9239253552511684, 0.9205344189235095, 0.9312167881394491, 0.9304022889126806]}, {\"categories\": [\"0\", \"1\", \"2\", \"3\", \"4\", \"5\", \"6\", \"7\", \"8\", \"9\", \"10\", \"11\", \"12\", \"13\", \"14\", \"15\", \"16\", \"17\", \"18\", \"19\", \"20\", \"21\", \"22\", \"23\", \"24\", \"25\", \"26\", \"27\", \"28\", \"29\"], \"mode\": \"lines\", \"name\": \"AUC_micro_max\", \"stepped\": true, \"type\": \"scatter\", \"data\": [0.9262646107658856, 0.9262646107658856, 0.9262646107658856, 0.9262646107658856, 0.9262646107658856, 0.9262646107658856, 0.9262646107658856, 0.9262646107658856, 0.9262646107658856, 0.9310304399387302, 0.9310304399387302, 0.9310304399387302, 0.9405477496569207, 0.9405477496569207, 0.9405477496569207, 0.9405477496569207, 0.9405477496569207, 0.9405477496569207, 0.9405477496569207, 0.9405477496569207, 0.9405477496569207, 0.9405477496569207, 0.9405477496569207, 0.9405477496569207, 0.9405477496569207, 0.9405477496569207, 0.9405477496569207, 0.9405477496569207, 0.9405477496569207, 0.9405477496569207]}], \"accuracy\": [{\"categories\": [\"0\", \"1\", \"2\", \"3\", \"4\", \"5\", \"6\", \"7\", \"8\", \"9\", \"10\", \"11\", \"12\", \"13\", \"14\", \"15\", \"16\", \"17\", \"18\", \"19\", \"20\", \"21\", \"22\", \"23\", \"24\", \"25\", \"26\", \"27\", \"28\", \"29\"], \"mode\": \"markers\", \"name\": \"accuracy\", \"stepped\": false, \"type\": \"scatter\", \"data\": [0.8487264673311186, 0.8438538205980066, 0.8109634551495016, 0.8346622369878185, 0.8207087486157254, 0.8109634551495016, 0.8299003322259135, 0.7923588039867109, 0.8109634551495016, 0.8535991140642304, 0.8155038759689923, 0.8064230343300111, 0.8534883720930233, 0.8346622369878183, 0.8296788482834995, 0.8347729789590256, 0.7737541528239202, 0.8344407530454042, 0.8062015503875969, 0.8060908084163898, 0.820376522702104, 0.8016611295681063, 0.8296788482834995, 0.7830564784053156, 0.7922480620155039, 0.8346622369878183, 0.8346622369878183, 0.8346622369878185, 0.8581395348837211, 0.8631229235880399]}, {\"categories\": [\"0\", \"1\", \"2\", \"3\", \"4\", \"5\", \"6\", \"7\", \"8\", \"9\", \"10\", \"11\", \"12\", \"13\", \"14\", \"15\", \"16\", \"17\", \"18\", \"19\", \"20\", \"21\", \"22\", \"23\", \"24\", \"25\", \"26\", \"27\", \"28\", \"29\"], \"mode\": \"lines\", \"name\": \"accuracy_max\", \"stepped\": true, \"type\": \"scatter\", \"data\": [0.8487264673311186, 0.8487264673311186, 0.8487264673311186, 0.8487264673311186, 0.8487264673311186, 0.8487264673311186, 0.8487264673311186, 0.8487264673311186, 0.8487264673311186, 0.8535991140642304, 0.8535991140642304, 0.8535991140642304, 0.8535991140642304, 0.8535991140642304, 0.8535991140642304, 0.8535991140642304, 0.8535991140642304, 0.8535991140642304, 0.8535991140642304, 0.8535991140642304, 0.8535991140642304, 0.8535991140642304, 0.8535991140642304, 0.8535991140642304, 0.8535991140642304, 0.8535991140642304, 0.8535991140642304, 0.8535991140642304, 0.8581395348837211, 0.8631229235880399]}], \"average_precision_score_micro\": [{\"categories\": [\"0\", \"1\", \"2\", \"3\", \"4\", \"5\", \"6\", \"7\", \"8\", \"9\", \"10\", \"11\", \"12\", \"13\", \"14\", \"15\", \"16\", \"17\", \"18\", \"19\", \"20\", \"21\", \"22\", \"23\", \"24\", \"25\", \"26\", \"27\", \"28\", \"29\"], \"mode\": \"markers\", \"name\": \"average_precision_score_micro\", \"stepped\": false, \"type\": \"scatter\", \"data\": [0.9314362258241677, 0.9309456301754164, 0.921454656036774, 0.9213961289284424, 0.917973973815586, 0.9006529067560637, 0.917910040561878, 0.9278694724858771, 0.9219365720199268, 0.9358618224421033, 0.920773047180359, 0.9279800057547197, 0.9452490647845929, 0.9288982799769828, 0.9370694289926721, 0.9312175775297427, 0.9134059416110738, 0.9267873929013254, 0.9327549621289858, 0.9214076805692717, 0.9218871938719889, 0.9150444393257364, 0.9364883124699691, 0.9206225655462585, 0.8802391336253752, 0.9380138004341161, 0.9291971897776291, 0.9246357098085971, 0.9361856190042411, 0.9333643388326456]}, {\"categories\": [\"0\", \"1\", \"2\", \"3\", \"4\", \"5\", \"6\", \"7\", \"8\", \"9\", \"10\", \"11\", \"12\", \"13\", \"14\", \"15\", \"16\", \"17\", \"18\", \"19\", \"20\", \"21\", \"22\", \"23\", \"24\", \"25\", \"26\", \"27\", \"28\", \"29\"], \"mode\": \"lines\", \"name\": \"average_precision_score_micro_max\", \"stepped\": true, \"type\": \"scatter\", \"data\": [0.9314362258241677, 0.9314362258241677, 0.9314362258241677, 0.9314362258241677, 0.9314362258241677, 0.9314362258241677, 0.9314362258241677, 0.9314362258241677, 0.9314362258241677, 0.9358618224421033, 0.9358618224421033, 0.9358618224421033, 0.9452490647845929, 0.9452490647845929, 0.9452490647845929, 0.9452490647845929, 0.9452490647845929, 0.9452490647845929, 0.9452490647845929, 0.9452490647845929, 0.9452490647845929, 0.9452490647845929, 0.9452490647845929, 0.9452490647845929, 0.9452490647845929, 0.9452490647845929, 0.9452490647845929, 0.9452490647845929, 0.9452490647845929, 0.9452490647845929]}], \"f1_score_micro\": [{\"categories\": [\"0\", \"1\", \"2\", \"3\", \"4\", \"5\", \"6\", \"7\", \"8\", \"9\", \"10\", \"11\", \"12\", \"13\", \"14\", \"15\", \"16\", \"17\", \"18\", \"19\", \"20\", \"21\", \"22\", \"23\", \"24\", \"25\", \"26\", \"27\", \"28\", \"29\"], \"mode\": \"markers\", \"name\": \"f1_score_micro\", \"stepped\": false, \"type\": \"scatter\", \"data\": [0.8487264673311186, 0.8438538205980066, 0.8109634551495016, 0.8346622369878185, 0.8207087486157254, 0.8109634551495016, 0.8299003322259135, 0.7923588039867109, 0.8109634551495016, 0.8535991140642304, 0.8155038759689923, 0.8064230343300111, 0.8534883720930233, 0.8346622369878183, 0.8296788482834995, 0.8347729789590256, 0.7737541528239202, 0.8344407530454042, 0.8062015503875969, 0.8060908084163898, 0.820376522702104, 0.8016611295681063, 0.8296788482834995, 0.7830564784053156, 0.7922480620155039, 0.8346622369878183, 0.8346622369878183, 0.8346622369878185, 0.8581395348837211, 0.8631229235880399]}, {\"categories\": [\"0\", \"1\", \"2\", \"3\", \"4\", \"5\", \"6\", \"7\", \"8\", \"9\", \"10\", \"11\", \"12\", \"13\", \"14\", \"15\", \"16\", \"17\", \"18\", \"19\", \"20\", \"21\", \"22\", \"23\", \"24\", \"25\", \"26\", \"27\", \"28\", \"29\"], \"mode\": \"lines\", \"name\": \"f1_score_micro_max\", \"stepped\": true, \"type\": \"scatter\", \"data\": [0.8487264673311186, 0.8487264673311186, 0.8487264673311186, 0.8487264673311186, 0.8487264673311186, 0.8487264673311186, 0.8487264673311186, 0.8487264673311186, 0.8487264673311186, 0.8535991140642304, 0.8535991140642304, 0.8535991140642304, 0.8535991140642304, 0.8535991140642304, 0.8535991140642304, 0.8535991140642304, 0.8535991140642304, 0.8535991140642304, 0.8535991140642304, 0.8535991140642304, 0.8535991140642304, 0.8535991140642304, 0.8535991140642304, 0.8535991140642304, 0.8535991140642304, 0.8535991140642304, 0.8535991140642304, 0.8535991140642304, 0.8581395348837211, 0.8631229235880399]}]}, \"metricName\": null, \"primaryMetricName\": \"accuracy\", \"showLegend\": false}, \"run_metrics\": [{\"name\": \"experiment_status\", \"run_id\": \"AutoML_da0a796e-f542-4147-bd85-5af3ab81a563\", \"categories\": [0, 1, 2, 3, 4, 5, 6, 7, 8, 9, 10, 11, 12, 13], \"series\": [{\"data\": [\"DatasetEvaluation\", \"FeaturesGeneration\", \"DatasetFeaturization\", \"DatasetFeaturizationCompleted\", \"DatasetCrossValidationSplit\", \"ModelSelection\", \"BestRunExplainModel\", \"ModelExplanationDataSetSetup\", \"PickSurrogateModel\", \"EngineeredFeatureExplanations\", \"EngineeredFeatureExplanations\", \"RawFeaturesExplanations\", \"RawFeaturesExplanations\", \"BestRunExplainModel\"]}]}, {\"name\": \"experiment_status_description\", \"run_id\": \"AutoML_da0a796e-f542-4147-bd85-5af3ab81a563\", \"categories\": [0, 1, 2, 3, 4, 5, 6, 7, 8, 9, 10, 11, 12, 13], \"series\": [{\"data\": [\"Gathering dataset statistics.\", \"Generating features for the dataset.\", \"Beginning to fit featurizers and featurize the dataset.\", \"Completed fit featurizers and featurizing the dataset.\", \"Generating individually featurized CV splits.\", \"Beginning model selection.\", \"Best run model explanations started\", \"Model explanations data setup completed\", \"Choosing LightGBM as the surrogate model for explanations\", \"Computation of engineered features started\", \"Computation of engineered features completed\", \"Computation of raw features started\", \"Computation of raw features completed\", \"Best run model explanations completed\"]}]}, {\"name\": \"f1_score_micro\", \"run_id\": \"AutoML_da0a796e-f542-4147-bd85-5af3ab81a563\", \"categories\": [0], \"series\": [{\"data\": [0.8631229235880399]}]}, {\"name\": \"norm_macro_recall\", \"run_id\": \"AutoML_da0a796e-f542-4147-bd85-5af3ab81a563\", \"categories\": [0], \"series\": [{\"data\": [0.5701827094474152]}]}, {\"name\": \"f1_score_weighted\", \"run_id\": \"AutoML_da0a796e-f542-4147-bd85-5af3ab81a563\", \"categories\": [0], \"series\": [{\"data\": [0.8584539832166744]}]}, {\"name\": \"precision_score_macro\", \"run_id\": \"AutoML_da0a796e-f542-4147-bd85-5af3ab81a563\", \"categories\": [0], \"series\": [{\"data\": [0.8230597653581524]}]}, {\"name\": \"f1_score_macro\", \"run_id\": \"AutoML_da0a796e-f542-4147-bd85-5af3ab81a563\", \"categories\": [0], \"series\": [{\"data\": [0.7943555894351837]}]}, {\"name\": \"AUC_weighted\", \"run_id\": \"AutoML_da0a796e-f542-4147-bd85-5af3ab81a563\", \"categories\": [0], \"series\": [{\"data\": [0.9120008912655972]}]}, {\"name\": \"average_precision_score_micro\", \"run_id\": \"AutoML_da0a796e-f542-4147-bd85-5af3ab81a563\", \"categories\": [0], \"series\": [{\"data\": [0.9333643388326456]}]}, {\"name\": \"weighted_accuracy\", \"run_id\": \"AutoML_da0a796e-f542-4147-bd85-5af3ab81a563\", \"categories\": [0], \"series\": [{\"data\": [0.906920279111981]}]}, {\"name\": \"accuracy\", \"run_id\": \"AutoML_da0a796e-f542-4147-bd85-5af3ab81a563\", \"categories\": [0], \"series\": [{\"data\": [0.8631229235880399]}]}, {\"name\": \"precision_score_micro\", \"run_id\": \"AutoML_da0a796e-f542-4147-bd85-5af3ab81a563\", \"categories\": [0], \"series\": [{\"data\": [0.8631229235880399]}]}, {\"name\": \"matthews_correlation\", \"run_id\": \"AutoML_da0a796e-f542-4147-bd85-5af3ab81a563\", \"categories\": [0], \"series\": [{\"data\": [0.603657605930099]}]}, {\"name\": \"recall_score_weighted\", \"run_id\": \"AutoML_da0a796e-f542-4147-bd85-5af3ab81a563\", \"categories\": [0], \"series\": [{\"data\": [0.8631229235880399]}]}, {\"name\": \"balanced_accuracy\", \"run_id\": \"AutoML_da0a796e-f542-4147-bd85-5af3ab81a563\", \"categories\": [0], \"series\": [{\"data\": [0.7850913547237076]}]}, {\"name\": \"log_loss\", \"run_id\": \"AutoML_da0a796e-f542-4147-bd85-5af3ab81a563\", \"categories\": [0], \"series\": [{\"data\": [0.3481449445123371]}]}, {\"name\": \"average_precision_score_weighted\", \"run_id\": \"AutoML_da0a796e-f542-4147-bd85-5af3ab81a563\", \"categories\": [0], \"series\": [{\"data\": [0.9216737768683746]}]}, {\"name\": \"recall_score_micro\", \"run_id\": \"AutoML_da0a796e-f542-4147-bd85-5af3ab81a563\", \"categories\": [0], \"series\": [{\"data\": [0.8631229235880399]}]}, {\"name\": \"AUC_macro\", \"run_id\": \"AutoML_da0a796e-f542-4147-bd85-5af3ab81a563\", \"categories\": [0], \"series\": [{\"data\": [0.9120008912655972]}]}, {\"name\": \"average_precision_score_macro\", \"run_id\": \"AutoML_da0a796e-f542-4147-bd85-5af3ab81a563\", \"categories\": [0], \"series\": [{\"data\": [0.8554785352040648]}]}, {\"name\": \"precision_score_weighted\", \"run_id\": \"AutoML_da0a796e-f542-4147-bd85-5af3ab81a563\", \"categories\": [0], \"series\": [{\"data\": [0.8645517398065357]}]}, {\"name\": \"AUC_micro\", \"run_id\": \"AutoML_da0a796e-f542-4147-bd85-5af3ab81a563\", \"categories\": [0], \"series\": [{\"data\": [0.9304022889126806]}]}, {\"name\": \"recall_score_macro\", \"run_id\": \"AutoML_da0a796e-f542-4147-bd85-5af3ab81a563\", \"categories\": [0], \"series\": [{\"data\": [0.7850913547237076]}]}], \"run_logs\": \"\\nRun is completed.\", \"graph\": {}, \"widget_settings\": {\"childWidgetDisplay\": \"popup\", \"send_telemetry\": false, \"log_level\": \"INFO\", \"sdk_version\": \"1.20.0\"}, \"loading\": false}"
     },
     "metadata": {},
     "output_type": "display_data"
    },
    {
     "name": "stdout",
     "output_type": "stream",
     "text": [
      "\n",
      "\n",
      "****************************************************************************************************\n",
      "DATA GUARDRAILS: \n",
      "\n",
      "TYPE:         Class balancing detection\n",
      "STATUS:       PASSED\n",
      "DESCRIPTION:  Your inputs were analyzed, and all classes are balanced in your training data.\n",
      "              Learn more about imbalanced data: https://aka.ms/AutomatedMLImbalancedData\n",
      "\n",
      "****************************************************************************************************\n",
      "\n",
      "TYPE:         Missing feature values imputation\n",
      "STATUS:       PASSED\n",
      "DESCRIPTION:  No feature missing values were detected in the training data.\n",
      "              Learn more about missing value imputation: https://aka.ms/AutomatedMLFeaturization\n",
      "\n",
      "****************************************************************************************************\n",
      "\n",
      "TYPE:         High cardinality feature detection\n",
      "STATUS:       PASSED\n",
      "DESCRIPTION:  Your inputs were analyzed, and no high cardinality features were detected.\n",
      "              Learn more about high cardinality feature handling: https://aka.ms/AutomatedMLFeaturization\n",
      "\n",
      "****************************************************************************************************\n",
      "\n",
      "****************************************************************************************************\n",
      "ITERATION: The iteration being evaluated.\n",
      "PIPELINE: A summary description of the pipeline being evaluated.\n",
      "DURATION: Time taken for the current iteration.\n",
      "METRIC: The result of computing score on the fitted pipeline.\n",
      "BEST: The best observed score thus far.\n",
      "****************************************************************************************************\n",
      "\n",
      " ITERATION   PIPELINE                                       DURATION      METRIC      BEST\n",
      "         0   MaxAbsScaler LightGBM                          0:00:49       0.8487    0.8487\n",
      "         1   MaxAbsScaler XGBoostClassifier                 0:00:46       0.8439    0.8487\n",
      "         2   MaxAbsScaler RandomForest                      0:00:53       0.8110    0.8487\n",
      "         3   MaxAbsScaler RandomForest                      0:00:52       0.8347    0.8487\n",
      "         4   MaxAbsScaler RandomForest                      0:00:49       0.8207    0.8487\n",
      "         5   MaxAbsScaler RandomForest                      0:00:53       0.8110    0.8487\n",
      "         6   SparseNormalizer XGBoostClassifier             0:00:49       0.8299    0.8487\n",
      "         7   MaxAbsScaler RandomForest                      0:00:49       0.7924    0.8487\n",
      "         8   SparseNormalizer LightGBM                      0:01:00       0.8110    0.8487\n",
      "         9   MaxAbsScaler LogisticRegression                0:00:49       0.8536    0.8536\n",
      "        10   SparseNormalizer XGBoostClassifier             0:00:55       0.8155    0.8536\n",
      "        11   MaxAbsScaler LightGBM                          0:00:46       0.8064    0.8536\n",
      "        12   StandardScalerWrapper LightGBM                 0:00:46       0.8535    0.8536\n",
      "        13   MaxAbsScaler LogisticRegression                0:00:45       0.8347    0.8536\n",
      "        14   MaxAbsScaler ExtremeRandomTrees                0:00:50       0.8297    0.8536\n",
      "        15   MaxAbsScaler LightGBM                          0:01:21       0.8348    0.8536\n",
      "        16   MaxAbsScaler LightGBM                          0:00:50       0.7738    0.8536\n",
      "        17   SparseNormalizer XGBoostClassifier             0:00:46       0.8344    0.8536\n",
      "        18   StandardScalerWrapper ExtremeRandomTrees       0:00:50       0.8062    0.8536\n",
      "        19   SparseNormalizer XGBoostClassifier             0:00:48       0.8061    0.8536\n",
      "        20   SparseNormalizer LightGBM                      0:00:46       0.8204    0.8536\n",
      "        21   StandardScalerWrapper XGBoostClassifier        0:00:52       0.8017    0.8536\n",
      "        22   MaxAbsScaler ExtremeRandomTrees                0:00:50       0.8297    0.8536\n",
      "        23   MaxAbsScaler LightGBM                          0:00:48       0.7831    0.8536\n",
      "        24   MaxAbsScaler ExtremeRandomTrees                0:00:45       0.7922    0.8536\n",
      "        25   MaxAbsScaler LogisticRegression                0:00:51       0.8347    0.8536\n",
      "        26   MaxAbsScaler LogisticRegression                0:00:52       0.8347    0.8536\n",
      "        27   SparseNormalizer XGBoostClassifier             0:00:50       0.8347    0.8536\n",
      "        28    VotingEnsemble                                0:01:14       0.8581    0.8581\n",
      "        29    StackEnsemble                                 0:01:13       0.8631    0.8631\n"
     ]
    },
    {
     "data": {
      "text/plain": [
       "{'runId': 'AutoML_da0a796e-f542-4147-bd85-5af3ab81a563',\n",
       " 'target': 'cpu-cluster',\n",
       " 'status': 'Completed',\n",
       " 'startTimeUtc': '2021-01-31T14:04:09.90727Z',\n",
       " 'endTimeUtc': '2021-01-31T14:45:52.233338Z',\n",
       " 'properties': {'num_iterations': '1000',\n",
       "  'training_type': 'TrainFull',\n",
       "  'acquisition_function': 'EI',\n",
       "  'primary_metric': 'accuracy',\n",
       "  'train_split': '0',\n",
       "  'acquisition_parameter': '0',\n",
       "  'num_cross_validation': '5',\n",
       "  'target': 'cpu-cluster',\n",
       "  'AMLSettingsJsonString': '{\"path\":null,\"name\":\"Heart_Disease_Kaggle_AutoML\",\"subscription_id\":\"5a4ab2ba-6c51-4805-8155-58759ad589d8\",\"resource_group\":\"aml-quickstarts-136719\",\"workspace_name\":\"quick-starts-ws-136719\",\"region\":\"southcentralus\",\"compute_target\":\"cpu-cluster\",\"spark_service\":null,\"azure_service\":\"remote\",\"many_models\":false,\"pipeline_fetch_max_batch_size\":1,\"iterations\":1000,\"primary_metric\":\"accuracy\",\"task_type\":\"classification\",\"data_script\":null,\"validation_size\":0.0,\"n_cross_validations\":5,\"y_min\":null,\"y_max\":null,\"num_classes\":null,\"featurization\":\"auto\",\"_ignore_package_version_incompatibilities\":false,\"is_timeseries\":false,\"max_cores_per_iteration\":1,\"max_concurrent_iterations\":1,\"iteration_timeout_minutes\":null,\"mem_in_mb\":null,\"enforce_time_on_windows\":false,\"experiment_timeout_minutes\":30,\"experiment_exit_score\":null,\"whitelist_models\":null,\"blacklist_algos\":[\"TensorFlowLinearClassifier\",\"TensorFlowDNN\"],\"supported_models\":[\"XGBoostClassifier\",\"DecisionTree\",\"LogisticRegression\",\"KNN\",\"RandomForest\",\"LightGBM\",\"TensorFlowDNN\",\"TensorFlowLinearClassifier\",\"SVM\",\"GradientBoosting\",\"MultinomialNaiveBayes\",\"LinearSVM\",\"SGD\",\"BernoulliNaiveBayes\",\"AveragedPerceptronClassifier\",\"ExtremeRandomTrees\"],\"auto_blacklist\":true,\"blacklist_samples_reached\":false,\"exclude_nan_labels\":true,\"verbosity\":20,\"_debug_log\":\"azureml_automl.log\",\"show_warnings\":false,\"model_explainability\":true,\"service_url\":null,\"sdk_url\":null,\"sdk_packages\":null,\"enable_onnx_compatible_models\":false,\"enable_split_onnx_featurizer_estimator_models\":false,\"vm_type\":\"STANDARD_D2_V2\",\"telemetry_verbosity\":20,\"send_telemetry\":true,\"enable_dnn\":false,\"scenario\":\"SDK-1.13.0\",\"environment_label\":null,\"force_text_dnn\":false,\"enable_feature_sweeping\":true,\"enable_early_stopping\":false,\"early_stopping_n_iters\":10,\"metrics\":null,\"enable_ensembling\":true,\"enable_stack_ensembling\":true,\"ensemble_iterations\":15,\"enable_tf\":false,\"enable_subsampling\":null,\"subsample_seed\":null,\"enable_nimbusml\":false,\"enable_streaming\":false,\"force_streaming\":false,\"track_child_runs\":true,\"allowed_private_models\":[],\"label_column_name\":\"target\",\"weight_column_name\":null,\"cv_split_column_names\":null,\"enable_local_managed\":false,\"_local_managed_run_id\":null,\"cost_mode\":1,\"lag_length\":0,\"metric_operation\":\"maximize\",\"preprocess\":true}',\n",
       "  'DataPrepJsonString': '{\\\\\"training_data\\\\\": \\\\\"{\\\\\\\\\\\\\"blocks\\\\\\\\\\\\\": [{\\\\\\\\\\\\\"id\\\\\\\\\\\\\": \\\\\\\\\\\\\"06d97860-1ebb-4e60-bdfe-0453493c8d62\\\\\\\\\\\\\", \\\\\\\\\\\\\"type\\\\\\\\\\\\\": \\\\\\\\\\\\\"Microsoft.DPrep.GetDatastoreFilesBlock\\\\\\\\\\\\\", \\\\\\\\\\\\\"arguments\\\\\\\\\\\\\": {\\\\\\\\\\\\\"datastores\\\\\\\\\\\\\": [{\\\\\\\\\\\\\"datastoreName\\\\\\\\\\\\\": \\\\\\\\\\\\\"workspaceblobstore\\\\\\\\\\\\\", \\\\\\\\\\\\\"path\\\\\\\\\\\\\": \\\\\\\\\\\\\"./Data/train_data.csv\\\\\\\\\\\\\", \\\\\\\\\\\\\"resourceGroup\\\\\\\\\\\\\": \\\\\\\\\\\\\"aml-quickstarts-136719\\\\\\\\\\\\\", \\\\\\\\\\\\\"subscription\\\\\\\\\\\\\": \\\\\\\\\\\\\"5a4ab2ba-6c51-4805-8155-58759ad589d8\\\\\\\\\\\\\", \\\\\\\\\\\\\"workspaceName\\\\\\\\\\\\\": \\\\\\\\\\\\\"quick-starts-ws-136719\\\\\\\\\\\\\"}]}, \\\\\\\\\\\\\"localData\\\\\\\\\\\\\": {}, \\\\\\\\\\\\\"isEnabled\\\\\\\\\\\\\": true, \\\\\\\\\\\\\"name\\\\\\\\\\\\\": null, \\\\\\\\\\\\\"annotation\\\\\\\\\\\\\": null}, {\\\\\\\\\\\\\"id\\\\\\\\\\\\\": \\\\\\\\\\\\\"e568a0b9-6c9f-457c-9398-a4e447378f03\\\\\\\\\\\\\", \\\\\\\\\\\\\"type\\\\\\\\\\\\\": \\\\\\\\\\\\\"Microsoft.DPrep.ParseDelimitedBlock\\\\\\\\\\\\\", \\\\\\\\\\\\\"arguments\\\\\\\\\\\\\": {\\\\\\\\\\\\\"columnHeadersMode\\\\\\\\\\\\\": 3, \\\\\\\\\\\\\"fileEncoding\\\\\\\\\\\\\": 0, \\\\\\\\\\\\\"handleQuotedLineBreaks\\\\\\\\\\\\\": false, \\\\\\\\\\\\\"preview\\\\\\\\\\\\\": false, \\\\\\\\\\\\\"separator\\\\\\\\\\\\\": \\\\\\\\\\\\\",\\\\\\\\\\\\\", \\\\\\\\\\\\\"skipRows\\\\\\\\\\\\\": 0, \\\\\\\\\\\\\"skipRowsMode\\\\\\\\\\\\\": 0}, \\\\\\\\\\\\\"localData\\\\\\\\\\\\\": {}, \\\\\\\\\\\\\"isEnabled\\\\\\\\\\\\\": true, \\\\\\\\\\\\\"name\\\\\\\\\\\\\": null, \\\\\\\\\\\\\"annotation\\\\\\\\\\\\\": null}, {\\\\\\\\\\\\\"id\\\\\\\\\\\\\": \\\\\\\\\\\\\"f4c214fc-0459-4bf0-8eb5-55455b71651a\\\\\\\\\\\\\", \\\\\\\\\\\\\"type\\\\\\\\\\\\\": \\\\\\\\\\\\\"Microsoft.DPrep.DropColumnsBlock\\\\\\\\\\\\\", \\\\\\\\\\\\\"arguments\\\\\\\\\\\\\": {\\\\\\\\\\\\\"columns\\\\\\\\\\\\\": {\\\\\\\\\\\\\"type\\\\\\\\\\\\\": 0, \\\\\\\\\\\\\"details\\\\\\\\\\\\\": {\\\\\\\\\\\\\"selectedColumns\\\\\\\\\\\\\": [\\\\\\\\\\\\\"Path\\\\\\\\\\\\\"]}}}, \\\\\\\\\\\\\"localData\\\\\\\\\\\\\": {}, \\\\\\\\\\\\\"isEnabled\\\\\\\\\\\\\": true, \\\\\\\\\\\\\"name\\\\\\\\\\\\\": null, \\\\\\\\\\\\\"annotation\\\\\\\\\\\\\": null}, {\\\\\\\\\\\\\"id\\\\\\\\\\\\\": \\\\\\\\\\\\\"3ccfccdf-d45d-4f5a-ad46-86f659ce0747\\\\\\\\\\\\\", \\\\\\\\\\\\\"type\\\\\\\\\\\\\": \\\\\\\\\\\\\"Microsoft.DPrep.SetColumnTypesBlock\\\\\\\\\\\\\", \\\\\\\\\\\\\"arguments\\\\\\\\\\\\\": {\\\\\\\\\\\\\"columnConversion\\\\\\\\\\\\\": [{\\\\\\\\\\\\\"column\\\\\\\\\\\\\": {\\\\\\\\\\\\\"type\\\\\\\\\\\\\": 2, \\\\\\\\\\\\\"details\\\\\\\\\\\\\": {\\\\\\\\\\\\\"selectedColumn\\\\\\\\\\\\\": \\\\\\\\\\\\\"Column1\\\\\\\\\\\\\"}}, \\\\\\\\\\\\\"typeProperty\\\\\\\\\\\\\": 2}, {\\\\\\\\\\\\\"column\\\\\\\\\\\\\": {\\\\\\\\\\\\\"type\\\\\\\\\\\\\": 2, \\\\\\\\\\\\\"details\\\\\\\\\\\\\": {\\\\\\\\\\\\\"selectedColumn\\\\\\\\\\\\\": \\\\\\\\\\\\\"age\\\\\\\\\\\\\"}}, \\\\\\\\\\\\\"typeProperty\\\\\\\\\\\\\": 2}, {\\\\\\\\\\\\\"column\\\\\\\\\\\\\": {\\\\\\\\\\\\\"type\\\\\\\\\\\\\": 2, \\\\\\\\\\\\\"details\\\\\\\\\\\\\": {\\\\\\\\\\\\\"selectedColumn\\\\\\\\\\\\\": \\\\\\\\\\\\\"sex\\\\\\\\\\\\\"}}, \\\\\\\\\\\\\"typeProperty\\\\\\\\\\\\\": 2}, {\\\\\\\\\\\\\"column\\\\\\\\\\\\\": {\\\\\\\\\\\\\"type\\\\\\\\\\\\\": 2, \\\\\\\\\\\\\"details\\\\\\\\\\\\\": {\\\\\\\\\\\\\"selectedColumn\\\\\\\\\\\\\": \\\\\\\\\\\\\"chest_pain_type\\\\\\\\\\\\\"}}, \\\\\\\\\\\\\"typeProperty\\\\\\\\\\\\\": 2}, {\\\\\\\\\\\\\"column\\\\\\\\\\\\\": {\\\\\\\\\\\\\"type\\\\\\\\\\\\\": 2, \\\\\\\\\\\\\"details\\\\\\\\\\\\\": {\\\\\\\\\\\\\"selectedColumn\\\\\\\\\\\\\": \\\\\\\\\\\\\"resting_BP\\\\\\\\\\\\\"}}, \\\\\\\\\\\\\"typeProperty\\\\\\\\\\\\\": 2}, {\\\\\\\\\\\\\"column\\\\\\\\\\\\\": {\\\\\\\\\\\\\"type\\\\\\\\\\\\\": 2, \\\\\\\\\\\\\"details\\\\\\\\\\\\\": {\\\\\\\\\\\\\"selectedColumn\\\\\\\\\\\\\": \\\\\\\\\\\\\"cholesterol\\\\\\\\\\\\\"}}, \\\\\\\\\\\\\"typeProperty\\\\\\\\\\\\\": 2}, {\\\\\\\\\\\\\"column\\\\\\\\\\\\\": {\\\\\\\\\\\\\"type\\\\\\\\\\\\\": 2, \\\\\\\\\\\\\"details\\\\\\\\\\\\\": {\\\\\\\\\\\\\"selectedColumn\\\\\\\\\\\\\": \\\\\\\\\\\\\"fasting_blood_sugar\\\\\\\\\\\\\"}}, \\\\\\\\\\\\\"typeProperty\\\\\\\\\\\\\": 2}, {\\\\\\\\\\\\\"column\\\\\\\\\\\\\": {\\\\\\\\\\\\\"type\\\\\\\\\\\\\": 2, \\\\\\\\\\\\\"details\\\\\\\\\\\\\": {\\\\\\\\\\\\\"selectedColumn\\\\\\\\\\\\\": \\\\\\\\\\\\\"rest_ecg\\\\\\\\\\\\\"}}, \\\\\\\\\\\\\"typeProperty\\\\\\\\\\\\\": 2}, {\\\\\\\\\\\\\"column\\\\\\\\\\\\\": {\\\\\\\\\\\\\"type\\\\\\\\\\\\\": 2, \\\\\\\\\\\\\"details\\\\\\\\\\\\\": {\\\\\\\\\\\\\"selectedColumn\\\\\\\\\\\\\": \\\\\\\\\\\\\"max_heart_rate\\\\\\\\\\\\\"}}, \\\\\\\\\\\\\"typeProperty\\\\\\\\\\\\\": 2}, {\\\\\\\\\\\\\"column\\\\\\\\\\\\\": {\\\\\\\\\\\\\"type\\\\\\\\\\\\\": 2, \\\\\\\\\\\\\"details\\\\\\\\\\\\\": {\\\\\\\\\\\\\"selectedColumn\\\\\\\\\\\\\": \\\\\\\\\\\\\"exercise_induced_angina\\\\\\\\\\\\\"}}, \\\\\\\\\\\\\"typeProperty\\\\\\\\\\\\\": 2}, {\\\\\\\\\\\\\"column\\\\\\\\\\\\\": {\\\\\\\\\\\\\"type\\\\\\\\\\\\\": 2, \\\\\\\\\\\\\"details\\\\\\\\\\\\\": {\\\\\\\\\\\\\"selectedColumn\\\\\\\\\\\\\": \\\\\\\\\\\\\"st_depression\\\\\\\\\\\\\"}}, \\\\\\\\\\\\\"typeProperty\\\\\\\\\\\\\": 3}, {\\\\\\\\\\\\\"column\\\\\\\\\\\\\": {\\\\\\\\\\\\\"type\\\\\\\\\\\\\": 2, \\\\\\\\\\\\\"details\\\\\\\\\\\\\": {\\\\\\\\\\\\\"selectedColumn\\\\\\\\\\\\\": \\\\\\\\\\\\\"st_slope\\\\\\\\\\\\\"}}, \\\\\\\\\\\\\"typeProperty\\\\\\\\\\\\\": 2}, {\\\\\\\\\\\\\"column\\\\\\\\\\\\\": {\\\\\\\\\\\\\"type\\\\\\\\\\\\\": 2, \\\\\\\\\\\\\"details\\\\\\\\\\\\\": {\\\\\\\\\\\\\"selectedColumn\\\\\\\\\\\\\": \\\\\\\\\\\\\"num_major_vessels\\\\\\\\\\\\\"}}, \\\\\\\\\\\\\"typeProperty\\\\\\\\\\\\\": 2}, {\\\\\\\\\\\\\"column\\\\\\\\\\\\\": {\\\\\\\\\\\\\"type\\\\\\\\\\\\\": 2, \\\\\\\\\\\\\"details\\\\\\\\\\\\\": {\\\\\\\\\\\\\"selectedColumn\\\\\\\\\\\\\": \\\\\\\\\\\\\"thalassemia\\\\\\\\\\\\\"}}, \\\\\\\\\\\\\"typeProperty\\\\\\\\\\\\\": 2}, {\\\\\\\\\\\\\"column\\\\\\\\\\\\\": {\\\\\\\\\\\\\"type\\\\\\\\\\\\\": 2, \\\\\\\\\\\\\"details\\\\\\\\\\\\\": {\\\\\\\\\\\\\"selectedColumn\\\\\\\\\\\\\": \\\\\\\\\\\\\"target\\\\\\\\\\\\\"}}, \\\\\\\\\\\\\"typeProperty\\\\\\\\\\\\\": 2}]}, \\\\\\\\\\\\\"localData\\\\\\\\\\\\\": {}, \\\\\\\\\\\\\"isEnabled\\\\\\\\\\\\\": true, \\\\\\\\\\\\\"name\\\\\\\\\\\\\": null, \\\\\\\\\\\\\"annotation\\\\\\\\\\\\\": null}], \\\\\\\\\\\\\"inspectors\\\\\\\\\\\\\": [], \\\\\\\\\\\\\"meta\\\\\\\\\\\\\": {\\\\\\\\\\\\\"savedDatasetId\\\\\\\\\\\\\": \\\\\\\\\\\\\"87087c23-c3a4-4870-b8ba-37cd4cade867\\\\\\\\\\\\\", \\\\\\\\\\\\\"datasetType\\\\\\\\\\\\\": \\\\\\\\\\\\\"tabular\\\\\\\\\\\\\", \\\\\\\\\\\\\"subscriptionId\\\\\\\\\\\\\": \\\\\\\\\\\\\"5a4ab2ba-6c51-4805-8155-58759ad589d8\\\\\\\\\\\\\", \\\\\\\\\\\\\"workspaceId\\\\\\\\\\\\\": \\\\\\\\\\\\\"b80ee575-7924-47f1-9e41-6a888cb3ee3b\\\\\\\\\\\\\", \\\\\\\\\\\\\"workspaceLocation\\\\\\\\\\\\\": \\\\\\\\\\\\\"southcentralus\\\\\\\\\\\\\"}}\\\\\", \\\\\"activities\\\\\": 0}',\n",
       "  'EnableSubsampling': None,\n",
       "  'runTemplate': 'AutoML',\n",
       "  'azureml.runsource': 'automl',\n",
       "  'display_task_type': 'classification',\n",
       "  'dependencies_versions': '{\"azureml-widgets\": \"1.20.0\", \"azureml-train\": \"1.20.0\", \"azureml-train-restclients-hyperdrive\": \"1.20.0\", \"azureml-train-core\": \"1.20.0\", \"azureml-train-automl\": \"1.20.0\", \"azureml-train-automl-runtime\": \"1.20.0\", \"azureml-train-automl-client\": \"1.20.0\", \"azureml-tensorboard\": \"1.20.0\", \"azureml-telemetry\": \"1.20.0\", \"azureml-sdk\": \"1.20.0\", \"azureml-samples\": \"0+unknown\", \"azureml-pipeline\": \"1.20.0\", \"azureml-pipeline-steps\": \"1.20.0\", \"azureml-pipeline-core\": \"1.20.0\", \"azureml-opendatasets\": \"1.20.0\", \"azureml-model-management-sdk\": \"1.0.1b6.post1\", \"azureml-mlflow\": \"1.20.0.post1\", \"azureml-interpret\": \"1.20.0\", \"azureml-explain-model\": \"1.20.0\", \"azureml-defaults\": \"1.20.0\", \"azureml-dataset-runtime\": \"1.20.0\", \"azureml-dataprep\": \"2.7.3\", \"azureml-dataprep-rslex\": \"1.5.0\", \"azureml-dataprep-native\": \"27.0.0\", \"azureml-datadrift\": \"1.20.0\", \"azureml-core\": \"1.20.0\", \"azureml-contrib-services\": \"1.20.0\", \"azureml-contrib-server\": \"1.20.0\", \"azureml-contrib-reinforcementlearning\": \"1.20.0\", \"azureml-contrib-pipeline-steps\": \"1.20.0\", \"azureml-contrib-notebook\": \"1.20.0\", \"azureml-contrib-interpret\": \"1.20.0\", \"azureml-contrib-gbdt\": \"1.20.0\", \"azureml-contrib-fairness\": \"1.20.0\", \"azureml-contrib-dataset\": \"1.20.0\", \"azureml-cli-common\": \"1.20.0\", \"azureml-automl-runtime\": \"1.20.0\", \"azureml-automl-core\": \"1.20.0\", \"azureml-accel-models\": \"1.20.0\"}',\n",
       "  '_aml_system_scenario_identification': 'Remote.Parent',\n",
       "  'ClientType': 'SDK',\n",
       "  'environment_cpu_name': 'AzureML-AutoML',\n",
       "  'environment_cpu_label': 'prod',\n",
       "  'environment_gpu_name': 'AzureML-AutoML-GPU',\n",
       "  'environment_gpu_label': 'prod',\n",
       "  'root_attribution': 'automl',\n",
       "  'attribution': 'AutoML',\n",
       "  'Orchestrator': 'AutoML',\n",
       "  'CancelUri': 'https://southcentralus.experiments.azureml.net/jasmine/v1.0/subscriptions/5a4ab2ba-6c51-4805-8155-58759ad589d8/resourceGroups/aml-quickstarts-136719/providers/Microsoft.MachineLearningServices/workspaces/quick-starts-ws-136719/experimentids/dcae497c-1c9b-457a-9885-bd55ccb3b417/cancel/AutoML_da0a796e-f542-4147-bd85-5af3ab81a563',\n",
       "  'ClientSdkVersion': '1.20.0.post1',\n",
       "  'snapshotId': '00000000-0000-0000-0000-000000000000',\n",
       "  'SetupRunId': 'AutoML_da0a796e-f542-4147-bd85-5af3ab81a563_setup',\n",
       "  'SetupRunContainerId': 'dcid.AutoML_da0a796e-f542-4147-bd85-5af3ab81a563_setup',\n",
       "  'FeaturizationRunJsonPath': 'featurizer_container.json',\n",
       "  'FeaturizationRunId': 'AutoML_da0a796e-f542-4147-bd85-5af3ab81a563_featurize',\n",
       "  'ProblemInfoJsonString': '{\"dataset_num_categorical\": 0, \"is_sparse\": true, \"subsampling\": false, \"dataset_classes\": 2, \"dataset_features\": 28, \"dataset_samples\": 212, \"single_frequency_class_detected\": false}',\n",
       "  'ModelExplainRunId': 'AutoML_da0a796e-f542-4147-bd85-5af3ab81a563_ModelExplain',\n",
       "  'azureml.git.repository_uri': 'https://github.com/bharati-21/AZMLND-Capstone-Project.git',\n",
       "  'mlflow.source.git.repoURL': 'https://github.com/bharati-21/AZMLND-Capstone-Project.git',\n",
       "  'azureml.git.branch': 'master',\n",
       "  'mlflow.source.git.branch': 'master',\n",
       "  'azureml.git.commit': '0fcd5d2f1ce94c75eb96c4788b64d875db9b74fe',\n",
       "  'mlflow.source.git.commit': '0fcd5d2f1ce94c75eb96c4788b64d875db9b74fe',\n",
       "  'azureml.git.dirty': 'True'},\n",
       " 'inputDatasets': [{'dataset': {'id': '87087c23-c3a4-4870-b8ba-37cd4cade867'}, 'consumptionDetails': {'type': 'RunInput', 'inputName': 'training_data', 'mechanism': 'Direct'}}],\n",
       " 'outputDatasets': [],\n",
       " 'logFiles': {},\n",
       " 'submittedBy': 'ODL_User 136719'}"
      ]
     },
     "execution_count": 39,
     "metadata": {},
     "output_type": "execute_result"
    }
   ],
   "source": [
    "from azureml.widgets import RunDetails\n",
    "\n",
    "RunDetails(remote_run).show()\n",
    "remote_run.wait_for_completion(show_output=True)"
   ]
  },
  {
   "cell_type": "markdown",
   "metadata": {},
   "source": [
    "## Best Model\n",
    "\n",
    "TODO: In the cell below, get the best model from the automl experiments and display all the properties of the model.\n",
    "\n"
   ]
  },
  {
   "cell_type": "code",
   "execution_count": 40,
   "metadata": {
    "gather": {
     "logged": 1598431425670
    },
    "jupyter": {
     "outputs_hidden": false,
     "source_hidden": false
    },
    "nteract": {
     "transient": {
      "deleting": false
     }
    }
   },
   "outputs": [
    {
     "name": "stdout",
     "output_type": "stream",
     "text": [
      "Run(Experiment: Heart_Disease_Kaggle_AutoML,\n",
      "Id: AutoML_da0a796e-f542-4147-bd85-5af3ab81a563_29,\n",
      "Type: azureml.scriptrun,\n",
      "Status: Completed)\n"
     ]
    }
   ],
   "source": [
    "best_run, fitted_model = remote_run.get_output()\n",
    "print(best_run)"
   ]
  },
  {
   "cell_type": "code",
   "execution_count": null,
   "metadata": {},
   "outputs": [],
   "source": [
    "print(fitted_model)"
   ]
  },
  {
   "cell_type": "code",
   "execution_count": null,
   "metadata": {},
   "outputs": [],
   "source": [
    "best_run.get_tags()"
   ]
  },
  {
   "cell_type": "code",
   "execution_count": null,
   "metadata": {
    "gather": {
     "logged": 1598431426111
    },
    "jupyter": {
     "outputs_hidden": false,
     "source_hidden": false
    },
    "nteract": {
     "transient": {
      "deleting": false
     }
    }
   },
   "outputs": [],
   "source": [
    "import joblib\n",
    "from azureml.core.model import Model\n",
    "\n",
    "#TODO: Save the best model\n",
    "\n",
    "description = \"Best Model from AutoML run of the Cleveland Foundation Clinic Heart Disease Dataset\"\n",
    "automl_model = remote_run.register_model(model_name='heart_disease_autoML_best_model.pkl', description=description)"
   ]
  },
  {
   "cell_type": "markdown",
   "metadata": {},
   "source": [
    "## Model Deployment\n",
    "\n",
    "Remember you have to deploy only one of the two models you trained.. Perform the steps in the rest of this notebook only if you wish to deploy this model.\n",
    "\n",
    "TODO: In the cell below, register the model, create an inference config and deploy the model as a web service."
   ]
  },
  {
   "cell_type": "code",
   "execution_count": null,
   "metadata": {
    "gather": {
     "logged": 1598431435189
    },
    "jupyter": {
     "outputs_hidden": false,
     "source_hidden": false
    },
    "nteract": {
     "transient": {
      "deleting": false
     }
    }
   },
   "outputs": [],
   "source": []
  },
  {
   "cell_type": "markdown",
   "metadata": {
    "collapsed": true,
    "gather": {
     "logged": 1598431657736
    },
    "jupyter": {
     "outputs_hidden": false,
     "source_hidden": false
    },
    "nteract": {
     "transient": {
      "deleting": false
     }
    }
   },
   "source": [
    "TODO: In the cell below, send a request to the web service you deployed to test it."
   ]
  },
  {
   "cell_type": "code",
   "execution_count": null,
   "metadata": {
    "gather": {
     "logged": 1598432707604
    },
    "jupyter": {
     "outputs_hidden": false,
     "source_hidden": false
    },
    "nteract": {
     "transient": {
      "deleting": false
     }
    }
   },
   "outputs": [],
   "source": []
  },
  {
   "cell_type": "markdown",
   "metadata": {
    "collapsed": true,
    "gather": {
     "logged": 1598432765711
    },
    "jupyter": {
     "outputs_hidden": false,
     "source_hidden": false
    },
    "nteract": {
     "transient": {
      "deleting": false
     }
    }
   },
   "source": [
    "TODO: In the cell below, print the logs of the web service and delete the service"
   ]
  },
  {
   "cell_type": "code",
   "execution_count": null,
   "metadata": {
    "jupyter": {
     "outputs_hidden": false,
     "source_hidden": false
    },
    "nteract": {
     "transient": {
      "deleting": false
     }
    }
   },
   "outputs": [],
   "source": []
  }
 ],
 "metadata": {
  "kernel_info": {
   "name": "python3-azureml"
  },
  "kernelspec": {
   "display_name": "Python 3",
   "language": "python",
   "name": "python3"
  },
  "language_info": {
   "codemirror_mode": {
    "name": "ipython",
    "version": 3
   },
   "file_extension": ".py",
   "mimetype": "text/x-python",
   "name": "python",
   "nbconvert_exporter": "python",
   "pygments_lexer": "ipython3",
   "version": "3.6.9"
  },
  "nteract": {
   "version": "nteract-front-end@1.0.0"
  }
 },
 "nbformat": 4,
 "nbformat_minor": 2
}
